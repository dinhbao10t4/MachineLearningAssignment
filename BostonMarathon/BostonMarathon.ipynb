{
 "cells": [
  {
   "cell_type": "code",
   "execution_count": 1,
   "metadata": {},
   "outputs": [],
   "source": [
    "#load library\n",
    "import pandas as pd\n",
    "import numpy as np\n",
    "import matplotlib.pyplot as plt\n",
    "import seaborn as sns\n",
    "\n",
    "from sklearn import metrics\n",
    "from sklearn.cluster import KMeans\n",
    "from sklearn.decomposition import PCA\n",
    "from sklearn.preprocessing import scale\n",
    "\n",
    "from sklearn import preprocessing\n",
    "\n",
    "%matplotlib inline\n",
    "\n",
    "# set seed for reproducibility\n",
    "np.random.seed(0)"
   ]
  },
  {
   "cell_type": "code",
   "execution_count": 2,
   "metadata": {},
   "outputs": [],
   "source": [
    "# read in all our data\n",
    "boston_marathon = pd.read_csv('results.csv')"
   ]
  },
  {
   "cell_type": "code",
   "execution_count": 3,
   "metadata": {},
   "outputs": [],
   "source": [
    "pd.set_option('display.max_columns', None)"
   ]
  },
  {
   "cell_type": "code",
   "execution_count": 4,
   "metadata": {},
   "outputs": [
    {
     "data": {
      "text/html": [
       "<div>\n",
       "<style scoped>\n",
       "    .dataframe tbody tr th:only-of-type {\n",
       "        vertical-align: middle;\n",
       "    }\n",
       "\n",
       "    .dataframe tbody tr th {\n",
       "        vertical-align: top;\n",
       "    }\n",
       "\n",
       "    .dataframe thead th {\n",
       "        text-align: right;\n",
       "    }\n",
       "</style>\n",
       "<table border=\"1\" class=\"dataframe\">\n",
       "  <thead>\n",
       "    <tr style=\"text-align: right;\">\n",
       "      <th></th>\n",
       "      <th>25k</th>\n",
       "      <th>age</th>\n",
       "      <th>name</th>\n",
       "      <th>division</th>\n",
       "      <th>10k</th>\n",
       "      <th>gender</th>\n",
       "      <th>half</th>\n",
       "      <th>official</th>\n",
       "      <th>bib</th>\n",
       "      <th>ctz</th>\n",
       "      <th>country</th>\n",
       "      <th>overall</th>\n",
       "      <th>pace</th>\n",
       "      <th>state</th>\n",
       "      <th>30k</th>\n",
       "      <th>5k</th>\n",
       "      <th>genderdiv</th>\n",
       "      <th>20k</th>\n",
       "      <th>35k</th>\n",
       "      <th>city</th>\n",
       "      <th>40k</th>\n",
       "    </tr>\n",
       "  </thead>\n",
       "  <tbody>\n",
       "    <tr>\n",
       "      <th>0</th>\n",
       "      <td>49.87</td>\n",
       "      <td>28</td>\n",
       "      <td>Cassidy, Josh R.</td>\n",
       "      <td>9</td>\n",
       "      <td>18.18</td>\n",
       "      <td>M</td>\n",
       "      <td>40.93</td>\n",
       "      <td>90.90</td>\n",
       "      <td>W1</td>\n",
       "      <td>NaN</td>\n",
       "      <td>CAN</td>\n",
       "      <td>9</td>\n",
       "      <td>3.47</td>\n",
       "      <td>ON</td>\n",
       "      <td>62.07</td>\n",
       "      <td>8.90</td>\n",
       "      <td>9</td>\n",
       "      <td>38.80</td>\n",
       "      <td>74.73</td>\n",
       "      <td>Toronto</td>\n",
       "      <td>85.55</td>\n",
       "    </tr>\n",
       "    <tr>\n",
       "      <th>1</th>\n",
       "      <td>77.27</td>\n",
       "      <td>30</td>\n",
       "      <td>Korir, Wesley</td>\n",
       "      <td>5</td>\n",
       "      <td>30.90</td>\n",
       "      <td>M</td>\n",
       "      <td>64.90</td>\n",
       "      <td>132.50</td>\n",
       "      <td>1</td>\n",
       "      <td>NaN</td>\n",
       "      <td>KEN</td>\n",
       "      <td>5</td>\n",
       "      <td>5.07</td>\n",
       "      <td>NaN</td>\n",
       "      <td>92.97</td>\n",
       "      <td>15.90</td>\n",
       "      <td>5</td>\n",
       "      <td>61.52</td>\n",
       "      <td>108.78</td>\n",
       "      <td>Kenya</td>\n",
       "      <td>124.77</td>\n",
       "    </tr>\n",
       "    <tr>\n",
       "      <th>2</th>\n",
       "      <td>77.23</td>\n",
       "      <td>23</td>\n",
       "      <td>Desisa, Lelisa</td>\n",
       "      <td>1</td>\n",
       "      <td>30.90</td>\n",
       "      <td>M</td>\n",
       "      <td>64.92</td>\n",
       "      <td>130.37</td>\n",
       "      <td>2</td>\n",
       "      <td>NaN</td>\n",
       "      <td>ETH</td>\n",
       "      <td>1</td>\n",
       "      <td>4.98</td>\n",
       "      <td>NaN</td>\n",
       "      <td>92.72</td>\n",
       "      <td>15.93</td>\n",
       "      <td>1</td>\n",
       "      <td>61.53</td>\n",
       "      <td>108.68</td>\n",
       "      <td>Ambo</td>\n",
       "      <td>123.78</td>\n",
       "    </tr>\n",
       "    <tr>\n",
       "      <th>3</th>\n",
       "      <td>50.50</td>\n",
       "      <td>32</td>\n",
       "      <td>Fearnley, Kurt H.</td>\n",
       "      <td>5</td>\n",
       "      <td>18.73</td>\n",
       "      <td>M</td>\n",
       "      <td>42.00</td>\n",
       "      <td>88.43</td>\n",
       "      <td>W2</td>\n",
       "      <td>NaN</td>\n",
       "      <td>AUS</td>\n",
       "      <td>5</td>\n",
       "      <td>3.38</td>\n",
       "      <td>NaN</td>\n",
       "      <td>61.35</td>\n",
       "      <td>8.98</td>\n",
       "      <td>5</td>\n",
       "      <td>39.88</td>\n",
       "      <td>73.00</td>\n",
       "      <td>Hamilton</td>\n",
       "      <td>83.43</td>\n",
       "    </tr>\n",
       "    <tr>\n",
       "      <th>4</th>\n",
       "      <td>48.75</td>\n",
       "      <td>39</td>\n",
       "      <td>Hokinoue, Kota</td>\n",
       "      <td>3</td>\n",
       "      <td>18.18</td>\n",
       "      <td>M</td>\n",
       "      <td>40.57</td>\n",
       "      <td>87.22</td>\n",
       "      <td>W3</td>\n",
       "      <td>NaN</td>\n",
       "      <td>JPN</td>\n",
       "      <td>3</td>\n",
       "      <td>3.33</td>\n",
       "      <td>NaN</td>\n",
       "      <td>59.92</td>\n",
       "      <td>8.92</td>\n",
       "      <td>3</td>\n",
       "      <td>38.55</td>\n",
       "      <td>71.68</td>\n",
       "      <td>Iizuka</td>\n",
       "      <td>81.88</td>\n",
       "    </tr>\n",
       "  </tbody>\n",
       "</table>\n",
       "</div>"
      ],
      "text/plain": [
       "     25k  age               name  division    10k gender   half  official bib  \\\n",
       "0  49.87   28   Cassidy, Josh R.         9  18.18      M  40.93     90.90  W1   \n",
       "1  77.27   30      Korir, Wesley         5  30.90      M  64.90    132.50   1   \n",
       "2  77.23   23     Desisa, Lelisa         1  30.90      M  64.92    130.37   2   \n",
       "3  50.50   32  Fearnley, Kurt H.         5  18.73      M  42.00     88.43  W2   \n",
       "4  48.75   39     Hokinoue, Kota         3  18.18      M  40.57     87.22  W3   \n",
       "\n",
       "   ctz country  overall  pace state    30k     5k  genderdiv    20k     35k  \\\n",
       "0  NaN     CAN        9  3.47    ON  62.07   8.90          9  38.80   74.73   \n",
       "1  NaN     KEN        5  5.07   NaN  92.97  15.90          5  61.52  108.78   \n",
       "2  NaN     ETH        1  4.98   NaN  92.72  15.93          1  61.53  108.68   \n",
       "3  NaN     AUS        5  3.38   NaN  61.35   8.98          5  39.88   73.00   \n",
       "4  NaN     JPN        3  3.33   NaN  59.92   8.92          3  38.55   71.68   \n",
       "\n",
       "       city     40k  \n",
       "0   Toronto   85.55  \n",
       "1     Kenya  124.77  \n",
       "2      Ambo  123.78  \n",
       "3  Hamilton   83.43  \n",
       "4    Iizuka   81.88  "
      ]
     },
     "execution_count": 4,
     "metadata": {},
     "output_type": "execute_result"
    }
   ],
   "source": [
    "boston_marathon.head()"
   ]
  },
  {
   "cell_type": "code",
   "execution_count": 5,
   "metadata": {},
   "outputs": [
    {
     "data": {
      "text/html": [
       "<div>\n",
       "<style scoped>\n",
       "    .dataframe tbody tr th:only-of-type {\n",
       "        vertical-align: middle;\n",
       "    }\n",
       "\n",
       "    .dataframe tbody tr th {\n",
       "        vertical-align: top;\n",
       "    }\n",
       "\n",
       "    .dataframe thead th {\n",
       "        text-align: right;\n",
       "    }\n",
       "</style>\n",
       "<table border=\"1\" class=\"dataframe\">\n",
       "  <thead>\n",
       "    <tr style=\"text-align: right;\">\n",
       "      <th></th>\n",
       "      <th>25k</th>\n",
       "      <th>age</th>\n",
       "      <th>name</th>\n",
       "      <th>division</th>\n",
       "      <th>10k</th>\n",
       "      <th>gender</th>\n",
       "      <th>half</th>\n",
       "      <th>official</th>\n",
       "      <th>bib</th>\n",
       "      <th>ctz</th>\n",
       "      <th>country</th>\n",
       "      <th>overall</th>\n",
       "      <th>pace</th>\n",
       "      <th>state</th>\n",
       "      <th>30k</th>\n",
       "      <th>5k</th>\n",
       "      <th>genderdiv</th>\n",
       "      <th>20k</th>\n",
       "      <th>35k</th>\n",
       "      <th>city</th>\n",
       "      <th>40k</th>\n",
       "    </tr>\n",
       "  </thead>\n",
       "  <tbody>\n",
       "    <tr>\n",
       "      <th>16159</th>\n",
       "      <td>144.85</td>\n",
       "      <td>65</td>\n",
       "      <td>Loy, Judy</td>\n",
       "      <td>6</td>\n",
       "      <td>57.57</td>\n",
       "      <td>F</td>\n",
       "      <td>121.98</td>\n",
       "      <td>247.47</td>\n",
       "      <td>20854</td>\n",
       "      <td>NaN</td>\n",
       "      <td>USA</td>\n",
       "      <td>17014</td>\n",
       "      <td>9.45</td>\n",
       "      <td>WA</td>\n",
       "      <td>174.75</td>\n",
       "      <td>28.50</td>\n",
       "      <td>6686</td>\n",
       "      <td>115.63</td>\n",
       "      <td>204.83</td>\n",
       "      <td>Vancouver</td>\n",
       "      <td>234.48</td>\n",
       "    </tr>\n",
       "    <tr>\n",
       "      <th>16160</th>\n",
       "      <td>133.32</td>\n",
       "      <td>64</td>\n",
       "      <td>Homeyer, Thomas F.</td>\n",
       "      <td>258</td>\n",
       "      <td>52.80</td>\n",
       "      <td>M</td>\n",
       "      <td>112.27</td>\n",
       "      <td>229.72</td>\n",
       "      <td>20856</td>\n",
       "      <td>NaN</td>\n",
       "      <td>USA</td>\n",
       "      <td>13796</td>\n",
       "      <td>8.77</td>\n",
       "      <td>NY</td>\n",
       "      <td>161.00</td>\n",
       "      <td>26.57</td>\n",
       "      <td>9024</td>\n",
       "      <td>106.38</td>\n",
       "      <td>189.82</td>\n",
       "      <td>Tully</td>\n",
       "      <td>217.88</td>\n",
       "    </tr>\n",
       "    <tr>\n",
       "      <th>16161</th>\n",
       "      <td>139.83</td>\n",
       "      <td>75</td>\n",
       "      <td>Pain, Malcolm A</td>\n",
       "      <td>3</td>\n",
       "      <td>54.97</td>\n",
       "      <td>M</td>\n",
       "      <td>117.58</td>\n",
       "      <td>239.97</td>\n",
       "      <td>20870</td>\n",
       "      <td>NaN</td>\n",
       "      <td>CAN</td>\n",
       "      <td>16083</td>\n",
       "      <td>9.17</td>\n",
       "      <td>NS</td>\n",
       "      <td>168.82</td>\n",
       "      <td>27.48</td>\n",
       "      <td>9994</td>\n",
       "      <td>111.45</td>\n",
       "      <td>198.42</td>\n",
       "      <td>Halifax</td>\n",
       "      <td>227.53</td>\n",
       "    </tr>\n",
       "    <tr>\n",
       "      <th>16162</th>\n",
       "      <td>135.38</td>\n",
       "      <td>80</td>\n",
       "      <td>Wilson, Harold W</td>\n",
       "      <td>1</td>\n",
       "      <td>53.13</td>\n",
       "      <td>M</td>\n",
       "      <td>113.80</td>\n",
       "      <td>233.90</td>\n",
       "      <td>20907</td>\n",
       "      <td>NaN</td>\n",
       "      <td>USA</td>\n",
       "      <td>14768</td>\n",
       "      <td>8.93</td>\n",
       "      <td>TX</td>\n",
       "      <td>164.02</td>\n",
       "      <td>26.93</td>\n",
       "      <td>9434</td>\n",
       "      <td>107.85</td>\n",
       "      <td>192.80</td>\n",
       "      <td>Tyler</td>\n",
       "      <td>221.42</td>\n",
       "    </tr>\n",
       "    <tr>\n",
       "      <th>16163</th>\n",
       "      <td>144.95</td>\n",
       "      <td>61</td>\n",
       "      <td>Collins, Laurel M</td>\n",
       "      <td>49</td>\n",
       "      <td>57.57</td>\n",
       "      <td>F</td>\n",
       "      <td>121.55</td>\n",
       "      <td>249.15</td>\n",
       "      <td>20908</td>\n",
       "      <td>NaN</td>\n",
       "      <td>USA</td>\n",
       "      <td>17144</td>\n",
       "      <td>9.52</td>\n",
       "      <td>CA</td>\n",
       "      <td>175.82</td>\n",
       "      <td>28.93</td>\n",
       "      <td>6762</td>\n",
       "      <td>115.32</td>\n",
       "      <td>206.67</td>\n",
       "      <td>Berkeley</td>\n",
       "      <td>235.85</td>\n",
       "    </tr>\n",
       "  </tbody>\n",
       "</table>\n",
       "</div>"
      ],
      "text/plain": [
       "          25k  age                name  division    10k gender    half  \\\n",
       "16159  144.85   65           Loy, Judy         6  57.57      F  121.98   \n",
       "16160  133.32   64  Homeyer, Thomas F.       258  52.80      M  112.27   \n",
       "16161  139.83   75     Pain, Malcolm A         3  54.97      M  117.58   \n",
       "16162  135.38   80    Wilson, Harold W         1  53.13      M  113.80   \n",
       "16163  144.95   61   Collins, Laurel M        49  57.57      F  121.55   \n",
       "\n",
       "       official    bib  ctz country  overall  pace state     30k     5k  \\\n",
       "16159    247.47  20854  NaN     USA    17014  9.45    WA  174.75  28.50   \n",
       "16160    229.72  20856  NaN     USA    13796  8.77    NY  161.00  26.57   \n",
       "16161    239.97  20870  NaN     CAN    16083  9.17    NS  168.82  27.48   \n",
       "16162    233.90  20907  NaN     USA    14768  8.93    TX  164.02  26.93   \n",
       "16163    249.15  20908  NaN     USA    17144  9.52    CA  175.82  28.93   \n",
       "\n",
       "       genderdiv     20k     35k       city     40k  \n",
       "16159       6686  115.63  204.83  Vancouver  234.48  \n",
       "16160       9024  106.38  189.82      Tully  217.88  \n",
       "16161       9994  111.45  198.42    Halifax  227.53  \n",
       "16162       9434  107.85  192.80      Tyler  221.42  \n",
       "16163       6762  115.32  206.67   Berkeley  235.85  "
      ]
     },
     "execution_count": 5,
     "metadata": {},
     "output_type": "execute_result"
    }
   ],
   "source": [
    "boston_marathon.tail()"
   ]
  },
  {
   "cell_type": "code",
   "execution_count": 6,
   "metadata": {},
   "outputs": [
    {
     "data": {
      "text/plain": [
       "(16164, 21)"
      ]
     },
     "execution_count": 6,
     "metadata": {},
     "output_type": "execute_result"
    }
   ],
   "source": [
    "boston_marathon.shape"
   ]
  },
  {
   "cell_type": "code",
   "execution_count": 7,
   "metadata": {},
   "outputs": [
    {
     "data": {
      "text/plain": [
       "Index(['25k', 'age', 'name', 'division', '10k', 'gender', 'half', 'official',\n",
       "       'bib', 'ctz', 'country', 'overall', 'pace', 'state', '30k', '5k',\n",
       "       'genderdiv', '20k', '35k', 'city', '40k'],\n",
       "      dtype='object')"
      ]
     },
     "execution_count": 7,
     "metadata": {},
     "output_type": "execute_result"
    }
   ],
   "source": [
    "boston_marathon.columns"
   ]
  },
  {
   "cell_type": "code",
   "execution_count": 8,
   "metadata": {},
   "outputs": [
    {
     "data": {
      "text/html": [
       "<div>\n",
       "<style scoped>\n",
       "    .dataframe tbody tr th:only-of-type {\n",
       "        vertical-align: middle;\n",
       "    }\n",
       "\n",
       "    .dataframe tbody tr th {\n",
       "        vertical-align: top;\n",
       "    }\n",
       "\n",
       "    .dataframe thead th {\n",
       "        text-align: right;\n",
       "    }\n",
       "</style>\n",
       "<table border=\"1\" class=\"dataframe\">\n",
       "  <thead>\n",
       "    <tr style=\"text-align: right;\">\n",
       "      <th></th>\n",
       "      <th>count</th>\n",
       "      <th>mean</th>\n",
       "      <th>std</th>\n",
       "      <th>min</th>\n",
       "      <th>25%</th>\n",
       "      <th>50%</th>\n",
       "      <th>75%</th>\n",
       "      <th>max</th>\n",
       "    </tr>\n",
       "  </thead>\n",
       "  <tbody>\n",
       "    <tr>\n",
       "      <th>age</th>\n",
       "      <td>16164.0</td>\n",
       "      <td>41.638332</td>\n",
       "      <td>10.351311</td>\n",
       "      <td>18.00</td>\n",
       "      <td>34.0000</td>\n",
       "      <td>42.000</td>\n",
       "      <td>49.00</td>\n",
       "      <td>80.00</td>\n",
       "    </tr>\n",
       "    <tr>\n",
       "      <th>division</th>\n",
       "      <td>16164.0</td>\n",
       "      <td>1100.967025</td>\n",
       "      <td>942.114816</td>\n",
       "      <td>1.00</td>\n",
       "      <td>363.0000</td>\n",
       "      <td>842.000</td>\n",
       "      <td>1560.00</td>\n",
       "      <td>3834.00</td>\n",
       "    </tr>\n",
       "    <tr>\n",
       "      <th>official</th>\n",
       "      <td>16164.0</td>\n",
       "      <td>208.159470</td>\n",
       "      <td>23.743608</td>\n",
       "      <td>85.53</td>\n",
       "      <td>191.7275</td>\n",
       "      <td>209.225</td>\n",
       "      <td>225.23</td>\n",
       "      <td>284.23</td>\n",
       "    </tr>\n",
       "    <tr>\n",
       "      <th>overall</th>\n",
       "      <td>16164.0</td>\n",
       "      <td>8429.373422</td>\n",
       "      <td>5052.024116</td>\n",
       "      <td>1.00</td>\n",
       "      <td>4061.7500</td>\n",
       "      <td>8247.500</td>\n",
       "      <td>12662.25</td>\n",
       "      <td>17598.00</td>\n",
       "    </tr>\n",
       "    <tr>\n",
       "      <th>pace</th>\n",
       "      <td>16164.0</td>\n",
       "      <td>7.947398</td>\n",
       "      <td>0.905739</td>\n",
       "      <td>3.27</td>\n",
       "      <td>7.3200</td>\n",
       "      <td>7.980</td>\n",
       "      <td>8.60</td>\n",
       "      <td>10.85</td>\n",
       "    </tr>\n",
       "    <tr>\n",
       "      <th>genderdiv</th>\n",
       "      <td>16164.0</td>\n",
       "      <td>4351.684732</td>\n",
       "      <td>2772.398239</td>\n",
       "      <td>1.00</td>\n",
       "      <td>2032.7500</td>\n",
       "      <td>4113.500</td>\n",
       "      <td>6316.00</td>\n",
       "      <td>10648.00</td>\n",
       "    </tr>\n",
       "  </tbody>\n",
       "</table>\n",
       "</div>"
      ],
      "text/plain": [
       "             count         mean          std    min        25%       50%  \\\n",
       "age        16164.0    41.638332    10.351311  18.00    34.0000    42.000   \n",
       "division   16164.0  1100.967025   942.114816   1.00   363.0000   842.000   \n",
       "official   16164.0   208.159470    23.743608  85.53   191.7275   209.225   \n",
       "overall    16164.0  8429.373422  5052.024116   1.00  4061.7500  8247.500   \n",
       "pace       16164.0     7.947398     0.905739   3.27     7.3200     7.980   \n",
       "genderdiv  16164.0  4351.684732  2772.398239   1.00  2032.7500  4113.500   \n",
       "\n",
       "                75%       max  \n",
       "age           49.00     80.00  \n",
       "division    1560.00   3834.00  \n",
       "official     225.23    284.23  \n",
       "overall    12662.25  17598.00  \n",
       "pace           8.60     10.85  \n",
       "genderdiv   6316.00  10648.00  "
      ]
     },
     "execution_count": 8,
     "metadata": {},
     "output_type": "execute_result"
    }
   ],
   "source": [
    "boston_marathon.describe().T"
   ]
  },
  {
   "cell_type": "markdown",
   "metadata": {},
   "source": [
    "## Xử lý Missing Value"
   ]
  },
  {
   "cell_type": "code",
   "execution_count": 9,
   "metadata": {},
   "outputs": [
    {
     "data": {
      "text/plain": [
       "25k              0\n",
       "age              0\n",
       "name             0\n",
       "division         0\n",
       "10k              0\n",
       "gender           0\n",
       "half             0\n",
       "official         0\n",
       "bib              0\n",
       "ctz          15407\n",
       "country          0\n",
       "overall          0\n",
       "pace             0\n",
       "state         1463\n",
       "30k              0\n",
       "5k               0\n",
       "genderdiv        0\n",
       "20k              0\n",
       "35k              0\n",
       "city             1\n",
       "40k              0\n",
       "dtype: int64"
      ]
     },
     "execution_count": 9,
     "metadata": {},
     "output_type": "execute_result"
    }
   ],
   "source": [
    "# Số lượng điểm data bị thiếu trên mỗi cột\n",
    "missing_values_count = boston_marathon.isnull().sum()\n",
    "\n",
    "# Số lượng điểm data bị thiếu trên mỗi cột\n",
    "missing_values_count"
   ]
  },
  {
   "cell_type": "markdown",
   "metadata": {},
   "source": [
    "<b>Nhận Xét: </b>cột ctz thiếu rất nhiều dữ liệu nên xóa column này"
   ]
  },
  {
   "cell_type": "code",
   "execution_count": 10,
   "metadata": {},
   "outputs": [],
   "source": [
    "boston_marathon.drop(['ctz'], axis = 1, inplace = True)"
   ]
  },
  {
   "cell_type": "code",
   "execution_count": 11,
   "metadata": {},
   "outputs": [
    {
     "data": {
      "text/plain": [
       "CA    1347\n",
       "MA    1043\n",
       "NY    1004\n",
       "IL     732\n",
       "ON     717\n",
       "Name: state, dtype: int64"
      ]
     },
     "execution_count": 11,
     "metadata": {},
     "output_type": "execute_result"
    }
   ],
   "source": [
    "boston_marathon['state'].value_counts().head()"
   ]
  },
  {
   "cell_type": "markdown",
   "metadata": {},
   "source": [
    "<b>Nhận Xét: </b>cột state - những giá trị xuất hiện nhiều gần như nhau nên những dòng NAN sẽ được điền với giá trị mới là NAN_VAL"
   ]
  },
  {
   "cell_type": "code",
   "execution_count": 12,
   "metadata": {},
   "outputs": [],
   "source": [
    "boston_marathon['state'].fillna('NAN_VAL', inplace=True)"
   ]
  },
  {
   "cell_type": "code",
   "execution_count": 13,
   "metadata": {},
   "outputs": [
    {
     "data": {
      "text/plain": [
       "(16164, 20)"
      ]
     },
     "execution_count": 13,
     "metadata": {},
     "output_type": "execute_result"
    }
   ],
   "source": [
    "boston_marathon.shape"
   ]
  },
  {
   "cell_type": "code",
   "execution_count": 14,
   "metadata": {},
   "outputs": [],
   "source": [
    "boston_marathon = boston_marathon.dropna();"
   ]
  },
  {
   "cell_type": "code",
   "execution_count": 15,
   "metadata": {},
   "outputs": [
    {
     "data": {
      "text/plain": [
       "(16163, 20)"
      ]
     },
     "execution_count": 15,
     "metadata": {},
     "output_type": "execute_result"
    }
   ],
   "source": [
    "boston_marathon.shape"
   ]
  },
  {
   "cell_type": "code",
   "execution_count": 16,
   "metadata": {},
   "outputs": [
    {
     "data": {
      "text/html": [
       "<div>\n",
       "<style scoped>\n",
       "    .dataframe tbody tr th:only-of-type {\n",
       "        vertical-align: middle;\n",
       "    }\n",
       "\n",
       "    .dataframe tbody tr th {\n",
       "        vertical-align: top;\n",
       "    }\n",
       "\n",
       "    .dataframe thead th {\n",
       "        text-align: right;\n",
       "    }\n",
       "</style>\n",
       "<table border=\"1\" class=\"dataframe\">\n",
       "  <thead>\n",
       "    <tr style=\"text-align: right;\">\n",
       "      <th></th>\n",
       "      <th>25k</th>\n",
       "      <th>age</th>\n",
       "      <th>name</th>\n",
       "      <th>division</th>\n",
       "      <th>10k</th>\n",
       "      <th>gender</th>\n",
       "      <th>half</th>\n",
       "      <th>official</th>\n",
       "      <th>bib</th>\n",
       "      <th>country</th>\n",
       "      <th>overall</th>\n",
       "      <th>pace</th>\n",
       "      <th>state</th>\n",
       "      <th>30k</th>\n",
       "      <th>5k</th>\n",
       "      <th>genderdiv</th>\n",
       "      <th>20k</th>\n",
       "      <th>35k</th>\n",
       "      <th>city</th>\n",
       "      <th>40k</th>\n",
       "    </tr>\n",
       "  </thead>\n",
       "  <tbody>\n",
       "    <tr>\n",
       "      <th>0</th>\n",
       "      <td>49.87</td>\n",
       "      <td>28</td>\n",
       "      <td>Cassidy, Josh R.</td>\n",
       "      <td>9</td>\n",
       "      <td>18.18</td>\n",
       "      <td>M</td>\n",
       "      <td>40.93</td>\n",
       "      <td>90.90</td>\n",
       "      <td>W1</td>\n",
       "      <td>CAN</td>\n",
       "      <td>9</td>\n",
       "      <td>3.47</td>\n",
       "      <td>ON</td>\n",
       "      <td>62.07</td>\n",
       "      <td>8.90</td>\n",
       "      <td>9</td>\n",
       "      <td>38.80</td>\n",
       "      <td>74.73</td>\n",
       "      <td>Toronto</td>\n",
       "      <td>85.55</td>\n",
       "    </tr>\n",
       "    <tr>\n",
       "      <th>1</th>\n",
       "      <td>77.27</td>\n",
       "      <td>30</td>\n",
       "      <td>Korir, Wesley</td>\n",
       "      <td>5</td>\n",
       "      <td>30.90</td>\n",
       "      <td>M</td>\n",
       "      <td>64.90</td>\n",
       "      <td>132.50</td>\n",
       "      <td>1</td>\n",
       "      <td>KEN</td>\n",
       "      <td>5</td>\n",
       "      <td>5.07</td>\n",
       "      <td>NAN_VAL</td>\n",
       "      <td>92.97</td>\n",
       "      <td>15.90</td>\n",
       "      <td>5</td>\n",
       "      <td>61.52</td>\n",
       "      <td>108.78</td>\n",
       "      <td>Kenya</td>\n",
       "      <td>124.77</td>\n",
       "    </tr>\n",
       "    <tr>\n",
       "      <th>2</th>\n",
       "      <td>77.23</td>\n",
       "      <td>23</td>\n",
       "      <td>Desisa, Lelisa</td>\n",
       "      <td>1</td>\n",
       "      <td>30.90</td>\n",
       "      <td>M</td>\n",
       "      <td>64.92</td>\n",
       "      <td>130.37</td>\n",
       "      <td>2</td>\n",
       "      <td>ETH</td>\n",
       "      <td>1</td>\n",
       "      <td>4.98</td>\n",
       "      <td>NAN_VAL</td>\n",
       "      <td>92.72</td>\n",
       "      <td>15.93</td>\n",
       "      <td>1</td>\n",
       "      <td>61.53</td>\n",
       "      <td>108.68</td>\n",
       "      <td>Ambo</td>\n",
       "      <td>123.78</td>\n",
       "    </tr>\n",
       "    <tr>\n",
       "      <th>3</th>\n",
       "      <td>50.50</td>\n",
       "      <td>32</td>\n",
       "      <td>Fearnley, Kurt H.</td>\n",
       "      <td>5</td>\n",
       "      <td>18.73</td>\n",
       "      <td>M</td>\n",
       "      <td>42.00</td>\n",
       "      <td>88.43</td>\n",
       "      <td>W2</td>\n",
       "      <td>AUS</td>\n",
       "      <td>5</td>\n",
       "      <td>3.38</td>\n",
       "      <td>NAN_VAL</td>\n",
       "      <td>61.35</td>\n",
       "      <td>8.98</td>\n",
       "      <td>5</td>\n",
       "      <td>39.88</td>\n",
       "      <td>73.00</td>\n",
       "      <td>Hamilton</td>\n",
       "      <td>83.43</td>\n",
       "    </tr>\n",
       "    <tr>\n",
       "      <th>4</th>\n",
       "      <td>48.75</td>\n",
       "      <td>39</td>\n",
       "      <td>Hokinoue, Kota</td>\n",
       "      <td>3</td>\n",
       "      <td>18.18</td>\n",
       "      <td>M</td>\n",
       "      <td>40.57</td>\n",
       "      <td>87.22</td>\n",
       "      <td>W3</td>\n",
       "      <td>JPN</td>\n",
       "      <td>3</td>\n",
       "      <td>3.33</td>\n",
       "      <td>NAN_VAL</td>\n",
       "      <td>59.92</td>\n",
       "      <td>8.92</td>\n",
       "      <td>3</td>\n",
       "      <td>38.55</td>\n",
       "      <td>71.68</td>\n",
       "      <td>Iizuka</td>\n",
       "      <td>81.88</td>\n",
       "    </tr>\n",
       "  </tbody>\n",
       "</table>\n",
       "</div>"
      ],
      "text/plain": [
       "     25k  age               name  division    10k gender   half  official bib  \\\n",
       "0  49.87   28   Cassidy, Josh R.         9  18.18      M  40.93     90.90  W1   \n",
       "1  77.27   30      Korir, Wesley         5  30.90      M  64.90    132.50   1   \n",
       "2  77.23   23     Desisa, Lelisa         1  30.90      M  64.92    130.37   2   \n",
       "3  50.50   32  Fearnley, Kurt H.         5  18.73      M  42.00     88.43  W2   \n",
       "4  48.75   39     Hokinoue, Kota         3  18.18      M  40.57     87.22  W3   \n",
       "\n",
       "  country  overall  pace    state    30k     5k  genderdiv    20k     35k  \\\n",
       "0     CAN        9  3.47       ON  62.07   8.90          9  38.80   74.73   \n",
       "1     KEN        5  5.07  NAN_VAL  92.97  15.90          5  61.52  108.78   \n",
       "2     ETH        1  4.98  NAN_VAL  92.72  15.93          1  61.53  108.68   \n",
       "3     AUS        5  3.38  NAN_VAL  61.35   8.98          5  39.88   73.00   \n",
       "4     JPN        3  3.33  NAN_VAL  59.92   8.92          3  38.55   71.68   \n",
       "\n",
       "       city     40k  \n",
       "0   Toronto   85.55  \n",
       "1     Kenya  124.77  \n",
       "2      Ambo  123.78  \n",
       "3  Hamilton   83.43  \n",
       "4    Iizuka   81.88  "
      ]
     },
     "execution_count": 16,
     "metadata": {},
     "output_type": "execute_result"
    }
   ],
   "source": [
    "boston_marathon.head()"
   ]
  },
  {
   "cell_type": "code",
   "execution_count": 17,
   "metadata": {},
   "outputs": [
    {
     "data": {
      "text/plain": [
       "Index(['25k', 'age', 'name', 'division', '10k', 'gender', 'half', 'official',\n",
       "       'bib', 'country', 'overall', 'pace', 'state', '30k', '5k', 'genderdiv',\n",
       "       '20k', '35k', 'city', '40k'],\n",
       "      dtype='object')"
      ]
     },
     "execution_count": 17,
     "metadata": {},
     "output_type": "execute_result"
    }
   ],
   "source": [
    "boston_marathon.columns"
   ]
  },
  {
   "cell_type": "markdown",
   "metadata": {},
   "source": [
    "### Thống Kê số lượng dựa trên giới tính, độ tuổi"
   ]
  },
  {
   "cell_type": "code",
   "execution_count": 18,
   "metadata": {},
   "outputs": [
    {
     "data": {
      "text/html": [
       "<div>\n",
       "<style scoped>\n",
       "    .dataframe tbody tr th:only-of-type {\n",
       "        vertical-align: middle;\n",
       "    }\n",
       "\n",
       "    .dataframe tbody tr th {\n",
       "        vertical-align: top;\n",
       "    }\n",
       "\n",
       "    .dataframe thead th {\n",
       "        text-align: right;\n",
       "    }\n",
       "</style>\n",
       "<table border=\"1\" class=\"dataframe\">\n",
       "  <thead>\n",
       "    <tr style=\"text-align: right;\">\n",
       "      <th></th>\n",
       "      <th></th>\n",
       "      <th>name</th>\n",
       "    </tr>\n",
       "    <tr>\n",
       "      <th>age</th>\n",
       "      <th>gender</th>\n",
       "      <th></th>\n",
       "    </tr>\n",
       "  </thead>\n",
       "  <tbody>\n",
       "    <tr>\n",
       "      <th rowspan=\"2\" valign=\"top\">18</th>\n",
       "      <th>F</th>\n",
       "      <td>5</td>\n",
       "    </tr>\n",
       "    <tr>\n",
       "      <th>M</th>\n",
       "      <td>8</td>\n",
       "    </tr>\n",
       "    <tr>\n",
       "      <th rowspan=\"2\" valign=\"top\">19</th>\n",
       "      <th>F</th>\n",
       "      <td>14</td>\n",
       "    </tr>\n",
       "    <tr>\n",
       "      <th>M</th>\n",
       "      <td>12</td>\n",
       "    </tr>\n",
       "    <tr>\n",
       "      <th>20</th>\n",
       "      <th>F</th>\n",
       "      <td>23</td>\n",
       "    </tr>\n",
       "  </tbody>\n",
       "</table>\n",
       "</div>"
      ],
      "text/plain": [
       "            name\n",
       "age gender      \n",
       "18  F          5\n",
       "    M          8\n",
       "19  F         14\n",
       "    M         12\n",
       "20  F         23"
      ]
     },
     "execution_count": 18,
     "metadata": {},
     "output_type": "execute_result"
    }
   ],
   "source": [
    "counts = boston_marathon[['age', 'gender', 'name']].groupby(['age', 'gender']).count()\n",
    "counts.head()"
   ]
  },
  {
   "cell_type": "code",
   "execution_count": 19,
   "metadata": {},
   "outputs": [
    {
     "data": {
      "text/plain": [
       "Text(0,0.5,'Count')"
      ]
     },
     "execution_count": 19,
     "metadata": {},
     "output_type": "execute_result"
    },
    {
     "data": {
      "image/png": "[encoded data removed]",
      "text/plain": [
       "<matplotlib.figure.Figure at 0xb6c2ac8>"
      ]
     },
     "metadata": {},
     "output_type": "display_data"
    }
   ],
   "source": [
    "counts = counts.unstack(level=1)\n",
    "counts.columns = counts.columns.droplevel(level=0)\n",
    "counts = counts.fillna(0)\n",
    "ages = boston_marathon['age'].unique()\n",
    "plt.figure(figsize=(16,8))\n",
    "plt.bar(ages, counts['M'], bottom=None, color='blue', label='Male')\n",
    "plt.bar(ages, counts['F'], bottom=counts['M'], color='pink', label='FeMale')\n",
    "plt.legend()\n",
    "plt.xlabel('Ages')\n",
    "plt.ylabel('Count')"
   ]
  },
  {
   "cell_type": "markdown",
   "metadata": {},
   "source": [
    "<b>Nhận Xét: </b>Số lượng nam nhiều hơn số lượng nữ, số nam cao tuổi tham gia cũng nhiều hơn nữ"
   ]
  },
  {
   "cell_type": "markdown",
   "metadata": {},
   "source": [
    "### Chọn column để train"
   ]
  },
  {
   "cell_type": "code",
   "execution_count": 20,
   "metadata": {},
   "outputs": [],
   "source": [
    "feature_columns = ['25k', 'age', 'division', '10k', 'half', 'official',\n",
    "       'overall', 'pace', '30k', '5k', 'genderdiv', '20k', '35k', '40k', 'gender', 'country', 'state', 'city']\n",
    "X = boston_marathon[feature_columns]"
   ]
  },
  {
   "cell_type": "code",
   "execution_count": 21,
   "metadata": {},
   "outputs": [
    {
     "name": "stdout",
     "output_type": "stream",
     "text": [
      "<class 'pandas.core.frame.DataFrame'>\n",
      "Int64Index: 16163 entries, 0 to 16163\n",
      "Data columns (total 18 columns):\n",
      "25k          16163 non-null object\n",
      "age          16163 non-null int64\n",
      "division     16163 non-null int64\n",
      "10k          16163 non-null object\n",
      "half         16163 non-null object\n",
      "official     16163 non-null float64\n",
      "overall      16163 non-null int64\n",
      "pace         16163 non-null float64\n",
      "30k          16163 non-null object\n",
      "5k           16163 non-null object\n",
      "genderdiv    16163 non-null int64\n",
      "20k          16163 non-null object\n",
      "35k          16163 non-null object\n",
      "40k          16163 non-null object\n",
      "gender       16163 non-null object\n",
      "country      16163 non-null object\n",
      "state        16163 non-null object\n",
      "city         16163 non-null object\n",
      "dtypes: float64(2), int64(4), object(12)\n",
      "memory usage: 2.3+ MB\n"
     ]
    }
   ],
   "source": [
    "X.info()"
   ]
  },
  {
   "cell_type": "markdown",
   "metadata": {},
   "source": [
    "<b>Nhận Xét: </b> object: xóa những dòng là -, rồi chuyển qua dữ liệu loại float"
   ]
  },
  {
   "cell_type": "code",
   "execution_count": 22,
   "metadata": {},
   "outputs": [],
   "source": [
    "X = X[X['25k'] != '-']"
   ]
  },
  {
   "cell_type": "code",
   "execution_count": 23,
   "metadata": {},
   "outputs": [],
   "source": [
    "X['25k'] = X['25k'].astype(float)"
   ]
  },
  {
   "cell_type": "code",
   "execution_count": 24,
   "metadata": {},
   "outputs": [],
   "source": [
    "X = X[X['10k'] != '-']"
   ]
  },
  {
   "cell_type": "code",
   "execution_count": 25,
   "metadata": {},
   "outputs": [],
   "source": [
    "X['10k'] = X['10k'].astype(float)"
   ]
  },
  {
   "cell_type": "code",
   "execution_count": 26,
   "metadata": {},
   "outputs": [],
   "source": [
    "X = X[X['half'] != '-']"
   ]
  },
  {
   "cell_type": "code",
   "execution_count": 27,
   "metadata": {},
   "outputs": [],
   "source": [
    "X['half'] = X['half'].astype(float)"
   ]
  },
  {
   "cell_type": "code",
   "execution_count": 28,
   "metadata": {},
   "outputs": [],
   "source": [
    "X = X[X['30k'] != '-']"
   ]
  },
  {
   "cell_type": "code",
   "execution_count": 29,
   "metadata": {},
   "outputs": [],
   "source": [
    "X['30k'] = X['30k'].astype(float)"
   ]
  },
  {
   "cell_type": "code",
   "execution_count": 30,
   "metadata": {},
   "outputs": [],
   "source": [
    "X = X[X['5k'] != '-']"
   ]
  },
  {
   "cell_type": "code",
   "execution_count": 31,
   "metadata": {},
   "outputs": [],
   "source": [
    "X['5k'] = X['5k'].astype(float)"
   ]
  },
  {
   "cell_type": "code",
   "execution_count": 32,
   "metadata": {},
   "outputs": [],
   "source": [
    "X = X[X['20k'] != '-']"
   ]
  },
  {
   "cell_type": "code",
   "execution_count": 33,
   "metadata": {},
   "outputs": [],
   "source": [
    "X['20k'] = X['20k'].astype(float)"
   ]
  },
  {
   "cell_type": "code",
   "execution_count": 34,
   "metadata": {},
   "outputs": [],
   "source": [
    "X = X[X['35k'] != '-']"
   ]
  },
  {
   "cell_type": "code",
   "execution_count": 35,
   "metadata": {},
   "outputs": [],
   "source": [
    "X['35k'] = X['35k'].astype(float)"
   ]
  },
  {
   "cell_type": "code",
   "execution_count": 36,
   "metadata": {},
   "outputs": [],
   "source": [
    "X = X[X['40k'] != '-']"
   ]
  },
  {
   "cell_type": "code",
   "execution_count": 37,
   "metadata": {},
   "outputs": [],
   "source": [
    "X['40k'] = X['40k'].astype(float)"
   ]
  },
  {
   "cell_type": "code",
   "execution_count": 38,
   "metadata": {},
   "outputs": [
    {
     "data": {
      "text/plain": [
       "Index(['25k', 'age', 'division', '10k', 'half', 'official', 'overall', 'pace',\n",
       "       '30k', '5k', 'genderdiv', '20k', '35k', '40k', 'gender', 'country',\n",
       "       'state', 'city'],\n",
       "      dtype='object')"
      ]
     },
     "execution_count": 38,
     "metadata": {},
     "output_type": "execute_result"
    }
   ],
   "source": [
    "X.columns"
   ]
  },
  {
   "cell_type": "code",
   "execution_count": 40,
   "metadata": {},
   "outputs": [
    {
     "data": {
      "text/plain": [
       "<matplotlib.axes._subplots.AxesSubplot at 0xbffeda0>"
      ]
     },
     "execution_count": 40,
     "metadata": {},
     "output_type": "execute_result"
    },
    {
     "data": {
      "image/png": "[encoded data removed]",
      "text/plain": [
       "<matplotlib.figure.Figure at 0xc42c278>"
      ]
     },
     "metadata": {},
     "output_type": "display_data"
    }
   ],
   "source": [
    "corr = X.corr()\n",
    "sns.heatmap(corr, \n",
    "            xticklabels=corr.columns.values,\n",
    "            yticklabels=corr.columns.values)"
   ]
  },
  {
   "cell_type": "markdown",
   "metadata": {},
   "source": [
    "#### standardization numeric column"
   ]
  },
  {
   "cell_type": "code",
   "execution_count": 41,
   "metadata": {},
   "outputs": [],
   "source": [
    "X['25k'] = (X['25k'] - X['25k'].mean())/X['25k'].std()\n",
    "X['age'] = (X['age'] - X['age'].mean())/X['age'].std()\n",
    "X['division'] = (X['division'] - X['division'].mean())/X['division'].std()\n",
    "X['10k'] = (X['10k'] - X['10k'].mean())/X['10k'].std()\n",
    "X['half'] = (X['half'] - X['half'].mean())/X['half'].std()\n",
    "X['official'] = (X['official'] - X['official'].mean())/X['official'].std()\n",
    "X['overall'] = (X['overall'] - X['overall'].mean())/X['overall'].std()\n",
    "X['pace'] = (X['pace'] - X['pace'].mean())/X['pace'].std()\n",
    "X['30k'] = (X['30k'] - X['30k'].mean())/X['30k'].std()\n",
    "X['5k'] = (X['5k'] - X['5k'].mean())/X['5k'].std()\n",
    "X['genderdiv'] = (X['genderdiv'] - X['genderdiv'].mean())/X['genderdiv'].std()\n",
    "X['20k'] = (X['20k'] - X['20k'].mean())/X['20k'].std()\n",
    "X['35k'] = (X['35k'] - X['35k'].mean())/X['35k'].std()\n",
    "X['40k'] = (X['40k'] - X['40k'].mean())/X['40k'].std()"
   ]
  },
  {
   "cell_type": "markdown",
   "metadata": {},
   "source": [
    "#### one hot encode những column là category"
   ]
  },
  {
   "cell_type": "code",
   "execution_count": 42,
   "metadata": {},
   "outputs": [],
   "source": [
    "X = pd.get_dummies(X, columns=['gender', 'country', 'state', 'city']);"
   ]
  },
  {
   "cell_type": "code",
   "execution_count": 43,
   "metadata": {},
   "outputs": [
    {
     "data": {
      "text/plain": [
       "(16053, 4542)"
      ]
     },
     "execution_count": 43,
     "metadata": {},
     "output_type": "execute_result"
    }
   ],
   "source": [
    "X.shape"
   ]
  },
  {
   "cell_type": "markdown",
   "metadata": {},
   "source": [
    "#### Gom nhóm dữ liệu"
   ]
  },
  {
   "cell_type": "code",
   "execution_count": 44,
   "metadata": {},
   "outputs": [
    {
     "data": {
      "image/png": "[encoded data removed]",
      "text/plain": [
       "<matplotlib.figure.Figure at 0xc4f0e80>"
      ]
     },
     "metadata": {},
     "output_type": "display_data"
    }
   ],
   "source": [
    "reduced_data = PCA(n_components=2).fit_transform(X)\n",
    "kmeans = KMeans(init='k-means++', n_clusters=7, n_init=10)\n",
    "kmeans.fit(reduced_data)\n",
    "\n",
    "# Step size of the mesh. Decrease to increase the quality of the VQ.\n",
    "h = .02     # point in the mesh [x_min, x_max]x[y_min, y_max].\n",
    "\n",
    "# Plot the decision boundary. For that, we will assign a color to each\n",
    "x_min, x_max = reduced_data[:, 0].min() - 1, reduced_data[:, 0].max() + 1\n",
    "y_min, y_max = reduced_data[:, 1].min() - 1, reduced_data[:, 1].max() + 1\n",
    "xx, yy = np.meshgrid(np.arange(x_min, x_max, h), np.arange(y_min, y_max, h))\n",
    "\n",
    "# Obtain labels for each point in mesh. Use last trained model.\n",
    "Z = kmeans.predict(np.c_[xx.ravel(), yy.ravel()])\n",
    "\n",
    "# Put the result into a color plot\n",
    "Z = Z.reshape(xx.shape)\n",
    "plt.figure(1)\n",
    "plt.clf()\n",
    "plt.imshow(Z, interpolation='nearest',\n",
    "           extent=(xx.min(), xx.max(), yy.min(), yy.max()),\n",
    "           cmap=plt.cm.Paired,\n",
    "           aspect='auto', origin='lower')\n",
    "\n",
    "plt.plot(reduced_data[:, 0], reduced_data[:, 1], 'k.', markersize=2)\n",
    "# Plot the centroids as a white X\n",
    "centroids = kmeans.cluster_centers_\n",
    "plt.scatter(centroids[:, 0], centroids[:, 1],\n",
    "            marker='x', s=169, linewidths=3,\n",
    "            color='w', zorder=10)\n",
    "plt.title('K-means clustering on the digits dataset (PCA-reduced data)\\n'\n",
    "          'Centroids are marked with white cross')\n",
    "plt.xlim(x_min, x_max)\n",
    "plt.ylim(y_min, y_max)\n",
    "plt.xticks(())\n",
    "plt.yticks(())\n",
    "plt.show()"
   ]
  },
  {
   "cell_type": "code",
   "execution_count": null,
   "metadata": {},
   "outputs": [],
   "source": []
  }
 ],
 "metadata": {
  "kernelspec": {
   "display_name": "Python 3",
   "language": "python",
   "name": "python3"
  },
  "language_info": {
   "codemirror_mode": {
    "name": "ipython",
    "version": 3
   },
   "file_extension": ".py",
   "mimetype": "text/x-python",
   "name": "python",
   "nbconvert_exporter": "python",
   "pygments_lexer": "ipython3",
   "version": "3.6.4"
  }
 },
 "nbformat": 4,
 "nbformat_minor": 2
}
