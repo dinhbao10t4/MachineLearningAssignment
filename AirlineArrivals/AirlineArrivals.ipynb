{
 "cells": [
  {
   "cell_type": "markdown",
   "metadata": {
    "colab_type": "text",
    "id": "tmgmcUkcTtK0"
   },
   "source": [
    "# Airline Arrivals"
   ]
  },
  {
   "cell_type": "code",
   "execution_count": 0,
   "metadata": {
    "colab": {
     "autoexec": {
      "startup": false,
      "wait_interval": 0
     }
    },
    "colab_type": "code",
    "id": "dJPoNB0D61Cg"
   },
   "outputs": [],
   "source": [
    "!pip install -U -q PyDrive\n",
    " \n",
    "from pydrive.auth import GoogleAuth\n",
    "from pydrive.drive import GoogleDrive\n",
    "from google.colab import auth\n",
    "from oauth2client.client import GoogleCredentials\n",
    " \n",
    "# 1. Authenticate and create the PyDrive client.\n",
    "auth.authenticate_user()\n",
    "gauth = GoogleAuth()\n",
    "gauth.credentials = GoogleCredentials.get_application_default()\n",
    "drive = GoogleDrive(gauth)"
   ]
  },
  {
   "cell_type": "code",
   "execution_count": 0,
   "metadata": {
    "colab": {
     "autoexec": {
      "startup": false,
      "wait_interval": 0
     }
    },
    "colab_type": "code",
    "id": "t_9UntJY7DTc"
   },
   "outputs": [],
   "source": [
    "data_downloaded = drive.CreateFile({'id':'1EVMLcL5r1Vos8Jlsd2otiEHkcz33OPGI'})\n",
    "data_downloaded.GetContentFile('data.csv')"
   ]
  },
  {
   "cell_type": "code",
   "execution_count": 0,
   "metadata": {
    "colab": {
     "autoexec": {
      "startup": false,
      "wait_interval": 0
     }
    },
    "colab_type": "code",
    "id": "mU_GqgrjTtK3"
   },
   "outputs": [],
   "source": [
    "#load library\n",
    "import pandas as pd\n",
    "import numpy as np\n",
    "import matplotlib.pyplot as plt\n",
    "import seaborn as sns\n",
    "\n",
    "from sklearn.metrics import classification_report, accuracy_score, confusion_matrix, roc_curve, auc\n",
    "\n",
    "from sklearn.preprocessing import LabelEncoder\n",
    "\n",
    "from sklearn.linear_model import LogisticRegression\n",
    "from sklearn.ensemble import RandomForestClassifier\n",
    "from sklearn.naive_bayes import BernoulliNB\n",
    "from sklearn.tree import DecisionTreeClassifier\n",
    "from sklearn.svm import SVC\n",
    "from sklearn.ensemble import GradientBoostingClassifier\n",
    "\n",
    "from sklearn.decomposition import PCA\n",
    "from sklearn.feature_selection import SelectKBest, chi2, f_classif\n",
    "\n",
    "from sklearn.model_selection import cross_val_score, GridSearchCV, train_test_split, StratifiedKFold\n",
    "\n",
    "\n",
    "%matplotlib inline\n",
    "\n",
    "# set seed for reproducibility\n",
    "np.random.seed(0)"
   ]
  },
  {
   "cell_type": "code",
   "execution_count": 0,
   "metadata": {
    "colab": {
     "autoexec": {
      "startup": false,
      "wait_interval": 0
     }
    },
    "colab_type": "code",
    "id": "bUCK0gjpTtLB"
   },
   "outputs": [],
   "source": [
    "# read in all our data\n",
    "airline_arrival = pd.read_csv('data.csv')"
   ]
  },
  {
   "cell_type": "code",
   "execution_count": 0,
   "metadata": {
    "colab": {
     "autoexec": {
      "startup": false,
      "wait_interval": 0
     }
    },
    "colab_type": "code",
    "id": "FNgSUT5jTtLI"
   },
   "outputs": [],
   "source": [
    "pd.set_option('display.max_columns', None)"
   ]
  },
  {
   "cell_type": "code",
   "execution_count": 6,
   "metadata": {
    "colab": {
     "autoexec": {
      "startup": false,
      "wait_interval": 0
     },
     "base_uri": "https://localhost:8080/",
     "height": 224
    },
    "colab_type": "code",
    "executionInfo": {
     "elapsed": 693,
     "status": "ok",
     "timestamp": 1526658346053,
     "user": {
      "displayName": "Bảo Trương Đình",
      "photoUrl": "//lh5.googleusercontent.com/-eC4QdQkyBTM/AAAAAAAAAAI/AAAAAAAAAFA/6sBa5lwoOX0/s50-c-k-no/photo.jpg",
      "userId": "102262295523043259192"
     },
     "user_tz": -420
    },
    "id": "qaYAuptUTtLT",
    "outputId": "1cf411be-ed42-4c06-eead-1e94bac244b3"
   },
   "outputs": [
    {
     "data": {
      "text/html": [
       "<div>\n",
       "<style scoped>\n",
       "    .dataframe tbody tr th:only-of-type {\n",
       "        vertical-align: middle;\n",
       "    }\n",
       "\n",
       "    .dataframe tbody tr th {\n",
       "        vertical-align: top;\n",
       "    }\n",
       "\n",
       "    .dataframe thead th {\n",
       "        text-align: right;\n",
       "    }\n",
       "</style>\n",
       "<table border=\"1\" class=\"dataframe\">\n",
       "  <thead>\n",
       "    <tr style=\"text-align: right;\">\n",
       "      <th></th>\n",
       "      <th>Year</th>\n",
       "      <th>Month</th>\n",
       "      <th>DayofMonth</th>\n",
       "      <th>DayOfWeek</th>\n",
       "      <th>DepTime</th>\n",
       "      <th>CRSDepTime</th>\n",
       "      <th>ArrTime</th>\n",
       "      <th>CRSArrTime</th>\n",
       "      <th>UniqueCarrier</th>\n",
       "      <th>FlightNum</th>\n",
       "      <th>TailNum</th>\n",
       "      <th>ActualElapsedTime</th>\n",
       "      <th>CRSElapsedTime</th>\n",
       "      <th>AirTime</th>\n",
       "      <th>ArrDelay</th>\n",
       "      <th>DepDelay</th>\n",
       "      <th>Origin</th>\n",
       "      <th>Dest</th>\n",
       "      <th>Distance</th>\n",
       "      <th>TaxiIn</th>\n",
       "      <th>TaxiOut</th>\n",
       "      <th>Cancelled</th>\n",
       "      <th>CancellationCode</th>\n",
       "      <th>Diverted</th>\n",
       "      <th>CarrierDelay</th>\n",
       "      <th>WeatherDelay</th>\n",
       "      <th>NASDelay</th>\n",
       "      <th>SecurityDelay</th>\n",
       "      <th>LateAircraftDelay</th>\n",
       "    </tr>\n",
       "  </thead>\n",
       "  <tbody>\n",
       "    <tr>\n",
       "      <th>0</th>\n",
       "      <td>2008</td>\n",
       "      <td>1</td>\n",
       "      <td>3</td>\n",
       "      <td>4</td>\n",
       "      <td>2003.0</td>\n",
       "      <td>1955</td>\n",
       "      <td>2211.0</td>\n",
       "      <td>2225</td>\n",
       "      <td>WN</td>\n",
       "      <td>335</td>\n",
       "      <td>N712SW</td>\n",
       "      <td>128.0</td>\n",
       "      <td>150.0</td>\n",
       "      <td>116.0</td>\n",
       "      <td>-14.0</td>\n",
       "      <td>8.0</td>\n",
       "      <td>IAD</td>\n",
       "      <td>TPA</td>\n",
       "      <td>810</td>\n",
       "      <td>4.0</td>\n",
       "      <td>8.0</td>\n",
       "      <td>0</td>\n",
       "      <td>NaN</td>\n",
       "      <td>0</td>\n",
       "      <td>NaN</td>\n",
       "      <td>NaN</td>\n",
       "      <td>NaN</td>\n",
       "      <td>NaN</td>\n",
       "      <td>NaN</td>\n",
       "    </tr>\n",
       "    <tr>\n",
       "      <th>1</th>\n",
       "      <td>2008</td>\n",
       "      <td>1</td>\n",
       "      <td>3</td>\n",
       "      <td>4</td>\n",
       "      <td>754.0</td>\n",
       "      <td>735</td>\n",
       "      <td>1002.0</td>\n",
       "      <td>1000</td>\n",
       "      <td>WN</td>\n",
       "      <td>3231</td>\n",
       "      <td>N772SW</td>\n",
       "      <td>128.0</td>\n",
       "      <td>145.0</td>\n",
       "      <td>113.0</td>\n",
       "      <td>2.0</td>\n",
       "      <td>19.0</td>\n",
       "      <td>IAD</td>\n",
       "      <td>TPA</td>\n",
       "      <td>810</td>\n",
       "      <td>5.0</td>\n",
       "      <td>10.0</td>\n",
       "      <td>0</td>\n",
       "      <td>NaN</td>\n",
       "      <td>0</td>\n",
       "      <td>NaN</td>\n",
       "      <td>NaN</td>\n",
       "      <td>NaN</td>\n",
       "      <td>NaN</td>\n",
       "      <td>NaN</td>\n",
       "    </tr>\n",
       "    <tr>\n",
       "      <th>2</th>\n",
       "      <td>2008</td>\n",
       "      <td>1</td>\n",
       "      <td>3</td>\n",
       "      <td>4</td>\n",
       "      <td>628.0</td>\n",
       "      <td>620</td>\n",
       "      <td>804.0</td>\n",
       "      <td>750</td>\n",
       "      <td>WN</td>\n",
       "      <td>448</td>\n",
       "      <td>N428WN</td>\n",
       "      <td>96.0</td>\n",
       "      <td>90.0</td>\n",
       "      <td>76.0</td>\n",
       "      <td>14.0</td>\n",
       "      <td>8.0</td>\n",
       "      <td>IND</td>\n",
       "      <td>BWI</td>\n",
       "      <td>515</td>\n",
       "      <td>3.0</td>\n",
       "      <td>17.0</td>\n",
       "      <td>0</td>\n",
       "      <td>NaN</td>\n",
       "      <td>0</td>\n",
       "      <td>NaN</td>\n",
       "      <td>NaN</td>\n",
       "      <td>NaN</td>\n",
       "      <td>NaN</td>\n",
       "      <td>NaN</td>\n",
       "    </tr>\n",
       "    <tr>\n",
       "      <th>3</th>\n",
       "      <td>2008</td>\n",
       "      <td>1</td>\n",
       "      <td>3</td>\n",
       "      <td>4</td>\n",
       "      <td>926.0</td>\n",
       "      <td>930</td>\n",
       "      <td>1054.0</td>\n",
       "      <td>1100</td>\n",
       "      <td>WN</td>\n",
       "      <td>1746</td>\n",
       "      <td>N612SW</td>\n",
       "      <td>88.0</td>\n",
       "      <td>90.0</td>\n",
       "      <td>78.0</td>\n",
       "      <td>-6.0</td>\n",
       "      <td>-4.0</td>\n",
       "      <td>IND</td>\n",
       "      <td>BWI</td>\n",
       "      <td>515</td>\n",
       "      <td>3.0</td>\n",
       "      <td>7.0</td>\n",
       "      <td>0</td>\n",
       "      <td>NaN</td>\n",
       "      <td>0</td>\n",
       "      <td>NaN</td>\n",
       "      <td>NaN</td>\n",
       "      <td>NaN</td>\n",
       "      <td>NaN</td>\n",
       "      <td>NaN</td>\n",
       "    </tr>\n",
       "    <tr>\n",
       "      <th>4</th>\n",
       "      <td>2008</td>\n",
       "      <td>1</td>\n",
       "      <td>3</td>\n",
       "      <td>4</td>\n",
       "      <td>1829.0</td>\n",
       "      <td>1755</td>\n",
       "      <td>1959.0</td>\n",
       "      <td>1925</td>\n",
       "      <td>WN</td>\n",
       "      <td>3920</td>\n",
       "      <td>N464WN</td>\n",
       "      <td>90.0</td>\n",
       "      <td>90.0</td>\n",
       "      <td>77.0</td>\n",
       "      <td>34.0</td>\n",
       "      <td>34.0</td>\n",
       "      <td>IND</td>\n",
       "      <td>BWI</td>\n",
       "      <td>515</td>\n",
       "      <td>3.0</td>\n",
       "      <td>10.0</td>\n",
       "      <td>0</td>\n",
       "      <td>NaN</td>\n",
       "      <td>0</td>\n",
       "      <td>2.0</td>\n",
       "      <td>0.0</td>\n",
       "      <td>0.0</td>\n",
       "      <td>0.0</td>\n",
       "      <td>32.0</td>\n",
       "    </tr>\n",
       "  </tbody>\n",
       "</table>\n",
       "</div>"
      ],
      "text/plain": [
       "   Year  Month  DayofMonth  DayOfWeek  DepTime  CRSDepTime  ArrTime  \\\n",
       "0  2008      1           3          4   2003.0        1955   2211.0   \n",
       "1  2008      1           3          4    754.0         735   1002.0   \n",
       "2  2008      1           3          4    628.0         620    804.0   \n",
       "3  2008      1           3          4    926.0         930   1054.0   \n",
       "4  2008      1           3          4   1829.0        1755   1959.0   \n",
       "\n",
       "   CRSArrTime UniqueCarrier  FlightNum TailNum  ActualElapsedTime  \\\n",
       "0        2225            WN        335  N712SW              128.0   \n",
       "1        1000            WN       3231  N772SW              128.0   \n",
       "2         750            WN        448  N428WN               96.0   \n",
       "3        1100            WN       1746  N612SW               88.0   \n",
       "4        1925            WN       3920  N464WN               90.0   \n",
       "\n",
       "   CRSElapsedTime  AirTime  ArrDelay  DepDelay Origin Dest  Distance  TaxiIn  \\\n",
       "0           150.0    116.0     -14.0       8.0    IAD  TPA       810     4.0   \n",
       "1           145.0    113.0       2.0      19.0    IAD  TPA       810     5.0   \n",
       "2            90.0     76.0      14.0       8.0    IND  BWI       515     3.0   \n",
       "3            90.0     78.0      -6.0      -4.0    IND  BWI       515     3.0   \n",
       "4            90.0     77.0      34.0      34.0    IND  BWI       515     3.0   \n",
       "\n",
       "   TaxiOut  Cancelled CancellationCode  Diverted  CarrierDelay  WeatherDelay  \\\n",
       "0      8.0          0              NaN         0           NaN           NaN   \n",
       "1     10.0          0              NaN         0           NaN           NaN   \n",
       "2     17.0          0              NaN         0           NaN           NaN   \n",
       "3      7.0          0              NaN         0           NaN           NaN   \n",
       "4     10.0          0              NaN         0           2.0           0.0   \n",
       "\n",
       "   NASDelay  SecurityDelay  LateAircraftDelay  \n",
       "0       NaN            NaN                NaN  \n",
       "1       NaN            NaN                NaN  \n",
       "2       NaN            NaN                NaN  \n",
       "3       NaN            NaN                NaN  \n",
       "4       0.0            0.0               32.0  "
      ]
     },
     "execution_count": 6,
     "metadata": {
      "tags": []
     },
     "output_type": "execute_result"
    }
   ],
   "source": [
    "#Xem 5 dòng dữ liệu đầu tiên\n",
    "airline_arrival.head()"
   ]
  },
  {
   "cell_type": "code",
   "execution_count": 7,
   "metadata": {
    "colab": {
     "autoexec": {
      "startup": false,
      "wait_interval": 0
     },
     "base_uri": "https://localhost:8080/",
     "height": 224
    },
    "colab_type": "code",
    "executionInfo": {
     "elapsed": 705,
     "status": "ok",
     "timestamp": 1526658350233,
     "user": {
      "displayName": "Bảo Trương Đình",
      "photoUrl": "//lh5.googleusercontent.com/-eC4QdQkyBTM/AAAAAAAAAAI/AAAAAAAAAFA/6sBa5lwoOX0/s50-c-k-no/photo.jpg",
      "userId": "102262295523043259192"
     },
     "user_tz": -420
    },
    "id": "J5fKJpv4TtLg",
    "outputId": "3cc0a5d8-0b0c-4f8f-de81-dcd7a17f00a4"
   },
   "outputs": [
    {
     "data": {
      "text/html": [
       "<div>\n",
       "<style scoped>\n",
       "    .dataframe tbody tr th:only-of-type {\n",
       "        vertical-align: middle;\n",
       "    }\n",
       "\n",
       "    .dataframe tbody tr th {\n",
       "        vertical-align: top;\n",
       "    }\n",
       "\n",
       "    .dataframe thead th {\n",
       "        text-align: right;\n",
       "    }\n",
       "</style>\n",
       "<table border=\"1\" class=\"dataframe\">\n",
       "  <thead>\n",
       "    <tr style=\"text-align: right;\">\n",
       "      <th></th>\n",
       "      <th>Year</th>\n",
       "      <th>Month</th>\n",
       "      <th>DayofMonth</th>\n",
       "      <th>DayOfWeek</th>\n",
       "      <th>DepTime</th>\n",
       "      <th>CRSDepTime</th>\n",
       "      <th>ArrTime</th>\n",
       "      <th>CRSArrTime</th>\n",
       "      <th>UniqueCarrier</th>\n",
       "      <th>FlightNum</th>\n",
       "      <th>TailNum</th>\n",
       "      <th>ActualElapsedTime</th>\n",
       "      <th>CRSElapsedTime</th>\n",
       "      <th>AirTime</th>\n",
       "      <th>ArrDelay</th>\n",
       "      <th>DepDelay</th>\n",
       "      <th>Origin</th>\n",
       "      <th>Dest</th>\n",
       "      <th>Distance</th>\n",
       "      <th>TaxiIn</th>\n",
       "      <th>TaxiOut</th>\n",
       "      <th>Cancelled</th>\n",
       "      <th>CancellationCode</th>\n",
       "      <th>Diverted</th>\n",
       "      <th>CarrierDelay</th>\n",
       "      <th>WeatherDelay</th>\n",
       "      <th>NASDelay</th>\n",
       "      <th>SecurityDelay</th>\n",
       "      <th>LateAircraftDelay</th>\n",
       "    </tr>\n",
       "  </thead>\n",
       "  <tbody>\n",
       "    <tr>\n",
       "      <th>7009723</th>\n",
       "      <td>2008</td>\n",
       "      <td>12</td>\n",
       "      <td>13</td>\n",
       "      <td>6</td>\n",
       "      <td>1002.0</td>\n",
       "      <td>959</td>\n",
       "      <td>1204.0</td>\n",
       "      <td>1150</td>\n",
       "      <td>DL</td>\n",
       "      <td>1636</td>\n",
       "      <td>N646DL</td>\n",
       "      <td>122.0</td>\n",
       "      <td>111.0</td>\n",
       "      <td>71.0</td>\n",
       "      <td>14.0</td>\n",
       "      <td>3.0</td>\n",
       "      <td>ATL</td>\n",
       "      <td>IAD</td>\n",
       "      <td>533</td>\n",
       "      <td>6.0</td>\n",
       "      <td>45.0</td>\n",
       "      <td>0</td>\n",
       "      <td>NaN</td>\n",
       "      <td>0</td>\n",
       "      <td>NaN</td>\n",
       "      <td>NaN</td>\n",
       "      <td>NaN</td>\n",
       "      <td>NaN</td>\n",
       "      <td>NaN</td>\n",
       "    </tr>\n",
       "    <tr>\n",
       "      <th>7009724</th>\n",
       "      <td>2008</td>\n",
       "      <td>12</td>\n",
       "      <td>13</td>\n",
       "      <td>6</td>\n",
       "      <td>834.0</td>\n",
       "      <td>835</td>\n",
       "      <td>1021.0</td>\n",
       "      <td>1023</td>\n",
       "      <td>DL</td>\n",
       "      <td>1637</td>\n",
       "      <td>N908DL</td>\n",
       "      <td>167.0</td>\n",
       "      <td>168.0</td>\n",
       "      <td>139.0</td>\n",
       "      <td>-2.0</td>\n",
       "      <td>-1.0</td>\n",
       "      <td>ATL</td>\n",
       "      <td>SAT</td>\n",
       "      <td>874</td>\n",
       "      <td>5.0</td>\n",
       "      <td>23.0</td>\n",
       "      <td>0</td>\n",
       "      <td>NaN</td>\n",
       "      <td>0</td>\n",
       "      <td>NaN</td>\n",
       "      <td>NaN</td>\n",
       "      <td>NaN</td>\n",
       "      <td>NaN</td>\n",
       "      <td>NaN</td>\n",
       "    </tr>\n",
       "    <tr>\n",
       "      <th>7009725</th>\n",
       "      <td>2008</td>\n",
       "      <td>12</td>\n",
       "      <td>13</td>\n",
       "      <td>6</td>\n",
       "      <td>655.0</td>\n",
       "      <td>700</td>\n",
       "      <td>856.0</td>\n",
       "      <td>856</td>\n",
       "      <td>DL</td>\n",
       "      <td>1638</td>\n",
       "      <td>N671DN</td>\n",
       "      <td>121.0</td>\n",
       "      <td>116.0</td>\n",
       "      <td>85.0</td>\n",
       "      <td>0.0</td>\n",
       "      <td>-5.0</td>\n",
       "      <td>PBI</td>\n",
       "      <td>ATL</td>\n",
       "      <td>545</td>\n",
       "      <td>24.0</td>\n",
       "      <td>12.0</td>\n",
       "      <td>0</td>\n",
       "      <td>NaN</td>\n",
       "      <td>0</td>\n",
       "      <td>NaN</td>\n",
       "      <td>NaN</td>\n",
       "      <td>NaN</td>\n",
       "      <td>NaN</td>\n",
       "      <td>NaN</td>\n",
       "    </tr>\n",
       "    <tr>\n",
       "      <th>7009726</th>\n",
       "      <td>2008</td>\n",
       "      <td>12</td>\n",
       "      <td>13</td>\n",
       "      <td>6</td>\n",
       "      <td>1251.0</td>\n",
       "      <td>1240</td>\n",
       "      <td>1446.0</td>\n",
       "      <td>1437</td>\n",
       "      <td>DL</td>\n",
       "      <td>1639</td>\n",
       "      <td>N646DL</td>\n",
       "      <td>115.0</td>\n",
       "      <td>117.0</td>\n",
       "      <td>89.0</td>\n",
       "      <td>9.0</td>\n",
       "      <td>11.0</td>\n",
       "      <td>IAD</td>\n",
       "      <td>ATL</td>\n",
       "      <td>533</td>\n",
       "      <td>13.0</td>\n",
       "      <td>13.0</td>\n",
       "      <td>0</td>\n",
       "      <td>NaN</td>\n",
       "      <td>0</td>\n",
       "      <td>NaN</td>\n",
       "      <td>NaN</td>\n",
       "      <td>NaN</td>\n",
       "      <td>NaN</td>\n",
       "      <td>NaN</td>\n",
       "    </tr>\n",
       "    <tr>\n",
       "      <th>7009727</th>\n",
       "      <td>2008</td>\n",
       "      <td>12</td>\n",
       "      <td>13</td>\n",
       "      <td>6</td>\n",
       "      <td>1110.0</td>\n",
       "      <td>1103</td>\n",
       "      <td>1413.0</td>\n",
       "      <td>1418</td>\n",
       "      <td>DL</td>\n",
       "      <td>1641</td>\n",
       "      <td>N908DL</td>\n",
       "      <td>123.0</td>\n",
       "      <td>135.0</td>\n",
       "      <td>104.0</td>\n",
       "      <td>-5.0</td>\n",
       "      <td>7.0</td>\n",
       "      <td>SAT</td>\n",
       "      <td>ATL</td>\n",
       "      <td>874</td>\n",
       "      <td>8.0</td>\n",
       "      <td>11.0</td>\n",
       "      <td>0</td>\n",
       "      <td>NaN</td>\n",
       "      <td>0</td>\n",
       "      <td>NaN</td>\n",
       "      <td>NaN</td>\n",
       "      <td>NaN</td>\n",
       "      <td>NaN</td>\n",
       "      <td>NaN</td>\n",
       "    </tr>\n",
       "  </tbody>\n",
       "</table>\n",
       "</div>"
      ],
      "text/plain": [
       "         Year  Month  DayofMonth  DayOfWeek  DepTime  CRSDepTime  ArrTime  \\\n",
       "7009723  2008     12          13          6   1002.0         959   1204.0   \n",
       "7009724  2008     12          13          6    834.0         835   1021.0   \n",
       "7009725  2008     12          13          6    655.0         700    856.0   \n",
       "7009726  2008     12          13          6   1251.0        1240   1446.0   \n",
       "7009727  2008     12          13          6   1110.0        1103   1413.0   \n",
       "\n",
       "         CRSArrTime UniqueCarrier  FlightNum TailNum  ActualElapsedTime  \\\n",
       "7009723        1150            DL       1636  N646DL              122.0   \n",
       "7009724        1023            DL       1637  N908DL              167.0   \n",
       "7009725         856            DL       1638  N671DN              121.0   \n",
       "7009726        1437            DL       1639  N646DL              115.0   \n",
       "7009727        1418            DL       1641  N908DL              123.0   \n",
       "\n",
       "         CRSElapsedTime  AirTime  ArrDelay  DepDelay Origin Dest  Distance  \\\n",
       "7009723           111.0     71.0      14.0       3.0    ATL  IAD       533   \n",
       "7009724           168.0    139.0      -2.0      -1.0    ATL  SAT       874   \n",
       "7009725           116.0     85.0       0.0      -5.0    PBI  ATL       545   \n",
       "7009726           117.0     89.0       9.0      11.0    IAD  ATL       533   \n",
       "7009727           135.0    104.0      -5.0       7.0    SAT  ATL       874   \n",
       "\n",
       "         TaxiIn  TaxiOut  Cancelled CancellationCode  Diverted  CarrierDelay  \\\n",
       "7009723     6.0     45.0          0              NaN         0           NaN   \n",
       "7009724     5.0     23.0          0              NaN         0           NaN   \n",
       "7009725    24.0     12.0          0              NaN         0           NaN   \n",
       "7009726    13.0     13.0          0              NaN         0           NaN   \n",
       "7009727     8.0     11.0          0              NaN         0           NaN   \n",
       "\n",
       "         WeatherDelay  NASDelay  SecurityDelay  LateAircraftDelay  \n",
       "7009723           NaN       NaN            NaN                NaN  \n",
       "7009724           NaN       NaN            NaN                NaN  \n",
       "7009725           NaN       NaN            NaN                NaN  \n",
       "7009726           NaN       NaN            NaN                NaN  \n",
       "7009727           NaN       NaN            NaN                NaN  "
      ]
     },
     "execution_count": 7,
     "metadata": {
      "tags": []
     },
     "output_type": "execute_result"
    }
   ],
   "source": [
    "#Xem 5 dòng dữ liệu cuối cùng\n",
    "airline_arrival.tail()"
   ]
  },
  {
   "cell_type": "code",
   "execution_count": 8,
   "metadata": {
    "colab": {
     "autoexec": {
      "startup": false,
      "wait_interval": 0
     },
     "base_uri": "https://localhost:8080/",
     "height": 34
    },
    "colab_type": "code",
    "executionInfo": {
     "elapsed": 719,
     "status": "ok",
     "timestamp": 1526658354108,
     "user": {
      "displayName": "Bảo Trương Đình",
      "photoUrl": "//lh5.googleusercontent.com/-eC4QdQkyBTM/AAAAAAAAAAI/AAAAAAAAAFA/6sBa5lwoOX0/s50-c-k-no/photo.jpg",
      "userId": "102262295523043259192"
     },
     "user_tz": -420
    },
    "id": "JpswxssTTtLq",
    "outputId": "8636dac8-bfea-42b5-b14d-9581d0f6e48d"
   },
   "outputs": [
    {
     "data": {
      "text/plain": [
       "(7009728, 29)"
      ]
     },
     "execution_count": 8,
     "metadata": {
      "tags": []
     },
     "output_type": "execute_result"
    }
   ],
   "source": [
    "#Xem số dòng, số cột của dataframe\n",
    "airline_arrival.shape"
   ]
  },
  {
   "cell_type": "code",
   "execution_count": 9,
   "metadata": {
    "colab": {
     "autoexec": {
      "startup": false,
      "wait_interval": 0
     },
     "base_uri": "https://localhost:8080/",
     "height": 136
    },
    "colab_type": "code",
    "executionInfo": {
     "elapsed": 906,
     "status": "ok",
     "timestamp": 1526658356546,
     "user": {
      "displayName": "Bảo Trương Đình",
      "photoUrl": "//lh5.googleusercontent.com/-eC4QdQkyBTM/AAAAAAAAAAI/AAAAAAAAAFA/6sBa5lwoOX0/s50-c-k-no/photo.jpg",
      "userId": "102262295523043259192"
     },
     "user_tz": -420
    },
    "id": "g7uIpk9tTtMQ",
    "outputId": "562dc4df-4a1a-4954-d6e3-61b6ce430e86"
   },
   "outputs": [
    {
     "data": {
      "text/plain": [
       "Index(['Year', 'Month', 'DayofMonth', 'DayOfWeek', 'DepTime', 'CRSDepTime',\n",
       "       'ArrTime', 'CRSArrTime', 'UniqueCarrier', 'FlightNum', 'TailNum',\n",
       "       'ActualElapsedTime', 'CRSElapsedTime', 'AirTime', 'ArrDelay',\n",
       "       'DepDelay', 'Origin', 'Dest', 'Distance', 'TaxiIn', 'TaxiOut',\n",
       "       'Cancelled', 'CancellationCode', 'Diverted', 'CarrierDelay',\n",
       "       'WeatherDelay', 'NASDelay', 'SecurityDelay', 'LateAircraftDelay'],\n",
       "      dtype='object')"
      ]
     },
     "execution_count": 9,
     "metadata": {
      "tags": []
     },
     "output_type": "execute_result"
    }
   ],
   "source": [
    "airline_arrival.columns"
   ]
  },
  {
   "cell_type": "markdown",
   "metadata": {
    "colab_type": "text",
    "id": "ZM9A7JqL6w7e"
   },
   "source": [
    "### target value"
   ]
  },
  {
   "cell_type": "code",
   "execution_count": 0,
   "metadata": {
    "colab": {
     "autoexec": {
      "startup": false,
      "wait_interval": 0
     }
    },
    "colab_type": "code",
    "id": "XlyI_l2oTtMa"
   },
   "outputs": [],
   "source": [
    "airline_arrival['target'] = np.where(airline_arrival.eval(\"ArrDelay >= 30\"), 1, 0)"
   ]
  },
  {
   "cell_type": "code",
   "execution_count": 11,
   "metadata": {
    "colab": {
     "autoexec": {
      "startup": false,
      "wait_interval": 0
     },
     "base_uri": "https://localhost:8080/",
     "height": 68
    },
    "colab_type": "code",
    "executionInfo": {
     "elapsed": 719,
     "status": "ok",
     "timestamp": 1526658363338,
     "user": {
      "displayName": "Bảo Trương Đình",
      "photoUrl": "//lh5.googleusercontent.com/-eC4QdQkyBTM/AAAAAAAAAAI/AAAAAAAAAFA/6sBa5lwoOX0/s50-c-k-no/photo.jpg",
      "userId": "102262295523043259192"
     },
     "user_tz": -420
    },
    "id": "RZTEqGrZTtMh",
    "outputId": "7b6785c5-c643-493c-c55b-cc087da5be96"
   },
   "outputs": [
    {
     "data": {
      "text/plain": [
       "0    6082313\n",
       "1     927415\n",
       "Name: target, dtype: int64"
      ]
     },
     "execution_count": 11,
     "metadata": {
      "tags": []
     },
     "output_type": "execute_result"
    }
   ],
   "source": [
    "airline_arrival['target'].value_counts()"
   ]
  },
  {
   "cell_type": "code",
   "execution_count": 12,
   "metadata": {
    "colab": {
     "autoexec": {
      "startup": false,
      "wait_interval": 0
     },
     "base_uri": "https://localhost:8080/",
     "height": 34
    },
    "colab_type": "code",
    "executionInfo": {
     "elapsed": 1216,
     "status": "ok",
     "timestamp": 1526658366649,
     "user": {
      "displayName": "Bảo Trương Đình",
      "photoUrl": "//lh5.googleusercontent.com/-eC4QdQkyBTM/AAAAAAAAAAI/AAAAAAAAAFA/6sBa5lwoOX0/s50-c-k-no/photo.jpg",
      "userId": "102262295523043259192"
     },
     "user_tz": -420
    },
    "id": "D5j74h66TtM0",
    "outputId": "5861f689-7990-492d-dcf0-f9a4d31516f7"
   },
   "outputs": [
    {
     "data": {
      "text/plain": [
       "(927415, 30)"
      ]
     },
     "execution_count": 12,
     "metadata": {
      "tags": []
     },
     "output_type": "execute_result"
    }
   ],
   "source": [
    "airline_arrival[airline_arrival['ArrDelay']>= 30].shape"
   ]
  },
  {
   "cell_type": "code",
   "execution_count": 13,
   "metadata": {
    "colab": {
     "autoexec": {
      "startup": false,
      "wait_interval": 0
     },
     "base_uri": "https://localhost:8080/",
     "height": 824
    },
    "colab_type": "code",
    "executionInfo": {
     "elapsed": 15173,
     "status": "ok",
     "timestamp": 1526658385501,
     "user": {
      "displayName": "Bảo Trương Đình",
      "photoUrl": "//lh5.googleusercontent.com/-eC4QdQkyBTM/AAAAAAAAAAI/AAAAAAAAAFA/6sBa5lwoOX0/s50-c-k-no/photo.jpg",
      "userId": "102262295523043259192"
     },
     "user_tz": -420
    },
    "id": "yrZjkJ-YTtM_",
    "outputId": "66b1aaea-7574-4ef3-f2a4-9563ec7d5ace"
   },
   "outputs": [
    {
     "data": {
      "text/html": [
       "<div>\n",
       "<style scoped>\n",
       "    .dataframe tbody tr th:only-of-type {\n",
       "        vertical-align: middle;\n",
       "    }\n",
       "\n",
       "    .dataframe tbody tr th {\n",
       "        vertical-align: top;\n",
       "    }\n",
       "\n",
       "    .dataframe thead th {\n",
       "        text-align: right;\n",
       "    }\n",
       "</style>\n",
       "<table border=\"1\" class=\"dataframe\">\n",
       "  <thead>\n",
       "    <tr style=\"text-align: right;\">\n",
       "      <th></th>\n",
       "      <th>count</th>\n",
       "      <th>mean</th>\n",
       "      <th>std</th>\n",
       "      <th>min</th>\n",
       "      <th>25%</th>\n",
       "      <th>50%</th>\n",
       "      <th>75%</th>\n",
       "      <th>max</th>\n",
       "    </tr>\n",
       "  </thead>\n",
       "  <tbody>\n",
       "    <tr>\n",
       "      <th>Year</th>\n",
       "      <td>7009728.0</td>\n",
       "      <td>2008.000000</td>\n",
       "      <td>0.000000</td>\n",
       "      <td>2008.0</td>\n",
       "      <td>2008.0</td>\n",
       "      <td>2008.0</td>\n",
       "      <td>2008.0</td>\n",
       "      <td>2008.0</td>\n",
       "    </tr>\n",
       "    <tr>\n",
       "      <th>Month</th>\n",
       "      <td>7009728.0</td>\n",
       "      <td>6.375130</td>\n",
       "      <td>3.406737</td>\n",
       "      <td>1.0</td>\n",
       "      <td>3.0</td>\n",
       "      <td>6.0</td>\n",
       "      <td>9.0</td>\n",
       "      <td>12.0</td>\n",
       "    </tr>\n",
       "    <tr>\n",
       "      <th>DayofMonth</th>\n",
       "      <td>7009728.0</td>\n",
       "      <td>15.728015</td>\n",
       "      <td>8.797068</td>\n",
       "      <td>1.0</td>\n",
       "      <td>8.0</td>\n",
       "      <td>16.0</td>\n",
       "      <td>23.0</td>\n",
       "      <td>31.0</td>\n",
       "    </tr>\n",
       "    <tr>\n",
       "      <th>DayOfWeek</th>\n",
       "      <td>7009728.0</td>\n",
       "      <td>3.924182</td>\n",
       "      <td>1.988259</td>\n",
       "      <td>1.0</td>\n",
       "      <td>2.0</td>\n",
       "      <td>4.0</td>\n",
       "      <td>6.0</td>\n",
       "      <td>7.0</td>\n",
       "    </tr>\n",
       "    <tr>\n",
       "      <th>DepTime</th>\n",
       "      <td>6873482.0</td>\n",
       "      <td>1333.830046</td>\n",
       "      <td>478.068895</td>\n",
       "      <td>1.0</td>\n",
       "      <td>928.0</td>\n",
       "      <td>1325.0</td>\n",
       "      <td>1728.0</td>\n",
       "      <td>2400.0</td>\n",
       "    </tr>\n",
       "    <tr>\n",
       "      <th>CRSDepTime</th>\n",
       "      <td>7009728.0</td>\n",
       "      <td>1326.085663</td>\n",
       "      <td>464.250911</td>\n",
       "      <td>0.0</td>\n",
       "      <td>925.0</td>\n",
       "      <td>1320.0</td>\n",
       "      <td>1715.0</td>\n",
       "      <td>2359.0</td>\n",
       "    </tr>\n",
       "    <tr>\n",
       "      <th>ArrTime</th>\n",
       "      <td>6858079.0</td>\n",
       "      <td>1481.258227</td>\n",
       "      <td>505.225129</td>\n",
       "      <td>1.0</td>\n",
       "      <td>1107.0</td>\n",
       "      <td>1512.0</td>\n",
       "      <td>1909.0</td>\n",
       "      <td>2400.0</td>\n",
       "    </tr>\n",
       "    <tr>\n",
       "      <th>CRSArrTime</th>\n",
       "      <td>7009728.0</td>\n",
       "      <td>1494.801154</td>\n",
       "      <td>482.672822</td>\n",
       "      <td>0.0</td>\n",
       "      <td>1115.0</td>\n",
       "      <td>1517.0</td>\n",
       "      <td>1907.0</td>\n",
       "      <td>2400.0</td>\n",
       "    </tr>\n",
       "    <tr>\n",
       "      <th>FlightNum</th>\n",
       "      <td>7009728.0</td>\n",
       "      <td>2224.200105</td>\n",
       "      <td>1961.715999</td>\n",
       "      <td>1.0</td>\n",
       "      <td>622.0</td>\n",
       "      <td>1571.0</td>\n",
       "      <td>3518.0</td>\n",
       "      <td>9743.0</td>\n",
       "    </tr>\n",
       "    <tr>\n",
       "      <th>ActualElapsedTime</th>\n",
       "      <td>6855029.0</td>\n",
       "      <td>127.322424</td>\n",
       "      <td>70.187308</td>\n",
       "      <td>12.0</td>\n",
       "      <td>77.0</td>\n",
       "      <td>110.0</td>\n",
       "      <td>157.0</td>\n",
       "      <td>1379.0</td>\n",
       "    </tr>\n",
       "    <tr>\n",
       "      <th>CRSElapsedTime</th>\n",
       "      <td>7008884.0</td>\n",
       "      <td>128.866794</td>\n",
       "      <td>69.409736</td>\n",
       "      <td>-141.0</td>\n",
       "      <td>80.0</td>\n",
       "      <td>110.0</td>\n",
       "      <td>159.0</td>\n",
       "      <td>1435.0</td>\n",
       "    </tr>\n",
       "    <tr>\n",
       "      <th>AirTime</th>\n",
       "      <td>6855029.0</td>\n",
       "      <td>104.018589</td>\n",
       "      <td>67.439796</td>\n",
       "      <td>0.0</td>\n",
       "      <td>55.0</td>\n",
       "      <td>86.0</td>\n",
       "      <td>132.0</td>\n",
       "      <td>1350.0</td>\n",
       "    </tr>\n",
       "    <tr>\n",
       "      <th>ArrDelay</th>\n",
       "      <td>6855029.0</td>\n",
       "      <td>8.168452</td>\n",
       "      <td>38.501937</td>\n",
       "      <td>-519.0</td>\n",
       "      <td>-10.0</td>\n",
       "      <td>-2.0</td>\n",
       "      <td>12.0</td>\n",
       "      <td>2461.0</td>\n",
       "    </tr>\n",
       "    <tr>\n",
       "      <th>DepDelay</th>\n",
       "      <td>6873482.0</td>\n",
       "      <td>9.972570</td>\n",
       "      <td>35.311271</td>\n",
       "      <td>-534.0</td>\n",
       "      <td>-4.0</td>\n",
       "      <td>-1.0</td>\n",
       "      <td>8.0</td>\n",
       "      <td>2467.0</td>\n",
       "    </tr>\n",
       "    <tr>\n",
       "      <th>Distance</th>\n",
       "      <td>7009728.0</td>\n",
       "      <td>726.387029</td>\n",
       "      <td>562.101803</td>\n",
       "      <td>11.0</td>\n",
       "      <td>325.0</td>\n",
       "      <td>581.0</td>\n",
       "      <td>954.0</td>\n",
       "      <td>4962.0</td>\n",
       "    </tr>\n",
       "    <tr>\n",
       "      <th>TaxiIn</th>\n",
       "      <td>6858079.0</td>\n",
       "      <td>6.860852</td>\n",
       "      <td>4.933649</td>\n",
       "      <td>0.0</td>\n",
       "      <td>4.0</td>\n",
       "      <td>6.0</td>\n",
       "      <td>8.0</td>\n",
       "      <td>308.0</td>\n",
       "    </tr>\n",
       "    <tr>\n",
       "      <th>TaxiOut</th>\n",
       "      <td>6872670.0</td>\n",
       "      <td>16.453045</td>\n",
       "      <td>11.332799</td>\n",
       "      <td>0.0</td>\n",
       "      <td>10.0</td>\n",
       "      <td>14.0</td>\n",
       "      <td>19.0</td>\n",
       "      <td>429.0</td>\n",
       "    </tr>\n",
       "    <tr>\n",
       "      <th>Cancelled</th>\n",
       "      <td>7009728.0</td>\n",
       "      <td>0.019606</td>\n",
       "      <td>0.138643</td>\n",
       "      <td>0.0</td>\n",
       "      <td>0.0</td>\n",
       "      <td>0.0</td>\n",
       "      <td>0.0</td>\n",
       "      <td>1.0</td>\n",
       "    </tr>\n",
       "    <tr>\n",
       "      <th>Diverted</th>\n",
       "      <td>7009728.0</td>\n",
       "      <td>0.002463</td>\n",
       "      <td>0.049568</td>\n",
       "      <td>0.0</td>\n",
       "      <td>0.0</td>\n",
       "      <td>0.0</td>\n",
       "      <td>0.0</td>\n",
       "      <td>1.0</td>\n",
       "    </tr>\n",
       "    <tr>\n",
       "      <th>CarrierDelay</th>\n",
       "      <td>1524735.0</td>\n",
       "      <td>15.772063</td>\n",
       "      <td>40.099116</td>\n",
       "      <td>0.0</td>\n",
       "      <td>0.0</td>\n",
       "      <td>0.0</td>\n",
       "      <td>16.0</td>\n",
       "      <td>2436.0</td>\n",
       "    </tr>\n",
       "    <tr>\n",
       "      <th>WeatherDelay</th>\n",
       "      <td>1524735.0</td>\n",
       "      <td>3.039031</td>\n",
       "      <td>19.502874</td>\n",
       "      <td>0.0</td>\n",
       "      <td>0.0</td>\n",
       "      <td>0.0</td>\n",
       "      <td>0.0</td>\n",
       "      <td>1352.0</td>\n",
       "    </tr>\n",
       "    <tr>\n",
       "      <th>NASDelay</th>\n",
       "      <td>1524735.0</td>\n",
       "      <td>17.164623</td>\n",
       "      <td>31.894955</td>\n",
       "      <td>0.0</td>\n",
       "      <td>0.0</td>\n",
       "      <td>6.0</td>\n",
       "      <td>21.0</td>\n",
       "      <td>1357.0</td>\n",
       "    </tr>\n",
       "    <tr>\n",
       "      <th>SecurityDelay</th>\n",
       "      <td>1524735.0</td>\n",
       "      <td>0.074974</td>\n",
       "      <td>1.837940</td>\n",
       "      <td>0.0</td>\n",
       "      <td>0.0</td>\n",
       "      <td>0.0</td>\n",
       "      <td>0.0</td>\n",
       "      <td>392.0</td>\n",
       "    </tr>\n",
       "    <tr>\n",
       "      <th>LateAircraftDelay</th>\n",
       "      <td>1524735.0</td>\n",
       "      <td>20.770981</td>\n",
       "      <td>39.259636</td>\n",
       "      <td>0.0</td>\n",
       "      <td>0.0</td>\n",
       "      <td>0.0</td>\n",
       "      <td>26.0</td>\n",
       "      <td>1316.0</td>\n",
       "    </tr>\n",
       "    <tr>\n",
       "      <th>target</th>\n",
       "      <td>7009728.0</td>\n",
       "      <td>0.132304</td>\n",
       "      <td>0.338821</td>\n",
       "      <td>0.0</td>\n",
       "      <td>0.0</td>\n",
       "      <td>0.0</td>\n",
       "      <td>0.0</td>\n",
       "      <td>1.0</td>\n",
       "    </tr>\n",
       "  </tbody>\n",
       "</table>\n",
       "</div>"
      ],
      "text/plain": [
       "                       count         mean          std     min     25%  \\\n",
       "Year               7009728.0  2008.000000     0.000000  2008.0  2008.0   \n",
       "Month              7009728.0     6.375130     3.406737     1.0     3.0   \n",
       "DayofMonth         7009728.0    15.728015     8.797068     1.0     8.0   \n",
       "DayOfWeek          7009728.0     3.924182     1.988259     1.0     2.0   \n",
       "DepTime            6873482.0  1333.830046   478.068895     1.0   928.0   \n",
       "CRSDepTime         7009728.0  1326.085663   464.250911     0.0   925.0   \n",
       "ArrTime            6858079.0  1481.258227   505.225129     1.0  1107.0   \n",
       "CRSArrTime         7009728.0  1494.801154   482.672822     0.0  1115.0   \n",
       "FlightNum          7009728.0  2224.200105  1961.715999     1.0   622.0   \n",
       "ActualElapsedTime  6855029.0   127.322424    70.187308    12.0    77.0   \n",
       "CRSElapsedTime     7008884.0   128.866794    69.409736  -141.0    80.0   \n",
       "AirTime            6855029.0   104.018589    67.439796     0.0    55.0   \n",
       "ArrDelay           6855029.0     8.168452    38.501937  -519.0   -10.0   \n",
       "DepDelay           6873482.0     9.972570    35.311271  -534.0    -4.0   \n",
       "Distance           7009728.0   726.387029   562.101803    11.0   325.0   \n",
       "TaxiIn             6858079.0     6.860852     4.933649     0.0     4.0   \n",
       "TaxiOut            6872670.0    16.453045    11.332799     0.0    10.0   \n",
       "Cancelled          7009728.0     0.019606     0.138643     0.0     0.0   \n",
       "Diverted           7009728.0     0.002463     0.049568     0.0     0.0   \n",
       "CarrierDelay       1524735.0    15.772063    40.099116     0.0     0.0   \n",
       "WeatherDelay       1524735.0     3.039031    19.502874     0.0     0.0   \n",
       "NASDelay           1524735.0    17.164623    31.894955     0.0     0.0   \n",
       "SecurityDelay      1524735.0     0.074974     1.837940     0.0     0.0   \n",
       "LateAircraftDelay  1524735.0    20.770981    39.259636     0.0     0.0   \n",
       "target             7009728.0     0.132304     0.338821     0.0     0.0   \n",
       "\n",
       "                      50%     75%     max  \n",
       "Year               2008.0  2008.0  2008.0  \n",
       "Month                 6.0     9.0    12.0  \n",
       "DayofMonth           16.0    23.0    31.0  \n",
       "DayOfWeek             4.0     6.0     7.0  \n",
       "DepTime            1325.0  1728.0  2400.0  \n",
       "CRSDepTime         1320.0  1715.0  2359.0  \n",
       "ArrTime            1512.0  1909.0  2400.0  \n",
       "CRSArrTime         1517.0  1907.0  2400.0  \n",
       "FlightNum          1571.0  3518.0  9743.0  \n",
       "ActualElapsedTime   110.0   157.0  1379.0  \n",
       "CRSElapsedTime      110.0   159.0  1435.0  \n",
       "AirTime              86.0   132.0  1350.0  \n",
       "ArrDelay             -2.0    12.0  2461.0  \n",
       "DepDelay             -1.0     8.0  2467.0  \n",
       "Distance            581.0   954.0  4962.0  \n",
       "TaxiIn                6.0     8.0   308.0  \n",
       "TaxiOut              14.0    19.0   429.0  \n",
       "Cancelled             0.0     0.0     1.0  \n",
       "Diverted              0.0     0.0     1.0  \n",
       "CarrierDelay          0.0    16.0  2436.0  \n",
       "WeatherDelay          0.0     0.0  1352.0  \n",
       "NASDelay              6.0    21.0  1357.0  \n",
       "SecurityDelay         0.0     0.0   392.0  \n",
       "LateAircraftDelay     0.0    26.0  1316.0  \n",
       "target                0.0     0.0     1.0  "
      ]
     },
     "execution_count": 13,
     "metadata": {
      "tags": []
     },
     "output_type": "execute_result"
    }
   ],
   "source": [
    "airline_arrival.describe().T"
   ]
  },
  {
   "cell_type": "markdown",
   "metadata": {
    "colab_type": "text",
    "id": "9hgNgsnfTtNJ"
   },
   "source": [
    "## Data cleaning"
   ]
  },
  {
   "cell_type": "code",
   "execution_count": 14,
   "metadata": {
    "colab": {
     "autoexec": {
      "startup": false,
      "wait_interval": 0
     },
     "base_uri": "https://localhost:8080/",
     "height": 544
    },
    "colab_type": "code",
    "executionInfo": {
     "elapsed": 5144,
     "status": "ok",
     "timestamp": 1526658396200,
     "user": {
      "displayName": "Bảo Trương Đình",
      "photoUrl": "//lh5.googleusercontent.com/-eC4QdQkyBTM/AAAAAAAAAAI/AAAAAAAAAFA/6sBa5lwoOX0/s50-c-k-no/photo.jpg",
      "userId": "102262295523043259192"
     },
     "user_tz": -420
    },
    "id": "RMm_qBI5TtNM",
    "outputId": "68b057d5-f849-4a9e-f01a-df4b9bb76652"
   },
   "outputs": [
    {
     "data": {
      "text/plain": [
       "Year                       0\n",
       "Month                      0\n",
       "DayofMonth                 0\n",
       "DayOfWeek                  0\n",
       "DepTime               136246\n",
       "CRSDepTime                 0\n",
       "ArrTime               151649\n",
       "CRSArrTime                 0\n",
       "UniqueCarrier              0\n",
       "FlightNum                  0\n",
       "TailNum                83365\n",
       "ActualElapsedTime     154699\n",
       "CRSElapsedTime           844\n",
       "AirTime               154699\n",
       "ArrDelay              154699\n",
       "DepDelay              136246\n",
       "Origin                     0\n",
       "Dest                       0\n",
       "Distance                   0\n",
       "TaxiIn                151649\n",
       "TaxiOut               137058\n",
       "Cancelled                  0\n",
       "CancellationCode     6872294\n",
       "Diverted                   0\n",
       "CarrierDelay         5484993\n",
       "WeatherDelay         5484993\n",
       "NASDelay             5484993\n",
       "SecurityDelay        5484993\n",
       "LateAircraftDelay    5484993\n",
       "target                     0\n",
       "dtype: int64"
      ]
     },
     "execution_count": 14,
     "metadata": {
      "tags": []
     },
     "output_type": "execute_result"
    }
   ],
   "source": [
    "# Số lượng điểm data bị thiếu trên mỗi cột\n",
    "missing_values_count = airline_arrival.isnull().sum()\n",
    "\n",
    "# Số lượng điểm data bị thiếu trên mỗi cột của 10 cột đầu\n",
    "missing_values_count"
   ]
  },
  {
   "cell_type": "code",
   "execution_count": 0,
   "metadata": {
    "colab": {
     "autoexec": {
      "startup": false,
      "wait_interval": 0
     }
    },
    "colab_type": "code",
    "id": "iesBN18sTtNW"
   },
   "outputs": [],
   "source": [
    "airline_arrival = airline_arrival[airline_arrival['ArrDelay'].notnull()]"
   ]
  },
  {
   "cell_type": "code",
   "execution_count": 16,
   "metadata": {
    "colab": {
     "autoexec": {
      "startup": false,
      "wait_interval": 0
     },
     "base_uri": "https://localhost:8080/",
     "height": 544
    },
    "colab_type": "code",
    "executionInfo": {
     "elapsed": 6089,
     "status": "ok",
     "timestamp": 1526658412693,
     "user": {
      "displayName": "Bảo Trương Đình",
      "photoUrl": "//lh5.googleusercontent.com/-eC4QdQkyBTM/AAAAAAAAAAI/AAAAAAAAAFA/6sBa5lwoOX0/s50-c-k-no/photo.jpg",
      "userId": "102262295523043259192"
     },
     "user_tz": -420
    },
    "id": "uUfDR_7WTtNf",
    "outputId": "f780a6e8-fac6-4943-cda9-01b7d1ba6050"
   },
   "outputs": [
    {
     "data": {
      "text/plain": [
       "Year                       0\n",
       "Month                      0\n",
       "DayofMonth                 0\n",
       "DayOfWeek                  0\n",
       "DepTime                    0\n",
       "CRSDepTime                 0\n",
       "ArrTime                    0\n",
       "CRSArrTime                 0\n",
       "UniqueCarrier              0\n",
       "FlightNum                  0\n",
       "TailNum                    5\n",
       "ActualElapsedTime          0\n",
       "CRSElapsedTime             0\n",
       "AirTime                    0\n",
       "ArrDelay                   0\n",
       "DepDelay                   0\n",
       "Origin                     0\n",
       "Dest                       0\n",
       "Distance                   0\n",
       "TaxiIn                     0\n",
       "TaxiOut                    0\n",
       "Cancelled                  0\n",
       "CancellationCode     6855029\n",
       "Diverted                   0\n",
       "CarrierDelay         5330294\n",
       "WeatherDelay         5330294\n",
       "NASDelay             5330294\n",
       "SecurityDelay        5330294\n",
       "LateAircraftDelay    5330294\n",
       "target                     0\n",
       "dtype: int64"
      ]
     },
     "execution_count": 16,
     "metadata": {
      "tags": []
     },
     "output_type": "execute_result"
    }
   ],
   "source": [
    "# Số lượng điểm data bị thiếu trên mỗi cột\n",
    "missing_values_count = airline_arrival.isnull().sum()\n",
    "\n",
    "# Số lượng điểm data bị thiếu trên mỗi cột của 10 cột đầu\n",
    "missing_values_count"
   ]
  },
  {
   "cell_type": "markdown",
   "metadata": {
    "colab_type": "text",
    "id": "yv-t3yGNTtN-"
   },
   "source": [
    "## Xử lý Missing Value"
   ]
  },
  {
   "cell_type": "code",
   "execution_count": 17,
   "metadata": {
    "colab": {
     "autoexec": {
      "startup": false,
      "wait_interval": 0
     },
     "base_uri": "https://localhost:8080/",
     "height": 34
    },
    "colab_type": "code",
    "executionInfo": {
     "elapsed": 1015,
     "status": "ok",
     "timestamp": 1526658477810,
     "user": {
      "displayName": "Bảo Trương Đình",
      "photoUrl": "//lh5.googleusercontent.com/-eC4QdQkyBTM/AAAAAAAAAAI/AAAAAAAAAFA/6sBa5lwoOX0/s50-c-k-no/photo.jpg",
      "userId": "102262295523043259192"
     },
     "user_tz": -420
    },
    "id": "Evqc0mU_TtON",
    "outputId": "3be04867-9adf-4535-8894-0f52557ca946"
   },
   "outputs": [
    {
     "data": {
      "text/plain": [
       "5367"
      ]
     },
     "execution_count": 17,
     "metadata": {
      "tags": []
     },
     "output_type": "execute_result"
    }
   ],
   "source": [
    "len(airline_arrival['TailNum'].unique())#.value_counts()"
   ]
  },
  {
   "cell_type": "code",
   "execution_count": 18,
   "metadata": {
    "colab": {
     "autoexec": {
      "startup": false,
      "wait_interval": 0
     },
     "base_uri": "https://localhost:8080/",
     "height": 119
    },
    "colab_type": "code",
    "executionInfo": {
     "elapsed": 1792,
     "status": "ok",
     "timestamp": 1526658480819,
     "user": {
      "displayName": "Bảo Trương Đình",
      "photoUrl": "//lh5.googleusercontent.com/-eC4QdQkyBTM/AAAAAAAAAAI/AAAAAAAAAFA/6sBa5lwoOX0/s50-c-k-no/photo.jpg",
      "userId": "102262295523043259192"
     },
     "user_tz": -420
    },
    "id": "v9ytTWXVTtOa",
    "outputId": "028d3ead-e624-45ae-8b11-bc72a7057c13"
   },
   "outputs": [
    {
     "data": {
      "text/plain": [
       "N476HA    4701\n",
       "N477HA    4546\n",
       "N484HA    4504\n",
       "N475HA    4496\n",
       "N480HA    4416\n",
       "Name: TailNum, dtype: int64"
      ]
     },
     "execution_count": 18,
     "metadata": {
      "tags": []
     },
     "output_type": "execute_result"
    }
   ],
   "source": [
    "airline_arrival['TailNum'].value_counts().head(5)"
   ]
  },
  {
   "cell_type": "code",
   "execution_count": 0,
   "metadata": {
    "colab": {
     "autoexec": {
      "startup": false,
      "wait_interval": 0
     }
    },
    "colab_type": "code",
    "id": "8NQxkrgOTtOi"
   },
   "outputs": [],
   "source": [
    "airline_arrival['TailNum'].fillna('N476HA', inplace=True)"
   ]
  },
  {
   "cell_type": "code",
   "execution_count": 20,
   "metadata": {
    "colab": {
     "autoexec": {
      "startup": false,
      "wait_interval": 0
     },
     "base_uri": "https://localhost:8080/",
     "height": 34
    },
    "colab_type": "code",
    "executionInfo": {
     "elapsed": 2352,
     "status": "ok",
     "timestamp": 1526658487567,
     "user": {
      "displayName": "Bảo Trương Đình",
      "photoUrl": "//lh5.googleusercontent.com/-eC4QdQkyBTM/AAAAAAAAAAI/AAAAAAAAAFA/6sBa5lwoOX0/s50-c-k-no/photo.jpg",
      "userId": "102262295523043259192"
     },
     "user_tz": -420
    },
    "id": "0aj79swITtPi",
    "outputId": "cc679b24-719e-4510-9275-bbe27e75172e"
   },
   "outputs": [
    {
     "data": {
      "text/plain": [
       "(6855029, 30)"
      ]
     },
     "execution_count": 20,
     "metadata": {
      "tags": []
     },
     "output_type": "execute_result"
    }
   ],
   "source": [
    "airline_arrival[airline_arrival['CancellationCode'].isnull()].shape"
   ]
  },
  {
   "cell_type": "code",
   "execution_count": 21,
   "metadata": {
    "colab": {
     "autoexec": {
      "startup": false,
      "wait_interval": 0
     },
     "base_uri": "https://localhost:8080/",
     "height": 34
    },
    "colab_type": "code",
    "executionInfo": {
     "elapsed": 699,
     "status": "ok",
     "timestamp": 1526658490111,
     "user": {
      "displayName": "Bảo Trương Đình",
      "photoUrl": "//lh5.googleusercontent.com/-eC4QdQkyBTM/AAAAAAAAAAI/AAAAAAAAAFA/6sBa5lwoOX0/s50-c-k-no/photo.jpg",
      "userId": "102262295523043259192"
     },
     "user_tz": -420
    },
    "id": "xCK3dBaSTtPq",
    "outputId": "f003f328-4d41-45b3-b36e-558049ab3517"
   },
   "outputs": [
    {
     "data": {
      "text/plain": [
       "(0, 30)"
      ]
     },
     "execution_count": 21,
     "metadata": {
      "tags": []
     },
     "output_type": "execute_result"
    }
   ],
   "source": [
    "airline_arrival[airline_arrival['CancellationCode'].notnull()].shape"
   ]
  },
  {
   "cell_type": "code",
   "execution_count": 0,
   "metadata": {
    "colab": {
     "autoexec": {
      "startup": false,
      "wait_interval": 0
     }
    },
    "colab_type": "code",
    "id": "pJhq8EcmTtQK"
   },
   "outputs": [],
   "source": [
    "airline_arrival.drop(['CancellationCode'], axis = 1, inplace = True)"
   ]
  },
  {
   "cell_type": "code",
   "execution_count": 23,
   "metadata": {
    "colab": {
     "autoexec": {
      "startup": false,
      "wait_interval": 0
     },
     "base_uri": "https://localhost:8080/",
     "height": 34
    },
    "colab_type": "code",
    "executionInfo": {
     "elapsed": 1030,
     "status": "ok",
     "timestamp": 1526658497407,
     "user": {
      "displayName": "Bảo Trương Đình",
      "photoUrl": "//lh5.googleusercontent.com/-eC4QdQkyBTM/AAAAAAAAAAI/AAAAAAAAAFA/6sBa5lwoOX0/s50-c-k-no/photo.jpg",
      "userId": "102262295523043259192"
     },
     "user_tz": -420
    },
    "id": "xNau1F7jTtQR",
    "outputId": "95a05210-22a8-483f-dd03-d07f93441a05"
   },
   "outputs": [
    {
     "data": {
      "text/plain": [
       "(1524735, 29)"
      ]
     },
     "execution_count": 23,
     "metadata": {
      "tags": []
     },
     "output_type": "execute_result"
    }
   ],
   "source": [
    "airline_arrival[airline_arrival['CarrierDelay'].notnull()].shape"
   ]
  },
  {
   "cell_type": "code",
   "execution_count": 0,
   "metadata": {
    "colab": {
     "autoexec": {
      "startup": false,
      "wait_interval": 0
     }
    },
    "colab_type": "code",
    "id": "tZSaXb5CTtQZ"
   },
   "outputs": [],
   "source": [
    "airline_arrival['CarrierDelay'].fillna((int)(airline_arrival['CarrierDelay'].mean()), inplace=True)"
   ]
  },
  {
   "cell_type": "code",
   "execution_count": 25,
   "metadata": {
    "colab": {
     "autoexec": {
      "startup": false,
      "wait_interval": 0
     },
     "base_uri": "https://localhost:8080/",
     "height": 34
    },
    "colab_type": "code",
    "executionInfo": {
     "elapsed": 988,
     "status": "ok",
     "timestamp": 1526658501278,
     "user": {
      "displayName": "Bảo Trương Đình",
      "photoUrl": "//lh5.googleusercontent.com/-eC4QdQkyBTM/AAAAAAAAAAI/AAAAAAAAAFA/6sBa5lwoOX0/s50-c-k-no/photo.jpg",
      "userId": "102262295523043259192"
     },
     "user_tz": -420
    },
    "id": "TISlORwx6w9b",
    "outputId": "96b1e74e-c45b-4699-de1c-44f371ef33b7"
   },
   "outputs": [
    {
     "data": {
      "text/plain": [
       "(1524735, 29)"
      ]
     },
     "execution_count": 25,
     "metadata": {
      "tags": []
     },
     "output_type": "execute_result"
    }
   ],
   "source": [
    "airline_arrival[airline_arrival['WeatherDelay'].notnull()].shape"
   ]
  },
  {
   "cell_type": "code",
   "execution_count": 0,
   "metadata": {
    "colab": {
     "autoexec": {
      "startup": false,
      "wait_interval": 0
     }
    },
    "colab_type": "code",
    "id": "HUfLDc6xTtQf"
   },
   "outputs": [],
   "source": [
    "airline_arrival['WeatherDelay'].fillna((int)(airline_arrival['WeatherDelay'].mean()), inplace=True)"
   ]
  },
  {
   "cell_type": "code",
   "execution_count": 27,
   "metadata": {
    "colab": {
     "autoexec": {
      "startup": false,
      "wait_interval": 0
     },
     "base_uri": "https://localhost:8080/",
     "height": 34
    },
    "colab_type": "code",
    "executionInfo": {
     "elapsed": 1009,
     "status": "ok",
     "timestamp": 1526658505045,
     "user": {
      "displayName": "Bảo Trương Đình",
      "photoUrl": "//lh5.googleusercontent.com/-eC4QdQkyBTM/AAAAAAAAAAI/AAAAAAAAAFA/6sBa5lwoOX0/s50-c-k-no/photo.jpg",
      "userId": "102262295523043259192"
     },
     "user_tz": -420
    },
    "id": "t2Y04uAHTtQk",
    "outputId": "7ecad327-50af-4317-8bf1-8ddcec7140aa"
   },
   "outputs": [
    {
     "data": {
      "text/plain": [
       "(1524735, 29)"
      ]
     },
     "execution_count": 27,
     "metadata": {
      "tags": []
     },
     "output_type": "execute_result"
    }
   ],
   "source": [
    "airline_arrival[airline_arrival['NASDelay'].notnull()].shape"
   ]
  },
  {
   "cell_type": "code",
   "execution_count": 0,
   "metadata": {
    "colab": {
     "autoexec": {
      "startup": false,
      "wait_interval": 0
     }
    },
    "colab_type": "code",
    "id": "1X8KfKhtTtQq"
   },
   "outputs": [],
   "source": [
    "airline_arrival['NASDelay'].fillna((int)(airline_arrival['NASDelay'].mean()), inplace=True)"
   ]
  },
  {
   "cell_type": "code",
   "execution_count": 29,
   "metadata": {
    "colab": {
     "autoexec": {
      "startup": false,
      "wait_interval": 0
     },
     "base_uri": "https://localhost:8080/",
     "height": 34
    },
    "colab_type": "code",
    "executionInfo": {
     "elapsed": 752,
     "status": "ok",
     "timestamp": 1526658509821,
     "user": {
      "displayName": "Bảo Trương Đình",
      "photoUrl": "//lh5.googleusercontent.com/-eC4QdQkyBTM/AAAAAAAAAAI/AAAAAAAAAFA/6sBa5lwoOX0/s50-c-k-no/photo.jpg",
      "userId": "102262295523043259192"
     },
     "user_tz": -420
    },
    "id": "F5gA00yETtTG",
    "outputId": "6d720e21-67cf-4539-b6e5-675e80a544f5"
   },
   "outputs": [
    {
     "data": {
      "text/plain": [
       "(1524735, 29)"
      ]
     },
     "execution_count": 29,
     "metadata": {
      "tags": []
     },
     "output_type": "execute_result"
    }
   ],
   "source": [
    "airline_arrival[airline_arrival['SecurityDelay'].notnull()].shape"
   ]
  },
  {
   "cell_type": "code",
   "execution_count": 0,
   "metadata": {
    "colab": {
     "autoexec": {
      "startup": false,
      "wait_interval": 0
     }
    },
    "colab_type": "code",
    "id": "iijs8imQTtTP"
   },
   "outputs": [],
   "source": [
    "airline_arrival['SecurityDelay'].fillna((int)(airline_arrival['SecurityDelay'].mean()), inplace=True)"
   ]
  },
  {
   "cell_type": "code",
   "execution_count": 31,
   "metadata": {
    "colab": {
     "autoexec": {
      "startup": false,
      "wait_interval": 0
     },
     "base_uri": "https://localhost:8080/",
     "height": 34
    },
    "colab_type": "code",
    "executionInfo": {
     "elapsed": 1005,
     "status": "ok",
     "timestamp": 1526658514451,
     "user": {
      "displayName": "Bảo Trương Đình",
      "photoUrl": "//lh5.googleusercontent.com/-eC4QdQkyBTM/AAAAAAAAAAI/AAAAAAAAAFA/6sBa5lwoOX0/s50-c-k-no/photo.jpg",
      "userId": "102262295523043259192"
     },
     "user_tz": -420
    },
    "id": "dBE_9R9WTtTm",
    "outputId": "849eb21f-dbed-487b-b038-d5d608ec0617"
   },
   "outputs": [
    {
     "data": {
      "text/plain": [
       "(1524735, 29)"
      ]
     },
     "execution_count": 31,
     "metadata": {
      "tags": []
     },
     "output_type": "execute_result"
    }
   ],
   "source": [
    "airline_arrival[airline_arrival['LateAircraftDelay'].notnull()].shape"
   ]
  },
  {
   "cell_type": "code",
   "execution_count": 0,
   "metadata": {
    "colab": {
     "autoexec": {
      "startup": false,
      "wait_interval": 0
     }
    },
    "colab_type": "code",
    "id": "qgHkqzAVTtT3"
   },
   "outputs": [],
   "source": [
    "airline_arrival['LateAircraftDelay'].fillna((int)(airline_arrival['LateAircraftDelay'].mean()), inplace=True)"
   ]
  },
  {
   "cell_type": "code",
   "execution_count": 33,
   "metadata": {
    "colab": {
     "autoexec": {
      "startup": false,
      "wait_interval": 0
     },
     "base_uri": "https://localhost:8080/",
     "height": 527
    },
    "colab_type": "code",
    "executionInfo": {
     "elapsed": 4645,
     "status": "ok",
     "timestamp": 1526658522888,
     "user": {
      "displayName": "Bảo Trương Đình",
      "photoUrl": "//lh5.googleusercontent.com/-eC4QdQkyBTM/AAAAAAAAAAI/AAAAAAAAAFA/6sBa5lwoOX0/s50-c-k-no/photo.jpg",
      "userId": "102262295523043259192"
     },
     "user_tz": -420
    },
    "id": "qEfncdJ4TtT8",
    "outputId": "d2898c2a-f0e5-4e57-8b86-41234f2198b4"
   },
   "outputs": [
    {
     "data": {
      "text/plain": [
       "Year                 0\n",
       "Month                0\n",
       "DayofMonth           0\n",
       "DayOfWeek            0\n",
       "DepTime              0\n",
       "CRSDepTime           0\n",
       "ArrTime              0\n",
       "CRSArrTime           0\n",
       "UniqueCarrier        0\n",
       "FlightNum            0\n",
       "TailNum              0\n",
       "ActualElapsedTime    0\n",
       "CRSElapsedTime       0\n",
       "AirTime              0\n",
       "ArrDelay             0\n",
       "DepDelay             0\n",
       "Origin               0\n",
       "Dest                 0\n",
       "Distance             0\n",
       "TaxiIn               0\n",
       "TaxiOut              0\n",
       "Cancelled            0\n",
       "Diverted             0\n",
       "CarrierDelay         0\n",
       "WeatherDelay         0\n",
       "NASDelay             0\n",
       "SecurityDelay        0\n",
       "LateAircraftDelay    0\n",
       "target               0\n",
       "dtype: int64"
      ]
     },
     "execution_count": 33,
     "metadata": {
      "tags": []
     },
     "output_type": "execute_result"
    }
   ],
   "source": [
    "# Số lượng điểm data bị thiếu trên mỗi cột\n",
    "missing_values_count = airline_arrival.isnull().sum()\n",
    "\n",
    "# Số lượng điểm data bị thiếu trên mỗi cột của 10 cột đầu\n",
    "missing_values_count"
   ]
  },
  {
   "cell_type": "code",
   "execution_count": 34,
   "metadata": {
    "colab": {
     "autoexec": {
      "startup": false,
      "wait_interval": 0
     },
     "base_uri": "https://localhost:8080/",
     "height": 34
    },
    "colab_type": "code",
    "executionInfo": {
     "elapsed": 772,
     "status": "ok",
     "timestamp": 1526658526828,
     "user": {
      "displayName": "Bảo Trương Đình",
      "photoUrl": "//lh5.googleusercontent.com/-eC4QdQkyBTM/AAAAAAAAAAI/AAAAAAAAAFA/6sBa5lwoOX0/s50-c-k-no/photo.jpg",
      "userId": "102262295523043259192"
     },
     "user_tz": -420
    },
    "id": "U3iIS2iLTtUK",
    "outputId": "0e4c4a9c-335e-4aa3-d2eb-7d6253625181"
   },
   "outputs": [
    {
     "data": {
      "text/plain": [
       "20"
      ]
     },
     "execution_count": 34,
     "metadata": {
      "tags": []
     },
     "output_type": "execute_result"
    }
   ],
   "source": [
    "len(airline_arrival.UniqueCarrier.unique())#value_counts()"
   ]
  },
  {
   "cell_type": "code",
   "execution_count": 35,
   "metadata": {
    "colab": {
     "autoexec": {
      "startup": false,
      "wait_interval": 0
     },
     "base_uri": "https://localhost:8080/",
     "height": 34
    },
    "colab_type": "code",
    "executionInfo": {
     "elapsed": 782,
     "status": "ok",
     "timestamp": 1526658529273,
     "user": {
      "displayName": "Bảo Trương Đình",
      "photoUrl": "//lh5.googleusercontent.com/-eC4QdQkyBTM/AAAAAAAAAAI/AAAAAAAAAFA/6sBa5lwoOX0/s50-c-k-no/photo.jpg",
      "userId": "102262295523043259192"
     },
     "user_tz": -420
    },
    "id": "KADQR0B5TtUQ",
    "outputId": "e4e8f666-feb2-49e2-b897-ed870ebc86f0"
   },
   "outputs": [
    {
     "data": {
      "text/plain": [
       "5366"
      ]
     },
     "execution_count": 35,
     "metadata": {
      "tags": []
     },
     "output_type": "execute_result"
    }
   ],
   "source": [
    "len(airline_arrival.TailNum.unique())#value_counts()"
   ]
  },
  {
   "cell_type": "code",
   "execution_count": 36,
   "metadata": {
    "colab": {
     "autoexec": {
      "startup": false,
      "wait_interval": 0
     },
     "base_uri": "https://localhost:8080/",
     "height": 34
    },
    "colab_type": "code",
    "executionInfo": {
     "elapsed": 869,
     "status": "ok",
     "timestamp": 1526658531646,
     "user": {
      "displayName": "Bảo Trương Đình",
      "photoUrl": "//lh5.googleusercontent.com/-eC4QdQkyBTM/AAAAAAAAAAI/AAAAAAAAAFA/6sBa5lwoOX0/s50-c-k-no/photo.jpg",
      "userId": "102262295523043259192"
     },
     "user_tz": -420
    },
    "id": "0rcZ6wphTtU_",
    "outputId": "829c7ad1-56cd-4bb5-9777-dceaf86cadd5"
   },
   "outputs": [
    {
     "data": {
      "text/plain": [
       "303"
      ]
     },
     "execution_count": 36,
     "metadata": {
      "tags": []
     },
     "output_type": "execute_result"
    }
   ],
   "source": [
    "len(airline_arrival.Origin.unique())#value_counts()"
   ]
  },
  {
   "cell_type": "code",
   "execution_count": 37,
   "metadata": {
    "colab": {
     "autoexec": {
      "startup": false,
      "wait_interval": 0
     },
     "base_uri": "https://localhost:8080/",
     "height": 34
    },
    "colab_type": "code",
    "executionInfo": {
     "elapsed": 785,
     "status": "ok",
     "timestamp": 1526658533851,
     "user": {
      "displayName": "Bảo Trương Đình",
      "photoUrl": "//lh5.googleusercontent.com/-eC4QdQkyBTM/AAAAAAAAAAI/AAAAAAAAAFA/6sBa5lwoOX0/s50-c-k-no/photo.jpg",
      "userId": "102262295523043259192"
     },
     "user_tz": -420
    },
    "id": "-TGEbPJfTtVI",
    "outputId": "24f956ee-b604-4643-e86c-b5ac4b9c2859"
   },
   "outputs": [
    {
     "data": {
      "text/plain": [
       "302"
      ]
     },
     "execution_count": 37,
     "metadata": {
      "tags": []
     },
     "output_type": "execute_result"
    }
   ],
   "source": [
    "len(airline_arrival.Dest.unique())#value_counts()"
   ]
  },
  {
   "cell_type": "code",
   "execution_count": 0,
   "metadata": {
    "colab": {
     "autoexec": {
      "startup": false,
      "wait_interval": 0
     }
    },
    "colab_type": "code",
    "id": "7op3TkG6TtVc"
   },
   "outputs": [],
   "source": [
    "le = LabelEncoder()\n",
    "airline_arrival['TailNum_LabelEncoded'] = le.fit_transform(airline_arrival.TailNum)"
   ]
  },
  {
   "cell_type": "code",
   "execution_count": 0,
   "metadata": {
    "colab": {
     "autoexec": {
      "startup": false,
      "wait_interval": 0
     }
    },
    "colab_type": "code",
    "id": "g3_n2iYK0bOE"
   },
   "outputs": [],
   "source": [
    "airline_arrival.drop(['TailNum'], axis = 1, inplace = True)"
   ]
  },
  {
   "cell_type": "code",
   "execution_count": 40,
   "metadata": {
    "colab": {
     "autoexec": {
      "startup": false,
      "wait_interval": 0
     },
     "base_uri": "https://localhost:8080/",
     "height": 224
    },
    "colab_type": "code",
    "executionInfo": {
     "elapsed": 1023,
     "status": "ok",
     "timestamp": 1526658553799,
     "user": {
      "displayName": "Bảo Trương Đình",
      "photoUrl": "//lh5.googleusercontent.com/-eC4QdQkyBTM/AAAAAAAAAAI/AAAAAAAAAFA/6sBa5lwoOX0/s50-c-k-no/photo.jpg",
      "userId": "102262295523043259192"
     },
     "user_tz": -420
    },
    "id": "FIaAEhg4TtWD",
    "outputId": "d9cc3676-6870-4898-8daf-1f762c05f333"
   },
   "outputs": [
    {
     "data": {
      "text/html": [
       "<div>\n",
       "<style scoped>\n",
       "    .dataframe tbody tr th:only-of-type {\n",
       "        vertical-align: middle;\n",
       "    }\n",
       "\n",
       "    .dataframe tbody tr th {\n",
       "        vertical-align: top;\n",
       "    }\n",
       "\n",
       "    .dataframe thead th {\n",
       "        text-align: right;\n",
       "    }\n",
       "</style>\n",
       "<table border=\"1\" class=\"dataframe\">\n",
       "  <thead>\n",
       "    <tr style=\"text-align: right;\">\n",
       "      <th></th>\n",
       "      <th>Year</th>\n",
       "      <th>Month</th>\n",
       "      <th>DayofMonth</th>\n",
       "      <th>DayOfWeek</th>\n",
       "      <th>DepTime</th>\n",
       "      <th>CRSDepTime</th>\n",
       "      <th>ArrTime</th>\n",
       "      <th>CRSArrTime</th>\n",
       "      <th>UniqueCarrier</th>\n",
       "      <th>FlightNum</th>\n",
       "      <th>ActualElapsedTime</th>\n",
       "      <th>CRSElapsedTime</th>\n",
       "      <th>AirTime</th>\n",
       "      <th>ArrDelay</th>\n",
       "      <th>DepDelay</th>\n",
       "      <th>Origin</th>\n",
       "      <th>Dest</th>\n",
       "      <th>Distance</th>\n",
       "      <th>TaxiIn</th>\n",
       "      <th>TaxiOut</th>\n",
       "      <th>Cancelled</th>\n",
       "      <th>Diverted</th>\n",
       "      <th>CarrierDelay</th>\n",
       "      <th>WeatherDelay</th>\n",
       "      <th>NASDelay</th>\n",
       "      <th>SecurityDelay</th>\n",
       "      <th>LateAircraftDelay</th>\n",
       "      <th>target</th>\n",
       "      <th>TailNum_LabelEncoded</th>\n",
       "    </tr>\n",
       "  </thead>\n",
       "  <tbody>\n",
       "    <tr>\n",
       "      <th>0</th>\n",
       "      <td>2008</td>\n",
       "      <td>1</td>\n",
       "      <td>3</td>\n",
       "      <td>4</td>\n",
       "      <td>2003.0</td>\n",
       "      <td>1955</td>\n",
       "      <td>2211.0</td>\n",
       "      <td>2225</td>\n",
       "      <td>WN</td>\n",
       "      <td>335</td>\n",
       "      <td>128.0</td>\n",
       "      <td>150.0</td>\n",
       "      <td>116.0</td>\n",
       "      <td>-14.0</td>\n",
       "      <td>8.0</td>\n",
       "      <td>IAD</td>\n",
       "      <td>TPA</td>\n",
       "      <td>810</td>\n",
       "      <td>4.0</td>\n",
       "      <td>8.0</td>\n",
       "      <td>0</td>\n",
       "      <td>0</td>\n",
       "      <td>15.0</td>\n",
       "      <td>3.0</td>\n",
       "      <td>17.0</td>\n",
       "      <td>0.0</td>\n",
       "      <td>20.0</td>\n",
       "      <td>0</td>\n",
       "      <td>3761</td>\n",
       "    </tr>\n",
       "    <tr>\n",
       "      <th>1</th>\n",
       "      <td>2008</td>\n",
       "      <td>1</td>\n",
       "      <td>3</td>\n",
       "      <td>4</td>\n",
       "      <td>754.0</td>\n",
       "      <td>735</td>\n",
       "      <td>1002.0</td>\n",
       "      <td>1000</td>\n",
       "      <td>WN</td>\n",
       "      <td>3231</td>\n",
       "      <td>128.0</td>\n",
       "      <td>145.0</td>\n",
       "      <td>113.0</td>\n",
       "      <td>2.0</td>\n",
       "      <td>19.0</td>\n",
       "      <td>IAD</td>\n",
       "      <td>TPA</td>\n",
       "      <td>810</td>\n",
       "      <td>5.0</td>\n",
       "      <td>10.0</td>\n",
       "      <td>0</td>\n",
       "      <td>0</td>\n",
       "      <td>15.0</td>\n",
       "      <td>3.0</td>\n",
       "      <td>17.0</td>\n",
       "      <td>0.0</td>\n",
       "      <td>20.0</td>\n",
       "      <td>0</td>\n",
       "      <td>4121</td>\n",
       "    </tr>\n",
       "    <tr>\n",
       "      <th>2</th>\n",
       "      <td>2008</td>\n",
       "      <td>1</td>\n",
       "      <td>3</td>\n",
       "      <td>4</td>\n",
       "      <td>628.0</td>\n",
       "      <td>620</td>\n",
       "      <td>804.0</td>\n",
       "      <td>750</td>\n",
       "      <td>WN</td>\n",
       "      <td>448</td>\n",
       "      <td>96.0</td>\n",
       "      <td>90.0</td>\n",
       "      <td>76.0</td>\n",
       "      <td>14.0</td>\n",
       "      <td>8.0</td>\n",
       "      <td>IND</td>\n",
       "      <td>BWI</td>\n",
       "      <td>515</td>\n",
       "      <td>3.0</td>\n",
       "      <td>17.0</td>\n",
       "      <td>0</td>\n",
       "      <td>0</td>\n",
       "      <td>15.0</td>\n",
       "      <td>3.0</td>\n",
       "      <td>17.0</td>\n",
       "      <td>0.0</td>\n",
       "      <td>20.0</td>\n",
       "      <td>0</td>\n",
       "      <td>1953</td>\n",
       "    </tr>\n",
       "    <tr>\n",
       "      <th>3</th>\n",
       "      <td>2008</td>\n",
       "      <td>1</td>\n",
       "      <td>3</td>\n",
       "      <td>4</td>\n",
       "      <td>926.0</td>\n",
       "      <td>930</td>\n",
       "      <td>1054.0</td>\n",
       "      <td>1100</td>\n",
       "      <td>WN</td>\n",
       "      <td>1746</td>\n",
       "      <td>88.0</td>\n",
       "      <td>90.0</td>\n",
       "      <td>78.0</td>\n",
       "      <td>-6.0</td>\n",
       "      <td>-4.0</td>\n",
       "      <td>IND</td>\n",
       "      <td>BWI</td>\n",
       "      <td>515</td>\n",
       "      <td>3.0</td>\n",
       "      <td>7.0</td>\n",
       "      <td>0</td>\n",
       "      <td>0</td>\n",
       "      <td>15.0</td>\n",
       "      <td>3.0</td>\n",
       "      <td>17.0</td>\n",
       "      <td>0.0</td>\n",
       "      <td>20.0</td>\n",
       "      <td>0</td>\n",
       "      <td>3051</td>\n",
       "    </tr>\n",
       "    <tr>\n",
       "      <th>4</th>\n",
       "      <td>2008</td>\n",
       "      <td>1</td>\n",
       "      <td>3</td>\n",
       "      <td>4</td>\n",
       "      <td>1829.0</td>\n",
       "      <td>1755</td>\n",
       "      <td>1959.0</td>\n",
       "      <td>1925</td>\n",
       "      <td>WN</td>\n",
       "      <td>3920</td>\n",
       "      <td>90.0</td>\n",
       "      <td>90.0</td>\n",
       "      <td>77.0</td>\n",
       "      <td>34.0</td>\n",
       "      <td>34.0</td>\n",
       "      <td>IND</td>\n",
       "      <td>BWI</td>\n",
       "      <td>515</td>\n",
       "      <td>3.0</td>\n",
       "      <td>10.0</td>\n",
       "      <td>0</td>\n",
       "      <td>0</td>\n",
       "      <td>2.0</td>\n",
       "      <td>0.0</td>\n",
       "      <td>0.0</td>\n",
       "      <td>0.0</td>\n",
       "      <td>32.0</td>\n",
       "      <td>1</td>\n",
       "      <td>2134</td>\n",
       "    </tr>\n",
       "  </tbody>\n",
       "</table>\n",
       "</div>"
      ],
      "text/plain": [
       "   Year  Month  DayofMonth  DayOfWeek  DepTime  CRSDepTime  ArrTime  \\\n",
       "0  2008      1           3          4   2003.0        1955   2211.0   \n",
       "1  2008      1           3          4    754.0         735   1002.0   \n",
       "2  2008      1           3          4    628.0         620    804.0   \n",
       "3  2008      1           3          4    926.0         930   1054.0   \n",
       "4  2008      1           3          4   1829.0        1755   1959.0   \n",
       "\n",
       "   CRSArrTime UniqueCarrier  FlightNum  ActualElapsedTime  CRSElapsedTime  \\\n",
       "0        2225            WN        335              128.0           150.0   \n",
       "1        1000            WN       3231              128.0           145.0   \n",
       "2         750            WN        448               96.0            90.0   \n",
       "3        1100            WN       1746               88.0            90.0   \n",
       "4        1925            WN       3920               90.0            90.0   \n",
       "\n",
       "   AirTime  ArrDelay  DepDelay Origin Dest  Distance  TaxiIn  TaxiOut  \\\n",
       "0    116.0     -14.0       8.0    IAD  TPA       810     4.0      8.0   \n",
       "1    113.0       2.0      19.0    IAD  TPA       810     5.0     10.0   \n",
       "2     76.0      14.0       8.0    IND  BWI       515     3.0     17.0   \n",
       "3     78.0      -6.0      -4.0    IND  BWI       515     3.0      7.0   \n",
       "4     77.0      34.0      34.0    IND  BWI       515     3.0     10.0   \n",
       "\n",
       "   Cancelled  Diverted  CarrierDelay  WeatherDelay  NASDelay  SecurityDelay  \\\n",
       "0          0         0          15.0           3.0      17.0            0.0   \n",
       "1          0         0          15.0           3.0      17.0            0.0   \n",
       "2          0         0          15.0           3.0      17.0            0.0   \n",
       "3          0         0          15.0           3.0      17.0            0.0   \n",
       "4          0         0           2.0           0.0       0.0            0.0   \n",
       "\n",
       "   LateAircraftDelay  target  TailNum_LabelEncoded  \n",
       "0               20.0       0                  3761  \n",
       "1               20.0       0                  4121  \n",
       "2               20.0       0                  1953  \n",
       "3               20.0       0                  3051  \n",
       "4               32.0       1                  2134  "
      ]
     },
     "execution_count": 40,
     "metadata": {
      "tags": []
     },
     "output_type": "execute_result"
    }
   ],
   "source": [
    "airline_arrival.head()"
   ]
  },
  {
   "cell_type": "code",
   "execution_count": 41,
   "metadata": {
    "colab": {
     "autoexec": {
      "startup": false,
      "wait_interval": 0
     },
     "base_uri": "https://localhost:8080/",
     "height": 136
    },
    "colab_type": "code",
    "executionInfo": {
     "elapsed": 714,
     "status": "ok",
     "timestamp": 1526658556044,
     "user": {
      "displayName": "Bảo Trương Đình",
      "photoUrl": "//lh5.googleusercontent.com/-eC4QdQkyBTM/AAAAAAAAAAI/AAAAAAAAAFA/6sBa5lwoOX0/s50-c-k-no/photo.jpg",
      "userId": "102262295523043259192"
     },
     "user_tz": -420
    },
    "id": "3SJA-Zc7TtWL",
    "outputId": "0b5bbc28-70c3-42d4-e1c5-391e4d6d50c3"
   },
   "outputs": [
    {
     "data": {
      "text/plain": [
       "Index(['Year', 'Month', 'DayofMonth', 'DayOfWeek', 'DepTime', 'CRSDepTime',\n",
       "       'ArrTime', 'CRSArrTime', 'UniqueCarrier', 'FlightNum',\n",
       "       'ActualElapsedTime', 'CRSElapsedTime', 'AirTime', 'ArrDelay',\n",
       "       'DepDelay', 'Origin', 'Dest', 'Distance', 'TaxiIn', 'TaxiOut',\n",
       "       'Cancelled', 'Diverted', 'CarrierDelay', 'WeatherDelay', 'NASDelay',\n",
       "       'SecurityDelay', 'LateAircraftDelay', 'target', 'TailNum_LabelEncoded'],\n",
       "      dtype='object')"
      ]
     },
     "execution_count": 41,
     "metadata": {
      "tags": []
     },
     "output_type": "execute_result"
    }
   ],
   "source": [
    "airline_arrival.columns"
   ]
  },
  {
   "cell_type": "code",
   "execution_count": 0,
   "metadata": {
    "colab": {
     "autoexec": {
      "startup": false,
      "wait_interval": 0
     }
    },
    "colab_type": "code",
    "id": "gKu38_XYTtWX"
   },
   "outputs": [],
   "source": [
    "### DepTime, CRSDepTime, ArrTime, CRSArrTime có format hhmm chuyển về mm"
   ]
  },
  {
   "cell_type": "code",
   "execution_count": 0,
   "metadata": {
    "colab": {
     "autoexec": {
      "startup": false,
      "wait_interval": 0
     }
    },
    "colab_type": "code",
    "id": "e3E0xOXgTtWi"
   },
   "outputs": [],
   "source": [
    "airline_arrival['DepTime'] = ((airline_arrival['DepTime'] - (airline_arrival['DepTime'] % 100)) / 100) * 60 + (airline_arrival['DepTime'] % 100)"
   ]
  },
  {
   "cell_type": "code",
   "execution_count": 0,
   "metadata": {
    "colab": {
     "autoexec": {
      "startup": false,
      "wait_interval": 0
     }
    },
    "colab_type": "code",
    "id": "LF6lKtiyTtWl"
   },
   "outputs": [],
   "source": [
    "airline_arrival['CRSDepTime'] = ((airline_arrival['CRSDepTime'] - (airline_arrival['CRSDepTime'] % 100)) / 100) * 60 + (airline_arrival['CRSDepTime'] % 100)"
   ]
  },
  {
   "cell_type": "code",
   "execution_count": 0,
   "metadata": {
    "colab": {
     "autoexec": {
      "startup": false,
      "wait_interval": 0
     }
    },
    "colab_type": "code",
    "id": "lVlU6g1vTtWq"
   },
   "outputs": [],
   "source": [
    "airline_arrival['ArrTime'] = ((airline_arrival['ArrTime'] - (airline_arrival['ArrTime'] % 100)) / 100) * 60 + (airline_arrival['ArrTime'] % 100)"
   ]
  },
  {
   "cell_type": "code",
   "execution_count": 0,
   "metadata": {
    "colab": {
     "autoexec": {
      "startup": false,
      "wait_interval": 0
     }
    },
    "colab_type": "code",
    "id": "XEZPlnbHTtX0"
   },
   "outputs": [],
   "source": [
    "airline_arrival['CRSArrTime'] = ((airline_arrival['CRSArrTime'] - (airline_arrival['CRSArrTime'] % 100)) / 100) * 60 + (airline_arrival['CRSArrTime'] % 100)"
   ]
  },
  {
   "cell_type": "markdown",
   "metadata": {
    "colab_type": "text",
    "id": "3Pe1cWA_TtWQ"
   },
   "source": [
    "### Xử lý kiểu Numberic, đưa về cùng 1 scale (mean=0, std=1)"
   ]
  },
  {
   "cell_type": "code",
   "execution_count": 0,
   "metadata": {
    "colab": {
     "autoexec": {
      "startup": false,
      "wait_interval": 0
     }
    },
    "colab_type": "code",
    "id": "Q4SE8SxFTtX9"
   },
   "outputs": [],
   "source": [
    "# airline_arrival['Year'] = (airline_arrival['Year'] - airline_arrival['Year'].mean())/airline_arrival['Year'].std()\n",
    "airline_arrival['Month'] = (airline_arrival['Month'] - airline_arrival['Month'].mean())/airline_arrival['Month'].std()\n",
    "airline_arrival['DayofMonth'] = (airline_arrival['DayofMonth'] - airline_arrival['DayofMonth'].mean())/airline_arrival['DayofMonth'].std()\n",
    "airline_arrival['DayOfWeek'] = (airline_arrival['DayOfWeek'] - airline_arrival['DayOfWeek'].mean())/airline_arrival['DayOfWeek'].std()\n",
    "airline_arrival['DepTime'] = (airline_arrival['DepTime'] - airline_arrival['DepTime'].mean())/airline_arrival['DepTime'].std()\n",
    "airline_arrival['CRSDepTime'] = (airline_arrival['CRSDepTime'] - airline_arrival['CRSDepTime'].mean())/airline_arrival['CRSDepTime'].std()\n",
    "airline_arrival['ArrTime'] = (airline_arrival['ArrTime'] - airline_arrival['ArrTime'].mean())/airline_arrival['ArrTime'].std()\n",
    "airline_arrival['CRSArrTime'] = (airline_arrival['CRSArrTime'] - airline_arrival['CRSArrTime'].mean())/airline_arrival['CRSArrTime'].std()\n",
    "airline_arrival['FlightNum'] = (airline_arrival['FlightNum'] - airline_arrival['FlightNum'].mean())/airline_arrival['FlightNum'].std()\n",
    "airline_arrival['ActualElapsedTime'] = (airline_arrival['ActualElapsedTime'] - airline_arrival['ActualElapsedTime'].mean())/airline_arrival['ActualElapsedTime'].std()\n",
    "airline_arrival['CRSElapsedTime'] = (airline_arrival['CRSElapsedTime'] - airline_arrival['CRSElapsedTime'].mean())/airline_arrival['CRSElapsedTime'].std()\n",
    "airline_arrival['AirTime'] = (airline_arrival['AirTime'] - airline_arrival['AirTime'].mean())/airline_arrival['AirTime'].std()\n",
    "airline_arrival['ArrDelay'] = (airline_arrival['ArrDelay'] - airline_arrival['ArrDelay'].mean())/airline_arrival['ArrDelay'].std()\n",
    "airline_arrival['DepDelay'] = (airline_arrival['DepDelay'] - airline_arrival['DepDelay'].mean())/airline_arrival['DepDelay'].std()\n",
    "airline_arrival['Distance'] = (airline_arrival['Distance'] - airline_arrival['Distance'].mean())/airline_arrival['Distance'].std()\n",
    "airline_arrival['TaxiIn'] = (airline_arrival['TaxiIn'] - airline_arrival['TaxiIn'].mean())/airline_arrival['TaxiIn'].std()\n",
    "airline_arrival['TaxiOut'] = (airline_arrival['TaxiOut'] - airline_arrival['TaxiOut'].mean())/airline_arrival['TaxiOut'].std()\n",
    "# airline_arrival['Diverted'] = (airline_arrival['Diverted'] - airline_arrival['Diverted'].mean())/airline_arrival['Diverted'].std()\n",
    "airline_arrival['CarrierDelay'] = (airline_arrival['CarrierDelay'] - airline_arrival['CarrierDelay'].mean())/airline_arrival['CarrierDelay'].std()\n",
    "airline_arrival['WeatherDelay'] = (airline_arrival['WeatherDelay'] - airline_arrival['WeatherDelay'].mean())/airline_arrival['WeatherDelay'].std()\n",
    "airline_arrival['NASDelay'] = (airline_arrival['NASDelay'] - airline_arrival['NASDelay'].mean())/airline_arrival['NASDelay'].std()\n",
    "airline_arrival['SecurityDelay'] = (airline_arrival['SecurityDelay'] - airline_arrival['SecurityDelay'].mean())/airline_arrival['SecurityDelay'].std()\n",
    "airline_arrival['LateAircraftDelay'] = (airline_arrival['LateAircraftDelay'] - airline_arrival['LateAircraftDelay'].mean())/airline_arrival['LateAircraftDelay'].std()\n",
    "# airline_arrival['UniqueCarrier_LabelEncoded'] = (airline_arrival['UniqueCarrier_LabelEncoded'] - airline_arrival['UniqueCarrier_LabelEncoded'].mean())/airline_arrival['UniqueCarrier_LabelEncoded'].std()\n",
    "# airline_arrival['TailNum_LabelEncoded'] = (airline_arrival['TailNum_LabelEncoded'] - airline_arrival['TailNum_LabelEncoded'].mean())/airline_arrival['TailNum_LabelEncoded'].std()\n",
    "# airline_arrival['Origin_LabelEncoded'] = (airline_arrival['Origin_LabelEncoded'] - airline_arrival['Origin_LabelEncoded'].mean())/airline_arrival['Origin_LabelEncoded'].std()\n",
    "# airline_arrival['Dest_LabelEncoded'] = (airline_arrival['Dest_LabelEncoded'] - airline_arrival['Dest_LabelEncoded'].mean())/airline_arrival['Dest_LabelEncoded'].std()"
   ]
  },
  {
   "cell_type": "code",
   "execution_count": 48,
   "metadata": {
    "colab": {
     "autoexec": {
      "startup": false,
      "wait_interval": 0
     },
     "base_uri": "https://localhost:8080/",
     "height": 136
    },
    "colab_type": "code",
    "executionInfo": {
     "elapsed": 662,
     "status": "ok",
     "timestamp": 1526658590043,
     "user": {
      "displayName": "Bảo Trương Đình",
      "photoUrl": "//lh5.googleusercontent.com/-eC4QdQkyBTM/AAAAAAAAAAI/AAAAAAAAAFA/6sBa5lwoOX0/s50-c-k-no/photo.jpg",
      "userId": "102262295523043259192"
     },
     "user_tz": -420
    },
    "id": "VAxDl9UH1M8_",
    "outputId": "c3220364-2d60-4e57-fd59-7f7d5db557ea"
   },
   "outputs": [
    {
     "data": {
      "text/plain": [
       "Index(['Year', 'Month', 'DayofMonth', 'DayOfWeek', 'DepTime', 'CRSDepTime',\n",
       "       'ArrTime', 'CRSArrTime', 'UniqueCarrier', 'FlightNum',\n",
       "       'ActualElapsedTime', 'CRSElapsedTime', 'AirTime', 'ArrDelay',\n",
       "       'DepDelay', 'Origin', 'Dest', 'Distance', 'TaxiIn', 'TaxiOut',\n",
       "       'Cancelled', 'Diverted', 'CarrierDelay', 'WeatherDelay', 'NASDelay',\n",
       "       'SecurityDelay', 'LateAircraftDelay', 'target', 'TailNum_LabelEncoded'],\n",
       "      dtype='object')"
      ]
     },
     "execution_count": 48,
     "metadata": {
      "tags": []
     },
     "output_type": "execute_result"
    }
   ],
   "source": [
    "airline_arrival.columns"
   ]
  },
  {
   "cell_type": "markdown",
   "metadata": {
    "colab_type": "text",
    "id": "mi2wtdcm6xAV"
   },
   "source": [
    "# Chọn số sample để train"
   ]
  },
  {
   "cell_type": "code",
   "execution_count": 0,
   "metadata": {
    "colab": {
     "autoexec": {
      "startup": false,
      "wait_interval": 0
     }
    },
    "colab_type": "code",
    "id": "uxO0ngxVTtYV"
   },
   "outputs": [],
   "source": [
    "airline_arrival = airline_arrival.sample(n=5000, random_state=50)"
   ]
  },
  {
   "cell_type": "code",
   "execution_count": 0,
   "metadata": {
    "colab": {
     "autoexec": {
      "startup": false,
      "wait_interval": 0
     }
    },
    "colab_type": "code",
    "id": "V4EAqv7p1ZaP"
   },
   "outputs": [],
   "source": [
    "feature_columns = ['Month', 'DayofMonth', 'DayOfWeek', 'DepTime', 'CRSDepTime',\n",
    "       'ArrTime', 'CRSArrTime', 'UniqueCarrier', 'FlightNum', 'ActualElapsedTime',\n",
    "       'CRSElapsedTime', 'AirTime', 'Origin', 'Dest', 'Distance',\n",
    "       'TaxiIn', 'TaxiOut', 'Cancelled', 'Diverted', 'CarrierDelay',\n",
    "       'WeatherDelay', 'NASDelay', 'SecurityDelay', 'LateAircraftDelay',\n",
    "       'TailNum_LabelEncoded']\n",
    "#'ArrDelay', 'DepDelay', \n",
    "X = airline_arrival[feature_columns]\n",
    "y = airline_arrival['target']"
   ]
  },
  {
   "cell_type": "code",
   "execution_count": 0,
   "metadata": {
    "colab": {
     "autoexec": {
      "startup": false,
      "wait_interval": 0
     }
    },
    "colab_type": "code",
    "id": "yzeKa-3P1Ixu"
   },
   "outputs": [],
   "source": [
    "X = pd.get_dummies(X, columns=['UniqueCarrier', 'Origin', 'Dest']);"
   ]
  },
  {
   "cell_type": "code",
   "execution_count": 52,
   "metadata": {
    "colab": {
     "autoexec": {
      "startup": false,
      "wait_interval": 0
     },
     "base_uri": "https://localhost:8080/",
     "height": 34
    },
    "colab_type": "code",
    "executionInfo": {
     "elapsed": 693,
     "status": "ok",
     "timestamp": 1526658608107,
     "user": {
      "displayName": "Bảo Trương Đình",
      "photoUrl": "//lh5.googleusercontent.com/-eC4QdQkyBTM/AAAAAAAAAAI/AAAAAAAAAFA/6sBa5lwoOX0/s50-c-k-no/photo.jpg",
      "userId": "102262295523043259192"
     },
     "user_tz": -420
    },
    "id": "M4wgZq_I4lrw",
    "outputId": "4ca92e40-148b-4f2d-c0fb-c984bb5fe4c2"
   },
   "outputs": [
    {
     "data": {
      "text/plain": [
       "(5000, 505)"
      ]
     },
     "execution_count": 52,
     "metadata": {
      "tags": []
     },
     "output_type": "execute_result"
    }
   ],
   "source": [
    "X.shape"
   ]
  },
  {
   "cell_type": "code",
   "execution_count": 0,
   "metadata": {
    "colab": {
     "autoexec": {
      "startup": false,
      "wait_interval": 0
     }
    },
    "colab_type": "code",
    "id": "kuhTcnBETtYf"
   },
   "outputs": [],
   "source": [
    "pca = PCA(n_components=400)\n",
    "principalComponents = pca.fit_transform(X)\n",
    "\n",
    "name_components = []\n",
    "for i in range(400):\n",
    "    name_components.append('principal component ' + str(i + 1))\n",
    "\n",
    "X_pca = pd.DataFrame(data = principalComponents, columns = name_components)"
   ]
  },
  {
   "cell_type": "code",
   "execution_count": 54,
   "metadata": {
    "colab": {
     "autoexec": {
      "startup": false,
      "wait_interval": 0
     },
     "base_uri": "https://localhost:8080/",
     "height": 102
    },
    "colab_type": "code",
    "executionInfo": {
     "elapsed": 960,
     "status": "ok",
     "timestamp": 1526658617143,
     "user": {
      "displayName": "Bảo Trương Đình",
      "photoUrl": "//lh5.googleusercontent.com/-eC4QdQkyBTM/AAAAAAAAAAI/AAAAAAAAAFA/6sBa5lwoOX0/s50-c-k-no/photo.jpg",
      "userId": "102262295523043259192"
     },
     "user_tz": -420
    },
    "id": "PU2fveXP5Zyh",
    "outputId": "5257ade6-9762-4ffc-927a-499997b1ef17"
   },
   "outputs": [
    {
     "name": "stderr",
     "output_type": "stream",
     "text": [
      "/usr/local/lib/python3.6/dist-packages/sklearn/feature_selection/univariate_selection.py:113: UserWarning: Features [14 15] are constant.\n",
      "  UserWarning)\n",
      "/usr/local/lib/python3.6/dist-packages/sklearn/feature_selection/univariate_selection.py:114: RuntimeWarning: invalid value encountered in true_divide\n",
      "  f = msb / msw\n"
     ]
    },
    {
     "data": {
      "text/plain": [
       "(5000, 200)"
      ]
     },
     "execution_count": 54,
     "metadata": {
      "tags": []
     },
     "output_type": "execute_result"
    }
   ],
   "source": [
    "selector = SelectKBest(f_classif, k=200)\n",
    "selector.fit(X, y)\n",
    "\n",
    "X_SelectKBest = selector.transform(X)\n",
    "X_SelectKBest.shape"
   ]
  },
  {
   "cell_type": "code",
   "execution_count": 55,
   "metadata": {
    "colab": {
     "autoexec": {
      "startup": false,
      "wait_interval": 0
     },
     "base_uri": "https://localhost:8080/",
     "height": 34
    },
    "colab_type": "code",
    "executionInfo": {
     "elapsed": 733,
     "status": "ok",
     "timestamp": 1526658620741,
     "user": {
      "displayName": "Bảo Trương Đình",
      "photoUrl": "//lh5.googleusercontent.com/-eC4QdQkyBTM/AAAAAAAAAAI/AAAAAAAAAFA/6sBa5lwoOX0/s50-c-k-no/photo.jpg",
      "userId": "102262295523043259192"
     },
     "user_tz": -420
    },
    "id": "hERKTMJz6BLT",
    "outputId": "7831373b-1f03-4314-c698-0625305eac2e"
   },
   "outputs": [
    {
     "data": {
      "text/plain": [
       "(5000, 505)"
      ]
     },
     "execution_count": 55,
     "metadata": {
      "tags": []
     },
     "output_type": "execute_result"
    }
   ],
   "source": [
    "X.shape"
   ]
  },
  {
   "cell_type": "code",
   "execution_count": 56,
   "metadata": {
    "colab": {
     "autoexec": {
      "startup": false,
      "wait_interval": 0
     },
     "base_uri": "https://localhost:8080/",
     "height": 34
    },
    "colab_type": "code",
    "executionInfo": {
     "elapsed": 655,
     "status": "ok",
     "timestamp": 1526658624130,
     "user": {
      "displayName": "Bảo Trương Đình",
      "photoUrl": "//lh5.googleusercontent.com/-eC4QdQkyBTM/AAAAAAAAAAI/AAAAAAAAAFA/6sBa5lwoOX0/s50-c-k-no/photo.jpg",
      "userId": "102262295523043259192"
     },
     "user_tz": -420
    },
    "id": "7n--D_tf6DnG",
    "outputId": "453549ad-793a-4683-e045-0cf251c5aff3"
   },
   "outputs": [
    {
     "data": {
      "text/plain": [
       "(5000, 400)"
      ]
     },
     "execution_count": 56,
     "metadata": {
      "tags": []
     },
     "output_type": "execute_result"
    }
   ],
   "source": [
    "X_pca.shape"
   ]
  },
  {
   "cell_type": "code",
   "execution_count": 57,
   "metadata": {
    "colab": {
     "autoexec": {
      "startup": false,
      "wait_interval": 0
     },
     "base_uri": "https://localhost:8080/",
     "height": 224
    },
    "colab_type": "code",
    "executionInfo": {
     "elapsed": 1276,
     "status": "ok",
     "timestamp": 1526658627479,
     "user": {
      "displayName": "Bảo Trương Đình",
      "photoUrl": "//lh5.googleusercontent.com/-eC4QdQkyBTM/AAAAAAAAAAI/AAAAAAAAAFA/6sBa5lwoOX0/s50-c-k-no/photo.jpg",
      "userId": "102262295523043259192"
     },
     "user_tz": -420
    },
    "id": "AqljNUceTtYk",
    "outputId": "68bf393c-062d-457b-8ee8-710e5ed32857"
   },
   "outputs": [
    {
     "data": {
      "text/html": [
       "<div>\n",
       "<style scoped>\n",
       "    .dataframe tbody tr th:only-of-type {\n",
       "        vertical-align: middle;\n",
       "    }\n",
       "\n",
       "    .dataframe tbody tr th {\n",
       "        vertical-align: top;\n",
       "    }\n",
       "\n",
       "    .dataframe thead th {\n",
       "        text-align: right;\n",
       "    }\n",
       "</style>\n",
       "<table border=\"1\" class=\"dataframe\">\n",
       "  <thead>\n",
       "    <tr style=\"text-align: right;\">\n",
       "      <th></th>\n",
       "      <th>Month</th>\n",
       "      <th>DayofMonth</th>\n",
       "      <th>DayOfWeek</th>\n",
       "      <th>DepTime</th>\n",
       "      <th>CRSDepTime</th>\n",
       "      <th>ArrTime</th>\n",
       "      <th>CRSArrTime</th>\n",
       "      <th>FlightNum</th>\n",
       "      <th>ActualElapsedTime</th>\n",
       "      <th>CRSElapsedTime</th>\n",
       "      <th>AirTime</th>\n",
       "      <th>Distance</th>\n",
       "      <th>TaxiIn</th>\n",
       "      <th>TaxiOut</th>\n",
       "      <th>Cancelled</th>\n",
       "      <th>Diverted</th>\n",
       "      <th>CarrierDelay</th>\n",
       "      <th>WeatherDelay</th>\n",
       "      <th>NASDelay</th>\n",
       "      <th>SecurityDelay</th>\n",
       "      <th>LateAircraftDelay</th>\n",
       "      <th>TailNum_LabelEncoded</th>\n",
       "      <th>UniqueCarrier_9E</th>\n",
       "      <th>UniqueCarrier_AA</th>\n",
       "      <th>UniqueCarrier_AQ</th>\n",
       "      <th>UniqueCarrier_AS</th>\n",
       "      <th>UniqueCarrier_B6</th>\n",
       "      <th>UniqueCarrier_CO</th>\n",
       "      <th>UniqueCarrier_DL</th>\n",
       "      <th>UniqueCarrier_EV</th>\n",
       "      <th>UniqueCarrier_F9</th>\n",
       "      <th>UniqueCarrier_FL</th>\n",
       "      <th>UniqueCarrier_HA</th>\n",
       "      <th>UniqueCarrier_MQ</th>\n",
       "      <th>UniqueCarrier_NW</th>\n",
       "      <th>UniqueCarrier_OH</th>\n",
       "      <th>UniqueCarrier_OO</th>\n",
       "      <th>UniqueCarrier_UA</th>\n",
       "      <th>UniqueCarrier_US</th>\n",
       "      <th>UniqueCarrier_WN</th>\n",
       "      <th>UniqueCarrier_XE</th>\n",
       "      <th>UniqueCarrier_YV</th>\n",
       "      <th>Origin_ABE</th>\n",
       "      <th>Origin_ABI</th>\n",
       "      <th>Origin_ABQ</th>\n",
       "      <th>Origin_ACT</th>\n",
       "      <th>Origin_ACV</th>\n",
       "      <th>Origin_ADQ</th>\n",
       "      <th>Origin_AEX</th>\n",
       "      <th>Origin_AGS</th>\n",
       "      <th>Origin_ALB</th>\n",
       "      <th>Origin_ALO</th>\n",
       "      <th>Origin_AMA</th>\n",
       "      <th>Origin_ANC</th>\n",
       "      <th>Origin_ASE</th>\n",
       "      <th>Origin_ATL</th>\n",
       "      <th>Origin_ATW</th>\n",
       "      <th>Origin_AUS</th>\n",
       "      <th>Origin_AVL</th>\n",
       "      <th>Origin_AVP</th>\n",
       "      <th>Origin_BDL</th>\n",
       "      <th>Origin_BFL</th>\n",
       "      <th>Origin_BGM</th>\n",
       "      <th>Origin_BHM</th>\n",
       "      <th>Origin_BIL</th>\n",
       "      <th>Origin_BIS</th>\n",
       "      <th>Origin_BMI</th>\n",
       "      <th>Origin_BNA</th>\n",
       "      <th>Origin_BOI</th>\n",
       "      <th>Origin_BOS</th>\n",
       "      <th>Origin_BRO</th>\n",
       "      <th>Origin_BTM</th>\n",
       "      <th>Origin_BTR</th>\n",
       "      <th>Origin_BTV</th>\n",
       "      <th>Origin_BUF</th>\n",
       "      <th>Origin_BUR</th>\n",
       "      <th>Origin_BWI</th>\n",
       "      <th>Origin_BZN</th>\n",
       "      <th>Origin_CAE</th>\n",
       "      <th>Origin_CAK</th>\n",
       "      <th>Origin_CEC</th>\n",
       "      <th>Origin_CHA</th>\n",
       "      <th>Origin_CHS</th>\n",
       "      <th>Origin_CID</th>\n",
       "      <th>Origin_CLD</th>\n",
       "      <th>Origin_CLE</th>\n",
       "      <th>Origin_CLT</th>\n",
       "      <th>Origin_CMH</th>\n",
       "      <th>Origin_CMI</th>\n",
       "      <th>Origin_COS</th>\n",
       "      <th>Origin_CPR</th>\n",
       "      <th>Origin_CRP</th>\n",
       "      <th>Origin_CRW</th>\n",
       "      <th>Origin_CSG</th>\n",
       "      <th>Origin_CVG</th>\n",
       "      <th>Origin_DAB</th>\n",
       "      <th>Origin_DAL</th>\n",
       "      <th>Origin_DAY</th>\n",
       "      <th>Origin_DBQ</th>\n",
       "      <th>Origin_DCA</th>\n",
       "      <th>Origin_DEN</th>\n",
       "      <th>Origin_DFW</th>\n",
       "      <th>Origin_DRO</th>\n",
       "      <th>Origin_DSM</th>\n",
       "      <th>Origin_DTW</th>\n",
       "      <th>Origin_EGE</th>\n",
       "      <th>Origin_EKO</th>\n",
       "      <th>Origin_ELM</th>\n",
       "      <th>Origin_ELP</th>\n",
       "      <th>Origin_EUG</th>\n",
       "      <th>Origin_EVV</th>\n",
       "      <th>Origin_EWR</th>\n",
       "      <th>Origin_EYW</th>\n",
       "      <th>Origin_FAI</th>\n",
       "      <th>Origin_FAR</th>\n",
       "      <th>Origin_FAT</th>\n",
       "      <th>Origin_FCA</th>\n",
       "      <th>Origin_FLL</th>\n",
       "      <th>Origin_FLO</th>\n",
       "      <th>Origin_FNT</th>\n",
       "      <th>Origin_FSD</th>\n",
       "      <th>Origin_FWA</th>\n",
       "      <th>Origin_GCC</th>\n",
       "      <th>Origin_GEG</th>\n",
       "      <th>Origin_GFK</th>\n",
       "      <th>Origin_GGG</th>\n",
       "      <th>Origin_GJT</th>\n",
       "      <th>Origin_GNV</th>\n",
       "      <th>Origin_GPT</th>\n",
       "      <th>Origin_GRB</th>\n",
       "      <th>Origin_GRK</th>\n",
       "      <th>Origin_GRR</th>\n",
       "      <th>Origin_GSO</th>\n",
       "      <th>Origin_GSP</th>\n",
       "      <th>Origin_GST</th>\n",
       "      <th>Origin_GTF</th>\n",
       "      <th>Origin_HDN</th>\n",
       "      <th>Origin_HNL</th>\n",
       "      <th>Origin_HOU</th>\n",
       "      <th>Origin_HPN</th>\n",
       "      <th>Origin_HRL</th>\n",
       "      <th>Origin_HSV</th>\n",
       "      <th>Origin_IAD</th>\n",
       "      <th>Origin_IAH</th>\n",
       "      <th>Origin_ICT</th>\n",
       "      <th>Origin_IDA</th>\n",
       "      <th>Origin_ILM</th>\n",
       "      <th>Origin_IND</th>\n",
       "      <th>Origin_IPL</th>\n",
       "      <th>Origin_ISP</th>\n",
       "      <th>Origin_ITO</th>\n",
       "      <th>Origin_IYK</th>\n",
       "      <th>Origin_JAC</th>\n",
       "      <th>Origin_JAN</th>\n",
       "      <th>Origin_JAX</th>\n",
       "      <th>Origin_JFK</th>\n",
       "      <th>Origin_JNU</th>\n",
       "      <th>Origin_KOA</th>\n",
       "      <th>Origin_KTN</th>\n",
       "      <th>Origin_LAN</th>\n",
       "      <th>Origin_LAS</th>\n",
       "      <th>Origin_LAW</th>\n",
       "      <th>Origin_LAX</th>\n",
       "      <th>Origin_LBB</th>\n",
       "      <th>Origin_LCH</th>\n",
       "      <th>Origin_LEX</th>\n",
       "      <th>Origin_LFT</th>\n",
       "      <th>Origin_LGA</th>\n",
       "      <th>Origin_LGB</th>\n",
       "      <th>Origin_LIH</th>\n",
       "      <th>Origin_LIT</th>\n",
       "      <th>Origin_LRD</th>\n",
       "      <th>Origin_LWS</th>\n",
       "      <th>Origin_MAF</th>\n",
       "      <th>Origin_MBS</th>\n",
       "      <th>Origin_MCI</th>\n",
       "      <th>Origin_MCO</th>\n",
       "      <th>Origin_MDT</th>\n",
       "      <th>Origin_MDW</th>\n",
       "      <th>Origin_MEM</th>\n",
       "      <th>Origin_MFE</th>\n",
       "      <th>Origin_MFR</th>\n",
       "      <th>Origin_MGM</th>\n",
       "      <th>Origin_MHT</th>\n",
       "      <th>Origin_MIA</th>\n",
       "      <th>Origin_MKE</th>\n",
       "      <th>Origin_MLB</th>\n",
       "      <th>Origin_MLI</th>\n",
       "      <th>Origin_MLU</th>\n",
       "      <th>Origin_MOB</th>\n",
       "      <th>Origin_MOD</th>\n",
       "      <th>Origin_MRY</th>\n",
       "      <th>Origin_MSN</th>\n",
       "      <th>Origin_MSO</th>\n",
       "      <th>Origin_MSP</th>\n",
       "      <th>Origin_MSY</th>\n",
       "      <th>Origin_MTJ</th>\n",
       "      <th>Origin_MYR</th>\n",
       "      <th>Origin_OAJ</th>\n",
       "      <th>Origin_OAK</th>\n",
       "      <th>Origin_OGG</th>\n",
       "      <th>Origin_OKC</th>\n",
       "      <th>Origin_OMA</th>\n",
       "      <th>Origin_OME</th>\n",
       "      <th>Origin_ONT</th>\n",
       "      <th>Origin_ORD</th>\n",
       "      <th>Origin_ORF</th>\n",
       "      <th>Origin_OTH</th>\n",
       "      <th>Origin_OXR</th>\n",
       "      <th>Origin_PBI</th>\n",
       "      <th>Origin_PDX</th>\n",
       "      <th>Origin_PFN</th>\n",
       "      <th>Origin_PHL</th>\n",
       "      <th>Origin_PHX</th>\n",
       "      <th>Origin_PIA</th>\n",
       "      <th>Origin_PIH</th>\n",
       "      <th>Origin_PIT</th>\n",
       "      <th>Origin_PLN</th>\n",
       "      <th>Origin_PNS</th>\n",
       "      <th>Origin_PSC</th>\n",
       "      <th>Origin_PSG</th>\n",
       "      <th>Origin_PSP</th>\n",
       "      <th>Origin_PVD</th>\n",
       "      <th>Origin_PWM</th>\n",
       "      <th>Origin_RAP</th>\n",
       "      <th>Origin_RDD</th>\n",
       "      <th>Origin_RDM</th>\n",
       "      <th>Origin_RDU</th>\n",
       "      <th>Origin_RIC</th>\n",
       "      <th>Origin_RNO</th>\n",
       "      <th>Origin_ROA</th>\n",
       "      <th>Origin_ROC</th>\n",
       "      <th>Origin_ROW</th>\n",
       "      <th>Origin_RST</th>\n",
       "      <th>Origin_RSW</th>\n",
       "      <th>Origin_SAN</th>\n",
       "      <th>Origin_SAT</th>\n",
       "      <th>Origin_SAV</th>\n",
       "      <th>Origin_SBA</th>\n",
       "      <th>Origin_SBN</th>\n",
       "      <th>Origin_SBP</th>\n",
       "      <th>Origin_SDF</th>\n",
       "      <th>Origin_SEA</th>\n",
       "      <th>Origin_SFO</th>\n",
       "      <th>Origin_SGF</th>\n",
       "      <th>Origin_SGU</th>\n",
       "      <th>Origin_SHV</th>\n",
       "      <th>Origin_SIT</th>\n",
       "      <th>Origin_SJC</th>\n",
       "      <th>Origin_SJU</th>\n",
       "      <th>Origin_SLC</th>\n",
       "      <th>Origin_SMF</th>\n",
       "      <th>Origin_SNA</th>\n",
       "      <th>Origin_SPS</th>\n",
       "      <th>Origin_SRQ</th>\n",
       "      <th>Origin_STL</th>\n",
       "      <th>Origin_STT</th>\n",
       "      <th>Origin_SUN</th>\n",
       "      <th>Origin_SWF</th>\n",
       "      <th>Origin_SYR</th>\n",
       "      <th>Origin_TLH</th>\n",
       "      <th>Origin_TOL</th>\n",
       "      <th>Origin_TPA</th>\n",
       "      <th>Origin_TRI</th>\n",
       "      <th>Origin_TUL</th>\n",
       "      <th>Origin_TUS</th>\n",
       "      <th>Origin_TVC</th>\n",
       "      <th>Origin_TYR</th>\n",
       "      <th>Origin_TYS</th>\n",
       "      <th>Origin_VPS</th>\n",
       "      <th>Origin_XNA</th>\n",
       "      <th>Origin_YKM</th>\n",
       "      <th>Origin_YUM</th>\n",
       "      <th>Dest_ABE</th>\n",
       "      <th>Dest_ABI</th>\n",
       "      <th>Dest_ABQ</th>\n",
       "      <th>Dest_ABY</th>\n",
       "      <th>Dest_ACT</th>\n",
       "      <th>Dest_ACV</th>\n",
       "      <th>Dest_ADQ</th>\n",
       "      <th>Dest_AEX</th>\n",
       "      <th>Dest_AGS</th>\n",
       "      <th>Dest_ALB</th>\n",
       "      <th>Dest_AMA</th>\n",
       "      <th>Dest_ANC</th>\n",
       "      <th>Dest_ASE</th>\n",
       "      <th>Dest_ATL</th>\n",
       "      <th>Dest_ATW</th>\n",
       "      <th>Dest_AUS</th>\n",
       "      <th>Dest_AVL</th>\n",
       "      <th>Dest_AVP</th>\n",
       "      <th>Dest_AZO</th>\n",
       "      <th>Dest_BDL</th>\n",
       "      <th>Dest_BET</th>\n",
       "      <th>Dest_BFL</th>\n",
       "      <th>Dest_BGR</th>\n",
       "      <th>Dest_BHM</th>\n",
       "      <th>Dest_BIL</th>\n",
       "      <th>Dest_BIS</th>\n",
       "      <th>Dest_BMI</th>\n",
       "      <th>Dest_BNA</th>\n",
       "      <th>Dest_BOI</th>\n",
       "      <th>Dest_BOS</th>\n",
       "      <th>Dest_BQK</th>\n",
       "      <th>Dest_BQN</th>\n",
       "      <th>Dest_BRO</th>\n",
       "      <th>Dest_BTR</th>\n",
       "      <th>Dest_BTV</th>\n",
       "      <th>Dest_BUF</th>\n",
       "      <th>Dest_BUR</th>\n",
       "      <th>Dest_BWI</th>\n",
       "      <th>Dest_BZN</th>\n",
       "      <th>Dest_CAE</th>\n",
       "      <th>Dest_CAK</th>\n",
       "      <th>Dest_CHA</th>\n",
       "      <th>Dest_CHS</th>\n",
       "      <th>Dest_CID</th>\n",
       "      <th>Dest_CLD</th>\n",
       "      <th>Dest_CLE</th>\n",
       "      <th>Dest_CLT</th>\n",
       "      <th>Dest_CMH</th>\n",
       "      <th>Dest_CMI</th>\n",
       "      <th>Dest_COS</th>\n",
       "      <th>Dest_CPR</th>\n",
       "      <th>Dest_CRP</th>\n",
       "      <th>Dest_CRW</th>\n",
       "      <th>Dest_CVG</th>\n",
       "      <th>Dest_CWA</th>\n",
       "      <th>Dest_DAL</th>\n",
       "      <th>Dest_DAY</th>\n",
       "      <th>Dest_DCA</th>\n",
       "      <th>Dest_DEN</th>\n",
       "      <th>Dest_DFW</th>\n",
       "      <th>Dest_DHN</th>\n",
       "      <th>Dest_DLH</th>\n",
       "      <th>Dest_DRO</th>\n",
       "      <th>Dest_DSM</th>\n",
       "      <th>Dest_DTW</th>\n",
       "      <th>Dest_EGE</th>\n",
       "      <th>Dest_ELM</th>\n",
       "      <th>Dest_ELP</th>\n",
       "      <th>Dest_EUG</th>\n",
       "      <th>Dest_EVV</th>\n",
       "      <th>Dest_EWR</th>\n",
       "      <th>Dest_FAI</th>\n",
       "      <th>Dest_FAR</th>\n",
       "      <th>Dest_FAT</th>\n",
       "      <th>Dest_FAY</th>\n",
       "      <th>Dest_FCA</th>\n",
       "      <th>Dest_FLL</th>\n",
       "      <th>Dest_FLO</th>\n",
       "      <th>Dest_FNT</th>\n",
       "      <th>Dest_FSD</th>\n",
       "      <th>Dest_FSM</th>\n",
       "      <th>Dest_FWA</th>\n",
       "      <th>Dest_GEG</th>\n",
       "      <th>Dest_GFK</th>\n",
       "      <th>Dest_GJT</th>\n",
       "      <th>Dest_GNV</th>\n",
       "      <th>Dest_GPT</th>\n",
       "      <th>Dest_GRB</th>\n",
       "      <th>Dest_GRK</th>\n",
       "      <th>Dest_GRR</th>\n",
       "      <th>Dest_GSO</th>\n",
       "      <th>Dest_GSP</th>\n",
       "      <th>Dest_GTF</th>\n",
       "      <th>Dest_HDN</th>\n",
       "      <th>Dest_HHH</th>\n",
       "      <th>Dest_HNL</th>\n",
       "      <th>Dest_HOU</th>\n",
       "      <th>Dest_HPN</th>\n",
       "      <th>Dest_HRL</th>\n",
       "      <th>Dest_HSV</th>\n",
       "      <th>Dest_IAD</th>\n",
       "      <th>Dest_IAH</th>\n",
       "      <th>Dest_ICT</th>\n",
       "      <th>Dest_IDA</th>\n",
       "      <th>Dest_ILM</th>\n",
       "      <th>Dest_IND</th>\n",
       "      <th>Dest_IPL</th>\n",
       "      <th>Dest_ISP</th>\n",
       "      <th>Dest_ITO</th>\n",
       "      <th>Dest_JAC</th>\n",
       "      <th>Dest_JAN</th>\n",
       "      <th>Dest_JAX</th>\n",
       "      <th>Dest_JFK</th>\n",
       "      <th>Dest_JNU</th>\n",
       "      <th>Dest_KOA</th>\n",
       "      <th>Dest_KTN</th>\n",
       "      <th>Dest_LAN</th>\n",
       "      <th>Dest_LAS</th>\n",
       "      <th>Dest_LAW</th>\n",
       "      <th>Dest_LAX</th>\n",
       "      <th>Dest_LBB</th>\n",
       "      <th>Dest_LEX</th>\n",
       "      <th>Dest_LFT</th>\n",
       "      <th>Dest_LGA</th>\n",
       "      <th>Dest_LGB</th>\n",
       "      <th>Dest_LIH</th>\n",
       "      <th>Dest_LIT</th>\n",
       "      <th>Dest_LNK</th>\n",
       "      <th>Dest_LRD</th>\n",
       "      <th>Dest_LSE</th>\n",
       "      <th>Dest_MAF</th>\n",
       "      <th>Dest_MBS</th>\n",
       "      <th>Dest_MCI</th>\n",
       "      <th>Dest_MCN</th>\n",
       "      <th>Dest_MCO</th>\n",
       "      <th>Dest_MDT</th>\n",
       "      <th>Dest_MDW</th>\n",
       "      <th>Dest_MEM</th>\n",
       "      <th>Dest_MFE</th>\n",
       "      <th>Dest_MFR</th>\n",
       "      <th>Dest_MGM</th>\n",
       "      <th>Dest_MHT</th>\n",
       "      <th>Dest_MIA</th>\n",
       "      <th>Dest_MKE</th>\n",
       "      <th>Dest_MKG</th>\n",
       "      <th>Dest_MLI</th>\n",
       "      <th>Dest_MLU</th>\n",
       "      <th>Dest_MOB</th>\n",
       "      <th>Dest_MOD</th>\n",
       "      <th>Dest_MOT</th>\n",
       "      <th>Dest_MRY</th>\n",
       "      <th>Dest_MSN</th>\n",
       "      <th>Dest_MSO</th>\n",
       "      <th>Dest_MSP</th>\n",
       "      <th>Dest_MSY</th>\n",
       "      <th>Dest_MYR</th>\n",
       "      <th>Dest_OAJ</th>\n",
       "      <th>Dest_OAK</th>\n",
       "      <th>Dest_OGG</th>\n",
       "      <th>Dest_OKC</th>\n",
       "      <th>Dest_OMA</th>\n",
       "      <th>Dest_ONT</th>\n",
       "      <th>Dest_ORD</th>\n",
       "      <th>Dest_ORF</th>\n",
       "      <th>Dest_OTZ</th>\n",
       "      <th>Dest_OXR</th>\n",
       "      <th>Dest_PBI</th>\n",
       "      <th>Dest_PDX</th>\n",
       "      <th>Dest_PFN</th>\n",
       "      <th>Dest_PHF</th>\n",
       "      <th>Dest_PHL</th>\n",
       "      <th>Dest_PHX</th>\n",
       "      <th>Dest_PIA</th>\n",
       "      <th>Dest_PIH</th>\n",
       "      <th>Dest_PIT</th>\n",
       "      <th>Dest_PMD</th>\n",
       "      <th>Dest_PNS</th>\n",
       "      <th>Dest_PSC</th>\n",
       "      <th>Dest_PSP</th>\n",
       "      <th>Dest_PVD</th>\n",
       "      <th>Dest_PWM</th>\n",
       "      <th>Dest_RAP</th>\n",
       "      <th>Dest_RDM</th>\n",
       "      <th>Dest_RDU</th>\n",
       "      <th>Dest_RFD</th>\n",
       "      <th>Dest_RIC</th>\n",
       "      <th>Dest_RKS</th>\n",
       "      <th>Dest_RNO</th>\n",
       "      <th>Dest_ROA</th>\n",
       "      <th>Dest_ROC</th>\n",
       "      <th>Dest_RST</th>\n",
       "      <th>Dest_RSW</th>\n",
       "      <th>Dest_SAN</th>\n",
       "      <th>Dest_SAT</th>\n",
       "      <th>Dest_SAV</th>\n",
       "      <th>Dest_SBA</th>\n",
       "      <th>Dest_SBN</th>\n",
       "      <th>Dest_SBP</th>\n",
       "      <th>Dest_SCC</th>\n",
       "      <th>Dest_SDF</th>\n",
       "      <th>Dest_SEA</th>\n",
       "      <th>Dest_SFO</th>\n",
       "      <th>Dest_SGF</th>\n",
       "      <th>Dest_SGU</th>\n",
       "      <th>Dest_SHV</th>\n",
       "      <th>Dest_SIT</th>\n",
       "      <th>Dest_SJC</th>\n",
       "      <th>Dest_SJU</th>\n",
       "      <th>Dest_SLC</th>\n",
       "      <th>Dest_SMF</th>\n",
       "      <th>Dest_SMX</th>\n",
       "      <th>Dest_SNA</th>\n",
       "      <th>Dest_SPI</th>\n",
       "      <th>Dest_SRQ</th>\n",
       "      <th>Dest_STL</th>\n",
       "      <th>Dest_STT</th>\n",
       "      <th>Dest_SWF</th>\n",
       "      <th>Dest_SYR</th>\n",
       "      <th>Dest_TLH</th>\n",
       "      <th>Dest_TOL</th>\n",
       "      <th>Dest_TPA</th>\n",
       "      <th>Dest_TRI</th>\n",
       "      <th>Dest_TUL</th>\n",
       "      <th>Dest_TUS</th>\n",
       "      <th>Dest_TVC</th>\n",
       "      <th>Dest_TWF</th>\n",
       "      <th>Dest_TYR</th>\n",
       "      <th>Dest_TYS</th>\n",
       "      <th>Dest_VPS</th>\n",
       "      <th>Dest_WRG</th>\n",
       "      <th>Dest_XNA</th>\n",
       "      <th>Dest_YUM</th>\n",
       "    </tr>\n",
       "  </thead>\n",
       "  <tbody>\n",
       "    <tr>\n",
       "      <th>6050882</th>\n",
       "      <td>1.356782</td>\n",
       "      <td>-1.447351</td>\n",
       "      <td>-1.471391</td>\n",
       "      <td>-1.580854</td>\n",
       "      <td>-1.595727</td>\n",
       "      <td>-1.423156</td>\n",
       "      <td>-1.379646</td>\n",
       "      <td>0.049321</td>\n",
       "      <td>0.608053</td>\n",
       "      <td>1.135037</td>\n",
       "      <td>0.770782</td>\n",
       "      <td>0.689321</td>\n",
       "      <td>-0.782798</td>\n",
       "      <td>-0.481290</td>\n",
       "      <td>0</td>\n",
       "      <td>0</td>\n",
       "      <td>-0.009079</td>\n",
       "      <td>-0.000944</td>\n",
       "      <td>-0.002434</td>\n",
       "      <td>-0.019226</td>\n",
       "      <td>-0.00926</td>\n",
       "      <td>611</td>\n",
       "      <td>0</td>\n",
       "      <td>0</td>\n",
       "      <td>0</td>\n",
       "      <td>0</td>\n",
       "      <td>0</td>\n",
       "      <td>0</td>\n",
       "      <td>0</td>\n",
       "      <td>0</td>\n",
       "      <td>0</td>\n",
       "      <td>0</td>\n",
       "      <td>0</td>\n",
       "      <td>0</td>\n",
       "      <td>0</td>\n",
       "      <td>0</td>\n",
       "      <td>0</td>\n",
       "      <td>0</td>\n",
       "      <td>0</td>\n",
       "      <td>0</td>\n",
       "      <td>1</td>\n",
       "      <td>0</td>\n",
       "      <td>0</td>\n",
       "      <td>0</td>\n",
       "      <td>0</td>\n",
       "      <td>0</td>\n",
       "      <td>0</td>\n",
       "      <td>0</td>\n",
       "      <td>0</td>\n",
       "      <td>0</td>\n",
       "      <td>0</td>\n",
       "      <td>0</td>\n",
       "      <td>0</td>\n",
       "      <td>0</td>\n",
       "      <td>0</td>\n",
       "      <td>0</td>\n",
       "      <td>0</td>\n",
       "      <td>0</td>\n",
       "      <td>0</td>\n",
       "      <td>0</td>\n",
       "      <td>0</td>\n",
       "      <td>0</td>\n",
       "      <td>0</td>\n",
       "      <td>0</td>\n",
       "      <td>0</td>\n",
       "      <td>0</td>\n",
       "      <td>0</td>\n",
       "      <td>0</td>\n",
       "      <td>0</td>\n",
       "      <td>0</td>\n",
       "      <td>0</td>\n",
       "      <td>0</td>\n",
       "      <td>0</td>\n",
       "      <td>0</td>\n",
       "      <td>0</td>\n",
       "      <td>0</td>\n",
       "      <td>0</td>\n",
       "      <td>0</td>\n",
       "      <td>0</td>\n",
       "      <td>0</td>\n",
       "      <td>0</td>\n",
       "      <td>0</td>\n",
       "      <td>0</td>\n",
       "      <td>0</td>\n",
       "      <td>0</td>\n",
       "      <td>0</td>\n",
       "      <td>0</td>\n",
       "      <td>0</td>\n",
       "      <td>0</td>\n",
       "      <td>0</td>\n",
       "      <td>0</td>\n",
       "      <td>0</td>\n",
       "      <td>0</td>\n",
       "      <td>0</td>\n",
       "      <td>0</td>\n",
       "      <td>0</td>\n",
       "      <td>0</td>\n",
       "      <td>0</td>\n",
       "      <td>0</td>\n",
       "      <td>0</td>\n",
       "      <td>0</td>\n",
       "      <td>0</td>\n",
       "      <td>0</td>\n",
       "      <td>0</td>\n",
       "      <td>0</td>\n",
       "      <td>0</td>\n",
       "      <td>0</td>\n",
       "      <td>0</td>\n",
       "      <td>0</td>\n",
       "      <td>0</td>\n",
       "      <td>0</td>\n",
       "      <td>0</td>\n",
       "      <td>0</td>\n",
       "      <td>0</td>\n",
       "      <td>0</td>\n",
       "      <td>0</td>\n",
       "      <td>0</td>\n",
       "      <td>0</td>\n",
       "      <td>0</td>\n",
       "      <td>0</td>\n",
       "      <td>0</td>\n",
       "      <td>0</td>\n",
       "      <td>0</td>\n",
       "      <td>0</td>\n",
       "      <td>0</td>\n",
       "      <td>0</td>\n",
       "      <td>0</td>\n",
       "      <td>0</td>\n",
       "      <td>0</td>\n",
       "      <td>0</td>\n",
       "      <td>0</td>\n",
       "      <td>0</td>\n",
       "      <td>0</td>\n",
       "      <td>0</td>\n",
       "      <td>0</td>\n",
       "      <td>0</td>\n",
       "      <td>0</td>\n",
       "      <td>0</td>\n",
       "      <td>0</td>\n",
       "      <td>0</td>\n",
       "      <td>0</td>\n",
       "      <td>0</td>\n",
       "      <td>0</td>\n",
       "      <td>0</td>\n",
       "      <td>0</td>\n",
       "      <td>0</td>\n",
       "      <td>0</td>\n",
       "      <td>0</td>\n",
       "      <td>0</td>\n",
       "      <td>0</td>\n",
       "      <td>0</td>\n",
       "      <td>0</td>\n",
       "      <td>0</td>\n",
       "      <td>0</td>\n",
       "      <td>0</td>\n",
       "      <td>0</td>\n",
       "      <td>0</td>\n",
       "      <td>0</td>\n",
       "      <td>0</td>\n",
       "      <td>0</td>\n",
       "      <td>0</td>\n",
       "      <td>0</td>\n",
       "      <td>0</td>\n",
       "      <td>0</td>\n",
       "      <td>0</td>\n",
       "      <td>0</td>\n",
       "      <td>0</td>\n",
       "      <td>0</td>\n",
       "      <td>0</td>\n",
       "      <td>0</td>\n",
       "      <td>0</td>\n",
       "      <td>0</td>\n",
       "      <td>0</td>\n",
       "      <td>0</td>\n",
       "      <td>0</td>\n",
       "      <td>0</td>\n",
       "      <td>0</td>\n",
       "      <td>0</td>\n",
       "      <td>0</td>\n",
       "      <td>0</td>\n",
       "      <td>0</td>\n",
       "      <td>0</td>\n",
       "      <td>0</td>\n",
       "      <td>0</td>\n",
       "      <td>0</td>\n",
       "      <td>0</td>\n",
       "      <td>0</td>\n",
       "      <td>0</td>\n",
       "      <td>0</td>\n",
       "      <td>0</td>\n",
       "      <td>0</td>\n",
       "      <td>0</td>\n",
       "      <td>0</td>\n",
       "      <td>0</td>\n",
       "      <td>0</td>\n",
       "      <td>0</td>\n",
       "      <td>0</td>\n",
       "      <td>0</td>\n",
       "      <td>0</td>\n",
       "      <td>0</td>\n",
       "      <td>0</td>\n",
       "      <td>0</td>\n",
       "      <td>0</td>\n",
       "      <td>0</td>\n",
       "      <td>0</td>\n",
       "      <td>0</td>\n",
       "      <td>0</td>\n",
       "      <td>0</td>\n",
       "      <td>0</td>\n",
       "      <td>0</td>\n",
       "      <td>0</td>\n",
       "      <td>0</td>\n",
       "      <td>0</td>\n",
       "      <td>0</td>\n",
       "      <td>0</td>\n",
       "      <td>0</td>\n",
       "      <td>1</td>\n",
       "      <td>0</td>\n",
       "      <td>0</td>\n",
       "      <td>0</td>\n",
       "      <td>0</td>\n",
       "      <td>0</td>\n",
       "      <td>0</td>\n",
       "      <td>0</td>\n",
       "      <td>0</td>\n",
       "      <td>0</td>\n",
       "      <td>0</td>\n",
       "      <td>0</td>\n",
       "      <td>0</td>\n",
       "      <td>0</td>\n",
       "      <td>0</td>\n",
       "      <td>0</td>\n",
       "      <td>0</td>\n",
       "      <td>0</td>\n",
       "      <td>0</td>\n",
       "      <td>0</td>\n",
       "      <td>0</td>\n",
       "      <td>0</td>\n",
       "      <td>0</td>\n",
       "      <td>0</td>\n",
       "      <td>0</td>\n",
       "      <td>0</td>\n",
       "      <td>0</td>\n",
       "      <td>0</td>\n",
       "      <td>0</td>\n",
       "      <td>0</td>\n",
       "      <td>0</td>\n",
       "      <td>0</td>\n",
       "      <td>0</td>\n",
       "      <td>0</td>\n",
       "      <td>0</td>\n",
       "      <td>0</td>\n",
       "      <td>0</td>\n",
       "      <td>0</td>\n",
       "      <td>0</td>\n",
       "      <td>0</td>\n",
       "      <td>0</td>\n",
       "      <td>0</td>\n",
       "      <td>0</td>\n",
       "      <td>0</td>\n",
       "      <td>0</td>\n",
       "      <td>0</td>\n",
       "      <td>0</td>\n",
       "      <td>0</td>\n",
       "      <td>0</td>\n",
       "      <td>0</td>\n",
       "      <td>0</td>\n",
       "      <td>0</td>\n",
       "      <td>0</td>\n",
       "      <td>0</td>\n",
       "      <td>0</td>\n",
       "      <td>0</td>\n",
       "      <td>0</td>\n",
       "      <td>0</td>\n",
       "      <td>0</td>\n",
       "      <td>0</td>\n",
       "      <td>0</td>\n",
       "      <td>0</td>\n",
       "      <td>0</td>\n",
       "      <td>0</td>\n",
       "      <td>0</td>\n",
       "      <td>0</td>\n",
       "      <td>0</td>\n",
       "      <td>0</td>\n",
       "      <td>0</td>\n",
       "      <td>0</td>\n",
       "      <td>0</td>\n",
       "      <td>0</td>\n",
       "      <td>0</td>\n",
       "      <td>0</td>\n",
       "      <td>0</td>\n",
       "      <td>0</td>\n",
       "      <td>0</td>\n",
       "      <td>0</td>\n",
       "      <td>0</td>\n",
       "      <td>0</td>\n",
       "      <td>0</td>\n",
       "      <td>0</td>\n",
       "      <td>0</td>\n",
       "      <td>0</td>\n",
       "      <td>0</td>\n",
       "      <td>0</td>\n",
       "      <td>0</td>\n",
       "      <td>0</td>\n",
       "      <td>0</td>\n",
       "      <td>0</td>\n",
       "      <td>0</td>\n",
       "      <td>0</td>\n",
       "      <td>0</td>\n",
       "      <td>0</td>\n",
       "      <td>0</td>\n",
       "      <td>0</td>\n",
       "      <td>0</td>\n",
       "      <td>0</td>\n",
       "      <td>0</td>\n",
       "      <td>0</td>\n",
       "      <td>0</td>\n",
       "      <td>0</td>\n",
       "      <td>0</td>\n",
       "      <td>0</td>\n",
       "      <td>0</td>\n",
       "      <td>0</td>\n",
       "      <td>0</td>\n",
       "      <td>0</td>\n",
       "      <td>0</td>\n",
       "      <td>0</td>\n",
       "      <td>0</td>\n",
       "      <td>0</td>\n",
       "      <td>0</td>\n",
       "      <td>0</td>\n",
       "      <td>0</td>\n",
       "      <td>0</td>\n",
       "      <td>0</td>\n",
       "      <td>0</td>\n",
       "      <td>0</td>\n",
       "      <td>0</td>\n",
       "      <td>0</td>\n",
       "      <td>0</td>\n",
       "      <td>0</td>\n",
       "      <td>0</td>\n",
       "      <td>0</td>\n",
       "      <td>0</td>\n",
       "      <td>0</td>\n",
       "      <td>0</td>\n",
       "      <td>0</td>\n",
       "      <td>0</td>\n",
       "      <td>0</td>\n",
       "      <td>0</td>\n",
       "      <td>0</td>\n",
       "      <td>0</td>\n",
       "      <td>0</td>\n",
       "      <td>0</td>\n",
       "      <td>0</td>\n",
       "      <td>0</td>\n",
       "      <td>0</td>\n",
       "      <td>0</td>\n",
       "      <td>0</td>\n",
       "      <td>0</td>\n",
       "      <td>0</td>\n",
       "      <td>0</td>\n",
       "      <td>0</td>\n",
       "      <td>0</td>\n",
       "      <td>0</td>\n",
       "      <td>0</td>\n",
       "      <td>0</td>\n",
       "      <td>0</td>\n",
       "      <td>0</td>\n",
       "      <td>0</td>\n",
       "      <td>0</td>\n",
       "      <td>0</td>\n",
       "      <td>0</td>\n",
       "      <td>0</td>\n",
       "      <td>0</td>\n",
       "      <td>0</td>\n",
       "      <td>1</td>\n",
       "      <td>0</td>\n",
       "      <td>0</td>\n",
       "      <td>0</td>\n",
       "      <td>0</td>\n",
       "      <td>0</td>\n",
       "      <td>0</td>\n",
       "      <td>0</td>\n",
       "      <td>0</td>\n",
       "      <td>0</td>\n",
       "      <td>0</td>\n",
       "      <td>0</td>\n",
       "      <td>0</td>\n",
       "      <td>0</td>\n",
       "      <td>0</td>\n",
       "      <td>0</td>\n",
       "      <td>0</td>\n",
       "      <td>0</td>\n",
       "      <td>0</td>\n",
       "      <td>0</td>\n",
       "      <td>0</td>\n",
       "      <td>0</td>\n",
       "      <td>0</td>\n",
       "      <td>0</td>\n",
       "      <td>0</td>\n",
       "      <td>0</td>\n",
       "      <td>0</td>\n",
       "      <td>0</td>\n",
       "      <td>0</td>\n",
       "      <td>0</td>\n",
       "      <td>0</td>\n",
       "      <td>0</td>\n",
       "      <td>0</td>\n",
       "      <td>0</td>\n",
       "      <td>0</td>\n",
       "      <td>0</td>\n",
       "      <td>0</td>\n",
       "      <td>0</td>\n",
       "      <td>0</td>\n",
       "      <td>0</td>\n",
       "      <td>0</td>\n",
       "      <td>0</td>\n",
       "      <td>0</td>\n",
       "      <td>0</td>\n",
       "      <td>0</td>\n",
       "      <td>0</td>\n",
       "      <td>0</td>\n",
       "      <td>0</td>\n",
       "      <td>0</td>\n",
       "      <td>0</td>\n",
       "      <td>0</td>\n",
       "      <td>0</td>\n",
       "      <td>0</td>\n",
       "      <td>0</td>\n",
       "      <td>0</td>\n",
       "      <td>0</td>\n",
       "      <td>0</td>\n",
       "      <td>0</td>\n",
       "      <td>0</td>\n",
       "      <td>0</td>\n",
       "      <td>0</td>\n",
       "      <td>0</td>\n",
       "      <td>0</td>\n",
       "      <td>0</td>\n",
       "      <td>0</td>\n",
       "      <td>0</td>\n",
       "      <td>0</td>\n",
       "      <td>0</td>\n",
       "      <td>0</td>\n",
       "      <td>0</td>\n",
       "      <td>0</td>\n",
       "      <td>0</td>\n",
       "      <td>0</td>\n",
       "      <td>0</td>\n",
       "      <td>0</td>\n",
       "      <td>0</td>\n",
       "      <td>0</td>\n",
       "      <td>0</td>\n",
       "      <td>0</td>\n",
       "      <td>0</td>\n",
       "      <td>0</td>\n",
       "      <td>0</td>\n",
       "      <td>0</td>\n",
       "      <td>0</td>\n",
       "      <td>0</td>\n",
       "      <td>0</td>\n",
       "      <td>0</td>\n",
       "      <td>0</td>\n",
       "      <td>0</td>\n",
       "      <td>0</td>\n",
       "      <td>0</td>\n",
       "      <td>0</td>\n",
       "      <td>0</td>\n",
       "      <td>0</td>\n",
       "      <td>0</td>\n",
       "      <td>0</td>\n",
       "      <td>0</td>\n",
       "      <td>0</td>\n",
       "      <td>0</td>\n",
       "      <td>0</td>\n",
       "      <td>0</td>\n",
       "      <td>0</td>\n",
       "      <td>0</td>\n",
       "      <td>0</td>\n",
       "      <td>0</td>\n",
       "      <td>0</td>\n",
       "      <td>0</td>\n",
       "      <td>0</td>\n",
       "      <td>0</td>\n",
       "      <td>0</td>\n",
       "      <td>0</td>\n",
       "      <td>0</td>\n",
       "      <td>0</td>\n",
       "      <td>0</td>\n",
       "      <td>0</td>\n",
       "      <td>0</td>\n",
       "      <td>0</td>\n",
       "      <td>0</td>\n",
       "      <td>0</td>\n",
       "      <td>0</td>\n",
       "      <td>0</td>\n",
       "      <td>0</td>\n",
       "      <td>0</td>\n",
       "      <td>0</td>\n",
       "      <td>0</td>\n",
       "      <td>0</td>\n",
       "      <td>0</td>\n",
       "      <td>0</td>\n",
       "      <td>0</td>\n",
       "      <td>0</td>\n",
       "      <td>0</td>\n",
       "    </tr>\n",
       "    <tr>\n",
       "      <th>6337246</th>\n",
       "      <td>1.356782</td>\n",
       "      <td>-0.197505</td>\n",
       "      <td>0.540216</td>\n",
       "      <td>-0.440286</td>\n",
       "      <td>-0.414204</td>\n",
       "      <td>-0.529423</td>\n",
       "      <td>-0.544573</td>\n",
       "      <td>0.015075</td>\n",
       "      <td>-1.044668</td>\n",
       "      <td>-0.993458</td>\n",
       "      <td>-0.964098</td>\n",
       "      <td>-0.967153</td>\n",
       "      <td>-0.174429</td>\n",
       "      <td>-0.658115</td>\n",
       "      <td>0</td>\n",
       "      <td>0</td>\n",
       "      <td>-0.009079</td>\n",
       "      <td>-0.000944</td>\n",
       "      <td>-0.002434</td>\n",
       "      <td>-0.019226</td>\n",
       "      <td>-0.00926</td>\n",
       "      <td>119</td>\n",
       "      <td>1</td>\n",
       "      <td>0</td>\n",
       "      <td>0</td>\n",
       "      <td>0</td>\n",
       "      <td>0</td>\n",
       "      <td>0</td>\n",
       "      <td>0</td>\n",
       "      <td>0</td>\n",
       "      <td>0</td>\n",
       "      <td>0</td>\n",
       "      <td>0</td>\n",
       "      <td>0</td>\n",
       "      <td>0</td>\n",
       "      <td>0</td>\n",
       "      <td>0</td>\n",
       "      <td>0</td>\n",
       "      <td>0</td>\n",
       "      <td>0</td>\n",
       "      <td>0</td>\n",
       "      <td>0</td>\n",
       "      <td>0</td>\n",
       "      <td>0</td>\n",
       "      <td>0</td>\n",
       "      <td>0</td>\n",
       "      <td>0</td>\n",
       "      <td>0</td>\n",
       "      <td>0</td>\n",
       "      <td>0</td>\n",
       "      <td>0</td>\n",
       "      <td>0</td>\n",
       "      <td>0</td>\n",
       "      <td>0</td>\n",
       "      <td>0</td>\n",
       "      <td>0</td>\n",
       "      <td>0</td>\n",
       "      <td>0</td>\n",
       "      <td>0</td>\n",
       "      <td>0</td>\n",
       "      <td>0</td>\n",
       "      <td>0</td>\n",
       "      <td>0</td>\n",
       "      <td>0</td>\n",
       "      <td>0</td>\n",
       "      <td>0</td>\n",
       "      <td>0</td>\n",
       "      <td>0</td>\n",
       "      <td>0</td>\n",
       "      <td>0</td>\n",
       "      <td>0</td>\n",
       "      <td>0</td>\n",
       "      <td>0</td>\n",
       "      <td>0</td>\n",
       "      <td>0</td>\n",
       "      <td>0</td>\n",
       "      <td>0</td>\n",
       "      <td>0</td>\n",
       "      <td>0</td>\n",
       "      <td>0</td>\n",
       "      <td>0</td>\n",
       "      <td>0</td>\n",
       "      <td>0</td>\n",
       "      <td>0</td>\n",
       "      <td>0</td>\n",
       "      <td>0</td>\n",
       "      <td>0</td>\n",
       "      <td>0</td>\n",
       "      <td>0</td>\n",
       "      <td>0</td>\n",
       "      <td>0</td>\n",
       "      <td>0</td>\n",
       "      <td>0</td>\n",
       "      <td>0</td>\n",
       "      <td>0</td>\n",
       "      <td>0</td>\n",
       "      <td>0</td>\n",
       "      <td>0</td>\n",
       "      <td>0</td>\n",
       "      <td>0</td>\n",
       "      <td>0</td>\n",
       "      <td>0</td>\n",
       "      <td>0</td>\n",
       "      <td>0</td>\n",
       "      <td>0</td>\n",
       "      <td>0</td>\n",
       "      <td>0</td>\n",
       "      <td>0</td>\n",
       "      <td>0</td>\n",
       "      <td>0</td>\n",
       "      <td>0</td>\n",
       "      <td>0</td>\n",
       "      <td>0</td>\n",
       "      <td>0</td>\n",
       "      <td>0</td>\n",
       "      <td>0</td>\n",
       "      <td>0</td>\n",
       "      <td>0</td>\n",
       "      <td>0</td>\n",
       "      <td>0</td>\n",
       "      <td>0</td>\n",
       "      <td>0</td>\n",
       "      <td>0</td>\n",
       "      <td>0</td>\n",
       "      <td>0</td>\n",
       "      <td>0</td>\n",
       "      <td>0</td>\n",
       "      <td>0</td>\n",
       "      <td>0</td>\n",
       "      <td>0</td>\n",
       "      <td>0</td>\n",
       "      <td>0</td>\n",
       "      <td>0</td>\n",
       "      <td>0</td>\n",
       "      <td>0</td>\n",
       "      <td>0</td>\n",
       "      <td>0</td>\n",
       "      <td>0</td>\n",
       "      <td>0</td>\n",
       "      <td>0</td>\n",
       "      <td>0</td>\n",
       "      <td>1</td>\n",
       "      <td>0</td>\n",
       "      <td>0</td>\n",
       "      <td>0</td>\n",
       "      <td>0</td>\n",
       "      <td>0</td>\n",
       "      <td>0</td>\n",
       "      <td>0</td>\n",
       "      <td>0</td>\n",
       "      <td>0</td>\n",
       "      <td>0</td>\n",
       "      <td>0</td>\n",
       "      <td>0</td>\n",
       "      <td>0</td>\n",
       "      <td>0</td>\n",
       "      <td>0</td>\n",
       "      <td>0</td>\n",
       "      <td>0</td>\n",
       "      <td>0</td>\n",
       "      <td>0</td>\n",
       "      <td>0</td>\n",
       "      <td>0</td>\n",
       "      <td>0</td>\n",
       "      <td>0</td>\n",
       "      <td>0</td>\n",
       "      <td>0</td>\n",
       "      <td>0</td>\n",
       "      <td>0</td>\n",
       "      <td>0</td>\n",
       "      <td>0</td>\n",
       "      <td>0</td>\n",
       "      <td>0</td>\n",
       "      <td>0</td>\n",
       "      <td>0</td>\n",
       "      <td>0</td>\n",
       "      <td>0</td>\n",
       "      <td>0</td>\n",
       "      <td>0</td>\n",
       "      <td>0</td>\n",
       "      <td>0</td>\n",
       "      <td>0</td>\n",
       "      <td>0</td>\n",
       "      <td>0</td>\n",
       "      <td>0</td>\n",
       "      <td>0</td>\n",
       "      <td>0</td>\n",
       "      <td>0</td>\n",
       "      <td>0</td>\n",
       "      <td>0</td>\n",
       "      <td>0</td>\n",
       "      <td>0</td>\n",
       "      <td>0</td>\n",
       "      <td>0</td>\n",
       "      <td>0</td>\n",
       "      <td>0</td>\n",
       "      <td>0</td>\n",
       "      <td>0</td>\n",
       "      <td>0</td>\n",
       "      <td>0</td>\n",
       "      <td>0</td>\n",
       "      <td>0</td>\n",
       "      <td>0</td>\n",
       "      <td>0</td>\n",
       "      <td>0</td>\n",
       "      <td>0</td>\n",
       "      <td>0</td>\n",
       "      <td>0</td>\n",
       "      <td>0</td>\n",
       "      <td>0</td>\n",
       "      <td>0</td>\n",
       "      <td>0</td>\n",
       "      <td>0</td>\n",
       "      <td>0</td>\n",
       "      <td>0</td>\n",
       "      <td>0</td>\n",
       "      <td>0</td>\n",
       "      <td>0</td>\n",
       "      <td>0</td>\n",
       "      <td>0</td>\n",
       "      <td>0</td>\n",
       "      <td>0</td>\n",
       "      <td>0</td>\n",
       "      <td>0</td>\n",
       "      <td>0</td>\n",
       "      <td>0</td>\n",
       "      <td>0</td>\n",
       "      <td>0</td>\n",
       "      <td>0</td>\n",
       "      <td>0</td>\n",
       "      <td>0</td>\n",
       "      <td>0</td>\n",
       "      <td>0</td>\n",
       "      <td>0</td>\n",
       "      <td>0</td>\n",
       "      <td>0</td>\n",
       "      <td>0</td>\n",
       "      <td>0</td>\n",
       "      <td>0</td>\n",
       "      <td>0</td>\n",
       "      <td>0</td>\n",
       "      <td>0</td>\n",
       "      <td>0</td>\n",
       "      <td>0</td>\n",
       "      <td>0</td>\n",
       "      <td>0</td>\n",
       "      <td>0</td>\n",
       "      <td>0</td>\n",
       "      <td>0</td>\n",
       "      <td>0</td>\n",
       "      <td>0</td>\n",
       "      <td>0</td>\n",
       "      <td>0</td>\n",
       "      <td>0</td>\n",
       "      <td>0</td>\n",
       "      <td>0</td>\n",
       "      <td>0</td>\n",
       "      <td>0</td>\n",
       "      <td>0</td>\n",
       "      <td>0</td>\n",
       "      <td>0</td>\n",
       "      <td>0</td>\n",
       "      <td>0</td>\n",
       "      <td>0</td>\n",
       "      <td>0</td>\n",
       "      <td>0</td>\n",
       "      <td>0</td>\n",
       "      <td>0</td>\n",
       "      <td>0</td>\n",
       "      <td>0</td>\n",
       "      <td>0</td>\n",
       "      <td>0</td>\n",
       "      <td>0</td>\n",
       "      <td>0</td>\n",
       "      <td>0</td>\n",
       "      <td>0</td>\n",
       "      <td>0</td>\n",
       "      <td>0</td>\n",
       "      <td>0</td>\n",
       "      <td>0</td>\n",
       "      <td>0</td>\n",
       "      <td>0</td>\n",
       "      <td>0</td>\n",
       "      <td>0</td>\n",
       "      <td>0</td>\n",
       "      <td>0</td>\n",
       "      <td>0</td>\n",
       "      <td>0</td>\n",
       "      <td>0</td>\n",
       "      <td>0</td>\n",
       "      <td>0</td>\n",
       "      <td>0</td>\n",
       "      <td>0</td>\n",
       "      <td>0</td>\n",
       "      <td>0</td>\n",
       "      <td>0</td>\n",
       "      <td>0</td>\n",
       "      <td>0</td>\n",
       "      <td>0</td>\n",
       "      <td>0</td>\n",
       "      <td>0</td>\n",
       "      <td>0</td>\n",
       "      <td>0</td>\n",
       "      <td>0</td>\n",
       "      <td>0</td>\n",
       "      <td>0</td>\n",
       "      <td>0</td>\n",
       "      <td>0</td>\n",
       "      <td>0</td>\n",
       "      <td>0</td>\n",
       "      <td>0</td>\n",
       "      <td>0</td>\n",
       "      <td>0</td>\n",
       "      <td>0</td>\n",
       "      <td>0</td>\n",
       "      <td>0</td>\n",
       "      <td>0</td>\n",
       "      <td>0</td>\n",
       "      <td>0</td>\n",
       "      <td>0</td>\n",
       "      <td>0</td>\n",
       "      <td>0</td>\n",
       "      <td>0</td>\n",
       "      <td>0</td>\n",
       "      <td>0</td>\n",
       "      <td>0</td>\n",
       "      <td>0</td>\n",
       "      <td>0</td>\n",
       "      <td>0</td>\n",
       "      <td>0</td>\n",
       "      <td>0</td>\n",
       "      <td>0</td>\n",
       "      <td>0</td>\n",
       "      <td>0</td>\n",
       "      <td>0</td>\n",
       "      <td>0</td>\n",
       "      <td>0</td>\n",
       "      <td>0</td>\n",
       "      <td>0</td>\n",
       "      <td>0</td>\n",
       "      <td>0</td>\n",
       "      <td>0</td>\n",
       "      <td>0</td>\n",
       "      <td>0</td>\n",
       "      <td>0</td>\n",
       "      <td>0</td>\n",
       "      <td>0</td>\n",
       "      <td>0</td>\n",
       "      <td>0</td>\n",
       "      <td>0</td>\n",
       "      <td>0</td>\n",
       "      <td>0</td>\n",
       "      <td>0</td>\n",
       "      <td>0</td>\n",
       "      <td>0</td>\n",
       "      <td>0</td>\n",
       "      <td>0</td>\n",
       "      <td>0</td>\n",
       "      <td>0</td>\n",
       "      <td>0</td>\n",
       "      <td>0</td>\n",
       "      <td>0</td>\n",
       "      <td>0</td>\n",
       "      <td>0</td>\n",
       "      <td>0</td>\n",
       "      <td>0</td>\n",
       "      <td>0</td>\n",
       "      <td>0</td>\n",
       "      <td>0</td>\n",
       "      <td>0</td>\n",
       "      <td>0</td>\n",
       "      <td>0</td>\n",
       "      <td>0</td>\n",
       "      <td>0</td>\n",
       "      <td>0</td>\n",
       "      <td>0</td>\n",
       "      <td>0</td>\n",
       "      <td>0</td>\n",
       "      <td>0</td>\n",
       "      <td>0</td>\n",
       "      <td>0</td>\n",
       "      <td>0</td>\n",
       "      <td>0</td>\n",
       "      <td>0</td>\n",
       "      <td>0</td>\n",
       "      <td>0</td>\n",
       "      <td>0</td>\n",
       "      <td>0</td>\n",
       "      <td>0</td>\n",
       "      <td>0</td>\n",
       "      <td>0</td>\n",
       "      <td>0</td>\n",
       "      <td>0</td>\n",
       "      <td>0</td>\n",
       "      <td>0</td>\n",
       "      <td>0</td>\n",
       "      <td>0</td>\n",
       "      <td>0</td>\n",
       "      <td>0</td>\n",
       "      <td>0</td>\n",
       "      <td>0</td>\n",
       "      <td>0</td>\n",
       "      <td>0</td>\n",
       "      <td>0</td>\n",
       "      <td>0</td>\n",
       "      <td>0</td>\n",
       "      <td>0</td>\n",
       "      <td>0</td>\n",
       "      <td>0</td>\n",
       "      <td>0</td>\n",
       "      <td>1</td>\n",
       "      <td>0</td>\n",
       "      <td>0</td>\n",
       "      <td>0</td>\n",
       "      <td>0</td>\n",
       "      <td>0</td>\n",
       "      <td>0</td>\n",
       "      <td>0</td>\n",
       "      <td>0</td>\n",
       "      <td>0</td>\n",
       "      <td>0</td>\n",
       "      <td>0</td>\n",
       "      <td>0</td>\n",
       "      <td>0</td>\n",
       "      <td>0</td>\n",
       "      <td>0</td>\n",
       "      <td>0</td>\n",
       "      <td>0</td>\n",
       "      <td>0</td>\n",
       "      <td>0</td>\n",
       "      <td>0</td>\n",
       "      <td>0</td>\n",
       "      <td>0</td>\n",
       "      <td>0</td>\n",
       "      <td>0</td>\n",
       "      <td>0</td>\n",
       "      <td>0</td>\n",
       "      <td>0</td>\n",
       "      <td>0</td>\n",
       "      <td>0</td>\n",
       "      <td>0</td>\n",
       "      <td>0</td>\n",
       "      <td>0</td>\n",
       "      <td>0</td>\n",
       "      <td>0</td>\n",
       "      <td>0</td>\n",
       "      <td>0</td>\n",
       "      <td>0</td>\n",
       "      <td>0</td>\n",
       "      <td>0</td>\n",
       "      <td>0</td>\n",
       "      <td>0</td>\n",
       "      <td>0</td>\n",
       "      <td>0</td>\n",
       "      <td>0</td>\n",
       "      <td>0</td>\n",
       "      <td>0</td>\n",
       "      <td>0</td>\n",
       "      <td>0</td>\n",
       "      <td>0</td>\n",
       "      <td>0</td>\n",
       "      <td>0</td>\n",
       "      <td>0</td>\n",
       "      <td>0</td>\n",
       "      <td>0</td>\n",
       "      <td>0</td>\n",
       "      <td>0</td>\n",
       "      <td>0</td>\n",
       "      <td>0</td>\n",
       "      <td>0</td>\n",
       "      <td>0</td>\n",
       "      <td>0</td>\n",
       "      <td>0</td>\n",
       "      <td>0</td>\n",
       "      <td>0</td>\n",
       "      <td>0</td>\n",
       "      <td>0</td>\n",
       "      <td>0</td>\n",
       "      <td>0</td>\n",
       "      <td>0</td>\n",
       "      <td>0</td>\n",
       "      <td>0</td>\n",
       "      <td>0</td>\n",
       "      <td>0</td>\n",
       "      <td>0</td>\n",
       "      <td>0</td>\n",
       "      <td>0</td>\n",
       "      <td>0</td>\n",
       "      <td>0</td>\n",
       "      <td>0</td>\n",
       "      <td>0</td>\n",
       "      <td>0</td>\n",
       "      <td>0</td>\n",
       "      <td>0</td>\n",
       "      <td>0</td>\n",
       "      <td>0</td>\n",
       "      <td>0</td>\n",
       "      <td>0</td>\n",
       "      <td>0</td>\n",
       "      <td>0</td>\n",
       "      <td>0</td>\n",
       "      <td>0</td>\n",
       "      <td>0</td>\n",
       "      <td>0</td>\n",
       "      <td>0</td>\n",
       "    </tr>\n",
       "    <tr>\n",
       "      <th>2321555</th>\n",
       "      <td>-0.702748</td>\n",
       "      <td>0.597851</td>\n",
       "      <td>-1.471391</td>\n",
       "      <td>0.916536</td>\n",
       "      <td>0.982143</td>\n",
       "      <td>0.793038</td>\n",
       "      <td>0.787402</td>\n",
       "      <td>-0.953012</td>\n",
       "      <td>-0.873697</td>\n",
       "      <td>-1.050985</td>\n",
       "      <td>-0.993754</td>\n",
       "      <td>-0.896136</td>\n",
       "      <td>-0.580008</td>\n",
       "      <td>0.756485</td>\n",
       "      <td>0</td>\n",
       "      <td>0</td>\n",
       "      <td>-0.009079</td>\n",
       "      <td>-0.000944</td>\n",
       "      <td>-0.002434</td>\n",
       "      <td>-0.019226</td>\n",
       "      <td>-0.00926</td>\n",
       "      <td>2663</td>\n",
       "      <td>0</td>\n",
       "      <td>0</td>\n",
       "      <td>0</td>\n",
       "      <td>1</td>\n",
       "      <td>0</td>\n",
       "      <td>0</td>\n",
       "      <td>0</td>\n",
       "      <td>0</td>\n",
       "      <td>0</td>\n",
       "      <td>0</td>\n",
       "      <td>0</td>\n",
       "      <td>0</td>\n",
       "      <td>0</td>\n",
       "      <td>0</td>\n",
       "      <td>0</td>\n",
       "      <td>0</td>\n",
       "      <td>0</td>\n",
       "      <td>0</td>\n",
       "      <td>0</td>\n",
       "      <td>0</td>\n",
       "      <td>0</td>\n",
       "      <td>0</td>\n",
       "      <td>0</td>\n",
       "      <td>0</td>\n",
       "      <td>0</td>\n",
       "      <td>0</td>\n",
       "      <td>0</td>\n",
       "      <td>0</td>\n",
       "      <td>0</td>\n",
       "      <td>0</td>\n",
       "      <td>0</td>\n",
       "      <td>0</td>\n",
       "      <td>0</td>\n",
       "      <td>0</td>\n",
       "      <td>0</td>\n",
       "      <td>0</td>\n",
       "      <td>0</td>\n",
       "      <td>0</td>\n",
       "      <td>0</td>\n",
       "      <td>0</td>\n",
       "      <td>0</td>\n",
       "      <td>0</td>\n",
       "      <td>0</td>\n",
       "      <td>0</td>\n",
       "      <td>0</td>\n",
       "      <td>0</td>\n",
       "      <td>0</td>\n",
       "      <td>0</td>\n",
       "      <td>0</td>\n",
       "      <td>0</td>\n",
       "      <td>0</td>\n",
       "      <td>0</td>\n",
       "      <td>0</td>\n",
       "      <td>0</td>\n",
       "      <td>0</td>\n",
       "      <td>0</td>\n",
       "      <td>0</td>\n",
       "      <td>0</td>\n",
       "      <td>0</td>\n",
       "      <td>0</td>\n",
       "      <td>0</td>\n",
       "      <td>0</td>\n",
       "      <td>0</td>\n",
       "      <td>0</td>\n",
       "      <td>0</td>\n",
       "      <td>0</td>\n",
       "      <td>0</td>\n",
       "      <td>0</td>\n",
       "      <td>0</td>\n",
       "      <td>0</td>\n",
       "      <td>0</td>\n",
       "      <td>0</td>\n",
       "      <td>0</td>\n",
       "      <td>0</td>\n",
       "      <td>0</td>\n",
       "      <td>0</td>\n",
       "      <td>0</td>\n",
       "      <td>0</td>\n",
       "      <td>0</td>\n",
       "      <td>0</td>\n",
       "      <td>0</td>\n",
       "      <td>0</td>\n",
       "      <td>0</td>\n",
       "      <td>0</td>\n",
       "      <td>0</td>\n",
       "      <td>0</td>\n",
       "      <td>0</td>\n",
       "      <td>0</td>\n",
       "      <td>0</td>\n",
       "      <td>0</td>\n",
       "      <td>0</td>\n",
       "      <td>0</td>\n",
       "      <td>0</td>\n",
       "      <td>0</td>\n",
       "      <td>0</td>\n",
       "      <td>0</td>\n",
       "      <td>0</td>\n",
       "      <td>0</td>\n",
       "      <td>0</td>\n",
       "      <td>0</td>\n",
       "      <td>0</td>\n",
       "      <td>0</td>\n",
       "      <td>0</td>\n",
       "      <td>0</td>\n",
       "      <td>0</td>\n",
       "      <td>0</td>\n",
       "      <td>0</td>\n",
       "      <td>0</td>\n",
       "      <td>0</td>\n",
       "      <td>0</td>\n",
       "      <td>0</td>\n",
       "      <td>0</td>\n",
       "      <td>0</td>\n",
       "      <td>0</td>\n",
       "      <td>0</td>\n",
       "      <td>0</td>\n",
       "      <td>0</td>\n",
       "      <td>0</td>\n",
       "      <td>0</td>\n",
       "      <td>0</td>\n",
       "      <td>0</td>\n",
       "      <td>0</td>\n",
       "      <td>0</td>\n",
       "      <td>0</td>\n",
       "      <td>0</td>\n",
       "      <td>0</td>\n",
       "      <td>0</td>\n",
       "      <td>0</td>\n",
       "      <td>0</td>\n",
       "      <td>0</td>\n",
       "      <td>0</td>\n",
       "      <td>0</td>\n",
       "      <td>0</td>\n",
       "      <td>0</td>\n",
       "      <td>0</td>\n",
       "      <td>0</td>\n",
       "      <td>0</td>\n",
       "      <td>0</td>\n",
       "      <td>0</td>\n",
       "      <td>0</td>\n",
       "      <td>0</td>\n",
       "      <td>0</td>\n",
       "      <td>0</td>\n",
       "      <td>0</td>\n",
       "      <td>0</td>\n",
       "      <td>0</td>\n",
       "      <td>0</td>\n",
       "      <td>0</td>\n",
       "      <td>0</td>\n",
       "      <td>0</td>\n",
       "      <td>0</td>\n",
       "      <td>0</td>\n",
       "      <td>0</td>\n",
       "      <td>0</td>\n",
       "      <td>0</td>\n",
       "      <td>0</td>\n",
       "      <td>0</td>\n",
       "      <td>0</td>\n",
       "      <td>0</td>\n",
       "      <td>0</td>\n",
       "      <td>0</td>\n",
       "      <td>0</td>\n",
       "      <td>0</td>\n",
       "      <td>0</td>\n",
       "      <td>0</td>\n",
       "      <td>0</td>\n",
       "      <td>0</td>\n",
       "      <td>0</td>\n",
       "      <td>0</td>\n",
       "      <td>0</td>\n",
       "      <td>0</td>\n",
       "      <td>0</td>\n",
       "      <td>0</td>\n",
       "      <td>0</td>\n",
       "      <td>0</td>\n",
       "      <td>0</td>\n",
       "      <td>0</td>\n",
       "      <td>0</td>\n",
       "      <td>0</td>\n",
       "      <td>0</td>\n",
       "      <td>0</td>\n",
       "      <td>0</td>\n",
       "      <td>0</td>\n",
       "      <td>0</td>\n",
       "      <td>0</td>\n",
       "      <td>0</td>\n",
       "      <td>0</td>\n",
       "      <td>0</td>\n",
       "      <td>0</td>\n",
       "      <td>0</td>\n",
       "      <td>0</td>\n",
       "      <td>0</td>\n",
       "      <td>0</td>\n",
       "      <td>0</td>\n",
       "      <td>0</td>\n",
       "      <td>0</td>\n",
       "      <td>0</td>\n",
       "      <td>0</td>\n",
       "      <td>0</td>\n",
       "      <td>0</td>\n",
       "      <td>0</td>\n",
       "      <td>0</td>\n",
       "      <td>0</td>\n",
       "      <td>0</td>\n",
       "      <td>0</td>\n",
       "      <td>0</td>\n",
       "      <td>0</td>\n",
       "      <td>0</td>\n",
       "      <td>0</td>\n",
       "      <td>0</td>\n",
       "      <td>0</td>\n",
       "      <td>0</td>\n",
       "      <td>0</td>\n",
       "      <td>0</td>\n",
       "      <td>0</td>\n",
       "      <td>0</td>\n",
       "      <td>0</td>\n",
       "      <td>0</td>\n",
       "      <td>0</td>\n",
       "      <td>0</td>\n",
       "      <td>1</td>\n",
       "      <td>0</td>\n",
       "      <td>0</td>\n",
       "      <td>0</td>\n",
       "      <td>0</td>\n",
       "      <td>0</td>\n",
       "      <td>0</td>\n",
       "      <td>0</td>\n",
       "      <td>0</td>\n",
       "      <td>0</td>\n",
       "      <td>0</td>\n",
       "      <td>0</td>\n",
       "      <td>0</td>\n",
       "      <td>0</td>\n",
       "      <td>0</td>\n",
       "      <td>0</td>\n",
       "      <td>0</td>\n",
       "      <td>0</td>\n",
       "      <td>0</td>\n",
       "      <td>0</td>\n",
       "      <td>0</td>\n",
       "      <td>0</td>\n",
       "      <td>0</td>\n",
       "      <td>0</td>\n",
       "      <td>0</td>\n",
       "      <td>0</td>\n",
       "      <td>0</td>\n",
       "      <td>0</td>\n",
       "      <td>0</td>\n",
       "      <td>0</td>\n",
       "      <td>0</td>\n",
       "      <td>0</td>\n",
       "      <td>0</td>\n",
       "      <td>0</td>\n",
       "      <td>0</td>\n",
       "      <td>0</td>\n",
       "      <td>0</td>\n",
       "      <td>0</td>\n",
       "      <td>0</td>\n",
       "      <td>0</td>\n",
       "      <td>0</td>\n",
       "      <td>0</td>\n",
       "      <td>0</td>\n",
       "      <td>0</td>\n",
       "      <td>0</td>\n",
       "      <td>0</td>\n",
       "      <td>0</td>\n",
       "      <td>0</td>\n",
       "      <td>0</td>\n",
       "      <td>0</td>\n",
       "      <td>0</td>\n",
       "      <td>0</td>\n",
       "      <td>0</td>\n",
       "      <td>0</td>\n",
       "      <td>0</td>\n",
       "      <td>0</td>\n",
       "      <td>0</td>\n",
       "      <td>0</td>\n",
       "      <td>0</td>\n",
       "      <td>0</td>\n",
       "      <td>0</td>\n",
       "      <td>0</td>\n",
       "      <td>0</td>\n",
       "      <td>0</td>\n",
       "      <td>0</td>\n",
       "      <td>0</td>\n",
       "      <td>0</td>\n",
       "      <td>0</td>\n",
       "      <td>0</td>\n",
       "      <td>0</td>\n",
       "      <td>0</td>\n",
       "      <td>0</td>\n",
       "      <td>0</td>\n",
       "      <td>0</td>\n",
       "      <td>0</td>\n",
       "      <td>0</td>\n",
       "      <td>0</td>\n",
       "      <td>0</td>\n",
       "      <td>0</td>\n",
       "      <td>0</td>\n",
       "      <td>0</td>\n",
       "      <td>0</td>\n",
       "      <td>0</td>\n",
       "      <td>0</td>\n",
       "      <td>0</td>\n",
       "      <td>0</td>\n",
       "      <td>0</td>\n",
       "      <td>0</td>\n",
       "      <td>0</td>\n",
       "      <td>0</td>\n",
       "      <td>0</td>\n",
       "      <td>0</td>\n",
       "      <td>0</td>\n",
       "      <td>0</td>\n",
       "      <td>0</td>\n",
       "      <td>0</td>\n",
       "      <td>0</td>\n",
       "      <td>0</td>\n",
       "      <td>0</td>\n",
       "      <td>0</td>\n",
       "      <td>0</td>\n",
       "      <td>0</td>\n",
       "      <td>0</td>\n",
       "      <td>0</td>\n",
       "      <td>0</td>\n",
       "      <td>0</td>\n",
       "      <td>0</td>\n",
       "      <td>0</td>\n",
       "      <td>0</td>\n",
       "      <td>0</td>\n",
       "      <td>0</td>\n",
       "      <td>0</td>\n",
       "      <td>0</td>\n",
       "      <td>1</td>\n",
       "      <td>0</td>\n",
       "      <td>0</td>\n",
       "      <td>0</td>\n",
       "      <td>0</td>\n",
       "      <td>0</td>\n",
       "      <td>0</td>\n",
       "      <td>0</td>\n",
       "      <td>0</td>\n",
       "      <td>0</td>\n",
       "      <td>0</td>\n",
       "      <td>0</td>\n",
       "      <td>0</td>\n",
       "      <td>0</td>\n",
       "      <td>0</td>\n",
       "      <td>0</td>\n",
       "      <td>0</td>\n",
       "      <td>0</td>\n",
       "      <td>0</td>\n",
       "      <td>0</td>\n",
       "      <td>0</td>\n",
       "      <td>0</td>\n",
       "      <td>0</td>\n",
       "      <td>0</td>\n",
       "      <td>0</td>\n",
       "      <td>0</td>\n",
       "      <td>0</td>\n",
       "      <td>0</td>\n",
       "      <td>0</td>\n",
       "      <td>0</td>\n",
       "      <td>0</td>\n",
       "      <td>0</td>\n",
       "      <td>0</td>\n",
       "      <td>0</td>\n",
       "      <td>0</td>\n",
       "      <td>0</td>\n",
       "      <td>0</td>\n",
       "      <td>0</td>\n",
       "      <td>0</td>\n",
       "      <td>0</td>\n",
       "      <td>0</td>\n",
       "      <td>0</td>\n",
       "      <td>0</td>\n",
       "      <td>0</td>\n",
       "      <td>0</td>\n",
       "      <td>0</td>\n",
       "      <td>0</td>\n",
       "      <td>0</td>\n",
       "      <td>0</td>\n",
       "      <td>0</td>\n",
       "      <td>0</td>\n",
       "      <td>0</td>\n",
       "      <td>0</td>\n",
       "      <td>0</td>\n",
       "      <td>0</td>\n",
       "      <td>0</td>\n",
       "      <td>0</td>\n",
       "      <td>0</td>\n",
       "      <td>0</td>\n",
       "      <td>0</td>\n",
       "      <td>0</td>\n",
       "      <td>0</td>\n",
       "      <td>0</td>\n",
       "      <td>0</td>\n",
       "      <td>0</td>\n",
       "      <td>0</td>\n",
       "      <td>0</td>\n",
       "      <td>0</td>\n",
       "      <td>0</td>\n",
       "      <td>0</td>\n",
       "      <td>0</td>\n",
       "      <td>0</td>\n",
       "      <td>0</td>\n",
       "      <td>0</td>\n",
       "      <td>0</td>\n",
       "      <td>0</td>\n",
       "      <td>0</td>\n",
       "      <td>0</td>\n",
       "      <td>0</td>\n",
       "      <td>0</td>\n",
       "      <td>0</td>\n",
       "      <td>0</td>\n",
       "      <td>0</td>\n",
       "      <td>0</td>\n",
       "      <td>0</td>\n",
       "      <td>0</td>\n",
       "      <td>0</td>\n",
       "      <td>0</td>\n",
       "      <td>0</td>\n",
       "      <td>0</td>\n",
       "      <td>0</td>\n",
       "      <td>0</td>\n",
       "      <td>0</td>\n",
       "      <td>0</td>\n",
       "      <td>0</td>\n",
       "      <td>0</td>\n",
       "      <td>0</td>\n",
       "      <td>0</td>\n",
       "      <td>0</td>\n",
       "      <td>0</td>\n",
       "      <td>0</td>\n",
       "      <td>0</td>\n",
       "      <td>0</td>\n",
       "      <td>0</td>\n",
       "      <td>0</td>\n",
       "      <td>0</td>\n",
       "      <td>0</td>\n",
       "      <td>0</td>\n",
       "      <td>0</td>\n",
       "      <td>0</td>\n",
       "      <td>0</td>\n",
       "      <td>0</td>\n",
       "      <td>0</td>\n",
       "      <td>0</td>\n",
       "      <td>0</td>\n",
       "      <td>0</td>\n",
       "      <td>0</td>\n",
       "      <td>0</td>\n",
       "      <td>0</td>\n",
       "      <td>0</td>\n",
       "      <td>0</td>\n",
       "      <td>0</td>\n",
       "      <td>0</td>\n",
       "      <td>0</td>\n",
       "      <td>0</td>\n",
       "      <td>0</td>\n",
       "      <td>0</td>\n",
       "      <td>0</td>\n",
       "      <td>0</td>\n",
       "      <td>0</td>\n",
       "      <td>0</td>\n",
       "      <td>0</td>\n",
       "      <td>0</td>\n",
       "      <td>0</td>\n",
       "      <td>0</td>\n",
       "      <td>0</td>\n",
       "      <td>0</td>\n",
       "      <td>0</td>\n",
       "      <td>0</td>\n",
       "      <td>0</td>\n",
       "      <td>0</td>\n",
       "      <td>0</td>\n",
       "      <td>0</td>\n",
       "      <td>0</td>\n",
       "      <td>0</td>\n",
       "      <td>0</td>\n",
       "      <td>0</td>\n",
       "      <td>0</td>\n",
       "      <td>0</td>\n",
       "      <td>0</td>\n",
       "    </tr>\n",
       "    <tr>\n",
       "      <th>6057490</th>\n",
       "      <td>1.356782</td>\n",
       "      <td>-0.879239</td>\n",
       "      <td>1.043118</td>\n",
       "      <td>-1.577366</td>\n",
       "      <td>-1.595727</td>\n",
       "      <td>-1.809011</td>\n",
       "      <td>-1.883450</td>\n",
       "      <td>2.525250</td>\n",
       "      <td>-1.073163</td>\n",
       "      <td>-0.964694</td>\n",
       "      <td>-0.949270</td>\n",
       "      <td>-1.015090</td>\n",
       "      <td>-0.782798</td>\n",
       "      <td>-0.658115</td>\n",
       "      <td>0</td>\n",
       "      <td>0</td>\n",
       "      <td>-0.009079</td>\n",
       "      <td>-0.000944</td>\n",
       "      <td>-0.002434</td>\n",
       "      <td>-0.019226</td>\n",
       "      <td>-0.00926</td>\n",
       "      <td>1556</td>\n",
       "      <td>0</td>\n",
       "      <td>0</td>\n",
       "      <td>0</td>\n",
       "      <td>0</td>\n",
       "      <td>0</td>\n",
       "      <td>0</td>\n",
       "      <td>0</td>\n",
       "      <td>0</td>\n",
       "      <td>0</td>\n",
       "      <td>0</td>\n",
       "      <td>0</td>\n",
       "      <td>0</td>\n",
       "      <td>0</td>\n",
       "      <td>0</td>\n",
       "      <td>0</td>\n",
       "      <td>0</td>\n",
       "      <td>0</td>\n",
       "      <td>0</td>\n",
       "      <td>0</td>\n",
       "      <td>1</td>\n",
       "      <td>0</td>\n",
       "      <td>0</td>\n",
       "      <td>0</td>\n",
       "      <td>0</td>\n",
       "      <td>0</td>\n",
       "      <td>0</td>\n",
       "      <td>0</td>\n",
       "      <td>0</td>\n",
       "      <td>0</td>\n",
       "      <td>0</td>\n",
       "      <td>0</td>\n",
       "      <td>0</td>\n",
       "      <td>0</td>\n",
       "      <td>0</td>\n",
       "      <td>0</td>\n",
       "      <td>0</td>\n",
       "      <td>0</td>\n",
       "      <td>0</td>\n",
       "      <td>0</td>\n",
       "      <td>0</td>\n",
       "      <td>0</td>\n",
       "      <td>0</td>\n",
       "      <td>0</td>\n",
       "      <td>0</td>\n",
       "      <td>0</td>\n",
       "      <td>0</td>\n",
       "      <td>0</td>\n",
       "      <td>0</td>\n",
       "      <td>0</td>\n",
       "      <td>0</td>\n",
       "      <td>0</td>\n",
       "      <td>0</td>\n",
       "      <td>0</td>\n",
       "      <td>0</td>\n",
       "      <td>0</td>\n",
       "      <td>0</td>\n",
       "      <td>0</td>\n",
       "      <td>0</td>\n",
       "      <td>0</td>\n",
       "      <td>0</td>\n",
       "      <td>0</td>\n",
       "      <td>0</td>\n",
       "      <td>0</td>\n",
       "      <td>0</td>\n",
       "      <td>0</td>\n",
       "      <td>0</td>\n",
       "      <td>0</td>\n",
       "      <td>0</td>\n",
       "      <td>0</td>\n",
       "      <td>0</td>\n",
       "      <td>0</td>\n",
       "      <td>0</td>\n",
       "      <td>0</td>\n",
       "      <td>0</td>\n",
       "      <td>0</td>\n",
       "      <td>0</td>\n",
       "      <td>0</td>\n",
       "      <td>0</td>\n",
       "      <td>0</td>\n",
       "      <td>0</td>\n",
       "      <td>0</td>\n",
       "      <td>0</td>\n",
       "      <td>0</td>\n",
       "      <td>0</td>\n",
       "      <td>0</td>\n",
       "      <td>0</td>\n",
       "      <td>0</td>\n",
       "      <td>0</td>\n",
       "      <td>0</td>\n",
       "      <td>0</td>\n",
       "      <td>0</td>\n",
       "      <td>0</td>\n",
       "      <td>0</td>\n",
       "      <td>0</td>\n",
       "      <td>0</td>\n",
       "      <td>0</td>\n",
       "      <td>0</td>\n",
       "      <td>0</td>\n",
       "      <td>0</td>\n",
       "      <td>1</td>\n",
       "      <td>0</td>\n",
       "      <td>0</td>\n",
       "      <td>0</td>\n",
       "      <td>0</td>\n",
       "      <td>0</td>\n",
       "      <td>0</td>\n",
       "      <td>0</td>\n",
       "      <td>0</td>\n",
       "      <td>0</td>\n",
       "      <td>0</td>\n",
       "      <td>0</td>\n",
       "      <td>0</td>\n",
       "      <td>0</td>\n",
       "      <td>0</td>\n",
       "      <td>0</td>\n",
       "      <td>0</td>\n",
       "      <td>0</td>\n",
       "      <td>0</td>\n",
       "      <td>0</td>\n",
       "      <td>0</td>\n",
       "      <td>0</td>\n",
       "      <td>0</td>\n",
       "      <td>0</td>\n",
       "      <td>0</td>\n",
       "      <td>0</td>\n",
       "      <td>0</td>\n",
       "      <td>0</td>\n",
       "      <td>0</td>\n",
       "      <td>0</td>\n",
       "      <td>0</td>\n",
       "      <td>0</td>\n",
       "      <td>0</td>\n",
       "      <td>0</td>\n",
       "      <td>0</td>\n",
       "      <td>0</td>\n",
       "      <td>0</td>\n",
       "      <td>0</td>\n",
       "      <td>0</td>\n",
       "      <td>0</td>\n",
       "      <td>0</td>\n",
       "      <td>0</td>\n",
       "      <td>0</td>\n",
       "      <td>0</td>\n",
       "      <td>0</td>\n",
       "      <td>0</td>\n",
       "      <td>0</td>\n",
       "      <td>0</td>\n",
       "      <td>0</td>\n",
       "      <td>0</td>\n",
       "      <td>0</td>\n",
       "      <td>0</td>\n",
       "      <td>0</td>\n",
       "      <td>0</td>\n",
       "      <td>0</td>\n",
       "      <td>0</td>\n",
       "      <td>0</td>\n",
       "      <td>0</td>\n",
       "      <td>0</td>\n",
       "      <td>0</td>\n",
       "      <td>0</td>\n",
       "      <td>0</td>\n",
       "      <td>0</td>\n",
       "      <td>0</td>\n",
       "      <td>0</td>\n",
       "      <td>0</td>\n",
       "      <td>0</td>\n",
       "      <td>0</td>\n",
       "      <td>0</td>\n",
       "      <td>0</td>\n",
       "      <td>0</td>\n",
       "      <td>0</td>\n",
       "      <td>0</td>\n",
       "      <td>0</td>\n",
       "      <td>0</td>\n",
       "      <td>0</td>\n",
       "      <td>0</td>\n",
       "      <td>0</td>\n",
       "      <td>0</td>\n",
       "      <td>0</td>\n",
       "      <td>0</td>\n",
       "      <td>0</td>\n",
       "      <td>0</td>\n",
       "      <td>0</td>\n",
       "      <td>0</td>\n",
       "      <td>0</td>\n",
       "      <td>0</td>\n",
       "      <td>0</td>\n",
       "      <td>0</td>\n",
       "      <td>0</td>\n",
       "      <td>0</td>\n",
       "      <td>0</td>\n",
       "      <td>0</td>\n",
       "      <td>0</td>\n",
       "      <td>0</td>\n",
       "      <td>0</td>\n",
       "      <td>0</td>\n",
       "      <td>0</td>\n",
       "      <td>0</td>\n",
       "      <td>0</td>\n",
       "      <td>0</td>\n",
       "      <td>0</td>\n",
       "      <td>0</td>\n",
       "      <td>0</td>\n",
       "      <td>0</td>\n",
       "      <td>0</td>\n",
       "      <td>0</td>\n",
       "      <td>0</td>\n",
       "      <td>0</td>\n",
       "      <td>0</td>\n",
       "      <td>0</td>\n",
       "      <td>0</td>\n",
       "      <td>0</td>\n",
       "      <td>0</td>\n",
       "      <td>0</td>\n",
       "      <td>0</td>\n",
       "      <td>0</td>\n",
       "      <td>0</td>\n",
       "      <td>0</td>\n",
       "      <td>0</td>\n",
       "      <td>0</td>\n",
       "      <td>0</td>\n",
       "      <td>0</td>\n",
       "      <td>0</td>\n",
       "      <td>0</td>\n",
       "      <td>0</td>\n",
       "      <td>0</td>\n",
       "      <td>0</td>\n",
       "      <td>0</td>\n",
       "      <td>0</td>\n",
       "      <td>0</td>\n",
       "      <td>0</td>\n",
       "      <td>0</td>\n",
       "      <td>0</td>\n",
       "      <td>0</td>\n",
       "      <td>0</td>\n",
       "      <td>0</td>\n",
       "      <td>0</td>\n",
       "      <td>0</td>\n",
       "      <td>0</td>\n",
       "      <td>0</td>\n",
       "      <td>0</td>\n",
       "      <td>0</td>\n",
       "      <td>0</td>\n",
       "      <td>0</td>\n",
       "      <td>0</td>\n",
       "      <td>0</td>\n",
       "      <td>0</td>\n",
       "      <td>0</td>\n",
       "      <td>0</td>\n",
       "      <td>0</td>\n",
       "      <td>0</td>\n",
       "      <td>0</td>\n",
       "      <td>0</td>\n",
       "      <td>0</td>\n",
       "      <td>0</td>\n",
       "      <td>0</td>\n",
       "      <td>0</td>\n",
       "      <td>0</td>\n",
       "      <td>0</td>\n",
       "      <td>0</td>\n",
       "      <td>0</td>\n",
       "      <td>0</td>\n",
       "      <td>0</td>\n",
       "      <td>0</td>\n",
       "      <td>0</td>\n",
       "      <td>0</td>\n",
       "      <td>0</td>\n",
       "      <td>0</td>\n",
       "      <td>0</td>\n",
       "      <td>0</td>\n",
       "      <td>0</td>\n",
       "      <td>0</td>\n",
       "      <td>0</td>\n",
       "      <td>0</td>\n",
       "      <td>0</td>\n",
       "      <td>0</td>\n",
       "      <td>0</td>\n",
       "      <td>0</td>\n",
       "      <td>0</td>\n",
       "      <td>0</td>\n",
       "      <td>0</td>\n",
       "      <td>0</td>\n",
       "      <td>0</td>\n",
       "      <td>0</td>\n",
       "      <td>0</td>\n",
       "      <td>0</td>\n",
       "      <td>0</td>\n",
       "      <td>0</td>\n",
       "      <td>0</td>\n",
       "      <td>0</td>\n",
       "      <td>0</td>\n",
       "      <td>0</td>\n",
       "      <td>0</td>\n",
       "      <td>0</td>\n",
       "      <td>0</td>\n",
       "      <td>0</td>\n",
       "      <td>0</td>\n",
       "      <td>0</td>\n",
       "      <td>0</td>\n",
       "      <td>0</td>\n",
       "      <td>0</td>\n",
       "      <td>0</td>\n",
       "      <td>0</td>\n",
       "      <td>0</td>\n",
       "      <td>0</td>\n",
       "      <td>0</td>\n",
       "      <td>0</td>\n",
       "      <td>0</td>\n",
       "      <td>0</td>\n",
       "      <td>0</td>\n",
       "      <td>0</td>\n",
       "      <td>0</td>\n",
       "      <td>0</td>\n",
       "      <td>0</td>\n",
       "      <td>0</td>\n",
       "      <td>0</td>\n",
       "      <td>0</td>\n",
       "      <td>0</td>\n",
       "      <td>0</td>\n",
       "      <td>0</td>\n",
       "      <td>0</td>\n",
       "      <td>0</td>\n",
       "      <td>0</td>\n",
       "      <td>0</td>\n",
       "      <td>0</td>\n",
       "      <td>0</td>\n",
       "      <td>0</td>\n",
       "      <td>0</td>\n",
       "      <td>0</td>\n",
       "      <td>0</td>\n",
       "      <td>0</td>\n",
       "      <td>0</td>\n",
       "      <td>0</td>\n",
       "      <td>0</td>\n",
       "      <td>0</td>\n",
       "      <td>0</td>\n",
       "      <td>0</td>\n",
       "      <td>0</td>\n",
       "      <td>0</td>\n",
       "      <td>0</td>\n",
       "      <td>0</td>\n",
       "      <td>0</td>\n",
       "      <td>0</td>\n",
       "      <td>0</td>\n",
       "      <td>0</td>\n",
       "      <td>0</td>\n",
       "      <td>0</td>\n",
       "      <td>0</td>\n",
       "      <td>0</td>\n",
       "      <td>0</td>\n",
       "      <td>0</td>\n",
       "      <td>0</td>\n",
       "      <td>0</td>\n",
       "      <td>0</td>\n",
       "      <td>0</td>\n",
       "      <td>0</td>\n",
       "      <td>0</td>\n",
       "      <td>0</td>\n",
       "      <td>0</td>\n",
       "      <td>0</td>\n",
       "      <td>0</td>\n",
       "      <td>0</td>\n",
       "      <td>0</td>\n",
       "      <td>0</td>\n",
       "      <td>0</td>\n",
       "      <td>0</td>\n",
       "      <td>0</td>\n",
       "      <td>0</td>\n",
       "      <td>0</td>\n",
       "      <td>0</td>\n",
       "      <td>0</td>\n",
       "      <td>0</td>\n",
       "      <td>0</td>\n",
       "      <td>0</td>\n",
       "      <td>0</td>\n",
       "      <td>0</td>\n",
       "      <td>0</td>\n",
       "      <td>0</td>\n",
       "      <td>0</td>\n",
       "      <td>0</td>\n",
       "      <td>0</td>\n",
       "      <td>0</td>\n",
       "      <td>0</td>\n",
       "      <td>0</td>\n",
       "      <td>0</td>\n",
       "      <td>0</td>\n",
       "      <td>0</td>\n",
       "      <td>0</td>\n",
       "      <td>0</td>\n",
       "      <td>0</td>\n",
       "      <td>0</td>\n",
       "      <td>0</td>\n",
       "      <td>0</td>\n",
       "      <td>0</td>\n",
       "      <td>0</td>\n",
       "      <td>0</td>\n",
       "      <td>0</td>\n",
       "      <td>0</td>\n",
       "      <td>0</td>\n",
       "      <td>0</td>\n",
       "      <td>0</td>\n",
       "      <td>0</td>\n",
       "      <td>0</td>\n",
       "      <td>0</td>\n",
       "      <td>0</td>\n",
       "      <td>0</td>\n",
       "      <td>0</td>\n",
       "      <td>0</td>\n",
       "      <td>0</td>\n",
       "      <td>0</td>\n",
       "      <td>0</td>\n",
       "      <td>0</td>\n",
       "      <td>0</td>\n",
       "      <td>1</td>\n",
       "      <td>0</td>\n",
       "      <td>0</td>\n",
       "      <td>0</td>\n",
       "      <td>0</td>\n",
       "      <td>0</td>\n",
       "      <td>0</td>\n",
       "      <td>0</td>\n",
       "      <td>0</td>\n",
       "      <td>0</td>\n",
       "      <td>0</td>\n",
       "      <td>0</td>\n",
       "      <td>0</td>\n",
       "      <td>0</td>\n",
       "      <td>0</td>\n",
       "      <td>0</td>\n",
       "      <td>0</td>\n",
       "      <td>0</td>\n",
       "      <td>0</td>\n",
       "      <td>0</td>\n",
       "      <td>0</td>\n",
       "      <td>0</td>\n",
       "      <td>0</td>\n",
       "      <td>0</td>\n",
       "      <td>0</td>\n",
       "      <td>0</td>\n",
       "      <td>0</td>\n",
       "      <td>0</td>\n",
       "      <td>0</td>\n",
       "      <td>0</td>\n",
       "      <td>0</td>\n",
       "      <td>0</td>\n",
       "      <td>0</td>\n",
       "      <td>0</td>\n",
       "      <td>0</td>\n",
       "      <td>0</td>\n",
       "      <td>0</td>\n",
       "      <td>0</td>\n",
       "      <td>0</td>\n",
       "      <td>0</td>\n",
       "      <td>0</td>\n",
       "      <td>0</td>\n",
       "      <td>0</td>\n",
       "      <td>0</td>\n",
       "      <td>0</td>\n",
       "      <td>0</td>\n",
       "      <td>0</td>\n",
       "      <td>0</td>\n",
       "      <td>0</td>\n",
       "      <td>0</td>\n",
       "      <td>0</td>\n",
       "      <td>0</td>\n",
       "      <td>0</td>\n",
       "      <td>0</td>\n",
       "      <td>0</td>\n",
       "      <td>0</td>\n",
       "      <td>0</td>\n",
       "      <td>0</td>\n",
       "      <td>0</td>\n",
       "      <td>0</td>\n",
       "      <td>0</td>\n",
       "      <td>0</td>\n",
       "      <td>0</td>\n",
       "      <td>0</td>\n",
       "      <td>0</td>\n",
       "      <td>0</td>\n",
       "      <td>0</td>\n",
       "      <td>0</td>\n",
       "      <td>0</td>\n",
       "      <td>0</td>\n",
       "    </tr>\n",
       "    <tr>\n",
       "      <th>2682393</th>\n",
       "      <td>-0.408530</td>\n",
       "      <td>1.620452</td>\n",
       "      <td>0.540216</td>\n",
       "      <td>-0.621661</td>\n",
       "      <td>-0.593222</td>\n",
       "      <td>-0.470061</td>\n",
       "      <td>-0.554925</td>\n",
       "      <td>-1.128842</td>\n",
       "      <td>1.662374</td>\n",
       "      <td>1.408289</td>\n",
       "      <td>1.452872</td>\n",
       "      <td>1.262784</td>\n",
       "      <td>0.028360</td>\n",
       "      <td>1.640610</td>\n",
       "      <td>0</td>\n",
       "      <td>0</td>\n",
       "      <td>-0.009079</td>\n",
       "      <td>-0.000944</td>\n",
       "      <td>-0.002434</td>\n",
       "      <td>-0.019226</td>\n",
       "      <td>-0.00926</td>\n",
       "      <td>4392</td>\n",
       "      <td>0</td>\n",
       "      <td>0</td>\n",
       "      <td>0</td>\n",
       "      <td>0</td>\n",
       "      <td>0</td>\n",
       "      <td>0</td>\n",
       "      <td>0</td>\n",
       "      <td>0</td>\n",
       "      <td>0</td>\n",
       "      <td>0</td>\n",
       "      <td>0</td>\n",
       "      <td>0</td>\n",
       "      <td>0</td>\n",
       "      <td>0</td>\n",
       "      <td>0</td>\n",
       "      <td>0</td>\n",
       "      <td>1</td>\n",
       "      <td>0</td>\n",
       "      <td>0</td>\n",
       "      <td>0</td>\n",
       "      <td>0</td>\n",
       "      <td>0</td>\n",
       "      <td>0</td>\n",
       "      <td>0</td>\n",
       "      <td>0</td>\n",
       "      <td>0</td>\n",
       "      <td>0</td>\n",
       "      <td>0</td>\n",
       "      <td>0</td>\n",
       "      <td>0</td>\n",
       "      <td>0</td>\n",
       "      <td>0</td>\n",
       "      <td>0</td>\n",
       "      <td>0</td>\n",
       "      <td>0</td>\n",
       "      <td>0</td>\n",
       "      <td>0</td>\n",
       "      <td>0</td>\n",
       "      <td>0</td>\n",
       "      <td>0</td>\n",
       "      <td>0</td>\n",
       "      <td>0</td>\n",
       "      <td>0</td>\n",
       "      <td>0</td>\n",
       "      <td>0</td>\n",
       "      <td>0</td>\n",
       "      <td>0</td>\n",
       "      <td>0</td>\n",
       "      <td>0</td>\n",
       "      <td>0</td>\n",
       "      <td>0</td>\n",
       "      <td>0</td>\n",
       "      <td>0</td>\n",
       "      <td>0</td>\n",
       "      <td>0</td>\n",
       "      <td>0</td>\n",
       "      <td>0</td>\n",
       "      <td>0</td>\n",
       "      <td>0</td>\n",
       "      <td>0</td>\n",
       "      <td>0</td>\n",
       "      <td>0</td>\n",
       "      <td>0</td>\n",
       "      <td>0</td>\n",
       "      <td>0</td>\n",
       "      <td>0</td>\n",
       "      <td>0</td>\n",
       "      <td>0</td>\n",
       "      <td>0</td>\n",
       "      <td>0</td>\n",
       "      <td>0</td>\n",
       "      <td>0</td>\n",
       "      <td>0</td>\n",
       "      <td>0</td>\n",
       "      <td>0</td>\n",
       "      <td>0</td>\n",
       "      <td>0</td>\n",
       "      <td>0</td>\n",
       "      <td>0</td>\n",
       "      <td>0</td>\n",
       "      <td>0</td>\n",
       "      <td>0</td>\n",
       "      <td>0</td>\n",
       "      <td>0</td>\n",
       "      <td>0</td>\n",
       "      <td>0</td>\n",
       "      <td>0</td>\n",
       "      <td>0</td>\n",
       "      <td>0</td>\n",
       "      <td>0</td>\n",
       "      <td>0</td>\n",
       "      <td>0</td>\n",
       "      <td>0</td>\n",
       "      <td>0</td>\n",
       "      <td>0</td>\n",
       "      <td>0</td>\n",
       "      <td>0</td>\n",
       "      <td>0</td>\n",
       "      <td>0</td>\n",
       "      <td>0</td>\n",
       "      <td>0</td>\n",
       "      <td>0</td>\n",
       "      <td>0</td>\n",
       "      <td>0</td>\n",
       "      <td>0</td>\n",
       "      <td>0</td>\n",
       "      <td>0</td>\n",
       "      <td>0</td>\n",
       "      <td>0</td>\n",
       "      <td>0</td>\n",
       "      <td>0</td>\n",
       "      <td>0</td>\n",
       "      <td>0</td>\n",
       "      <td>0</td>\n",
       "      <td>0</td>\n",
       "      <td>0</td>\n",
       "      <td>0</td>\n",
       "      <td>0</td>\n",
       "      <td>0</td>\n",
       "      <td>0</td>\n",
       "      <td>0</td>\n",
       "      <td>0</td>\n",
       "      <td>0</td>\n",
       "      <td>0</td>\n",
       "      <td>0</td>\n",
       "      <td>0</td>\n",
       "      <td>0</td>\n",
       "      <td>0</td>\n",
       "      <td>0</td>\n",
       "      <td>0</td>\n",
       "      <td>0</td>\n",
       "      <td>0</td>\n",
       "      <td>0</td>\n",
       "      <td>0</td>\n",
       "      <td>0</td>\n",
       "      <td>0</td>\n",
       "      <td>0</td>\n",
       "      <td>0</td>\n",
       "      <td>0</td>\n",
       "      <td>0</td>\n",
       "      <td>0</td>\n",
       "      <td>0</td>\n",
       "      <td>0</td>\n",
       "      <td>0</td>\n",
       "      <td>0</td>\n",
       "      <td>0</td>\n",
       "      <td>0</td>\n",
       "      <td>0</td>\n",
       "      <td>0</td>\n",
       "      <td>0</td>\n",
       "      <td>0</td>\n",
       "      <td>0</td>\n",
       "      <td>0</td>\n",
       "      <td>0</td>\n",
       "      <td>0</td>\n",
       "      <td>0</td>\n",
       "      <td>0</td>\n",
       "      <td>0</td>\n",
       "      <td>0</td>\n",
       "      <td>0</td>\n",
       "      <td>0</td>\n",
       "      <td>0</td>\n",
       "      <td>0</td>\n",
       "      <td>0</td>\n",
       "      <td>0</td>\n",
       "      <td>0</td>\n",
       "      <td>0</td>\n",
       "      <td>0</td>\n",
       "      <td>0</td>\n",
       "      <td>0</td>\n",
       "      <td>0</td>\n",
       "      <td>0</td>\n",
       "      <td>0</td>\n",
       "      <td>0</td>\n",
       "      <td>0</td>\n",
       "      <td>0</td>\n",
       "      <td>0</td>\n",
       "      <td>0</td>\n",
       "      <td>0</td>\n",
       "      <td>0</td>\n",
       "      <td>0</td>\n",
       "      <td>0</td>\n",
       "      <td>0</td>\n",
       "      <td>1</td>\n",
       "      <td>0</td>\n",
       "      <td>0</td>\n",
       "      <td>0</td>\n",
       "      <td>0</td>\n",
       "      <td>0</td>\n",
       "      <td>0</td>\n",
       "      <td>0</td>\n",
       "      <td>0</td>\n",
       "      <td>0</td>\n",
       "      <td>0</td>\n",
       "      <td>0</td>\n",
       "      <td>0</td>\n",
       "      <td>0</td>\n",
       "      <td>0</td>\n",
       "      <td>0</td>\n",
       "      <td>0</td>\n",
       "      <td>0</td>\n",
       "      <td>0</td>\n",
       "      <td>0</td>\n",
       "      <td>0</td>\n",
       "      <td>0</td>\n",
       "      <td>0</td>\n",
       "      <td>0</td>\n",
       "      <td>0</td>\n",
       "      <td>0</td>\n",
       "      <td>0</td>\n",
       "      <td>0</td>\n",
       "      <td>0</td>\n",
       "      <td>0</td>\n",
       "      <td>0</td>\n",
       "      <td>0</td>\n",
       "      <td>0</td>\n",
       "      <td>0</td>\n",
       "      <td>0</td>\n",
       "      <td>0</td>\n",
       "      <td>0</td>\n",
       "      <td>0</td>\n",
       "      <td>0</td>\n",
       "      <td>0</td>\n",
       "      <td>0</td>\n",
       "      <td>0</td>\n",
       "      <td>0</td>\n",
       "      <td>0</td>\n",
       "      <td>0</td>\n",
       "      <td>0</td>\n",
       "      <td>0</td>\n",
       "      <td>0</td>\n",
       "      <td>0</td>\n",
       "      <td>0</td>\n",
       "      <td>0</td>\n",
       "      <td>0</td>\n",
       "      <td>0</td>\n",
       "      <td>0</td>\n",
       "      <td>0</td>\n",
       "      <td>0</td>\n",
       "      <td>0</td>\n",
       "      <td>0</td>\n",
       "      <td>0</td>\n",
       "      <td>0</td>\n",
       "      <td>0</td>\n",
       "      <td>0</td>\n",
       "      <td>0</td>\n",
       "      <td>0</td>\n",
       "      <td>0</td>\n",
       "      <td>0</td>\n",
       "      <td>0</td>\n",
       "      <td>0</td>\n",
       "      <td>0</td>\n",
       "      <td>0</td>\n",
       "      <td>0</td>\n",
       "      <td>0</td>\n",
       "      <td>0</td>\n",
       "      <td>0</td>\n",
       "      <td>0</td>\n",
       "      <td>0</td>\n",
       "      <td>0</td>\n",
       "      <td>0</td>\n",
       "      <td>0</td>\n",
       "      <td>0</td>\n",
       "      <td>0</td>\n",
       "      <td>0</td>\n",
       "      <td>0</td>\n",
       "      <td>0</td>\n",
       "      <td>0</td>\n",
       "      <td>0</td>\n",
       "      <td>0</td>\n",
       "      <td>0</td>\n",
       "      <td>0</td>\n",
       "      <td>0</td>\n",
       "      <td>0</td>\n",
       "      <td>0</td>\n",
       "      <td>0</td>\n",
       "      <td>0</td>\n",
       "      <td>0</td>\n",
       "      <td>0</td>\n",
       "      <td>0</td>\n",
       "      <td>0</td>\n",
       "      <td>0</td>\n",
       "      <td>0</td>\n",
       "      <td>0</td>\n",
       "      <td>0</td>\n",
       "      <td>0</td>\n",
       "      <td>0</td>\n",
       "      <td>0</td>\n",
       "      <td>0</td>\n",
       "      <td>0</td>\n",
       "      <td>0</td>\n",
       "      <td>0</td>\n",
       "      <td>0</td>\n",
       "      <td>0</td>\n",
       "      <td>0</td>\n",
       "      <td>0</td>\n",
       "      <td>0</td>\n",
       "      <td>0</td>\n",
       "      <td>0</td>\n",
       "      <td>0</td>\n",
       "      <td>0</td>\n",
       "      <td>0</td>\n",
       "      <td>0</td>\n",
       "      <td>0</td>\n",
       "      <td>0</td>\n",
       "      <td>0</td>\n",
       "      <td>0</td>\n",
       "      <td>0</td>\n",
       "      <td>0</td>\n",
       "      <td>0</td>\n",
       "      <td>0</td>\n",
       "      <td>0</td>\n",
       "      <td>0</td>\n",
       "      <td>0</td>\n",
       "      <td>0</td>\n",
       "      <td>0</td>\n",
       "      <td>0</td>\n",
       "      <td>0</td>\n",
       "      <td>0</td>\n",
       "      <td>0</td>\n",
       "      <td>0</td>\n",
       "      <td>0</td>\n",
       "      <td>0</td>\n",
       "      <td>0</td>\n",
       "      <td>0</td>\n",
       "      <td>0</td>\n",
       "      <td>0</td>\n",
       "      <td>0</td>\n",
       "      <td>0</td>\n",
       "      <td>0</td>\n",
       "      <td>0</td>\n",
       "      <td>0</td>\n",
       "      <td>0</td>\n",
       "      <td>0</td>\n",
       "      <td>0</td>\n",
       "      <td>0</td>\n",
       "      <td>0</td>\n",
       "      <td>0</td>\n",
       "      <td>0</td>\n",
       "      <td>0</td>\n",
       "      <td>0</td>\n",
       "      <td>0</td>\n",
       "      <td>0</td>\n",
       "      <td>0</td>\n",
       "      <td>0</td>\n",
       "      <td>0</td>\n",
       "      <td>0</td>\n",
       "      <td>0</td>\n",
       "      <td>0</td>\n",
       "      <td>0</td>\n",
       "      <td>0</td>\n",
       "      <td>0</td>\n",
       "      <td>0</td>\n",
       "      <td>0</td>\n",
       "      <td>0</td>\n",
       "      <td>0</td>\n",
       "      <td>0</td>\n",
       "      <td>0</td>\n",
       "      <td>0</td>\n",
       "      <td>0</td>\n",
       "      <td>0</td>\n",
       "      <td>0</td>\n",
       "      <td>0</td>\n",
       "      <td>0</td>\n",
       "      <td>0</td>\n",
       "      <td>0</td>\n",
       "      <td>0</td>\n",
       "      <td>0</td>\n",
       "      <td>0</td>\n",
       "      <td>0</td>\n",
       "      <td>0</td>\n",
       "      <td>0</td>\n",
       "      <td>0</td>\n",
       "      <td>0</td>\n",
       "      <td>0</td>\n",
       "      <td>0</td>\n",
       "      <td>0</td>\n",
       "      <td>0</td>\n",
       "      <td>0</td>\n",
       "      <td>0</td>\n",
       "      <td>0</td>\n",
       "      <td>0</td>\n",
       "      <td>0</td>\n",
       "      <td>0</td>\n",
       "      <td>0</td>\n",
       "      <td>0</td>\n",
       "      <td>0</td>\n",
       "      <td>0</td>\n",
       "      <td>0</td>\n",
       "      <td>0</td>\n",
       "      <td>0</td>\n",
       "      <td>0</td>\n",
       "      <td>0</td>\n",
       "      <td>0</td>\n",
       "      <td>0</td>\n",
       "      <td>0</td>\n",
       "      <td>0</td>\n",
       "      <td>0</td>\n",
       "      <td>0</td>\n",
       "      <td>0</td>\n",
       "      <td>0</td>\n",
       "      <td>0</td>\n",
       "      <td>0</td>\n",
       "      <td>0</td>\n",
       "      <td>0</td>\n",
       "      <td>0</td>\n",
       "      <td>0</td>\n",
       "      <td>0</td>\n",
       "      <td>0</td>\n",
       "      <td>0</td>\n",
       "      <td>0</td>\n",
       "      <td>0</td>\n",
       "      <td>0</td>\n",
       "      <td>0</td>\n",
       "      <td>0</td>\n",
       "      <td>0</td>\n",
       "      <td>0</td>\n",
       "      <td>0</td>\n",
       "      <td>0</td>\n",
       "      <td>0</td>\n",
       "      <td>0</td>\n",
       "      <td>0</td>\n",
       "      <td>1</td>\n",
       "      <td>0</td>\n",
       "      <td>0</td>\n",
       "      <td>0</td>\n",
       "      <td>0</td>\n",
       "      <td>0</td>\n",
       "      <td>0</td>\n",
       "      <td>0</td>\n",
       "      <td>0</td>\n",
       "      <td>0</td>\n",
       "      <td>0</td>\n",
       "      <td>0</td>\n",
       "      <td>0</td>\n",
       "      <td>0</td>\n",
       "      <td>0</td>\n",
       "      <td>0</td>\n",
       "      <td>0</td>\n",
       "      <td>0</td>\n",
       "      <td>0</td>\n",
       "      <td>0</td>\n",
       "      <td>0</td>\n",
       "      <td>0</td>\n",
       "      <td>0</td>\n",
       "      <td>0</td>\n",
       "      <td>0</td>\n",
       "      <td>0</td>\n",
       "      <td>0</td>\n",
       "      <td>0</td>\n",
       "      <td>0</td>\n",
       "      <td>0</td>\n",
       "      <td>0</td>\n",
       "      <td>0</td>\n",
       "      <td>0</td>\n",
       "      <td>0</td>\n",
       "      <td>0</td>\n",
       "      <td>0</td>\n",
       "      <td>0</td>\n",
       "      <td>0</td>\n",
       "      <td>0</td>\n",
       "      <td>0</td>\n",
       "      <td>0</td>\n",
       "      <td>0</td>\n",
       "      <td>0</td>\n",
       "      <td>0</td>\n",
       "      <td>0</td>\n",
       "      <td>0</td>\n",
       "      <td>0</td>\n",
       "      <td>0</td>\n",
       "      <td>0</td>\n",
       "      <td>0</td>\n",
       "      <td>0</td>\n",
       "      <td>0</td>\n",
       "      <td>0</td>\n",
       "      <td>0</td>\n",
       "      <td>0</td>\n",
       "      <td>0</td>\n",
       "      <td>0</td>\n",
       "      <td>0</td>\n",
       "      <td>0</td>\n",
       "      <td>0</td>\n",
       "      <td>0</td>\n",
       "    </tr>\n",
       "  </tbody>\n",
       "</table>\n",
       "</div>"
      ],
      "text/plain": [
       "            Month  DayofMonth  DayOfWeek   DepTime  CRSDepTime   ArrTime  \\\n",
       "6050882  1.356782   -1.447351  -1.471391 -1.580854   -1.595727 -1.423156   \n",
       "6337246  1.356782   -0.197505   0.540216 -0.440286   -0.414204 -0.529423   \n",
       "2321555 -0.702748    0.597851  -1.471391  0.916536    0.982143  0.793038   \n",
       "6057490  1.356782   -0.879239   1.043118 -1.577366   -1.595727 -1.809011   \n",
       "2682393 -0.408530    1.620452   0.540216 -0.621661   -0.593222 -0.470061   \n",
       "\n",
       "         CRSArrTime  FlightNum  ActualElapsedTime  CRSElapsedTime   AirTime  \\\n",
       "6050882   -1.379646   0.049321           0.608053        1.135037  0.770782   \n",
       "6337246   -0.544573   0.015075          -1.044668       -0.993458 -0.964098   \n",
       "2321555    0.787402  -0.953012          -0.873697       -1.050985 -0.993754   \n",
       "6057490   -1.883450   2.525250          -1.073163       -0.964694 -0.949270   \n",
       "2682393   -0.554925  -1.128842           1.662374        1.408289  1.452872   \n",
       "\n",
       "         Distance    TaxiIn   TaxiOut  Cancelled  Diverted  CarrierDelay  \\\n",
       "6050882  0.689321 -0.782798 -0.481290          0         0     -0.009079   \n",
       "6337246 -0.967153 -0.174429 -0.658115          0         0     -0.009079   \n",
       "2321555 -0.896136 -0.580008  0.756485          0         0     -0.009079   \n",
       "6057490 -1.015090 -0.782798 -0.658115          0         0     -0.009079   \n",
       "2682393  1.262784  0.028360  1.640610          0         0     -0.009079   \n",
       "\n",
       "         WeatherDelay  NASDelay  SecurityDelay  LateAircraftDelay  \\\n",
       "6050882     -0.000944 -0.002434      -0.019226           -0.00926   \n",
       "6337246     -0.000944 -0.002434      -0.019226           -0.00926   \n",
       "2321555     -0.000944 -0.002434      -0.019226           -0.00926   \n",
       "6057490     -0.000944 -0.002434      -0.019226           -0.00926   \n",
       "2682393     -0.000944 -0.002434      -0.019226           -0.00926   \n",
       "\n",
       "         TailNum_LabelEncoded  UniqueCarrier_9E  UniqueCarrier_AA  \\\n",
       "6050882                   611                 0                 0   \n",
       "6337246                   119                 1                 0   \n",
       "2321555                  2663                 0                 0   \n",
       "6057490                  1556                 0                 0   \n",
       "2682393                  4392                 0                 0   \n",
       "\n",
       "         UniqueCarrier_AQ  UniqueCarrier_AS  UniqueCarrier_B6  \\\n",
       "6050882                 0                 0                 0   \n",
       "6337246                 0                 0                 0   \n",
       "2321555                 0                 1                 0   \n",
       "6057490                 0                 0                 0   \n",
       "2682393                 0                 0                 0   \n",
       "\n",
       "         UniqueCarrier_CO  UniqueCarrier_DL  UniqueCarrier_EV  \\\n",
       "6050882                 0                 0                 0   \n",
       "6337246                 0                 0                 0   \n",
       "2321555                 0                 0                 0   \n",
       "6057490                 0                 0                 0   \n",
       "2682393                 0                 0                 0   \n",
       "\n",
       "         UniqueCarrier_F9  UniqueCarrier_FL  UniqueCarrier_HA  \\\n",
       "6050882                 0                 0                 0   \n",
       "6337246                 0                 0                 0   \n",
       "2321555                 0                 0                 0   \n",
       "6057490                 0                 0                 0   \n",
       "2682393                 0                 0                 0   \n",
       "\n",
       "         UniqueCarrier_MQ  UniqueCarrier_NW  UniqueCarrier_OH  \\\n",
       "6050882                 0                 0                 0   \n",
       "6337246                 0                 0                 0   \n",
       "2321555                 0                 0                 0   \n",
       "6057490                 0                 0                 0   \n",
       "2682393                 0                 0                 0   \n",
       "\n",
       "         UniqueCarrier_OO  UniqueCarrier_UA  UniqueCarrier_US  \\\n",
       "6050882                 0                 0                 0   \n",
       "6337246                 0                 0                 0   \n",
       "2321555                 0                 0                 0   \n",
       "6057490                 0                 0                 0   \n",
       "2682393                 0                 0                 1   \n",
       "\n",
       "         UniqueCarrier_WN  UniqueCarrier_XE  UniqueCarrier_YV  Origin_ABE  \\\n",
       "6050882                 0                 1                 0           0   \n",
       "6337246                 0                 0                 0           0   \n",
       "2321555                 0                 0                 0           0   \n",
       "6057490                 0                 0                 1           0   \n",
       "2682393                 0                 0                 0           0   \n",
       "\n",
       "         Origin_ABI  Origin_ABQ  Origin_ACT  Origin_ACV  Origin_ADQ  \\\n",
       "6050882           0           0           0           0           0   \n",
       "6337246           0           0           0           0           0   \n",
       "2321555           0           0           0           0           0   \n",
       "6057490           0           0           0           0           0   \n",
       "2682393           0           0           0           0           0   \n",
       "\n",
       "         Origin_AEX  Origin_AGS  Origin_ALB  Origin_ALO  Origin_AMA  \\\n",
       "6050882           0           0           0           0           0   \n",
       "6337246           0           0           0           0           0   \n",
       "2321555           0           0           0           0           0   \n",
       "6057490           0           0           0           0           0   \n",
       "2682393           0           0           0           0           0   \n",
       "\n",
       "         Origin_ANC  Origin_ASE  Origin_ATL  Origin_ATW  Origin_AUS  \\\n",
       "6050882           0           0           0           0           0   \n",
       "6337246           0           0           0           0           0   \n",
       "2321555           0           0           0           0           0   \n",
       "6057490           0           0           0           0           0   \n",
       "2682393           0           0           0           0           0   \n",
       "\n",
       "         Origin_AVL  Origin_AVP  Origin_BDL  Origin_BFL  Origin_BGM  \\\n",
       "6050882           0           0           0           0           0   \n",
       "6337246           0           0           0           0           0   \n",
       "2321555           0           0           0           0           0   \n",
       "6057490           0           0           0           0           0   \n",
       "2682393           0           0           0           0           0   \n",
       "\n",
       "         Origin_BHM  Origin_BIL  Origin_BIS  Origin_BMI  Origin_BNA  \\\n",
       "6050882           0           0           0           0           0   \n",
       "6337246           0           0           0           0           0   \n",
       "2321555           0           0           0           0           0   \n",
       "6057490           0           0           0           0           0   \n",
       "2682393           0           0           0           0           0   \n",
       "\n",
       "         Origin_BOI  Origin_BOS  Origin_BRO  Origin_BTM  Origin_BTR  \\\n",
       "6050882           0           0           0           0           0   \n",
       "6337246           0           0           0           0           0   \n",
       "2321555           0           0           0           0           0   \n",
       "6057490           0           0           0           0           0   \n",
       "2682393           0           0           0           0           0   \n",
       "\n",
       "         Origin_BTV  Origin_BUF  Origin_BUR  Origin_BWI  Origin_BZN  \\\n",
       "6050882           0           0           0           0           0   \n",
       "6337246           0           0           0           0           0   \n",
       "2321555           0           0           0           0           0   \n",
       "6057490           0           0           0           0           0   \n",
       "2682393           0           0           0           0           0   \n",
       "\n",
       "         Origin_CAE  Origin_CAK  Origin_CEC  Origin_CHA  Origin_CHS  \\\n",
       "6050882           0           0           0           0           0   \n",
       "6337246           0           0           0           0           0   \n",
       "2321555           0           0           0           0           0   \n",
       "6057490           0           0           0           0           0   \n",
       "2682393           0           0           0           0           0   \n",
       "\n",
       "         Origin_CID  Origin_CLD  Origin_CLE  Origin_CLT  Origin_CMH  \\\n",
       "6050882           0           0           0           0           0   \n",
       "6337246           0           0           0           0           0   \n",
       "2321555           0           0           0           0           0   \n",
       "6057490           0           0           0           0           0   \n",
       "2682393           0           0           0           0           0   \n",
       "\n",
       "         Origin_CMI  Origin_COS  Origin_CPR  Origin_CRP  Origin_CRW  \\\n",
       "6050882           0           0           0           0           0   \n",
       "6337246           0           0           0           0           0   \n",
       "2321555           0           0           0           0           0   \n",
       "6057490           0           0           0           0           0   \n",
       "2682393           0           0           0           0           0   \n",
       "\n",
       "         Origin_CSG  Origin_CVG  Origin_DAB  Origin_DAL  Origin_DAY  \\\n",
       "6050882           0           0           0           0           0   \n",
       "6337246           0           0           0           0           0   \n",
       "2321555           0           0           0           0           0   \n",
       "6057490           0           0           0           0           0   \n",
       "2682393           0           0           0           0           0   \n",
       "\n",
       "         Origin_DBQ  Origin_DCA  Origin_DEN  Origin_DFW  Origin_DRO  \\\n",
       "6050882           0           0           0           0           0   \n",
       "6337246           0           0           0           0           0   \n",
       "2321555           0           0           0           0           0   \n",
       "6057490           0           0           0           0           0   \n",
       "2682393           0           0           0           0           0   \n",
       "\n",
       "         Origin_DSM  Origin_DTW  Origin_EGE  Origin_EKO  Origin_ELM  \\\n",
       "6050882           0           0           0           0           0   \n",
       "6337246           0           0           0           0           0   \n",
       "2321555           0           0           0           0           0   \n",
       "6057490           0           0           0           0           0   \n",
       "2682393           0           0           0           0           0   \n",
       "\n",
       "         Origin_ELP  Origin_EUG  Origin_EVV  Origin_EWR  Origin_EYW  \\\n",
       "6050882           0           0           0           0           0   \n",
       "6337246           0           0           0           0           0   \n",
       "2321555           0           0           0           0           0   \n",
       "6057490           0           0           0           0           0   \n",
       "2682393           0           0           0           0           0   \n",
       "\n",
       "         Origin_FAI  Origin_FAR  Origin_FAT  Origin_FCA  Origin_FLL  \\\n",
       "6050882           0           0           0           0           0   \n",
       "6337246           0           0           0           0           0   \n",
       "2321555           0           0           0           0           0   \n",
       "6057490           0           0           0           0           0   \n",
       "2682393           0           0           0           0           0   \n",
       "\n",
       "         Origin_FLO  Origin_FNT  Origin_FSD  Origin_FWA  Origin_GCC  \\\n",
       "6050882           0           0           0           0           0   \n",
       "6337246           0           0           0           0           0   \n",
       "2321555           0           0           0           0           0   \n",
       "6057490           0           0           0           1           0   \n",
       "2682393           0           0           0           0           0   \n",
       "\n",
       "         Origin_GEG  Origin_GFK  Origin_GGG  Origin_GJT  Origin_GNV  \\\n",
       "6050882           0           0           0           0           0   \n",
       "6337246           0           0           0           0           0   \n",
       "2321555           0           0           0           0           0   \n",
       "6057490           0           0           0           0           0   \n",
       "2682393           0           0           0           0           0   \n",
       "\n",
       "         Origin_GPT  Origin_GRB  Origin_GRK  Origin_GRR  Origin_GSO  \\\n",
       "6050882           0           0           0           0           0   \n",
       "6337246           0           0           0           0           0   \n",
       "2321555           0           0           0           0           0   \n",
       "6057490           0           0           0           0           0   \n",
       "2682393           0           0           0           0           0   \n",
       "\n",
       "         Origin_GSP  Origin_GST  Origin_GTF  Origin_HDN  Origin_HNL  \\\n",
       "6050882           0           0           0           0           0   \n",
       "6337246           0           0           0           0           0   \n",
       "2321555           0           0           0           0           0   \n",
       "6057490           0           0           0           0           0   \n",
       "2682393           0           0           0           0           0   \n",
       "\n",
       "         Origin_HOU  Origin_HPN  Origin_HRL  Origin_HSV  Origin_IAD  \\\n",
       "6050882           0           0           0           0           0   \n",
       "6337246           0           0           0           1           0   \n",
       "2321555           0           0           0           0           0   \n",
       "6057490           0           0           0           0           0   \n",
       "2682393           0           0           0           0           0   \n",
       "\n",
       "         Origin_IAH  Origin_ICT  Origin_IDA  Origin_ILM  Origin_IND  \\\n",
       "6050882           0           0           0           0           0   \n",
       "6337246           0           0           0           0           0   \n",
       "2321555           0           0           0           0           0   \n",
       "6057490           0           0           0           0           0   \n",
       "2682393           0           0           0           0           0   \n",
       "\n",
       "         Origin_IPL  Origin_ISP  Origin_ITO  Origin_IYK  Origin_JAC  \\\n",
       "6050882           0           0           0           0           0   \n",
       "6337246           0           0           0           0           0   \n",
       "2321555           0           0           0           0           0   \n",
       "6057490           0           0           0           0           0   \n",
       "2682393           0           0           0           0           0   \n",
       "\n",
       "         Origin_JAN  Origin_JAX  Origin_JFK  Origin_JNU  Origin_KOA  \\\n",
       "6050882           0           0           0           0           0   \n",
       "6337246           0           0           0           0           0   \n",
       "2321555           0           0           0           0           0   \n",
       "6057490           0           0           0           0           0   \n",
       "2682393           0           0           0           0           0   \n",
       "\n",
       "         Origin_KTN  Origin_LAN  Origin_LAS  Origin_LAW  Origin_LAX  \\\n",
       "6050882           0           0           0           0           0   \n",
       "6337246           0           0           0           0           0   \n",
       "2321555           0           0           0           0           0   \n",
       "6057490           0           0           0           0           0   \n",
       "2682393           0           0           0           0           0   \n",
       "\n",
       "         Origin_LBB  Origin_LCH  Origin_LEX  Origin_LFT  Origin_LGA  \\\n",
       "6050882           0           0           0           0           0   \n",
       "6337246           0           0           0           0           0   \n",
       "2321555           0           0           0           0           0   \n",
       "6057490           0           0           0           0           0   \n",
       "2682393           0           0           0           0           0   \n",
       "\n",
       "         Origin_LGB  Origin_LIH  Origin_LIT  Origin_LRD  Origin_LWS  \\\n",
       "6050882           0           0           0           0           0   \n",
       "6337246           0           0           0           0           0   \n",
       "2321555           0           0           0           0           0   \n",
       "6057490           0           0           0           0           0   \n",
       "2682393           0           0           0           0           0   \n",
       "\n",
       "         Origin_MAF  Origin_MBS  Origin_MCI  Origin_MCO  Origin_MDT  \\\n",
       "6050882           0           0           0           0           0   \n",
       "6337246           0           0           0           0           0   \n",
       "2321555           0           0           0           0           0   \n",
       "6057490           0           0           0           0           0   \n",
       "2682393           0           0           0           0           0   \n",
       "\n",
       "         Origin_MDW  Origin_MEM  Origin_MFE  Origin_MFR  Origin_MGM  \\\n",
       "6050882           0           0           0           0           0   \n",
       "6337246           0           0           0           0           0   \n",
       "2321555           0           0           0           0           0   \n",
       "6057490           0           0           0           0           0   \n",
       "2682393           0           0           0           0           0   \n",
       "\n",
       "         Origin_MHT  Origin_MIA  Origin_MKE  Origin_MLB  Origin_MLI  \\\n",
       "6050882           0           0           0           0           0   \n",
       "6337246           0           0           0           0           0   \n",
       "2321555           0           0           0           0           0   \n",
       "6057490           0           0           0           0           0   \n",
       "2682393           0           0           0           0           0   \n",
       "\n",
       "         Origin_MLU  Origin_MOB  Origin_MOD  Origin_MRY  Origin_MSN  \\\n",
       "6050882           0           0           0           0           0   \n",
       "6337246           0           0           0           0           0   \n",
       "2321555           0           0           0           0           0   \n",
       "6057490           0           0           0           0           0   \n",
       "2682393           0           0           0           0           0   \n",
       "\n",
       "         Origin_MSO  Origin_MSP  Origin_MSY  Origin_MTJ  Origin_MYR  \\\n",
       "6050882           0           0           0           0           0   \n",
       "6337246           0           0           0           0           0   \n",
       "2321555           0           0           0           0           0   \n",
       "6057490           0           0           0           0           0   \n",
       "2682393           0           0           0           0           0   \n",
       "\n",
       "         Origin_OAJ  Origin_OAK  Origin_OGG  Origin_OKC  Origin_OMA  \\\n",
       "6050882           0           0           0           0           0   \n",
       "6337246           0           0           0           0           0   \n",
       "2321555           0           0           0           0           0   \n",
       "6057490           0           0           0           0           0   \n",
       "2682393           0           0           0           0           0   \n",
       "\n",
       "         Origin_OME  Origin_ONT  Origin_ORD  Origin_ORF  Origin_OTH  \\\n",
       "6050882           0           0           0           0           0   \n",
       "6337246           0           0           0           0           0   \n",
       "2321555           0           0           0           0           0   \n",
       "6057490           0           0           0           0           0   \n",
       "2682393           0           0           1           0           0   \n",
       "\n",
       "         Origin_OXR  Origin_PBI  Origin_PDX  Origin_PFN  Origin_PHL  \\\n",
       "6050882           0           0           0           0           0   \n",
       "6337246           0           0           0           0           0   \n",
       "2321555           0           0           0           0           0   \n",
       "6057490           0           0           0           0           0   \n",
       "2682393           0           0           0           0           0   \n",
       "\n",
       "         Origin_PHX  Origin_PIA  Origin_PIH  Origin_PIT  Origin_PLN  \\\n",
       "6050882           0           0           0           1           0   \n",
       "6337246           0           0           0           0           0   \n",
       "2321555           0           0           0           0           0   \n",
       "6057490           0           0           0           0           0   \n",
       "2682393           0           0           0           0           0   \n",
       "\n",
       "         Origin_PNS  Origin_PSC  Origin_PSG  Origin_PSP  Origin_PVD  \\\n",
       "6050882           0           0           0           0           0   \n",
       "6337246           0           0           0           0           0   \n",
       "2321555           0           0           0           0           0   \n",
       "6057490           0           0           0           0           0   \n",
       "2682393           0           0           0           0           0   \n",
       "\n",
       "         Origin_PWM  Origin_RAP  Origin_RDD  Origin_RDM  Origin_RDU  \\\n",
       "6050882           0           0           0           0           0   \n",
       "6337246           0           0           0           0           0   \n",
       "2321555           0           0           0           0           0   \n",
       "6057490           0           0           0           0           0   \n",
       "2682393           0           0           0           0           0   \n",
       "\n",
       "         Origin_RIC  Origin_RNO  Origin_ROA  Origin_ROC  Origin_ROW  \\\n",
       "6050882           0           0           0           0           0   \n",
       "6337246           0           0           0           0           0   \n",
       "2321555           0           0           0           0           0   \n",
       "6057490           0           0           0           0           0   \n",
       "2682393           0           0           0           0           0   \n",
       "\n",
       "         Origin_RST  Origin_RSW  Origin_SAN  Origin_SAT  Origin_SAV  \\\n",
       "6050882           0           0           0           0           0   \n",
       "6337246           0           0           0           0           0   \n",
       "2321555           0           0           0           0           0   \n",
       "6057490           0           0           0           0           0   \n",
       "2682393           0           0           0           0           0   \n",
       "\n",
       "         Origin_SBA  Origin_SBN  Origin_SBP  Origin_SDF  Origin_SEA  \\\n",
       "6050882           0           0           0           0           0   \n",
       "6337246           0           0           0           0           0   \n",
       "2321555           0           0           0           0           1   \n",
       "6057490           0           0           0           0           0   \n",
       "2682393           0           0           0           0           0   \n",
       "\n",
       "         Origin_SFO  Origin_SGF  Origin_SGU  Origin_SHV  Origin_SIT  \\\n",
       "6050882           0           0           0           0           0   \n",
       "6337246           0           0           0           0           0   \n",
       "2321555           0           0           0           0           0   \n",
       "6057490           0           0           0           0           0   \n",
       "2682393           0           0           0           0           0   \n",
       "\n",
       "         Origin_SJC  Origin_SJU  Origin_SLC  Origin_SMF  Origin_SNA  \\\n",
       "6050882           0           0           0           0           0   \n",
       "6337246           0           0           0           0           0   \n",
       "2321555           0           0           0           0           0   \n",
       "6057490           0           0           0           0           0   \n",
       "2682393           0           0           0           0           0   \n",
       "\n",
       "         Origin_SPS  Origin_SRQ  Origin_STL  Origin_STT  Origin_SUN  \\\n",
       "6050882           0           0           0           0           0   \n",
       "6337246           0           0           0           0           0   \n",
       "2321555           0           0           0           0           0   \n",
       "6057490           0           0           0           0           0   \n",
       "2682393           0           0           0           0           0   \n",
       "\n",
       "         Origin_SWF  Origin_SYR  Origin_TLH  Origin_TOL  Origin_TPA  \\\n",
       "6050882           0           0           0           0           0   \n",
       "6337246           0           0           0           0           0   \n",
       "2321555           0           0           0           0           0   \n",
       "6057490           0           0           0           0           0   \n",
       "2682393           0           0           0           0           0   \n",
       "\n",
       "         Origin_TRI  Origin_TUL  Origin_TUS  Origin_TVC  Origin_TYR  \\\n",
       "6050882           0           0           0           0           0   \n",
       "6337246           0           0           0           0           0   \n",
       "2321555           0           0           0           0           0   \n",
       "6057490           0           0           0           0           0   \n",
       "2682393           0           0           0           0           0   \n",
       "\n",
       "         Origin_TYS  Origin_VPS  Origin_XNA  Origin_YKM  Origin_YUM  Dest_ABE  \\\n",
       "6050882           0           0           0           0           0         0   \n",
       "6337246           0           0           0           0           0         0   \n",
       "2321555           0           0           0           0           0         0   \n",
       "6057490           0           0           0           0           0         0   \n",
       "2682393           0           0           0           0           0         0   \n",
       "\n",
       "         Dest_ABI  Dest_ABQ  Dest_ABY  Dest_ACT  Dest_ACV  Dest_ADQ  Dest_AEX  \\\n",
       "6050882         0         0         0         0         0         0         0   \n",
       "6337246         0         0         0         0         0         0         0   \n",
       "2321555         0         0         0         0         0         0         0   \n",
       "6057490         0         0         0         0         0         0         0   \n",
       "2682393         0         0         0         0         0         0         0   \n",
       "\n",
       "         Dest_AGS  Dest_ALB  Dest_AMA  Dest_ANC  Dest_ASE  Dest_ATL  Dest_ATW  \\\n",
       "6050882         0         0         0         0         0         0         0   \n",
       "6337246         0         0         0         0         0         0         0   \n",
       "2321555         0         0         0         0         0         0         0   \n",
       "6057490         0         0         0         0         0         0         0   \n",
       "2682393         0         0         0         0         0         0         0   \n",
       "\n",
       "         Dest_AUS  Dest_AVL  Dest_AVP  Dest_AZO  Dest_BDL  Dest_BET  Dest_BFL  \\\n",
       "6050882         0         0         0         0         0         0         0   \n",
       "6337246         0         0         0         0         0         0         0   \n",
       "2321555         0         0         0         0         0         0         0   \n",
       "6057490         0         0         0         0         0         0         0   \n",
       "2682393         0         0         0         0         0         0         0   \n",
       "\n",
       "         Dest_BGR  Dest_BHM  Dest_BIL  Dest_BIS  Dest_BMI  Dest_BNA  Dest_BOI  \\\n",
       "6050882         0         0         0         0         0         0         0   \n",
       "6337246         0         0         0         0         0         0         0   \n",
       "2321555         0         0         0         0         0         0         0   \n",
       "6057490         0         0         0         0         0         0         0   \n",
       "2682393         0         0         0         0         0         0         0   \n",
       "\n",
       "         Dest_BOS  Dest_BQK  Dest_BQN  Dest_BRO  Dest_BTR  Dest_BTV  Dest_BUF  \\\n",
       "6050882         0         0         0         0         0         0         0   \n",
       "6337246         0         0         0         0         0         0         0   \n",
       "2321555         0         0         0         0         0         0         0   \n",
       "6057490         0         0         0         0         0         0         0   \n",
       "2682393         0         0         0         0         0         0         0   \n",
       "\n",
       "         Dest_BUR  Dest_BWI  Dest_BZN  Dest_CAE  Dest_CAK  Dest_CHA  Dest_CHS  \\\n",
       "6050882         0         0         0         0         0         0         0   \n",
       "6337246         0         0         0         0         0         0         0   \n",
       "2321555         0         0         0         0         0         0         0   \n",
       "6057490         0         0         0         0         0         0         0   \n",
       "2682393         0         0         0         0         0         0         0   \n",
       "\n",
       "         Dest_CID  Dest_CLD  Dest_CLE  Dest_CLT  Dest_CMH  Dest_CMI  Dest_COS  \\\n",
       "6050882         0         0         0         0         0         0         0   \n",
       "6337246         0         0         0         0         0         0         0   \n",
       "2321555         0         0         0         0         0         0         0   \n",
       "6057490         0         0         0         0         0         0         0   \n",
       "2682393         0         0         0         0         0         0         0   \n",
       "\n",
       "         Dest_CPR  Dest_CRP  Dest_CRW  Dest_CVG  Dest_CWA  Dest_DAL  Dest_DAY  \\\n",
       "6050882         0         0         0         0         0         0         0   \n",
       "6337246         0         0         0         0         0         0         0   \n",
       "2321555         0         0         0         0         0         0         0   \n",
       "6057490         0         0         0         0         0         0         0   \n",
       "2682393         0         0         0         0         0         0         0   \n",
       "\n",
       "         Dest_DCA  Dest_DEN  Dest_DFW  Dest_DHN  Dest_DLH  Dest_DRO  Dest_DSM  \\\n",
       "6050882         0         0         0         0         0         0         0   \n",
       "6337246         0         0         0         0         0         0         0   \n",
       "2321555         0         0         0         0         0         0         0   \n",
       "6057490         0         0         0         0         0         0         0   \n",
       "2682393         0         0         0         0         0         0         0   \n",
       "\n",
       "         Dest_DTW  Dest_EGE  Dest_ELM  Dest_ELP  Dest_EUG  Dest_EVV  Dest_EWR  \\\n",
       "6050882         0         0         0         0         0         0         0   \n",
       "6337246         0         0         0         0         0         0         0   \n",
       "2321555         0         0         0         0         0         0         0   \n",
       "6057490         0         0         0         0         0         0         0   \n",
       "2682393         0         0         0         0         0         0         0   \n",
       "\n",
       "         Dest_FAI  Dest_FAR  Dest_FAT  Dest_FAY  Dest_FCA  Dest_FLL  Dest_FLO  \\\n",
       "6050882         0         0         0         0         0         0         0   \n",
       "6337246         0         0         0         0         0         0         0   \n",
       "2321555         0         0         0         0         0         0         0   \n",
       "6057490         0         0         0         0         0         0         0   \n",
       "2682393         0         0         0         0         0         0         0   \n",
       "\n",
       "         Dest_FNT  Dest_FSD  Dest_FSM  Dest_FWA  Dest_GEG  Dest_GFK  Dest_GJT  \\\n",
       "6050882         0         0         0         0         0         0         0   \n",
       "6337246         0         0         0         0         0         0         0   \n",
       "2321555         0         0         0         0         1         0         0   \n",
       "6057490         0         0         0         0         0         0         0   \n",
       "2682393         0         0         0         0         0         0         0   \n",
       "\n",
       "         Dest_GNV  Dest_GPT  Dest_GRB  Dest_GRK  Dest_GRR  Dest_GSO  Dest_GSP  \\\n",
       "6050882         0         0         0         0         0         0         0   \n",
       "6337246         0         0         0         0         0         0         0   \n",
       "2321555         0         0         0         0         0         0         0   \n",
       "6057490         0         0         0         0         0         0         0   \n",
       "2682393         0         0         0         0         0         0         0   \n",
       "\n",
       "         Dest_GTF  Dest_HDN  Dest_HHH  Dest_HNL  Dest_HOU  Dest_HPN  Dest_HRL  \\\n",
       "6050882         0         0         0         0         0         0         0   \n",
       "6337246         0         0         0         0         0         0         0   \n",
       "2321555         0         0         0         0         0         0         0   \n",
       "6057490         0         0         0         0         0         0         0   \n",
       "2682393         0         0         0         0         0         0         0   \n",
       "\n",
       "         Dest_HSV  Dest_IAD  Dest_IAH  Dest_ICT  Dest_IDA  Dest_ILM  Dest_IND  \\\n",
       "6050882         0         0         1         0         0         0         0   \n",
       "6337246         0         0         0         0         0         0         0   \n",
       "2321555         0         0         0         0         0         0         0   \n",
       "6057490         0         0         0         0         0         0         0   \n",
       "2682393         0         0         0         0         0         0         0   \n",
       "\n",
       "         Dest_IPL  Dest_ISP  Dest_ITO  Dest_JAC  Dest_JAN  Dest_JAX  Dest_JFK  \\\n",
       "6050882         0         0         0         0         0         0         0   \n",
       "6337246         0         0         0         0         0         0         0   \n",
       "2321555         0         0         0         0         0         0         0   \n",
       "6057490         0         0         0         0         0         0         0   \n",
       "2682393         0         0         0         0         0         0         0   \n",
       "\n",
       "         Dest_JNU  Dest_KOA  Dest_KTN  Dest_LAN  Dest_LAS  Dest_LAW  Dest_LAX  \\\n",
       "6050882         0         0         0         0         0         0         0   \n",
       "6337246         0         0         0         0         0         0         0   \n",
       "2321555         0         0         0         0         0         0         0   \n",
       "6057490         0         0         0         0         0         0         0   \n",
       "2682393         0         0         0         0         0         0         0   \n",
       "\n",
       "         Dest_LBB  Dest_LEX  Dest_LFT  Dest_LGA  Dest_LGB  Dest_LIH  Dest_LIT  \\\n",
       "6050882         0         0         0         0         0         0         0   \n",
       "6337246         0         0         0         0         0         0         0   \n",
       "2321555         0         0         0         0         0         0         0   \n",
       "6057490         0         0         0         0         0         0         0   \n",
       "2682393         0         0         0         0         0         0         0   \n",
       "\n",
       "         Dest_LNK  Dest_LRD  Dest_LSE  Dest_MAF  Dest_MBS  Dest_MCI  Dest_MCN  \\\n",
       "6050882         0         0         0         0         0         0         0   \n",
       "6337246         0         0         0         0         0         0         0   \n",
       "2321555         0         0         0         0         0         0         0   \n",
       "6057490         0         0         0         0         0         0         0   \n",
       "2682393         0         0         0         0         0         0         0   \n",
       "\n",
       "         Dest_MCO  Dest_MDT  Dest_MDW  Dest_MEM  Dest_MFE  Dest_MFR  Dest_MGM  \\\n",
       "6050882         0         0         0         0         0         0         0   \n",
       "6337246         0         0         0         1         0         0         0   \n",
       "2321555         0         0         0         0         0         0         0   \n",
       "6057490         0         0         0         0         0         0         0   \n",
       "2682393         0         0         0         0         0         0         0   \n",
       "\n",
       "         Dest_MHT  Dest_MIA  Dest_MKE  Dest_MKG  Dest_MLI  Dest_MLU  Dest_MOB  \\\n",
       "6050882         0         0         0         0         0         0         0   \n",
       "6337246         0         0         0         0         0         0         0   \n",
       "2321555         0         0         0         0         0         0         0   \n",
       "6057490         0         0         0         0         0         0         0   \n",
       "2682393         0         0         0         0         0         0         0   \n",
       "\n",
       "         Dest_MOD  Dest_MOT  Dest_MRY  Dest_MSN  Dest_MSO  Dest_MSP  Dest_MSY  \\\n",
       "6050882         0         0         0         0         0         0         0   \n",
       "6337246         0         0         0         0         0         0         0   \n",
       "2321555         0         0         0         0         0         0         0   \n",
       "6057490         0         0         0         0         0         0         0   \n",
       "2682393         0         0         0         0         0         0         0   \n",
       "\n",
       "         Dest_MYR  Dest_OAJ  Dest_OAK  Dest_OGG  Dest_OKC  Dest_OMA  Dest_ONT  \\\n",
       "6050882         0         0         0         0         0         0         0   \n",
       "6337246         0         0         0         0         0         0         0   \n",
       "2321555         0         0         0         0         0         0         0   \n",
       "6057490         0         0         0         0         0         0         0   \n",
       "2682393         0         0         0         0         0         0         0   \n",
       "\n",
       "         Dest_ORD  Dest_ORF  Dest_OTZ  Dest_OXR  Dest_PBI  Dest_PDX  Dest_PFN  \\\n",
       "6050882         0         0         0         0         0         0         0   \n",
       "6337246         0         0         0         0         0         0         0   \n",
       "2321555         0         0         0         0         0         0         0   \n",
       "6057490         1         0         0         0         0         0         0   \n",
       "2682393         0         0         0         0         0         0         0   \n",
       "\n",
       "         Dest_PHF  Dest_PHL  Dest_PHX  Dest_PIA  Dest_PIH  Dest_PIT  Dest_PMD  \\\n",
       "6050882         0         0         0         0         0         0         0   \n",
       "6337246         0         0         0         0         0         0         0   \n",
       "2321555         0         0         0         0         0         0         0   \n",
       "6057490         0         0         0         0         0         0         0   \n",
       "2682393         0         0         1         0         0         0         0   \n",
       "\n",
       "         Dest_PNS  Dest_PSC  Dest_PSP  Dest_PVD  Dest_PWM  Dest_RAP  Dest_RDM  \\\n",
       "6050882         0         0         0         0         0         0         0   \n",
       "6337246         0         0         0         0         0         0         0   \n",
       "2321555         0         0         0         0         0         0         0   \n",
       "6057490         0         0         0         0         0         0         0   \n",
       "2682393         0         0         0         0         0         0         0   \n",
       "\n",
       "         Dest_RDU  Dest_RFD  Dest_RIC  Dest_RKS  Dest_RNO  Dest_ROA  Dest_ROC  \\\n",
       "6050882         0         0         0         0         0         0         0   \n",
       "6337246         0         0         0         0         0         0         0   \n",
       "2321555         0         0         0         0         0         0         0   \n",
       "6057490         0         0         0         0         0         0         0   \n",
       "2682393         0         0         0         0         0         0         0   \n",
       "\n",
       "         Dest_RST  Dest_RSW  Dest_SAN  Dest_SAT  Dest_SAV  Dest_SBA  Dest_SBN  \\\n",
       "6050882         0         0         0         0         0         0         0   \n",
       "6337246         0         0         0         0         0         0         0   \n",
       "2321555         0         0         0         0         0         0         0   \n",
       "6057490         0         0         0         0         0         0         0   \n",
       "2682393         0         0         0         0         0         0         0   \n",
       "\n",
       "         Dest_SBP  Dest_SCC  Dest_SDF  Dest_SEA  Dest_SFO  Dest_SGF  Dest_SGU  \\\n",
       "6050882         0         0         0         0         0         0         0   \n",
       "6337246         0         0         0         0         0         0         0   \n",
       "2321555         0         0         0         0         0         0         0   \n",
       "6057490         0         0         0         0         0         0         0   \n",
       "2682393         0         0         0         0         0         0         0   \n",
       "\n",
       "         Dest_SHV  Dest_SIT  Dest_SJC  Dest_SJU  Dest_SLC  Dest_SMF  Dest_SMX  \\\n",
       "6050882         0         0         0         0         0         0         0   \n",
       "6337246         0         0         0         0         0         0         0   \n",
       "2321555         0         0         0         0         0         0         0   \n",
       "6057490         0         0         0         0         0         0         0   \n",
       "2682393         0         0         0         0         0         0         0   \n",
       "\n",
       "         Dest_SNA  Dest_SPI  Dest_SRQ  Dest_STL  Dest_STT  Dest_SWF  Dest_SYR  \\\n",
       "6050882         0         0         0         0         0         0         0   \n",
       "6337246         0         0         0         0         0         0         0   \n",
       "2321555         0         0         0         0         0         0         0   \n",
       "6057490         0         0         0         0         0         0         0   \n",
       "2682393         0         0         0         0         0         0         0   \n",
       "\n",
       "         Dest_TLH  Dest_TOL  Dest_TPA  Dest_TRI  Dest_TUL  Dest_TUS  Dest_TVC  \\\n",
       "6050882         0         0         0         0         0         0         0   \n",
       "6337246         0         0         0         0         0         0         0   \n",
       "2321555         0         0         0         0         0         0         0   \n",
       "6057490         0         0         0         0         0         0         0   \n",
       "2682393         0         0         0         0         0         0         0   \n",
       "\n",
       "         Dest_TWF  Dest_TYR  Dest_TYS  Dest_VPS  Dest_WRG  Dest_XNA  Dest_YUM  \n",
       "6050882         0         0         0         0         0         0         0  \n",
       "6337246         0         0         0         0         0         0         0  \n",
       "2321555         0         0         0         0         0         0         0  \n",
       "6057490         0         0         0         0         0         0         0  \n",
       "2682393         0         0         0         0         0         0         0  "
      ]
     },
     "execution_count": 57,
     "metadata": {
      "tags": []
     },
     "output_type": "execute_result"
    }
   ],
   "source": [
    "X.head()"
   ]
  },
  {
   "cell_type": "code",
   "execution_count": 58,
   "metadata": {
    "colab": {
     "autoexec": {
      "startup": false,
      "wait_interval": 0
     },
     "base_uri": "https://localhost:8080/",
     "height": 68
    },
    "colab_type": "code",
    "executionInfo": {
     "elapsed": 581,
     "status": "ok",
     "timestamp": 1526658630666,
     "user": {
      "displayName": "Bảo Trương Đình",
      "photoUrl": "//lh5.googleusercontent.com/-eC4QdQkyBTM/AAAAAAAAAAI/AAAAAAAAAFA/6sBa5lwoOX0/s50-c-k-no/photo.jpg",
      "userId": "102262295523043259192"
     },
     "user_tz": -420
    },
    "id": "TIskJ3JTTtYr",
    "outputId": "f3949bb6-4875-4986-f903-777fd1689dde"
   },
   "outputs": [
    {
     "data": {
      "text/plain": [
       "0    4335\n",
       "1     665\n",
       "Name: target, dtype: int64"
      ]
     },
     "execution_count": 58,
     "metadata": {
      "tags": []
     },
     "output_type": "execute_result"
    }
   ],
   "source": [
    "y.value_counts()"
   ]
  },
  {
   "cell_type": "markdown",
   "metadata": {
    "colab_type": "text",
    "id": "u2odsluATtYb"
   },
   "source": [
    "## Model"
   ]
  },
  {
   "cell_type": "code",
   "execution_count": 0,
   "metadata": {
    "colab": {
     "autoexec": {
      "startup": false,
      "wait_interval": 0
     }
    },
    "colab_type": "code",
    "id": "iPeHc85A6e7J"
   },
   "outputs": [],
   "source": [
    "def trainNormalModel(cur_model, X_data, y_data):\n",
    "  X_train, X_test, y_train, y_test = train_test_split(X_data, y_data, random_state = 0)\n",
    "  \n",
    "  #We call our estimator instance clf, as it is a classifier.\n",
    "  clf = cur_model.fit(X_train, y_train)\n",
    "  \n",
    "  y_pred = clf.predict(X_test)\n",
    "\n",
    "  print(classification_report(y_test, y_pred))\n",
    "  "
   ]
  },
  {
   "cell_type": "code",
   "execution_count": 0,
   "metadata": {
    "colab": {
     "autoexec": {
      "startup": false,
      "wait_interval": 0
     }
    },
    "colab_type": "code",
    "id": "854byVpN6xB1"
   },
   "outputs": [],
   "source": [
    "def modelWithGridSearchCv(cur_model, hyperparameters, X_data, y_data):\n",
    "    X_train, X_test, y_train, y_test = train_test_split(X_data, y_data, random_state = 0)\n",
    "    gridSearchCV_clf = GridSearchCV(estimator=cur_model, param_grid=hyperparameters, cv= 5)\n",
    "    best_model = gridSearchCV_clf.fit(X_train, y_train)\n",
    "    print(gridSearchCV_clf.best_params_)\n",
    "\n",
    "    y_pred = best_model.predict(X_test)\n",
    "    print(classification_report(y_test, y_pred))"
   ]
  },
  {
   "cell_type": "markdown",
   "metadata": {
    "colab_type": "text",
    "id": "dRI8952JTtY2"
   },
   "source": [
    "# 1 LogisticRegression"
   ]
  },
  {
   "cell_type": "markdown",
   "metadata": {
    "colab_type": "text",
    "id": "ZmehdEC-6xB7"
   },
   "source": [
    "### 1.1 Normal "
   ]
  },
  {
   "cell_type": "code",
   "execution_count": 61,
   "metadata": {
    "colab": {
     "autoexec": {
      "startup": false,
      "wait_interval": 0
     },
     "base_uri": "https://localhost:8080/",
     "height": 136
    },
    "colab_type": "code",
    "executionInfo": {
     "elapsed": 729,
     "status": "ok",
     "timestamp": 1526658678863,
     "user": {
      "displayName": "Bảo Trương Đình",
      "photoUrl": "//lh5.googleusercontent.com/-eC4QdQkyBTM/AAAAAAAAAAI/AAAAAAAAAFA/6sBa5lwoOX0/s50-c-k-no/photo.jpg",
      "userId": "102262295523043259192"
     },
     "user_tz": -420
    },
    "id": "rRV0PWZr68AH",
    "outputId": "bdd8e302-9a61-4abc-f573-3d7bec8dd265"
   },
   "outputs": [
    {
     "name": "stdout",
     "output_type": "stream",
     "text": [
      "             precision    recall  f1-score   support\n",
      "\n",
      "          0       0.92      0.99      0.96      1099\n",
      "          1       0.88      0.38      0.53       151\n",
      "\n",
      "avg / total       0.92      0.92      0.90      1250\n",
      "\n"
     ]
    }
   ],
   "source": [
    "trainNormalModel(LogisticRegression(random_state=0), X, y)"
   ]
  },
  {
   "cell_type": "code",
   "execution_count": 62,
   "metadata": {
    "colab": {
     "autoexec": {
      "startup": false,
      "wait_interval": 0
     },
     "base_uri": "https://localhost:8080/",
     "height": 136
    },
    "colab_type": "code",
    "executionInfo": {
     "elapsed": 2150,
     "status": "ok",
     "timestamp": 1526658683045,
     "user": {
      "displayName": "Bảo Trương Đình",
      "photoUrl": "//lh5.googleusercontent.com/-eC4QdQkyBTM/AAAAAAAAAAI/AAAAAAAAAFA/6sBa5lwoOX0/s50-c-k-no/photo.jpg",
      "userId": "102262295523043259192"
     },
     "user_tz": -420
    },
    "id": "BRffDl1J69L1",
    "outputId": "b9d61fd4-e207-4e6a-e311-58017b3150d7"
   },
   "outputs": [
    {
     "name": "stdout",
     "output_type": "stream",
     "text": [
      "             precision    recall  f1-score   support\n",
      "\n",
      "          0       0.93      1.00      0.96      1099\n",
      "          1       0.93      0.43      0.59       151\n",
      "\n",
      "avg / total       0.93      0.93      0.92      1250\n",
      "\n"
     ]
    }
   ],
   "source": [
    "trainNormalModel(LogisticRegression(random_state=0), X_pca, y)"
   ]
  },
  {
   "cell_type": "code",
   "execution_count": 63,
   "metadata": {
    "colab": {
     "autoexec": {
      "startup": false,
      "wait_interval": 0
     },
     "base_uri": "https://localhost:8080/",
     "height": 136
    },
    "colab_type": "code",
    "executionInfo": {
     "elapsed": 716,
     "status": "ok",
     "timestamp": 1526658687293,
     "user": {
      "displayName": "Bảo Trương Đình",
      "photoUrl": "//lh5.googleusercontent.com/-eC4QdQkyBTM/AAAAAAAAAAI/AAAAAAAAAFA/6sBa5lwoOX0/s50-c-k-no/photo.jpg",
      "userId": "102262295523043259192"
     },
     "user_tz": -420
    },
    "id": "GSMwKV6N6xCN",
    "outputId": "642aa182-3819-499c-afe7-a4b2e2386945"
   },
   "outputs": [
    {
     "name": "stdout",
     "output_type": "stream",
     "text": [
      "             precision    recall  f1-score   support\n",
      "\n",
      "          0       0.93      0.99      0.96      1099\n",
      "          1       0.87      0.45      0.59       151\n",
      "\n",
      "avg / total       0.92      0.93      0.91      1250\n",
      "\n"
     ]
    }
   ],
   "source": [
    "trainNormalModel(LogisticRegression(random_state=0), X_SelectKBest, y)"
   ]
  },
  {
   "cell_type": "code",
   "execution_count": 0,
   "metadata": {
    "colab": {
     "autoexec": {
      "startup": false,
      "wait_interval": 0
     }
    },
    "colab_type": "code",
    "id": "voQ8TCKZTtY3"
   },
   "outputs": [],
   "source": [
    "### 1.2 GridsearchCv"
   ]
  },
  {
   "cell_type": "code",
   "execution_count": 0,
   "metadata": {
    "colab": {
     "autoexec": {
      "startup": false,
      "wait_interval": 0
     }
    },
    "colab_type": "code",
    "id": "MWPAUj7lTtY7"
   },
   "outputs": [],
   "source": [
    "# Create logistic regression\n",
    "logistic = LogisticRegression()"
   ]
  },
  {
   "cell_type": "code",
   "execution_count": 0,
   "metadata": {
    "colab": {
     "autoexec": {
      "startup": false,
      "wait_interval": 0
     }
    },
    "colab_type": "code",
    "id": "eunAVWK0TtY_"
   },
   "outputs": [],
   "source": [
    "# Create Hyperparameter Search Space\n",
    "# Create regularization penalty space\n",
    "penalty = ['l1', 'l2']\n",
    "\n",
    "# Create regularization hyperparameter space\n",
    "C = np.logspace(0, 4, 10)\n",
    "\n",
    "# Create hyperparameter options\n",
    "hyperparameters = dict(C=C, penalty=penalty)"
   ]
  },
  {
   "cell_type": "code",
   "execution_count": 66,
   "metadata": {
    "colab": {
     "autoexec": {
      "startup": false,
      "wait_interval": 0
     },
     "base_uri": "https://localhost:8080/",
     "height": 153
    },
    "colab_type": "code",
    "executionInfo": {
     "elapsed": 10921,
     "status": "ok",
     "timestamp": 1526658708104,
     "user": {
      "displayName": "Bảo Trương Đình",
      "photoUrl": "//lh5.googleusercontent.com/-eC4QdQkyBTM/AAAAAAAAAAI/AAAAAAAAAFA/6sBa5lwoOX0/s50-c-k-no/photo.jpg",
      "userId": "102262295523043259192"
     },
     "user_tz": -420
    },
    "id": "Hr9400Sd6xCg",
    "outputId": "14609723-bc0a-4656-f244-9c5559bda1c8"
   },
   "outputs": [
    {
     "name": "stdout",
     "output_type": "stream",
     "text": [
      "{'C': 1.0, 'penalty': 'l1'}\n",
      "             precision    recall  f1-score   support\n",
      "\n",
      "          0       0.93      1.00      0.96      1099\n",
      "          1       0.94      0.48      0.64       151\n",
      "\n",
      "avg / total       0.93      0.93      0.92      1250\n",
      "\n"
     ]
    }
   ],
   "source": [
    "modelWithGridSearchCv(logistic, hyperparameters, X, y)"
   ]
  },
  {
   "cell_type": "code",
   "execution_count": 0,
   "metadata": {
    "colab": {
     "autoexec": {
      "startup": false,
      "wait_interval": 0
     }
    },
    "colab_type": "code",
    "id": "IrE9oW2V6xCk"
   },
   "outputs": [],
   "source": [
    "modelWithGridSearchCv(logistic, hyperparameters, X_pca, y)"
   ]
  },
  {
   "cell_type": "code",
   "execution_count": 0,
   "metadata": {
    "colab": {
     "autoexec": {
      "startup": false,
      "wait_interval": 0
     }
    },
    "colab_type": "code",
    "id": "HGI215Ix6xCp"
   },
   "outputs": [],
   "source": [
    "modelWithGridSearchCv(logistic, hyperparameters, X_SelectKBest, y)"
   ]
  },
  {
   "cell_type": "markdown",
   "metadata": {
    "colab_type": "text",
    "id": "VXSgj28FTtaa"
   },
   "source": [
    "# 2 SVM"
   ]
  },
  {
   "cell_type": "markdown",
   "metadata": {
    "colab_type": "text",
    "id": "6H_8yUph6xCt"
   },
   "source": [
    "### 2.1 Normal"
   ]
  },
  {
   "cell_type": "code",
   "execution_count": 67,
   "metadata": {
    "colab": {
     "autoexec": {
      "startup": false,
      "wait_interval": 0
     },
     "base_uri": "https://localhost:8080/",
     "height": 190
    },
    "colab_type": "code",
    "executionInfo": {
     "elapsed": 10760,
     "status": "ok",
     "timestamp": 1526658723780,
     "user": {
      "displayName": "Bảo Trương Đình",
      "photoUrl": "//lh5.googleusercontent.com/-eC4QdQkyBTM/AAAAAAAAAAI/AAAAAAAAAFA/6sBa5lwoOX0/s50-c-k-no/photo.jpg",
      "userId": "102262295523043259192"
     },
     "user_tz": -420
    },
    "id": "10R5_pNoTtab",
    "outputId": "65d7efc1-7f67-403b-82e8-e41fbecd2899"
   },
   "outputs": [
    {
     "name": "stdout",
     "output_type": "stream",
     "text": [
      "             precision    recall  f1-score   support\n",
      "\n",
      "          0       0.88      1.00      0.94      1099\n",
      "          1       0.00      0.00      0.00       151\n",
      "\n",
      "avg / total       0.77      0.88      0.82      1250\n",
      "\n"
     ]
    },
    {
     "name": "stderr",
     "output_type": "stream",
     "text": [
      "/usr/local/lib/python3.6/dist-packages/sklearn/metrics/classification.py:1135: UndefinedMetricWarning: Precision and F-score are ill-defined and being set to 0.0 in labels with no predicted samples.\n",
      "  'precision', 'predicted', average, warn_for)\n"
     ]
    }
   ],
   "source": [
    "trainNormalModel(SVC(), X, y)"
   ]
  },
  {
   "cell_type": "code",
   "execution_count": 68,
   "metadata": {
    "colab": {
     "autoexec": {
      "startup": false,
      "wait_interval": 0
     },
     "base_uri": "https://localhost:8080/",
     "height": 190
    },
    "colab_type": "code",
    "executionInfo": {
     "elapsed": 8549,
     "status": "ok",
     "timestamp": 1526658736527,
     "user": {
      "displayName": "Bảo Trương Đình",
      "photoUrl": "//lh5.googleusercontent.com/-eC4QdQkyBTM/AAAAAAAAAAI/AAAAAAAAAFA/6sBa5lwoOX0/s50-c-k-no/photo.jpg",
      "userId": "102262295523043259192"
     },
     "user_tz": -420
    },
    "id": "yc4cQHN8ZH-o",
    "outputId": "d02d0a02-81ac-488b-94c7-3facc486dd33"
   },
   "outputs": [
    {
     "name": "stdout",
     "output_type": "stream",
     "text": [
      "             precision    recall  f1-score   support\n",
      "\n",
      "          0       0.88      1.00      0.94      1099\n",
      "          1       0.00      0.00      0.00       151\n",
      "\n",
      "avg / total       0.77      0.88      0.82      1250\n",
      "\n"
     ]
    },
    {
     "name": "stderr",
     "output_type": "stream",
     "text": [
      "/usr/local/lib/python3.6/dist-packages/sklearn/metrics/classification.py:1135: UndefinedMetricWarning: Precision and F-score are ill-defined and being set to 0.0 in labels with no predicted samples.\n",
      "  'precision', 'predicted', average, warn_for)\n"
     ]
    }
   ],
   "source": [
    "trainNormalModel(SVC(), X_pca, y)"
   ]
  },
  {
   "cell_type": "code",
   "execution_count": 69,
   "metadata": {
    "colab": {
     "autoexec": {
      "startup": false,
      "wait_interval": 0
     },
     "base_uri": "https://localhost:8080/",
     "height": 136
    },
    "colab_type": "code",
    "executionInfo": {
     "elapsed": 2700,
     "status": "ok",
     "timestamp": 1526658743796,
     "user": {
      "displayName": "Bảo Trương Đình",
      "photoUrl": "//lh5.googleusercontent.com/-eC4QdQkyBTM/AAAAAAAAAAI/AAAAAAAAAFA/6sBa5lwoOX0/s50-c-k-no/photo.jpg",
      "userId": "102262295523043259192"
     },
     "user_tz": -420
    },
    "id": "f8ejHK1BUifU",
    "outputId": "c9f25724-3521-4930-ccc2-ac78f441d9fc"
   },
   "outputs": [
    {
     "name": "stdout",
     "output_type": "stream",
     "text": [
      "             precision    recall  f1-score   support\n",
      "\n",
      "          0       0.93      1.00      0.96      1099\n",
      "          1       0.99      0.44      0.61       151\n",
      "\n",
      "avg / total       0.94      0.93      0.92      1250\n",
      "\n"
     ]
    }
   ],
   "source": [
    "trainNormalModel(SVC(), X_SelectKBest, y)"
   ]
  },
  {
   "cell_type": "markdown",
   "metadata": {
    "colab_type": "text",
    "id": "wY1myF7z6xDD"
   },
   "source": [
    "### 2.2 GridsearchCv"
   ]
  },
  {
   "cell_type": "code",
   "execution_count": 0,
   "metadata": {
    "colab": {
     "autoexec": {
      "startup": false,
      "wait_interval": 0
     }
    },
    "colab_type": "code",
    "id": "bUBfnzmU6xDD"
   },
   "outputs": [],
   "source": [
    "svc = SVC()"
   ]
  },
  {
   "cell_type": "code",
   "execution_count": 0,
   "metadata": {
    "colab": {
     "autoexec": {
      "startup": false,
      "wait_interval": 0
     }
    },
    "colab_type": "code",
    "id": "mllXNATL6xDJ"
   },
   "outputs": [],
   "source": [
    "hyperparameters = [{'kernel': ['rbf'], 'gamma': [1e-3, 1e-4],\n",
    "                     'C': [1, 10, 100, 1000]},\n",
    "                    {'kernel': ['linear'], 'gamma': [1e-3, 1e-4], 'C': [1, 10, 100, 1000]}]"
   ]
  },
  {
   "cell_type": "code",
   "execution_count": 0,
   "metadata": {
    "colab": {
     "autoexec": {
      "startup": false,
      "wait_interval": 0
     }
    },
    "colab_type": "code",
    "id": "IaJEtt6_6xDM"
   },
   "outputs": [],
   "source": [
    "modelWithGridSearchCv(svc, hyperparameters, X, y)"
   ]
  },
  {
   "cell_type": "code",
   "execution_count": 0,
   "metadata": {
    "colab": {
     "autoexec": {
      "startup": false,
      "wait_interval": 0
     }
    },
    "colab_type": "code",
    "id": "Apj6id0j6xDO"
   },
   "outputs": [],
   "source": [
    "modelWithGridSearchCv(svc, hyperparameters, X_pca, y)"
   ]
  },
  {
   "cell_type": "code",
   "execution_count": 0,
   "metadata": {
    "colab": {
     "autoexec": {
      "startup": false,
      "wait_interval": 0
     }
    },
    "colab_type": "code",
    "id": "Kq0L-XgC6xDR"
   },
   "outputs": [],
   "source": [
    "modelWithGridSearchCv(svc, hyperparameters, X_SelectKBest, y)"
   ]
  },
  {
   "cell_type": "markdown",
   "metadata": {
    "colab_type": "text",
    "id": "VUmOxv5mTtah"
   },
   "source": [
    "# 3 Random Forest Classifier"
   ]
  },
  {
   "cell_type": "markdown",
   "metadata": {
    "colab_type": "text",
    "id": "G54LFv_g6xDT"
   },
   "source": [
    "### 3.1 Normal"
   ]
  },
  {
   "cell_type": "code",
   "execution_count": 0,
   "metadata": {
    "colab": {
     "autoexec": {
      "startup": false,
      "wait_interval": 0
     }
    },
    "colab_type": "code",
    "id": "0auFIxaE6xDU"
   },
   "outputs": [],
   "source": [
    "random_forest = RandomForestClassifier(n_estimators=200, max_depth=3, random_state=0)"
   ]
  },
  {
   "cell_type": "code",
   "execution_count": 71,
   "metadata": {
    "colab": {
     "autoexec": {
      "startup": false,
      "wait_interval": 0
     },
     "base_uri": "https://localhost:8080/",
     "height": 190
    },
    "colab_type": "code",
    "executionInfo": {
     "elapsed": 1024,
     "status": "ok",
     "timestamp": 1526658753567,
     "user": {
      "displayName": "Bảo Trương Đình",
      "photoUrl": "//lh5.googleusercontent.com/-eC4QdQkyBTM/AAAAAAAAAAI/AAAAAAAAAFA/6sBa5lwoOX0/s50-c-k-no/photo.jpg",
      "userId": "102262295523043259192"
     },
     "user_tz": -420
    },
    "id": "56uz_kWy6xDW",
    "outputId": "c609e4f9-2cdc-4ca9-9dd0-344f546abc4e"
   },
   "outputs": [
    {
     "name": "stdout",
     "output_type": "stream",
     "text": [
      "             precision    recall  f1-score   support\n",
      "\n",
      "          0       0.88      1.00      0.94      1099\n",
      "          1       0.00      0.00      0.00       151\n",
      "\n",
      "avg / total       0.77      0.88      0.82      1250\n",
      "\n"
     ]
    },
    {
     "name": "stderr",
     "output_type": "stream",
     "text": [
      "/usr/local/lib/python3.6/dist-packages/sklearn/metrics/classification.py:1135: UndefinedMetricWarning: Precision and F-score are ill-defined and being set to 0.0 in labels with no predicted samples.\n",
      "  'precision', 'predicted', average, warn_for)\n"
     ]
    }
   ],
   "source": [
    "trainNormalModel(random_forest, X, y)"
   ]
  },
  {
   "cell_type": "code",
   "execution_count": 72,
   "metadata": {
    "colab": {
     "autoexec": {
      "startup": false,
      "wait_interval": 0
     },
     "base_uri": "https://localhost:8080/",
     "height": 136
    },
    "colab_type": "code",
    "executionInfo": {
     "elapsed": 4405,
     "status": "ok",
     "timestamp": 1526658763765,
     "user": {
      "displayName": "Bảo Trương Đình",
      "photoUrl": "//lh5.googleusercontent.com/-eC4QdQkyBTM/AAAAAAAAAAI/AAAAAAAAAFA/6sBa5lwoOX0/s50-c-k-no/photo.jpg",
      "userId": "102262295523043259192"
     },
     "user_tz": -420
    },
    "id": "7J9OqClh6xDZ",
    "outputId": "6ee9a8a3-a994-42b3-858b-d6af795cb074"
   },
   "outputs": [
    {
     "name": "stdout",
     "output_type": "stream",
     "text": [
      "             precision    recall  f1-score   support\n",
      "\n",
      "          0       0.90      1.00      0.95      1099\n",
      "          1       1.00      0.19      0.31       151\n",
      "\n",
      "avg / total       0.91      0.90      0.87      1250\n",
      "\n"
     ]
    }
   ],
   "source": [
    "trainNormalModel(random_forest, X_pca, y)"
   ]
  },
  {
   "cell_type": "code",
   "execution_count": 73,
   "metadata": {
    "colab": {
     "autoexec": {
      "startup": false,
      "wait_interval": 0
     },
     "base_uri": "https://localhost:8080/",
     "height": 136
    },
    "colab_type": "code",
    "executionInfo": {
     "elapsed": 1137,
     "status": "ok",
     "timestamp": 1526658766544,
     "user": {
      "displayName": "Bảo Trương Đình",
      "photoUrl": "//lh5.googleusercontent.com/-eC4QdQkyBTM/AAAAAAAAAAI/AAAAAAAAAFA/6sBa5lwoOX0/s50-c-k-no/photo.jpg",
      "userId": "102262295523043259192"
     },
     "user_tz": -420
    },
    "id": "bp8AWqu46xDb",
    "outputId": "fd9bef9b-9a3c-40a3-f10e-e3b1a3ce5833"
   },
   "outputs": [
    {
     "name": "stdout",
     "output_type": "stream",
     "text": [
      "             precision    recall  f1-score   support\n",
      "\n",
      "          0       0.88      1.00      0.94      1099\n",
      "          1       1.00      0.03      0.05       151\n",
      "\n",
      "avg / total       0.90      0.88      0.83      1250\n",
      "\n"
     ]
    }
   ],
   "source": [
    "trainNormalModel(random_forest, X_SelectKBest, y)"
   ]
  },
  {
   "cell_type": "markdown",
   "metadata": {
    "colab_type": "text",
    "id": "_eqo9aep6xDe"
   },
   "source": [
    "### 3.2 GridsearchCv"
   ]
  },
  {
   "cell_type": "code",
   "execution_count": 0,
   "metadata": {
    "colab": {
     "autoexec": {
      "startup": false,
      "wait_interval": 0
     }
    },
    "colab_type": "code",
    "id": "n4-kMt2BTtaj"
   },
   "outputs": [],
   "source": [
    "hyperparameters = { \n",
    "    'n_estimators': [200, 700],\n",
    "    'max_features': ['auto', 'sqrt', 'log2'],\n",
    "    'max_depth' : [4,5,6,7,8],\n",
    "    'criterion' :['gini', 'entropy']\n",
    "}"
   ]
  },
  {
   "cell_type": "code",
   "execution_count": 0,
   "metadata": {
    "colab": {
     "autoexec": {
      "startup": false,
      "wait_interval": 0
     }
    },
    "colab_type": "code",
    "id": "yf6uKjt-6xDg"
   },
   "outputs": [],
   "source": [
    "modelWithGridSearchCv(random_forest, hyperparameters, X, y)"
   ]
  },
  {
   "cell_type": "code",
   "execution_count": 0,
   "metadata": {
    "colab": {
     "autoexec": {
      "startup": false,
      "wait_interval": 0
     }
    },
    "colab_type": "code",
    "id": "EriX61CY6xDi"
   },
   "outputs": [],
   "source": [
    "modelWithGridSearchCv(random_forest, hyperparameters, X_pca, y)"
   ]
  },
  {
   "cell_type": "code",
   "execution_count": 0,
   "metadata": {
    "colab": {
     "autoexec": {
      "startup": false,
      "wait_interval": 0
     }
    },
    "colab_type": "code",
    "id": "LwOvyqmN6xDm"
   },
   "outputs": [],
   "source": [
    "modelWithGridSearchCv(random_forest, hyperparameters, X_SelectKBest, y)"
   ]
  },
  {
   "cell_type": "code",
   "execution_count": 0,
   "metadata": {
    "colab": {
     "autoexec": {
      "startup": false,
      "wait_interval": 0
     }
    },
    "colab_type": "code",
    "id": "gt49yMeubo3H"
   },
   "outputs": [],
   "source": []
  },
  {
   "cell_type": "markdown",
   "metadata": {
    "colab_type": "text",
    "id": "2-Ym0JQVTtaq"
   },
   "source": [
    "# 4 Decision Tree"
   ]
  },
  {
   "cell_type": "markdown",
   "metadata": {
    "colab_type": "text",
    "id": "w8OiG0Gj6xDt"
   },
   "source": [
    "### 4.1 Normal"
   ]
  },
  {
   "cell_type": "code",
   "execution_count": 74,
   "metadata": {
    "colab": {
     "autoexec": {
      "startup": false,
      "wait_interval": 0
     },
     "base_uri": "https://localhost:8080/",
     "height": 119
    },
    "colab_type": "code",
    "executionInfo": {
     "elapsed": 768,
     "status": "ok",
     "timestamp": 1526658785893,
     "user": {
      "displayName": "Bảo Trương Đình",
      "photoUrl": "//lh5.googleusercontent.com/-eC4QdQkyBTM/AAAAAAAAAAI/AAAAAAAAAFA/6sBa5lwoOX0/s50-c-k-no/photo.jpg",
      "userId": "102262295523043259192"
     },
     "user_tz": -420
    },
    "id": "r0hXxF9e6xDu",
    "outputId": "95f09f6c-ce6b-4ea1-eace-d93d445eeb0a"
   },
   "outputs": [
    {
     "data": {
      "text/plain": [
       "Index(['Month', 'DayofMonth', 'DayOfWeek', 'DepTime', 'CRSDepTime', 'ArrTime',\n",
       "       'CRSArrTime', 'FlightNum', 'ActualElapsedTime', 'CRSElapsedTime',\n",
       "       ...\n",
       "       'Dest_TUL', 'Dest_TUS', 'Dest_TVC', 'Dest_TWF', 'Dest_TYR', 'Dest_TYS',\n",
       "       'Dest_VPS', 'Dest_WRG', 'Dest_XNA', 'Dest_YUM'],\n",
       "      dtype='object', length=505)"
      ]
     },
     "execution_count": 74,
     "metadata": {
      "tags": []
     },
     "output_type": "execute_result"
    }
   ],
   "source": [
    "X.columns"
   ]
  },
  {
   "cell_type": "code",
   "execution_count": 0,
   "metadata": {
    "colab": {
     "autoexec": {
      "startup": false,
      "wait_interval": 0
     }
    },
    "colab_type": "code",
    "id": "IbWs9Lik6xDy"
   },
   "outputs": [],
   "source": [
    "decision_tree = DecisionTreeClassifier(random_state = 0)"
   ]
  },
  {
   "cell_type": "code",
   "execution_count": 76,
   "metadata": {
    "colab": {
     "autoexec": {
      "startup": false,
      "wait_interval": 0
     },
     "base_uri": "https://localhost:8080/",
     "height": 136
    },
    "colab_type": "code",
    "executionInfo": {
     "elapsed": 714,
     "status": "ok",
     "timestamp": 1526658790989,
     "user": {
      "displayName": "Bảo Trương Đình",
      "photoUrl": "//lh5.googleusercontent.com/-eC4QdQkyBTM/AAAAAAAAAAI/AAAAAAAAAFA/6sBa5lwoOX0/s50-c-k-no/photo.jpg",
      "userId": "102262295523043259192"
     },
     "user_tz": -420
    },
    "id": "nps4k-Ix6xD0",
    "outputId": "90bc1052-b373-4bf1-829b-b0858b3d5d9e"
   },
   "outputs": [
    {
     "name": "stdout",
     "output_type": "stream",
     "text": [
      "             precision    recall  f1-score   support\n",
      "\n",
      "          0       0.99      0.99      0.99      1099\n",
      "          1       0.91      0.90      0.90       151\n",
      "\n",
      "avg / total       0.98      0.98      0.98      1250\n",
      "\n"
     ]
    }
   ],
   "source": [
    "trainNormalModel(decision_tree, X, y)"
   ]
  },
  {
   "cell_type": "code",
   "execution_count": 77,
   "metadata": {
    "colab": {
     "autoexec": {
      "startup": false,
      "wait_interval": 0
     },
     "base_uri": "https://localhost:8080/",
     "height": 136
    },
    "colab_type": "code",
    "executionInfo": {
     "elapsed": 4171,
     "status": "ok",
     "timestamp": 1526658802093,
     "user": {
      "displayName": "Bảo Trương Đình",
      "photoUrl": "//lh5.googleusercontent.com/-eC4QdQkyBTM/AAAAAAAAAAI/AAAAAAAAAFA/6sBa5lwoOX0/s50-c-k-no/photo.jpg",
      "userId": "102262295523043259192"
     },
     "user_tz": -420
    },
    "id": "KTwdg4fI6xD3",
    "outputId": "d66ad39e-05f2-4b58-e22d-484b15a5a28f"
   },
   "outputs": [
    {
     "name": "stdout",
     "output_type": "stream",
     "text": [
      "             precision    recall  f1-score   support\n",
      "\n",
      "          0       0.97      0.96      0.96      1099\n",
      "          1       0.72      0.78      0.75       151\n",
      "\n",
      "avg / total       0.94      0.94      0.94      1250\n",
      "\n"
     ]
    }
   ],
   "source": [
    "trainNormalModel(decision_tree, X_pca, y)"
   ]
  },
  {
   "cell_type": "code",
   "execution_count": 78,
   "metadata": {
    "colab": {
     "autoexec": {
      "startup": false,
      "wait_interval": 0
     },
     "base_uri": "https://localhost:8080/",
     "height": 136
    },
    "colab_type": "code",
    "executionInfo": {
     "elapsed": 664,
     "status": "ok",
     "timestamp": 1526658806299,
     "user": {
      "displayName": "Bảo Trương Đình",
      "photoUrl": "//lh5.googleusercontent.com/-eC4QdQkyBTM/AAAAAAAAAAI/AAAAAAAAAFA/6sBa5lwoOX0/s50-c-k-no/photo.jpg",
      "userId": "102262295523043259192"
     },
     "user_tz": -420
    },
    "id": "8lUsM1UW6xD6",
    "outputId": "33eeedd3-efc4-48a3-8c5e-d45dc5890309"
   },
   "outputs": [
    {
     "name": "stdout",
     "output_type": "stream",
     "text": [
      "             precision    recall  f1-score   support\n",
      "\n",
      "          0       0.99      0.99      0.99      1099\n",
      "          1       0.95      0.95      0.95       151\n",
      "\n",
      "avg / total       0.99      0.99      0.99      1250\n",
      "\n"
     ]
    }
   ],
   "source": [
    "trainNormalModel(decision_tree, X_SelectKBest, y)"
   ]
  },
  {
   "cell_type": "markdown",
   "metadata": {
    "colab_type": "text",
    "id": "k42WW8kG6xD-"
   },
   "source": [
    "### 4.2 GridsearchCv"
   ]
  },
  {
   "cell_type": "code",
   "execution_count": 0,
   "metadata": {
    "colab": {
     "autoexec": {
      "startup": false,
      "wait_interval": 0
     }
    },
    "colab_type": "code",
    "id": "2oWI3ooW6xD_"
   },
   "outputs": [],
   "source": [
    "hyperparameters = { \n",
    "    'max_depth': [1, 2, 3, 4, 5],\n",
    "    'max_features': [1, 2, 3, 4]\n",
    "}"
   ]
  },
  {
   "cell_type": "code",
   "execution_count": 80,
   "metadata": {
    "colab": {
     "autoexec": {
      "startup": false,
      "wait_interval": 0
     },
     "base_uri": "https://localhost:8080/",
     "height": 207
    },
    "colab_type": "code",
    "executionInfo": {
     "elapsed": 3367,
     "status": "ok",
     "timestamp": 1526658820134,
     "user": {
      "displayName": "Bảo Trương Đình",
      "photoUrl": "//lh5.googleusercontent.com/-eC4QdQkyBTM/AAAAAAAAAAI/AAAAAAAAAFA/6sBa5lwoOX0/s50-c-k-no/photo.jpg",
      "userId": "102262295523043259192"
     },
     "user_tz": -420
    },
    "id": "Mj2KTi8M6xEC",
    "outputId": "e7172dc4-7d74-4539-84d9-ca0c67dd9d19"
   },
   "outputs": [
    {
     "name": "stdout",
     "output_type": "stream",
     "text": [
      "{'max_depth': 4, 'max_features': 2}\n",
      "             precision    recall  f1-score   support\n",
      "\n",
      "          0       0.88      1.00      0.94      1099\n",
      "          1       0.00      0.00      0.00       151\n",
      "\n",
      "avg / total       0.77      0.88      0.82      1250\n",
      "\n"
     ]
    },
    {
     "name": "stderr",
     "output_type": "stream",
     "text": [
      "/usr/local/lib/python3.6/dist-packages/sklearn/metrics/classification.py:1135: UndefinedMetricWarning: Precision and F-score are ill-defined and being set to 0.0 in labels with no predicted samples.\n",
      "  'precision', 'predicted', average, warn_for)\n"
     ]
    }
   ],
   "source": [
    "modelWithGridSearchCv(decision_tree, hyperparameters, X, y)"
   ]
  },
  {
   "cell_type": "code",
   "execution_count": 81,
   "metadata": {
    "colab": {
     "autoexec": {
      "startup": false,
      "wait_interval": 0
     },
     "base_uri": "https://localhost:8080/",
     "height": 153
    },
    "colab_type": "code",
    "executionInfo": {
     "elapsed": 2564,
     "status": "ok",
     "timestamp": 1526658824528,
     "user": {
      "displayName": "Bảo Trương Đình",
      "photoUrl": "//lh5.googleusercontent.com/-eC4QdQkyBTM/AAAAAAAAAAI/AAAAAAAAAFA/6sBa5lwoOX0/s50-c-k-no/photo.jpg",
      "userId": "102262295523043259192"
     },
     "user_tz": -420
    },
    "id": "U8FiJT2d6xEH",
    "outputId": "23bfd7d6-6128-48d5-b3c6-c829cfc8461d"
   },
   "outputs": [
    {
     "name": "stdout",
     "output_type": "stream",
     "text": [
      "{'max_depth': 5, 'max_features': 3}\n",
      "             precision    recall  f1-score   support\n",
      "\n",
      "          0       0.94      0.96      0.95      1099\n",
      "          1       0.65      0.59      0.62       151\n",
      "\n",
      "avg / total       0.91      0.91      0.91      1250\n",
      "\n"
     ]
    }
   ],
   "source": [
    "modelWithGridSearchCv(decision_tree, hyperparameters, X_pca, y)"
   ]
  },
  {
   "cell_type": "code",
   "execution_count": 82,
   "metadata": {
    "colab": {
     "autoexec": {
      "startup": false,
      "wait_interval": 0
     },
     "base_uri": "https://localhost:8080/",
     "height": 153
    },
    "colab_type": "code",
    "executionInfo": {
     "elapsed": 1294,
     "status": "ok",
     "timestamp": 1526658832761,
     "user": {
      "displayName": "Bảo Trương Đình",
      "photoUrl": "//lh5.googleusercontent.com/-eC4QdQkyBTM/AAAAAAAAAAI/AAAAAAAAAFA/6sBa5lwoOX0/s50-c-k-no/photo.jpg",
      "userId": "102262295523043259192"
     },
     "user_tz": -420
    },
    "id": "c5alVnT3Ttaq",
    "outputId": "e4a2c5e2-4417-4b03-cf56-ad70517173a8"
   },
   "outputs": [
    {
     "name": "stdout",
     "output_type": "stream",
     "text": [
      "{'max_depth': 5, 'max_features': 4}\n",
      "             precision    recall  f1-score   support\n",
      "\n",
      "          0       0.88      0.99      0.93      1099\n",
      "          1       0.40      0.05      0.09       151\n",
      "\n",
      "avg / total       0.83      0.88      0.83      1250\n",
      "\n"
     ]
    }
   ],
   "source": [
    "modelWithGridSearchCv(decision_tree, hyperparameters, X_SelectKBest, y)"
   ]
  },
  {
   "cell_type": "markdown",
   "metadata": {
    "colab_type": "text",
    "id": "whnkIPQITta0"
   },
   "source": [
    "# 5 BernoulliNB"
   ]
  },
  {
   "cell_type": "markdown",
   "metadata": {
    "colab_type": "text",
    "id": "IEIESOWQ6xEO"
   },
   "source": [
    "### 5.1 Normal"
   ]
  },
  {
   "cell_type": "code",
   "execution_count": 0,
   "metadata": {
    "colab": {
     "autoexec": {
      "startup": false,
      "wait_interval": 0
     }
    },
    "colab_type": "code",
    "id": "TRATkMAB6xEQ"
   },
   "outputs": [],
   "source": [
    "bernoulliNB = BernoulliNB()"
   ]
  },
  {
   "cell_type": "code",
   "execution_count": 84,
   "metadata": {
    "colab": {
     "autoexec": {
      "startup": false,
      "wait_interval": 0
     },
     "base_uri": "https://localhost:8080/",
     "height": 136
    },
    "colab_type": "code",
    "executionInfo": {
     "elapsed": 785,
     "status": "ok",
     "timestamp": 1526658907391,
     "user": {
      "displayName": "Bảo Trương Đình",
      "photoUrl": "//lh5.googleusercontent.com/-eC4QdQkyBTM/AAAAAAAAAAI/AAAAAAAAAFA/6sBa5lwoOX0/s50-c-k-no/photo.jpg",
      "userId": "102262295523043259192"
     },
     "user_tz": -420
    },
    "id": "6IQ8RvZB6xEW",
    "outputId": "a372037a-941d-4e1a-c546-1545dac8a7f7"
   },
   "outputs": [
    {
     "name": "stdout",
     "output_type": "stream",
     "text": [
      "             precision    recall  f1-score   support\n",
      "\n",
      "          0       0.96      0.97      0.96      1099\n",
      "          1       0.75      0.69      0.72       151\n",
      "\n",
      "avg / total       0.93      0.94      0.93      1250\n",
      "\n"
     ]
    }
   ],
   "source": [
    "trainNormalModel(bernoulliNB, X, y)"
   ]
  },
  {
   "cell_type": "code",
   "execution_count": 85,
   "metadata": {
    "colab": {
     "autoexec": {
      "startup": false,
      "wait_interval": 0
     },
     "base_uri": "https://localhost:8080/",
     "height": 136
    },
    "colab_type": "code",
    "executionInfo": {
     "elapsed": 1000,
     "status": "ok",
     "timestamp": 1526658912659,
     "user": {
      "displayName": "Bảo Trương Đình",
      "photoUrl": "//lh5.googleusercontent.com/-eC4QdQkyBTM/AAAAAAAAAAI/AAAAAAAAAFA/6sBa5lwoOX0/s50-c-k-no/photo.jpg",
      "userId": "102262295523043259192"
     },
     "user_tz": -420
    },
    "id": "4rZsLuay6xEb",
    "outputId": "5f3ff99b-8f0d-421c-ae63-bd72b5227ae7"
   },
   "outputs": [
    {
     "name": "stdout",
     "output_type": "stream",
     "text": [
      "             precision    recall  f1-score   support\n",
      "\n",
      "          0       0.94      0.91      0.93      1099\n",
      "          1       0.47      0.58      0.52       151\n",
      "\n",
      "avg / total       0.88      0.87      0.88      1250\n",
      "\n"
     ]
    }
   ],
   "source": [
    "trainNormalModel(bernoulliNB, X_pca, y)"
   ]
  },
  {
   "cell_type": "code",
   "execution_count": 86,
   "metadata": {
    "colab": {
     "autoexec": {
      "startup": false,
      "wait_interval": 0
     },
     "base_uri": "https://localhost:8080/",
     "height": 136
    },
    "colab_type": "code",
    "executionInfo": {
     "elapsed": 794,
     "status": "ok",
     "timestamp": 1526658915624,
     "user": {
      "displayName": "Bảo Trương Đình",
      "photoUrl": "//lh5.googleusercontent.com/-eC4QdQkyBTM/AAAAAAAAAAI/AAAAAAAAAFA/6sBa5lwoOX0/s50-c-k-no/photo.jpg",
      "userId": "102262295523043259192"
     },
     "user_tz": -420
    },
    "id": "6zo4dGaR6xEe",
    "outputId": "6354a99a-2f1b-4661-b8ca-bb43af47a6e0"
   },
   "outputs": [
    {
     "name": "stdout",
     "output_type": "stream",
     "text": [
      "             precision    recall  f1-score   support\n",
      "\n",
      "          0       0.96      0.97      0.97      1099\n",
      "          1       0.75      0.74      0.74       151\n",
      "\n",
      "avg / total       0.94      0.94      0.94      1250\n",
      "\n"
     ]
    }
   ],
   "source": [
    "trainNormalModel(bernoulliNB, X_SelectKBest, y)"
   ]
  },
  {
   "cell_type": "markdown",
   "metadata": {
    "colab_type": "text",
    "id": "efWvruqe6xEi"
   },
   "source": [
    "### 5.2 GridsearchCv"
   ]
  },
  {
   "cell_type": "code",
   "execution_count": 0,
   "metadata": {
    "colab": {
     "autoexec": {
      "startup": false,
      "wait_interval": 0
     }
    },
    "colab_type": "code",
    "id": "LMM8R8Lo6xEj"
   },
   "outputs": [],
   "source": [
    "hyperparameters = { \n",
    "    'alpha':[1, 10, 100]\n",
    "}"
   ]
  },
  {
   "cell_type": "code",
   "execution_count": 88,
   "metadata": {
    "colab": {
     "autoexec": {
      "startup": false,
      "wait_interval": 0
     },
     "base_uri": "https://localhost:8080/",
     "height": 153
    },
    "colab_type": "code",
    "executionInfo": {
     "elapsed": 2212,
     "status": "ok",
     "timestamp": 1526658927178,
     "user": {
      "displayName": "Bảo Trương Đình",
      "photoUrl": "//lh5.googleusercontent.com/-eC4QdQkyBTM/AAAAAAAAAAI/AAAAAAAAAFA/6sBa5lwoOX0/s50-c-k-no/photo.jpg",
      "userId": "102262295523043259192"
     },
     "user_tz": -420
    },
    "id": "DL33k0em6xEn",
    "outputId": "0a921585-1393-44c0-f450-abb611fa15bc"
   },
   "outputs": [
    {
     "name": "stdout",
     "output_type": "stream",
     "text": [
      "{'alpha': 1}\n",
      "             precision    recall  f1-score   support\n",
      "\n",
      "          0       0.96      0.97      0.96      1099\n",
      "          1       0.75      0.69      0.72       151\n",
      "\n",
      "avg / total       0.93      0.94      0.93      1250\n",
      "\n"
     ]
    }
   ],
   "source": [
    "modelWithGridSearchCv(bernoulliNB, hyperparameters, X, y)"
   ]
  },
  {
   "cell_type": "code",
   "execution_count": 89,
   "metadata": {
    "colab": {
     "autoexec": {
      "startup": false,
      "wait_interval": 0
     },
     "base_uri": "https://localhost:8080/",
     "height": 153
    },
    "colab_type": "code",
    "executionInfo": {
     "elapsed": 2355,
     "status": "ok",
     "timestamp": 1526658934699,
     "user": {
      "displayName": "Bảo Trương Đình",
      "photoUrl": "//lh5.googleusercontent.com/-eC4QdQkyBTM/AAAAAAAAAAI/AAAAAAAAAFA/6sBa5lwoOX0/s50-c-k-no/photo.jpg",
      "userId": "102262295523043259192"
     },
     "user_tz": -420
    },
    "id": "0woREVUt6xEs",
    "outputId": "22a290c3-8a29-48d5-971b-da66071aa64e"
   },
   "outputs": [
    {
     "name": "stdout",
     "output_type": "stream",
     "text": [
      "{'alpha': 1}\n",
      "             precision    recall  f1-score   support\n",
      "\n",
      "          0       0.94      0.91      0.93      1099\n",
      "          1       0.47      0.58      0.52       151\n",
      "\n",
      "avg / total       0.88      0.87      0.88      1250\n",
      "\n"
     ]
    }
   ],
   "source": [
    "modelWithGridSearchCv(bernoulliNB, hyperparameters, X_pca, y)"
   ]
  },
  {
   "cell_type": "code",
   "execution_count": 90,
   "metadata": {
    "colab": {
     "autoexec": {
      "startup": false,
      "wait_interval": 0
     },
     "base_uri": "https://localhost:8080/",
     "height": 153
    },
    "colab_type": "code",
    "executionInfo": {
     "elapsed": 1101,
     "status": "ok",
     "timestamp": 1526658938003,
     "user": {
      "displayName": "Bảo Trương Đình",
      "photoUrl": "//lh5.googleusercontent.com/-eC4QdQkyBTM/AAAAAAAAAAI/AAAAAAAAAFA/6sBa5lwoOX0/s50-c-k-no/photo.jpg",
      "userId": "102262295523043259192"
     },
     "user_tz": -420
    },
    "id": "5uPviObS6xEw",
    "outputId": "c98683e4-db4d-47b3-bbfc-9fba16fda505"
   },
   "outputs": [
    {
     "name": "stdout",
     "output_type": "stream",
     "text": [
      "{'alpha': 1}\n",
      "             precision    recall  f1-score   support\n",
      "\n",
      "          0       0.96      0.97      0.97      1099\n",
      "          1       0.75      0.74      0.74       151\n",
      "\n",
      "avg / total       0.94      0.94      0.94      1250\n",
      "\n"
     ]
    }
   ],
   "source": [
    "modelWithGridSearchCv(bernoulliNB, hyperparameters, X_SelectKBest, y)"
   ]
  },
  {
   "cell_type": "code",
   "execution_count": 0,
   "metadata": {
    "colab": {
     "autoexec": {
      "startup": false,
      "wait_interval": 0
     }
    },
    "colab_type": "code",
    "id": "8cgxyf3pe8sg"
   },
   "outputs": [],
   "source": [
    "# 6 GradientBoostingClassifier"
   ]
  },
  {
   "cell_type": "markdown",
   "metadata": {
    "colab_type": "text",
    "id": "YZhtLvqx6xE5"
   },
   "source": [
    "### 6.1 Normal"
   ]
  },
  {
   "cell_type": "code",
   "execution_count": 0,
   "metadata": {
    "colab": {
     "autoexec": {
      "startup": false,
      "wait_interval": 0
     }
    },
    "colab_type": "code",
    "id": "syvKhe5w6xE6"
   },
   "outputs": [],
   "source": [
    "gradient_boosting = GradientBoostingClassifier(n_estimators=20, learning_rate = 0.25, max_features=2, max_depth = 2, random_state = 0)"
   ]
  },
  {
   "cell_type": "code",
   "execution_count": 92,
   "metadata": {
    "colab": {
     "autoexec": {
      "startup": false,
      "wait_interval": 0
     },
     "base_uri": "https://localhost:8080/",
     "height": 136
    },
    "colab_type": "code",
    "executionInfo": {
     "elapsed": 705,
     "status": "ok",
     "timestamp": 1526658945603,
     "user": {
      "displayName": "Bảo Trương Đình",
      "photoUrl": "//lh5.googleusercontent.com/-eC4QdQkyBTM/AAAAAAAAAAI/AAAAAAAAAFA/6sBa5lwoOX0/s50-c-k-no/photo.jpg",
      "userId": "102262295523043259192"
     },
     "user_tz": -420
    },
    "id": "iZzqbiBh6xE7",
    "outputId": "4932d703-fe33-4504-91e0-07d1df6e300d"
   },
   "outputs": [
    {
     "name": "stdout",
     "output_type": "stream",
     "text": [
      "             precision    recall  f1-score   support\n",
      "\n",
      "          0       0.88      1.00      0.94      1099\n",
      "          1       1.00      0.04      0.08       151\n",
      "\n",
      "avg / total       0.90      0.88      0.83      1250\n",
      "\n"
     ]
    }
   ],
   "source": [
    "trainNormalModel(gradient_boosting, X, y)"
   ]
  },
  {
   "cell_type": "code",
   "execution_count": 93,
   "metadata": {
    "colab": {
     "autoexec": {
      "startup": false,
      "wait_interval": 0
     },
     "base_uri": "https://localhost:8080/",
     "height": 136
    },
    "colab_type": "code",
    "executionInfo": {
     "elapsed": 741,
     "status": "ok",
     "timestamp": 1526658948737,
     "user": {
      "displayName": "Bảo Trương Đình",
      "photoUrl": "//lh5.googleusercontent.com/-eC4QdQkyBTM/AAAAAAAAAAI/AAAAAAAAAFA/6sBa5lwoOX0/s50-c-k-no/photo.jpg",
      "userId": "102262295523043259192"
     },
     "user_tz": -420
    },
    "id": "IG5Ohqjp6xE_",
    "outputId": "1f0dc6cd-41e3-4626-bbc0-24bea1521e25"
   },
   "outputs": [
    {
     "name": "stdout",
     "output_type": "stream",
     "text": [
      "             precision    recall  f1-score   support\n",
      "\n",
      "          0       0.88      1.00      0.94      1099\n",
      "          1       0.89      0.05      0.10       151\n",
      "\n",
      "avg / total       0.89      0.88      0.84      1250\n",
      "\n"
     ]
    }
   ],
   "source": [
    "trainNormalModel(gradient_boosting, X_pca, y)"
   ]
  },
  {
   "cell_type": "code",
   "execution_count": 94,
   "metadata": {
    "colab": {
     "autoexec": {
      "startup": false,
      "wait_interval": 0
     },
     "base_uri": "https://localhost:8080/",
     "height": 190
    },
    "colab_type": "code",
    "executionInfo": {
     "elapsed": 767,
     "status": "ok",
     "timestamp": 1526658953417,
     "user": {
      "displayName": "Bảo Trương Đình",
      "photoUrl": "//lh5.googleusercontent.com/-eC4QdQkyBTM/AAAAAAAAAAI/AAAAAAAAAFA/6sBa5lwoOX0/s50-c-k-no/photo.jpg",
      "userId": "102262295523043259192"
     },
     "user_tz": -420
    },
    "id": "_Hqw806v6xFC",
    "outputId": "bd9e9032-284d-4fce-aa90-c5ad9874323b"
   },
   "outputs": [
    {
     "name": "stdout",
     "output_type": "stream",
     "text": [
      "             precision    recall  f1-score   support\n",
      "\n",
      "          0       0.88      1.00      0.94      1099\n",
      "          1       0.00      0.00      0.00       151\n",
      "\n",
      "avg / total       0.77      0.88      0.82      1250\n",
      "\n"
     ]
    },
    {
     "name": "stderr",
     "output_type": "stream",
     "text": [
      "/usr/local/lib/python3.6/dist-packages/sklearn/metrics/classification.py:1135: UndefinedMetricWarning: Precision and F-score are ill-defined and being set to 0.0 in labels with no predicted samples.\n",
      "  'precision', 'predicted', average, warn_for)\n"
     ]
    }
   ],
   "source": [
    "trainNormalModel(gradient_boosting, X_SelectKBest, y)"
   ]
  },
  {
   "cell_type": "markdown",
   "metadata": {
    "colab_type": "text",
    "id": "AuPSsN6r6xFH"
   },
   "source": [
    "### 6.2 GridsearchCv"
   ]
  },
  {
   "cell_type": "code",
   "execution_count": 0,
   "metadata": {
    "colab": {
     "autoexec": {
      "startup": false,
      "wait_interval": 0
     }
    },
    "colab_type": "code",
    "id": "d8AmGPmH6xFH"
   },
   "outputs": [],
   "source": [
    "hyperparameters = {\n",
    "    'n_estimators':range(20,51,10)\n",
    "}"
   ]
  },
  {
   "cell_type": "code",
   "execution_count": 96,
   "metadata": {
    "colab": {
     "autoexec": {
      "startup": false,
      "wait_interval": 0
     },
     "base_uri": "https://localhost:8080/",
     "height": 153
    },
    "colab_type": "code",
    "executionInfo": {
     "elapsed": 3501,
     "status": "ok",
     "timestamp": 1526658964528,
     "user": {
      "displayName": "Bảo Trương Đình",
      "photoUrl": "//lh5.googleusercontent.com/-eC4QdQkyBTM/AAAAAAAAAAI/AAAAAAAAAFA/6sBa5lwoOX0/s50-c-k-no/photo.jpg",
      "userId": "102262295523043259192"
     },
     "user_tz": -420
    },
    "id": "NkXfGgKu6xFK",
    "outputId": "8abb87c9-112b-4379-94f8-4070b2789809"
   },
   "outputs": [
    {
     "name": "stdout",
     "output_type": "stream",
     "text": [
      "{'n_estimators': 50}\n",
      "             precision    recall  f1-score   support\n",
      "\n",
      "          0       0.89      1.00      0.94      1099\n",
      "          1       0.93      0.09      0.16       151\n",
      "\n",
      "avg / total       0.89      0.89      0.85      1250\n",
      "\n"
     ]
    }
   ],
   "source": [
    "modelWithGridSearchCv(gradient_boosting, hyperparameters, X, y)"
   ]
  },
  {
   "cell_type": "code",
   "execution_count": 97,
   "metadata": {
    "colab": {
     "autoexec": {
      "startup": false,
      "wait_interval": 0
     },
     "base_uri": "https://localhost:8080/",
     "height": 153
    },
    "colab_type": "code",
    "executionInfo": {
     "elapsed": 4232,
     "status": "ok",
     "timestamp": 1526658971543,
     "user": {
      "displayName": "Bảo Trương Đình",
      "photoUrl": "//lh5.googleusercontent.com/-eC4QdQkyBTM/AAAAAAAAAAI/AAAAAAAAAFA/6sBa5lwoOX0/s50-c-k-no/photo.jpg",
      "userId": "102262295523043259192"
     },
     "user_tz": -420
    },
    "id": "lUgYAbHq6xFM",
    "outputId": "6e52ff4e-5ec5-457c-e67a-d27b410b40ff"
   },
   "outputs": [
    {
     "name": "stdout",
     "output_type": "stream",
     "text": [
      "{'n_estimators': 50}\n",
      "             precision    recall  f1-score   support\n",
      "\n",
      "          0       0.91      1.00      0.95      1099\n",
      "          1       0.90      0.31      0.46       151\n",
      "\n",
      "avg / total       0.91      0.91      0.89      1250\n",
      "\n"
     ]
    }
   ],
   "source": [
    "modelWithGridSearchCv(gradient_boosting, hyperparameters, X_pca, y)"
   ]
  },
  {
   "cell_type": "code",
   "execution_count": 98,
   "metadata": {
    "colab": {
     "autoexec": {
      "startup": false,
      "wait_interval": 0
     },
     "base_uri": "https://localhost:8080/",
     "height": 153
    },
    "colab_type": "code",
    "executionInfo": {
     "elapsed": 2263,
     "status": "ok",
     "timestamp": 1526658975425,
     "user": {
      "displayName": "Bảo Trương Đình",
      "photoUrl": "//lh5.googleusercontent.com/-eC4QdQkyBTM/AAAAAAAAAAI/AAAAAAAAAFA/6sBa5lwoOX0/s50-c-k-no/photo.jpg",
      "userId": "102262295523043259192"
     },
     "user_tz": -420
    },
    "id": "n7AbmpLW6xFP",
    "outputId": "7df0f0ea-ce89-4cc4-f736-425f33681f81"
   },
   "outputs": [
    {
     "name": "stdout",
     "output_type": "stream",
     "text": [
      "{'n_estimators': 50}\n",
      "             precision    recall  f1-score   support\n",
      "\n",
      "          0       0.94      0.99      0.96      1099\n",
      "          1       0.87      0.56      0.68       151\n",
      "\n",
      "avg / total       0.93      0.94      0.93      1250\n",
      "\n"
     ]
    }
   ],
   "source": [
    "modelWithGridSearchCv(gradient_boosting, hyperparameters, X_SelectKBest, y)"
   ]
  },
  {
   "cell_type": "code",
   "execution_count": 0,
   "metadata": {
    "colab": {
     "autoexec": {
      "startup": false,
      "wait_interval": 0
     }
    },
    "colab_type": "code",
    "id": "dSaw2eachDRh"
   },
   "outputs": [],
   "source": [
    "#https://www.analyticsvidhya.com/blog/2016/02/complete-guide-parameter-tuning-gradient-boosting-gbm-python/"
   ]
  },
  {
   "cell_type": "code",
   "execution_count": 0,
   "metadata": {
    "colab": {
     "autoexec": {
      "startup": false,
      "wait_interval": 0
     }
    },
    "colab_type": "code",
    "id": "YF1ckAPWmlqe"
   },
   "outputs": [],
   "source": []
  }
 ],
 "metadata": {
  "colab": {
   "collapsed_sections": [],
   "default_view": {},
   "name": "AirlineArrivalsNewest_5.ipynb",
   "provenance": [],
   "version": "0.3.2",
   "views": {}
  },
  "kernelspec": {
   "display_name": "Python 3",
   "language": "python",
   "name": "python3"
  },
  "language_info": {
   "codemirror_mode": {
    "name": "ipython",
    "version": 3
   },
   "file_extension": ".py",
   "mimetype": "text/x-python",
   "name": "python",
   "nbconvert_exporter": "python",
   "pygments_lexer": "ipython3",
   "version": "3.6.4"
  }
 },
 "nbformat": 4,
 "nbformat_minor": 1
}
