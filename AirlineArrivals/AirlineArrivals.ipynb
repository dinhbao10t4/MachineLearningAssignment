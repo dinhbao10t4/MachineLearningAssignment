{
 "cells": [
  {
   "cell_type": "markdown",
   "metadata": {},
   "source": [
    "# Airline Arrivals"
   ]
  },
  {
   "cell_type": "code",
   "execution_count": 1,
   "metadata": {},
   "outputs": [],
   "source": [
    "#load library\n",
    "import pandas as pd\n",
    "import numpy as np\n",
    "import matplotlib.pyplot as plt\n",
    "import seaborn as sns\n",
    "\n",
    "from sklearn.metrics import accuracy_score\n",
    "from sklearn.metrics import classification_report\n",
    "from sklearn.model_selection import train_test_split\n",
    "from sklearn.preprocessing import LabelEncoder\n",
    "from sklearn.linear_model import LogisticRegression\n",
    "from sklearn.ensemble import RandomForestClassifier\n",
    "from sklearn.naive_bayes import MultinomialNB\n",
    "from sklearn.svm import LinearSVC\n",
    "from sklearn.model_selection import cross_val_score\n",
    "\n",
    "\n",
    "%matplotlib inline\n",
    "\n",
    "# set seed for reproducibility\n",
    "np.random.seed(0)\n",
    "\n",
    "# read in all our data\n",
    "airline_arrival = pd.read_csv('2008.csv')"
   ]
  },
  {
   "cell_type": "code",
   "execution_count": 2,
   "metadata": {},
   "outputs": [],
   "source": [
    "pd.set_option('display.max_columns', None)"
   ]
  },
  {
   "cell_type": "code",
   "execution_count": 3,
   "metadata": {},
   "outputs": [
    {
     "data": {
      "text/html": [
       "<div>\n",
       "<style scoped>\n",
       "    .dataframe tbody tr th:only-of-type {\n",
       "        vertical-align: middle;\n",
       "    }\n",
       "\n",
       "    .dataframe tbody tr th {\n",
       "        vertical-align: top;\n",
       "    }\n",
       "\n",
       "    .dataframe thead th {\n",
       "        text-align: right;\n",
       "    }\n",
       "</style>\n",
       "<table border=\"1\" class=\"dataframe\">\n",
       "  <thead>\n",
       "    <tr style=\"text-align: right;\">\n",
       "      <th></th>\n",
       "      <th>Year</th>\n",
       "      <th>Month</th>\n",
       "      <th>DayofMonth</th>\n",
       "      <th>DayOfWeek</th>\n",
       "      <th>DepTime</th>\n",
       "      <th>CRSDepTime</th>\n",
       "      <th>ArrTime</th>\n",
       "      <th>CRSArrTime</th>\n",
       "      <th>UniqueCarrier</th>\n",
       "      <th>FlightNum</th>\n",
       "      <th>TailNum</th>\n",
       "      <th>ActualElapsedTime</th>\n",
       "      <th>CRSElapsedTime</th>\n",
       "      <th>AirTime</th>\n",
       "      <th>ArrDelay</th>\n",
       "      <th>DepDelay</th>\n",
       "      <th>Origin</th>\n",
       "      <th>Dest</th>\n",
       "      <th>Distance</th>\n",
       "      <th>TaxiIn</th>\n",
       "      <th>TaxiOut</th>\n",
       "      <th>Cancelled</th>\n",
       "      <th>CancellationCode</th>\n",
       "      <th>Diverted</th>\n",
       "      <th>CarrierDelay</th>\n",
       "      <th>WeatherDelay</th>\n",
       "      <th>NASDelay</th>\n",
       "      <th>SecurityDelay</th>\n",
       "      <th>LateAircraftDelay</th>\n",
       "    </tr>\n",
       "  </thead>\n",
       "  <tbody>\n",
       "    <tr>\n",
       "      <th>0</th>\n",
       "      <td>2008</td>\n",
       "      <td>1</td>\n",
       "      <td>3</td>\n",
       "      <td>4</td>\n",
       "      <td>2003.0</td>\n",
       "      <td>1955</td>\n",
       "      <td>2211.0</td>\n",
       "      <td>2225</td>\n",
       "      <td>WN</td>\n",
       "      <td>335</td>\n",
       "      <td>N712SW</td>\n",
       "      <td>128.0</td>\n",
       "      <td>150.0</td>\n",
       "      <td>116.0</td>\n",
       "      <td>-14.0</td>\n",
       "      <td>8.0</td>\n",
       "      <td>IAD</td>\n",
       "      <td>TPA</td>\n",
       "      <td>810</td>\n",
       "      <td>4.0</td>\n",
       "      <td>8.0</td>\n",
       "      <td>0</td>\n",
       "      <td>NaN</td>\n",
       "      <td>0</td>\n",
       "      <td>NaN</td>\n",
       "      <td>NaN</td>\n",
       "      <td>NaN</td>\n",
       "      <td>NaN</td>\n",
       "      <td>NaN</td>\n",
       "    </tr>\n",
       "    <tr>\n",
       "      <th>1</th>\n",
       "      <td>2008</td>\n",
       "      <td>1</td>\n",
       "      <td>3</td>\n",
       "      <td>4</td>\n",
       "      <td>754.0</td>\n",
       "      <td>735</td>\n",
       "      <td>1002.0</td>\n",
       "      <td>1000</td>\n",
       "      <td>WN</td>\n",
       "      <td>3231</td>\n",
       "      <td>N772SW</td>\n",
       "      <td>128.0</td>\n",
       "      <td>145.0</td>\n",
       "      <td>113.0</td>\n",
       "      <td>2.0</td>\n",
       "      <td>19.0</td>\n",
       "      <td>IAD</td>\n",
       "      <td>TPA</td>\n",
       "      <td>810</td>\n",
       "      <td>5.0</td>\n",
       "      <td>10.0</td>\n",
       "      <td>0</td>\n",
       "      <td>NaN</td>\n",
       "      <td>0</td>\n",
       "      <td>NaN</td>\n",
       "      <td>NaN</td>\n",
       "      <td>NaN</td>\n",
       "      <td>NaN</td>\n",
       "      <td>NaN</td>\n",
       "    </tr>\n",
       "    <tr>\n",
       "      <th>2</th>\n",
       "      <td>2008</td>\n",
       "      <td>1</td>\n",
       "      <td>3</td>\n",
       "      <td>4</td>\n",
       "      <td>628.0</td>\n",
       "      <td>620</td>\n",
       "      <td>804.0</td>\n",
       "      <td>750</td>\n",
       "      <td>WN</td>\n",
       "      <td>448</td>\n",
       "      <td>N428WN</td>\n",
       "      <td>96.0</td>\n",
       "      <td>90.0</td>\n",
       "      <td>76.0</td>\n",
       "      <td>14.0</td>\n",
       "      <td>8.0</td>\n",
       "      <td>IND</td>\n",
       "      <td>BWI</td>\n",
       "      <td>515</td>\n",
       "      <td>3.0</td>\n",
       "      <td>17.0</td>\n",
       "      <td>0</td>\n",
       "      <td>NaN</td>\n",
       "      <td>0</td>\n",
       "      <td>NaN</td>\n",
       "      <td>NaN</td>\n",
       "      <td>NaN</td>\n",
       "      <td>NaN</td>\n",
       "      <td>NaN</td>\n",
       "    </tr>\n",
       "    <tr>\n",
       "      <th>3</th>\n",
       "      <td>2008</td>\n",
       "      <td>1</td>\n",
       "      <td>3</td>\n",
       "      <td>4</td>\n",
       "      <td>926.0</td>\n",
       "      <td>930</td>\n",
       "      <td>1054.0</td>\n",
       "      <td>1100</td>\n",
       "      <td>WN</td>\n",
       "      <td>1746</td>\n",
       "      <td>N612SW</td>\n",
       "      <td>88.0</td>\n",
       "      <td>90.0</td>\n",
       "      <td>78.0</td>\n",
       "      <td>-6.0</td>\n",
       "      <td>-4.0</td>\n",
       "      <td>IND</td>\n",
       "      <td>BWI</td>\n",
       "      <td>515</td>\n",
       "      <td>3.0</td>\n",
       "      <td>7.0</td>\n",
       "      <td>0</td>\n",
       "      <td>NaN</td>\n",
       "      <td>0</td>\n",
       "      <td>NaN</td>\n",
       "      <td>NaN</td>\n",
       "      <td>NaN</td>\n",
       "      <td>NaN</td>\n",
       "      <td>NaN</td>\n",
       "    </tr>\n",
       "    <tr>\n",
       "      <th>4</th>\n",
       "      <td>2008</td>\n",
       "      <td>1</td>\n",
       "      <td>3</td>\n",
       "      <td>4</td>\n",
       "      <td>1829.0</td>\n",
       "      <td>1755</td>\n",
       "      <td>1959.0</td>\n",
       "      <td>1925</td>\n",
       "      <td>WN</td>\n",
       "      <td>3920</td>\n",
       "      <td>N464WN</td>\n",
       "      <td>90.0</td>\n",
       "      <td>90.0</td>\n",
       "      <td>77.0</td>\n",
       "      <td>34.0</td>\n",
       "      <td>34.0</td>\n",
       "      <td>IND</td>\n",
       "      <td>BWI</td>\n",
       "      <td>515</td>\n",
       "      <td>3.0</td>\n",
       "      <td>10.0</td>\n",
       "      <td>0</td>\n",
       "      <td>NaN</td>\n",
       "      <td>0</td>\n",
       "      <td>2.0</td>\n",
       "      <td>0.0</td>\n",
       "      <td>0.0</td>\n",
       "      <td>0.0</td>\n",
       "      <td>32.0</td>\n",
       "    </tr>\n",
       "  </tbody>\n",
       "</table>\n",
       "</div>"
      ],
      "text/plain": [
       "   Year  Month  DayofMonth  DayOfWeek  DepTime  CRSDepTime  ArrTime  \\\n",
       "0  2008      1           3          4   2003.0        1955   2211.0   \n",
       "1  2008      1           3          4    754.0         735   1002.0   \n",
       "2  2008      1           3          4    628.0         620    804.0   \n",
       "3  2008      1           3          4    926.0         930   1054.0   \n",
       "4  2008      1           3          4   1829.0        1755   1959.0   \n",
       "\n",
       "   CRSArrTime UniqueCarrier  FlightNum TailNum  ActualElapsedTime  \\\n",
       "0        2225            WN        335  N712SW              128.0   \n",
       "1        1000            WN       3231  N772SW              128.0   \n",
       "2         750            WN        448  N428WN               96.0   \n",
       "3        1100            WN       1746  N612SW               88.0   \n",
       "4        1925            WN       3920  N464WN               90.0   \n",
       "\n",
       "   CRSElapsedTime  AirTime  ArrDelay  DepDelay Origin Dest  Distance  TaxiIn  \\\n",
       "0           150.0    116.0     -14.0       8.0    IAD  TPA       810     4.0   \n",
       "1           145.0    113.0       2.0      19.0    IAD  TPA       810     5.0   \n",
       "2            90.0     76.0      14.0       8.0    IND  BWI       515     3.0   \n",
       "3            90.0     78.0      -6.0      -4.0    IND  BWI       515     3.0   \n",
       "4            90.0     77.0      34.0      34.0    IND  BWI       515     3.0   \n",
       "\n",
       "   TaxiOut  Cancelled CancellationCode  Diverted  CarrierDelay  WeatherDelay  \\\n",
       "0      8.0          0              NaN         0           NaN           NaN   \n",
       "1     10.0          0              NaN         0           NaN           NaN   \n",
       "2     17.0          0              NaN         0           NaN           NaN   \n",
       "3      7.0          0              NaN         0           NaN           NaN   \n",
       "4     10.0          0              NaN         0           2.0           0.0   \n",
       "\n",
       "   NASDelay  SecurityDelay  LateAircraftDelay  \n",
       "0       NaN            NaN                NaN  \n",
       "1       NaN            NaN                NaN  \n",
       "2       NaN            NaN                NaN  \n",
       "3       NaN            NaN                NaN  \n",
       "4       0.0            0.0               32.0  "
      ]
     },
     "execution_count": 3,
     "metadata": {},
     "output_type": "execute_result"
    }
   ],
   "source": [
    "#Xem 5 dòng dữ liệu đầu tiên\n",
    "airline_arrival.head()"
   ]
  },
  {
   "cell_type": "code",
   "execution_count": 4,
   "metadata": {},
   "outputs": [
    {
     "data": {
      "text/html": [
       "<div>\n",
       "<style scoped>\n",
       "    .dataframe tbody tr th:only-of-type {\n",
       "        vertical-align: middle;\n",
       "    }\n",
       "\n",
       "    .dataframe tbody tr th {\n",
       "        vertical-align: top;\n",
       "    }\n",
       "\n",
       "    .dataframe thead th {\n",
       "        text-align: right;\n",
       "    }\n",
       "</style>\n",
       "<table border=\"1\" class=\"dataframe\">\n",
       "  <thead>\n",
       "    <tr style=\"text-align: right;\">\n",
       "      <th></th>\n",
       "      <th>Year</th>\n",
       "      <th>Month</th>\n",
       "      <th>DayofMonth</th>\n",
       "      <th>DayOfWeek</th>\n",
       "      <th>DepTime</th>\n",
       "      <th>CRSDepTime</th>\n",
       "      <th>ArrTime</th>\n",
       "      <th>CRSArrTime</th>\n",
       "      <th>UniqueCarrier</th>\n",
       "      <th>FlightNum</th>\n",
       "      <th>TailNum</th>\n",
       "      <th>ActualElapsedTime</th>\n",
       "      <th>CRSElapsedTime</th>\n",
       "      <th>AirTime</th>\n",
       "      <th>ArrDelay</th>\n",
       "      <th>DepDelay</th>\n",
       "      <th>Origin</th>\n",
       "      <th>Dest</th>\n",
       "      <th>Distance</th>\n",
       "      <th>TaxiIn</th>\n",
       "      <th>TaxiOut</th>\n",
       "      <th>Cancelled</th>\n",
       "      <th>CancellationCode</th>\n",
       "      <th>Diverted</th>\n",
       "      <th>CarrierDelay</th>\n",
       "      <th>WeatherDelay</th>\n",
       "      <th>NASDelay</th>\n",
       "      <th>SecurityDelay</th>\n",
       "      <th>LateAircraftDelay</th>\n",
       "    </tr>\n",
       "  </thead>\n",
       "  <tbody>\n",
       "    <tr>\n",
       "      <th>7009723</th>\n",
       "      <td>2008</td>\n",
       "      <td>12</td>\n",
       "      <td>13</td>\n",
       "      <td>6</td>\n",
       "      <td>1002.0</td>\n",
       "      <td>959</td>\n",
       "      <td>1204.0</td>\n",
       "      <td>1150</td>\n",
       "      <td>DL</td>\n",
       "      <td>1636</td>\n",
       "      <td>N646DL</td>\n",
       "      <td>122.0</td>\n",
       "      <td>111.0</td>\n",
       "      <td>71.0</td>\n",
       "      <td>14.0</td>\n",
       "      <td>3.0</td>\n",
       "      <td>ATL</td>\n",
       "      <td>IAD</td>\n",
       "      <td>533</td>\n",
       "      <td>6.0</td>\n",
       "      <td>45.0</td>\n",
       "      <td>0</td>\n",
       "      <td>NaN</td>\n",
       "      <td>0</td>\n",
       "      <td>NaN</td>\n",
       "      <td>NaN</td>\n",
       "      <td>NaN</td>\n",
       "      <td>NaN</td>\n",
       "      <td>NaN</td>\n",
       "    </tr>\n",
       "    <tr>\n",
       "      <th>7009724</th>\n",
       "      <td>2008</td>\n",
       "      <td>12</td>\n",
       "      <td>13</td>\n",
       "      <td>6</td>\n",
       "      <td>834.0</td>\n",
       "      <td>835</td>\n",
       "      <td>1021.0</td>\n",
       "      <td>1023</td>\n",
       "      <td>DL</td>\n",
       "      <td>1637</td>\n",
       "      <td>N908DL</td>\n",
       "      <td>167.0</td>\n",
       "      <td>168.0</td>\n",
       "      <td>139.0</td>\n",
       "      <td>-2.0</td>\n",
       "      <td>-1.0</td>\n",
       "      <td>ATL</td>\n",
       "      <td>SAT</td>\n",
       "      <td>874</td>\n",
       "      <td>5.0</td>\n",
       "      <td>23.0</td>\n",
       "      <td>0</td>\n",
       "      <td>NaN</td>\n",
       "      <td>0</td>\n",
       "      <td>NaN</td>\n",
       "      <td>NaN</td>\n",
       "      <td>NaN</td>\n",
       "      <td>NaN</td>\n",
       "      <td>NaN</td>\n",
       "    </tr>\n",
       "    <tr>\n",
       "      <th>7009725</th>\n",
       "      <td>2008</td>\n",
       "      <td>12</td>\n",
       "      <td>13</td>\n",
       "      <td>6</td>\n",
       "      <td>655.0</td>\n",
       "      <td>700</td>\n",
       "      <td>856.0</td>\n",
       "      <td>856</td>\n",
       "      <td>DL</td>\n",
       "      <td>1638</td>\n",
       "      <td>N671DN</td>\n",
       "      <td>121.0</td>\n",
       "      <td>116.0</td>\n",
       "      <td>85.0</td>\n",
       "      <td>0.0</td>\n",
       "      <td>-5.0</td>\n",
       "      <td>PBI</td>\n",
       "      <td>ATL</td>\n",
       "      <td>545</td>\n",
       "      <td>24.0</td>\n",
       "      <td>12.0</td>\n",
       "      <td>0</td>\n",
       "      <td>NaN</td>\n",
       "      <td>0</td>\n",
       "      <td>NaN</td>\n",
       "      <td>NaN</td>\n",
       "      <td>NaN</td>\n",
       "      <td>NaN</td>\n",
       "      <td>NaN</td>\n",
       "    </tr>\n",
       "    <tr>\n",
       "      <th>7009726</th>\n",
       "      <td>2008</td>\n",
       "      <td>12</td>\n",
       "      <td>13</td>\n",
       "      <td>6</td>\n",
       "      <td>1251.0</td>\n",
       "      <td>1240</td>\n",
       "      <td>1446.0</td>\n",
       "      <td>1437</td>\n",
       "      <td>DL</td>\n",
       "      <td>1639</td>\n",
       "      <td>N646DL</td>\n",
       "      <td>115.0</td>\n",
       "      <td>117.0</td>\n",
       "      <td>89.0</td>\n",
       "      <td>9.0</td>\n",
       "      <td>11.0</td>\n",
       "      <td>IAD</td>\n",
       "      <td>ATL</td>\n",
       "      <td>533</td>\n",
       "      <td>13.0</td>\n",
       "      <td>13.0</td>\n",
       "      <td>0</td>\n",
       "      <td>NaN</td>\n",
       "      <td>0</td>\n",
       "      <td>NaN</td>\n",
       "      <td>NaN</td>\n",
       "      <td>NaN</td>\n",
       "      <td>NaN</td>\n",
       "      <td>NaN</td>\n",
       "    </tr>\n",
       "    <tr>\n",
       "      <th>7009727</th>\n",
       "      <td>2008</td>\n",
       "      <td>12</td>\n",
       "      <td>13</td>\n",
       "      <td>6</td>\n",
       "      <td>1110.0</td>\n",
       "      <td>1103</td>\n",
       "      <td>1413.0</td>\n",
       "      <td>1418</td>\n",
       "      <td>DL</td>\n",
       "      <td>1641</td>\n",
       "      <td>N908DL</td>\n",
       "      <td>123.0</td>\n",
       "      <td>135.0</td>\n",
       "      <td>104.0</td>\n",
       "      <td>-5.0</td>\n",
       "      <td>7.0</td>\n",
       "      <td>SAT</td>\n",
       "      <td>ATL</td>\n",
       "      <td>874</td>\n",
       "      <td>8.0</td>\n",
       "      <td>11.0</td>\n",
       "      <td>0</td>\n",
       "      <td>NaN</td>\n",
       "      <td>0</td>\n",
       "      <td>NaN</td>\n",
       "      <td>NaN</td>\n",
       "      <td>NaN</td>\n",
       "      <td>NaN</td>\n",
       "      <td>NaN</td>\n",
       "    </tr>\n",
       "  </tbody>\n",
       "</table>\n",
       "</div>"
      ],
      "text/plain": [
       "         Year  Month  DayofMonth  DayOfWeek  DepTime  CRSDepTime  ArrTime  \\\n",
       "7009723  2008     12          13          6   1002.0         959   1204.0   \n",
       "7009724  2008     12          13          6    834.0         835   1021.0   \n",
       "7009725  2008     12          13          6    655.0         700    856.0   \n",
       "7009726  2008     12          13          6   1251.0        1240   1446.0   \n",
       "7009727  2008     12          13          6   1110.0        1103   1413.0   \n",
       "\n",
       "         CRSArrTime UniqueCarrier  FlightNum TailNum  ActualElapsedTime  \\\n",
       "7009723        1150            DL       1636  N646DL              122.0   \n",
       "7009724        1023            DL       1637  N908DL              167.0   \n",
       "7009725         856            DL       1638  N671DN              121.0   \n",
       "7009726        1437            DL       1639  N646DL              115.0   \n",
       "7009727        1418            DL       1641  N908DL              123.0   \n",
       "\n",
       "         CRSElapsedTime  AirTime  ArrDelay  DepDelay Origin Dest  Distance  \\\n",
       "7009723           111.0     71.0      14.0       3.0    ATL  IAD       533   \n",
       "7009724           168.0    139.0      -2.0      -1.0    ATL  SAT       874   \n",
       "7009725           116.0     85.0       0.0      -5.0    PBI  ATL       545   \n",
       "7009726           117.0     89.0       9.0      11.0    IAD  ATL       533   \n",
       "7009727           135.0    104.0      -5.0       7.0    SAT  ATL       874   \n",
       "\n",
       "         TaxiIn  TaxiOut  Cancelled CancellationCode  Diverted  CarrierDelay  \\\n",
       "7009723     6.0     45.0          0              NaN         0           NaN   \n",
       "7009724     5.0     23.0          0              NaN         0           NaN   \n",
       "7009725    24.0     12.0          0              NaN         0           NaN   \n",
       "7009726    13.0     13.0          0              NaN         0           NaN   \n",
       "7009727     8.0     11.0          0              NaN         0           NaN   \n",
       "\n",
       "         WeatherDelay  NASDelay  SecurityDelay  LateAircraftDelay  \n",
       "7009723           NaN       NaN            NaN                NaN  \n",
       "7009724           NaN       NaN            NaN                NaN  \n",
       "7009725           NaN       NaN            NaN                NaN  \n",
       "7009726           NaN       NaN            NaN                NaN  \n",
       "7009727           NaN       NaN            NaN                NaN  "
      ]
     },
     "execution_count": 4,
     "metadata": {},
     "output_type": "execute_result"
    }
   ],
   "source": [
    "#Xem 5 dòng dữ liệu cuối cùng\n",
    "airline_arrival.tail()"
   ]
  },
  {
   "cell_type": "code",
   "execution_count": 5,
   "metadata": {},
   "outputs": [
    {
     "data": {
      "text/plain": [
       "(7009728, 29)"
      ]
     },
     "execution_count": 5,
     "metadata": {},
     "output_type": "execute_result"
    }
   ],
   "source": [
    "#Xem số dòng, số cột của dataframe\n",
    "airline_arrival.shape"
   ]
  },
  {
   "cell_type": "code",
   "execution_count": 6,
   "metadata": {},
   "outputs": [],
   "source": [
    "airline_arrival_pos = airline_arrival[airline_arrival['Cancelled'] == 1]\n",
    "airline_arrival_neutral = airline_arrival[airline_arrival['Cancelled'] == 0].sample(n=1009728, random_state=50)"
   ]
  },
  {
   "cell_type": "code",
   "execution_count": 7,
   "metadata": {},
   "outputs": [
    {
     "data": {
      "text/plain": [
       "(137434, 29)"
      ]
     },
     "execution_count": 7,
     "metadata": {},
     "output_type": "execute_result"
    }
   ],
   "source": [
    "airline_arrival_pos.shape"
   ]
  },
  {
   "cell_type": "code",
   "execution_count": 8,
   "metadata": {},
   "outputs": [],
   "source": [
    "airline_arrival = airline_arrival_pos.append(airline_arrival_neutral);"
   ]
  },
  {
   "cell_type": "code",
   "execution_count": 9,
   "metadata": {},
   "outputs": [
    {
     "data": {
      "text/html": [
       "<div>\n",
       "<style scoped>\n",
       "    .dataframe tbody tr th:only-of-type {\n",
       "        vertical-align: middle;\n",
       "    }\n",
       "\n",
       "    .dataframe tbody tr th {\n",
       "        vertical-align: top;\n",
       "    }\n",
       "\n",
       "    .dataframe thead th {\n",
       "        text-align: right;\n",
       "    }\n",
       "</style>\n",
       "<table border=\"1\" class=\"dataframe\">\n",
       "  <thead>\n",
       "    <tr style=\"text-align: right;\">\n",
       "      <th></th>\n",
       "      <th>count</th>\n",
       "      <th>mean</th>\n",
       "      <th>std</th>\n",
       "      <th>min</th>\n",
       "      <th>25%</th>\n",
       "      <th>50%</th>\n",
       "      <th>75%</th>\n",
       "      <th>max</th>\n",
       "    </tr>\n",
       "  </thead>\n",
       "  <tbody>\n",
       "    <tr>\n",
       "      <th>Year</th>\n",
       "      <td>1147162.0</td>\n",
       "      <td>2008.000000</td>\n",
       "      <td>0.000000</td>\n",
       "      <td>2008.0</td>\n",
       "      <td>2008.0</td>\n",
       "      <td>2008.0</td>\n",
       "      <td>2008.0</td>\n",
       "      <td>2008.0</td>\n",
       "    </tr>\n",
       "    <tr>\n",
       "      <th>Month</th>\n",
       "      <td>1147162.0</td>\n",
       "      <td>6.302392</td>\n",
       "      <td>3.443536</td>\n",
       "      <td>1.0</td>\n",
       "      <td>3.0</td>\n",
       "      <td>6.0</td>\n",
       "      <td>9.0</td>\n",
       "      <td>12.0</td>\n",
       "    </tr>\n",
       "    <tr>\n",
       "      <th>DayofMonth</th>\n",
       "      <td>1147162.0</td>\n",
       "      <td>15.662167</td>\n",
       "      <td>8.778754</td>\n",
       "      <td>1.0</td>\n",
       "      <td>8.0</td>\n",
       "      <td>16.0</td>\n",
       "      <td>23.0</td>\n",
       "      <td>31.0</td>\n",
       "    </tr>\n",
       "    <tr>\n",
       "      <th>DayOfWeek</th>\n",
       "      <td>1147162.0</td>\n",
       "      <td>3.916639</td>\n",
       "      <td>1.986166</td>\n",
       "      <td>1.0</td>\n",
       "      <td>2.0</td>\n",
       "      <td>4.0</td>\n",
       "      <td>6.0</td>\n",
       "      <td>7.0</td>\n",
       "    </tr>\n",
       "    <tr>\n",
       "      <th>DepTime</th>\n",
       "      <td>1010916.0</td>\n",
       "      <td>1333.401533</td>\n",
       "      <td>478.071983</td>\n",
       "      <td>1.0</td>\n",
       "      <td>927.0</td>\n",
       "      <td>1325.0</td>\n",
       "      <td>1728.0</td>\n",
       "      <td>2400.0</td>\n",
       "    </tr>\n",
       "    <tr>\n",
       "      <th>CRSDepTime</th>\n",
       "      <td>1147162.0</td>\n",
       "      <td>1331.175326</td>\n",
       "      <td>463.909683</td>\n",
       "      <td>0.0</td>\n",
       "      <td>930.0</td>\n",
       "      <td>1325.0</td>\n",
       "      <td>1720.0</td>\n",
       "      <td>2359.0</td>\n",
       "    </tr>\n",
       "    <tr>\n",
       "      <th>ArrTime</th>\n",
       "      <td>1007674.0</td>\n",
       "      <td>1481.418644</td>\n",
       "      <td>504.837052</td>\n",
       "      <td>1.0</td>\n",
       "      <td>1107.0</td>\n",
       "      <td>1512.0</td>\n",
       "      <td>1909.0</td>\n",
       "      <td>2400.0</td>\n",
       "    </tr>\n",
       "    <tr>\n",
       "      <th>CRSArrTime</th>\n",
       "      <td>1147162.0</td>\n",
       "      <td>1499.488217</td>\n",
       "      <td>482.208700</td>\n",
       "      <td>0.0</td>\n",
       "      <td>1117.0</td>\n",
       "      <td>1523.0</td>\n",
       "      <td>1910.0</td>\n",
       "      <td>2400.0</td>\n",
       "    </tr>\n",
       "    <tr>\n",
       "      <th>FlightNum</th>\n",
       "      <td>1147162.0</td>\n",
       "      <td>2282.127768</td>\n",
       "      <td>1986.125637</td>\n",
       "      <td>1.0</td>\n",
       "      <td>642.0</td>\n",
       "      <td>1613.0</td>\n",
       "      <td>3665.0</td>\n",
       "      <td>9741.0</td>\n",
       "    </tr>\n",
       "    <tr>\n",
       "      <th>ActualElapsedTime</th>\n",
       "      <td>1007210.0</td>\n",
       "      <td>127.343556</td>\n",
       "      <td>70.186991</td>\n",
       "      <td>14.0</td>\n",
       "      <td>77.0</td>\n",
       "      <td>110.0</td>\n",
       "      <td>157.0</td>\n",
       "      <td>837.0</td>\n",
       "    </tr>\n",
       "    <tr>\n",
       "      <th>CRSElapsedTime</th>\n",
       "      <td>1146813.0</td>\n",
       "      <td>127.416458</td>\n",
       "      <td>68.447001</td>\n",
       "      <td>-141.0</td>\n",
       "      <td>79.0</td>\n",
       "      <td>110.0</td>\n",
       "      <td>156.0</td>\n",
       "      <td>1435.0</td>\n",
       "    </tr>\n",
       "    <tr>\n",
       "      <th>AirTime</th>\n",
       "      <td>1007210.0</td>\n",
       "      <td>104.010379</td>\n",
       "      <td>67.414932</td>\n",
       "      <td>0.0</td>\n",
       "      <td>55.0</td>\n",
       "      <td>86.0</td>\n",
       "      <td>132.0</td>\n",
       "      <td>823.0</td>\n",
       "    </tr>\n",
       "    <tr>\n",
       "      <th>ArrDelay</th>\n",
       "      <td>1007210.0</td>\n",
       "      <td>8.163943</td>\n",
       "      <td>38.249539</td>\n",
       "      <td>-91.0</td>\n",
       "      <td>-10.0</td>\n",
       "      <td>-2.0</td>\n",
       "      <td>12.0</td>\n",
       "      <td>1392.0</td>\n",
       "    </tr>\n",
       "    <tr>\n",
       "      <th>DepDelay</th>\n",
       "      <td>1010916.0</td>\n",
       "      <td>9.991282</td>\n",
       "      <td>35.147871</td>\n",
       "      <td>-71.0</td>\n",
       "      <td>-4.0</td>\n",
       "      <td>-1.0</td>\n",
       "      <td>8.0</td>\n",
       "      <td>1369.0</td>\n",
       "    </tr>\n",
       "    <tr>\n",
       "      <th>Distance</th>\n",
       "      <td>1147162.0</td>\n",
       "      <td>711.271208</td>\n",
       "      <td>553.766059</td>\n",
       "      <td>17.0</td>\n",
       "      <td>316.0</td>\n",
       "      <td>563.0</td>\n",
       "      <td>936.0</td>\n",
       "      <td>4962.0</td>\n",
       "    </tr>\n",
       "    <tr>\n",
       "      <th>TaxiIn</th>\n",
       "      <td>1007674.0</td>\n",
       "      <td>6.866705</td>\n",
       "      <td>4.950215</td>\n",
       "      <td>0.0</td>\n",
       "      <td>4.0</td>\n",
       "      <td>6.0</td>\n",
       "      <td>8.0</td>\n",
       "      <td>201.0</td>\n",
       "    </tr>\n",
       "    <tr>\n",
       "      <th>TaxiOut</th>\n",
       "      <td>1010104.0</td>\n",
       "      <td>16.478665</td>\n",
       "      <td>11.369492</td>\n",
       "      <td>0.0</td>\n",
       "      <td>10.0</td>\n",
       "      <td>14.0</td>\n",
       "      <td>19.0</td>\n",
       "      <td>386.0</td>\n",
       "    </tr>\n",
       "    <tr>\n",
       "      <th>Cancelled</th>\n",
       "      <td>1147162.0</td>\n",
       "      <td>0.119803</td>\n",
       "      <td>0.324732</td>\n",
       "      <td>0.0</td>\n",
       "      <td>0.0</td>\n",
       "      <td>0.0</td>\n",
       "      <td>0.0</td>\n",
       "      <td>1.0</td>\n",
       "    </tr>\n",
       "    <tr>\n",
       "      <th>Diverted</th>\n",
       "      <td>1147162.0</td>\n",
       "      <td>0.002195</td>\n",
       "      <td>0.046799</td>\n",
       "      <td>0.0</td>\n",
       "      <td>0.0</td>\n",
       "      <td>0.0</td>\n",
       "      <td>0.0</td>\n",
       "      <td>1.0</td>\n",
       "    </tr>\n",
       "    <tr>\n",
       "      <th>CarrierDelay</th>\n",
       "      <td>224554.0</td>\n",
       "      <td>15.781790</td>\n",
       "      <td>39.588779</td>\n",
       "      <td>0.0</td>\n",
       "      <td>0.0</td>\n",
       "      <td>0.0</td>\n",
       "      <td>16.0</td>\n",
       "      <td>1369.0</td>\n",
       "    </tr>\n",
       "    <tr>\n",
       "      <th>WeatherDelay</th>\n",
       "      <td>224554.0</td>\n",
       "      <td>2.972759</td>\n",
       "      <td>19.292837</td>\n",
       "      <td>0.0</td>\n",
       "      <td>0.0</td>\n",
       "      <td>0.0</td>\n",
       "      <td>0.0</td>\n",
       "      <td>1098.0</td>\n",
       "    </tr>\n",
       "    <tr>\n",
       "      <th>NASDelay</th>\n",
       "      <td>224554.0</td>\n",
       "      <td>17.220419</td>\n",
       "      <td>31.720718</td>\n",
       "      <td>0.0</td>\n",
       "      <td>0.0</td>\n",
       "      <td>6.0</td>\n",
       "      <td>21.0</td>\n",
       "      <td>914.0</td>\n",
       "    </tr>\n",
       "    <tr>\n",
       "      <th>SecurityDelay</th>\n",
       "      <td>224554.0</td>\n",
       "      <td>0.075741</td>\n",
       "      <td>1.804682</td>\n",
       "      <td>0.0</td>\n",
       "      <td>0.0</td>\n",
       "      <td>0.0</td>\n",
       "      <td>0.0</td>\n",
       "      <td>280.0</td>\n",
       "    </tr>\n",
       "    <tr>\n",
       "      <th>LateAircraftDelay</th>\n",
       "      <td>224554.0</td>\n",
       "      <td>20.634146</td>\n",
       "      <td>38.973867</td>\n",
       "      <td>0.0</td>\n",
       "      <td>0.0</td>\n",
       "      <td>0.0</td>\n",
       "      <td>26.0</td>\n",
       "      <td>1184.0</td>\n",
       "    </tr>\n",
       "  </tbody>\n",
       "</table>\n",
       "</div>"
      ],
      "text/plain": [
       "                       count         mean          std     min     25%  \\\n",
       "Year               1147162.0  2008.000000     0.000000  2008.0  2008.0   \n",
       "Month              1147162.0     6.302392     3.443536     1.0     3.0   \n",
       "DayofMonth         1147162.0    15.662167     8.778754     1.0     8.0   \n",
       "DayOfWeek          1147162.0     3.916639     1.986166     1.0     2.0   \n",
       "DepTime            1010916.0  1333.401533   478.071983     1.0   927.0   \n",
       "CRSDepTime         1147162.0  1331.175326   463.909683     0.0   930.0   \n",
       "ArrTime            1007674.0  1481.418644   504.837052     1.0  1107.0   \n",
       "CRSArrTime         1147162.0  1499.488217   482.208700     0.0  1117.0   \n",
       "FlightNum          1147162.0  2282.127768  1986.125637     1.0   642.0   \n",
       "ActualElapsedTime  1007210.0   127.343556    70.186991    14.0    77.0   \n",
       "CRSElapsedTime     1146813.0   127.416458    68.447001  -141.0    79.0   \n",
       "AirTime            1007210.0   104.010379    67.414932     0.0    55.0   \n",
       "ArrDelay           1007210.0     8.163943    38.249539   -91.0   -10.0   \n",
       "DepDelay           1010916.0     9.991282    35.147871   -71.0    -4.0   \n",
       "Distance           1147162.0   711.271208   553.766059    17.0   316.0   \n",
       "TaxiIn             1007674.0     6.866705     4.950215     0.0     4.0   \n",
       "TaxiOut            1010104.0    16.478665    11.369492     0.0    10.0   \n",
       "Cancelled          1147162.0     0.119803     0.324732     0.0     0.0   \n",
       "Diverted           1147162.0     0.002195     0.046799     0.0     0.0   \n",
       "CarrierDelay        224554.0    15.781790    39.588779     0.0     0.0   \n",
       "WeatherDelay        224554.0     2.972759    19.292837     0.0     0.0   \n",
       "NASDelay            224554.0    17.220419    31.720718     0.0     0.0   \n",
       "SecurityDelay       224554.0     0.075741     1.804682     0.0     0.0   \n",
       "LateAircraftDelay   224554.0    20.634146    38.973867     0.0     0.0   \n",
       "\n",
       "                      50%     75%     max  \n",
       "Year               2008.0  2008.0  2008.0  \n",
       "Month                 6.0     9.0    12.0  \n",
       "DayofMonth           16.0    23.0    31.0  \n",
       "DayOfWeek             4.0     6.0     7.0  \n",
       "DepTime            1325.0  1728.0  2400.0  \n",
       "CRSDepTime         1325.0  1720.0  2359.0  \n",
       "ArrTime            1512.0  1909.0  2400.0  \n",
       "CRSArrTime         1523.0  1910.0  2400.0  \n",
       "FlightNum          1613.0  3665.0  9741.0  \n",
       "ActualElapsedTime   110.0   157.0   837.0  \n",
       "CRSElapsedTime      110.0   156.0  1435.0  \n",
       "AirTime              86.0   132.0   823.0  \n",
       "ArrDelay             -2.0    12.0  1392.0  \n",
       "DepDelay             -1.0     8.0  1369.0  \n",
       "Distance            563.0   936.0  4962.0  \n",
       "TaxiIn                6.0     8.0   201.0  \n",
       "TaxiOut              14.0    19.0   386.0  \n",
       "Cancelled             0.0     0.0     1.0  \n",
       "Diverted              0.0     0.0     1.0  \n",
       "CarrierDelay          0.0    16.0  1369.0  \n",
       "WeatherDelay          0.0     0.0  1098.0  \n",
       "NASDelay              6.0    21.0   914.0  \n",
       "SecurityDelay         0.0     0.0   280.0  \n",
       "LateAircraftDelay     0.0    26.0  1184.0  "
      ]
     },
     "execution_count": 9,
     "metadata": {},
     "output_type": "execute_result"
    }
   ],
   "source": [
    "airline_arrival.describe().T"
   ]
  },
  {
   "cell_type": "code",
   "execution_count": 10,
   "metadata": {},
   "outputs": [
    {
     "data": {
      "text/plain": [
       "Index(['Year', 'Month', 'DayofMonth', 'DayOfWeek', 'DepTime', 'CRSDepTime',\n",
       "       'ArrTime', 'CRSArrTime', 'UniqueCarrier', 'FlightNum', 'TailNum',\n",
       "       'ActualElapsedTime', 'CRSElapsedTime', 'AirTime', 'ArrDelay',\n",
       "       'DepDelay', 'Origin', 'Dest', 'Distance', 'TaxiIn', 'TaxiOut',\n",
       "       'Cancelled', 'CancellationCode', 'Diverted', 'CarrierDelay',\n",
       "       'WeatherDelay', 'NASDelay', 'SecurityDelay', 'LateAircraftDelay'],\n",
       "      dtype='object')"
      ]
     },
     "execution_count": 10,
     "metadata": {},
     "output_type": "execute_result"
    }
   ],
   "source": [
    "airline_arrival.columns"
   ]
  },
  {
   "cell_type": "markdown",
   "metadata": {},
   "source": [
    "## Data cleaning"
   ]
  },
  {
   "cell_type": "code",
   "execution_count": 11,
   "metadata": {},
   "outputs": [
    {
     "data": {
      "text/plain": [
       "Year                       0\n",
       "Month                      0\n",
       "DayofMonth                 0\n",
       "DayOfWeek                  0\n",
       "DepTime               136246\n",
       "CRSDepTime                 0\n",
       "ArrTime               139488\n",
       "CRSArrTime                 0\n",
       "UniqueCarrier              0\n",
       "FlightNum                  0\n",
       "TailNum                83359\n",
       "ActualElapsedTime     139952\n",
       "CRSElapsedTime           349\n",
       "AirTime               139952\n",
       "ArrDelay              139952\n",
       "DepDelay              136246\n",
       "Origin                     0\n",
       "Dest                       0\n",
       "Distance                   0\n",
       "TaxiIn                139488\n",
       "TaxiOut               137058\n",
       "Cancelled                  0\n",
       "CancellationCode     1009728\n",
       "Diverted                   0\n",
       "CarrierDelay          922608\n",
       "WeatherDelay          922608\n",
       "NASDelay              922608\n",
       "SecurityDelay         922608\n",
       "LateAircraftDelay     922608\n",
       "dtype: int64"
      ]
     },
     "execution_count": 11,
     "metadata": {},
     "output_type": "execute_result"
    }
   ],
   "source": [
    "# Số lượng điểm data bị thiếu trên mỗi cột\n",
    "missing_values_count = airline_arrival.isnull().sum()\n",
    "\n",
    "# Số lượng điểm data bị thiếu trên mỗi cột của 10 cột đầu\n",
    "missing_values_count"
   ]
  },
  {
   "cell_type": "code",
   "execution_count": 12,
   "metadata": {},
   "outputs": [
    {
     "data": {
      "text/plain": [
       "0    1009728\n",
       "1     137434\n",
       "Name: Cancelled, dtype: int64"
      ]
     },
     "execution_count": 12,
     "metadata": {},
     "output_type": "execute_result"
    }
   ],
   "source": [
    "airline_arrival.Cancelled.value_counts()"
   ]
  },
  {
   "cell_type": "markdown",
   "metadata": {},
   "source": [
    "## Xử lý Missing Value"
   ]
  },
  {
   "cell_type": "code",
   "execution_count": 13,
   "metadata": {},
   "outputs": [],
   "source": [
    "airline_arrival['DepTime'].fillna((int)(airline_arrival['DepTime'].mean()), inplace=True)"
   ]
  },
  {
   "cell_type": "code",
   "execution_count": 14,
   "metadata": {},
   "outputs": [],
   "source": [
    "airline_arrival['ArrTime'].fillna((int)(airline_arrival['ArrTime'].mean()), inplace=True)"
   ]
  },
  {
   "cell_type": "code",
   "execution_count": 15,
   "metadata": {},
   "outputs": [
    {
     "data": {
      "text/plain": [
       "5338"
      ]
     },
     "execution_count": 15,
     "metadata": {},
     "output_type": "execute_result"
    }
   ],
   "source": [
    "len(airline_arrival['TailNum'].unique())#.value_counts()"
   ]
  },
  {
   "cell_type": "code",
   "execution_count": 16,
   "metadata": {},
   "outputs": [
    {
     "data": {
      "text/plain": [
       "N479HA    676\n",
       "Name: TailNum, dtype: int64"
      ]
     },
     "execution_count": 16,
     "metadata": {},
     "output_type": "execute_result"
    }
   ],
   "source": [
    "airline_arrival['TailNum'].value_counts().head(1)"
   ]
  },
  {
   "cell_type": "code",
   "execution_count": 17,
   "metadata": {},
   "outputs": [],
   "source": [
    "airline_arrival['TailNum'].fillna('N476HA', inplace=True)"
   ]
  },
  {
   "cell_type": "code",
   "execution_count": 18,
   "metadata": {},
   "outputs": [],
   "source": [
    "airline_arrival['ActualElapsedTime'].fillna((int)(airline_arrival['ActualElapsedTime'].mean()), inplace=True)"
   ]
  },
  {
   "cell_type": "code",
   "execution_count": 19,
   "metadata": {},
   "outputs": [],
   "source": [
    "airline_arrival['CRSElapsedTime'].fillna((int)(airline_arrival['CRSElapsedTime'].mean()), inplace=True)"
   ]
  },
  {
   "cell_type": "code",
   "execution_count": 20,
   "metadata": {},
   "outputs": [],
   "source": [
    "airline_arrival['AirTime'].fillna((int)(airline_arrival['AirTime'].mean()), inplace=True)"
   ]
  },
  {
   "cell_type": "code",
   "execution_count": 21,
   "metadata": {},
   "outputs": [],
   "source": [
    "airline_arrival['ArrDelay'].fillna((int)(airline_arrival['ArrDelay'].mean()), inplace=True)"
   ]
  },
  {
   "cell_type": "code",
   "execution_count": 22,
   "metadata": {},
   "outputs": [],
   "source": [
    "airline_arrival['DepDelay'].fillna((int)(airline_arrival['DepDelay'].mean()), inplace=True)"
   ]
  },
  {
   "cell_type": "code",
   "execution_count": 23,
   "metadata": {},
   "outputs": [],
   "source": [
    "airline_arrival['TaxiIn'].fillna((int)(airline_arrival['TaxiIn'].mean()), inplace=True)"
   ]
  },
  {
   "cell_type": "code",
   "execution_count": 24,
   "metadata": {},
   "outputs": [],
   "source": [
    "airline_arrival['TaxiOut'].fillna((int)(airline_arrival['TaxiOut'].mean()), inplace=True)"
   ]
  },
  {
   "cell_type": "code",
   "execution_count": 25,
   "metadata": {},
   "outputs": [
    {
     "data": {
      "text/plain": [
       "B    54904\n",
       "A    54330\n",
       "C    28188\n",
       "D       12\n",
       "Name: CancellationCode, dtype: int64"
      ]
     },
     "execution_count": 25,
     "metadata": {},
     "output_type": "execute_result"
    }
   ],
   "source": [
    "airline_arrival.CancellationCode.value_counts()"
   ]
  },
  {
   "cell_type": "code",
   "execution_count": 26,
   "metadata": {},
   "outputs": [
    {
     "data": {
      "text/plain": [
       "(1009728, 29)"
      ]
     },
     "execution_count": 26,
     "metadata": {},
     "output_type": "execute_result"
    }
   ],
   "source": [
    "airline_arrival[airline_arrival['CancellationCode'].isnull()].shape"
   ]
  },
  {
   "cell_type": "code",
   "execution_count": 27,
   "metadata": {},
   "outputs": [
    {
     "data": {
      "text/plain": [
       "(137434, 29)"
      ]
     },
     "execution_count": 27,
     "metadata": {},
     "output_type": "execute_result"
    }
   ],
   "source": [
    "airline_arrival[airline_arrival['CancellationCode'].notnull()].shape"
   ]
  },
  {
   "cell_type": "code",
   "execution_count": 28,
   "metadata": {},
   "outputs": [
    {
     "data": {
      "text/plain": [
       "(1147162, 29)"
      ]
     },
     "execution_count": 28,
     "metadata": {},
     "output_type": "execute_result"
    }
   ],
   "source": [
    "airline_arrival.shape"
   ]
  },
  {
   "cell_type": "code",
   "execution_count": 29,
   "metadata": {},
   "outputs": [],
   "source": [
    "airline_arrival.drop(['CancellationCode'], axis = 1, inplace = True)"
   ]
  },
  {
   "cell_type": "code",
   "execution_count": 30,
   "metadata": {},
   "outputs": [
    {
     "data": {
      "text/plain": [
       "(224554, 28)"
      ]
     },
     "execution_count": 30,
     "metadata": {},
     "output_type": "execute_result"
    }
   ],
   "source": [
    "airline_arrival[airline_arrival['CarrierDelay'].notnull()].shape"
   ]
  },
  {
   "cell_type": "code",
   "execution_count": 31,
   "metadata": {},
   "outputs": [],
   "source": [
    "airline_arrival['CarrierDelay'].fillna((int)(airline_arrival['CarrierDelay'].mean()), inplace=True)"
   ]
  },
  {
   "cell_type": "code",
   "execution_count": 32,
   "metadata": {},
   "outputs": [],
   "source": [
    "airline_arrival[airline_arrival['WeatherDelay'].notnull()].shape\n",
    "airline_arrival['WeatherDelay'].fillna((int)(airline_arrival['WeatherDelay'].mean()), inplace=True)"
   ]
  },
  {
   "cell_type": "code",
   "execution_count": 33,
   "metadata": {},
   "outputs": [
    {
     "data": {
      "text/plain": [
       "(224554, 28)"
      ]
     },
     "execution_count": 33,
     "metadata": {},
     "output_type": "execute_result"
    }
   ],
   "source": [
    "airline_arrival[airline_arrival['NASDelay'].notnull()].shape"
   ]
  },
  {
   "cell_type": "code",
   "execution_count": 34,
   "metadata": {},
   "outputs": [],
   "source": [
    "airline_arrival['NASDelay'].fillna((int)(airline_arrival['NASDelay'].mean()), inplace=True)"
   ]
  },
  {
   "cell_type": "code",
   "execution_count": 35,
   "metadata": {},
   "outputs": [
    {
     "data": {
      "text/plain": [
       "(224554, 28)"
      ]
     },
     "execution_count": 35,
     "metadata": {},
     "output_type": "execute_result"
    }
   ],
   "source": [
    "airline_arrival[airline_arrival['SecurityDelay'].notnull()].shape"
   ]
  },
  {
   "cell_type": "code",
   "execution_count": 36,
   "metadata": {},
   "outputs": [],
   "source": [
    "airline_arrival['SecurityDelay'].fillna((int)(airline_arrival['SecurityDelay'].mean()), inplace=True)"
   ]
  },
  {
   "cell_type": "code",
   "execution_count": 37,
   "metadata": {},
   "outputs": [
    {
     "data": {
      "text/plain": [
       "(224554, 28)"
      ]
     },
     "execution_count": 37,
     "metadata": {},
     "output_type": "execute_result"
    }
   ],
   "source": [
    "airline_arrival[airline_arrival['LateAircraftDelay'].notnull()].shape"
   ]
  },
  {
   "cell_type": "code",
   "execution_count": 38,
   "metadata": {},
   "outputs": [],
   "source": [
    "airline_arrival['LateAircraftDelay'].fillna((int)(airline_arrival['LateAircraftDelay'].mean()), inplace=True)"
   ]
  },
  {
   "cell_type": "code",
   "execution_count": 39,
   "metadata": {},
   "outputs": [
    {
     "data": {
      "text/plain": [
       "Year                 0\n",
       "Month                0\n",
       "DayofMonth           0\n",
       "DayOfWeek            0\n",
       "DepTime              0\n",
       "CRSDepTime           0\n",
       "ArrTime              0\n",
       "CRSArrTime           0\n",
       "UniqueCarrier        0\n",
       "FlightNum            0\n",
       "TailNum              0\n",
       "ActualElapsedTime    0\n",
       "CRSElapsedTime       0\n",
       "AirTime              0\n",
       "ArrDelay             0\n",
       "DepDelay             0\n",
       "Origin               0\n",
       "Dest                 0\n",
       "Distance             0\n",
       "TaxiIn               0\n",
       "TaxiOut              0\n",
       "Cancelled            0\n",
       "Diverted             0\n",
       "CarrierDelay         0\n",
       "WeatherDelay         0\n",
       "NASDelay             0\n",
       "SecurityDelay        0\n",
       "LateAircraftDelay    0\n",
       "dtype: int64"
      ]
     },
     "execution_count": 39,
     "metadata": {},
     "output_type": "execute_result"
    }
   ],
   "source": [
    "# Số lượng điểm data bị thiếu trên mỗi cột\n",
    "missing_values_count = airline_arrival.isnull().sum()\n",
    "\n",
    "# Số lượng điểm data bị thiếu trên mỗi cột của 10 cột đầu\n",
    "missing_values_count"
   ]
  },
  {
   "cell_type": "code",
   "execution_count": 40,
   "metadata": {},
   "outputs": [
    {
     "data": {
      "text/plain": [
       "Year                   int64\n",
       "Month                  int64\n",
       "DayofMonth             int64\n",
       "DayOfWeek              int64\n",
       "DepTime              float64\n",
       "CRSDepTime             int64\n",
       "ArrTime              float64\n",
       "CRSArrTime             int64\n",
       "UniqueCarrier         object\n",
       "FlightNum              int64\n",
       "TailNum               object\n",
       "ActualElapsedTime    float64\n",
       "CRSElapsedTime       float64\n",
       "AirTime              float64\n",
       "ArrDelay             float64\n",
       "DepDelay             float64\n",
       "Origin                object\n",
       "Dest                  object\n",
       "Distance               int64\n",
       "TaxiIn               float64\n",
       "TaxiOut              float64\n",
       "Cancelled              int64\n",
       "Diverted               int64\n",
       "CarrierDelay         float64\n",
       "WeatherDelay         float64\n",
       "NASDelay             float64\n",
       "SecurityDelay        float64\n",
       "LateAircraftDelay    float64\n",
       "dtype: object"
      ]
     },
     "execution_count": 40,
     "metadata": {},
     "output_type": "execute_result"
    }
   ],
   "source": [
    "airline_arrival.dtypes"
   ]
  },
  {
   "cell_type": "code",
   "execution_count": 41,
   "metadata": {},
   "outputs": [
    {
     "data": {
      "text/plain": [
       "20"
      ]
     },
     "execution_count": 41,
     "metadata": {},
     "output_type": "execute_result"
    }
   ],
   "source": [
    "len(airline_arrival.UniqueCarrier.unique())#value_counts()"
   ]
  },
  {
   "cell_type": "code",
   "execution_count": 42,
   "metadata": {},
   "outputs": [
    {
     "data": {
      "text/plain": [
       "5337"
      ]
     },
     "execution_count": 42,
     "metadata": {},
     "output_type": "execute_result"
    }
   ],
   "source": [
    "len(airline_arrival.TailNum.unique())#value_counts()"
   ]
  },
  {
   "cell_type": "code",
   "execution_count": 43,
   "metadata": {},
   "outputs": [
    {
     "data": {
      "text/plain": [
       "302"
      ]
     },
     "execution_count": 43,
     "metadata": {},
     "output_type": "execute_result"
    }
   ],
   "source": [
    "len(airline_arrival.Origin.unique())#value_counts()"
   ]
  },
  {
   "cell_type": "code",
   "execution_count": 44,
   "metadata": {},
   "outputs": [
    {
     "data": {
      "text/plain": [
       "303"
      ]
     },
     "execution_count": 44,
     "metadata": {},
     "output_type": "execute_result"
    }
   ],
   "source": [
    "len(airline_arrival.Dest.unique())#value_counts()"
   ]
  },
  {
   "cell_type": "code",
   "execution_count": 45,
   "metadata": {},
   "outputs": [],
   "source": [
    "#airline_arrival = pd.get_dummies(airline_arrival, columns=['UniqueCarrier', 'TailNum', 'Origin', 'Dest']);"
   ]
  },
  {
   "cell_type": "code",
   "execution_count": 46,
   "metadata": {},
   "outputs": [],
   "source": [
    "le = LabelEncoder()\n",
    "\n",
    "airline_arrival['UniqueCarrier_LabelEncoded'] = le.fit_transform(airline_arrival.UniqueCarrier)"
   ]
  },
  {
   "cell_type": "code",
   "execution_count": 47,
   "metadata": {},
   "outputs": [],
   "source": [
    "airline_arrival['TailNum_LabelEncoded'] = le.fit_transform(airline_arrival.TailNum)"
   ]
  },
  {
   "cell_type": "code",
   "execution_count": 48,
   "metadata": {},
   "outputs": [],
   "source": [
    "airline_arrival['Origin_LabelEncoded'] = le.fit_transform(airline_arrival.Origin)"
   ]
  },
  {
   "cell_type": "code",
   "execution_count": 49,
   "metadata": {},
   "outputs": [],
   "source": [
    "airline_arrival['Dest_LabelEncoded'] = le.fit_transform(airline_arrival.Dest)"
   ]
  },
  {
   "cell_type": "code",
   "execution_count": 50,
   "metadata": {},
   "outputs": [],
   "source": [
    "airline_arrival.drop(['UniqueCarrier'], axis = 1, inplace = True)\n",
    "airline_arrival.drop(['TailNum'], axis = 1, inplace = True)\n",
    "airline_arrival.drop(['Origin'], axis = 1, inplace = True)\n",
    "airline_arrival.drop(['Dest'], axis = 1, inplace = True)"
   ]
  },
  {
   "cell_type": "code",
   "execution_count": 51,
   "metadata": {},
   "outputs": [
    {
     "data": {
      "text/html": [
       "<div>\n",
       "<style scoped>\n",
       "    .dataframe tbody tr th:only-of-type {\n",
       "        vertical-align: middle;\n",
       "    }\n",
       "\n",
       "    .dataframe tbody tr th {\n",
       "        vertical-align: top;\n",
       "    }\n",
       "\n",
       "    .dataframe thead th {\n",
       "        text-align: right;\n",
       "    }\n",
       "</style>\n",
       "<table border=\"1\" class=\"dataframe\">\n",
       "  <thead>\n",
       "    <tr style=\"text-align: right;\">\n",
       "      <th></th>\n",
       "      <th>Year</th>\n",
       "      <th>Month</th>\n",
       "      <th>DayofMonth</th>\n",
       "      <th>DayOfWeek</th>\n",
       "      <th>DepTime</th>\n",
       "      <th>CRSDepTime</th>\n",
       "      <th>ArrTime</th>\n",
       "      <th>CRSArrTime</th>\n",
       "      <th>FlightNum</th>\n",
       "      <th>ActualElapsedTime</th>\n",
       "      <th>CRSElapsedTime</th>\n",
       "      <th>AirTime</th>\n",
       "      <th>ArrDelay</th>\n",
       "      <th>DepDelay</th>\n",
       "      <th>Distance</th>\n",
       "      <th>TaxiIn</th>\n",
       "      <th>TaxiOut</th>\n",
       "      <th>Cancelled</th>\n",
       "      <th>Diverted</th>\n",
       "      <th>CarrierDelay</th>\n",
       "      <th>WeatherDelay</th>\n",
       "      <th>NASDelay</th>\n",
       "      <th>SecurityDelay</th>\n",
       "      <th>LateAircraftDelay</th>\n",
       "      <th>UniqueCarrier_LabelEncoded</th>\n",
       "      <th>TailNum_LabelEncoded</th>\n",
       "      <th>Origin_LabelEncoded</th>\n",
       "      <th>Dest_LabelEncoded</th>\n",
       "    </tr>\n",
       "  </thead>\n",
       "  <tbody>\n",
       "    <tr>\n",
       "      <th>178</th>\n",
       "      <td>2008</td>\n",
       "      <td>1</td>\n",
       "      <td>3</td>\n",
       "      <td>4</td>\n",
       "      <td>1333.0</td>\n",
       "      <td>700</td>\n",
       "      <td>1481.0</td>\n",
       "      <td>830</td>\n",
       "      <td>126</td>\n",
       "      <td>127.0</td>\n",
       "      <td>90.0</td>\n",
       "      <td>104.0</td>\n",
       "      <td>8.0</td>\n",
       "      <td>9.0</td>\n",
       "      <td>407</td>\n",
       "      <td>6.0</td>\n",
       "      <td>16.0</td>\n",
       "      <td>1</td>\n",
       "      <td>0</td>\n",
       "      <td>15.0</td>\n",
       "      <td>2.0</td>\n",
       "      <td>17.0</td>\n",
       "      <td>0.0</td>\n",
       "      <td>20.0</td>\n",
       "      <td>17</td>\n",
       "      <td>2162</td>\n",
       "      <td>155</td>\n",
       "      <td>204</td>\n",
       "    </tr>\n",
       "    <tr>\n",
       "      <th>373</th>\n",
       "      <td>2008</td>\n",
       "      <td>1</td>\n",
       "      <td>3</td>\n",
       "      <td>4</td>\n",
       "      <td>1333.0</td>\n",
       "      <td>1100</td>\n",
       "      <td>1481.0</td>\n",
       "      <td>1215</td>\n",
       "      <td>1146</td>\n",
       "      <td>127.0</td>\n",
       "      <td>75.0</td>\n",
       "      <td>104.0</td>\n",
       "      <td>8.0</td>\n",
       "      <td>9.0</td>\n",
       "      <td>337</td>\n",
       "      <td>6.0</td>\n",
       "      <td>16.0</td>\n",
       "      <td>1</td>\n",
       "      <td>0</td>\n",
       "      <td>15.0</td>\n",
       "      <td>2.0</td>\n",
       "      <td>17.0</td>\n",
       "      <td>0.0</td>\n",
       "      <td>20.0</td>\n",
       "      <td>17</td>\n",
       "      <td>2162</td>\n",
       "      <td>157</td>\n",
       "      <td>204</td>\n",
       "    </tr>\n",
       "    <tr>\n",
       "      <th>399</th>\n",
       "      <td>2008</td>\n",
       "      <td>1</td>\n",
       "      <td>3</td>\n",
       "      <td>4</td>\n",
       "      <td>1333.0</td>\n",
       "      <td>905</td>\n",
       "      <td>1481.0</td>\n",
       "      <td>1025</td>\n",
       "      <td>469</td>\n",
       "      <td>127.0</td>\n",
       "      <td>80.0</td>\n",
       "      <td>104.0</td>\n",
       "      <td>8.0</td>\n",
       "      <td>9.0</td>\n",
       "      <td>337</td>\n",
       "      <td>6.0</td>\n",
       "      <td>16.0</td>\n",
       "      <td>1</td>\n",
       "      <td>0</td>\n",
       "      <td>15.0</td>\n",
       "      <td>2.0</td>\n",
       "      <td>17.0</td>\n",
       "      <td>0.0</td>\n",
       "      <td>20.0</td>\n",
       "      <td>17</td>\n",
       "      <td>2162</td>\n",
       "      <td>157</td>\n",
       "      <td>259</td>\n",
       "    </tr>\n",
       "    <tr>\n",
       "      <th>401</th>\n",
       "      <td>2008</td>\n",
       "      <td>1</td>\n",
       "      <td>3</td>\n",
       "      <td>4</td>\n",
       "      <td>1333.0</td>\n",
       "      <td>1620</td>\n",
       "      <td>1481.0</td>\n",
       "      <td>1740</td>\n",
       "      <td>618</td>\n",
       "      <td>127.0</td>\n",
       "      <td>80.0</td>\n",
       "      <td>104.0</td>\n",
       "      <td>8.0</td>\n",
       "      <td>9.0</td>\n",
       "      <td>337</td>\n",
       "      <td>6.0</td>\n",
       "      <td>16.0</td>\n",
       "      <td>1</td>\n",
       "      <td>0</td>\n",
       "      <td>15.0</td>\n",
       "      <td>2.0</td>\n",
       "      <td>17.0</td>\n",
       "      <td>0.0</td>\n",
       "      <td>20.0</td>\n",
       "      <td>17</td>\n",
       "      <td>2162</td>\n",
       "      <td>157</td>\n",
       "      <td>259</td>\n",
       "    </tr>\n",
       "    <tr>\n",
       "      <th>415</th>\n",
       "      <td>2008</td>\n",
       "      <td>1</td>\n",
       "      <td>3</td>\n",
       "      <td>4</td>\n",
       "      <td>1333.0</td>\n",
       "      <td>1930</td>\n",
       "      <td>1481.0</td>\n",
       "      <td>2035</td>\n",
       "      <td>2528</td>\n",
       "      <td>127.0</td>\n",
       "      <td>65.0</td>\n",
       "      <td>104.0</td>\n",
       "      <td>8.0</td>\n",
       "      <td>9.0</td>\n",
       "      <td>308</td>\n",
       "      <td>6.0</td>\n",
       "      <td>16.0</td>\n",
       "      <td>1</td>\n",
       "      <td>0</td>\n",
       "      <td>15.0</td>\n",
       "      <td>2.0</td>\n",
       "      <td>17.0</td>\n",
       "      <td>0.0</td>\n",
       "      <td>20.0</td>\n",
       "      <td>17</td>\n",
       "      <td>2162</td>\n",
       "      <td>157</td>\n",
       "      <td>264</td>\n",
       "    </tr>\n",
       "  </tbody>\n",
       "</table>\n",
       "</div>"
      ],
      "text/plain": [
       "     Year  Month  DayofMonth  DayOfWeek  DepTime  CRSDepTime  ArrTime  \\\n",
       "178  2008      1           3          4   1333.0         700   1481.0   \n",
       "373  2008      1           3          4   1333.0        1100   1481.0   \n",
       "399  2008      1           3          4   1333.0         905   1481.0   \n",
       "401  2008      1           3          4   1333.0        1620   1481.0   \n",
       "415  2008      1           3          4   1333.0        1930   1481.0   \n",
       "\n",
       "     CRSArrTime  FlightNum  ActualElapsedTime  CRSElapsedTime  AirTime  \\\n",
       "178         830        126              127.0            90.0    104.0   \n",
       "373        1215       1146              127.0            75.0    104.0   \n",
       "399        1025        469              127.0            80.0    104.0   \n",
       "401        1740        618              127.0            80.0    104.0   \n",
       "415        2035       2528              127.0            65.0    104.0   \n",
       "\n",
       "     ArrDelay  DepDelay  Distance  TaxiIn  TaxiOut  Cancelled  Diverted  \\\n",
       "178       8.0       9.0       407     6.0     16.0          1         0   \n",
       "373       8.0       9.0       337     6.0     16.0          1         0   \n",
       "399       8.0       9.0       337     6.0     16.0          1         0   \n",
       "401       8.0       9.0       337     6.0     16.0          1         0   \n",
       "415       8.0       9.0       308     6.0     16.0          1         0   \n",
       "\n",
       "     CarrierDelay  WeatherDelay  NASDelay  SecurityDelay  LateAircraftDelay  \\\n",
       "178          15.0           2.0      17.0            0.0               20.0   \n",
       "373          15.0           2.0      17.0            0.0               20.0   \n",
       "399          15.0           2.0      17.0            0.0               20.0   \n",
       "401          15.0           2.0      17.0            0.0               20.0   \n",
       "415          15.0           2.0      17.0            0.0               20.0   \n",
       "\n",
       "     UniqueCarrier_LabelEncoded  TailNum_LabelEncoded  Origin_LabelEncoded  \\\n",
       "178                          17                  2162                  155   \n",
       "373                          17                  2162                  157   \n",
       "399                          17                  2162                  157   \n",
       "401                          17                  2162                  157   \n",
       "415                          17                  2162                  157   \n",
       "\n",
       "     Dest_LabelEncoded  \n",
       "178                204  \n",
       "373                204  \n",
       "399                259  \n",
       "401                259  \n",
       "415                264  "
      ]
     },
     "execution_count": 51,
     "metadata": {},
     "output_type": "execute_result"
    }
   ],
   "source": [
    "airline_arrival.head()"
   ]
  },
  {
   "cell_type": "code",
   "execution_count": 52,
   "metadata": {},
   "outputs": [
    {
     "data": {
      "text/plain": [
       "Index(['Year', 'Month', 'DayofMonth', 'DayOfWeek', 'DepTime', 'CRSDepTime',\n",
       "       'ArrTime', 'CRSArrTime', 'FlightNum', 'ActualElapsedTime',\n",
       "       'CRSElapsedTime', 'AirTime', 'ArrDelay', 'DepDelay', 'Distance',\n",
       "       'TaxiIn', 'TaxiOut', 'Cancelled', 'Diverted', 'CarrierDelay',\n",
       "       'WeatherDelay', 'NASDelay', 'SecurityDelay', 'LateAircraftDelay',\n",
       "       'UniqueCarrier_LabelEncoded', 'TailNum_LabelEncoded',\n",
       "       'Origin_LabelEncoded', 'Dest_LabelEncoded'],\n",
       "      dtype='object')"
      ]
     },
     "execution_count": 52,
     "metadata": {},
     "output_type": "execute_result"
    }
   ],
   "source": [
    "airline_arrival.columns"
   ]
  },
  {
   "cell_type": "markdown",
   "metadata": {},
   "source": [
    "### Xử lý kiểu Numberic, đưa về cùng 1 scale (mean=0, std=1)"
   ]
  },
  {
   "cell_type": "code",
   "execution_count": 53,
   "metadata": {},
   "outputs": [],
   "source": [
    "airline_arrival['Year'] = (airline_arrival['Year'] - airline_arrival['Year'].mean())/airline_arrival['Year'].std()\n",
    "airline_arrival['Month'] = (airline_arrival['Month'] - airline_arrival['Month'].mean())/airline_arrival['Month'].std()\n",
    "airline_arrival['DayofMonth'] = (airline_arrival['DayofMonth'] - airline_arrival['DayofMonth'].mean())/airline_arrival['DayofMonth'].std()\n",
    "airline_arrival['DayOfWeek'] = (airline_arrival['DayOfWeek'] - airline_arrival['DayOfWeek'].mean())/airline_arrival['DayOfWeek'].std()\n",
    "airline_arrival['DepTime'] = (airline_arrival['DepTime'] - airline_arrival['DepTime'].mean())/airline_arrival['DepTime'].std()\n",
    "airline_arrival['CRSDepTime'] = (airline_arrival['CRSDepTime'] - airline_arrival['CRSDepTime'].mean())/airline_arrival['CRSDepTime'].std()\n",
    "airline_arrival['ArrTime'] = (airline_arrival['ArrTime'] - airline_arrival['ArrTime'].mean())/airline_arrival['ArrTime'].std()\n",
    "airline_arrival['CRSArrTime'] = (airline_arrival['CRSArrTime'] - airline_arrival['CRSArrTime'].mean())/airline_arrival['CRSArrTime'].std()\n",
    "airline_arrival['FlightNum'] = (airline_arrival['FlightNum'] - airline_arrival['FlightNum'].mean())/airline_arrival['FlightNum'].std()\n",
    "airline_arrival['ActualElapsedTime'] = (airline_arrival['ActualElapsedTime'] - airline_arrival['ActualElapsedTime'].mean())/airline_arrival['ActualElapsedTime'].std()\n",
    "airline_arrival['CRSElapsedTime'] = (airline_arrival['CRSElapsedTime'] - airline_arrival['CRSElapsedTime'].mean())/airline_arrival['CRSElapsedTime'].std()\n",
    "airline_arrival['AirTime'] = (airline_arrival['AirTime'] - airline_arrival['AirTime'].mean())/airline_arrival['AirTime'].std()\n",
    "airline_arrival['ArrDelay'] = (airline_arrival['ArrDelay'] - airline_arrival['ArrDelay'].mean())/airline_arrival['ArrDelay'].std()\n",
    "airline_arrival['DepDelay'] = (airline_arrival['DepDelay'] - airline_arrival['DepDelay'].mean())/airline_arrival['DepDelay'].std()\n",
    "airline_arrival['Distance'] = (airline_arrival['Distance'] - airline_arrival['Distance'].mean())/airline_arrival['Distance'].std()\n",
    "airline_arrival['TaxiIn'] = (airline_arrival['TaxiIn'] - airline_arrival['TaxiIn'].mean())/airline_arrival['TaxiIn'].std()\n",
    "airline_arrival['TaxiOut'] = (airline_arrival['TaxiOut'] - airline_arrival['TaxiOut'].mean())/airline_arrival['TaxiOut'].std()\n",
    "airline_arrival['Diverted'] = (airline_arrival['Diverted'] - airline_arrival['Diverted'].mean())/airline_arrival['Diverted'].std()\n",
    "airline_arrival['CarrierDelay'] = (airline_arrival['CarrierDelay'] - airline_arrival['CarrierDelay'].mean())/airline_arrival['CarrierDelay'].std()\n",
    "airline_arrival['WeatherDelay'] = (airline_arrival['WeatherDelay'] - airline_arrival['WeatherDelay'].mean())/airline_arrival['WeatherDelay'].std()\n",
    "airline_arrival['NASDelay'] = (airline_arrival['NASDelay'] - airline_arrival['NASDelay'].mean())/airline_arrival['NASDelay'].std()\n",
    "airline_arrival['SecurityDelay'] = (airline_arrival['SecurityDelay'] - airline_arrival['SecurityDelay'].mean())/airline_arrival['SecurityDelay'].std()\n",
    "airline_arrival['LateAircraftDelay'] = (airline_arrival['LateAircraftDelay'] - airline_arrival['LateAircraftDelay'].mean())/airline_arrival['LateAircraftDelay'].std()\n",
    "airline_arrival['UniqueCarrier_LabelEncoded'] = (airline_arrival['UniqueCarrier_LabelEncoded'] - airline_arrival['UniqueCarrier_LabelEncoded'].mean())/airline_arrival['UniqueCarrier_LabelEncoded'].std()\n",
    "airline_arrival['TailNum_LabelEncoded'] = (airline_arrival['TailNum_LabelEncoded'] - airline_arrival['TailNum_LabelEncoded'].mean())/airline_arrival['TailNum_LabelEncoded'].std()\n",
    "airline_arrival['Origin_LabelEncoded'] = (airline_arrival['Origin_LabelEncoded'] - airline_arrival['Origin_LabelEncoded'].mean())/airline_arrival['Origin_LabelEncoded'].std()\n",
    "airline_arrival['Dest_LabelEncoded'] = (airline_arrival['Dest_LabelEncoded'] - airline_arrival['Dest_LabelEncoded'].mean())/airline_arrival['Dest_LabelEncoded'].std()"
   ]
  },
  {
   "cell_type": "code",
   "execution_count": 54,
   "metadata": {},
   "outputs": [
    {
     "data": {
      "text/plain": [
       "2"
      ]
     },
     "execution_count": 54,
     "metadata": {},
     "output_type": "execute_result"
    }
   ],
   "source": [
    "len(airline_arrival.Cancelled.unique())"
   ]
  },
  {
   "cell_type": "code",
   "execution_count": 55,
   "metadata": {},
   "outputs": [
    {
     "data": {
      "text/plain": [
       "0    1009728\n",
       "1     137434\n",
       "Name: Cancelled, dtype: int64"
      ]
     },
     "execution_count": 55,
     "metadata": {},
     "output_type": "execute_result"
    }
   ],
   "source": [
    "airline_arrival.Cancelled.value_counts()"
   ]
  },
  {
   "cell_type": "code",
   "execution_count": 56,
   "metadata": {},
   "outputs": [],
   "source": [
    "# fig = plt.figure(figsize=(8,6))\n",
    "# airline_arrival.groupby('Cancelled').Year.count().plot.bar(ylim=0)\n",
    "# plt.show()"
   ]
  },
  {
   "cell_type": "markdown",
   "metadata": {},
   "source": [
    "## Model"
   ]
  },
  {
   "cell_type": "code",
   "execution_count": 57,
   "metadata": {},
   "outputs": [],
   "source": [
    "feature_columns = ['Month', 'DayofMonth', 'DayOfWeek', 'DepTime', 'CRSDepTime',\n",
    "       'ArrTime', 'CRSArrTime', 'FlightNum', 'ActualElapsedTime',\n",
    "       'CRSElapsedTime', 'AirTime', 'ArrDelay', 'DepDelay', 'Distance',\n",
    "       'TaxiIn', 'TaxiOut', 'Cancelled', 'Diverted', 'CarrierDelay',\n",
    "       'WeatherDelay', 'NASDelay', 'SecurityDelay', 'LateAircraftDelay',\n",
    "       'UniqueCarrier_LabelEncoded', 'TailNum_LabelEncoded',\n",
    "       'Origin_LabelEncoded', 'Dest_LabelEncoded']\n",
    "X = airline_arrival[feature_columns]\n",
    "y = airline_arrival['Cancelled']"
   ]
  },
  {
   "cell_type": "code",
   "execution_count": 58,
   "metadata": {},
   "outputs": [
    {
     "data": {
      "text/html": [
       "<div>\n",
       "<style scoped>\n",
       "    .dataframe tbody tr th:only-of-type {\n",
       "        vertical-align: middle;\n",
       "    }\n",
       "\n",
       "    .dataframe tbody tr th {\n",
       "        vertical-align: top;\n",
       "    }\n",
       "\n",
       "    .dataframe thead th {\n",
       "        text-align: right;\n",
       "    }\n",
       "</style>\n",
       "<table border=\"1\" class=\"dataframe\">\n",
       "  <thead>\n",
       "    <tr style=\"text-align: right;\">\n",
       "      <th></th>\n",
       "      <th>Month</th>\n",
       "      <th>DayofMonth</th>\n",
       "      <th>DayOfWeek</th>\n",
       "      <th>DepTime</th>\n",
       "      <th>CRSDepTime</th>\n",
       "      <th>ArrTime</th>\n",
       "      <th>CRSArrTime</th>\n",
       "      <th>FlightNum</th>\n",
       "      <th>ActualElapsedTime</th>\n",
       "      <th>CRSElapsedTime</th>\n",
       "      <th>AirTime</th>\n",
       "      <th>ArrDelay</th>\n",
       "      <th>DepDelay</th>\n",
       "      <th>Distance</th>\n",
       "      <th>TaxiIn</th>\n",
       "      <th>TaxiOut</th>\n",
       "      <th>Cancelled</th>\n",
       "      <th>Diverted</th>\n",
       "      <th>CarrierDelay</th>\n",
       "      <th>WeatherDelay</th>\n",
       "      <th>NASDelay</th>\n",
       "      <th>SecurityDelay</th>\n",
       "      <th>LateAircraftDelay</th>\n",
       "      <th>UniqueCarrier_LabelEncoded</th>\n",
       "      <th>TailNum_LabelEncoded</th>\n",
       "      <th>Origin_LabelEncoded</th>\n",
       "      <th>Dest_LabelEncoded</th>\n",
       "    </tr>\n",
       "  </thead>\n",
       "  <tbody>\n",
       "    <tr>\n",
       "      <th>178</th>\n",
       "      <td>-1.539811</td>\n",
       "      <td>-1.442365</td>\n",
       "      <td>0.041971</td>\n",
       "      <td>-0.000788</td>\n",
       "      <td>-1.360556</td>\n",
       "      <td>-0.000777</td>\n",
       "      <td>-1.388379</td>\n",
       "      <td>-1.085595</td>\n",
       "      <td>-0.004587</td>\n",
       "      <td>-0.546730</td>\n",
       "      <td>-0.000144</td>\n",
       "      <td>-0.004016</td>\n",
       "      <td>-0.026474</td>\n",
       "      <td>-0.549458</td>\n",
       "      <td>-0.16379</td>\n",
       "      <td>-0.039502</td>\n",
       "      <td>1</td>\n",
       "      <td>-0.046902</td>\n",
       "      <td>-0.008736</td>\n",
       "      <td>-0.022285</td>\n",
       "      <td>-0.003074</td>\n",
       "      <td>-0.018556</td>\n",
       "      <td>-0.007198</td>\n",
       "      <td>1.000444</td>\n",
       "      <td>-0.360784</td>\n",
       "      <td>0.087034</td>\n",
       "      <td>0.689675</td>\n",
       "    </tr>\n",
       "    <tr>\n",
       "      <th>373</th>\n",
       "      <td>-1.539811</td>\n",
       "      <td>-1.442365</td>\n",
       "      <td>0.041971</td>\n",
       "      <td>-0.000788</td>\n",
       "      <td>-0.498320</td>\n",
       "      <td>-0.000777</td>\n",
       "      <td>-0.589969</td>\n",
       "      <td>-0.572032</td>\n",
       "      <td>-0.004587</td>\n",
       "      <td>-0.765911</td>\n",
       "      <td>-0.000144</td>\n",
       "      <td>-0.004016</td>\n",
       "      <td>-0.026474</td>\n",
       "      <td>-0.675865</td>\n",
       "      <td>-0.16379</td>\n",
       "      <td>-0.039502</td>\n",
       "      <td>1</td>\n",
       "      <td>-0.046902</td>\n",
       "      <td>-0.008736</td>\n",
       "      <td>-0.022285</td>\n",
       "      <td>-0.003074</td>\n",
       "      <td>-0.018556</td>\n",
       "      <td>-0.007198</td>\n",
       "      <td>1.000444</td>\n",
       "      <td>-0.360784</td>\n",
       "      <td>0.111935</td>\n",
       "      <td>0.689675</td>\n",
       "    </tr>\n",
       "    <tr>\n",
       "      <th>399</th>\n",
       "      <td>-1.539811</td>\n",
       "      <td>-1.442365</td>\n",
       "      <td>0.041971</td>\n",
       "      <td>-0.000788</td>\n",
       "      <td>-0.918660</td>\n",
       "      <td>-0.000777</td>\n",
       "      <td>-0.983989</td>\n",
       "      <td>-0.912897</td>\n",
       "      <td>-0.004587</td>\n",
       "      <td>-0.692851</td>\n",
       "      <td>-0.000144</td>\n",
       "      <td>-0.004016</td>\n",
       "      <td>-0.026474</td>\n",
       "      <td>-0.675865</td>\n",
       "      <td>-0.16379</td>\n",
       "      <td>-0.039502</td>\n",
       "      <td>1</td>\n",
       "      <td>-0.046902</td>\n",
       "      <td>-0.008736</td>\n",
       "      <td>-0.022285</td>\n",
       "      <td>-0.003074</td>\n",
       "      <td>-0.018556</td>\n",
       "      <td>-0.007198</td>\n",
       "      <td>1.000444</td>\n",
       "      <td>-0.360784</td>\n",
       "      <td>0.111935</td>\n",
       "      <td>1.371240</td>\n",
       "    </tr>\n",
       "    <tr>\n",
       "      <th>401</th>\n",
       "      <td>-1.539811</td>\n",
       "      <td>-1.442365</td>\n",
       "      <td>0.041971</td>\n",
       "      <td>-0.000788</td>\n",
       "      <td>0.622588</td>\n",
       "      <td>-0.000777</td>\n",
       "      <td>0.498771</td>\n",
       "      <td>-0.837876</td>\n",
       "      <td>-0.004587</td>\n",
       "      <td>-0.692851</td>\n",
       "      <td>-0.000144</td>\n",
       "      <td>-0.004016</td>\n",
       "      <td>-0.026474</td>\n",
       "      <td>-0.675865</td>\n",
       "      <td>-0.16379</td>\n",
       "      <td>-0.039502</td>\n",
       "      <td>1</td>\n",
       "      <td>-0.046902</td>\n",
       "      <td>-0.008736</td>\n",
       "      <td>-0.022285</td>\n",
       "      <td>-0.003074</td>\n",
       "      <td>-0.018556</td>\n",
       "      <td>-0.007198</td>\n",
       "      <td>1.000444</td>\n",
       "      <td>-0.360784</td>\n",
       "      <td>0.111935</td>\n",
       "      <td>1.371240</td>\n",
       "    </tr>\n",
       "    <tr>\n",
       "      <th>415</th>\n",
       "      <td>-1.539811</td>\n",
       "      <td>-1.442365</td>\n",
       "      <td>0.041971</td>\n",
       "      <td>-0.000788</td>\n",
       "      <td>1.290822</td>\n",
       "      <td>-0.000777</td>\n",
       "      <td>1.110539</td>\n",
       "      <td>0.123795</td>\n",
       "      <td>-0.004587</td>\n",
       "      <td>-0.912032</td>\n",
       "      <td>-0.000144</td>\n",
       "      <td>-0.004016</td>\n",
       "      <td>-0.026474</td>\n",
       "      <td>-0.728234</td>\n",
       "      <td>-0.16379</td>\n",
       "      <td>-0.039502</td>\n",
       "      <td>1</td>\n",
       "      <td>-0.046902</td>\n",
       "      <td>-0.008736</td>\n",
       "      <td>-0.022285</td>\n",
       "      <td>-0.003074</td>\n",
       "      <td>-0.018556</td>\n",
       "      <td>-0.007198</td>\n",
       "      <td>1.000444</td>\n",
       "      <td>-0.360784</td>\n",
       "      <td>0.111935</td>\n",
       "      <td>1.433200</td>\n",
       "    </tr>\n",
       "  </tbody>\n",
       "</table>\n",
       "</div>"
      ],
      "text/plain": [
       "        Month  DayofMonth  DayOfWeek   DepTime  CRSDepTime   ArrTime  \\\n",
       "178 -1.539811   -1.442365   0.041971 -0.000788   -1.360556 -0.000777   \n",
       "373 -1.539811   -1.442365   0.041971 -0.000788   -0.498320 -0.000777   \n",
       "399 -1.539811   -1.442365   0.041971 -0.000788   -0.918660 -0.000777   \n",
       "401 -1.539811   -1.442365   0.041971 -0.000788    0.622588 -0.000777   \n",
       "415 -1.539811   -1.442365   0.041971 -0.000788    1.290822 -0.000777   \n",
       "\n",
       "     CRSArrTime  FlightNum  ActualElapsedTime  CRSElapsedTime   AirTime  \\\n",
       "178   -1.388379  -1.085595          -0.004587       -0.546730 -0.000144   \n",
       "373   -0.589969  -0.572032          -0.004587       -0.765911 -0.000144   \n",
       "399   -0.983989  -0.912897          -0.004587       -0.692851 -0.000144   \n",
       "401    0.498771  -0.837876          -0.004587       -0.692851 -0.000144   \n",
       "415    1.110539   0.123795          -0.004587       -0.912032 -0.000144   \n",
       "\n",
       "     ArrDelay  DepDelay  Distance   TaxiIn   TaxiOut  Cancelled  Diverted  \\\n",
       "178 -0.004016 -0.026474 -0.549458 -0.16379 -0.039502          1 -0.046902   \n",
       "373 -0.004016 -0.026474 -0.675865 -0.16379 -0.039502          1 -0.046902   \n",
       "399 -0.004016 -0.026474 -0.675865 -0.16379 -0.039502          1 -0.046902   \n",
       "401 -0.004016 -0.026474 -0.675865 -0.16379 -0.039502          1 -0.046902   \n",
       "415 -0.004016 -0.026474 -0.728234 -0.16379 -0.039502          1 -0.046902   \n",
       "\n",
       "     CarrierDelay  WeatherDelay  NASDelay  SecurityDelay  LateAircraftDelay  \\\n",
       "178     -0.008736     -0.022285 -0.003074      -0.018556          -0.007198   \n",
       "373     -0.008736     -0.022285 -0.003074      -0.018556          -0.007198   \n",
       "399     -0.008736     -0.022285 -0.003074      -0.018556          -0.007198   \n",
       "401     -0.008736     -0.022285 -0.003074      -0.018556          -0.007198   \n",
       "415     -0.008736     -0.022285 -0.003074      -0.018556          -0.007198   \n",
       "\n",
       "     UniqueCarrier_LabelEncoded  TailNum_LabelEncoded  Origin_LabelEncoded  \\\n",
       "178                    1.000444             -0.360784             0.087034   \n",
       "373                    1.000444             -0.360784             0.111935   \n",
       "399                    1.000444             -0.360784             0.111935   \n",
       "401                    1.000444             -0.360784             0.111935   \n",
       "415                    1.000444             -0.360784             0.111935   \n",
       "\n",
       "     Dest_LabelEncoded  \n",
       "178           0.689675  \n",
       "373           0.689675  \n",
       "399           1.371240  \n",
       "401           1.371240  \n",
       "415           1.433200  "
      ]
     },
     "execution_count": 58,
     "metadata": {},
     "output_type": "execute_result"
    }
   ],
   "source": [
    "X.head()"
   ]
  },
  {
   "cell_type": "markdown",
   "metadata": {},
   "source": [
    "# LogisticRegression"
   ]
  },
  {
   "cell_type": "code",
   "execution_count": 59,
   "metadata": {},
   "outputs": [
    {
     "name": "stdout",
     "output_type": "stream",
     "text": [
      "             precision    recall  f1-score   support\n",
      "\n",
      "          0       1.00      1.00      1.00    252736\n",
      "          1       1.00      1.00      1.00     34055\n",
      "\n",
      "avg / total       1.00      1.00      1.00    286791\n",
      "\n"
     ]
    }
   ],
   "source": [
    "X_train, X_test, y_train, y_test = train_test_split(X, y, random_state = 0)\n",
    "#We call our estimator instance clf, as it is a classifier.\n",
    "clf = LogisticRegression(random_state=0).fit(X_train, y_train)\n",
    "y_pred = clf.predict(X_test)\n",
    "# MultinomialNB_accuracy = accuracy_score(y_test, y_pred)*100\n",
    "\n",
    "print(classification_report(y_test, y_pred))"
   ]
  },
  {
   "cell_type": "markdown",
   "metadata": {},
   "source": [
    "# SVM"
   ]
  },
  {
   "cell_type": "code",
   "execution_count": 60,
   "metadata": {},
   "outputs": [
    {
     "name": "stdout",
     "output_type": "stream",
     "text": [
      "             precision    recall  f1-score   support\n",
      "\n",
      "          0       1.00      1.00      1.00    252736\n",
      "          1       1.00      1.00      1.00     34055\n",
      "\n",
      "avg / total       1.00      1.00      1.00    286791\n",
      "\n"
     ]
    }
   ],
   "source": [
    "X_train, X_test, y_train, y_test = train_test_split(X, y, random_state = 0)\n",
    "#We call our estimator instance clf, as it is a classifier.\n",
    "clf = LinearSVC().fit(X_train, y_train)\n",
    "y_pred = clf.predict(X_test)\n",
    "# MultinomialNB_accuracy = accuracy_score(y_test, y_pred)*100\n",
    "\n",
    "print(classification_report(y_test, y_pred))"
   ]
  },
  {
   "cell_type": "markdown",
   "metadata": {},
   "source": [
    "# Random Forest Classifier"
   ]
  },
  {
   "cell_type": "code",
   "execution_count": 61,
   "metadata": {},
   "outputs": [
    {
     "name": "stdout",
     "output_type": "stream",
     "text": [
      "             precision    recall  f1-score   support\n",
      "\n",
      "          0       1.00      1.00      1.00    252736\n",
      "          1       1.00      1.00      1.00     34055\n",
      "\n",
      "avg / total       1.00      1.00      1.00    286791\n",
      "\n"
     ]
    }
   ],
   "source": [
    "X_train, X_test, y_train, y_test = train_test_split(X, y, random_state = 0)\n",
    "#We call our estimator instance clf, as it is a classifier.\n",
    "clf = RandomForestClassifier(n_estimators=200, max_depth=3, random_state=0).fit(X_train, y_train)\n",
    "y_pred = clf.predict(X_test)\n",
    "# MultinomialNB_accuracy = accuracy_score(y_test, y_pred)*100\n",
    "\n",
    "print(classification_report(y_test, y_pred))"
   ]
  },
  {
   "cell_type": "markdown",
   "metadata": {},
   "source": [
    "# Decision Tree"
   ]
  },
  {
   "cell_type": "code",
   "execution_count": 62,
   "metadata": {},
   "outputs": [
    {
     "name": "stdout",
     "output_type": "stream",
     "text": [
      "             precision    recall  f1-score   support\n",
      "\n",
      "          0       1.00      1.00      1.00    252736\n",
      "          1       1.00      1.00      1.00     34055\n",
      "\n",
      "avg / total       1.00      1.00      1.00    286791\n",
      "\n"
     ]
    }
   ],
   "source": [
    "from sklearn import tree\n",
    "X_train, X_test, y_train, y_test = train_test_split(X, y, random_state = 0)\n",
    "#We call our estimator instance clf, as it is a classifier.\n",
    "clf = tree.DecisionTreeClassifier()\n",
    "clf = clf.fit(X_train, y_train)\n",
    "y_pred = clf.predict(X_test)\n",
    "# MultinomialNB_accuracy = accuracy_score(y_test, y_pred)*100\n",
    "\n",
    "print(classification_report(y_test, y_pred))"
   ]
  },
  {
   "cell_type": "code",
   "execution_count": null,
   "metadata": {},
   "outputs": [],
   "source": []
  }
 ],
 "metadata": {
  "kernelspec": {
   "display_name": "Python 3",
   "language": "python",
   "name": "python3"
  },
  "language_info": {
   "codemirror_mode": {
    "name": "ipython",
    "version": 3
   },
   "file_extension": ".py",
   "mimetype": "text/x-python",
   "name": "python",
   "nbconvert_exporter": "python",
   "pygments_lexer": "ipython3",
   "version": "3.6.4"
  }
 },
 "nbformat": 4,
 "nbformat_minor": 2
}
