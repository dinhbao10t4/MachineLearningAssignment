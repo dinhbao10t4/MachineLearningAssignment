{
  "nbformat": 4,
  "nbformat_minor": 0,
  "metadata": {
    "colab": {
      "name": "AirlineArrivalsNewest.ipynb",
      "version": "0.3.2",
      "views": {},
      "default_view": {},
      "provenance": []
    },
    "kernelspec": {
      "display_name": "Python 3",
      "language": "python",
      "name": "python3"
    }
  },
  "cells": [
    {
      "metadata": {
        "id": "tmgmcUkcTtK0",
        "colab_type": "text"
      },
      "cell_type": "markdown",
      "source": [
        "# Airline Arrivals"
      ]
    },
    {
      "metadata": {
        "id": "CO2T6AcHasSA",
        "colab_type": "code",
        "colab": {
          "autoexec": {
            "startup": false,
            "wait_interval": 0
          }
        }
      },
      "cell_type": "code",
      "source": [
        "!pip install -U -q PyDrive\n",
        " \n",
        "from pydrive.auth import GoogleAuth\n",
        "from pydrive.drive import GoogleDrive\n",
        "from google.colab import auth\n",
        "from oauth2client.client import GoogleCredentials\n",
        " \n",
        "# 1. Authenticate and create the PyDrive client.\n",
        "auth.authenticate_user()\n",
        "gauth = GoogleAuth()\n",
        "gauth.credentials = GoogleCredentials.get_application_default()\n",
        "drive = GoogleDrive(gauth)"
      ],
      "execution_count": 0,
      "outputs": []
    },
    {
      "metadata": {
        "id": "cOcP83-EawWQ",
        "colab_type": "code",
        "colab": {
          "autoexec": {
            "startup": false,
            "wait_interval": 0
          }
        }
      },
      "cell_type": "code",
      "source": [
        "data_downloaded = drive.CreateFile({'id':'1EVMLcL5r1Vos8Jlsd2otiEHkcz33OPGI'})\n",
        "data_downloaded.GetContentFile('data.csv')"
      ],
      "execution_count": 0,
      "outputs": []
    },
    {
      "metadata": {
        "id": "mU_GqgrjTtK3",
        "colab_type": "code",
        "colab": {
          "autoexec": {
            "startup": false,
            "wait_interval": 0
          }
        }
      },
      "cell_type": "code",
      "source": [
        "#load library\n",
        "import pandas as pd\n",
        "import numpy as np\n",
        "import matplotlib.pyplot as plt\n",
        "import seaborn as sns\n",
        "\n",
        "from sklearn.metrics import accuracy_score\n",
        "from sklearn.metrics import classification_report\n",
        "\n",
        "from sklearn.preprocessing import LabelEncoder\n",
        "\n",
        "from sklearn.linear_model import LogisticRegression\n",
        "from sklearn.ensemble import RandomForestClassifier\n",
        "from sklearn.naive_bayes import BernoulliNB\n",
        "from sklearn.tree import DecisionTreeClassifier\n",
        "from sklearn.svm import SVC\n",
        "\n",
        "from sklearn.model_selection import cross_val_score\n",
        "from sklearn.model_selection import GridSearchCV\n",
        "from sklearn.model_selection import train_test_split\n",
        "\n",
        "\n",
        "%matplotlib inline\n",
        "\n",
        "# set seed for reproducibility\n",
        "np.random.seed(0)"
      ],
      "execution_count": 0,
      "outputs": []
    },
    {
      "metadata": {
        "id": "bUCK0gjpTtLB",
        "colab_type": "code",
        "colab": {
          "autoexec": {
            "startup": false,
            "wait_interval": 0
          }
        }
      },
      "cell_type": "code",
      "source": [
        "# read in all our data\n",
        "airline_arrival = pd.read_csv('data.csv')"
      ],
      "execution_count": 0,
      "outputs": []
    },
    {
      "metadata": {
        "id": "FNgSUT5jTtLI",
        "colab_type": "code",
        "colab": {
          "autoexec": {
            "startup": false,
            "wait_interval": 0
          }
        }
      },
      "cell_type": "code",
      "source": [
        "pd.set_option('display.max_columns', None)"
      ],
      "execution_count": 0,
      "outputs": []
    },
    {
      "metadata": {
        "id": "qaYAuptUTtLT",
        "colab_type": "code",
        "colab": {
          "autoexec": {
            "startup": false,
            "wait_interval": 0
          },
          "base_uri": "https://localhost:8080/",
          "height": 224
        },
        "outputId": "2ceb3a06-9673-47e5-80df-f912b29058d8",
        "executionInfo": {
          "status": "ok",
          "timestamp": 1526616389576,
          "user_tz": -420,
          "elapsed": 724,
          "user": {
            "displayName": "Bảo Trương Đình",
            "photoUrl": "//lh5.googleusercontent.com/-eC4QdQkyBTM/AAAAAAAAAAI/AAAAAAAAAFA/6sBa5lwoOX0/s50-c-k-no/photo.jpg",
            "userId": "102262295523043259192"
          }
        }
      },
      "cell_type": "code",
      "source": [
        "#Xem 5 dòng dữ liệu đầu tiên\n",
        "airline_arrival.head()"
      ],
      "execution_count": 6,
      "outputs": [
        {
          "output_type": "execute_result",
          "data": {
            "text/html": [
              "<div>\n",
              "<style scoped>\n",
              "    .dataframe tbody tr th:only-of-type {\n",
              "        vertical-align: middle;\n",
              "    }\n",
              "\n",
              "    .dataframe tbody tr th {\n",
              "        vertical-align: top;\n",
              "    }\n",
              "\n",
              "    .dataframe thead th {\n",
              "        text-align: right;\n",
              "    }\n",
              "</style>\n",
              "<table border=\"1\" class=\"dataframe\">\n",
              "  <thead>\n",
              "    <tr style=\"text-align: right;\">\n",
              "      <th></th>\n",
              "      <th>Year</th>\n",
              "      <th>Month</th>\n",
              "      <th>DayofMonth</th>\n",
              "      <th>DayOfWeek</th>\n",
              "      <th>DepTime</th>\n",
              "      <th>CRSDepTime</th>\n",
              "      <th>ArrTime</th>\n",
              "      <th>CRSArrTime</th>\n",
              "      <th>UniqueCarrier</th>\n",
              "      <th>FlightNum</th>\n",
              "      <th>TailNum</th>\n",
              "      <th>ActualElapsedTime</th>\n",
              "      <th>CRSElapsedTime</th>\n",
              "      <th>AirTime</th>\n",
              "      <th>ArrDelay</th>\n",
              "      <th>DepDelay</th>\n",
              "      <th>Origin</th>\n",
              "      <th>Dest</th>\n",
              "      <th>Distance</th>\n",
              "      <th>TaxiIn</th>\n",
              "      <th>TaxiOut</th>\n",
              "      <th>Cancelled</th>\n",
              "      <th>CancellationCode</th>\n",
              "      <th>Diverted</th>\n",
              "      <th>CarrierDelay</th>\n",
              "      <th>WeatherDelay</th>\n",
              "      <th>NASDelay</th>\n",
              "      <th>SecurityDelay</th>\n",
              "      <th>LateAircraftDelay</th>\n",
              "    </tr>\n",
              "  </thead>\n",
              "  <tbody>\n",
              "    <tr>\n",
              "      <th>0</th>\n",
              "      <td>2008</td>\n",
              "      <td>1</td>\n",
              "      <td>3</td>\n",
              "      <td>4</td>\n",
              "      <td>2003.0</td>\n",
              "      <td>1955</td>\n",
              "      <td>2211.0</td>\n",
              "      <td>2225</td>\n",
              "      <td>WN</td>\n",
              "      <td>335</td>\n",
              "      <td>N712SW</td>\n",
              "      <td>128.0</td>\n",
              "      <td>150.0</td>\n",
              "      <td>116.0</td>\n",
              "      <td>-14.0</td>\n",
              "      <td>8.0</td>\n",
              "      <td>IAD</td>\n",
              "      <td>TPA</td>\n",
              "      <td>810</td>\n",
              "      <td>4.0</td>\n",
              "      <td>8.0</td>\n",
              "      <td>0</td>\n",
              "      <td>NaN</td>\n",
              "      <td>0</td>\n",
              "      <td>NaN</td>\n",
              "      <td>NaN</td>\n",
              "      <td>NaN</td>\n",
              "      <td>NaN</td>\n",
              "      <td>NaN</td>\n",
              "    </tr>\n",
              "    <tr>\n",
              "      <th>1</th>\n",
              "      <td>2008</td>\n",
              "      <td>1</td>\n",
              "      <td>3</td>\n",
              "      <td>4</td>\n",
              "      <td>754.0</td>\n",
              "      <td>735</td>\n",
              "      <td>1002.0</td>\n",
              "      <td>1000</td>\n",
              "      <td>WN</td>\n",
              "      <td>3231</td>\n",
              "      <td>N772SW</td>\n",
              "      <td>128.0</td>\n",
              "      <td>145.0</td>\n",
              "      <td>113.0</td>\n",
              "      <td>2.0</td>\n",
              "      <td>19.0</td>\n",
              "      <td>IAD</td>\n",
              "      <td>TPA</td>\n",
              "      <td>810</td>\n",
              "      <td>5.0</td>\n",
              "      <td>10.0</td>\n",
              "      <td>0</td>\n",
              "      <td>NaN</td>\n",
              "      <td>0</td>\n",
              "      <td>NaN</td>\n",
              "      <td>NaN</td>\n",
              "      <td>NaN</td>\n",
              "      <td>NaN</td>\n",
              "      <td>NaN</td>\n",
              "    </tr>\n",
              "    <tr>\n",
              "      <th>2</th>\n",
              "      <td>2008</td>\n",
              "      <td>1</td>\n",
              "      <td>3</td>\n",
              "      <td>4</td>\n",
              "      <td>628.0</td>\n",
              "      <td>620</td>\n",
              "      <td>804.0</td>\n",
              "      <td>750</td>\n",
              "      <td>WN</td>\n",
              "      <td>448</td>\n",
              "      <td>N428WN</td>\n",
              "      <td>96.0</td>\n",
              "      <td>90.0</td>\n",
              "      <td>76.0</td>\n",
              "      <td>14.0</td>\n",
              "      <td>8.0</td>\n",
              "      <td>IND</td>\n",
              "      <td>BWI</td>\n",
              "      <td>515</td>\n",
              "      <td>3.0</td>\n",
              "      <td>17.0</td>\n",
              "      <td>0</td>\n",
              "      <td>NaN</td>\n",
              "      <td>0</td>\n",
              "      <td>NaN</td>\n",
              "      <td>NaN</td>\n",
              "      <td>NaN</td>\n",
              "      <td>NaN</td>\n",
              "      <td>NaN</td>\n",
              "    </tr>\n",
              "    <tr>\n",
              "      <th>3</th>\n",
              "      <td>2008</td>\n",
              "      <td>1</td>\n",
              "      <td>3</td>\n",
              "      <td>4</td>\n",
              "      <td>926.0</td>\n",
              "      <td>930</td>\n",
              "      <td>1054.0</td>\n",
              "      <td>1100</td>\n",
              "      <td>WN</td>\n",
              "      <td>1746</td>\n",
              "      <td>N612SW</td>\n",
              "      <td>88.0</td>\n",
              "      <td>90.0</td>\n",
              "      <td>78.0</td>\n",
              "      <td>-6.0</td>\n",
              "      <td>-4.0</td>\n",
              "      <td>IND</td>\n",
              "      <td>BWI</td>\n",
              "      <td>515</td>\n",
              "      <td>3.0</td>\n",
              "      <td>7.0</td>\n",
              "      <td>0</td>\n",
              "      <td>NaN</td>\n",
              "      <td>0</td>\n",
              "      <td>NaN</td>\n",
              "      <td>NaN</td>\n",
              "      <td>NaN</td>\n",
              "      <td>NaN</td>\n",
              "      <td>NaN</td>\n",
              "    </tr>\n",
              "    <tr>\n",
              "      <th>4</th>\n",
              "      <td>2008</td>\n",
              "      <td>1</td>\n",
              "      <td>3</td>\n",
              "      <td>4</td>\n",
              "      <td>1829.0</td>\n",
              "      <td>1755</td>\n",
              "      <td>1959.0</td>\n",
              "      <td>1925</td>\n",
              "      <td>WN</td>\n",
              "      <td>3920</td>\n",
              "      <td>N464WN</td>\n",
              "      <td>90.0</td>\n",
              "      <td>90.0</td>\n",
              "      <td>77.0</td>\n",
              "      <td>34.0</td>\n",
              "      <td>34.0</td>\n",
              "      <td>IND</td>\n",
              "      <td>BWI</td>\n",
              "      <td>515</td>\n",
              "      <td>3.0</td>\n",
              "      <td>10.0</td>\n",
              "      <td>0</td>\n",
              "      <td>NaN</td>\n",
              "      <td>0</td>\n",
              "      <td>2.0</td>\n",
              "      <td>0.0</td>\n",
              "      <td>0.0</td>\n",
              "      <td>0.0</td>\n",
              "      <td>32.0</td>\n",
              "    </tr>\n",
              "  </tbody>\n",
              "</table>\n",
              "</div>"
            ],
            "text/plain": [
              "   Year  Month  DayofMonth  DayOfWeek  DepTime  CRSDepTime  ArrTime  \\\n",
              "0  2008      1           3          4   2003.0        1955   2211.0   \n",
              "1  2008      1           3          4    754.0         735   1002.0   \n",
              "2  2008      1           3          4    628.0         620    804.0   \n",
              "3  2008      1           3          4    926.0         930   1054.0   \n",
              "4  2008      1           3          4   1829.0        1755   1959.0   \n",
              "\n",
              "   CRSArrTime UniqueCarrier  FlightNum TailNum  ActualElapsedTime  \\\n",
              "0        2225            WN        335  N712SW              128.0   \n",
              "1        1000            WN       3231  N772SW              128.0   \n",
              "2         750            WN        448  N428WN               96.0   \n",
              "3        1100            WN       1746  N612SW               88.0   \n",
              "4        1925            WN       3920  N464WN               90.0   \n",
              "\n",
              "   CRSElapsedTime  AirTime  ArrDelay  DepDelay Origin Dest  Distance  TaxiIn  \\\n",
              "0           150.0    116.0     -14.0       8.0    IAD  TPA       810     4.0   \n",
              "1           145.0    113.0       2.0      19.0    IAD  TPA       810     5.0   \n",
              "2            90.0     76.0      14.0       8.0    IND  BWI       515     3.0   \n",
              "3            90.0     78.0      -6.0      -4.0    IND  BWI       515     3.0   \n",
              "4            90.0     77.0      34.0      34.0    IND  BWI       515     3.0   \n",
              "\n",
              "   TaxiOut  Cancelled CancellationCode  Diverted  CarrierDelay  WeatherDelay  \\\n",
              "0      8.0          0              NaN         0           NaN           NaN   \n",
              "1     10.0          0              NaN         0           NaN           NaN   \n",
              "2     17.0          0              NaN         0           NaN           NaN   \n",
              "3      7.0          0              NaN         0           NaN           NaN   \n",
              "4     10.0          0              NaN         0           2.0           0.0   \n",
              "\n",
              "   NASDelay  SecurityDelay  LateAircraftDelay  \n",
              "0       NaN            NaN                NaN  \n",
              "1       NaN            NaN                NaN  \n",
              "2       NaN            NaN                NaN  \n",
              "3       NaN            NaN                NaN  \n",
              "4       0.0            0.0               32.0  "
            ]
          },
          "metadata": {
            "tags": []
          },
          "execution_count": 6
        }
      ]
    },
    {
      "metadata": {
        "id": "J5fKJpv4TtLg",
        "colab_type": "code",
        "colab": {
          "autoexec": {
            "startup": false,
            "wait_interval": 0
          },
          "base_uri": "https://localhost:8080/",
          "height": 224
        },
        "outputId": "9cde7cf5-ef75-4860-ca0b-fecc3f3da7e5",
        "executionInfo": {
          "status": "ok",
          "timestamp": 1526616393500,
          "user_tz": -420,
          "elapsed": 669,
          "user": {
            "displayName": "Bảo Trương Đình",
            "photoUrl": "//lh5.googleusercontent.com/-eC4QdQkyBTM/AAAAAAAAAAI/AAAAAAAAAFA/6sBa5lwoOX0/s50-c-k-no/photo.jpg",
            "userId": "102262295523043259192"
          }
        }
      },
      "cell_type": "code",
      "source": [
        "#Xem 5 dòng dữ liệu cuối cùng\n",
        "airline_arrival.tail()"
      ],
      "execution_count": 7,
      "outputs": [
        {
          "output_type": "execute_result",
          "data": {
            "text/html": [
              "<div>\n",
              "<style scoped>\n",
              "    .dataframe tbody tr th:only-of-type {\n",
              "        vertical-align: middle;\n",
              "    }\n",
              "\n",
              "    .dataframe tbody tr th {\n",
              "        vertical-align: top;\n",
              "    }\n",
              "\n",
              "    .dataframe thead th {\n",
              "        text-align: right;\n",
              "    }\n",
              "</style>\n",
              "<table border=\"1\" class=\"dataframe\">\n",
              "  <thead>\n",
              "    <tr style=\"text-align: right;\">\n",
              "      <th></th>\n",
              "      <th>Year</th>\n",
              "      <th>Month</th>\n",
              "      <th>DayofMonth</th>\n",
              "      <th>DayOfWeek</th>\n",
              "      <th>DepTime</th>\n",
              "      <th>CRSDepTime</th>\n",
              "      <th>ArrTime</th>\n",
              "      <th>CRSArrTime</th>\n",
              "      <th>UniqueCarrier</th>\n",
              "      <th>FlightNum</th>\n",
              "      <th>TailNum</th>\n",
              "      <th>ActualElapsedTime</th>\n",
              "      <th>CRSElapsedTime</th>\n",
              "      <th>AirTime</th>\n",
              "      <th>ArrDelay</th>\n",
              "      <th>DepDelay</th>\n",
              "      <th>Origin</th>\n",
              "      <th>Dest</th>\n",
              "      <th>Distance</th>\n",
              "      <th>TaxiIn</th>\n",
              "      <th>TaxiOut</th>\n",
              "      <th>Cancelled</th>\n",
              "      <th>CancellationCode</th>\n",
              "      <th>Diverted</th>\n",
              "      <th>CarrierDelay</th>\n",
              "      <th>WeatherDelay</th>\n",
              "      <th>NASDelay</th>\n",
              "      <th>SecurityDelay</th>\n",
              "      <th>LateAircraftDelay</th>\n",
              "    </tr>\n",
              "  </thead>\n",
              "  <tbody>\n",
              "    <tr>\n",
              "      <th>7009723</th>\n",
              "      <td>2008</td>\n",
              "      <td>12</td>\n",
              "      <td>13</td>\n",
              "      <td>6</td>\n",
              "      <td>1002.0</td>\n",
              "      <td>959</td>\n",
              "      <td>1204.0</td>\n",
              "      <td>1150</td>\n",
              "      <td>DL</td>\n",
              "      <td>1636</td>\n",
              "      <td>N646DL</td>\n",
              "      <td>122.0</td>\n",
              "      <td>111.0</td>\n",
              "      <td>71.0</td>\n",
              "      <td>14.0</td>\n",
              "      <td>3.0</td>\n",
              "      <td>ATL</td>\n",
              "      <td>IAD</td>\n",
              "      <td>533</td>\n",
              "      <td>6.0</td>\n",
              "      <td>45.0</td>\n",
              "      <td>0</td>\n",
              "      <td>NaN</td>\n",
              "      <td>0</td>\n",
              "      <td>NaN</td>\n",
              "      <td>NaN</td>\n",
              "      <td>NaN</td>\n",
              "      <td>NaN</td>\n",
              "      <td>NaN</td>\n",
              "    </tr>\n",
              "    <tr>\n",
              "      <th>7009724</th>\n",
              "      <td>2008</td>\n",
              "      <td>12</td>\n",
              "      <td>13</td>\n",
              "      <td>6</td>\n",
              "      <td>834.0</td>\n",
              "      <td>835</td>\n",
              "      <td>1021.0</td>\n",
              "      <td>1023</td>\n",
              "      <td>DL</td>\n",
              "      <td>1637</td>\n",
              "      <td>N908DL</td>\n",
              "      <td>167.0</td>\n",
              "      <td>168.0</td>\n",
              "      <td>139.0</td>\n",
              "      <td>-2.0</td>\n",
              "      <td>-1.0</td>\n",
              "      <td>ATL</td>\n",
              "      <td>SAT</td>\n",
              "      <td>874</td>\n",
              "      <td>5.0</td>\n",
              "      <td>23.0</td>\n",
              "      <td>0</td>\n",
              "      <td>NaN</td>\n",
              "      <td>0</td>\n",
              "      <td>NaN</td>\n",
              "      <td>NaN</td>\n",
              "      <td>NaN</td>\n",
              "      <td>NaN</td>\n",
              "      <td>NaN</td>\n",
              "    </tr>\n",
              "    <tr>\n",
              "      <th>7009725</th>\n",
              "      <td>2008</td>\n",
              "      <td>12</td>\n",
              "      <td>13</td>\n",
              "      <td>6</td>\n",
              "      <td>655.0</td>\n",
              "      <td>700</td>\n",
              "      <td>856.0</td>\n",
              "      <td>856</td>\n",
              "      <td>DL</td>\n",
              "      <td>1638</td>\n",
              "      <td>N671DN</td>\n",
              "      <td>121.0</td>\n",
              "      <td>116.0</td>\n",
              "      <td>85.0</td>\n",
              "      <td>0.0</td>\n",
              "      <td>-5.0</td>\n",
              "      <td>PBI</td>\n",
              "      <td>ATL</td>\n",
              "      <td>545</td>\n",
              "      <td>24.0</td>\n",
              "      <td>12.0</td>\n",
              "      <td>0</td>\n",
              "      <td>NaN</td>\n",
              "      <td>0</td>\n",
              "      <td>NaN</td>\n",
              "      <td>NaN</td>\n",
              "      <td>NaN</td>\n",
              "      <td>NaN</td>\n",
              "      <td>NaN</td>\n",
              "    </tr>\n",
              "    <tr>\n",
              "      <th>7009726</th>\n",
              "      <td>2008</td>\n",
              "      <td>12</td>\n",
              "      <td>13</td>\n",
              "      <td>6</td>\n",
              "      <td>1251.0</td>\n",
              "      <td>1240</td>\n",
              "      <td>1446.0</td>\n",
              "      <td>1437</td>\n",
              "      <td>DL</td>\n",
              "      <td>1639</td>\n",
              "      <td>N646DL</td>\n",
              "      <td>115.0</td>\n",
              "      <td>117.0</td>\n",
              "      <td>89.0</td>\n",
              "      <td>9.0</td>\n",
              "      <td>11.0</td>\n",
              "      <td>IAD</td>\n",
              "      <td>ATL</td>\n",
              "      <td>533</td>\n",
              "      <td>13.0</td>\n",
              "      <td>13.0</td>\n",
              "      <td>0</td>\n",
              "      <td>NaN</td>\n",
              "      <td>0</td>\n",
              "      <td>NaN</td>\n",
              "      <td>NaN</td>\n",
              "      <td>NaN</td>\n",
              "      <td>NaN</td>\n",
              "      <td>NaN</td>\n",
              "    </tr>\n",
              "    <tr>\n",
              "      <th>7009727</th>\n",
              "      <td>2008</td>\n",
              "      <td>12</td>\n",
              "      <td>13</td>\n",
              "      <td>6</td>\n",
              "      <td>1110.0</td>\n",
              "      <td>1103</td>\n",
              "      <td>1413.0</td>\n",
              "      <td>1418</td>\n",
              "      <td>DL</td>\n",
              "      <td>1641</td>\n",
              "      <td>N908DL</td>\n",
              "      <td>123.0</td>\n",
              "      <td>135.0</td>\n",
              "      <td>104.0</td>\n",
              "      <td>-5.0</td>\n",
              "      <td>7.0</td>\n",
              "      <td>SAT</td>\n",
              "      <td>ATL</td>\n",
              "      <td>874</td>\n",
              "      <td>8.0</td>\n",
              "      <td>11.0</td>\n",
              "      <td>0</td>\n",
              "      <td>NaN</td>\n",
              "      <td>0</td>\n",
              "      <td>NaN</td>\n",
              "      <td>NaN</td>\n",
              "      <td>NaN</td>\n",
              "      <td>NaN</td>\n",
              "      <td>NaN</td>\n",
              "    </tr>\n",
              "  </tbody>\n",
              "</table>\n",
              "</div>"
            ],
            "text/plain": [
              "         Year  Month  DayofMonth  DayOfWeek  DepTime  CRSDepTime  ArrTime  \\\n",
              "7009723  2008     12          13          6   1002.0         959   1204.0   \n",
              "7009724  2008     12          13          6    834.0         835   1021.0   \n",
              "7009725  2008     12          13          6    655.0         700    856.0   \n",
              "7009726  2008     12          13          6   1251.0        1240   1446.0   \n",
              "7009727  2008     12          13          6   1110.0        1103   1413.0   \n",
              "\n",
              "         CRSArrTime UniqueCarrier  FlightNum TailNum  ActualElapsedTime  \\\n",
              "7009723        1150            DL       1636  N646DL              122.0   \n",
              "7009724        1023            DL       1637  N908DL              167.0   \n",
              "7009725         856            DL       1638  N671DN              121.0   \n",
              "7009726        1437            DL       1639  N646DL              115.0   \n",
              "7009727        1418            DL       1641  N908DL              123.0   \n",
              "\n",
              "         CRSElapsedTime  AirTime  ArrDelay  DepDelay Origin Dest  Distance  \\\n",
              "7009723           111.0     71.0      14.0       3.0    ATL  IAD       533   \n",
              "7009724           168.0    139.0      -2.0      -1.0    ATL  SAT       874   \n",
              "7009725           116.0     85.0       0.0      -5.0    PBI  ATL       545   \n",
              "7009726           117.0     89.0       9.0      11.0    IAD  ATL       533   \n",
              "7009727           135.0    104.0      -5.0       7.0    SAT  ATL       874   \n",
              "\n",
              "         TaxiIn  TaxiOut  Cancelled CancellationCode  Diverted  CarrierDelay  \\\n",
              "7009723     6.0     45.0          0              NaN         0           NaN   \n",
              "7009724     5.0     23.0          0              NaN         0           NaN   \n",
              "7009725    24.0     12.0          0              NaN         0           NaN   \n",
              "7009726    13.0     13.0          0              NaN         0           NaN   \n",
              "7009727     8.0     11.0          0              NaN         0           NaN   \n",
              "\n",
              "         WeatherDelay  NASDelay  SecurityDelay  LateAircraftDelay  \n",
              "7009723           NaN       NaN            NaN                NaN  \n",
              "7009724           NaN       NaN            NaN                NaN  \n",
              "7009725           NaN       NaN            NaN                NaN  \n",
              "7009726           NaN       NaN            NaN                NaN  \n",
              "7009727           NaN       NaN            NaN                NaN  "
            ]
          },
          "metadata": {
            "tags": []
          },
          "execution_count": 7
        }
      ]
    },
    {
      "metadata": {
        "id": "JpswxssTTtLq",
        "colab_type": "code",
        "colab": {
          "autoexec": {
            "startup": false,
            "wait_interval": 0
          },
          "base_uri": "https://localhost:8080/",
          "height": 34
        },
        "outputId": "2f092c4e-c1e7-4abd-8d2a-b76e68c78fc9",
        "executionInfo": {
          "status": "ok",
          "timestamp": 1526616397270,
          "user_tz": -420,
          "elapsed": 740,
          "user": {
            "displayName": "Bảo Trương Đình",
            "photoUrl": "//lh5.googleusercontent.com/-eC4QdQkyBTM/AAAAAAAAAAI/AAAAAAAAAFA/6sBa5lwoOX0/s50-c-k-no/photo.jpg",
            "userId": "102262295523043259192"
          }
        }
      },
      "cell_type": "code",
      "source": [
        "#Xem số dòng, số cột của dataframe\n",
        "airline_arrival.shape"
      ],
      "execution_count": 8,
      "outputs": [
        {
          "output_type": "execute_result",
          "data": {
            "text/plain": [
              "(7009728, 29)"
            ]
          },
          "metadata": {
            "tags": []
          },
          "execution_count": 8
        }
      ]
    },
    {
      "metadata": {
        "id": "yNw7qXptTtL4",
        "colab_type": "code",
        "colab": {
          "autoexec": {
            "startup": false,
            "wait_interval": 0
          }
        }
      },
      "cell_type": "code",
      "source": [
        "# airline_arrival_pos = airline_arrival[airline_arrival['Cancelled'] == 1]\n",
        "# airline_arrival_neutral = airline_arrival[airline_arrival['Cancelled'] == 0].sample(n=1009728, random_state=50)"
      ],
      "execution_count": 0,
      "outputs": []
    },
    {
      "metadata": {
        "id": "dn3BXTVdTtL_",
        "colab_type": "code",
        "colab": {
          "autoexec": {
            "startup": false,
            "wait_interval": 0
          }
        },
        "outputId": "84e494df-c418-4943-a21a-7e83d7249720"
      },
      "cell_type": "code",
      "source": [
        "# airline_arrival_pos.shape"
      ],
      "execution_count": 0,
      "outputs": [
        {
          "output_type": "execute_result",
          "data": {
            "text/plain": [
              "(137434, 29)"
            ]
          },
          "metadata": {
            "tags": []
          },
          "execution_count": 7
        }
      ]
    },
    {
      "metadata": {
        "id": "QZS9YQvtTtMI",
        "colab_type": "code",
        "colab": {
          "autoexec": {
            "startup": false,
            "wait_interval": 0
          }
        }
      },
      "cell_type": "code",
      "source": [
        "# airline_arrival = airline_arrival_pos.append(airline_arrival_neutral);"
      ],
      "execution_count": 0,
      "outputs": []
    },
    {
      "metadata": {
        "id": "g7uIpk9tTtMQ",
        "colab_type": "code",
        "colab": {
          "autoexec": {
            "startup": false,
            "wait_interval": 0
          },
          "base_uri": "https://localhost:8080/",
          "height": 136
        },
        "outputId": "88fc7c12-972c-4000-d91a-ea42cfe289ff",
        "executionInfo": {
          "status": "ok",
          "timestamp": 1526616401970,
          "user_tz": -420,
          "elapsed": 696,
          "user": {
            "displayName": "Bảo Trương Đình",
            "photoUrl": "//lh5.googleusercontent.com/-eC4QdQkyBTM/AAAAAAAAAAI/AAAAAAAAAFA/6sBa5lwoOX0/s50-c-k-no/photo.jpg",
            "userId": "102262295523043259192"
          }
        }
      },
      "cell_type": "code",
      "source": [
        "airline_arrival.columns"
      ],
      "execution_count": 9,
      "outputs": [
        {
          "output_type": "execute_result",
          "data": {
            "text/plain": [
              "Index(['Year', 'Month', 'DayofMonth', 'DayOfWeek', 'DepTime', 'CRSDepTime',\n",
              "       'ArrTime', 'CRSArrTime', 'UniqueCarrier', 'FlightNum', 'TailNum',\n",
              "       'ActualElapsedTime', 'CRSElapsedTime', 'AirTime', 'ArrDelay',\n",
              "       'DepDelay', 'Origin', 'Dest', 'Distance', 'TaxiIn', 'TaxiOut',\n",
              "       'Cancelled', 'CancellationCode', 'Diverted', 'CarrierDelay',\n",
              "       'WeatherDelay', 'NASDelay', 'SecurityDelay', 'LateAircraftDelay'],\n",
              "      dtype='object')"
            ]
          },
          "metadata": {
            "tags": []
          },
          "execution_count": 9
        }
      ]
    },
    {
      "metadata": {
        "id": "XlyI_l2oTtMa",
        "colab_type": "code",
        "colab": {
          "autoexec": {
            "startup": false,
            "wait_interval": 0
          }
        }
      },
      "cell_type": "code",
      "source": [
        "airline_arrival['target'] = np.where(airline_arrival.eval(\"ArrDelay >= 30\"), 1, 0)"
      ],
      "execution_count": 0,
      "outputs": []
    },
    {
      "metadata": {
        "id": "RZTEqGrZTtMh",
        "colab_type": "code",
        "colab": {
          "autoexec": {
            "startup": false,
            "wait_interval": 0
          },
          "base_uri": "https://localhost:8080/",
          "height": 68
        },
        "outputId": "4e8d2c09-a791-4305-cb89-09c34a6f9da0",
        "executionInfo": {
          "status": "ok",
          "timestamp": 1526616408453,
          "user_tz": -420,
          "elapsed": 693,
          "user": {
            "displayName": "Bảo Trương Đình",
            "photoUrl": "//lh5.googleusercontent.com/-eC4QdQkyBTM/AAAAAAAAAAI/AAAAAAAAAFA/6sBa5lwoOX0/s50-c-k-no/photo.jpg",
            "userId": "102262295523043259192"
          }
        }
      },
      "cell_type": "code",
      "source": [
        "airline_arrival['target'].value_counts()"
      ],
      "execution_count": 11,
      "outputs": [
        {
          "output_type": "execute_result",
          "data": {
            "text/plain": [
              "0    6082313\n",
              "1     927415\n",
              "Name: target, dtype: int64"
            ]
          },
          "metadata": {
            "tags": []
          },
          "execution_count": 11
        }
      ]
    },
    {
      "metadata": {
        "id": "D5j74h66TtM0",
        "colab_type": "code",
        "colab": {
          "autoexec": {
            "startup": false,
            "wait_interval": 0
          },
          "base_uri": "https://localhost:8080/",
          "height": 34
        },
        "outputId": "a7df0f49-1d4b-4ab0-c371-ab91ddd653a8",
        "executionInfo": {
          "status": "ok",
          "timestamp": 1526616412008,
          "user_tz": -420,
          "elapsed": 1366,
          "user": {
            "displayName": "Bảo Trương Đình",
            "photoUrl": "//lh5.googleusercontent.com/-eC4QdQkyBTM/AAAAAAAAAAI/AAAAAAAAAFA/6sBa5lwoOX0/s50-c-k-no/photo.jpg",
            "userId": "102262295523043259192"
          }
        }
      },
      "cell_type": "code",
      "source": [
        "airline_arrival[airline_arrival['ArrDelay']>= 30].shape"
      ],
      "execution_count": 12,
      "outputs": [
        {
          "output_type": "execute_result",
          "data": {
            "text/plain": [
              "(927415, 30)"
            ]
          },
          "metadata": {
            "tags": []
          },
          "execution_count": 12
        }
      ]
    },
    {
      "metadata": {
        "id": "yrZjkJ-YTtM_",
        "colab_type": "code",
        "colab": {
          "autoexec": {
            "startup": false,
            "wait_interval": 0
          },
          "base_uri": "https://localhost:8080/",
          "height": 824
        },
        "outputId": "63f37772-a64b-4577-eba0-05513fe8398b",
        "executionInfo": {
          "status": "ok",
          "timestamp": 1526616431082,
          "user_tz": -420,
          "elapsed": 15648,
          "user": {
            "displayName": "Bảo Trương Đình",
            "photoUrl": "//lh5.googleusercontent.com/-eC4QdQkyBTM/AAAAAAAAAAI/AAAAAAAAAFA/6sBa5lwoOX0/s50-c-k-no/photo.jpg",
            "userId": "102262295523043259192"
          }
        }
      },
      "cell_type": "code",
      "source": [
        "airline_arrival.describe().T"
      ],
      "execution_count": 13,
      "outputs": [
        {
          "output_type": "execute_result",
          "data": {
            "text/html": [
              "<div>\n",
              "<style scoped>\n",
              "    .dataframe tbody tr th:only-of-type {\n",
              "        vertical-align: middle;\n",
              "    }\n",
              "\n",
              "    .dataframe tbody tr th {\n",
              "        vertical-align: top;\n",
              "    }\n",
              "\n",
              "    .dataframe thead th {\n",
              "        text-align: right;\n",
              "    }\n",
              "</style>\n",
              "<table border=\"1\" class=\"dataframe\">\n",
              "  <thead>\n",
              "    <tr style=\"text-align: right;\">\n",
              "      <th></th>\n",
              "      <th>count</th>\n",
              "      <th>mean</th>\n",
              "      <th>std</th>\n",
              "      <th>min</th>\n",
              "      <th>25%</th>\n",
              "      <th>50%</th>\n",
              "      <th>75%</th>\n",
              "      <th>max</th>\n",
              "    </tr>\n",
              "  </thead>\n",
              "  <tbody>\n",
              "    <tr>\n",
              "      <th>Year</th>\n",
              "      <td>7009728.0</td>\n",
              "      <td>2008.000000</td>\n",
              "      <td>0.000000</td>\n",
              "      <td>2008.0</td>\n",
              "      <td>2008.0</td>\n",
              "      <td>2008.0</td>\n",
              "      <td>2008.0</td>\n",
              "      <td>2008.0</td>\n",
              "    </tr>\n",
              "    <tr>\n",
              "      <th>Month</th>\n",
              "      <td>7009728.0</td>\n",
              "      <td>6.375130</td>\n",
              "      <td>3.406737</td>\n",
              "      <td>1.0</td>\n",
              "      <td>3.0</td>\n",
              "      <td>6.0</td>\n",
              "      <td>9.0</td>\n",
              "      <td>12.0</td>\n",
              "    </tr>\n",
              "    <tr>\n",
              "      <th>DayofMonth</th>\n",
              "      <td>7009728.0</td>\n",
              "      <td>15.728015</td>\n",
              "      <td>8.797068</td>\n",
              "      <td>1.0</td>\n",
              "      <td>8.0</td>\n",
              "      <td>16.0</td>\n",
              "      <td>23.0</td>\n",
              "      <td>31.0</td>\n",
              "    </tr>\n",
              "    <tr>\n",
              "      <th>DayOfWeek</th>\n",
              "      <td>7009728.0</td>\n",
              "      <td>3.924182</td>\n",
              "      <td>1.988259</td>\n",
              "      <td>1.0</td>\n",
              "      <td>2.0</td>\n",
              "      <td>4.0</td>\n",
              "      <td>6.0</td>\n",
              "      <td>7.0</td>\n",
              "    </tr>\n",
              "    <tr>\n",
              "      <th>DepTime</th>\n",
              "      <td>6873482.0</td>\n",
              "      <td>1333.830046</td>\n",
              "      <td>478.068895</td>\n",
              "      <td>1.0</td>\n",
              "      <td>928.0</td>\n",
              "      <td>1325.0</td>\n",
              "      <td>1728.0</td>\n",
              "      <td>2400.0</td>\n",
              "    </tr>\n",
              "    <tr>\n",
              "      <th>CRSDepTime</th>\n",
              "      <td>7009728.0</td>\n",
              "      <td>1326.085663</td>\n",
              "      <td>464.250911</td>\n",
              "      <td>0.0</td>\n",
              "      <td>925.0</td>\n",
              "      <td>1320.0</td>\n",
              "      <td>1715.0</td>\n",
              "      <td>2359.0</td>\n",
              "    </tr>\n",
              "    <tr>\n",
              "      <th>ArrTime</th>\n",
              "      <td>6858079.0</td>\n",
              "      <td>1481.258227</td>\n",
              "      <td>505.225129</td>\n",
              "      <td>1.0</td>\n",
              "      <td>1107.0</td>\n",
              "      <td>1512.0</td>\n",
              "      <td>1909.0</td>\n",
              "      <td>2400.0</td>\n",
              "    </tr>\n",
              "    <tr>\n",
              "      <th>CRSArrTime</th>\n",
              "      <td>7009728.0</td>\n",
              "      <td>1494.801154</td>\n",
              "      <td>482.672822</td>\n",
              "      <td>0.0</td>\n",
              "      <td>1115.0</td>\n",
              "      <td>1517.0</td>\n",
              "      <td>1907.0</td>\n",
              "      <td>2400.0</td>\n",
              "    </tr>\n",
              "    <tr>\n",
              "      <th>FlightNum</th>\n",
              "      <td>7009728.0</td>\n",
              "      <td>2224.200105</td>\n",
              "      <td>1961.715999</td>\n",
              "      <td>1.0</td>\n",
              "      <td>622.0</td>\n",
              "      <td>1571.0</td>\n",
              "      <td>3518.0</td>\n",
              "      <td>9743.0</td>\n",
              "    </tr>\n",
              "    <tr>\n",
              "      <th>ActualElapsedTime</th>\n",
              "      <td>6855029.0</td>\n",
              "      <td>127.322424</td>\n",
              "      <td>70.187308</td>\n",
              "      <td>12.0</td>\n",
              "      <td>77.0</td>\n",
              "      <td>110.0</td>\n",
              "      <td>157.0</td>\n",
              "      <td>1379.0</td>\n",
              "    </tr>\n",
              "    <tr>\n",
              "      <th>CRSElapsedTime</th>\n",
              "      <td>7008884.0</td>\n",
              "      <td>128.866794</td>\n",
              "      <td>69.409736</td>\n",
              "      <td>-141.0</td>\n",
              "      <td>80.0</td>\n",
              "      <td>110.0</td>\n",
              "      <td>159.0</td>\n",
              "      <td>1435.0</td>\n",
              "    </tr>\n",
              "    <tr>\n",
              "      <th>AirTime</th>\n",
              "      <td>6855029.0</td>\n",
              "      <td>104.018589</td>\n",
              "      <td>67.439796</td>\n",
              "      <td>0.0</td>\n",
              "      <td>55.0</td>\n",
              "      <td>86.0</td>\n",
              "      <td>132.0</td>\n",
              "      <td>1350.0</td>\n",
              "    </tr>\n",
              "    <tr>\n",
              "      <th>ArrDelay</th>\n",
              "      <td>6855029.0</td>\n",
              "      <td>8.168452</td>\n",
              "      <td>38.501937</td>\n",
              "      <td>-519.0</td>\n",
              "      <td>-10.0</td>\n",
              "      <td>-2.0</td>\n",
              "      <td>12.0</td>\n",
              "      <td>2461.0</td>\n",
              "    </tr>\n",
              "    <tr>\n",
              "      <th>DepDelay</th>\n",
              "      <td>6873482.0</td>\n",
              "      <td>9.972570</td>\n",
              "      <td>35.311271</td>\n",
              "      <td>-534.0</td>\n",
              "      <td>-4.0</td>\n",
              "      <td>-1.0</td>\n",
              "      <td>8.0</td>\n",
              "      <td>2467.0</td>\n",
              "    </tr>\n",
              "    <tr>\n",
              "      <th>Distance</th>\n",
              "      <td>7009728.0</td>\n",
              "      <td>726.387029</td>\n",
              "      <td>562.101803</td>\n",
              "      <td>11.0</td>\n",
              "      <td>325.0</td>\n",
              "      <td>581.0</td>\n",
              "      <td>954.0</td>\n",
              "      <td>4962.0</td>\n",
              "    </tr>\n",
              "    <tr>\n",
              "      <th>TaxiIn</th>\n",
              "      <td>6858079.0</td>\n",
              "      <td>6.860852</td>\n",
              "      <td>4.933649</td>\n",
              "      <td>0.0</td>\n",
              "      <td>4.0</td>\n",
              "      <td>6.0</td>\n",
              "      <td>8.0</td>\n",
              "      <td>308.0</td>\n",
              "    </tr>\n",
              "    <tr>\n",
              "      <th>TaxiOut</th>\n",
              "      <td>6872670.0</td>\n",
              "      <td>16.453045</td>\n",
              "      <td>11.332799</td>\n",
              "      <td>0.0</td>\n",
              "      <td>10.0</td>\n",
              "      <td>14.0</td>\n",
              "      <td>19.0</td>\n",
              "      <td>429.0</td>\n",
              "    </tr>\n",
              "    <tr>\n",
              "      <th>Cancelled</th>\n",
              "      <td>7009728.0</td>\n",
              "      <td>0.019606</td>\n",
              "      <td>0.138643</td>\n",
              "      <td>0.0</td>\n",
              "      <td>0.0</td>\n",
              "      <td>0.0</td>\n",
              "      <td>0.0</td>\n",
              "      <td>1.0</td>\n",
              "    </tr>\n",
              "    <tr>\n",
              "      <th>Diverted</th>\n",
              "      <td>7009728.0</td>\n",
              "      <td>0.002463</td>\n",
              "      <td>0.049568</td>\n",
              "      <td>0.0</td>\n",
              "      <td>0.0</td>\n",
              "      <td>0.0</td>\n",
              "      <td>0.0</td>\n",
              "      <td>1.0</td>\n",
              "    </tr>\n",
              "    <tr>\n",
              "      <th>CarrierDelay</th>\n",
              "      <td>1524735.0</td>\n",
              "      <td>15.772063</td>\n",
              "      <td>40.099116</td>\n",
              "      <td>0.0</td>\n",
              "      <td>0.0</td>\n",
              "      <td>0.0</td>\n",
              "      <td>16.0</td>\n",
              "      <td>2436.0</td>\n",
              "    </tr>\n",
              "    <tr>\n",
              "      <th>WeatherDelay</th>\n",
              "      <td>1524735.0</td>\n",
              "      <td>3.039031</td>\n",
              "      <td>19.502874</td>\n",
              "      <td>0.0</td>\n",
              "      <td>0.0</td>\n",
              "      <td>0.0</td>\n",
              "      <td>0.0</td>\n",
              "      <td>1352.0</td>\n",
              "    </tr>\n",
              "    <tr>\n",
              "      <th>NASDelay</th>\n",
              "      <td>1524735.0</td>\n",
              "      <td>17.164623</td>\n",
              "      <td>31.894955</td>\n",
              "      <td>0.0</td>\n",
              "      <td>0.0</td>\n",
              "      <td>6.0</td>\n",
              "      <td>21.0</td>\n",
              "      <td>1357.0</td>\n",
              "    </tr>\n",
              "    <tr>\n",
              "      <th>SecurityDelay</th>\n",
              "      <td>1524735.0</td>\n",
              "      <td>0.074974</td>\n",
              "      <td>1.837940</td>\n",
              "      <td>0.0</td>\n",
              "      <td>0.0</td>\n",
              "      <td>0.0</td>\n",
              "      <td>0.0</td>\n",
              "      <td>392.0</td>\n",
              "    </tr>\n",
              "    <tr>\n",
              "      <th>LateAircraftDelay</th>\n",
              "      <td>1524735.0</td>\n",
              "      <td>20.770981</td>\n",
              "      <td>39.259636</td>\n",
              "      <td>0.0</td>\n",
              "      <td>0.0</td>\n",
              "      <td>0.0</td>\n",
              "      <td>26.0</td>\n",
              "      <td>1316.0</td>\n",
              "    </tr>\n",
              "    <tr>\n",
              "      <th>target</th>\n",
              "      <td>7009728.0</td>\n",
              "      <td>0.132304</td>\n",
              "      <td>0.338821</td>\n",
              "      <td>0.0</td>\n",
              "      <td>0.0</td>\n",
              "      <td>0.0</td>\n",
              "      <td>0.0</td>\n",
              "      <td>1.0</td>\n",
              "    </tr>\n",
              "  </tbody>\n",
              "</table>\n",
              "</div>"
            ],
            "text/plain": [
              "                       count         mean          std     min     25%  \\\n",
              "Year               7009728.0  2008.000000     0.000000  2008.0  2008.0   \n",
              "Month              7009728.0     6.375130     3.406737     1.0     3.0   \n",
              "DayofMonth         7009728.0    15.728015     8.797068     1.0     8.0   \n",
              "DayOfWeek          7009728.0     3.924182     1.988259     1.0     2.0   \n",
              "DepTime            6873482.0  1333.830046   478.068895     1.0   928.0   \n",
              "CRSDepTime         7009728.0  1326.085663   464.250911     0.0   925.0   \n",
              "ArrTime            6858079.0  1481.258227   505.225129     1.0  1107.0   \n",
              "CRSArrTime         7009728.0  1494.801154   482.672822     0.0  1115.0   \n",
              "FlightNum          7009728.0  2224.200105  1961.715999     1.0   622.0   \n",
              "ActualElapsedTime  6855029.0   127.322424    70.187308    12.0    77.0   \n",
              "CRSElapsedTime     7008884.0   128.866794    69.409736  -141.0    80.0   \n",
              "AirTime            6855029.0   104.018589    67.439796     0.0    55.0   \n",
              "ArrDelay           6855029.0     8.168452    38.501937  -519.0   -10.0   \n",
              "DepDelay           6873482.0     9.972570    35.311271  -534.0    -4.0   \n",
              "Distance           7009728.0   726.387029   562.101803    11.0   325.0   \n",
              "TaxiIn             6858079.0     6.860852     4.933649     0.0     4.0   \n",
              "TaxiOut            6872670.0    16.453045    11.332799     0.0    10.0   \n",
              "Cancelled          7009728.0     0.019606     0.138643     0.0     0.0   \n",
              "Diverted           7009728.0     0.002463     0.049568     0.0     0.0   \n",
              "CarrierDelay       1524735.0    15.772063    40.099116     0.0     0.0   \n",
              "WeatherDelay       1524735.0     3.039031    19.502874     0.0     0.0   \n",
              "NASDelay           1524735.0    17.164623    31.894955     0.0     0.0   \n",
              "SecurityDelay      1524735.0     0.074974     1.837940     0.0     0.0   \n",
              "LateAircraftDelay  1524735.0    20.770981    39.259636     0.0     0.0   \n",
              "target             7009728.0     0.132304     0.338821     0.0     0.0   \n",
              "\n",
              "                      50%     75%     max  \n",
              "Year               2008.0  2008.0  2008.0  \n",
              "Month                 6.0     9.0    12.0  \n",
              "DayofMonth           16.0    23.0    31.0  \n",
              "DayOfWeek             4.0     6.0     7.0  \n",
              "DepTime            1325.0  1728.0  2400.0  \n",
              "CRSDepTime         1320.0  1715.0  2359.0  \n",
              "ArrTime            1512.0  1909.0  2400.0  \n",
              "CRSArrTime         1517.0  1907.0  2400.0  \n",
              "FlightNum          1571.0  3518.0  9743.0  \n",
              "ActualElapsedTime   110.0   157.0  1379.0  \n",
              "CRSElapsedTime      110.0   159.0  1435.0  \n",
              "AirTime              86.0   132.0  1350.0  \n",
              "ArrDelay             -2.0    12.0  2461.0  \n",
              "DepDelay             -1.0     8.0  2467.0  \n",
              "Distance            581.0   954.0  4962.0  \n",
              "TaxiIn                6.0     8.0   308.0  \n",
              "TaxiOut              14.0    19.0   429.0  \n",
              "Cancelled             0.0     0.0     1.0  \n",
              "Diverted              0.0     0.0     1.0  \n",
              "CarrierDelay          0.0    16.0  2436.0  \n",
              "WeatherDelay          0.0     0.0  1352.0  \n",
              "NASDelay              6.0    21.0  1357.0  \n",
              "SecurityDelay         0.0     0.0   392.0  \n",
              "LateAircraftDelay     0.0    26.0  1316.0  \n",
              "target                0.0     0.0     1.0  "
            ]
          },
          "metadata": {
            "tags": []
          },
          "execution_count": 13
        }
      ]
    },
    {
      "metadata": {
        "id": "9hgNgsnfTtNJ",
        "colab_type": "text"
      },
      "cell_type": "markdown",
      "source": [
        "## Data cleaning"
      ]
    },
    {
      "metadata": {
        "id": "RMm_qBI5TtNM",
        "colab_type": "code",
        "colab": {
          "autoexec": {
            "startup": false,
            "wait_interval": 0
          },
          "base_uri": "https://localhost:8080/",
          "height": 544
        },
        "outputId": "ba312ca4-3ffa-49e6-c871-4b3b6bb27096",
        "executionInfo": {
          "status": "ok",
          "timestamp": 1526616473174,
          "user_tz": -420,
          "elapsed": 5203,
          "user": {
            "displayName": "Bảo Trương Đình",
            "photoUrl": "//lh5.googleusercontent.com/-eC4QdQkyBTM/AAAAAAAAAAI/AAAAAAAAAFA/6sBa5lwoOX0/s50-c-k-no/photo.jpg",
            "userId": "102262295523043259192"
          }
        }
      },
      "cell_type": "code",
      "source": [
        "# Số lượng điểm data bị thiếu trên mỗi cột\n",
        "missing_values_count = airline_arrival.isnull().sum()\n",
        "\n",
        "# Số lượng điểm data bị thiếu trên mỗi cột của 10 cột đầu\n",
        "missing_values_count"
      ],
      "execution_count": 14,
      "outputs": [
        {
          "output_type": "execute_result",
          "data": {
            "text/plain": [
              "Year                       0\n",
              "Month                      0\n",
              "DayofMonth                 0\n",
              "DayOfWeek                  0\n",
              "DepTime               136246\n",
              "CRSDepTime                 0\n",
              "ArrTime               151649\n",
              "CRSArrTime                 0\n",
              "UniqueCarrier              0\n",
              "FlightNum                  0\n",
              "TailNum                83365\n",
              "ActualElapsedTime     154699\n",
              "CRSElapsedTime           844\n",
              "AirTime               154699\n",
              "ArrDelay              154699\n",
              "DepDelay              136246\n",
              "Origin                     0\n",
              "Dest                       0\n",
              "Distance                   0\n",
              "TaxiIn                151649\n",
              "TaxiOut               137058\n",
              "Cancelled                  0\n",
              "CancellationCode     6872294\n",
              "Diverted                   0\n",
              "CarrierDelay         5484993\n",
              "WeatherDelay         5484993\n",
              "NASDelay             5484993\n",
              "SecurityDelay        5484993\n",
              "LateAircraftDelay    5484993\n",
              "target                     0\n",
              "dtype: int64"
            ]
          },
          "metadata": {
            "tags": []
          },
          "execution_count": 14
        }
      ]
    },
    {
      "metadata": {
        "id": "iesBN18sTtNW",
        "colab_type": "code",
        "colab": {
          "autoexec": {
            "startup": false,
            "wait_interval": 0
          }
        }
      },
      "cell_type": "code",
      "source": [
        "airline_arrival = airline_arrival[airline_arrival['ArrDelay'].notnull()]"
      ],
      "execution_count": 0,
      "outputs": []
    },
    {
      "metadata": {
        "id": "uUfDR_7WTtNf",
        "colab_type": "code",
        "colab": {
          "autoexec": {
            "startup": false,
            "wait_interval": 0
          },
          "base_uri": "https://localhost:8080/",
          "height": 544
        },
        "outputId": "97327e82-0ea7-43ef-a1e3-68cec033d5d8",
        "executionInfo": {
          "status": "ok",
          "timestamp": 1526616528004,
          "user_tz": -420,
          "elapsed": 6091,
          "user": {
            "displayName": "Bảo Trương Đình",
            "photoUrl": "//lh5.googleusercontent.com/-eC4QdQkyBTM/AAAAAAAAAAI/AAAAAAAAAFA/6sBa5lwoOX0/s50-c-k-no/photo.jpg",
            "userId": "102262295523043259192"
          }
        }
      },
      "cell_type": "code",
      "source": [
        "# Số lượng điểm data bị thiếu trên mỗi cột\n",
        "missing_values_count = airline_arrival.isnull().sum()\n",
        "\n",
        "# Số lượng điểm data bị thiếu trên mỗi cột của 10 cột đầu\n",
        "missing_values_count"
      ],
      "execution_count": 16,
      "outputs": [
        {
          "output_type": "execute_result",
          "data": {
            "text/plain": [
              "Year                       0\n",
              "Month                      0\n",
              "DayofMonth                 0\n",
              "DayOfWeek                  0\n",
              "DepTime                    0\n",
              "CRSDepTime                 0\n",
              "ArrTime                    0\n",
              "CRSArrTime                 0\n",
              "UniqueCarrier              0\n",
              "FlightNum                  0\n",
              "TailNum                    5\n",
              "ActualElapsedTime          0\n",
              "CRSElapsedTime             0\n",
              "AirTime                    0\n",
              "ArrDelay                   0\n",
              "DepDelay                   0\n",
              "Origin                     0\n",
              "Dest                       0\n",
              "Distance                   0\n",
              "TaxiIn                     0\n",
              "TaxiOut                    0\n",
              "Cancelled                  0\n",
              "CancellationCode     6855029\n",
              "Diverted                   0\n",
              "CarrierDelay         5330294\n",
              "WeatherDelay         5330294\n",
              "NASDelay             5330294\n",
              "SecurityDelay        5330294\n",
              "LateAircraftDelay    5330294\n",
              "target                     0\n",
              "dtype: int64"
            ]
          },
          "metadata": {
            "tags": []
          },
          "execution_count": 16
        }
      ]
    },
    {
      "metadata": {
        "id": "yv-t3yGNTtN-",
        "colab_type": "text"
      },
      "cell_type": "markdown",
      "source": [
        "## Xử lý Missing Value"
      ]
    },
    {
      "metadata": {
        "id": "HiGJwaFdTtOB",
        "colab_type": "code",
        "colab": {
          "autoexec": {
            "startup": false,
            "wait_interval": 0
          }
        }
      },
      "cell_type": "code",
      "source": [
        "# airline_arrival['DepTime'].fillna((int)(airline_arrival['DepTime'].mean()), inplace=True)"
      ],
      "execution_count": 0,
      "outputs": []
    },
    {
      "metadata": {
        "id": "5ixrj2JwTtOG",
        "colab_type": "code",
        "colab": {
          "autoexec": {
            "startup": false,
            "wait_interval": 0
          }
        }
      },
      "cell_type": "code",
      "source": [
        "# airline_arrival['ArrTime'].fillna((int)(airline_arrival['ArrTime'].mean()), inplace=True)"
      ],
      "execution_count": 0,
      "outputs": []
    },
    {
      "metadata": {
        "id": "Evqc0mU_TtON",
        "colab_type": "code",
        "colab": {
          "autoexec": {
            "startup": false,
            "wait_interval": 0
          }
        },
        "outputId": "7fac70ee-ce2d-4f95-f2ea-260844efe9ba"
      },
      "cell_type": "code",
      "source": [
        "len(airline_arrival['TailNum'].unique())#.value_counts()"
      ],
      "execution_count": 0,
      "outputs": [
        {
          "output_type": "execute_result",
          "data": {
            "text/plain": [
              "5367"
            ]
          },
          "metadata": {
            "tags": []
          },
          "execution_count": 13
        }
      ]
    },
    {
      "metadata": {
        "id": "v9ytTWXVTtOa",
        "colab_type": "code",
        "colab": {
          "autoexec": {
            "startup": false,
            "wait_interval": 0
          },
          "base_uri": "https://localhost:8080/",
          "height": 51
        },
        "outputId": "8946022e-3560-4c7d-8d4c-ef592b0ce7ca",
        "executionInfo": {
          "status": "ok",
          "timestamp": 1526616551451,
          "user_tz": -420,
          "elapsed": 1699,
          "user": {
            "displayName": "Bảo Trương Đình",
            "photoUrl": "//lh5.googleusercontent.com/-eC4QdQkyBTM/AAAAAAAAAAI/AAAAAAAAAFA/6sBa5lwoOX0/s50-c-k-no/photo.jpg",
            "userId": "102262295523043259192"
          }
        }
      },
      "cell_type": "code",
      "source": [
        "airline_arrival['TailNum'].value_counts().head(1)"
      ],
      "execution_count": 17,
      "outputs": [
        {
          "output_type": "execute_result",
          "data": {
            "text/plain": [
              "N476HA    4701\n",
              "Name: TailNum, dtype: int64"
            ]
          },
          "metadata": {
            "tags": []
          },
          "execution_count": 17
        }
      ]
    },
    {
      "metadata": {
        "id": "8NQxkrgOTtOi",
        "colab_type": "code",
        "colab": {
          "autoexec": {
            "startup": false,
            "wait_interval": 0
          }
        }
      },
      "cell_type": "code",
      "source": [
        "airline_arrival['TailNum'].fillna('N476HA', inplace=True)"
      ],
      "execution_count": 0,
      "outputs": []
    },
    {
      "metadata": {
        "id": "X3vF3xQ3TtOo",
        "colab_type": "code",
        "colab": {
          "autoexec": {
            "startup": false,
            "wait_interval": 0
          }
        }
      },
      "cell_type": "code",
      "source": [
        "# airline_arrival['ActualElapsedTime'].fillna((int)(airline_arrival['ActualElapsedTime'].mean()), inplace=True)"
      ],
      "execution_count": 0,
      "outputs": []
    },
    {
      "metadata": {
        "id": "aGoXWzxjTtOv",
        "colab_type": "code",
        "colab": {
          "autoexec": {
            "startup": false,
            "wait_interval": 0
          }
        }
      },
      "cell_type": "code",
      "source": [
        "# airline_arrival['CRSElapsedTime'].fillna((int)(airline_arrival['CRSElapsedTime'].mean()), inplace=True)"
      ],
      "execution_count": 0,
      "outputs": []
    },
    {
      "metadata": {
        "id": "dr-aeQtNTtO2",
        "colab_type": "code",
        "colab": {
          "autoexec": {
            "startup": false,
            "wait_interval": 0
          }
        }
      },
      "cell_type": "code",
      "source": [
        "# airline_arrival['AirTime'].fillna((int)(airline_arrival['AirTime'].mean()), inplace=True)"
      ],
      "execution_count": 0,
      "outputs": []
    },
    {
      "metadata": {
        "id": "bCtMmxIsTtO9",
        "colab_type": "code",
        "colab": {
          "autoexec": {
            "startup": false,
            "wait_interval": 0
          }
        }
      },
      "cell_type": "code",
      "source": [
        "# airline_arrival['ArrDelay'].fillna((int)(airline_arrival['ArrDelay'].mean()), inplace=True)"
      ],
      "execution_count": 0,
      "outputs": []
    },
    {
      "metadata": {
        "id": "rNdw35cwTtPB",
        "colab_type": "code",
        "colab": {
          "autoexec": {
            "startup": false,
            "wait_interval": 0
          }
        }
      },
      "cell_type": "code",
      "source": [
        "# airline_arrival['DepDelay'].fillna((int)(airline_arrival['DepDelay'].mean()), inplace=True)"
      ],
      "execution_count": 0,
      "outputs": []
    },
    {
      "metadata": {
        "id": "V3HSNiwdTtPL",
        "colab_type": "code",
        "colab": {
          "autoexec": {
            "startup": false,
            "wait_interval": 0
          }
        }
      },
      "cell_type": "code",
      "source": [
        "# airline_arrival['TaxiIn'].fillna((int)(airline_arrival['TaxiIn'].mean()), inplace=True)"
      ],
      "execution_count": 0,
      "outputs": []
    },
    {
      "metadata": {
        "id": "tzg7BxA8TtPT",
        "colab_type": "code",
        "colab": {
          "autoexec": {
            "startup": false,
            "wait_interval": 0
          }
        }
      },
      "cell_type": "code",
      "source": [
        "# airline_arrival['TaxiOut'].fillna((int)(airline_arrival['TaxiOut'].mean()), inplace=True)"
      ],
      "execution_count": 0,
      "outputs": []
    },
    {
      "metadata": {
        "id": "9ByBztm7TtPZ",
        "colab_type": "code",
        "colab": {
          "autoexec": {
            "startup": false,
            "wait_interval": 0
          },
          "base_uri": "https://localhost:8080/",
          "height": 34
        },
        "outputId": "7f33a097-dc20-4ef3-a730-8fb42a8a8241",
        "executionInfo": {
          "status": "ok",
          "timestamp": 1526616569211,
          "user_tz": -420,
          "elapsed": 1156,
          "user": {
            "displayName": "Bảo Trương Đình",
            "photoUrl": "//lh5.googleusercontent.com/-eC4QdQkyBTM/AAAAAAAAAAI/AAAAAAAAAFA/6sBa5lwoOX0/s50-c-k-no/photo.jpg",
            "userId": "102262295523043259192"
          }
        }
      },
      "cell_type": "code",
      "source": [
        "airline_arrival.CancellationCode.value_counts()"
      ],
      "execution_count": 19,
      "outputs": [
        {
          "output_type": "execute_result",
          "data": {
            "text/plain": [
              "Series([], Name: CancellationCode, dtype: int64)"
            ]
          },
          "metadata": {
            "tags": []
          },
          "execution_count": 19
        }
      ]
    },
    {
      "metadata": {
        "id": "0aj79swITtPi",
        "colab_type": "code",
        "colab": {
          "autoexec": {
            "startup": false,
            "wait_interval": 0
          }
        },
        "outputId": "fa912588-4a5d-42dc-94f0-22c341b66c08"
      },
      "cell_type": "code",
      "source": [
        "airline_arrival[airline_arrival['CancellationCode'].isnull()].shape"
      ],
      "execution_count": 0,
      "outputs": [
        {
          "output_type": "execute_result",
          "data": {
            "text/plain": [
              "(6855029, 30)"
            ]
          },
          "metadata": {
            "tags": []
          },
          "execution_count": 17
        }
      ]
    },
    {
      "metadata": {
        "id": "xCK3dBaSTtPq",
        "colab_type": "code",
        "colab": {
          "autoexec": {
            "startup": false,
            "wait_interval": 0
          }
        },
        "outputId": "c06ed275-4252-4b6a-c86d-fe2c8da4a641"
      },
      "cell_type": "code",
      "source": [
        "airline_arrival[airline_arrival['CancellationCode'].notnull()].shape"
      ],
      "execution_count": 0,
      "outputs": [
        {
          "output_type": "execute_result",
          "data": {
            "text/plain": [
              "(0, 30)"
            ]
          },
          "metadata": {
            "tags": []
          },
          "execution_count": 18
        }
      ]
    },
    {
      "metadata": {
        "id": "PnFXo7lBTtQD",
        "colab_type": "code",
        "colab": {
          "autoexec": {
            "startup": false,
            "wait_interval": 0
          }
        },
        "outputId": "c58b455f-be5f-49b7-e841-1ef0f79124b6"
      },
      "cell_type": "code",
      "source": [
        "airline_arrival.shape"
      ],
      "execution_count": 0,
      "outputs": [
        {
          "output_type": "execute_result",
          "data": {
            "text/plain": [
              "(6855029, 30)"
            ]
          },
          "metadata": {
            "tags": []
          },
          "execution_count": 19
        }
      ]
    },
    {
      "metadata": {
        "id": "pJhq8EcmTtQK",
        "colab_type": "code",
        "colab": {
          "autoexec": {
            "startup": false,
            "wait_interval": 0
          }
        }
      },
      "cell_type": "code",
      "source": [
        "airline_arrival.drop(['CancellationCode'], axis = 1, inplace = True)"
      ],
      "execution_count": 0,
      "outputs": []
    },
    {
      "metadata": {
        "id": "xNau1F7jTtQR",
        "colab_type": "code",
        "colab": {
          "autoexec": {
            "startup": false,
            "wait_interval": 0
          },
          "base_uri": "https://localhost:8080/",
          "height": 34
        },
        "outputId": "aea6a604-b1ae-455f-e4c5-94da5d44c7d7",
        "executionInfo": {
          "status": "ok",
          "timestamp": 1526616583307,
          "user_tz": -420,
          "elapsed": 1025,
          "user": {
            "displayName": "Bảo Trương Đình",
            "photoUrl": "//lh5.googleusercontent.com/-eC4QdQkyBTM/AAAAAAAAAAI/AAAAAAAAAFA/6sBa5lwoOX0/s50-c-k-no/photo.jpg",
            "userId": "102262295523043259192"
          }
        }
      },
      "cell_type": "code",
      "source": [
        "airline_arrival[airline_arrival['CarrierDelay'].notnull()].shape"
      ],
      "execution_count": 21,
      "outputs": [
        {
          "output_type": "execute_result",
          "data": {
            "text/plain": [
              "(1524735, 29)"
            ]
          },
          "metadata": {
            "tags": []
          },
          "execution_count": 21
        }
      ]
    },
    {
      "metadata": {
        "id": "tZSaXb5CTtQZ",
        "colab_type": "code",
        "colab": {
          "autoexec": {
            "startup": false,
            "wait_interval": 0
          }
        }
      },
      "cell_type": "code",
      "source": [
        "airline_arrival['CarrierDelay'].fillna((int)(airline_arrival['CarrierDelay'].mean()), inplace=True)"
      ],
      "execution_count": 0,
      "outputs": []
    },
    {
      "metadata": {
        "id": "HUfLDc6xTtQf",
        "colab_type": "code",
        "colab": {
          "autoexec": {
            "startup": false,
            "wait_interval": 0
          }
        }
      },
      "cell_type": "code",
      "source": [
        "airline_arrival[airline_arrival['WeatherDelay'].notnull()].shape\n",
        "airline_arrival['WeatherDelay'].fillna((int)(airline_arrival['WeatherDelay'].mean()), inplace=True)"
      ],
      "execution_count": 0,
      "outputs": []
    },
    {
      "metadata": {
        "id": "t2Y04uAHTtQk",
        "colab_type": "code",
        "colab": {
          "autoexec": {
            "startup": false,
            "wait_interval": 0
          },
          "base_uri": "https://localhost:8080/",
          "height": 34
        },
        "outputId": "223f2b15-aa17-49ec-b327-aa616e0e63cd",
        "executionInfo": {
          "status": "ok",
          "timestamp": 1526616591404,
          "user_tz": -420,
          "elapsed": 1020,
          "user": {
            "displayName": "Bảo Trương Đình",
            "photoUrl": "//lh5.googleusercontent.com/-eC4QdQkyBTM/AAAAAAAAAAI/AAAAAAAAAFA/6sBa5lwoOX0/s50-c-k-no/photo.jpg",
            "userId": "102262295523043259192"
          }
        }
      },
      "cell_type": "code",
      "source": [
        "airline_arrival[airline_arrival['NASDelay'].notnull()].shape"
      ],
      "execution_count": 24,
      "outputs": [
        {
          "output_type": "execute_result",
          "data": {
            "text/plain": [
              "(1524735, 29)"
            ]
          },
          "metadata": {
            "tags": []
          },
          "execution_count": 24
        }
      ]
    },
    {
      "metadata": {
        "id": "1X8KfKhtTtQq",
        "colab_type": "code",
        "colab": {
          "autoexec": {
            "startup": false,
            "wait_interval": 0
          }
        }
      },
      "cell_type": "code",
      "source": [
        "airline_arrival['NASDelay'].fillna((int)(airline_arrival['NASDelay'].mean()), inplace=True)"
      ],
      "execution_count": 0,
      "outputs": []
    },
    {
      "metadata": {
        "id": "F5gA00yETtTG",
        "colab_type": "code",
        "colab": {
          "autoexec": {
            "startup": false,
            "wait_interval": 0
          },
          "base_uri": "https://localhost:8080/",
          "height": 34
        },
        "outputId": "1096c49b-e781-4e79-ccd3-112c8bc2e188",
        "executionInfo": {
          "status": "ok",
          "timestamp": 1526616597369,
          "user_tz": -420,
          "elapsed": 1980,
          "user": {
            "displayName": "Bảo Trương Đình",
            "photoUrl": "//lh5.googleusercontent.com/-eC4QdQkyBTM/AAAAAAAAAAI/AAAAAAAAAFA/6sBa5lwoOX0/s50-c-k-no/photo.jpg",
            "userId": "102262295523043259192"
          }
        }
      },
      "cell_type": "code",
      "source": [
        "airline_arrival[airline_arrival['SecurityDelay'].notnull()].shape"
      ],
      "execution_count": 26,
      "outputs": [
        {
          "output_type": "execute_result",
          "data": {
            "text/plain": [
              "(1524735, 29)"
            ]
          },
          "metadata": {
            "tags": []
          },
          "execution_count": 26
        }
      ]
    },
    {
      "metadata": {
        "id": "iijs8imQTtTP",
        "colab_type": "code",
        "colab": {
          "autoexec": {
            "startup": false,
            "wait_interval": 0
          }
        }
      },
      "cell_type": "code",
      "source": [
        "airline_arrival['SecurityDelay'].fillna((int)(airline_arrival['SecurityDelay'].mean()), inplace=True)"
      ],
      "execution_count": 0,
      "outputs": []
    },
    {
      "metadata": {
        "id": "dBE_9R9WTtTm",
        "colab_type": "code",
        "colab": {
          "autoexec": {
            "startup": false,
            "wait_interval": 0
          },
          "base_uri": "https://localhost:8080/",
          "height": 34
        },
        "outputId": "f47e9403-17ff-4d05-b8a0-630d468353bb",
        "executionInfo": {
          "status": "ok",
          "timestamp": 1526616603003,
          "user_tz": -420,
          "elapsed": 999,
          "user": {
            "displayName": "Bảo Trương Đình",
            "photoUrl": "//lh5.googleusercontent.com/-eC4QdQkyBTM/AAAAAAAAAAI/AAAAAAAAAFA/6sBa5lwoOX0/s50-c-k-no/photo.jpg",
            "userId": "102262295523043259192"
          }
        }
      },
      "cell_type": "code",
      "source": [
        "airline_arrival[airline_arrival['LateAircraftDelay'].notnull()].shape"
      ],
      "execution_count": 28,
      "outputs": [
        {
          "output_type": "execute_result",
          "data": {
            "text/plain": [
              "(1524735, 29)"
            ]
          },
          "metadata": {
            "tags": []
          },
          "execution_count": 28
        }
      ]
    },
    {
      "metadata": {
        "id": "qgHkqzAVTtT3",
        "colab_type": "code",
        "colab": {
          "autoexec": {
            "startup": false,
            "wait_interval": 0
          }
        }
      },
      "cell_type": "code",
      "source": [
        "airline_arrival['LateAircraftDelay'].fillna((int)(airline_arrival['LateAircraftDelay'].mean()), inplace=True)"
      ],
      "execution_count": 0,
      "outputs": []
    },
    {
      "metadata": {
        "id": "qEfncdJ4TtT8",
        "colab_type": "code",
        "colab": {
          "autoexec": {
            "startup": false,
            "wait_interval": 0
          },
          "base_uri": "https://localhost:8080/",
          "height": 527
        },
        "outputId": "ac870961-3809-425e-b240-1c3a541dc7dc",
        "executionInfo": {
          "status": "ok",
          "timestamp": 1526616611378,
          "user_tz": -420,
          "elapsed": 4957,
          "user": {
            "displayName": "Bảo Trương Đình",
            "photoUrl": "//lh5.googleusercontent.com/-eC4QdQkyBTM/AAAAAAAAAAI/AAAAAAAAAFA/6sBa5lwoOX0/s50-c-k-no/photo.jpg",
            "userId": "102262295523043259192"
          }
        }
      },
      "cell_type": "code",
      "source": [
        "# Số lượng điểm data bị thiếu trên mỗi cột\n",
        "missing_values_count = airline_arrival.isnull().sum()\n",
        "\n",
        "# Số lượng điểm data bị thiếu trên mỗi cột của 10 cột đầu\n",
        "missing_values_count"
      ],
      "execution_count": 30,
      "outputs": [
        {
          "output_type": "execute_result",
          "data": {
            "text/plain": [
              "Year                 0\n",
              "Month                0\n",
              "DayofMonth           0\n",
              "DayOfWeek            0\n",
              "DepTime              0\n",
              "CRSDepTime           0\n",
              "ArrTime              0\n",
              "CRSArrTime           0\n",
              "UniqueCarrier        0\n",
              "FlightNum            0\n",
              "TailNum              0\n",
              "ActualElapsedTime    0\n",
              "CRSElapsedTime       0\n",
              "AirTime              0\n",
              "ArrDelay             0\n",
              "DepDelay             0\n",
              "Origin               0\n",
              "Dest                 0\n",
              "Distance             0\n",
              "TaxiIn               0\n",
              "TaxiOut              0\n",
              "Cancelled            0\n",
              "Diverted             0\n",
              "CarrierDelay         0\n",
              "WeatherDelay         0\n",
              "NASDelay             0\n",
              "SecurityDelay        0\n",
              "LateAircraftDelay    0\n",
              "target               0\n",
              "dtype: int64"
            ]
          },
          "metadata": {
            "tags": []
          },
          "execution_count": 30
        }
      ]
    },
    {
      "metadata": {
        "id": "C5k-4fpETtUB",
        "colab_type": "code",
        "colab": {
          "autoexec": {
            "startup": false,
            "wait_interval": 0
          }
        },
        "outputId": "53a9703c-3e4f-4a87-83c0-a6a8f7e2e3ea"
      },
      "cell_type": "code",
      "source": [
        "airline_arrival.dtypes"
      ],
      "execution_count": 0,
      "outputs": [
        {
          "output_type": "execute_result",
          "data": {
            "text/plain": [
              "Year                   int64\n",
              "Month                  int64\n",
              "DayofMonth             int64\n",
              "DayOfWeek              int64\n",
              "DepTime              float64\n",
              "CRSDepTime             int64\n",
              "ArrTime              float64\n",
              "CRSArrTime             int64\n",
              "UniqueCarrier         object\n",
              "FlightNum              int64\n",
              "TailNum               object\n",
              "ActualElapsedTime    float64\n",
              "CRSElapsedTime       float64\n",
              "AirTime              float64\n",
              "ArrDelay             float64\n",
              "DepDelay             float64\n",
              "Origin                object\n",
              "Dest                  object\n",
              "Distance               int64\n",
              "TaxiIn               float64\n",
              "TaxiOut              float64\n",
              "Cancelled              int64\n",
              "Diverted               int64\n",
              "CarrierDelay         float64\n",
              "WeatherDelay         float64\n",
              "NASDelay             float64\n",
              "SecurityDelay        float64\n",
              "LateAircraftDelay    float64\n",
              "target                 int32\n",
              "dtype: object"
            ]
          },
          "metadata": {
            "tags": []
          },
          "execution_count": 31
        }
      ]
    },
    {
      "metadata": {
        "id": "U3iIS2iLTtUK",
        "colab_type": "code",
        "colab": {
          "autoexec": {
            "startup": false,
            "wait_interval": 0
          }
        },
        "outputId": "33db5eb3-0114-4913-c454-20fb15ff4e41"
      },
      "cell_type": "code",
      "source": [
        "len(airline_arrival.UniqueCarrier.unique())#value_counts()"
      ],
      "execution_count": 0,
      "outputs": [
        {
          "output_type": "execute_result",
          "data": {
            "text/plain": [
              "20"
            ]
          },
          "metadata": {
            "tags": []
          },
          "execution_count": 33
        }
      ]
    },
    {
      "metadata": {
        "id": "KADQR0B5TtUQ",
        "colab_type": "code",
        "colab": {
          "autoexec": {
            "startup": false,
            "wait_interval": 0
          }
        },
        "outputId": "505e2d19-3e79-4831-be75-5fd3d44e72bf"
      },
      "cell_type": "code",
      "source": [
        "len(airline_arrival.TailNum.unique())#value_counts()"
      ],
      "execution_count": 0,
      "outputs": [
        {
          "output_type": "execute_result",
          "data": {
            "text/plain": [
              "5366"
            ]
          },
          "metadata": {
            "tags": []
          },
          "execution_count": 34
        }
      ]
    },
    {
      "metadata": {
        "id": "0rcZ6wphTtU_",
        "colab_type": "code",
        "colab": {
          "autoexec": {
            "startup": false,
            "wait_interval": 0
          }
        },
        "outputId": "4da83b5d-fc59-4f53-d01d-fc26419fcba2"
      },
      "cell_type": "code",
      "source": [
        "len(airline_arrival.Origin.unique())#value_counts()"
      ],
      "execution_count": 0,
      "outputs": [
        {
          "output_type": "execute_result",
          "data": {
            "text/plain": [
              "303"
            ]
          },
          "metadata": {
            "tags": []
          },
          "execution_count": 35
        }
      ]
    },
    {
      "metadata": {
        "id": "-TGEbPJfTtVI",
        "colab_type": "code",
        "colab": {
          "autoexec": {
            "startup": false,
            "wait_interval": 0
          }
        },
        "outputId": "43718a71-37bf-49e3-f6bb-fefce71e6308"
      },
      "cell_type": "code",
      "source": [
        "len(airline_arrival.Dest.unique())#value_counts()"
      ],
      "execution_count": 0,
      "outputs": [
        {
          "output_type": "execute_result",
          "data": {
            "text/plain": [
              "302"
            ]
          },
          "metadata": {
            "tags": []
          },
          "execution_count": 36
        }
      ]
    },
    {
      "metadata": {
        "id": "9cXU4xvbTtVY",
        "colab_type": "code",
        "colab": {
          "autoexec": {
            "startup": false,
            "wait_interval": 0
          }
        }
      },
      "cell_type": "code",
      "source": [
        "#airline_arrival = pd.get_dummies(airline_arrival, columns=['UniqueCarrier', 'TailNum', 'Origin', 'Dest']);"
      ],
      "execution_count": 0,
      "outputs": []
    },
    {
      "metadata": {
        "id": "7op3TkG6TtVc",
        "colab_type": "code",
        "colab": {
          "autoexec": {
            "startup": false,
            "wait_interval": 0
          }
        }
      },
      "cell_type": "code",
      "source": [
        "le = LabelEncoder()\n",
        "\n",
        "airline_arrival['UniqueCarrier_LabelEncoded'] = le.fit_transform(airline_arrival.UniqueCarrier)"
      ],
      "execution_count": 0,
      "outputs": []
    },
    {
      "metadata": {
        "id": "LHeOP75VTtVf",
        "colab_type": "code",
        "colab": {
          "autoexec": {
            "startup": false,
            "wait_interval": 0
          }
        }
      },
      "cell_type": "code",
      "source": [
        "airline_arrival['TailNum_LabelEncoded'] = le.fit_transform(airline_arrival.TailNum)"
      ],
      "execution_count": 0,
      "outputs": []
    },
    {
      "metadata": {
        "id": "exl9kaO7TtVj",
        "colab_type": "code",
        "colab": {
          "autoexec": {
            "startup": false,
            "wait_interval": 0
          }
        }
      },
      "cell_type": "code",
      "source": [
        "airline_arrival['Origin_LabelEncoded'] = le.fit_transform(airline_arrival.Origin)"
      ],
      "execution_count": 0,
      "outputs": []
    },
    {
      "metadata": {
        "id": "MEYGt4_5TtVr",
        "colab_type": "code",
        "colab": {
          "autoexec": {
            "startup": false,
            "wait_interval": 0
          }
        }
      },
      "cell_type": "code",
      "source": [
        "airline_arrival['Dest_LabelEncoded'] = le.fit_transform(airline_arrival.Dest)"
      ],
      "execution_count": 0,
      "outputs": []
    },
    {
      "metadata": {
        "id": "zs7vUaaaTtVx",
        "colab_type": "code",
        "colab": {
          "autoexec": {
            "startup": false,
            "wait_interval": 0
          }
        }
      },
      "cell_type": "code",
      "source": [
        "airline_arrival.drop(['UniqueCarrier'], axis = 1, inplace = True)\n",
        "airline_arrival.drop(['TailNum'], axis = 1, inplace = True)\n",
        "airline_arrival.drop(['Origin'], axis = 1, inplace = True)\n",
        "airline_arrival.drop(['Dest'], axis = 1, inplace = True)"
      ],
      "execution_count": 0,
      "outputs": []
    },
    {
      "metadata": {
        "id": "FIaAEhg4TtWD",
        "colab_type": "code",
        "colab": {
          "autoexec": {
            "startup": false,
            "wait_interval": 0
          }
        },
        "outputId": "ca748c11-5fcb-4d0a-ecb5-305ceb8147f7"
      },
      "cell_type": "code",
      "source": [
        "airline_arrival.head()"
      ],
      "execution_count": 0,
      "outputs": [
        {
          "output_type": "execute_result",
          "data": {
            "text/html": [
              "<div>\n",
              "<style scoped>\n",
              "    .dataframe tbody tr th:only-of-type {\n",
              "        vertical-align: middle;\n",
              "    }\n",
              "\n",
              "    .dataframe tbody tr th {\n",
              "        vertical-align: top;\n",
              "    }\n",
              "\n",
              "    .dataframe thead th {\n",
              "        text-align: right;\n",
              "    }\n",
              "</style>\n",
              "<table border=\"1\" class=\"dataframe\">\n",
              "  <thead>\n",
              "    <tr style=\"text-align: right;\">\n",
              "      <th></th>\n",
              "      <th>Year</th>\n",
              "      <th>Month</th>\n",
              "      <th>DayofMonth</th>\n",
              "      <th>DayOfWeek</th>\n",
              "      <th>DepTime</th>\n",
              "      <th>CRSDepTime</th>\n",
              "      <th>ArrTime</th>\n",
              "      <th>CRSArrTime</th>\n",
              "      <th>FlightNum</th>\n",
              "      <th>ActualElapsedTime</th>\n",
              "      <th>CRSElapsedTime</th>\n",
              "      <th>AirTime</th>\n",
              "      <th>ArrDelay</th>\n",
              "      <th>DepDelay</th>\n",
              "      <th>Distance</th>\n",
              "      <th>TaxiIn</th>\n",
              "      <th>TaxiOut</th>\n",
              "      <th>Cancelled</th>\n",
              "      <th>Diverted</th>\n",
              "      <th>CarrierDelay</th>\n",
              "      <th>WeatherDelay</th>\n",
              "      <th>NASDelay</th>\n",
              "      <th>SecurityDelay</th>\n",
              "      <th>LateAircraftDelay</th>\n",
              "      <th>target</th>\n",
              "      <th>UniqueCarrier_LabelEncoded</th>\n",
              "      <th>TailNum_LabelEncoded</th>\n",
              "      <th>Origin_LabelEncoded</th>\n",
              "      <th>Dest_LabelEncoded</th>\n",
              "    </tr>\n",
              "  </thead>\n",
              "  <tbody>\n",
              "    <tr>\n",
              "      <th>0</th>\n",
              "      <td>2008</td>\n",
              "      <td>1</td>\n",
              "      <td>3</td>\n",
              "      <td>4</td>\n",
              "      <td>2003.0</td>\n",
              "      <td>1955</td>\n",
              "      <td>2211.0</td>\n",
              "      <td>2225</td>\n",
              "      <td>335</td>\n",
              "      <td>128.0</td>\n",
              "      <td>150.0</td>\n",
              "      <td>116.0</td>\n",
              "      <td>-14.0</td>\n",
              "      <td>8.0</td>\n",
              "      <td>810</td>\n",
              "      <td>4.0</td>\n",
              "      <td>8.0</td>\n",
              "      <td>0</td>\n",
              "      <td>0</td>\n",
              "      <td>15.0</td>\n",
              "      <td>3.0</td>\n",
              "      <td>17.0</td>\n",
              "      <td>0.0</td>\n",
              "      <td>20.0</td>\n",
              "      <td>0</td>\n",
              "      <td>17</td>\n",
              "      <td>3761</td>\n",
              "      <td>135</td>\n",
              "      <td>284</td>\n",
              "    </tr>\n",
              "    <tr>\n",
              "      <th>1</th>\n",
              "      <td>2008</td>\n",
              "      <td>1</td>\n",
              "      <td>3</td>\n",
              "      <td>4</td>\n",
              "      <td>754.0</td>\n",
              "      <td>735</td>\n",
              "      <td>1002.0</td>\n",
              "      <td>1000</td>\n",
              "      <td>3231</td>\n",
              "      <td>128.0</td>\n",
              "      <td>145.0</td>\n",
              "      <td>113.0</td>\n",
              "      <td>2.0</td>\n",
              "      <td>19.0</td>\n",
              "      <td>810</td>\n",
              "      <td>5.0</td>\n",
              "      <td>10.0</td>\n",
              "      <td>0</td>\n",
              "      <td>0</td>\n",
              "      <td>15.0</td>\n",
              "      <td>3.0</td>\n",
              "      <td>17.0</td>\n",
              "      <td>0.0</td>\n",
              "      <td>20.0</td>\n",
              "      <td>0</td>\n",
              "      <td>17</td>\n",
              "      <td>4121</td>\n",
              "      <td>135</td>\n",
              "      <td>284</td>\n",
              "    </tr>\n",
              "    <tr>\n",
              "      <th>2</th>\n",
              "      <td>2008</td>\n",
              "      <td>1</td>\n",
              "      <td>3</td>\n",
              "      <td>4</td>\n",
              "      <td>628.0</td>\n",
              "      <td>620</td>\n",
              "      <td>804.0</td>\n",
              "      <td>750</td>\n",
              "      <td>448</td>\n",
              "      <td>96.0</td>\n",
              "      <td>90.0</td>\n",
              "      <td>76.0</td>\n",
              "      <td>14.0</td>\n",
              "      <td>8.0</td>\n",
              "      <td>515</td>\n",
              "      <td>3.0</td>\n",
              "      <td>17.0</td>\n",
              "      <td>0</td>\n",
              "      <td>0</td>\n",
              "      <td>15.0</td>\n",
              "      <td>3.0</td>\n",
              "      <td>17.0</td>\n",
              "      <td>0.0</td>\n",
              "      <td>20.0</td>\n",
              "      <td>0</td>\n",
              "      <td>17</td>\n",
              "      <td>1953</td>\n",
              "      <td>140</td>\n",
              "      <td>48</td>\n",
              "    </tr>\n",
              "    <tr>\n",
              "      <th>3</th>\n",
              "      <td>2008</td>\n",
              "      <td>1</td>\n",
              "      <td>3</td>\n",
              "      <td>4</td>\n",
              "      <td>926.0</td>\n",
              "      <td>930</td>\n",
              "      <td>1054.0</td>\n",
              "      <td>1100</td>\n",
              "      <td>1746</td>\n",
              "      <td>88.0</td>\n",
              "      <td>90.0</td>\n",
              "      <td>78.0</td>\n",
              "      <td>-6.0</td>\n",
              "      <td>-4.0</td>\n",
              "      <td>515</td>\n",
              "      <td>3.0</td>\n",
              "      <td>7.0</td>\n",
              "      <td>0</td>\n",
              "      <td>0</td>\n",
              "      <td>15.0</td>\n",
              "      <td>3.0</td>\n",
              "      <td>17.0</td>\n",
              "      <td>0.0</td>\n",
              "      <td>20.0</td>\n",
              "      <td>0</td>\n",
              "      <td>17</td>\n",
              "      <td>3051</td>\n",
              "      <td>140</td>\n",
              "      <td>48</td>\n",
              "    </tr>\n",
              "    <tr>\n",
              "      <th>4</th>\n",
              "      <td>2008</td>\n",
              "      <td>1</td>\n",
              "      <td>3</td>\n",
              "      <td>4</td>\n",
              "      <td>1829.0</td>\n",
              "      <td>1755</td>\n",
              "      <td>1959.0</td>\n",
              "      <td>1925</td>\n",
              "      <td>3920</td>\n",
              "      <td>90.0</td>\n",
              "      <td>90.0</td>\n",
              "      <td>77.0</td>\n",
              "      <td>34.0</td>\n",
              "      <td>34.0</td>\n",
              "      <td>515</td>\n",
              "      <td>3.0</td>\n",
              "      <td>10.0</td>\n",
              "      <td>0</td>\n",
              "      <td>0</td>\n",
              "      <td>2.0</td>\n",
              "      <td>0.0</td>\n",
              "      <td>0.0</td>\n",
              "      <td>0.0</td>\n",
              "      <td>32.0</td>\n",
              "      <td>1</td>\n",
              "      <td>17</td>\n",
              "      <td>2134</td>\n",
              "      <td>140</td>\n",
              "      <td>48</td>\n",
              "    </tr>\n",
              "  </tbody>\n",
              "</table>\n",
              "</div>"
            ],
            "text/plain": [
              "   Year  Month  DayofMonth  DayOfWeek  DepTime  CRSDepTime  ArrTime  \\\n",
              "0  2008      1           3          4   2003.0        1955   2211.0   \n",
              "1  2008      1           3          4    754.0         735   1002.0   \n",
              "2  2008      1           3          4    628.0         620    804.0   \n",
              "3  2008      1           3          4    926.0         930   1054.0   \n",
              "4  2008      1           3          4   1829.0        1755   1959.0   \n",
              "\n",
              "   CRSArrTime  FlightNum  ActualElapsedTime  CRSElapsedTime  AirTime  \\\n",
              "0        2225        335              128.0           150.0    116.0   \n",
              "1        1000       3231              128.0           145.0    113.0   \n",
              "2         750        448               96.0            90.0     76.0   \n",
              "3        1100       1746               88.0            90.0     78.0   \n",
              "4        1925       3920               90.0            90.0     77.0   \n",
              "\n",
              "   ArrDelay  DepDelay  Distance  TaxiIn  TaxiOut  Cancelled  Diverted  \\\n",
              "0     -14.0       8.0       810     4.0      8.0          0         0   \n",
              "1       2.0      19.0       810     5.0     10.0          0         0   \n",
              "2      14.0       8.0       515     3.0     17.0          0         0   \n",
              "3      -6.0      -4.0       515     3.0      7.0          0         0   \n",
              "4      34.0      34.0       515     3.0     10.0          0         0   \n",
              "\n",
              "   CarrierDelay  WeatherDelay  NASDelay  SecurityDelay  LateAircraftDelay  \\\n",
              "0          15.0           3.0      17.0            0.0               20.0   \n",
              "1          15.0           3.0      17.0            0.0               20.0   \n",
              "2          15.0           3.0      17.0            0.0               20.0   \n",
              "3          15.0           3.0      17.0            0.0               20.0   \n",
              "4           2.0           0.0       0.0            0.0               32.0   \n",
              "\n",
              "   target  UniqueCarrier_LabelEncoded  TailNum_LabelEncoded  \\\n",
              "0       0                          17                  3761   \n",
              "1       0                          17                  4121   \n",
              "2       0                          17                  1953   \n",
              "3       0                          17                  3051   \n",
              "4       1                          17                  2134   \n",
              "\n",
              "   Origin_LabelEncoded  Dest_LabelEncoded  \n",
              "0                  135                284  \n",
              "1                  135                284  \n",
              "2                  140                 48  \n",
              "3                  140                 48  \n",
              "4                  140                 48  "
            ]
          },
          "metadata": {
            "tags": []
          },
          "execution_count": 37
        }
      ]
    },
    {
      "metadata": {
        "id": "3SJA-Zc7TtWL",
        "colab_type": "code",
        "colab": {
          "autoexec": {
            "startup": false,
            "wait_interval": 0
          }
        },
        "outputId": "fc59a16e-3fd4-4e86-e24c-b8050b288190"
      },
      "cell_type": "code",
      "source": [
        "airline_arrival.columns"
      ],
      "execution_count": 0,
      "outputs": [
        {
          "output_type": "execute_result",
          "data": {
            "text/plain": [
              "Index(['Year', 'Month', 'DayofMonth', 'DayOfWeek', 'DepTime', 'CRSDepTime',\n",
              "       'ArrTime', 'CRSArrTime', 'FlightNum', 'ActualElapsedTime',\n",
              "       'CRSElapsedTime', 'AirTime', 'ArrDelay', 'DepDelay', 'Distance',\n",
              "       'TaxiIn', 'TaxiOut', 'Cancelled', 'Diverted', 'CarrierDelay',\n",
              "       'WeatherDelay', 'NASDelay', 'SecurityDelay', 'LateAircraftDelay',\n",
              "       'target', 'UniqueCarrier_LabelEncoded', 'TailNum_LabelEncoded',\n",
              "       'Origin_LabelEncoded', 'Dest_LabelEncoded'],\n",
              "      dtype='object')"
            ]
          },
          "metadata": {
            "tags": []
          },
          "execution_count": 38
        }
      ]
    },
    {
      "metadata": {
        "id": "3Pe1cWA_TtWQ",
        "colab_type": "text"
      },
      "cell_type": "markdown",
      "source": [
        "### Xử lý kiểu Numberic, đưa về cùng 1 scale (mean=0, std=1)"
      ]
    },
    {
      "metadata": {
        "id": "iwehpUicTtWR",
        "colab_type": "code",
        "colab": {
          "autoexec": {
            "startup": false,
            "wait_interval": 0
          }
        },
        "outputId": "59bcda44-3d44-4442-cffc-27831e74a22a"
      },
      "cell_type": "code",
      "source": [
        "airline_arrival['FlightNum'].head()"
      ],
      "execution_count": 0,
      "outputs": [
        {
          "output_type": "execute_result",
          "data": {
            "text/plain": [
              "0     335\n",
              "1    3231\n",
              "2     448\n",
              "3    1746\n",
              "4    3920\n",
              "Name: FlightNum, dtype: int64"
            ]
          },
          "metadata": {
            "tags": []
          },
          "execution_count": 64
        }
      ]
    },
    {
      "metadata": {
        "id": "gKu38_XYTtWX",
        "colab_type": "code",
        "colab": {
          "autoexec": {
            "startup": false,
            "wait_interval": 0
          }
        }
      },
      "cell_type": "code",
      "source": [
        "#DepTime, CRSDepTime, ArrTime, CRSArrTime: hhmm -> mm"
      ],
      "execution_count": 0,
      "outputs": []
    },
    {
      "metadata": {
        "id": "e3E0xOXgTtWi",
        "colab_type": "code",
        "colab": {
          "autoexec": {
            "startup": false,
            "wait_interval": 0
          }
        }
      },
      "cell_type": "code",
      "source": [
        "airline_arrival['DepTime'] = ((airline_arrival['DepTime'] - (airline_arrival['DepTime'] % 100)) / 100) * 60 + (airline_arrival['DepTime'] % 100)"
      ],
      "execution_count": 0,
      "outputs": []
    },
    {
      "metadata": {
        "id": "LF6lKtiyTtWl",
        "colab_type": "code",
        "colab": {
          "autoexec": {
            "startup": false,
            "wait_interval": 0
          }
        }
      },
      "cell_type": "code",
      "source": [
        "airline_arrival['CRSDepTime'] = ((airline_arrival['CRSDepTime'] - (airline_arrival['CRSDepTime'] % 100)) / 100) * 60 + (airline_arrival['CRSDepTime'] % 100)"
      ],
      "execution_count": 0,
      "outputs": []
    },
    {
      "metadata": {
        "id": "lVlU6g1vTtWq",
        "colab_type": "code",
        "colab": {
          "autoexec": {
            "startup": false,
            "wait_interval": 0
          }
        }
      },
      "cell_type": "code",
      "source": [
        "airline_arrival['ArrTime'] = ((airline_arrival['ArrTime'] - (airline_arrival['ArrTime'] % 100)) / 100) * 60 + (airline_arrival['ArrTime'] % 100)"
      ],
      "execution_count": 0,
      "outputs": []
    },
    {
      "metadata": {
        "id": "XEZPlnbHTtX0",
        "colab_type": "code",
        "colab": {
          "autoexec": {
            "startup": false,
            "wait_interval": 0
          }
        }
      },
      "cell_type": "code",
      "source": [
        "airline_arrival['CRSArrTime'] = ((airline_arrival['CRSArrTime'] - (airline_arrival['CRSArrTime'] % 100)) / 100) * 60 + (airline_arrival['CRSArrTime'] % 100)"
      ],
      "execution_count": 0,
      "outputs": []
    },
    {
      "metadata": {
        "id": "Q4SE8SxFTtX9",
        "colab_type": "code",
        "colab": {
          "autoexec": {
            "startup": false,
            "wait_interval": 0
          }
        }
      },
      "cell_type": "code",
      "source": [
        "# airline_arrival['Year'] = (airline_arrival['Year'] - airline_arrival['Year'].mean())/airline_arrival['Year'].std()\n",
        "airline_arrival['Month'] = (airline_arrival['Month'] - airline_arrival['Month'].mean())/airline_arrival['Month'].std()\n",
        "airline_arrival['DayofMonth'] = (airline_arrival['DayofMonth'] - airline_arrival['DayofMonth'].mean())/airline_arrival['DayofMonth'].std()\n",
        "airline_arrival['DayOfWeek'] = (airline_arrival['DayOfWeek'] - airline_arrival['DayOfWeek'].mean())/airline_arrival['DayOfWeek'].std()\n",
        "airline_arrival['DepTime'] = (airline_arrival['DepTime'] - airline_arrival['DepTime'].mean())/airline_arrival['DepTime'].std()\n",
        "airline_arrival['CRSDepTime'] = (airline_arrival['CRSDepTime'] - airline_arrival['CRSDepTime'].mean())/airline_arrival['CRSDepTime'].std()\n",
        "airline_arrival['ArrTime'] = (airline_arrival['ArrTime'] - airline_arrival['ArrTime'].mean())/airline_arrival['ArrTime'].std()\n",
        "airline_arrival['CRSArrTime'] = (airline_arrival['CRSArrTime'] - airline_arrival['CRSArrTime'].mean())/airline_arrival['CRSArrTime'].std()\n",
        "airline_arrival['FlightNum'] = (airline_arrival['FlightNum'] - airline_arrival['FlightNum'].mean())/airline_arrival['FlightNum'].std()\n",
        "airline_arrival['ActualElapsedTime'] = (airline_arrival['ActualElapsedTime'] - airline_arrival['ActualElapsedTime'].mean())/airline_arrival['ActualElapsedTime'].std()\n",
        "airline_arrival['CRSElapsedTime'] = (airline_arrival['CRSElapsedTime'] - airline_arrival['CRSElapsedTime'].mean())/airline_arrival['CRSElapsedTime'].std()\n",
        "airline_arrival['AirTime'] = (airline_arrival['AirTime'] - airline_arrival['AirTime'].mean())/airline_arrival['AirTime'].std()\n",
        "airline_arrival['ArrDelay'] = (airline_arrival['ArrDelay'] - airline_arrival['ArrDelay'].mean())/airline_arrival['ArrDelay'].std()\n",
        "airline_arrival['DepDelay'] = (airline_arrival['DepDelay'] - airline_arrival['DepDelay'].mean())/airline_arrival['DepDelay'].std()\n",
        "airline_arrival['Distance'] = (airline_arrival['Distance'] - airline_arrival['Distance'].mean())/airline_arrival['Distance'].std()\n",
        "airline_arrival['TaxiIn'] = (airline_arrival['TaxiIn'] - airline_arrival['TaxiIn'].mean())/airline_arrival['TaxiIn'].std()\n",
        "airline_arrival['TaxiOut'] = (airline_arrival['TaxiOut'] - airline_arrival['TaxiOut'].mean())/airline_arrival['TaxiOut'].std()\n",
        "# airline_arrival['Diverted'] = (airline_arrival['Diverted'] - airline_arrival['Diverted'].mean())/airline_arrival['Diverted'].std()\n",
        "airline_arrival['CarrierDelay'] = (airline_arrival['CarrierDelay'] - airline_arrival['CarrierDelay'].mean())/airline_arrival['CarrierDelay'].std()\n",
        "airline_arrival['WeatherDelay'] = (airline_arrival['WeatherDelay'] - airline_arrival['WeatherDelay'].mean())/airline_arrival['WeatherDelay'].std()\n",
        "airline_arrival['NASDelay'] = (airline_arrival['NASDelay'] - airline_arrival['NASDelay'].mean())/airline_arrival['NASDelay'].std()\n",
        "airline_arrival['SecurityDelay'] = (airline_arrival['SecurityDelay'] - airline_arrival['SecurityDelay'].mean())/airline_arrival['SecurityDelay'].std()\n",
        "airline_arrival['LateAircraftDelay'] = (airline_arrival['LateAircraftDelay'] - airline_arrival['LateAircraftDelay'].mean())/airline_arrival['LateAircraftDelay'].std()\n",
        "# airline_arrival['UniqueCarrier_LabelEncoded'] = (airline_arrival['UniqueCarrier_LabelEncoded'] - airline_arrival['UniqueCarrier_LabelEncoded'].mean())/airline_arrival['UniqueCarrier_LabelEncoded'].std()\n",
        "# airline_arrival['TailNum_LabelEncoded'] = (airline_arrival['TailNum_LabelEncoded'] - airline_arrival['TailNum_LabelEncoded'].mean())/airline_arrival['TailNum_LabelEncoded'].std()\n",
        "# airline_arrival['Origin_LabelEncoded'] = (airline_arrival['Origin_LabelEncoded'] - airline_arrival['Origin_LabelEncoded'].mean())/airline_arrival['Origin_LabelEncoded'].std()\n",
        "# airline_arrival['Dest_LabelEncoded'] = (airline_arrival['Dest_LabelEncoded'] - airline_arrival['Dest_LabelEncoded'].mean())/airline_arrival['Dest_LabelEncoded'].std()"
      ],
      "execution_count": 0,
      "outputs": []
    },
    {
      "metadata": {
        "id": "JU2AA9epTtYD",
        "colab_type": "code",
        "colab": {
          "autoexec": {
            "startup": false,
            "wait_interval": 0
          }
        },
        "outputId": "da601629-7a56-42b9-81c4-7bb4a7cb2669"
      },
      "cell_type": "code",
      "source": [
        "# len(airline_arrival.Cancelled.unique())"
      ],
      "execution_count": 0,
      "outputs": [
        {
          "output_type": "execute_result",
          "data": {
            "text/plain": [
              "2"
            ]
          },
          "metadata": {
            "tags": []
          },
          "execution_count": 54
        }
      ]
    },
    {
      "metadata": {
        "id": "cQ3HPsm5TtYK",
        "colab_type": "code",
        "colab": {
          "autoexec": {
            "startup": false,
            "wait_interval": 0
          }
        },
        "outputId": "7d3dca03-9ea8-4f2f-9fe8-72a42a6f43e6"
      },
      "cell_type": "code",
      "source": [
        "# airline_arrival.Cancelled.value_counts()"
      ],
      "execution_count": 0,
      "outputs": [
        {
          "output_type": "execute_result",
          "data": {
            "text/plain": [
              "0    1009728\n",
              "1     137434\n",
              "Name: Cancelled, dtype: int64"
            ]
          },
          "metadata": {
            "tags": []
          },
          "execution_count": 55
        }
      ]
    },
    {
      "metadata": {
        "id": "4J7emwd5TtYS",
        "colab_type": "code",
        "colab": {
          "autoexec": {
            "startup": false,
            "wait_interval": 0
          }
        }
      },
      "cell_type": "code",
      "source": [
        "# fig = plt.figure(figsize=(8,6))\n",
        "# airline_arrival.groupby('Cancelled').Year.count().plot.bar(ylim=0)\n",
        "# plt.show()"
      ],
      "execution_count": 0,
      "outputs": []
    },
    {
      "metadata": {
        "id": "uxO0ngxVTtYV",
        "colab_type": "code",
        "colab": {
          "autoexec": {
            "startup": false,
            "wait_interval": 0
          }
        }
      },
      "cell_type": "code",
      "source": [
        "airline_arrival = airline_arrival.sample(n=5000, random_state=50)"
      ],
      "execution_count": 0,
      "outputs": []
    },
    {
      "metadata": {
        "id": "u2odsluATtYb",
        "colab_type": "text"
      },
      "cell_type": "markdown",
      "source": [
        "## Model"
      ]
    },
    {
      "metadata": {
        "id": "kuhTcnBETtYf",
        "colab_type": "code",
        "colab": {
          "autoexec": {
            "startup": false,
            "wait_interval": 0
          }
        }
      },
      "cell_type": "code",
      "source": [
        "feature_columns = ['Month', 'DayofMonth', 'DayOfWeek', 'DepTime', 'CRSDepTime',\n",
        "       'ArrTime', 'CRSArrTime', 'FlightNum', 'ActualElapsedTime',\n",
        "       'CRSElapsedTime', 'AirTime', 'ArrDelay', 'DepDelay', 'Distance',\n",
        "       'TaxiIn', 'TaxiOut', 'Cancelled', 'Diverted', 'CarrierDelay',\n",
        "       'WeatherDelay', 'NASDelay', 'SecurityDelay', 'LateAircraftDelay',\n",
        "       'UniqueCarrier_LabelEncoded', 'TailNum_LabelEncoded',\n",
        "       'Origin_LabelEncoded', 'Dest_LabelEncoded']\n",
        "X = airline_arrival[feature_columns]\n",
        "y = airline_arrival['target']"
      ],
      "execution_count": 0,
      "outputs": []
    },
    {
      "metadata": {
        "id": "AqljNUceTtYk",
        "colab_type": "code",
        "colab": {
          "autoexec": {
            "startup": false,
            "wait_interval": 0
          }
        },
        "outputId": "63488ed2-60b0-4a02-e0f8-0ea86e3e1d06"
      },
      "cell_type": "code",
      "source": [
        "X.head()"
      ],
      "execution_count": 0,
      "outputs": [
        {
          "output_type": "execute_result",
          "data": {
            "text/html": [
              "<div>\n",
              "<style scoped>\n",
              "    .dataframe tbody tr th:only-of-type {\n",
              "        vertical-align: middle;\n",
              "    }\n",
              "\n",
              "    .dataframe tbody tr th {\n",
              "        vertical-align: top;\n",
              "    }\n",
              "\n",
              "    .dataframe thead th {\n",
              "        text-align: right;\n",
              "    }\n",
              "</style>\n",
              "<table border=\"1\" class=\"dataframe\">\n",
              "  <thead>\n",
              "    <tr style=\"text-align: right;\">\n",
              "      <th></th>\n",
              "      <th>Month</th>\n",
              "      <th>DayofMonth</th>\n",
              "      <th>DayOfWeek</th>\n",
              "      <th>DepTime</th>\n",
              "      <th>CRSDepTime</th>\n",
              "      <th>ArrTime</th>\n",
              "      <th>CRSArrTime</th>\n",
              "      <th>FlightNum</th>\n",
              "      <th>ActualElapsedTime</th>\n",
              "      <th>CRSElapsedTime</th>\n",
              "      <th>AirTime</th>\n",
              "      <th>ArrDelay</th>\n",
              "      <th>DepDelay</th>\n",
              "      <th>Distance</th>\n",
              "      <th>TaxiIn</th>\n",
              "      <th>TaxiOut</th>\n",
              "      <th>Cancelled</th>\n",
              "      <th>Diverted</th>\n",
              "      <th>CarrierDelay</th>\n",
              "      <th>WeatherDelay</th>\n",
              "      <th>NASDelay</th>\n",
              "      <th>SecurityDelay</th>\n",
              "      <th>LateAircraftDelay</th>\n",
              "      <th>UniqueCarrier_LabelEncoded</th>\n",
              "      <th>TailNum_LabelEncoded</th>\n",
              "      <th>Origin_LabelEncoded</th>\n",
              "      <th>Dest_LabelEncoded</th>\n",
              "    </tr>\n",
              "  </thead>\n",
              "  <tbody>\n",
              "    <tr>\n",
              "      <th>6050882</th>\n",
              "      <td>1.356782</td>\n",
              "      <td>-1.447351</td>\n",
              "      <td>-1.471391</td>\n",
              "      <td>-1.580854</td>\n",
              "      <td>-1.595727</td>\n",
              "      <td>-1.423156</td>\n",
              "      <td>-1.379646</td>\n",
              "      <td>0.049321</td>\n",
              "      <td>0.608053</td>\n",
              "      <td>1.135037</td>\n",
              "      <td>0.770782</td>\n",
              "      <td>-1.225093</td>\n",
              "      <td>-0.310302</td>\n",
              "      <td>0.689321</td>\n",
              "      <td>-0.782798</td>\n",
              "      <td>-0.481290</td>\n",
              "      <td>0</td>\n",
              "      <td>0</td>\n",
              "      <td>-0.009079</td>\n",
              "      <td>-0.000944</td>\n",
              "      <td>-0.002434</td>\n",
              "      <td>-0.019226</td>\n",
              "      <td>-0.00926</td>\n",
              "      <td>18</td>\n",
              "      <td>611</td>\n",
              "      <td>224</td>\n",
              "      <td>136</td>\n",
              "    </tr>\n",
              "    <tr>\n",
              "      <th>6337246</th>\n",
              "      <td>1.356782</td>\n",
              "      <td>-0.197505</td>\n",
              "      <td>0.540216</td>\n",
              "      <td>-0.440286</td>\n",
              "      <td>-0.414204</td>\n",
              "      <td>-0.529423</td>\n",
              "      <td>-0.544573</td>\n",
              "      <td>0.015075</td>\n",
              "      <td>-1.044668</td>\n",
              "      <td>-0.993458</td>\n",
              "      <td>-0.964098</td>\n",
              "      <td>-0.471884</td>\n",
              "      <td>-0.395520</td>\n",
              "      <td>-0.967153</td>\n",
              "      <td>-0.174429</td>\n",
              "      <td>-0.658115</td>\n",
              "      <td>0</td>\n",
              "      <td>0</td>\n",
              "      <td>-0.009079</td>\n",
              "      <td>-0.000944</td>\n",
              "      <td>-0.002434</td>\n",
              "      <td>-0.019226</td>\n",
              "      <td>-0.00926</td>\n",
              "      <td>0</td>\n",
              "      <td>119</td>\n",
              "      <td>133</td>\n",
              "      <td>181</td>\n",
              "    </tr>\n",
              "    <tr>\n",
              "      <th>2321555</th>\n",
              "      <td>-0.702748</td>\n",
              "      <td>0.597851</td>\n",
              "      <td>-1.471391</td>\n",
              "      <td>0.916536</td>\n",
              "      <td>0.982143</td>\n",
              "      <td>0.793038</td>\n",
              "      <td>0.787402</td>\n",
              "      <td>-0.953012</td>\n",
              "      <td>-0.873697</td>\n",
              "      <td>-1.050985</td>\n",
              "      <td>-0.993754</td>\n",
              "      <td>-0.082293</td>\n",
              "      <td>-0.423926</td>\n",
              "      <td>-0.896136</td>\n",
              "      <td>-0.580008</td>\n",
              "      <td>0.756485</td>\n",
              "      <td>0</td>\n",
              "      <td>0</td>\n",
              "      <td>-0.009079</td>\n",
              "      <td>-0.000944</td>\n",
              "      <td>-0.002434</td>\n",
              "      <td>-0.019226</td>\n",
              "      <td>-0.00926</td>\n",
              "      <td>3</td>\n",
              "      <td>2663</td>\n",
              "      <td>258</td>\n",
              "      <td>111</td>\n",
              "    </tr>\n",
              "    <tr>\n",
              "      <th>6057490</th>\n",
              "      <td>1.356782</td>\n",
              "      <td>-0.879239</td>\n",
              "      <td>1.043118</td>\n",
              "      <td>-1.577366</td>\n",
              "      <td>-1.595727</td>\n",
              "      <td>-1.809011</td>\n",
              "      <td>-1.883450</td>\n",
              "      <td>2.525250</td>\n",
              "      <td>-1.073163</td>\n",
              "      <td>-0.964694</td>\n",
              "      <td>-0.949270</td>\n",
              "      <td>-0.471884</td>\n",
              "      <td>-0.281896</td>\n",
              "      <td>-1.015090</td>\n",
              "      <td>-0.782798</td>\n",
              "      <td>-0.658115</td>\n",
              "      <td>0</td>\n",
              "      <td>0</td>\n",
              "      <td>-0.009079</td>\n",
              "      <td>-0.000944</td>\n",
              "      <td>-0.002434</td>\n",
              "      <td>-0.019226</td>\n",
              "      <td>-0.00926</td>\n",
              "      <td>19</td>\n",
              "      <td>1556</td>\n",
              "      <td>109</td>\n",
              "      <td>210</td>\n",
              "    </tr>\n",
              "    <tr>\n",
              "      <th>2682393</th>\n",
              "      <td>-0.408530</td>\n",
              "      <td>1.620452</td>\n",
              "      <td>0.540216</td>\n",
              "      <td>-0.621661</td>\n",
              "      <td>-0.593222</td>\n",
              "      <td>-0.470061</td>\n",
              "      <td>-0.554925</td>\n",
              "      <td>-1.128842</td>\n",
              "      <td>1.662374</td>\n",
              "      <td>1.408289</td>\n",
              "      <td>1.452872</td>\n",
              "      <td>0.073543</td>\n",
              "      <td>-0.452332</td>\n",
              "      <td>1.262784</td>\n",
              "      <td>0.028360</td>\n",
              "      <td>1.640610</td>\n",
              "      <td>0</td>\n",
              "      <td>0</td>\n",
              "      <td>-0.009079</td>\n",
              "      <td>-0.000944</td>\n",
              "      <td>-0.002434</td>\n",
              "      <td>-0.019226</td>\n",
              "      <td>-0.00926</td>\n",
              "      <td>16</td>\n",
              "      <td>4392</td>\n",
              "      <td>210</td>\n",
              "      <td>220</td>\n",
              "    </tr>\n",
              "  </tbody>\n",
              "</table>\n",
              "</div>"
            ],
            "text/plain": [
              "            Month  DayofMonth  DayOfWeek   DepTime  CRSDepTime   ArrTime  \\\n",
              "6050882  1.356782   -1.447351  -1.471391 -1.580854   -1.595727 -1.423156   \n",
              "6337246  1.356782   -0.197505   0.540216 -0.440286   -0.414204 -0.529423   \n",
              "2321555 -0.702748    0.597851  -1.471391  0.916536    0.982143  0.793038   \n",
              "6057490  1.356782   -0.879239   1.043118 -1.577366   -1.595727 -1.809011   \n",
              "2682393 -0.408530    1.620452   0.540216 -0.621661   -0.593222 -0.470061   \n",
              "\n",
              "         CRSArrTime  FlightNum  ActualElapsedTime  CRSElapsedTime   AirTime  \\\n",
              "6050882   -1.379646   0.049321           0.608053        1.135037  0.770782   \n",
              "6337246   -0.544573   0.015075          -1.044668       -0.993458 -0.964098   \n",
              "2321555    0.787402  -0.953012          -0.873697       -1.050985 -0.993754   \n",
              "6057490   -1.883450   2.525250          -1.073163       -0.964694 -0.949270   \n",
              "2682393   -0.554925  -1.128842           1.662374        1.408289  1.452872   \n",
              "\n",
              "         ArrDelay  DepDelay  Distance    TaxiIn   TaxiOut  Cancelled  \\\n",
              "6050882 -1.225093 -0.310302  0.689321 -0.782798 -0.481290          0   \n",
              "6337246 -0.471884 -0.395520 -0.967153 -0.174429 -0.658115          0   \n",
              "2321555 -0.082293 -0.423926 -0.896136 -0.580008  0.756485          0   \n",
              "6057490 -0.471884 -0.281896 -1.015090 -0.782798 -0.658115          0   \n",
              "2682393  0.073543 -0.452332  1.262784  0.028360  1.640610          0   \n",
              "\n",
              "         Diverted  CarrierDelay  WeatherDelay  NASDelay  SecurityDelay  \\\n",
              "6050882         0     -0.009079     -0.000944 -0.002434      -0.019226   \n",
              "6337246         0     -0.009079     -0.000944 -0.002434      -0.019226   \n",
              "2321555         0     -0.009079     -0.000944 -0.002434      -0.019226   \n",
              "6057490         0     -0.009079     -0.000944 -0.002434      -0.019226   \n",
              "2682393         0     -0.009079     -0.000944 -0.002434      -0.019226   \n",
              "\n",
              "         LateAircraftDelay  UniqueCarrier_LabelEncoded  TailNum_LabelEncoded  \\\n",
              "6050882           -0.00926                          18                   611   \n",
              "6337246           -0.00926                           0                   119   \n",
              "2321555           -0.00926                           3                  2663   \n",
              "6057490           -0.00926                          19                  1556   \n",
              "2682393           -0.00926                          16                  4392   \n",
              "\n",
              "         Origin_LabelEncoded  Dest_LabelEncoded  \n",
              "6050882                  224                136  \n",
              "6337246                  133                181  \n",
              "2321555                  258                111  \n",
              "6057490                  109                210  \n",
              "2682393                  210                220  "
            ]
          },
          "metadata": {
            "tags": []
          },
          "execution_count": 31
        }
      ]
    },
    {
      "metadata": {
        "id": "TIskJ3JTTtYr",
        "colab_type": "code",
        "colab": {
          "autoexec": {
            "startup": false,
            "wait_interval": 0
          },
          "base_uri": "https://localhost:8080/",
          "height": 68
        },
        "outputId": "a15c60ed-7bf9-4926-9811-c35ad8485b92",
        "executionInfo": {
          "status": "ok",
          "timestamp": 1526616764575,
          "user_tz": -420,
          "elapsed": 710,
          "user": {
            "displayName": "Bảo Trương Đình",
            "photoUrl": "//lh5.googleusercontent.com/-eC4QdQkyBTM/AAAAAAAAAAI/AAAAAAAAAFA/6sBa5lwoOX0/s50-c-k-no/photo.jpg",
            "userId": "102262295523043259192"
          }
        }
      },
      "cell_type": "code",
      "source": [
        "y.value_counts()"
      ],
      "execution_count": 43,
      "outputs": [
        {
          "output_type": "execute_result",
          "data": {
            "text/plain": [
              "0    4335\n",
              "1     665\n",
              "Name: target, dtype: int64"
            ]
          },
          "metadata": {
            "tags": []
          },
          "execution_count": 43
        }
      ]
    },
    {
      "metadata": {
        "id": "dRI8952JTtY2",
        "colab_type": "text"
      },
      "cell_type": "markdown",
      "source": [
        "# LogisticRegression"
      ]
    },
    {
      "metadata": {
        "id": "voQ8TCKZTtY3",
        "colab_type": "code",
        "colab": {
          "autoexec": {
            "startup": false,
            "wait_interval": 0
          },
          "base_uri": "https://localhost:8080/",
          "height": 136
        },
        "outputId": "7bd05e9f-ea96-4e9e-bb84-85ab51f66aa8",
        "executionInfo": {
          "status": "ok",
          "timestamp": 1526616769319,
          "user_tz": -420,
          "elapsed": 834,
          "user": {
            "displayName": "Bảo Trương Đình",
            "photoUrl": "//lh5.googleusercontent.com/-eC4QdQkyBTM/AAAAAAAAAAI/AAAAAAAAAFA/6sBa5lwoOX0/s50-c-k-no/photo.jpg",
            "userId": "102262295523043259192"
          }
        }
      },
      "cell_type": "code",
      "source": [
        "X_train, X_test, y_train, y_test = train_test_split(X, y, random_state = 0)\n",
        "#We call our estimator instance clf, as it is a classifier.\n",
        "clf = LogisticRegression(random_state=0).fit(X_train, y_train)\n",
        "y_pred = clf.predict(X_test)\n",
        "# MultinomialNB_accuracy = accuracy_score(y_test, y_pred)*100\n",
        "\n",
        "print(classification_report(y_test, y_pred))"
      ],
      "execution_count": 44,
      "outputs": [
        {
          "output_type": "stream",
          "text": [
            "             precision    recall  f1-score   support\n",
            "\n",
            "          0       1.00      1.00      1.00      1099\n",
            "          1       0.99      0.97      0.98       151\n",
            "\n",
            "avg / total       1.00      1.00      1.00      1250\n",
            "\n"
          ],
          "name": "stdout"
        }
      ]
    },
    {
      "metadata": {
        "id": "MWPAUj7lTtY7",
        "colab_type": "code",
        "colab": {
          "autoexec": {
            "startup": false,
            "wait_interval": 0
          }
        }
      },
      "cell_type": "code",
      "source": [
        "# Create logistic regression\n",
        "logistic = LogisticRegression()"
      ],
      "execution_count": 0,
      "outputs": []
    },
    {
      "metadata": {
        "id": "eunAVWK0TtY_",
        "colab_type": "code",
        "colab": {
          "autoexec": {
            "startup": false,
            "wait_interval": 0
          }
        }
      },
      "cell_type": "code",
      "source": [
        "# Create Hyperparameter Search Space\n",
        "# Create regularization penalty space\n",
        "penalty = ['l1', 'l2']\n",
        "\n",
        "# Create regularization hyperparameter space\n",
        "C = np.logspace(0, 4, 10)\n",
        "\n",
        "# Create hyperparameter options\n",
        "hyperparameters = dict(C=C, penalty=penalty)"
      ],
      "execution_count": 0,
      "outputs": []
    },
    {
      "metadata": {
        "id": "9Qr29PN5TtZD",
        "colab_type": "code",
        "colab": {
          "autoexec": {
            "startup": false,
            "wait_interval": 0
          }
        }
      },
      "cell_type": "code",
      "source": [
        "# Create Grid Search\n",
        "# Create grid search using 5-fold cross validation\n",
        "clf = GridSearchCV(logistic, hyperparameters, cv=5, verbose=0)"
      ],
      "execution_count": 0,
      "outputs": []
    },
    {
      "metadata": {
        "id": "51pAmfu3TtZr",
        "colab_type": "code",
        "colab": {
          "autoexec": {
            "startup": false,
            "wait_interval": 0
          }
        }
      },
      "cell_type": "code",
      "source": [
        "# Fit grid search\n",
        "best_model = clf.fit(X_train, y_train)"
      ],
      "execution_count": 0,
      "outputs": []
    },
    {
      "metadata": {
        "id": "3t-s8EWrTtZu",
        "colab_type": "code",
        "colab": {
          "autoexec": {
            "startup": false,
            "wait_interval": 0
          },
          "base_uri": "https://localhost:8080/",
          "height": 51
        },
        "outputId": "83dd6f75-faa5-474a-a271-6540f93522e6",
        "executionInfo": {
          "status": "ok",
          "timestamp": 1526617018080,
          "user_tz": -420,
          "elapsed": 896,
          "user": {
            "displayName": "Bảo Trương Đình",
            "photoUrl": "//lh5.googleusercontent.com/-eC4QdQkyBTM/AAAAAAAAAAI/AAAAAAAAAFA/6sBa5lwoOX0/s50-c-k-no/photo.jpg",
            "userId": "102262295523043259192"
          }
        }
      },
      "cell_type": "code",
      "source": [
        "# View Hyperparameter Values Of Best Model\n",
        "# View best hyperparameters\n",
        "print('Best Penalty:', best_model.best_estimator_.get_params()['penalty'])\n",
        "print('Best C:', best_model.best_estimator_.get_params()['C'])"
      ],
      "execution_count": 49,
      "outputs": [
        {
          "output_type": "stream",
          "text": [
            "Best Penalty: l1\n",
            "Best C: 1291.5496650148827\n"
          ],
          "name": "stdout"
        }
      ]
    },
    {
      "metadata": {
        "id": "Gg2iD49RTtZz",
        "colab_type": "code",
        "colab": {
          "autoexec": {
            "startup": false,
            "wait_interval": 0
          }
        }
      },
      "cell_type": "code",
      "source": [
        "# Predict Using Best Model\n",
        "# Predict target vector\n",
        "y_pred = best_model.predict(X_test)"
      ],
      "execution_count": 0,
      "outputs": []
    },
    {
      "metadata": {
        "id": "i_nOBv8HTtaM",
        "colab_type": "code",
        "colab": {
          "autoexec": {
            "startup": false,
            "wait_interval": 0
          },
          "base_uri": "https://localhost:8080/",
          "height": 136
        },
        "outputId": "72418af0-6e41-456b-e948-fd680921ba8f",
        "executionInfo": {
          "status": "ok",
          "timestamp": 1526617025042,
          "user_tz": -420,
          "elapsed": 692,
          "user": {
            "displayName": "Bảo Trương Đình",
            "photoUrl": "//lh5.googleusercontent.com/-eC4QdQkyBTM/AAAAAAAAAAI/AAAAAAAAAFA/6sBa5lwoOX0/s50-c-k-no/photo.jpg",
            "userId": "102262295523043259192"
          }
        }
      },
      "cell_type": "code",
      "source": [
        "print(classification_report(y_test, y_pred))"
      ],
      "execution_count": 51,
      "outputs": [
        {
          "output_type": "stream",
          "text": [
            "             precision    recall  f1-score   support\n",
            "\n",
            "          0       1.00      1.00      1.00      1099\n",
            "          1       0.99      1.00      1.00       151\n",
            "\n",
            "avg / total       1.00      1.00      1.00      1250\n",
            "\n"
          ],
          "name": "stdout"
        }
      ]
    },
    {
      "metadata": {
        "id": "VXSgj28FTtaa",
        "colab_type": "text"
      },
      "cell_type": "markdown",
      "source": [
        "# SVM"
      ]
    },
    {
      "metadata": {
        "id": "10R5_pNoTtab",
        "colab_type": "code",
        "colab": {
          "autoexec": {
            "startup": false,
            "wait_interval": 0
          },
          "base_uri": "https://localhost:8080/",
          "height": 190
        },
        "outputId": "025a26d1-fa1e-44a1-a3b2-fa6d393c9544",
        "executionInfo": {
          "status": "ok",
          "timestamp": 1526617033545,
          "user_tz": -420,
          "elapsed": 1954,
          "user": {
            "displayName": "Bảo Trương Đình",
            "photoUrl": "//lh5.googleusercontent.com/-eC4QdQkyBTM/AAAAAAAAAAI/AAAAAAAAAFA/6sBa5lwoOX0/s50-c-k-no/photo.jpg",
            "userId": "102262295523043259192"
          }
        }
      },
      "cell_type": "code",
      "source": [
        "X_train, X_test, y_train, y_test = train_test_split(X, y, random_state = 0)\n",
        "#We call our estimator instance clf, as it is a classifier.\n",
        "clf = SVC().fit(X_train, y_train)\n",
        "y_pred = clf.predict(X_test)\n",
        "# MultinomialNB_accuracy = accuracy_score(y_test, y_pred)*100\n",
        "\n",
        "print(classification_report(y_test, y_pred))"
      ],
      "execution_count": 52,
      "outputs": [
        {
          "output_type": "stream",
          "text": [
            "             precision    recall  f1-score   support\n",
            "\n",
            "          0       0.88      1.00      0.94      1099\n",
            "          1       0.00      0.00      0.00       151\n",
            "\n",
            "avg / total       0.77      0.88      0.82      1250\n",
            "\n"
          ],
          "name": "stdout"
        },
        {
          "output_type": "stream",
          "text": [
            "/usr/local/lib/python3.6/dist-packages/sklearn/metrics/classification.py:1135: UndefinedMetricWarning: Precision and F-score are ill-defined and being set to 0.0 in labels with no predicted samples.\n",
            "  'precision', 'predicted', average, warn_for)\n"
          ],
          "name": "stderr"
        }
      ]
    },
    {
      "metadata": {
        "id": "f8ejHK1BUifU",
        "colab_type": "code",
        "colab": {
          "autoexec": {
            "startup": false,
            "wait_interval": 0
          },
          "base_uri": "https://localhost:8080/",
          "height": 1560
        },
        "outputId": "c1c4d3b2-624b-43e6-b997-8ab902027cd1",
        "executionInfo": {
          "status": "error",
          "timestamp": 1526617841741,
          "user_tz": -420,
          "elapsed": 770059,
          "user": {
            "displayName": "Bảo Trương Đình",
            "photoUrl": "//lh5.googleusercontent.com/-eC4QdQkyBTM/AAAAAAAAAAI/AAAAAAAAAFA/6sBa5lwoOX0/s50-c-k-no/photo.jpg",
            "userId": "102262295523043259192"
          }
        }
      },
      "cell_type": "code",
      "source": [
        "X_train, X_test, y_train, y_test = train_test_split(X, y, random_state = 0)\n",
        "tuned_parameters = [{'kernel': ['rbf'], 'gamma': [1e-3, 1e-4],\n",
        "                     'C': [1, 10, 100, 1000]},\n",
        "                    {'kernel': ['linear'], 'C': [1, 10, 100, 1000]}]\n",
        "\n",
        "clf = GridSearchCV(SVC(), tuned_parameters, cv=5)\n",
        "# Fit grid search\n",
        "best_model = clf.fit(X_train, y_train)\n",
        "\n",
        "print(clf.best_params_)\n",
        "\n",
        "y_pred = best_model.predict(X_test)\n",
        "print(classification_report(y_test, y_pred))\n"
      ],
      "execution_count": 53,
      "outputs": [
        {
          "output_type": "error",
          "ename": "KeyboardInterrupt",
          "evalue": "ignored",
          "traceback": [
            "\u001b[0;31m---------------------------------------------------------------------------\u001b[0m",
            "\u001b[0;31mKeyboardInterrupt\u001b[0m                         Traceback (most recent call last)",
            "\u001b[0;32m<ipython-input-53-c1cd2fb5421b>\u001b[0m in \u001b[0;36m<module>\u001b[0;34m()\u001b[0m\n\u001b[1;32m      6\u001b[0m \u001b[0mclf\u001b[0m \u001b[0;34m=\u001b[0m \u001b[0mGridSearchCV\u001b[0m\u001b[0;34m(\u001b[0m\u001b[0mSVC\u001b[0m\u001b[0;34m(\u001b[0m\u001b[0;34m)\u001b[0m\u001b[0;34m,\u001b[0m \u001b[0mtuned_parameters\u001b[0m\u001b[0;34m,\u001b[0m \u001b[0mcv\u001b[0m\u001b[0;34m=\u001b[0m\u001b[0;36m5\u001b[0m\u001b[0;34m)\u001b[0m\u001b[0;34m\u001b[0m\u001b[0m\n\u001b[1;32m      7\u001b[0m \u001b[0;31m# Fit grid search\u001b[0m\u001b[0;34m\u001b[0m\u001b[0;34m\u001b[0m\u001b[0m\n\u001b[0;32m----> 8\u001b[0;31m \u001b[0mbest_model\u001b[0m \u001b[0;34m=\u001b[0m \u001b[0mclf\u001b[0m\u001b[0;34m.\u001b[0m\u001b[0mfit\u001b[0m\u001b[0;34m(\u001b[0m\u001b[0mX_train\u001b[0m\u001b[0;34m,\u001b[0m \u001b[0my_train\u001b[0m\u001b[0;34m)\u001b[0m\u001b[0;34m\u001b[0m\u001b[0m\n\u001b[0m\u001b[1;32m      9\u001b[0m \u001b[0;34m\u001b[0m\u001b[0m\n\u001b[1;32m     10\u001b[0m \u001b[0mprint\u001b[0m\u001b[0;34m(\u001b[0m\u001b[0mclf\u001b[0m\u001b[0;34m.\u001b[0m\u001b[0mbest_params_\u001b[0m\u001b[0;34m)\u001b[0m\u001b[0;34m\u001b[0m\u001b[0m\n",
            "\u001b[0;32m/usr/local/lib/python3.6/dist-packages/sklearn/model_selection/_search.py\u001b[0m in \u001b[0;36mfit\u001b[0;34m(self, X, y, groups, **fit_params)\u001b[0m\n\u001b[1;32m    637\u001b[0m                                   error_score=self.error_score)\n\u001b[1;32m    638\u001b[0m           for parameters, (train, test) in product(candidate_params,\n\u001b[0;32m--> 639\u001b[0;31m                                                    cv.split(X, y, groups)))\n\u001b[0m\u001b[1;32m    640\u001b[0m \u001b[0;34m\u001b[0m\u001b[0m\n\u001b[1;32m    641\u001b[0m         \u001b[0;31m# if one choose to see train score, \"out\" will contain train score info\u001b[0m\u001b[0;34m\u001b[0m\u001b[0;34m\u001b[0m\u001b[0m\n",
            "\u001b[0;32m/usr/local/lib/python3.6/dist-packages/sklearn/externals/joblib/parallel.py\u001b[0m in \u001b[0;36m__call__\u001b[0;34m(self, iterable)\u001b[0m\n\u001b[1;32m    777\u001b[0m             \u001b[0;31m# was dispatched. In particular this covers the edge\u001b[0m\u001b[0;34m\u001b[0m\u001b[0;34m\u001b[0m\u001b[0m\n\u001b[1;32m    778\u001b[0m             \u001b[0;31m# case of Parallel used with an exhausted iterator.\u001b[0m\u001b[0;34m\u001b[0m\u001b[0;34m\u001b[0m\u001b[0m\n\u001b[0;32m--> 779\u001b[0;31m             \u001b[0;32mwhile\u001b[0m \u001b[0mself\u001b[0m\u001b[0;34m.\u001b[0m\u001b[0mdispatch_one_batch\u001b[0m\u001b[0;34m(\u001b[0m\u001b[0miterator\u001b[0m\u001b[0;34m)\u001b[0m\u001b[0;34m:\u001b[0m\u001b[0;34m\u001b[0m\u001b[0m\n\u001b[0m\u001b[1;32m    780\u001b[0m                 \u001b[0mself\u001b[0m\u001b[0;34m.\u001b[0m\u001b[0m_iterating\u001b[0m \u001b[0;34m=\u001b[0m \u001b[0;32mTrue\u001b[0m\u001b[0;34m\u001b[0m\u001b[0m\n\u001b[1;32m    781\u001b[0m             \u001b[0;32melse\u001b[0m\u001b[0;34m:\u001b[0m\u001b[0;34m\u001b[0m\u001b[0m\n",
            "\u001b[0;32m/usr/local/lib/python3.6/dist-packages/sklearn/externals/joblib/parallel.py\u001b[0m in \u001b[0;36mdispatch_one_batch\u001b[0;34m(self, iterator)\u001b[0m\n\u001b[1;32m    623\u001b[0m                 \u001b[0;32mreturn\u001b[0m \u001b[0;32mFalse\u001b[0m\u001b[0;34m\u001b[0m\u001b[0m\n\u001b[1;32m    624\u001b[0m             \u001b[0;32melse\u001b[0m\u001b[0;34m:\u001b[0m\u001b[0;34m\u001b[0m\u001b[0m\n\u001b[0;32m--> 625\u001b[0;31m                 \u001b[0mself\u001b[0m\u001b[0;34m.\u001b[0m\u001b[0m_dispatch\u001b[0m\u001b[0;34m(\u001b[0m\u001b[0mtasks\u001b[0m\u001b[0;34m)\u001b[0m\u001b[0;34m\u001b[0m\u001b[0m\n\u001b[0m\u001b[1;32m    626\u001b[0m                 \u001b[0;32mreturn\u001b[0m \u001b[0;32mTrue\u001b[0m\u001b[0;34m\u001b[0m\u001b[0m\n\u001b[1;32m    627\u001b[0m \u001b[0;34m\u001b[0m\u001b[0m\n",
            "\u001b[0;32m/usr/local/lib/python3.6/dist-packages/sklearn/externals/joblib/parallel.py\u001b[0m in \u001b[0;36m_dispatch\u001b[0;34m(self, batch)\u001b[0m\n\u001b[1;32m    586\u001b[0m         \u001b[0mdispatch_timestamp\u001b[0m \u001b[0;34m=\u001b[0m \u001b[0mtime\u001b[0m\u001b[0;34m.\u001b[0m\u001b[0mtime\u001b[0m\u001b[0;34m(\u001b[0m\u001b[0;34m)\u001b[0m\u001b[0;34m\u001b[0m\u001b[0m\n\u001b[1;32m    587\u001b[0m         \u001b[0mcb\u001b[0m \u001b[0;34m=\u001b[0m \u001b[0mBatchCompletionCallBack\u001b[0m\u001b[0;34m(\u001b[0m\u001b[0mdispatch_timestamp\u001b[0m\u001b[0;34m,\u001b[0m \u001b[0mlen\u001b[0m\u001b[0;34m(\u001b[0m\u001b[0mbatch\u001b[0m\u001b[0;34m)\u001b[0m\u001b[0;34m,\u001b[0m \u001b[0mself\u001b[0m\u001b[0;34m)\u001b[0m\u001b[0;34m\u001b[0m\u001b[0m\n\u001b[0;32m--> 588\u001b[0;31m         \u001b[0mjob\u001b[0m \u001b[0;34m=\u001b[0m \u001b[0mself\u001b[0m\u001b[0;34m.\u001b[0m\u001b[0m_backend\u001b[0m\u001b[0;34m.\u001b[0m\u001b[0mapply_async\u001b[0m\u001b[0;34m(\u001b[0m\u001b[0mbatch\u001b[0m\u001b[0;34m,\u001b[0m \u001b[0mcallback\u001b[0m\u001b[0;34m=\u001b[0m\u001b[0mcb\u001b[0m\u001b[0;34m)\u001b[0m\u001b[0;34m\u001b[0m\u001b[0m\n\u001b[0m\u001b[1;32m    589\u001b[0m         \u001b[0mself\u001b[0m\u001b[0;34m.\u001b[0m\u001b[0m_jobs\u001b[0m\u001b[0;34m.\u001b[0m\u001b[0mappend\u001b[0m\u001b[0;34m(\u001b[0m\u001b[0mjob\u001b[0m\u001b[0;34m)\u001b[0m\u001b[0;34m\u001b[0m\u001b[0m\n\u001b[1;32m    590\u001b[0m \u001b[0;34m\u001b[0m\u001b[0m\n",
            "\u001b[0;32m/usr/local/lib/python3.6/dist-packages/sklearn/externals/joblib/_parallel_backends.py\u001b[0m in \u001b[0;36mapply_async\u001b[0;34m(self, func, callback)\u001b[0m\n\u001b[1;32m    109\u001b[0m     \u001b[0;32mdef\u001b[0m \u001b[0mapply_async\u001b[0m\u001b[0;34m(\u001b[0m\u001b[0mself\u001b[0m\u001b[0;34m,\u001b[0m \u001b[0mfunc\u001b[0m\u001b[0;34m,\u001b[0m \u001b[0mcallback\u001b[0m\u001b[0;34m=\u001b[0m\u001b[0;32mNone\u001b[0m\u001b[0;34m)\u001b[0m\u001b[0;34m:\u001b[0m\u001b[0;34m\u001b[0m\u001b[0m\n\u001b[1;32m    110\u001b[0m         \u001b[0;34m\"\"\"Schedule a func to be run\"\"\"\u001b[0m\u001b[0;34m\u001b[0m\u001b[0m\n\u001b[0;32m--> 111\u001b[0;31m         \u001b[0mresult\u001b[0m \u001b[0;34m=\u001b[0m \u001b[0mImmediateResult\u001b[0m\u001b[0;34m(\u001b[0m\u001b[0mfunc\u001b[0m\u001b[0;34m)\u001b[0m\u001b[0;34m\u001b[0m\u001b[0m\n\u001b[0m\u001b[1;32m    112\u001b[0m         \u001b[0;32mif\u001b[0m \u001b[0mcallback\u001b[0m\u001b[0;34m:\u001b[0m\u001b[0;34m\u001b[0m\u001b[0m\n\u001b[1;32m    113\u001b[0m             \u001b[0mcallback\u001b[0m\u001b[0;34m(\u001b[0m\u001b[0mresult\u001b[0m\u001b[0;34m)\u001b[0m\u001b[0;34m\u001b[0m\u001b[0m\n",
            "\u001b[0;32m/usr/local/lib/python3.6/dist-packages/sklearn/externals/joblib/_parallel_backends.py\u001b[0m in \u001b[0;36m__init__\u001b[0;34m(self, batch)\u001b[0m\n\u001b[1;32m    330\u001b[0m         \u001b[0;31m# Don't delay the application, to avoid keeping the input\u001b[0m\u001b[0;34m\u001b[0m\u001b[0;34m\u001b[0m\u001b[0m\n\u001b[1;32m    331\u001b[0m         \u001b[0;31m# arguments in memory\u001b[0m\u001b[0;34m\u001b[0m\u001b[0;34m\u001b[0m\u001b[0m\n\u001b[0;32m--> 332\u001b[0;31m         \u001b[0mself\u001b[0m\u001b[0;34m.\u001b[0m\u001b[0mresults\u001b[0m \u001b[0;34m=\u001b[0m \u001b[0mbatch\u001b[0m\u001b[0;34m(\u001b[0m\u001b[0;34m)\u001b[0m\u001b[0;34m\u001b[0m\u001b[0m\n\u001b[0m\u001b[1;32m    333\u001b[0m \u001b[0;34m\u001b[0m\u001b[0m\n\u001b[1;32m    334\u001b[0m     \u001b[0;32mdef\u001b[0m \u001b[0mget\u001b[0m\u001b[0;34m(\u001b[0m\u001b[0mself\u001b[0m\u001b[0;34m)\u001b[0m\u001b[0;34m:\u001b[0m\u001b[0;34m\u001b[0m\u001b[0m\n",
            "\u001b[0;32m/usr/local/lib/python3.6/dist-packages/sklearn/externals/joblib/parallel.py\u001b[0m in \u001b[0;36m__call__\u001b[0;34m(self)\u001b[0m\n\u001b[1;32m    129\u001b[0m \u001b[0;34m\u001b[0m\u001b[0m\n\u001b[1;32m    130\u001b[0m     \u001b[0;32mdef\u001b[0m \u001b[0m__call__\u001b[0m\u001b[0;34m(\u001b[0m\u001b[0mself\u001b[0m\u001b[0;34m)\u001b[0m\u001b[0;34m:\u001b[0m\u001b[0;34m\u001b[0m\u001b[0m\n\u001b[0;32m--> 131\u001b[0;31m         \u001b[0;32mreturn\u001b[0m \u001b[0;34m[\u001b[0m\u001b[0mfunc\u001b[0m\u001b[0;34m(\u001b[0m\u001b[0;34m*\u001b[0m\u001b[0margs\u001b[0m\u001b[0;34m,\u001b[0m \u001b[0;34m**\u001b[0m\u001b[0mkwargs\u001b[0m\u001b[0;34m)\u001b[0m \u001b[0;32mfor\u001b[0m \u001b[0mfunc\u001b[0m\u001b[0;34m,\u001b[0m \u001b[0margs\u001b[0m\u001b[0;34m,\u001b[0m \u001b[0mkwargs\u001b[0m \u001b[0;32min\u001b[0m \u001b[0mself\u001b[0m\u001b[0;34m.\u001b[0m\u001b[0mitems\u001b[0m\u001b[0;34m]\u001b[0m\u001b[0;34m\u001b[0m\u001b[0m\n\u001b[0m\u001b[1;32m    132\u001b[0m \u001b[0;34m\u001b[0m\u001b[0m\n\u001b[1;32m    133\u001b[0m     \u001b[0;32mdef\u001b[0m \u001b[0m__len__\u001b[0m\u001b[0;34m(\u001b[0m\u001b[0mself\u001b[0m\u001b[0;34m)\u001b[0m\u001b[0;34m:\u001b[0m\u001b[0;34m\u001b[0m\u001b[0m\n",
            "\u001b[0;32m/usr/local/lib/python3.6/dist-packages/sklearn/externals/joblib/parallel.py\u001b[0m in \u001b[0;36m<listcomp>\u001b[0;34m(.0)\u001b[0m\n\u001b[1;32m    129\u001b[0m \u001b[0;34m\u001b[0m\u001b[0m\n\u001b[1;32m    130\u001b[0m     \u001b[0;32mdef\u001b[0m \u001b[0m__call__\u001b[0m\u001b[0;34m(\u001b[0m\u001b[0mself\u001b[0m\u001b[0;34m)\u001b[0m\u001b[0;34m:\u001b[0m\u001b[0;34m\u001b[0m\u001b[0m\n\u001b[0;32m--> 131\u001b[0;31m         \u001b[0;32mreturn\u001b[0m \u001b[0;34m[\u001b[0m\u001b[0mfunc\u001b[0m\u001b[0;34m(\u001b[0m\u001b[0;34m*\u001b[0m\u001b[0margs\u001b[0m\u001b[0;34m,\u001b[0m \u001b[0;34m**\u001b[0m\u001b[0mkwargs\u001b[0m\u001b[0;34m)\u001b[0m \u001b[0;32mfor\u001b[0m \u001b[0mfunc\u001b[0m\u001b[0;34m,\u001b[0m \u001b[0margs\u001b[0m\u001b[0;34m,\u001b[0m \u001b[0mkwargs\u001b[0m \u001b[0;32min\u001b[0m \u001b[0mself\u001b[0m\u001b[0;34m.\u001b[0m\u001b[0mitems\u001b[0m\u001b[0;34m]\u001b[0m\u001b[0;34m\u001b[0m\u001b[0m\n\u001b[0m\u001b[1;32m    132\u001b[0m \u001b[0;34m\u001b[0m\u001b[0m\n\u001b[1;32m    133\u001b[0m     \u001b[0;32mdef\u001b[0m \u001b[0m__len__\u001b[0m\u001b[0;34m(\u001b[0m\u001b[0mself\u001b[0m\u001b[0;34m)\u001b[0m\u001b[0;34m:\u001b[0m\u001b[0;34m\u001b[0m\u001b[0m\n",
            "\u001b[0;32m/usr/local/lib/python3.6/dist-packages/sklearn/model_selection/_validation.py\u001b[0m in \u001b[0;36m_fit_and_score\u001b[0;34m(estimator, X, y, scorer, train, test, verbose, parameters, fit_params, return_train_score, return_parameters, return_n_test_samples, return_times, error_score)\u001b[0m\n\u001b[1;32m    456\u001b[0m             \u001b[0mestimator\u001b[0m\u001b[0;34m.\u001b[0m\u001b[0mfit\u001b[0m\u001b[0;34m(\u001b[0m\u001b[0mX_train\u001b[0m\u001b[0;34m,\u001b[0m \u001b[0;34m**\u001b[0m\u001b[0mfit_params\u001b[0m\u001b[0;34m)\u001b[0m\u001b[0;34m\u001b[0m\u001b[0m\n\u001b[1;32m    457\u001b[0m         \u001b[0;32melse\u001b[0m\u001b[0;34m:\u001b[0m\u001b[0;34m\u001b[0m\u001b[0m\n\u001b[0;32m--> 458\u001b[0;31m             \u001b[0mestimator\u001b[0m\u001b[0;34m.\u001b[0m\u001b[0mfit\u001b[0m\u001b[0;34m(\u001b[0m\u001b[0mX_train\u001b[0m\u001b[0;34m,\u001b[0m \u001b[0my_train\u001b[0m\u001b[0;34m,\u001b[0m \u001b[0;34m**\u001b[0m\u001b[0mfit_params\u001b[0m\u001b[0;34m)\u001b[0m\u001b[0;34m\u001b[0m\u001b[0m\n\u001b[0m\u001b[1;32m    459\u001b[0m \u001b[0;34m\u001b[0m\u001b[0m\n\u001b[1;32m    460\u001b[0m     \u001b[0;32mexcept\u001b[0m \u001b[0mException\u001b[0m \u001b[0;32mas\u001b[0m \u001b[0me\u001b[0m\u001b[0;34m:\u001b[0m\u001b[0;34m\u001b[0m\u001b[0m\n",
            "\u001b[0;32m/usr/local/lib/python3.6/dist-packages/sklearn/svm/base.py\u001b[0m in \u001b[0;36mfit\u001b[0;34m(self, X, y, sample_weight)\u001b[0m\n\u001b[1;32m    185\u001b[0m \u001b[0;34m\u001b[0m\u001b[0m\n\u001b[1;32m    186\u001b[0m         \u001b[0mseed\u001b[0m \u001b[0;34m=\u001b[0m \u001b[0mrnd\u001b[0m\u001b[0;34m.\u001b[0m\u001b[0mrandint\u001b[0m\u001b[0;34m(\u001b[0m\u001b[0mnp\u001b[0m\u001b[0;34m.\u001b[0m\u001b[0miinfo\u001b[0m\u001b[0;34m(\u001b[0m\u001b[0;34m'i'\u001b[0m\u001b[0;34m)\u001b[0m\u001b[0;34m.\u001b[0m\u001b[0mmax\u001b[0m\u001b[0;34m)\u001b[0m\u001b[0;34m\u001b[0m\u001b[0m\n\u001b[0;32m--> 187\u001b[0;31m         \u001b[0mfit\u001b[0m\u001b[0;34m(\u001b[0m\u001b[0mX\u001b[0m\u001b[0;34m,\u001b[0m \u001b[0my\u001b[0m\u001b[0;34m,\u001b[0m \u001b[0msample_weight\u001b[0m\u001b[0;34m,\u001b[0m \u001b[0msolver_type\u001b[0m\u001b[0;34m,\u001b[0m \u001b[0mkernel\u001b[0m\u001b[0;34m,\u001b[0m \u001b[0mrandom_seed\u001b[0m\u001b[0;34m=\u001b[0m\u001b[0mseed\u001b[0m\u001b[0;34m)\u001b[0m\u001b[0;34m\u001b[0m\u001b[0m\n\u001b[0m\u001b[1;32m    188\u001b[0m         \u001b[0;31m# see comment on the other call to np.iinfo in this file\u001b[0m\u001b[0;34m\u001b[0m\u001b[0;34m\u001b[0m\u001b[0m\n\u001b[1;32m    189\u001b[0m \u001b[0;34m\u001b[0m\u001b[0m\n",
            "\u001b[0;32m/usr/local/lib/python3.6/dist-packages/sklearn/svm/base.py\u001b[0m in \u001b[0;36m_dense_fit\u001b[0;34m(self, X, y, sample_weight, solver_type, kernel, random_seed)\u001b[0m\n\u001b[1;32m    252\u001b[0m                 \u001b[0mcache_size\u001b[0m\u001b[0;34m=\u001b[0m\u001b[0mself\u001b[0m\u001b[0;34m.\u001b[0m\u001b[0mcache_size\u001b[0m\u001b[0;34m,\u001b[0m \u001b[0mcoef0\u001b[0m\u001b[0;34m=\u001b[0m\u001b[0mself\u001b[0m\u001b[0;34m.\u001b[0m\u001b[0mcoef0\u001b[0m\u001b[0;34m,\u001b[0m\u001b[0;34m\u001b[0m\u001b[0m\n\u001b[1;32m    253\u001b[0m                 \u001b[0mgamma\u001b[0m\u001b[0;34m=\u001b[0m\u001b[0mself\u001b[0m\u001b[0;34m.\u001b[0m\u001b[0m_gamma\u001b[0m\u001b[0;34m,\u001b[0m \u001b[0mepsilon\u001b[0m\u001b[0;34m=\u001b[0m\u001b[0mself\u001b[0m\u001b[0;34m.\u001b[0m\u001b[0mepsilon\u001b[0m\u001b[0;34m,\u001b[0m\u001b[0;34m\u001b[0m\u001b[0m\n\u001b[0;32m--> 254\u001b[0;31m                 max_iter=self.max_iter, random_seed=random_seed)\n\u001b[0m\u001b[1;32m    255\u001b[0m \u001b[0;34m\u001b[0m\u001b[0m\n\u001b[1;32m    256\u001b[0m         \u001b[0mself\u001b[0m\u001b[0;34m.\u001b[0m\u001b[0m_warn_from_fit_status\u001b[0m\u001b[0;34m(\u001b[0m\u001b[0;34m)\u001b[0m\u001b[0;34m\u001b[0m\u001b[0m\n",
            "\u001b[0;31mKeyboardInterrupt\u001b[0m: "
          ]
        }
      ]
    },
    {
      "metadata": {
        "id": "VUmOxv5mTtah",
        "colab_type": "text"
      },
      "cell_type": "markdown",
      "source": [
        "# Random Forest Classifier"
      ]
    },
    {
      "metadata": {
        "id": "n4-kMt2BTtaj",
        "colab_type": "code",
        "colab": {
          "autoexec": {
            "startup": false,
            "wait_interval": 0
          }
        },
        "outputId": "6fa4a586-b026-40ae-f40d-ab6773201c9b"
      },
      "cell_type": "code",
      "source": [
        "X_train, X_test, y_train, y_test = train_test_split(X, y, random_state = 0)\n",
        "#We call our estimator instance clf, as it is a classifier.\n",
        "clf = RandomForestClassifier(n_estimators=200, max_depth=3, random_state=0).fit(X_train, y_train)\n",
        "y_pred = clf.predict(X_test)\n",
        "# MultinomialNB_accuracy = accuracy_score(y_test, y_pred)*100\n",
        "\n",
        "print(classification_report(y_test, y_pred))"
      ],
      "execution_count": 0,
      "outputs": [
        {
          "output_type": "stream",
          "text": [
            "             precision    recall  f1-score   support\n",
            "\n",
            "          0       1.00      1.00      1.00    252736\n",
            "          1       1.00      1.00      1.00     34055\n",
            "\n",
            "avg / total       1.00      1.00      1.00    286791\n",
            "\n"
          ],
          "name": "stdout"
        }
      ]
    },
    {
      "metadata": {
        "id": "f4a8NGb9Ttam",
        "colab_type": "code",
        "colab": {
          "autoexec": {
            "startup": false,
            "wait_interval": 0
          }
        }
      },
      "cell_type": "code",
      "source": [
        "X_train, X_test, y_train, y_test = train_test_split(X, y, random_state = 0)\n",
        "rfc = RandomForestClassifier(n_jobs=-1,max_features= 'sqrt' ,n_estimators=50, oob_score = True) \n",
        "\n",
        "param_grid = { \n",
        "    'n_estimators': [200, 700],\n",
        "    'max_features': ['auto', 'sqrt', 'log2'],\n",
        "    'max_depth' : [4,5,6,7,8],\n",
        "    'criterion' :['gini', 'entropy']\n",
        "}\n",
        "\n",
        "CV_rfc = GridSearchCV(estimator=rfc, param_grid=param_grid, cv= 5)\n",
        "best_rfc_model = CV_rfc.fit(X_train, y_train)\n",
        "print(CV_rfc.best_params_)\n",
        "\n",
        "y_pred = best_rfc_model.predict(X_test)\n",
        "print(classification_report(y_test, y_pred))"
      ],
      "execution_count": 0,
      "outputs": []
    },
    {
      "metadata": {
        "id": "2-Ym0JQVTtaq",
        "colab_type": "text"
      },
      "cell_type": "markdown",
      "source": [
        "# Decision Tree"
      ]
    },
    {
      "metadata": {
        "id": "c5alVnT3Ttaq",
        "colab_type": "code",
        "colab": {
          "autoexec": {
            "startup": false,
            "wait_interval": 0
          }
        },
        "outputId": "986eef57-a7d6-459e-bf7b-bb6b40f7175c"
      },
      "cell_type": "code",
      "source": [
        "\n",
        "X_train, X_test, y_train, y_test = train_test_split(X, y, random_state = 0)\n",
        "#We call our estimator instance clf, as it is a classifier.\n",
        "clf = DecisionTreeClassifier()\n",
        "clf = clf.fit(X_train, y_train)\n",
        "y_pred = clf.predict(X_test)\n",
        "# MultinomialNB_accuracy = accuracy_score(y_test, y_pred)*100\n",
        "\n",
        "print(classification_report(y_test, y_pred))"
      ],
      "execution_count": 0,
      "outputs": [
        {
          "output_type": "stream",
          "text": [
            "             precision    recall  f1-score   support\n",
            "\n",
            "          0       1.00      1.00      1.00      1099\n",
            "          1       1.00      1.00      1.00       151\n",
            "\n",
            "avg / total       1.00      1.00      1.00      1250\n",
            "\n"
          ],
          "name": "stdout"
        }
      ]
    },
    {
      "metadata": {
        "id": "WFbnmCcoTtau",
        "colab_type": "code",
        "colab": {
          "autoexec": {
            "startup": false,
            "wait_interval": 0
          }
        },
        "outputId": "8bb4e2c4-1ca4-4031-d170-fcb3f44bbdc8"
      },
      "cell_type": "code",
      "source": [
        "from sklearn.model_selection import StratifiedKFold\n",
        "X_train, X_test, y_train, y_test = train_test_split(X, y, random_state = 0)\n",
        "decision_tree_classifier = tree.DecisionTreeClassifier(random_state=0)\n",
        "\n",
        "parameter_grid = {'max_depth': [1, 2, 3, 4, 5],\n",
        "                  'max_features': [1, 2, 3, 4]}\n",
        "\n",
        "cross_validation = StratifiedKFold(n_splits=2, random_state=None, shuffle=False)\n",
        "\n",
        "grid_search_decision_tree = GridSearchCV(decision_tree_classifier, param_grid = parameter_grid,\n",
        "                          cv = cross_validation)\n",
        "\n",
        "best_decision_tree_model = grid_search_decision_tree.fit(X_train, y_train)\n",
        "\n",
        "print(\"Best Score: {}\".format(grid_search_decision_tree.best_score_))\n",
        "print(\"Best params: {}\".format(grid_search_decision_tree.best_params_))\n",
        "\n",
        "y_pred = best_decision_tree_model.predict(X_test)\n",
        "print(classification_report(y_test, y_pred))"
      ],
      "execution_count": 0,
      "outputs": [
        {
          "output_type": "stream",
          "text": [
            "Best Score: 0.9818666666666667\n",
            "Best params: {'max_depth': 5, 'max_features': 4}\n",
            "             precision    recall  f1-score   support\n",
            "\n",
            "          0       0.98      0.98      0.98      1099\n",
            "          1       0.85      0.84      0.85       151\n",
            "\n",
            "avg / total       0.96      0.96      0.96      1250\n",
            "\n"
          ],
          "name": "stdout"
        }
      ]
    },
    {
      "metadata": {
        "id": "whnkIPQITta0",
        "colab_type": "text"
      },
      "cell_type": "markdown",
      "source": [
        "# GaussianNB"
      ]
    },
    {
      "metadata": {
        "id": "o0AT9WSTTta1",
        "colab_type": "code",
        "colab": {
          "autoexec": {
            "startup": false,
            "wait_interval": 0
          }
        },
        "outputId": "ac89c904-bc37-4a4d-a2f0-c6eafc03d4b5"
      },
      "cell_type": "code",
      "source": [
        "from sklearn.naive_bayes import BernoulliNB\n",
        "X_train, X_test, y_train, y_test = train_test_split(X, y, random_state = 0)\n",
        "#We call our estimator instance clf, as it is a classifier.\n",
        "clf = BernoulliNB().fit(X_train, y_train)\n",
        "\n",
        "y_pred = clf.predict(X_test)\n",
        "# MultinomialNB_accuracy = accuracy_score(y_test, y_pred)*100\n",
        "\n",
        "print(classification_report(y_test, y_pred))"
      ],
      "execution_count": 0,
      "outputs": [
        {
          "output_type": "stream",
          "text": [
            "             precision    recall  f1-score   support\n",
            "\n",
            "          0       0.99      0.92      0.95      1099\n",
            "          1       0.60      0.94      0.74       151\n",
            "\n",
            "avg / total       0.94      0.92      0.93      1250\n",
            "\n"
          ],
          "name": "stdout"
        }
      ]
    },
    {
      "metadata": {
        "id": "I2AD1VulTta5",
        "colab_type": "code",
        "colab": {
          "autoexec": {
            "startup": false,
            "wait_interval": 0
          }
        },
        "outputId": "8fb4c553-bfd9-450e-ba5c-a859a6cab842"
      },
      "cell_type": "code",
      "source": [
        "X_train, X_test, y_train, y_test = train_test_split(X, y, random_state = 0)\n",
        "BernoulliNB_classifier = BernoulliNB()\n",
        "\n",
        "parameters = {'alpha':[1, 10, 100]}\n",
        "\n",
        "grid_search_BernoulliNB = GridSearchCV(BernoulliNB_classifier, parameters)\n",
        "\n",
        "best_BernoulliNB_model = grid_search_BernoulliNB.fit(X_train, y_train)\n",
        "\n",
        "print(\"Best Score: {}\".format(grid_search_BernoulliNB.best_score_))\n",
        "print(\"Best params: {}\".format(grid_search_BernoulliNB.best_params_))\n",
        "\n",
        "y_pred = best_BernoulliNB_model.predict(X_test)\n",
        "print(classification_report(y_test, y_pred))"
      ],
      "execution_count": 0,
      "outputs": [
        {
          "output_type": "stream",
          "text": [
            "Best Score: 0.9434666666666667\n",
            "Best params: {'alpha': 100}\n",
            "             precision    recall  f1-score   support\n",
            "\n",
            "          0       0.98      0.96      0.97      1099\n",
            "          1       0.72      0.85      0.78       151\n",
            "\n",
            "avg / total       0.95      0.94      0.94      1250\n",
            "\n"
          ],
          "name": "stdout"
        }
      ]
    },
    {
      "metadata": {
        "id": "8cgxyf3pe8sg",
        "colab_type": "code",
        "colab": {
          "autoexec": {
            "startup": false,
            "wait_interval": 0
          }
        }
      },
      "cell_type": "code",
      "source": [
        "# GradientBoostingClassifier"
      ],
      "execution_count": 0,
      "outputs": []
    },
    {
      "metadata": {
        "id": "fGRUQpX0Tta-",
        "colab_type": "code",
        "colab": {
          "autoexec": {
            "startup": false,
            "wait_interval": 0
          },
          "base_uri": "https://localhost:8080/",
          "height": 187
        },
        "outputId": "8171344b-8661-40b9-d0ea-c52d8a874256",
        "executionInfo": {
          "status": "ok",
          "timestamp": 1526618576131,
          "user_tz": -420,
          "elapsed": 1061,
          "user": {
            "displayName": "Bảo Trương Đình",
            "photoUrl": "//lh5.googleusercontent.com/-eC4QdQkyBTM/AAAAAAAAAAI/AAAAAAAAAFA/6sBa5lwoOX0/s50-c-k-no/photo.jpg",
            "userId": "102262295523043259192"
          }
        }
      },
      "cell_type": "code",
      "source": [
        "from sklearn.ensemble import GradientBoostingClassifier\n",
        "from sklearn.metrics import classification_report, confusion_matrix, roc_curve, auc\n",
        "# learning_rates = [0.05, 0.1, 0.25, 0.5, 0.75, 1]\n",
        "X_train, X_test, y_train, y_test = train_test_split(X, y, random_state = 0)\n",
        "gb_clf = GradientBoostingClassifier(n_estimators=20, learning_rate = 0.25, max_features=2, max_depth = 2, random_state = 0)\n",
        "gb_clf.fit(X_train, y_train)\n",
        "y_pred = gb_clf.predict(X_test)\n",
        "print(\"Confusion Matrix:\")\n",
        "print(confusion_matrix(y_test, y_pred))\n",
        "print(classification_report(y_test, y_pred))"
      ],
      "execution_count": 60,
      "outputs": [
        {
          "output_type": "stream",
          "text": [
            "Confusion Matrix:\n",
            "[[1098    1]\n",
            " [   5  146]]\n",
            "             precision    recall  f1-score   support\n",
            "\n",
            "          0       1.00      1.00      1.00      1099\n",
            "          1       0.99      0.97      0.98       151\n",
            "\n",
            "avg / total       1.00      1.00      1.00      1250\n",
            "\n"
          ],
          "name": "stdout"
        }
      ]
    },
    {
      "metadata": {
        "id": "qlSljP8zkn68",
        "colab_type": "code",
        "colab": {
          "autoexec": {
            "startup": false,
            "wait_interval": 0
          },
          "base_uri": "https://localhost:8080/",
          "height": 187
        },
        "outputId": "93f13879-5e9d-4dd1-bdd0-1278e4c7774d",
        "executionInfo": {
          "status": "ok",
          "timestamp": 1526619084931,
          "user_tz": -420,
          "elapsed": 3417,
          "user": {
            "displayName": "Bảo Trương Đình",
            "photoUrl": "//lh5.googleusercontent.com/-eC4QdQkyBTM/AAAAAAAAAAI/AAAAAAAAAFA/6sBa5lwoOX0/s50-c-k-no/photo.jpg",
            "userId": "102262295523043259192"
          }
        }
      },
      "cell_type": "code",
      "source": [
        "X_train, X_test, y_train, y_test = train_test_split(X, y, random_state = 0)\n",
        "param_test1 = {'n_estimators':range(20,51,10)}\n",
        "gsearch1 = GridSearchCV(estimator = GradientBoostingClassifier(learning_rate=0.1, min_samples_split=500,min_samples_leaf=50,max_depth=8,max_features='sqrt',subsample=0.8,random_state=10), \n",
        "param_grid = param_test1, scoring='roc_auc',n_jobs=4,iid=False, cv=5)\n",
        "\n",
        "best_GradientBoostingClassifier_model = gsearch1.fit(X_train,y_train)\n",
        "y_pred = best_GradientBoostingClassifier_model.predict(X_test)\n",
        "print(\"Confusion Matrix:\")\n",
        "print(confusion_matrix(y_test, y_pred))\n",
        "print(classification_report(y_test, y_pred))"
      ],
      "execution_count": 65,
      "outputs": [
        {
          "output_type": "stream",
          "text": [
            "Confusion Matrix:\n",
            "[[1099    0]\n",
            " [   0  151]]\n",
            "             precision    recall  f1-score   support\n",
            "\n",
            "          0       1.00      1.00      1.00      1099\n",
            "          1       1.00      1.00      1.00       151\n",
            "\n",
            "avg / total       1.00      1.00      1.00      1250\n",
            "\n"
          ],
          "name": "stdout"
        }
      ]
    },
    {
      "metadata": {
        "id": "dSaw2eachDRh",
        "colab_type": "code",
        "colab": {
          "autoexec": {
            "startup": false,
            "wait_interval": 0
          }
        }
      },
      "cell_type": "code",
      "source": [
        ""
      ],
      "execution_count": 0,
      "outputs": []
    }
  ]
}