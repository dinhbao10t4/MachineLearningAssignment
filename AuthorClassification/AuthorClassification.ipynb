{
 "cells": [
  {
   "cell_type": "code",
   "execution_count": 3,
   "metadata": {},
   "outputs": [
    {
     "name": "stderr",
     "output_type": "stream",
     "text": [
      "C:\\ProgramData\\Anaconda3\\lib\\site-packages\\h5py\\__init__.py:36: FutureWarning: Conversion of the second argument of issubdtype from `float` to `np.floating` is deprecated. In future, it will be treated as `np.float64 == np.dtype(float).type`.\n",
      "  from ._conv import register_converters as _register_converters\n",
      "Using TensorFlow backend.\n",
      "C:\\ProgramData\\Anaconda3\\lib\\site-packages\\gensim\\utils.py:1209: UserWarning: detected Windows; aliasing chunkize to chunkize_serial\n",
      "  warnings.warn(\"detected Windows; aliasing chunkize to chunkize_serial\")\n"
     ]
    }
   ],
   "source": [
    "from nltk.corpus import gutenberg, stopwords\n",
    "import nltk\n",
    "\n",
    "# Keras\n",
    "from keras.preprocessing.text import Tokenizer\n",
    "from keras.preprocessing.sequence import pad_sequences\n",
    "from keras.models import Sequential\n",
    "from keras.layers import Dense, Flatten, LSTM, Conv1D, MaxPooling1D, Dropout, Activation, SpatialDropout1D\n",
    "from keras.layers.embeddings import Embedding\n",
    "from keras.utils import np_utils\n",
    "\n",
    "from sklearn.manifold import TSNE\n",
    "from sklearn.feature_extraction.text import TfidfTransformer, TfidfVectorizer\n",
    "from sklearn.preprocessing import LabelEncoder\n",
    "from sklearn.naive_bayes import MultinomialNB\n",
    "from sklearn.svm import SVC\n",
    "from sklearn.metrics import classification_report\n",
    "from sklearn.model_selection import train_test_split, GridSearchCV\n",
    "from sklearn.ensemble import RandomForestClassifier, AdaBoostClassifier\n",
    "from sklearn.linear_model import LogisticRegression\n",
    "\n",
    "from gensim.models.ldamulticore import LdaMulticore\n",
    "from gensim.models.word2vec import Word2Vec\n",
    "\n",
    "import string\n",
    "import numpy as np\n",
    "import pandas as pd\n",
    "import re\n",
    "import os\n",
    "# set seed for reproducibility\n",
    "np.random.seed(0)"
   ]
  },
  {
   "cell_type": "code",
   "execution_count": 4,
   "metadata": {},
   "outputs": [],
   "source": [
    "all_files = os.listdir(\"book/\")"
   ]
  },
  {
   "cell_type": "code",
   "execution_count": 5,
   "metadata": {},
   "outputs": [],
   "source": [
    "arr = []\n",
    "one_book = []\n",
    "content = ''\n",
    "path = 'book/'\n",
    "for b in all_files[0:80]:\n",
    "    one_book = []\n",
    "    path = 'book/'\n",
    "    one_book.append(b.split('___')[0])\n",
    "    one_book.append(b)\n",
    "    \n",
    "    path += b\n",
    "    with open(path, 'r') as myfile:\n",
    "        content = myfile.read().replace('\\n', ' ')\n",
    "    one_book.append(content)\n",
    "    arr.append(one_book)"
   ]
  },
  {
   "cell_type": "code",
   "execution_count": 6,
   "metadata": {},
   "outputs": [],
   "source": [
    "columns = ['author', 'file_name', 'text']\n",
    "df = pd.DataFrame(arr, columns=columns)"
   ]
  },
  {
   "cell_type": "code",
   "execution_count": 7,
   "metadata": {},
   "outputs": [
    {
     "data": {
      "text/plain": [
       "(80, 3)"
      ]
     },
     "execution_count": 7,
     "metadata": {},
     "output_type": "execute_result"
    }
   ],
   "source": [
    "df.shape"
   ]
  },
  {
   "cell_type": "code",
   "execution_count": 8,
   "metadata": {},
   "outputs": [
    {
     "data": {
      "text/html": [
       "<div>\n",
       "<style scoped>\n",
       "    .dataframe tbody tr th:only-of-type {\n",
       "        vertical-align: middle;\n",
       "    }\n",
       "\n",
       "    .dataframe tbody tr th {\n",
       "        vertical-align: top;\n",
       "    }\n",
       "\n",
       "    .dataframe thead th {\n",
       "        text-align: right;\n",
       "    }\n",
       "</style>\n",
       "<table border=\"1\" class=\"dataframe\">\n",
       "  <thead>\n",
       "    <tr style=\"text-align: right;\">\n",
       "      <th></th>\n",
       "      <th>author</th>\n",
       "      <th>file_name</th>\n",
       "      <th>text</th>\n",
       "    </tr>\n",
       "  </thead>\n",
       "  <tbody>\n",
       "    <tr>\n",
       "      <th>0</th>\n",
       "      <td>Abraham Lincoln</td>\n",
       "      <td>Abraham Lincoln___Lincoln Letters.txt</td>\n",
       "      <td>My dear father:--  Your letter of the 7th was ...</td>\n",
       "    </tr>\n",
       "    <tr>\n",
       "      <th>1</th>\n",
       "      <td>Abraham Lincoln</td>\n",
       "      <td>Abraham Lincoln___Lincoln's First Inaugural Ad...</td>\n",
       "      <td>Fellow citizens of the United States:  in comp...</td>\n",
       "    </tr>\n",
       "    <tr>\n",
       "      <th>2</th>\n",
       "      <td>Abraham Lincoln</td>\n",
       "      <td>Abraham Lincoln___Lincoln's Gettysburg Address...</td>\n",
       "      <td>Four score and seven years ago, our fathers br...</td>\n",
       "    </tr>\n",
       "    <tr>\n",
       "      <th>3</th>\n",
       "      <td>Abraham Lincoln</td>\n",
       "      <td>Abraham Lincoln___Lincoln's Inaugurals, Addres...</td>\n",
       "      <td>INTRODUCTION  The facts of Lincoln's early lif...</td>\n",
       "    </tr>\n",
       "    <tr>\n",
       "      <th>4</th>\n",
       "      <td>Abraham Lincoln</td>\n",
       "      <td>Abraham Lincoln___Lincoln's Second Inaugural A...</td>\n",
       "      <td>Fellow countrymen:  At this second appearing t...</td>\n",
       "    </tr>\n",
       "  </tbody>\n",
       "</table>\n",
       "</div>"
      ],
      "text/plain": [
       "            author                                          file_name  \\\n",
       "0  Abraham Lincoln              Abraham Lincoln___Lincoln Letters.txt   \n",
       "1  Abraham Lincoln  Abraham Lincoln___Lincoln's First Inaugural Ad...   \n",
       "2  Abraham Lincoln  Abraham Lincoln___Lincoln's Gettysburg Address...   \n",
       "3  Abraham Lincoln  Abraham Lincoln___Lincoln's Inaugurals, Addres...   \n",
       "4  Abraham Lincoln  Abraham Lincoln___Lincoln's Second Inaugural A...   \n",
       "\n",
       "                                                text  \n",
       "0  My dear father:--  Your letter of the 7th was ...  \n",
       "1  Fellow citizens of the United States:  in comp...  \n",
       "2  Four score and seven years ago, our fathers br...  \n",
       "3  INTRODUCTION  The facts of Lincoln's early lif...  \n",
       "4  Fellow countrymen:  At this second appearing t...  "
      ]
     },
     "execution_count": 8,
     "metadata": {},
     "output_type": "execute_result"
    }
   ],
   "source": [
    "df.head()"
   ]
  },
  {
   "cell_type": "code",
   "execution_count": 9,
   "metadata": {},
   "outputs": [],
   "source": [
    "stop_words = set(stopwords.words('english'))"
   ]
  },
  {
   "cell_type": "code",
   "execution_count": 10,
   "metadata": {},
   "outputs": [],
   "source": [
    "def get_data_of_file(row):\n",
    "    file_name = row.file_name\n",
    "    text = ''\n",
    "    \n",
    "    words = row.text.split()\n",
    "    for r in words:\n",
    "        if not r in stop_words:\n",
    "            text += ' ' + r\n",
    "    \n",
    "    text = re.sub(r\"[^A-Za-z0-9^,!.\\/'+-=]\", \" \", text)\n",
    "    text = re.sub(r\"what's\", \"what is \", text)\n",
    "    text = re.sub(r\"\\'s\", \" \", text)\n",
    "    text = re.sub(r\"\\'ve\", \" have \", text)\n",
    "    text = re.sub(r\"n't\", \" not \", text)\n",
    "    text = re.sub(r\"i'm\", \"i am \", text)\n",
    "    text = re.sub(r\"\\'re\", \" are \", text)\n",
    "    text = re.sub(r\"\\'d\", \" would \", text)\n",
    "    text = re.sub(r\"\\'ll\", \" will \", text)\n",
    "    text = re.sub(r\",\", \" \", text)\n",
    "    text = re.sub(r\"\\.\", \" \", text)\n",
    "    text = re.sub(r\"!\", \" ! \", text)\n",
    "    text = re.sub(r\"\\/\", \" \", text)\n",
    "    text = re.sub(r\"\\^\", \" ^ \", text)\n",
    "    text = re.sub(r\"\\+\", \" + \", text)\n",
    "    text = re.sub(r\"\\-\", \" - \", text)\n",
    "    text = re.sub(r\"\\=\", \" = \", text)\n",
    "    text = re.sub(r\"'\", \" \", text)\n",
    "    text = re.sub(r\"(\\d+)(k)\", r\"\\g<1>000\", text)\n",
    "    text = re.sub(r\":\", \" : \", text)\n",
    "    text = re.sub(r\" e g \", \" eg \", text)\n",
    "    text = re.sub(r\" b g \", \" bg \", text)\n",
    "    text = re.sub(r\" u s \", \" american \", text)\n",
    "    text = re.sub(r\"\\0s\", \"0\", text)\n",
    "    text = re.sub(r\" 9 11 \", \"911\", text)\n",
    "    text = re.sub(r\"e - mail\", \"email\", text)\n",
    "    text = re.sub(r\"j k\", \"jk\", text)\n",
    "    text = re.sub(r\"\\s{2,}\", \" \", text)\n",
    "    \n",
    "    row['text'] = text\n",
    "    return row\n",
    "df = df.apply(get_data_of_file, axis=1)"
   ]
  },
  {
   "cell_type": "code",
   "execution_count": 11,
   "metadata": {},
   "outputs": [
    {
     "data": {
      "text/html": [
       "<div>\n",
       "<style scoped>\n",
       "    .dataframe tbody tr th:only-of-type {\n",
       "        vertical-align: middle;\n",
       "    }\n",
       "\n",
       "    .dataframe tbody tr th {\n",
       "        vertical-align: top;\n",
       "    }\n",
       "\n",
       "    .dataframe thead th {\n",
       "        text-align: right;\n",
       "    }\n",
       "</style>\n",
       "<table border=\"1\" class=\"dataframe\">\n",
       "  <thead>\n",
       "    <tr style=\"text-align: right;\">\n",
       "      <th></th>\n",
       "      <th>author</th>\n",
       "      <th>file_name</th>\n",
       "      <th>text</th>\n",
       "    </tr>\n",
       "  </thead>\n",
       "  <tbody>\n",
       "    <tr>\n",
       "      <th>0</th>\n",
       "      <td>Abraham Lincoln</td>\n",
       "      <td>Abraham Lincoln___Lincoln Letters.txt</td>\n",
       "      <td>My dear father : - - Your letter 7th received...</td>\n",
       "    </tr>\n",
       "    <tr>\n",
       "      <th>1</th>\n",
       "      <td>Abraham Lincoln</td>\n",
       "      <td>Abraham Lincoln___Lincoln's First Inaugural Ad...</td>\n",
       "      <td>Fellow citizens United States : compliance cu...</td>\n",
       "    </tr>\n",
       "    <tr>\n",
       "      <th>2</th>\n",
       "      <td>Abraham Lincoln</td>\n",
       "      <td>Abraham Lincoln___Lincoln's Gettysburg Address...</td>\n",
       "      <td>Four score seven years ago fathers brought fo...</td>\n",
       "    </tr>\n",
       "    <tr>\n",
       "      <th>3</th>\n",
       "      <td>Abraham Lincoln</td>\n",
       "      <td>Abraham Lincoln___Lincoln's Inaugurals, Addres...</td>\n",
       "      <td>INTRODUCTION The facts Lincoln early life bes...</td>\n",
       "    </tr>\n",
       "    <tr>\n",
       "      <th>4</th>\n",
       "      <td>Abraham Lincoln</td>\n",
       "      <td>Abraham Lincoln___Lincoln's Second Inaugural A...</td>\n",
       "      <td>Fellow countrymen : At second appearing take ...</td>\n",
       "    </tr>\n",
       "  </tbody>\n",
       "</table>\n",
       "</div>"
      ],
      "text/plain": [
       "            author                                          file_name  \\\n",
       "0  Abraham Lincoln              Abraham Lincoln___Lincoln Letters.txt   \n",
       "1  Abraham Lincoln  Abraham Lincoln___Lincoln's First Inaugural Ad...   \n",
       "2  Abraham Lincoln  Abraham Lincoln___Lincoln's Gettysburg Address...   \n",
       "3  Abraham Lincoln  Abraham Lincoln___Lincoln's Inaugurals, Addres...   \n",
       "4  Abraham Lincoln  Abraham Lincoln___Lincoln's Second Inaugural A...   \n",
       "\n",
       "                                                text  \n",
       "0   My dear father : - - Your letter 7th received...  \n",
       "1   Fellow citizens United States : compliance cu...  \n",
       "2   Four score seven years ago fathers brought fo...  \n",
       "3   INTRODUCTION The facts Lincoln early life bes...  \n",
       "4   Fellow countrymen : At second appearing take ...  "
      ]
     },
     "execution_count": 11,
     "metadata": {},
     "output_type": "execute_result"
    }
   ],
   "source": [
    "df.head()"
   ]
  },
  {
   "cell_type": "code",
   "execution_count": 12,
   "metadata": {},
   "outputs": [
    {
     "data": {
      "text/plain": [
       "(80, 3)"
      ]
     },
     "execution_count": 12,
     "metadata": {},
     "output_type": "execute_result"
    }
   ],
   "source": [
    "df.shape"
   ]
  },
  {
   "cell_type": "markdown",
   "metadata": {},
   "source": [
    "### Word2Vec"
   ]
  },
  {
   "cell_type": "code",
   "execution_count": 13,
   "metadata": {},
   "outputs": [],
   "source": [
    "def get_good_tokens(sentence):\n",
    "    replaced_punctation = list(map(lambda token: re.sub('[^0-9A-Za-z!?]+', '', token), sentence))\n",
    "    removed_punctation = list(filter(lambda token: token, replaced_punctation))\n",
    "    return removed_punctation"
   ]
  },
  {
   "cell_type": "code",
   "execution_count": 14,
   "metadata": {},
   "outputs": [],
   "source": [
    "def w2v_preprocessing(df):\n",
    "    \"\"\" All the preprocessing steps for word2vec are done in this function.\n",
    "    All mutations are done on the dataframe itself. So this function returns\n",
    "    nothing.\n",
    "    \"\"\"\n",
    "    df['text'] = df.text.str.lower()\n",
    "    df['document_sentences'] = df.text.str.split('.')  # split texts into individual sentences\n",
    "    df['tokenized_sentences'] = list(map(lambda sentences:\n",
    "                                         list(map(nltk.word_tokenize, sentences)),\n",
    "                                         df.document_sentences))  # tokenize sentences\n",
    "    df['tokenized_sentences'] = list(map(lambda sentences:\n",
    "                                         list(map(get_good_tokens, sentences)),\n",
    "                                         df.tokenized_sentences))  # remove unwanted characters\n",
    "    df['tokenized_sentences'] = list(map(lambda sentences:\n",
    "                                         list(filter(lambda lst: lst, sentences)),\n",
    "                                         df.tokenized_sentences))  # remove empty lists\n",
    "\n",
    "w2v_preprocessing(df)"
   ]
  },
  {
   "cell_type": "code",
   "execution_count": 15,
   "metadata": {},
   "outputs": [
    {
     "data": {
      "text/html": [
       "<div>\n",
       "<style scoped>\n",
       "    .dataframe tbody tr th:only-of-type {\n",
       "        vertical-align: middle;\n",
       "    }\n",
       "\n",
       "    .dataframe tbody tr th {\n",
       "        vertical-align: top;\n",
       "    }\n",
       "\n",
       "    .dataframe thead th {\n",
       "        text-align: right;\n",
       "    }\n",
       "</style>\n",
       "<table border=\"1\" class=\"dataframe\">\n",
       "  <thead>\n",
       "    <tr style=\"text-align: right;\">\n",
       "      <th></th>\n",
       "      <th>author</th>\n",
       "      <th>file_name</th>\n",
       "      <th>text</th>\n",
       "      <th>document_sentences</th>\n",
       "      <th>tokenized_sentences</th>\n",
       "    </tr>\n",
       "  </thead>\n",
       "  <tbody>\n",
       "    <tr>\n",
       "      <th>0</th>\n",
       "      <td>Abraham Lincoln</td>\n",
       "      <td>Abraham Lincoln___Lincoln Letters.txt</td>\n",
       "      <td>my dear father : - - your letter 7th received...</td>\n",
       "      <td>[ my dear father : - - your letter 7th receive...</td>\n",
       "      <td>[[my, dear, father, your, letter, 7th, receive...</td>\n",
       "    </tr>\n",
       "    <tr>\n",
       "      <th>1</th>\n",
       "      <td>Abraham Lincoln</td>\n",
       "      <td>Abraham Lincoln___Lincoln's First Inaugural Ad...</td>\n",
       "      <td>fellow citizens united states : compliance cu...</td>\n",
       "      <td>[ fellow citizens united states : compliance c...</td>\n",
       "      <td>[[fellow, citizens, united, states, compliance...</td>\n",
       "    </tr>\n",
       "    <tr>\n",
       "      <th>2</th>\n",
       "      <td>Abraham Lincoln</td>\n",
       "      <td>Abraham Lincoln___Lincoln's Gettysburg Address...</td>\n",
       "      <td>four score seven years ago fathers brought fo...</td>\n",
       "      <td>[ four score seven years ago fathers brought f...</td>\n",
       "      <td>[[four, score, seven, years, ago, fathers, bro...</td>\n",
       "    </tr>\n",
       "    <tr>\n",
       "      <th>3</th>\n",
       "      <td>Abraham Lincoln</td>\n",
       "      <td>Abraham Lincoln___Lincoln's Inaugurals, Addres...</td>\n",
       "      <td>introduction the facts lincoln early life bes...</td>\n",
       "      <td>[ introduction the facts lincoln early life be...</td>\n",
       "      <td>[[introduction, the, facts, lincoln, early, li...</td>\n",
       "    </tr>\n",
       "    <tr>\n",
       "      <th>4</th>\n",
       "      <td>Abraham Lincoln</td>\n",
       "      <td>Abraham Lincoln___Lincoln's Second Inaugural A...</td>\n",
       "      <td>fellow countrymen : at second appearing take ...</td>\n",
       "      <td>[ fellow countrymen : at second appearing take...</td>\n",
       "      <td>[[fellow, countrymen, at, second, appearing, t...</td>\n",
       "    </tr>\n",
       "  </tbody>\n",
       "</table>\n",
       "</div>"
      ],
      "text/plain": [
       "            author                                          file_name  \\\n",
       "0  Abraham Lincoln              Abraham Lincoln___Lincoln Letters.txt   \n",
       "1  Abraham Lincoln  Abraham Lincoln___Lincoln's First Inaugural Ad...   \n",
       "2  Abraham Lincoln  Abraham Lincoln___Lincoln's Gettysburg Address...   \n",
       "3  Abraham Lincoln  Abraham Lincoln___Lincoln's Inaugurals, Addres...   \n",
       "4  Abraham Lincoln  Abraham Lincoln___Lincoln's Second Inaugural A...   \n",
       "\n",
       "                                                text  \\\n",
       "0   my dear father : - - your letter 7th received...   \n",
       "1   fellow citizens united states : compliance cu...   \n",
       "2   four score seven years ago fathers brought fo...   \n",
       "3   introduction the facts lincoln early life bes...   \n",
       "4   fellow countrymen : at second appearing take ...   \n",
       "\n",
       "                                  document_sentences  \\\n",
       "0  [ my dear father : - - your letter 7th receive...   \n",
       "1  [ fellow citizens united states : compliance c...   \n",
       "2  [ four score seven years ago fathers brought f...   \n",
       "3  [ introduction the facts lincoln early life be...   \n",
       "4  [ fellow countrymen : at second appearing take...   \n",
       "\n",
       "                                 tokenized_sentences  \n",
       "0  [[my, dear, father, your, letter, 7th, receive...  \n",
       "1  [[fellow, citizens, united, states, compliance...  \n",
       "2  [[four, score, seven, years, ago, fathers, bro...  \n",
       "3  [[introduction, the, facts, lincoln, early, li...  \n",
       "4  [[fellow, countrymen, at, second, appearing, t...  "
      ]
     },
     "execution_count": 15,
     "metadata": {},
     "output_type": "execute_result"
    }
   ],
   "source": [
    "df.head()"
   ]
  },
  {
   "cell_type": "code",
   "execution_count": 16,
   "metadata": {},
   "outputs": [
    {
     "name": "stdout",
     "output_type": "stream",
     "text": [
      "Number of sentences: 80.\n",
      "Number of texts: 80.\n"
     ]
    }
   ],
   "source": [
    "sentences = []\n",
    "for sentence_group in df.tokenized_sentences:\n",
    "    sentences.extend(sentence_group)\n",
    "\n",
    "print(\"Number of sentences: {}.\".format(len(sentences)))\n",
    "print(\"Number of texts: {}.\".format(len(df)))"
   ]
  },
  {
   "cell_type": "code",
   "execution_count": 17,
   "metadata": {},
   "outputs": [],
   "source": [
    "# Set values for various parameters\n",
    "num_features = 200    # Word vector dimensionality\n",
    "min_word_count = 3    # Minimum word count\n",
    "num_workers = 4       # Number of threads to run in parallel\n",
    "context = 6           # Context window size\n",
    "downsampling = 1e-3   # Downsample setting for frequent words\n",
    "\n",
    "# Initialize and train the model\n",
    "W2Vmodel = Word2Vec(sentences=sentences,\n",
    "                    sg=1,\n",
    "                    hs=0,\n",
    "                    workers=num_workers,\n",
    "                    size=num_features,\n",
    "                    min_count=min_word_count,\n",
    "                    window=context,\n",
    "                    sample=downsampling,\n",
    "                    negative=5,\n",
    "                    iter=6)"
   ]
  },
  {
   "cell_type": "code",
   "execution_count": 18,
   "metadata": {},
   "outputs": [],
   "source": [
    "# W2Vmodel['sentences']"
   ]
  },
  {
   "cell_type": "code",
   "execution_count": 19,
   "metadata": {},
   "outputs": [
    {
     "name": "stderr",
     "output_type": "stream",
     "text": [
      "C:\\ProgramData\\Anaconda3\\lib\\site-packages\\ipykernel_launcher.py:16: DeprecationWarning: Call to deprecated `__getitem__` (Method will be removed in 4.0.0, use self.wv.__getitem__() instead).\n",
      "  app.launch_new_instance()\n"
     ]
    }
   ],
   "source": [
    "def get_w2v_features(w2v_model, sentence_group):\n",
    "    \"\"\" Transform a sentence_group (containing multiple lists\n",
    "    of words) into a feature vector. It averages out all the\n",
    "    word vectors of the sentence_group.\n",
    "    \"\"\"\n",
    "    words = np.concatenate(sentence_group)  # words in text\n",
    "    index2word_set = set(w2v_model.wv.vocab.keys())  # words known to model\n",
    "    \n",
    "    featureVec = np.zeros(w2v_model.vector_size, dtype=\"float32\")\n",
    "    \n",
    "    # Initialize a counter for number of words in a review\n",
    "    nwords = 0\n",
    "    # Loop over each word in the comment and, if it is in the model's vocabulary, add its feature vector to the total\n",
    "    for word in words:\n",
    "        if word in index2word_set: \n",
    "            featureVec = np.add(featureVec, w2v_model[word])\n",
    "            nwords += 1.\n",
    "\n",
    "    # Divide the result by the number of words to get the average\n",
    "    if nwords > 0:\n",
    "        featureVec = np.divide(featureVec, nwords)\n",
    "    return featureVec\n",
    "\n",
    "df['w2v_features'] = list(map(lambda sen_group:\n",
    "                                      get_w2v_features(W2Vmodel, sen_group),\n",
    "                                      df.tokenized_sentences))"
   ]
  },
  {
   "cell_type": "code",
   "execution_count": 20,
   "metadata": {},
   "outputs": [
    {
     "data": {
      "text/html": [
       "<div>\n",
       "<style scoped>\n",
       "    .dataframe tbody tr th:only-of-type {\n",
       "        vertical-align: middle;\n",
       "    }\n",
       "\n",
       "    .dataframe tbody tr th {\n",
       "        vertical-align: top;\n",
       "    }\n",
       "\n",
       "    .dataframe thead th {\n",
       "        text-align: right;\n",
       "    }\n",
       "</style>\n",
       "<table border=\"1\" class=\"dataframe\">\n",
       "  <thead>\n",
       "    <tr style=\"text-align: right;\">\n",
       "      <th></th>\n",
       "      <th>author</th>\n",
       "      <th>file_name</th>\n",
       "      <th>text</th>\n",
       "      <th>document_sentences</th>\n",
       "      <th>tokenized_sentences</th>\n",
       "      <th>w2v_features</th>\n",
       "    </tr>\n",
       "  </thead>\n",
       "  <tbody>\n",
       "    <tr>\n",
       "      <th>0</th>\n",
       "      <td>Abraham Lincoln</td>\n",
       "      <td>Abraham Lincoln___Lincoln Letters.txt</td>\n",
       "      <td>my dear father : - - your letter 7th received...</td>\n",
       "      <td>[ my dear father : - - your letter 7th receive...</td>\n",
       "      <td>[[my, dear, father, your, letter, 7th, receive...</td>\n",
       "      <td>[0.16781017, -0.09903394, -0.28047475, -0.2280...</td>\n",
       "    </tr>\n",
       "    <tr>\n",
       "      <th>1</th>\n",
       "      <td>Abraham Lincoln</td>\n",
       "      <td>Abraham Lincoln___Lincoln's First Inaugural Ad...</td>\n",
       "      <td>fellow citizens united states : compliance cu...</td>\n",
       "      <td>[ fellow citizens united states : compliance c...</td>\n",
       "      <td>[[fellow, citizens, united, states, compliance...</td>\n",
       "      <td>[0.085581504, -0.09073201, -0.24187273, -0.248...</td>\n",
       "    </tr>\n",
       "    <tr>\n",
       "      <th>2</th>\n",
       "      <td>Abraham Lincoln</td>\n",
       "      <td>Abraham Lincoln___Lincoln's Gettysburg Address...</td>\n",
       "      <td>four score seven years ago fathers brought fo...</td>\n",
       "      <td>[ four score seven years ago fathers brought f...</td>\n",
       "      <td>[[four, score, seven, years, ago, fathers, bro...</td>\n",
       "      <td>[0.13051939, -0.110352755, -0.2540632, -0.2566...</td>\n",
       "    </tr>\n",
       "    <tr>\n",
       "      <th>3</th>\n",
       "      <td>Abraham Lincoln</td>\n",
       "      <td>Abraham Lincoln___Lincoln's Inaugurals, Addres...</td>\n",
       "      <td>introduction the facts lincoln early life bes...</td>\n",
       "      <td>[ introduction the facts lincoln early life be...</td>\n",
       "      <td>[[introduction, the, facts, lincoln, early, li...</td>\n",
       "      <td>[0.110757194, -0.08897842, -0.24979639, -0.254...</td>\n",
       "    </tr>\n",
       "    <tr>\n",
       "      <th>4</th>\n",
       "      <td>Abraham Lincoln</td>\n",
       "      <td>Abraham Lincoln___Lincoln's Second Inaugural A...</td>\n",
       "      <td>fellow countrymen : at second appearing take ...</td>\n",
       "      <td>[ fellow countrymen : at second appearing take...</td>\n",
       "      <td>[[fellow, countrymen, at, second, appearing, t...</td>\n",
       "      <td>[0.1265721, -0.09276668, -0.22800617, -0.26777...</td>\n",
       "    </tr>\n",
       "  </tbody>\n",
       "</table>\n",
       "</div>"
      ],
      "text/plain": [
       "            author                                          file_name  \\\n",
       "0  Abraham Lincoln              Abraham Lincoln___Lincoln Letters.txt   \n",
       "1  Abraham Lincoln  Abraham Lincoln___Lincoln's First Inaugural Ad...   \n",
       "2  Abraham Lincoln  Abraham Lincoln___Lincoln's Gettysburg Address...   \n",
       "3  Abraham Lincoln  Abraham Lincoln___Lincoln's Inaugurals, Addres...   \n",
       "4  Abraham Lincoln  Abraham Lincoln___Lincoln's Second Inaugural A...   \n",
       "\n",
       "                                                text  \\\n",
       "0   my dear father : - - your letter 7th received...   \n",
       "1   fellow citizens united states : compliance cu...   \n",
       "2   four score seven years ago fathers brought fo...   \n",
       "3   introduction the facts lincoln early life bes...   \n",
       "4   fellow countrymen : at second appearing take ...   \n",
       "\n",
       "                                  document_sentences  \\\n",
       "0  [ my dear father : - - your letter 7th receive...   \n",
       "1  [ fellow citizens united states : compliance c...   \n",
       "2  [ four score seven years ago fathers brought f...   \n",
       "3  [ introduction the facts lincoln early life be...   \n",
       "4  [ fellow countrymen : at second appearing take...   \n",
       "\n",
       "                                 tokenized_sentences  \\\n",
       "0  [[my, dear, father, your, letter, 7th, receive...   \n",
       "1  [[fellow, citizens, united, states, compliance...   \n",
       "2  [[four, score, seven, years, ago, fathers, bro...   \n",
       "3  [[introduction, the, facts, lincoln, early, li...   \n",
       "4  [[fellow, countrymen, at, second, appearing, t...   \n",
       "\n",
       "                                        w2v_features  \n",
       "0  [0.16781017, -0.09903394, -0.28047475, -0.2280...  \n",
       "1  [0.085581504, -0.09073201, -0.24187273, -0.248...  \n",
       "2  [0.13051939, -0.110352755, -0.2540632, -0.2566...  \n",
       "3  [0.110757194, -0.08897842, -0.24979639, -0.254...  \n",
       "4  [0.1265721, -0.09276668, -0.22800617, -0.26777...  "
      ]
     },
     "execution_count": 20,
     "metadata": {},
     "output_type": "execute_result"
    }
   ],
   "source": [
    "df.head()"
   ]
  },
  {
   "cell_type": "code",
   "execution_count": 21,
   "metadata": {},
   "outputs": [],
   "source": [
    "le = LabelEncoder()\n",
    "df['author_LabelEncoded'] = le.fit_transform(df.author)"
   ]
  },
  {
   "cell_type": "code",
   "execution_count": 22,
   "metadata": {},
   "outputs": [
    {
     "data": {
      "text/html": [
       "<div>\n",
       "<style scoped>\n",
       "    .dataframe tbody tr th:only-of-type {\n",
       "        vertical-align: middle;\n",
       "    }\n",
       "\n",
       "    .dataframe tbody tr th {\n",
       "        vertical-align: top;\n",
       "    }\n",
       "\n",
       "    .dataframe thead th {\n",
       "        text-align: right;\n",
       "    }\n",
       "</style>\n",
       "<table border=\"1\" class=\"dataframe\">\n",
       "  <thead>\n",
       "    <tr style=\"text-align: right;\">\n",
       "      <th></th>\n",
       "      <th>author</th>\n",
       "      <th>file_name</th>\n",
       "      <th>text</th>\n",
       "      <th>document_sentences</th>\n",
       "      <th>tokenized_sentences</th>\n",
       "      <th>w2v_features</th>\n",
       "      <th>author_LabelEncoded</th>\n",
       "    </tr>\n",
       "  </thead>\n",
       "  <tbody>\n",
       "    <tr>\n",
       "      <th>0</th>\n",
       "      <td>Abraham Lincoln</td>\n",
       "      <td>Abraham Lincoln___Lincoln Letters.txt</td>\n",
       "      <td>my dear father : - - your letter 7th received...</td>\n",
       "      <td>[ my dear father : - - your letter 7th receive...</td>\n",
       "      <td>[[my, dear, father, your, letter, 7th, receive...</td>\n",
       "      <td>[0.16781017, -0.09903394, -0.28047475, -0.2280...</td>\n",
       "      <td>0</td>\n",
       "    </tr>\n",
       "    <tr>\n",
       "      <th>1</th>\n",
       "      <td>Abraham Lincoln</td>\n",
       "      <td>Abraham Lincoln___Lincoln's First Inaugural Ad...</td>\n",
       "      <td>fellow citizens united states : compliance cu...</td>\n",
       "      <td>[ fellow citizens united states : compliance c...</td>\n",
       "      <td>[[fellow, citizens, united, states, compliance...</td>\n",
       "      <td>[0.085581504, -0.09073201, -0.24187273, -0.248...</td>\n",
       "      <td>0</td>\n",
       "    </tr>\n",
       "    <tr>\n",
       "      <th>2</th>\n",
       "      <td>Abraham Lincoln</td>\n",
       "      <td>Abraham Lincoln___Lincoln's Gettysburg Address...</td>\n",
       "      <td>four score seven years ago fathers brought fo...</td>\n",
       "      <td>[ four score seven years ago fathers brought f...</td>\n",
       "      <td>[[four, score, seven, years, ago, fathers, bro...</td>\n",
       "      <td>[0.13051939, -0.110352755, -0.2540632, -0.2566...</td>\n",
       "      <td>0</td>\n",
       "    </tr>\n",
       "    <tr>\n",
       "      <th>3</th>\n",
       "      <td>Abraham Lincoln</td>\n",
       "      <td>Abraham Lincoln___Lincoln's Inaugurals, Addres...</td>\n",
       "      <td>introduction the facts lincoln early life bes...</td>\n",
       "      <td>[ introduction the facts lincoln early life be...</td>\n",
       "      <td>[[introduction, the, facts, lincoln, early, li...</td>\n",
       "      <td>[0.110757194, -0.08897842, -0.24979639, -0.254...</td>\n",
       "      <td>0</td>\n",
       "    </tr>\n",
       "    <tr>\n",
       "      <th>4</th>\n",
       "      <td>Abraham Lincoln</td>\n",
       "      <td>Abraham Lincoln___Lincoln's Second Inaugural A...</td>\n",
       "      <td>fellow countrymen : at second appearing take ...</td>\n",
       "      <td>[ fellow countrymen : at second appearing take...</td>\n",
       "      <td>[[fellow, countrymen, at, second, appearing, t...</td>\n",
       "      <td>[0.1265721, -0.09276668, -0.22800617, -0.26777...</td>\n",
       "      <td>0</td>\n",
       "    </tr>\n",
       "  </tbody>\n",
       "</table>\n",
       "</div>"
      ],
      "text/plain": [
       "            author                                          file_name  \\\n",
       "0  Abraham Lincoln              Abraham Lincoln___Lincoln Letters.txt   \n",
       "1  Abraham Lincoln  Abraham Lincoln___Lincoln's First Inaugural Ad...   \n",
       "2  Abraham Lincoln  Abraham Lincoln___Lincoln's Gettysburg Address...   \n",
       "3  Abraham Lincoln  Abraham Lincoln___Lincoln's Inaugurals, Addres...   \n",
       "4  Abraham Lincoln  Abraham Lincoln___Lincoln's Second Inaugural A...   \n",
       "\n",
       "                                                text  \\\n",
       "0   my dear father : - - your letter 7th received...   \n",
       "1   fellow citizens united states : compliance cu...   \n",
       "2   four score seven years ago fathers brought fo...   \n",
       "3   introduction the facts lincoln early life bes...   \n",
       "4   fellow countrymen : at second appearing take ...   \n",
       "\n",
       "                                  document_sentences  \\\n",
       "0  [ my dear father : - - your letter 7th receive...   \n",
       "1  [ fellow citizens united states : compliance c...   \n",
       "2  [ four score seven years ago fathers brought f...   \n",
       "3  [ introduction the facts lincoln early life be...   \n",
       "4  [ fellow countrymen : at second appearing take...   \n",
       "\n",
       "                                 tokenized_sentences  \\\n",
       "0  [[my, dear, father, your, letter, 7th, receive...   \n",
       "1  [[fellow, citizens, united, states, compliance...   \n",
       "2  [[four, score, seven, years, ago, fathers, bro...   \n",
       "3  [[introduction, the, facts, lincoln, early, li...   \n",
       "4  [[fellow, countrymen, at, second, appearing, t...   \n",
       "\n",
       "                                        w2v_features  author_LabelEncoded  \n",
       "0  [0.16781017, -0.09903394, -0.28047475, -0.2280...                    0  \n",
       "1  [0.085581504, -0.09073201, -0.24187273, -0.248...                    0  \n",
       "2  [0.13051939, -0.110352755, -0.2540632, -0.2566...                    0  \n",
       "3  [0.110757194, -0.08897842, -0.24979639, -0.254...                    0  \n",
       "4  [0.1265721, -0.09276668, -0.22800617, -0.26777...                    0  "
      ]
     },
     "execution_count": 22,
     "metadata": {},
     "output_type": "execute_result"
    }
   ],
   "source": [
    "df.head()"
   ]
  },
  {
   "cell_type": "code",
   "execution_count": 23,
   "metadata": {},
   "outputs": [],
   "source": [
    "X_train, X_test, y_train, y_test = train_test_split(df.w2v_features, df.author_LabelEncoded, random_state = 0)"
   ]
  },
  {
   "cell_type": "code",
   "execution_count": 24,
   "metadata": {},
   "outputs": [],
   "source": [
    "X_train_w2v = np.array(list(map(np.array, X_train)))\n",
    "X_test_w2v = np.array(list(map(np.array, X_test)))"
   ]
  },
  {
   "cell_type": "code",
   "execution_count": 25,
   "metadata": {},
   "outputs": [],
   "source": [
    "clf = SVC(kernel='linear').fit(X_train_w2v, y_train)"
   ]
  },
  {
   "cell_type": "code",
   "execution_count": 26,
   "metadata": {},
   "outputs": [],
   "source": [
    "y_score = clf.predict(X_test_w2v)"
   ]
  },
  {
   "cell_type": "code",
   "execution_count": 27,
   "metadata": {},
   "outputs": [
    {
     "name": "stdout",
     "output_type": "stream",
     "text": [
      "Accuracy: 50.00%\n"
     ]
    }
   ],
   "source": [
    "n_right = 0\n",
    "for i in range(len(y_score)):\n",
    "    if y_score.tolist()[i] == y_test.tolist()[i]:\n",
    "        n_right += 1\n",
    "\n",
    "print(\"Accuracy: %.2f%%\" % ((n_right/float(len(y_test)) * 100)))"
   ]
  },
  {
   "cell_type": "code",
   "execution_count": 28,
   "metadata": {},
   "outputs": [
    {
     "name": "stdout",
     "output_type": "stream",
     "text": [
      "             precision    recall  f1-score   support\n",
      "\n",
      "          0       0.75      1.00      0.86         3\n",
      "          3       0.00      0.00      0.00         1\n",
      "          4       0.00      0.00      0.00         2\n",
      "          5       1.00      0.50      0.67         2\n",
      "          6       0.38      0.60      0.46         5\n",
      "          7       0.43      1.00      0.60         3\n",
      "          8       0.00      0.00      0.00         4\n",
      "\n",
      "avg / total       0.37      0.50      0.40        20\n",
      "\n"
     ]
    },
    {
     "name": "stderr",
     "output_type": "stream",
     "text": [
      "C:\\ProgramData\\Anaconda3\\lib\\site-packages\\sklearn\\metrics\\classification.py:1135: UndefinedMetricWarning: Precision and F-score are ill-defined and being set to 0.0 in labels with no predicted samples.\n",
      "  'precision', 'predicted', average, warn_for)\n"
     ]
    }
   ],
   "source": [
    "print(classification_report(y_test, y_score))"
   ]
  },
  {
   "cell_type": "code",
   "execution_count": 29,
   "metadata": {},
   "outputs": [],
   "source": [
    "from sklearn.ensemble import RandomForestClassifier\n",
    "rfc = RandomForestClassifier(random_state=42)"
   ]
  },
  {
   "cell_type": "code",
   "execution_count": 30,
   "metadata": {},
   "outputs": [
    {
     "data": {
      "text/plain": [
       "RandomForestClassifier(bootstrap=True, class_weight=None, criterion='gini',\n",
       "            max_depth=None, max_features='auto', max_leaf_nodes=None,\n",
       "            min_impurity_decrease=0.0, min_impurity_split=None,\n",
       "            min_samples_leaf=1, min_samples_split=2,\n",
       "            min_weight_fraction_leaf=0.0, n_estimators=10, n_jobs=1,\n",
       "            oob_score=False, random_state=42, verbose=0, warm_start=False)"
      ]
     },
     "execution_count": 30,
     "metadata": {},
     "output_type": "execute_result"
    }
   ],
   "source": [
    "rfc.fit(X_train_w2v, y_train)"
   ]
  },
  {
   "cell_type": "code",
   "execution_count": 31,
   "metadata": {},
   "outputs": [],
   "source": [
    "y_score = clf.predict(X_test_w2v)"
   ]
  },
  {
   "cell_type": "code",
   "execution_count": 32,
   "metadata": {},
   "outputs": [
    {
     "name": "stdout",
     "output_type": "stream",
     "text": [
      "             precision    recall  f1-score   support\n",
      "\n",
      "          0       0.75      1.00      0.86         3\n",
      "          3       0.00      0.00      0.00         1\n",
      "          4       0.00      0.00      0.00         2\n",
      "          5       1.00      0.50      0.67         2\n",
      "          6       0.38      0.60      0.46         5\n",
      "          7       0.43      1.00      0.60         3\n",
      "          8       0.00      0.00      0.00         4\n",
      "\n",
      "avg / total       0.37      0.50      0.40        20\n",
      "\n"
     ]
    },
    {
     "name": "stderr",
     "output_type": "stream",
     "text": [
      "C:\\ProgramData\\Anaconda3\\lib\\site-packages\\sklearn\\metrics\\classification.py:1135: UndefinedMetricWarning: Precision and F-score are ill-defined and being set to 0.0 in labels with no predicted samples.\n",
      "  'precision', 'predicted', average, warn_for)\n"
     ]
    }
   ],
   "source": [
    "print(classification_report(y_test, y_score))"
   ]
  },
  {
   "cell_type": "code",
   "execution_count": 34,
   "metadata": {},
   "outputs": [
    {
     "data": {
      "text/html": [
       "<div>\n",
       "<style scoped>\n",
       "    .dataframe tbody tr th:only-of-type {\n",
       "        vertical-align: middle;\n",
       "    }\n",
       "\n",
       "    .dataframe tbody tr th {\n",
       "        vertical-align: top;\n",
       "    }\n",
       "\n",
       "    .dataframe thead th {\n",
       "        text-align: right;\n",
       "    }\n",
       "</style>\n",
       "<table border=\"1\" class=\"dataframe\">\n",
       "  <thead>\n",
       "    <tr style=\"text-align: right;\">\n",
       "      <th></th>\n",
       "      <th>author</th>\n",
       "      <th>file_name</th>\n",
       "      <th>text</th>\n",
       "      <th>document_sentences</th>\n",
       "      <th>tokenized_sentences</th>\n",
       "      <th>w2v_features</th>\n",
       "      <th>author_LabelEncoded</th>\n",
       "    </tr>\n",
       "  </thead>\n",
       "  <tbody>\n",
       "    <tr>\n",
       "      <th>0</th>\n",
       "      <td>Abraham Lincoln</td>\n",
       "      <td>Abraham Lincoln___Lincoln Letters.txt</td>\n",
       "      <td>my dear father : - - your letter 7th received...</td>\n",
       "      <td>[ my dear father : - - your letter 7th receive...</td>\n",
       "      <td>[[my, dear, father, your, letter, 7th, receive...</td>\n",
       "      <td>[0.16781017, -0.09903394, -0.28047475, -0.2280...</td>\n",
       "      <td>0</td>\n",
       "    </tr>\n",
       "    <tr>\n",
       "      <th>1</th>\n",
       "      <td>Abraham Lincoln</td>\n",
       "      <td>Abraham Lincoln___Lincoln's First Inaugural Ad...</td>\n",
       "      <td>fellow citizens united states : compliance cu...</td>\n",
       "      <td>[ fellow citizens united states : compliance c...</td>\n",
       "      <td>[[fellow, citizens, united, states, compliance...</td>\n",
       "      <td>[0.085581504, -0.09073201, -0.24187273, -0.248...</td>\n",
       "      <td>0</td>\n",
       "    </tr>\n",
       "    <tr>\n",
       "      <th>2</th>\n",
       "      <td>Abraham Lincoln</td>\n",
       "      <td>Abraham Lincoln___Lincoln's Gettysburg Address...</td>\n",
       "      <td>four score seven years ago fathers brought fo...</td>\n",
       "      <td>[ four score seven years ago fathers brought f...</td>\n",
       "      <td>[[four, score, seven, years, ago, fathers, bro...</td>\n",
       "      <td>[0.13051939, -0.110352755, -0.2540632, -0.2566...</td>\n",
       "      <td>0</td>\n",
       "    </tr>\n",
       "    <tr>\n",
       "      <th>3</th>\n",
       "      <td>Abraham Lincoln</td>\n",
       "      <td>Abraham Lincoln___Lincoln's Inaugurals, Addres...</td>\n",
       "      <td>introduction the facts lincoln early life bes...</td>\n",
       "      <td>[ introduction the facts lincoln early life be...</td>\n",
       "      <td>[[introduction, the, facts, lincoln, early, li...</td>\n",
       "      <td>[0.110757194, -0.08897842, -0.24979639, -0.254...</td>\n",
       "      <td>0</td>\n",
       "    </tr>\n",
       "    <tr>\n",
       "      <th>4</th>\n",
       "      <td>Abraham Lincoln</td>\n",
       "      <td>Abraham Lincoln___Lincoln's Second Inaugural A...</td>\n",
       "      <td>fellow countrymen : at second appearing take ...</td>\n",
       "      <td>[ fellow countrymen : at second appearing take...</td>\n",
       "      <td>[[fellow, countrymen, at, second, appearing, t...</td>\n",
       "      <td>[0.1265721, -0.09276668, -0.22800617, -0.26777...</td>\n",
       "      <td>0</td>\n",
       "    </tr>\n",
       "  </tbody>\n",
       "</table>\n",
       "</div>"
      ],
      "text/plain": [
       "            author                                          file_name  \\\n",
       "0  Abraham Lincoln              Abraham Lincoln___Lincoln Letters.txt   \n",
       "1  Abraham Lincoln  Abraham Lincoln___Lincoln's First Inaugural Ad...   \n",
       "2  Abraham Lincoln  Abraham Lincoln___Lincoln's Gettysburg Address...   \n",
       "3  Abraham Lincoln  Abraham Lincoln___Lincoln's Inaugurals, Addres...   \n",
       "4  Abraham Lincoln  Abraham Lincoln___Lincoln's Second Inaugural A...   \n",
       "\n",
       "                                                text  \\\n",
       "0   my dear father : - - your letter 7th received...   \n",
       "1   fellow citizens united states : compliance cu...   \n",
       "2   four score seven years ago fathers brought fo...   \n",
       "3   introduction the facts lincoln early life bes...   \n",
       "4   fellow countrymen : at second appearing take ...   \n",
       "\n",
       "                                  document_sentences  \\\n",
       "0  [ my dear father : - - your letter 7th receive...   \n",
       "1  [ fellow citizens united states : compliance c...   \n",
       "2  [ four score seven years ago fathers brought f...   \n",
       "3  [ introduction the facts lincoln early life be...   \n",
       "4  [ fellow countrymen : at second appearing take...   \n",
       "\n",
       "                                 tokenized_sentences  \\\n",
       "0  [[my, dear, father, your, letter, 7th, receive...   \n",
       "1  [[fellow, citizens, united, states, compliance...   \n",
       "2  [[four, score, seven, years, ago, fathers, bro...   \n",
       "3  [[introduction, the, facts, lincoln, early, li...   \n",
       "4  [[fellow, countrymen, at, second, appearing, t...   \n",
       "\n",
       "                                        w2v_features  author_LabelEncoded  \n",
       "0  [0.16781017, -0.09903394, -0.28047475, -0.2280...                    0  \n",
       "1  [0.085581504, -0.09073201, -0.24187273, -0.248...                    0  \n",
       "2  [0.13051939, -0.110352755, -0.2540632, -0.2566...                    0  \n",
       "3  [0.110757194, -0.08897842, -0.24979639, -0.254...                    0  \n",
       "4  [0.1265721, -0.09276668, -0.22800617, -0.26777...                    0  "
      ]
     },
     "execution_count": 34,
     "metadata": {},
     "output_type": "execute_result"
    }
   ],
   "source": [
    "df.head()"
   ]
  },
  {
   "cell_type": "markdown",
   "metadata": {},
   "source": [
    "### TF-IDF"
   ]
  },
  {
   "cell_type": "code",
   "execution_count": 35,
   "metadata": {},
   "outputs": [],
   "source": [
    "vectorizer = TfidfVectorizer(sublinear_tf=True, use_idf =True, lowercase=True, strip_accents='ascii', stop_words = 'english')"
   ]
  },
  {
   "cell_type": "code",
   "execution_count": 36,
   "metadata": {},
   "outputs": [],
   "source": [
    "XText_tfidf = vectorizer.fit_transform(df['text'])"
   ]
  },
  {
   "cell_type": "code",
   "execution_count": 37,
   "metadata": {},
   "outputs": [
    {
     "data": {
      "text/plain": [
       "(80, 70433)"
      ]
     },
     "execution_count": 37,
     "metadata": {},
     "output_type": "execute_result"
    }
   ],
   "source": [
    "XText_tfidf.shape"
   ]
  },
  {
   "cell_type": "code",
   "execution_count": 38,
   "metadata": {},
   "outputs": [],
   "source": [
    "X_train, X_test, y_train, y_test = train_test_split(XText_tfidf, df.author_LabelEncoded, random_state = 0)"
   ]
  },
  {
   "cell_type": "code",
   "execution_count": 39,
   "metadata": {},
   "outputs": [],
   "source": [
    "clf = MultinomialNB().fit(X_train, y_train)"
   ]
  },
  {
   "cell_type": "code",
   "execution_count": 40,
   "metadata": {},
   "outputs": [],
   "source": [
    "y_score = clf.predict(X_test)"
   ]
  },
  {
   "cell_type": "code",
   "execution_count": 41,
   "metadata": {},
   "outputs": [
    {
     "name": "stdout",
     "output_type": "stream",
     "text": [
      "Accuracy: 50.00%\n"
     ]
    }
   ],
   "source": [
    "n_right = 0\n",
    "for i in range(len(y_score)):\n",
    "    if y_score.tolist()[i] == y_test.tolist()[i]:\n",
    "        n_right += 1\n",
    "\n",
    "print(\"Accuracy: %.2f%%\" % ((n_right/float(len(y_test)) * 100)))"
   ]
  },
  {
   "cell_type": "code",
   "execution_count": 42,
   "metadata": {},
   "outputs": [
    {
     "name": "stdout",
     "output_type": "stream",
     "text": [
      "             precision    recall  f1-score   support\n",
      "\n",
      "          0       0.60      1.00      0.75         3\n",
      "          3       0.00      0.00      0.00         1\n",
      "          4       0.00      0.00      0.00         2\n",
      "          5       0.00      0.00      0.00         2\n",
      "          6       0.40      0.80      0.53         5\n",
      "          7       0.60      1.00      0.75         3\n",
      "          8       0.00      0.00      0.00         4\n",
      "\n",
      "avg / total       0.28      0.50      0.36        20\n",
      "\n"
     ]
    },
    {
     "name": "stderr",
     "output_type": "stream",
     "text": [
      "C:\\ProgramData\\Anaconda3\\lib\\site-packages\\sklearn\\metrics\\classification.py:1135: UndefinedMetricWarning: Precision and F-score are ill-defined and being set to 0.0 in labels with no predicted samples.\n",
      "  'precision', 'predicted', average, warn_for)\n"
     ]
    }
   ],
   "source": [
    "print(classification_report(y_test, y_score))"
   ]
  },
  {
   "cell_type": "code",
   "execution_count": 43,
   "metadata": {},
   "outputs": [],
   "source": [
    "clf = SVC(kernel='linear').fit(X_train, y_train)"
   ]
  },
  {
   "cell_type": "code",
   "execution_count": 44,
   "metadata": {},
   "outputs": [],
   "source": [
    "y_score = clf.predict(X_test)"
   ]
  },
  {
   "cell_type": "code",
   "execution_count": 45,
   "metadata": {},
   "outputs": [
    {
     "name": "stdout",
     "output_type": "stream",
     "text": [
      "Accuracy: 95.00%\n"
     ]
    }
   ],
   "source": [
    "n_right = 0\n",
    "for i in range(len(y_score)):\n",
    "    if y_score.tolist()[i] == y_test.tolist()[i]:\n",
    "        n_right += 1\n",
    "\n",
    "print(\"Accuracy: %.2f%%\" % ((n_right/float(len(y_test)) * 100)))"
   ]
  },
  {
   "cell_type": "code",
   "execution_count": 46,
   "metadata": {},
   "outputs": [
    {
     "name": "stdout",
     "output_type": "stream",
     "text": [
      "             precision    recall  f1-score   support\n",
      "\n",
      "          0       1.00      1.00      1.00         3\n",
      "          3       0.00      0.00      0.00         1\n",
      "          4       1.00      1.00      1.00         2\n",
      "          5       1.00      1.00      1.00         2\n",
      "          6       1.00      1.00      1.00         5\n",
      "          7       0.75      1.00      0.86         3\n",
      "          8       1.00      1.00      1.00         4\n",
      "\n",
      "avg / total       0.91      0.95      0.93        20\n",
      "\n"
     ]
    },
    {
     "name": "stderr",
     "output_type": "stream",
     "text": [
      "C:\\ProgramData\\Anaconda3\\lib\\site-packages\\sklearn\\metrics\\classification.py:1135: UndefinedMetricWarning: Precision and F-score are ill-defined and being set to 0.0 in labels with no predicted samples.\n",
      "  'precision', 'predicted', average, warn_for)\n"
     ]
    }
   ],
   "source": [
    "print(classification_report(y_test, y_score))"
   ]
  },
  {
   "cell_type": "code",
   "execution_count": 47,
   "metadata": {},
   "outputs": [
    {
     "data": {
      "text/html": [
       "<div>\n",
       "<style scoped>\n",
       "    .dataframe tbody tr th:only-of-type {\n",
       "        vertical-align: middle;\n",
       "    }\n",
       "\n",
       "    .dataframe tbody tr th {\n",
       "        vertical-align: top;\n",
       "    }\n",
       "\n",
       "    .dataframe thead th {\n",
       "        text-align: right;\n",
       "    }\n",
       "</style>\n",
       "<table border=\"1\" class=\"dataframe\">\n",
       "  <thead>\n",
       "    <tr style=\"text-align: right;\">\n",
       "      <th></th>\n",
       "      <th>author</th>\n",
       "      <th>file_name</th>\n",
       "      <th>text</th>\n",
       "      <th>document_sentences</th>\n",
       "      <th>tokenized_sentences</th>\n",
       "      <th>w2v_features</th>\n",
       "      <th>author_LabelEncoded</th>\n",
       "    </tr>\n",
       "  </thead>\n",
       "  <tbody>\n",
       "    <tr>\n",
       "      <th>0</th>\n",
       "      <td>Abraham Lincoln</td>\n",
       "      <td>Abraham Lincoln___Lincoln Letters.txt</td>\n",
       "      <td>my dear father : - - your letter 7th received...</td>\n",
       "      <td>[ my dear father : - - your letter 7th receive...</td>\n",
       "      <td>[[my, dear, father, your, letter, 7th, receive...</td>\n",
       "      <td>[0.16781017, -0.09903394, -0.28047475, -0.2280...</td>\n",
       "      <td>0</td>\n",
       "    </tr>\n",
       "    <tr>\n",
       "      <th>1</th>\n",
       "      <td>Abraham Lincoln</td>\n",
       "      <td>Abraham Lincoln___Lincoln's First Inaugural Ad...</td>\n",
       "      <td>fellow citizens united states : compliance cu...</td>\n",
       "      <td>[ fellow citizens united states : compliance c...</td>\n",
       "      <td>[[fellow, citizens, united, states, compliance...</td>\n",
       "      <td>[0.085581504, -0.09073201, -0.24187273, -0.248...</td>\n",
       "      <td>0</td>\n",
       "    </tr>\n",
       "    <tr>\n",
       "      <th>2</th>\n",
       "      <td>Abraham Lincoln</td>\n",
       "      <td>Abraham Lincoln___Lincoln's Gettysburg Address...</td>\n",
       "      <td>four score seven years ago fathers brought fo...</td>\n",
       "      <td>[ four score seven years ago fathers brought f...</td>\n",
       "      <td>[[four, score, seven, years, ago, fathers, bro...</td>\n",
       "      <td>[0.13051939, -0.110352755, -0.2540632, -0.2566...</td>\n",
       "      <td>0</td>\n",
       "    </tr>\n",
       "    <tr>\n",
       "      <th>3</th>\n",
       "      <td>Abraham Lincoln</td>\n",
       "      <td>Abraham Lincoln___Lincoln's Inaugurals, Addres...</td>\n",
       "      <td>introduction the facts lincoln early life bes...</td>\n",
       "      <td>[ introduction the facts lincoln early life be...</td>\n",
       "      <td>[[introduction, the, facts, lincoln, early, li...</td>\n",
       "      <td>[0.110757194, -0.08897842, -0.24979639, -0.254...</td>\n",
       "      <td>0</td>\n",
       "    </tr>\n",
       "    <tr>\n",
       "      <th>4</th>\n",
       "      <td>Abraham Lincoln</td>\n",
       "      <td>Abraham Lincoln___Lincoln's Second Inaugural A...</td>\n",
       "      <td>fellow countrymen : at second appearing take ...</td>\n",
       "      <td>[ fellow countrymen : at second appearing take...</td>\n",
       "      <td>[[fellow, countrymen, at, second, appearing, t...</td>\n",
       "      <td>[0.1265721, -0.09276668, -0.22800617, -0.26777...</td>\n",
       "      <td>0</td>\n",
       "    </tr>\n",
       "  </tbody>\n",
       "</table>\n",
       "</div>"
      ],
      "text/plain": [
       "            author                                          file_name  \\\n",
       "0  Abraham Lincoln              Abraham Lincoln___Lincoln Letters.txt   \n",
       "1  Abraham Lincoln  Abraham Lincoln___Lincoln's First Inaugural Ad...   \n",
       "2  Abraham Lincoln  Abraham Lincoln___Lincoln's Gettysburg Address...   \n",
       "3  Abraham Lincoln  Abraham Lincoln___Lincoln's Inaugurals, Addres...   \n",
       "4  Abraham Lincoln  Abraham Lincoln___Lincoln's Second Inaugural A...   \n",
       "\n",
       "                                                text  \\\n",
       "0   my dear father : - - your letter 7th received...   \n",
       "1   fellow citizens united states : compliance cu...   \n",
       "2   four score seven years ago fathers brought fo...   \n",
       "3   introduction the facts lincoln early life bes...   \n",
       "4   fellow countrymen : at second appearing take ...   \n",
       "\n",
       "                                  document_sentences  \\\n",
       "0  [ my dear father : - - your letter 7th receive...   \n",
       "1  [ fellow citizens united states : compliance c...   \n",
       "2  [ four score seven years ago fathers brought f...   \n",
       "3  [ introduction the facts lincoln early life be...   \n",
       "4  [ fellow countrymen : at second appearing take...   \n",
       "\n",
       "                                 tokenized_sentences  \\\n",
       "0  [[my, dear, father, your, letter, 7th, receive...   \n",
       "1  [[fellow, citizens, united, states, compliance...   \n",
       "2  [[four, score, seven, years, ago, fathers, bro...   \n",
       "3  [[introduction, the, facts, lincoln, early, li...   \n",
       "4  [[fellow, countrymen, at, second, appearing, t...   \n",
       "\n",
       "                                        w2v_features  author_LabelEncoded  \n",
       "0  [0.16781017, -0.09903394, -0.28047475, -0.2280...                    0  \n",
       "1  [0.085581504, -0.09073201, -0.24187273, -0.248...                    0  \n",
       "2  [0.13051939, -0.110352755, -0.2540632, -0.2566...                    0  \n",
       "3  [0.110757194, -0.08897842, -0.24979639, -0.254...                    0  \n",
       "4  [0.1265721, -0.09276668, -0.22800617, -0.26777...                    0  "
      ]
     },
     "execution_count": 47,
     "metadata": {},
     "output_type": "execute_result"
    }
   ],
   "source": [
    "df.head()"
   ]
  },
  {
   "cell_type": "markdown",
   "metadata": {},
   "source": [
    "### Bag Of Word"
   ]
  },
  {
   "cell_type": "code",
   "execution_count": 48,
   "metadata": {},
   "outputs": [],
   "source": [
    "from sklearn.feature_extraction.text import CountVectorizer"
   ]
  },
  {
   "cell_type": "code",
   "execution_count": 49,
   "metadata": {},
   "outputs": [],
   "source": [
    "count_vectorizer = CountVectorizer(stop_words='english')\n",
    "XText_CountVectorizer = count_vectorizer.fit_transform(df['text'])"
   ]
  },
  {
   "cell_type": "code",
   "execution_count": 50,
   "metadata": {},
   "outputs": [
    {
     "data": {
      "text/plain": [
       "70433"
      ]
     },
     "execution_count": 50,
     "metadata": {},
     "output_type": "execute_result"
    }
   ],
   "source": [
    "XText_CountVectorizer.shape[1]"
   ]
  },
  {
   "cell_type": "code",
   "execution_count": 51,
   "metadata": {},
   "outputs": [],
   "source": [
    "X_train, X_test, y_train, y_test = train_test_split(XText_CountVectorizer, df.author_LabelEncoded, random_state = 0)"
   ]
  },
  {
   "cell_type": "code",
   "execution_count": 52,
   "metadata": {},
   "outputs": [],
   "source": [
    "clf = MultinomialNB().fit(X_train, y_train)"
   ]
  },
  {
   "cell_type": "code",
   "execution_count": 53,
   "metadata": {},
   "outputs": [],
   "source": [
    "y_score = clf.predict(X_test)"
   ]
  },
  {
   "cell_type": "code",
   "execution_count": 54,
   "metadata": {},
   "outputs": [
    {
     "name": "stdout",
     "output_type": "stream",
     "text": [
      "Accuracy: 95.00%\n"
     ]
    }
   ],
   "source": [
    "n_right = 0\n",
    "for i in range(len(y_score)):\n",
    "    if y_score.tolist()[i] == y_test.tolist()[i]:\n",
    "        n_right += 1\n",
    "\n",
    "print(\"Accuracy: %.2f%%\" % ((n_right/float(len(y_test)) * 100)))"
   ]
  },
  {
   "cell_type": "code",
   "execution_count": 55,
   "metadata": {},
   "outputs": [
    {
     "name": "stdout",
     "output_type": "stream",
     "text": [
      "             precision    recall  f1-score   support\n",
      "\n",
      "          0       1.00      1.00      1.00         3\n",
      "          3       0.00      0.00      0.00         1\n",
      "          4       1.00      1.00      1.00         2\n",
      "          5       1.00      1.00      1.00         2\n",
      "          6       0.83      1.00      0.91         5\n",
      "          7       1.00      1.00      1.00         3\n",
      "          8       1.00      1.00      1.00         4\n",
      "\n",
      "avg / total       0.91      0.95      0.93        20\n",
      "\n"
     ]
    },
    {
     "name": "stderr",
     "output_type": "stream",
     "text": [
      "C:\\ProgramData\\Anaconda3\\lib\\site-packages\\sklearn\\metrics\\classification.py:1135: UndefinedMetricWarning: Precision and F-score are ill-defined and being set to 0.0 in labels with no predicted samples.\n",
      "  'precision', 'predicted', average, warn_for)\n"
     ]
    }
   ],
   "source": [
    "print(classification_report(y_test, y_score))"
   ]
  },
  {
   "cell_type": "code",
   "execution_count": 56,
   "metadata": {},
   "outputs": [],
   "source": [
    "clf = SVC(kernel='linear').fit(X_train, y_train)"
   ]
  },
  {
   "cell_type": "code",
   "execution_count": 57,
   "metadata": {},
   "outputs": [],
   "source": [
    "y_score = clf.predict(X_test)"
   ]
  },
  {
   "cell_type": "code",
   "execution_count": 58,
   "metadata": {},
   "outputs": [
    {
     "data": {
      "text/plain": [
       "(20,)"
      ]
     },
     "execution_count": 58,
     "metadata": {},
     "output_type": "execute_result"
    }
   ],
   "source": [
    "y_score.shape"
   ]
  },
  {
   "cell_type": "code",
   "execution_count": 59,
   "metadata": {},
   "outputs": [
    {
     "name": "stdout",
     "output_type": "stream",
     "text": [
      "Accuracy: 85.00%\n"
     ]
    }
   ],
   "source": [
    "n_right = 0\n",
    "for i in range(len(y_score)):\n",
    "    if y_score.tolist()[i] == y_test.tolist()[i]:\n",
    "        n_right += 1\n",
    "\n",
    "print(\"Accuracy: %.2f%%\" % ((n_right/float(len(y_test)) * 100)))"
   ]
  },
  {
   "cell_type": "code",
   "execution_count": 60,
   "metadata": {},
   "outputs": [
    {
     "name": "stdout",
     "output_type": "stream",
     "text": [
      "             precision    recall  f1-score   support\n",
      "\n",
      "          0       1.00      1.00      1.00         3\n",
      "          1       0.00      0.00      0.00         0\n",
      "          3       0.00      0.00      0.00         1\n",
      "          4       1.00      1.00      1.00         2\n",
      "          5       1.00      1.00      1.00         2\n",
      "          6       0.71      1.00      0.83         5\n",
      "          7       1.00      1.00      1.00         3\n",
      "          8       1.00      0.50      0.67         4\n",
      "\n",
      "avg / total       0.88      0.85      0.84        20\n",
      "\n"
     ]
    },
    {
     "name": "stderr",
     "output_type": "stream",
     "text": [
      "C:\\ProgramData\\Anaconda3\\lib\\site-packages\\sklearn\\metrics\\classification.py:1135: UndefinedMetricWarning: Precision and F-score are ill-defined and being set to 0.0 in labels with no predicted samples.\n",
      "  'precision', 'predicted', average, warn_for)\n",
      "C:\\ProgramData\\Anaconda3\\lib\\site-packages\\sklearn\\metrics\\classification.py:1137: UndefinedMetricWarning: Recall and F-score are ill-defined and being set to 0.0 in labels with no true samples.\n",
      "  'recall', 'true', average, warn_for)\n"
     ]
    }
   ],
   "source": [
    "print(classification_report(y_test.tolist(), y_score.tolist()))"
   ]
  },
  {
   "cell_type": "markdown",
   "metadata": {},
   "source": [
    "### Word Embedding"
   ]
  },
  {
   "cell_type": "code",
   "execution_count": 61,
   "metadata": {},
   "outputs": [],
   "source": [
    "### Create sequence\n",
    "vocabulary_size = XText_CountVectorizer.shape[1]\n",
    "num_of_author = len(df['author_LabelEncoded'].unique())\n",
    "\n",
    "tokenizer = Tokenizer(num_words= vocabulary_size)\n",
    "tokenizer.fit_on_texts(df['text'])\n",
    "sequences = tokenizer.texts_to_sequences(df['text'])\n",
    "data = pad_sequences(sequences, maxlen=5000)"
   ]
  },
  {
   "cell_type": "code",
   "execution_count": 62,
   "metadata": {},
   "outputs": [],
   "source": [
    "X_train, X_test, y_train, y_test = train_test_split(data, np_utils.to_categorical(df['author_LabelEncoded']), random_state = 0)"
   ]
  },
  {
   "cell_type": "code",
   "execution_count": 63,
   "metadata": {},
   "outputs": [
    {
     "name": "stdout",
     "output_type": "stream",
     "text": [
      "Epoch 1/10\n",
      "60/60 [==============================] - 79s 1s/step - loss: 2.1942 - acc: 0.1500\n",
      "Epoch 2/10\n",
      "60/60 [==============================] - 72s 1s/step - loss: 2.0817 - acc: 0.3500\n",
      "Epoch 3/10\n",
      "60/60 [==============================] - 74s 1s/step - loss: 1.8706 - acc: 0.3500\n",
      "Epoch 4/10\n",
      "60/60 [==============================] - 73s 1s/step - loss: 1.6823 - acc: 0.5667\n",
      "Epoch 5/10\n",
      "60/60 [==============================] - 72s 1s/step - loss: 1.2565 - acc: 0.8500\n",
      "Epoch 6/10\n",
      "60/60 [==============================] - 80s 1s/step - loss: 0.7596 - acc: 0.9333\n",
      "Epoch 7/10\n",
      "60/60 [==============================] - 80s 1s/step - loss: 0.4721 - acc: 0.9667\n",
      "Epoch 8/10\n",
      "60/60 [==============================] - 84s 1s/step - loss: 0.3384 - acc: 0.9500\n",
      "Epoch 9/10\n",
      "60/60 [==============================] - 84s 1s/step - loss: 0.2462 - acc: 0.9500\n",
      "Epoch 10/10\n",
      "60/60 [==============================] - 82s 1s/step - loss: 0.1773 - acc: 0.9667\n"
     ]
    },
    {
     "data": {
      "text/plain": [
       "<keras.callbacks.History at 0x299f2358>"
      ]
     },
     "execution_count": 63,
     "metadata": {},
     "output_type": "execute_result"
    }
   ],
   "source": [
    "model = Sequential()\n",
    "model.add(Embedding(vocabulary_size, 256, input_length = data.shape[1]))\n",
    "model.add(LSTM(128, dropout=0.2, recurrent_dropout=0.2))\n",
    "model.add(Dense(num_of_author, activation='softmax'))\n",
    "model.compile(loss='categorical_crossentropy', optimizer='adam', metrics=['accuracy'])\n",
    "\n",
    "model.fit(X_train, y_train, epochs=10, batch_size=5)"
   ]
  },
  {
   "cell_type": "code",
   "execution_count": 64,
   "metadata": {},
   "outputs": [
    {
     "name": "stdout",
     "output_type": "stream",
     "text": [
      "Accuracy: 15.00%\n"
     ]
    }
   ],
   "source": [
    "y_score = model.predict(X_test)\n",
    "y_score = [[1 if i == max(sc) else 0 for i in sc] for sc in y_score]\n",
    "n_right = 0\n",
    "for i in range(len(y_score)):\n",
    "    if all(y_score[i][j] == np.array(y_test)[i][j] for j in range(len(y_score[i]))):\n",
    "        n_right += 1\n",
    "\n",
    "print(\"Accuracy: %.2f%%\" % ((n_right/float(len(y_test)) * 100)))"
   ]
  },
  {
   "cell_type": "code",
   "execution_count": null,
   "metadata": {},
   "outputs": [],
   "source": []
  }
 ],
 "metadata": {
  "kernelspec": {
   "display_name": "Python 3",
   "language": "python",
   "name": "python3"
  },
  "language_info": {
   "codemirror_mode": {
    "name": "ipython",
    "version": 3
   },
   "file_extension": ".py",
   "mimetype": "text/x-python",
   "name": "python",
   "nbconvert_exporter": "python",
   "pygments_lexer": "ipython3",
   "version": "3.6.5"
  }
 },
 "nbformat": 4,
 "nbformat_minor": 2
}
