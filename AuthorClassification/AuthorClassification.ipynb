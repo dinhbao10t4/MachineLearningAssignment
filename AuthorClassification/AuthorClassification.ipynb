{
 "cells": [
  {
   "cell_type": "code",
   "execution_count": 143,
   "metadata": {},
   "outputs": [],
   "source": [
    "from nltk.corpus import gutenberg, stopwords\n",
    "import nltk\n",
    "\n",
    "# Keras\n",
    "from keras.preprocessing.text import Tokenizer\n",
    "from keras.preprocessing.sequence import pad_sequences\n",
    "from keras.models import Sequential\n",
    "from keras.layers import Dense, Flatten, LSTM, Conv1D, MaxPooling1D, Dropout, Activation, SpatialDropout1D\n",
    "from keras.layers.embeddings import Embedding\n",
    "from keras.utils import np_utils\n",
    "\n",
    "from sklearn.manifold import TSNE\n",
    "from sklearn.feature_extraction.text import TfidfTransformer, TfidfVectorizer, CountVectorizer\n",
    "from sklearn.preprocessing import LabelEncoder\n",
    "from sklearn.naive_bayes import MultinomialNB\n",
    "from sklearn.svm import SVC\n",
    "from sklearn.metrics import classification_report\n",
    "from sklearn.model_selection import train_test_split, GridSearchCV\n",
    "from sklearn.ensemble import RandomForestClassifier, AdaBoostClassifier\n",
    "from sklearn.linear_model import LogisticRegression\n",
    "\n",
    "from gensim.models.ldamulticore import LdaMulticore\n",
    "from gensim.models.word2vec import Word2Vec\n",
    "\n",
    "import string\n",
    "import numpy as np\n",
    "import pandas as pd\n",
    "import re\n",
    "import os\n",
    "# set seed for reproducibility\n",
    "np.random.seed(0)"
   ]
  },
  {
   "cell_type": "code",
   "execution_count": 144,
   "metadata": {},
   "outputs": [],
   "source": [
    "all_files = os.listdir(\"book/new/\")"
   ]
  },
  {
   "cell_type": "code",
   "execution_count": 145,
   "metadata": {},
   "outputs": [],
   "source": [
    "arr = []\n",
    "one_book = []\n",
    "content = ''\n",
    "path = 'book/'\n",
    "for b in all_files[0:100]:\n",
    "    one_book = []\n",
    "    path = 'book/'\n",
    "    one_book.append(b.split('___')[0])\n",
    "    one_book.append(b)\n",
    "    \n",
    "    path += b\n",
    "    with open(path, 'r') as myfile:\n",
    "        content = myfile.read().replace('\\n', ' ')\n",
    "    one_book.append(content)\n",
    "    arr.append(one_book)"
   ]
  },
  {
   "cell_type": "code",
   "execution_count": 146,
   "metadata": {},
   "outputs": [],
   "source": [
    "columns = ['author', 'file_name', 'text']\n",
    "df = pd.DataFrame(arr, columns=columns)"
   ]
  },
  {
   "cell_type": "code",
   "execution_count": 147,
   "metadata": {},
   "outputs": [
    {
     "data": {
      "text/plain": [
       "(90, 3)"
      ]
     },
     "execution_count": 147,
     "metadata": {},
     "output_type": "execute_result"
    }
   ],
   "source": [
    "df.shape"
   ]
  },
  {
   "cell_type": "code",
   "execution_count": 148,
   "metadata": {},
   "outputs": [
    {
     "data": {
      "text/html": [
       "<div>\n",
       "<style scoped>\n",
       "    .dataframe tbody tr th:only-of-type {\n",
       "        vertical-align: middle;\n",
       "    }\n",
       "\n",
       "    .dataframe tbody tr th {\n",
       "        vertical-align: top;\n",
       "    }\n",
       "\n",
       "    .dataframe thead th {\n",
       "        text-align: right;\n",
       "    }\n",
       "</style>\n",
       "<table border=\"1\" class=\"dataframe\">\n",
       "  <thead>\n",
       "    <tr style=\"text-align: right;\">\n",
       "      <th></th>\n",
       "      <th>author</th>\n",
       "      <th>file_name</th>\n",
       "      <th>text</th>\n",
       "    </tr>\n",
       "  </thead>\n",
       "  <tbody>\n",
       "    <tr>\n",
       "      <th>0</th>\n",
       "      <td>Abraham Lincoln</td>\n",
       "      <td>Abraham Lincoln___State of the Union Addresses...</td>\n",
       "      <td>Fellow-Citizens of the Senate and House of Rep...</td>\n",
       "    </tr>\n",
       "    <tr>\n",
       "      <th>1</th>\n",
       "      <td>Abraham Lincoln</td>\n",
       "      <td>Abraham Lincoln___The Emancipation Proclamatio...</td>\n",
       "      <td>By the President of the United States of Ameri...</td>\n",
       "    </tr>\n",
       "    <tr>\n",
       "      <th>2</th>\n",
       "      <td>Abraham Lincoln</td>\n",
       "      <td>Abraham Lincoln___The Life and Public Service ...</td>\n",
       "      <td>ï»¿The discovery of an unknown address by Abra...</td>\n",
       "    </tr>\n",
       "    <tr>\n",
       "      <th>3</th>\n",
       "      <td>Abraham Lincoln</td>\n",
       "      <td>Abraham Lincoln___The Writings of Abraham Linc...</td>\n",
       "      <td>Immediately after Lincoln's re-election to the...</td>\n",
       "    </tr>\n",
       "    <tr>\n",
       "      <th>4</th>\n",
       "      <td>Abraham Lincoln</td>\n",
       "      <td>Abraham Lincoln___The Writings of Abraham Linc...</td>\n",
       "      <td>FIRST CHILD  TO JOSHUA F. SPEED. SPRINGFIELD, ...</td>\n",
       "    </tr>\n",
       "  </tbody>\n",
       "</table>\n",
       "</div>"
      ],
      "text/plain": [
       "            author                                          file_name  \\\n",
       "0  Abraham Lincoln  Abraham Lincoln___State of the Union Addresses...   \n",
       "1  Abraham Lincoln  Abraham Lincoln___The Emancipation Proclamatio...   \n",
       "2  Abraham Lincoln  Abraham Lincoln___The Life and Public Service ...   \n",
       "3  Abraham Lincoln  Abraham Lincoln___The Writings of Abraham Linc...   \n",
       "4  Abraham Lincoln  Abraham Lincoln___The Writings of Abraham Linc...   \n",
       "\n",
       "                                                text  \n",
       "0  Fellow-Citizens of the Senate and House of Rep...  \n",
       "1  By the President of the United States of Ameri...  \n",
       "2  ï»¿The discovery of an unknown address by Abra...  \n",
       "3  Immediately after Lincoln's re-election to the...  \n",
       "4  FIRST CHILD  TO JOSHUA F. SPEED. SPRINGFIELD, ...  "
      ]
     },
     "execution_count": 148,
     "metadata": {},
     "output_type": "execute_result"
    }
   ],
   "source": [
    "df.head()"
   ]
  },
  {
   "cell_type": "code",
   "execution_count": 149,
   "metadata": {},
   "outputs": [],
   "source": [
    "stop_words = set(stopwords.words('english'))"
   ]
  },
  {
   "cell_type": "code",
   "execution_count": 150,
   "metadata": {},
   "outputs": [],
   "source": [
    "def get_data_of_file(row):\n",
    "    file_name = row.file_name\n",
    "    text = ''\n",
    "    words = row.text.lower().split()\n",
    "    for r in words:\n",
    "        if not r in stop_words:\n",
    "            text += ' ' + r\n",
    "    \n",
    "    text = re.sub(r\"[^A-Za-z0-9^,!.\\/'+-=]\", \" \", text)\n",
    "    text = re.sub(r\"what's\", \"what is \", text)\n",
    "    text = re.sub(r\"\\'s\", \" \", text)\n",
    "    text = re.sub(r\"\\'ve\", \" have \", text)\n",
    "    text = re.sub(r\"n't\", \" not \", text)\n",
    "    text = re.sub(r\"i'm\", \"i am \", text)\n",
    "    text = re.sub(r\"\\'re\", \" are \", text)\n",
    "    text = re.sub(r\"\\'d\", \" would \", text)\n",
    "    text = re.sub(r\"\\'ll\", \" will \", text)\n",
    "    text = re.sub(r\",\", \" \", text)\n",
    "    text = re.sub(r\"\\.\", \" \", text)\n",
    "    text = re.sub(r\"!\", \" ! \", text)\n",
    "    text = re.sub(r\"\\/\", \" \", text)\n",
    "    text = re.sub(r\"\\^\", \" ^ \", text)\n",
    "    text = re.sub(r\"\\+\", \" + \", text)\n",
    "    text = re.sub(r\"\\-\", \" - \", text)\n",
    "    text = re.sub(r\"\\=\", \" = \", text)\n",
    "    text = re.sub(r\"'\", \" \", text)\n",
    "    text = re.sub(r\"(\\d+)(k)\", r\"\\g<1>000\", text)\n",
    "    text = re.sub(r\":\", \" : \", text)\n",
    "    text = re.sub(r\" e g \", \" eg \", text)\n",
    "    text = re.sub(r\" b g \", \" bg \", text)\n",
    "    text = re.sub(r\" u s \", \" american \", text)\n",
    "    text = re.sub(r\"\\0s\", \"0\", text)\n",
    "    text = re.sub(r\" 9 11 \", \"911\", text)\n",
    "    text = re.sub(r\"e - mail\", \"email\", text)\n",
    "    text = re.sub(r\"j k\", \"jk\", text)\n",
    "    text = re.sub(r\"\\s{2,}\", \" \", text)\n",
    "    \n",
    "    row['text'] = text\n",
    "    return row\n",
    "df = df.apply(get_data_of_file, axis=1)"
   ]
  },
  {
   "cell_type": "code",
   "execution_count": 151,
   "metadata": {},
   "outputs": [
    {
     "data": {
      "text/html": [
       "<div>\n",
       "<style scoped>\n",
       "    .dataframe tbody tr th:only-of-type {\n",
       "        vertical-align: middle;\n",
       "    }\n",
       "\n",
       "    .dataframe tbody tr th {\n",
       "        vertical-align: top;\n",
       "    }\n",
       "\n",
       "    .dataframe thead th {\n",
       "        text-align: right;\n",
       "    }\n",
       "</style>\n",
       "<table border=\"1\" class=\"dataframe\">\n",
       "  <thead>\n",
       "    <tr style=\"text-align: right;\">\n",
       "      <th></th>\n",
       "      <th>author</th>\n",
       "      <th>file_name</th>\n",
       "      <th>text</th>\n",
       "    </tr>\n",
       "  </thead>\n",
       "  <tbody>\n",
       "    <tr>\n",
       "      <th>0</th>\n",
       "      <td>Abraham Lincoln</td>\n",
       "      <td>Abraham Lincoln___State of the Union Addresses...</td>\n",
       "      <td>fellow - citizens senate house representative...</td>\n",
       "    </tr>\n",
       "    <tr>\n",
       "      <th>1</th>\n",
       "      <td>Abraham Lincoln</td>\n",
       "      <td>Abraham Lincoln___The Emancipation Proclamatio...</td>\n",
       "      <td>president united states america : proclamatio...</td>\n",
       "    </tr>\n",
       "    <tr>\n",
       "      <th>2</th>\n",
       "      <td>Abraham Lincoln</td>\n",
       "      <td>Abraham Lincoln___The Life and Public Service ...</td>\n",
       "      <td>the discovery unknown address abraham lincoln...</td>\n",
       "    </tr>\n",
       "    <tr>\n",
       "      <th>3</th>\n",
       "      <td>Abraham Lincoln</td>\n",
       "      <td>Abraham Lincoln___The Writings of Abraham Linc...</td>\n",
       "      <td>immediately lincoln re - election presidency ...</td>\n",
       "    </tr>\n",
       "    <tr>\n",
       "      <th>4</th>\n",
       "      <td>Abraham Lincoln</td>\n",
       "      <td>Abraham Lincoln___The Writings of Abraham Linc...</td>\n",
       "      <td>first child joshua f speed springfield may 18...</td>\n",
       "    </tr>\n",
       "  </tbody>\n",
       "</table>\n",
       "</div>"
      ],
      "text/plain": [
       "            author                                          file_name  \\\n",
       "0  Abraham Lincoln  Abraham Lincoln___State of the Union Addresses...   \n",
       "1  Abraham Lincoln  Abraham Lincoln___The Emancipation Proclamatio...   \n",
       "2  Abraham Lincoln  Abraham Lincoln___The Life and Public Service ...   \n",
       "3  Abraham Lincoln  Abraham Lincoln___The Writings of Abraham Linc...   \n",
       "4  Abraham Lincoln  Abraham Lincoln___The Writings of Abraham Linc...   \n",
       "\n",
       "                                                text  \n",
       "0   fellow - citizens senate house representative...  \n",
       "1   president united states america : proclamatio...  \n",
       "2   the discovery unknown address abraham lincoln...  \n",
       "3   immediately lincoln re - election presidency ...  \n",
       "4   first child joshua f speed springfield may 18...  "
      ]
     },
     "execution_count": 151,
     "metadata": {},
     "output_type": "execute_result"
    }
   ],
   "source": [
    "df.head()"
   ]
  },
  {
   "cell_type": "code",
   "execution_count": 152,
   "metadata": {},
   "outputs": [
    {
     "data": {
      "text/plain": [
       "(90, 3)"
      ]
     },
     "execution_count": 152,
     "metadata": {},
     "output_type": "execute_result"
    }
   ],
   "source": [
    "df.shape"
   ]
  },
  {
   "cell_type": "markdown",
   "metadata": {},
   "source": [
    "### Word2Vec"
   ]
  },
  {
   "cell_type": "code",
   "execution_count": 153,
   "metadata": {},
   "outputs": [],
   "source": [
    "def get_good_tokens(sentence):\n",
    "    replaced_punctation = list(map(lambda token: re.sub('[^0-9A-Za-z!?]+', '', token), sentence))\n",
    "    removed_punctation = list(filter(lambda token: token, replaced_punctation))\n",
    "    return removed_punctation"
   ]
  },
  {
   "cell_type": "code",
   "execution_count": 154,
   "metadata": {},
   "outputs": [],
   "source": [
    "def w2v_preprocessing(df):\n",
    "    \"\"\" All the preprocessing steps for word2vec are done in this function.\n",
    "    All mutations are done on the dataframe itself. So this function returns\n",
    "    nothing.\n",
    "    \"\"\"\n",
    "    df['document_sentences'] = df.text.str.split('.')  # split texts into individual sentences\n",
    "    df['tokenized_sentences'] = list(map(lambda sentences:\n",
    "                                         list(map(nltk.word_tokenize, sentences)),\n",
    "                                         df.document_sentences))  # tokenize sentences\n",
    "    df['tokenized_sentences'] = list(map(lambda sentences:\n",
    "                                         list(map(get_good_tokens, sentences)),\n",
    "                                         df.tokenized_sentences))  # remove unwanted characters\n",
    "    df['tokenized_sentences'] = list(map(lambda sentences:\n",
    "                                         list(filter(lambda lst: lst, sentences)),\n",
    "                                         df.tokenized_sentences))  # remove empty lists\n",
    "\n",
    "w2v_preprocessing(df)"
   ]
  },
  {
   "cell_type": "code",
   "execution_count": 155,
   "metadata": {},
   "outputs": [
    {
     "data": {
      "text/html": [
       "<div>\n",
       "<style scoped>\n",
       "    .dataframe tbody tr th:only-of-type {\n",
       "        vertical-align: middle;\n",
       "    }\n",
       "\n",
       "    .dataframe tbody tr th {\n",
       "        vertical-align: top;\n",
       "    }\n",
       "\n",
       "    .dataframe thead th {\n",
       "        text-align: right;\n",
       "    }\n",
       "</style>\n",
       "<table border=\"1\" class=\"dataframe\">\n",
       "  <thead>\n",
       "    <tr style=\"text-align: right;\">\n",
       "      <th></th>\n",
       "      <th>author</th>\n",
       "      <th>file_name</th>\n",
       "      <th>text</th>\n",
       "      <th>document_sentences</th>\n",
       "      <th>tokenized_sentences</th>\n",
       "    </tr>\n",
       "  </thead>\n",
       "  <tbody>\n",
       "    <tr>\n",
       "      <th>0</th>\n",
       "      <td>Abraham Lincoln</td>\n",
       "      <td>Abraham Lincoln___State of the Union Addresses...</td>\n",
       "      <td>fellow - citizens senate house representative...</td>\n",
       "      <td>[ fellow - citizens senate house representativ...</td>\n",
       "      <td>[[fellow, citizens, senate, house, representat...</td>\n",
       "    </tr>\n",
       "    <tr>\n",
       "      <th>1</th>\n",
       "      <td>Abraham Lincoln</td>\n",
       "      <td>Abraham Lincoln___The Emancipation Proclamatio...</td>\n",
       "      <td>president united states america : proclamatio...</td>\n",
       "      <td>[ president united states america : proclamati...</td>\n",
       "      <td>[[president, united, states, america, proclama...</td>\n",
       "    </tr>\n",
       "    <tr>\n",
       "      <th>2</th>\n",
       "      <td>Abraham Lincoln</td>\n",
       "      <td>Abraham Lincoln___The Life and Public Service ...</td>\n",
       "      <td>the discovery unknown address abraham lincoln...</td>\n",
       "      <td>[ the discovery unknown address abraham lincol...</td>\n",
       "      <td>[[the, discovery, unknown, address, abraham, l...</td>\n",
       "    </tr>\n",
       "    <tr>\n",
       "      <th>3</th>\n",
       "      <td>Abraham Lincoln</td>\n",
       "      <td>Abraham Lincoln___The Writings of Abraham Linc...</td>\n",
       "      <td>immediately lincoln re - election presidency ...</td>\n",
       "      <td>[ immediately lincoln re - election presidency...</td>\n",
       "      <td>[[immediately, lincoln, re, election, presiden...</td>\n",
       "    </tr>\n",
       "    <tr>\n",
       "      <th>4</th>\n",
       "      <td>Abraham Lincoln</td>\n",
       "      <td>Abraham Lincoln___The Writings of Abraham Linc...</td>\n",
       "      <td>first child joshua f speed springfield may 18...</td>\n",
       "      <td>[ first child joshua f speed springfield may 1...</td>\n",
       "      <td>[[first, child, joshua, f, speed, springfield,...</td>\n",
       "    </tr>\n",
       "  </tbody>\n",
       "</table>\n",
       "</div>"
      ],
      "text/plain": [
       "            author                                          file_name  \\\n",
       "0  Abraham Lincoln  Abraham Lincoln___State of the Union Addresses...   \n",
       "1  Abraham Lincoln  Abraham Lincoln___The Emancipation Proclamatio...   \n",
       "2  Abraham Lincoln  Abraham Lincoln___The Life and Public Service ...   \n",
       "3  Abraham Lincoln  Abraham Lincoln___The Writings of Abraham Linc...   \n",
       "4  Abraham Lincoln  Abraham Lincoln___The Writings of Abraham Linc...   \n",
       "\n",
       "                                                text  \\\n",
       "0   fellow - citizens senate house representative...   \n",
       "1   president united states america : proclamatio...   \n",
       "2   the discovery unknown address abraham lincoln...   \n",
       "3   immediately lincoln re - election presidency ...   \n",
       "4   first child joshua f speed springfield may 18...   \n",
       "\n",
       "                                  document_sentences  \\\n",
       "0  [ fellow - citizens senate house representativ...   \n",
       "1  [ president united states america : proclamati...   \n",
       "2  [ the discovery unknown address abraham lincol...   \n",
       "3  [ immediately lincoln re - election presidency...   \n",
       "4  [ first child joshua f speed springfield may 1...   \n",
       "\n",
       "                                 tokenized_sentences  \n",
       "0  [[fellow, citizens, senate, house, representat...  \n",
       "1  [[president, united, states, america, proclama...  \n",
       "2  [[the, discovery, unknown, address, abraham, l...  \n",
       "3  [[immediately, lincoln, re, election, presiden...  \n",
       "4  [[first, child, joshua, f, speed, springfield,...  "
      ]
     },
     "execution_count": 155,
     "metadata": {},
     "output_type": "execute_result"
    }
   ],
   "source": [
    "df.head()"
   ]
  },
  {
   "cell_type": "code",
   "execution_count": 156,
   "metadata": {},
   "outputs": [
    {
     "name": "stdout",
     "output_type": "stream",
     "text": [
      "Number of sentences: 90.\n",
      "Number of texts: 90.\n"
     ]
    }
   ],
   "source": [
    "sentences = []\n",
    "for sentence_group in df.tokenized_sentences:\n",
    "    sentences.extend(sentence_group)\n",
    "\n",
    "print(\"Number of sentences: {}.\".format(len(sentences)))\n",
    "print(\"Number of texts: {}.\".format(len(df)))"
   ]
  },
  {
   "cell_type": "code",
   "execution_count": 157,
   "metadata": {},
   "outputs": [],
   "source": [
    "# Set values for various parameters\n",
    "num_features = 200    # Word vector dimensionality\n",
    "min_word_count = 3    # Minimum word count\n",
    "num_workers = 4       # Number of threads to run in parallel\n",
    "context = 6           # Context window size\n",
    "downsampling = 1e-3   # Downsample setting for frequent words\n",
    "\n",
    "# Initialize and train the model\n",
    "W2Vmodel = Word2Vec(sentences=sentences,\n",
    "                    sg=1,\n",
    "                    hs=0,\n",
    "                    workers=num_workers,\n",
    "                    size=num_features,\n",
    "                    min_count=min_word_count,\n",
    "                    window=context,\n",
    "                    sample=downsampling,\n",
    "                    negative=5,\n",
    "                    iter=6)"
   ]
  },
  {
   "cell_type": "code",
   "execution_count": 158,
   "metadata": {},
   "outputs": [],
   "source": [
    "# W2Vmodel['sentences']"
   ]
  },
  {
   "cell_type": "code",
   "execution_count": 159,
   "metadata": {},
   "outputs": [
    {
     "name": "stderr",
     "output_type": "stream",
     "text": [
      "C:\\ProgramData\\Anaconda3\\lib\\site-packages\\ipykernel_launcher.py:16: DeprecationWarning: Call to deprecated `__getitem__` (Method will be removed in 4.0.0, use self.wv.__getitem__() instead).\n",
      "  app.launch_new_instance()\n"
     ]
    }
   ],
   "source": [
    "def get_w2v_features(w2v_model, sentence_group):\n",
    "    \"\"\" Transform a sentence_group (containing multiple lists\n",
    "    of words) into a feature vector. It averages out all the\n",
    "    word vectors of the sentence_group.\n",
    "    \"\"\"\n",
    "    words = np.concatenate(sentence_group)  # words in text\n",
    "    index2word_set = set(w2v_model.wv.vocab.keys())  # words known to model\n",
    "    \n",
    "    featureVec = np.zeros(w2v_model.vector_size, dtype=\"float32\")\n",
    "    \n",
    "    # Initialize a counter for number of words in a review\n",
    "    nwords = 0\n",
    "    # Loop over each word in the comment and, if it is in the model's vocabulary, add its feature vector to the total\n",
    "    for word in words:\n",
    "        if word in index2word_set: \n",
    "            featureVec = np.add(featureVec, w2v_model[word])\n",
    "            nwords += 1.\n",
    "\n",
    "    # Divide the result by the number of words to get the average\n",
    "    if nwords > 0:\n",
    "        featureVec = np.divide(featureVec, nwords)\n",
    "    return featureVec\n",
    "\n",
    "df['w2v_features'] = list(map(lambda sen_group:\n",
    "                                      get_w2v_features(W2Vmodel, sen_group),\n",
    "                                      df.tokenized_sentences))"
   ]
  },
  {
   "cell_type": "code",
   "execution_count": 160,
   "metadata": {},
   "outputs": [
    {
     "data": {
      "text/html": [
       "<div>\n",
       "<style scoped>\n",
       "    .dataframe tbody tr th:only-of-type {\n",
       "        vertical-align: middle;\n",
       "    }\n",
       "\n",
       "    .dataframe tbody tr th {\n",
       "        vertical-align: top;\n",
       "    }\n",
       "\n",
       "    .dataframe thead th {\n",
       "        text-align: right;\n",
       "    }\n",
       "</style>\n",
       "<table border=\"1\" class=\"dataframe\">\n",
       "  <thead>\n",
       "    <tr style=\"text-align: right;\">\n",
       "      <th></th>\n",
       "      <th>author</th>\n",
       "      <th>file_name</th>\n",
       "      <th>text</th>\n",
       "      <th>document_sentences</th>\n",
       "      <th>tokenized_sentences</th>\n",
       "      <th>w2v_features</th>\n",
       "    </tr>\n",
       "  </thead>\n",
       "  <tbody>\n",
       "    <tr>\n",
       "      <th>0</th>\n",
       "      <td>Abraham Lincoln</td>\n",
       "      <td>Abraham Lincoln___State of the Union Addresses...</td>\n",
       "      <td>fellow - citizens senate house representative...</td>\n",
       "      <td>[ fellow - citizens senate house representativ...</td>\n",
       "      <td>[[fellow, citizens, senate, house, representat...</td>\n",
       "      <td>[-0.08300484, -0.034919422, 0.14951418, 0.0426...</td>\n",
       "    </tr>\n",
       "    <tr>\n",
       "      <th>1</th>\n",
       "      <td>Abraham Lincoln</td>\n",
       "      <td>Abraham Lincoln___The Emancipation Proclamatio...</td>\n",
       "      <td>president united states america : proclamatio...</td>\n",
       "      <td>[ president united states america : proclamati...</td>\n",
       "      <td>[[president, united, states, america, proclama...</td>\n",
       "      <td>[-0.052613672, -0.097373344, 0.19649191, -0.01...</td>\n",
       "    </tr>\n",
       "    <tr>\n",
       "      <th>2</th>\n",
       "      <td>Abraham Lincoln</td>\n",
       "      <td>Abraham Lincoln___The Life and Public Service ...</td>\n",
       "      <td>the discovery unknown address abraham lincoln...</td>\n",
       "      <td>[ the discovery unknown address abraham lincol...</td>\n",
       "      <td>[[the, discovery, unknown, address, abraham, l...</td>\n",
       "      <td>[-0.07926907, -0.021158708, 0.13386746, 0.0301...</td>\n",
       "    </tr>\n",
       "    <tr>\n",
       "      <th>3</th>\n",
       "      <td>Abraham Lincoln</td>\n",
       "      <td>Abraham Lincoln___The Writings of Abraham Linc...</td>\n",
       "      <td>immediately lincoln re - election presidency ...</td>\n",
       "      <td>[ immediately lincoln re - election presidency...</td>\n",
       "      <td>[[immediately, lincoln, re, election, presiden...</td>\n",
       "      <td>[-0.0740697, 0.022560358, 0.14278434, 0.046736...</td>\n",
       "    </tr>\n",
       "    <tr>\n",
       "      <th>4</th>\n",
       "      <td>Abraham Lincoln</td>\n",
       "      <td>Abraham Lincoln___The Writings of Abraham Linc...</td>\n",
       "      <td>first child joshua f speed springfield may 18...</td>\n",
       "      <td>[ first child joshua f speed springfield may 1...</td>\n",
       "      <td>[[first, child, joshua, f, speed, springfield,...</td>\n",
       "      <td>[-0.07442752, 0.01899455, 0.15480827, 0.037126...</td>\n",
       "    </tr>\n",
       "  </tbody>\n",
       "</table>\n",
       "</div>"
      ],
      "text/plain": [
       "            author                                          file_name  \\\n",
       "0  Abraham Lincoln  Abraham Lincoln___State of the Union Addresses...   \n",
       "1  Abraham Lincoln  Abraham Lincoln___The Emancipation Proclamatio...   \n",
       "2  Abraham Lincoln  Abraham Lincoln___The Life and Public Service ...   \n",
       "3  Abraham Lincoln  Abraham Lincoln___The Writings of Abraham Linc...   \n",
       "4  Abraham Lincoln  Abraham Lincoln___The Writings of Abraham Linc...   \n",
       "\n",
       "                                                text  \\\n",
       "0   fellow - citizens senate house representative...   \n",
       "1   president united states america : proclamatio...   \n",
       "2   the discovery unknown address abraham lincoln...   \n",
       "3   immediately lincoln re - election presidency ...   \n",
       "4   first child joshua f speed springfield may 18...   \n",
       "\n",
       "                                  document_sentences  \\\n",
       "0  [ fellow - citizens senate house representativ...   \n",
       "1  [ president united states america : proclamati...   \n",
       "2  [ the discovery unknown address abraham lincol...   \n",
       "3  [ immediately lincoln re - election presidency...   \n",
       "4  [ first child joshua f speed springfield may 1...   \n",
       "\n",
       "                                 tokenized_sentences  \\\n",
       "0  [[fellow, citizens, senate, house, representat...   \n",
       "1  [[president, united, states, america, proclama...   \n",
       "2  [[the, discovery, unknown, address, abraham, l...   \n",
       "3  [[immediately, lincoln, re, election, presiden...   \n",
       "4  [[first, child, joshua, f, speed, springfield,...   \n",
       "\n",
       "                                        w2v_features  \n",
       "0  [-0.08300484, -0.034919422, 0.14951418, 0.0426...  \n",
       "1  [-0.052613672, -0.097373344, 0.19649191, -0.01...  \n",
       "2  [-0.07926907, -0.021158708, 0.13386746, 0.0301...  \n",
       "3  [-0.0740697, 0.022560358, 0.14278434, 0.046736...  \n",
       "4  [-0.07442752, 0.01899455, 0.15480827, 0.037126...  "
      ]
     },
     "execution_count": 160,
     "metadata": {},
     "output_type": "execute_result"
    }
   ],
   "source": [
    "df.head()"
   ]
  },
  {
   "cell_type": "code",
   "execution_count": 161,
   "metadata": {},
   "outputs": [
    {
     "data": {
      "text/plain": [
       "9"
      ]
     },
     "execution_count": 161,
     "metadata": {},
     "output_type": "execute_result"
    }
   ],
   "source": [
    "df.author.nunique()"
   ]
  },
  {
   "cell_type": "code",
   "execution_count": 162,
   "metadata": {},
   "outputs": [],
   "source": [
    "le = LabelEncoder()\n",
    "df['author_LabelEncoded'] = le.fit_transform(df.author)"
   ]
  },
  {
   "cell_type": "code",
   "execution_count": 163,
   "metadata": {},
   "outputs": [
    {
     "data": {
      "text/plain": [
       "3    11\n",
       "1    11\n",
       "8    10\n",
       "6    10\n",
       "4    10\n",
       "2    10\n",
       "0    10\n",
       "7     9\n",
       "5     9\n",
       "Name: author_LabelEncoded, dtype: int64"
      ]
     },
     "execution_count": 163,
     "metadata": {},
     "output_type": "execute_result"
    }
   ],
   "source": [
    "df.author_LabelEncoded.value_counts()"
   ]
  },
  {
   "cell_type": "code",
   "execution_count": 164,
   "metadata": {},
   "outputs": [],
   "source": [
    "y_one_hot = np_utils.to_categorical(df['author_LabelEncoded'])"
   ]
  },
  {
   "cell_type": "code",
   "execution_count": 165,
   "metadata": {},
   "outputs": [
    {
     "data": {
      "text/html": [
       "<div>\n",
       "<style scoped>\n",
       "    .dataframe tbody tr th:only-of-type {\n",
       "        vertical-align: middle;\n",
       "    }\n",
       "\n",
       "    .dataframe tbody tr th {\n",
       "        vertical-align: top;\n",
       "    }\n",
       "\n",
       "    .dataframe thead th {\n",
       "        text-align: right;\n",
       "    }\n",
       "</style>\n",
       "<table border=\"1\" class=\"dataframe\">\n",
       "  <thead>\n",
       "    <tr style=\"text-align: right;\">\n",
       "      <th></th>\n",
       "      <th>author</th>\n",
       "      <th>file_name</th>\n",
       "      <th>text</th>\n",
       "      <th>document_sentences</th>\n",
       "      <th>tokenized_sentences</th>\n",
       "      <th>w2v_features</th>\n",
       "      <th>author_LabelEncoded</th>\n",
       "    </tr>\n",
       "  </thead>\n",
       "  <tbody>\n",
       "    <tr>\n",
       "      <th>0</th>\n",
       "      <td>Abraham Lincoln</td>\n",
       "      <td>Abraham Lincoln___State of the Union Addresses...</td>\n",
       "      <td>fellow - citizens senate house representative...</td>\n",
       "      <td>[ fellow - citizens senate house representativ...</td>\n",
       "      <td>[[fellow, citizens, senate, house, representat...</td>\n",
       "      <td>[-0.08300484, -0.034919422, 0.14951418, 0.0426...</td>\n",
       "      <td>0</td>\n",
       "    </tr>\n",
       "    <tr>\n",
       "      <th>1</th>\n",
       "      <td>Abraham Lincoln</td>\n",
       "      <td>Abraham Lincoln___The Emancipation Proclamatio...</td>\n",
       "      <td>president united states america : proclamatio...</td>\n",
       "      <td>[ president united states america : proclamati...</td>\n",
       "      <td>[[president, united, states, america, proclama...</td>\n",
       "      <td>[-0.052613672, -0.097373344, 0.19649191, -0.01...</td>\n",
       "      <td>0</td>\n",
       "    </tr>\n",
       "    <tr>\n",
       "      <th>2</th>\n",
       "      <td>Abraham Lincoln</td>\n",
       "      <td>Abraham Lincoln___The Life and Public Service ...</td>\n",
       "      <td>the discovery unknown address abraham lincoln...</td>\n",
       "      <td>[ the discovery unknown address abraham lincol...</td>\n",
       "      <td>[[the, discovery, unknown, address, abraham, l...</td>\n",
       "      <td>[-0.07926907, -0.021158708, 0.13386746, 0.0301...</td>\n",
       "      <td>0</td>\n",
       "    </tr>\n",
       "    <tr>\n",
       "      <th>3</th>\n",
       "      <td>Abraham Lincoln</td>\n",
       "      <td>Abraham Lincoln___The Writings of Abraham Linc...</td>\n",
       "      <td>immediately lincoln re - election presidency ...</td>\n",
       "      <td>[ immediately lincoln re - election presidency...</td>\n",
       "      <td>[[immediately, lincoln, re, election, presiden...</td>\n",
       "      <td>[-0.0740697, 0.022560358, 0.14278434, 0.046736...</td>\n",
       "      <td>0</td>\n",
       "    </tr>\n",
       "    <tr>\n",
       "      <th>4</th>\n",
       "      <td>Abraham Lincoln</td>\n",
       "      <td>Abraham Lincoln___The Writings of Abraham Linc...</td>\n",
       "      <td>first child joshua f speed springfield may 18...</td>\n",
       "      <td>[ first child joshua f speed springfield may 1...</td>\n",
       "      <td>[[first, child, joshua, f, speed, springfield,...</td>\n",
       "      <td>[-0.07442752, 0.01899455, 0.15480827, 0.037126...</td>\n",
       "      <td>0</td>\n",
       "    </tr>\n",
       "  </tbody>\n",
       "</table>\n",
       "</div>"
      ],
      "text/plain": [
       "            author                                          file_name  \\\n",
       "0  Abraham Lincoln  Abraham Lincoln___State of the Union Addresses...   \n",
       "1  Abraham Lincoln  Abraham Lincoln___The Emancipation Proclamatio...   \n",
       "2  Abraham Lincoln  Abraham Lincoln___The Life and Public Service ...   \n",
       "3  Abraham Lincoln  Abraham Lincoln___The Writings of Abraham Linc...   \n",
       "4  Abraham Lincoln  Abraham Lincoln___The Writings of Abraham Linc...   \n",
       "\n",
       "                                                text  \\\n",
       "0   fellow - citizens senate house representative...   \n",
       "1   president united states america : proclamatio...   \n",
       "2   the discovery unknown address abraham lincoln...   \n",
       "3   immediately lincoln re - election presidency ...   \n",
       "4   first child joshua f speed springfield may 18...   \n",
       "\n",
       "                                  document_sentences  \\\n",
       "0  [ fellow - citizens senate house representativ...   \n",
       "1  [ president united states america : proclamati...   \n",
       "2  [ the discovery unknown address abraham lincol...   \n",
       "3  [ immediately lincoln re - election presidency...   \n",
       "4  [ first child joshua f speed springfield may 1...   \n",
       "\n",
       "                                 tokenized_sentences  \\\n",
       "0  [[fellow, citizens, senate, house, representat...   \n",
       "1  [[president, united, states, america, proclama...   \n",
       "2  [[the, discovery, unknown, address, abraham, l...   \n",
       "3  [[immediately, lincoln, re, election, presiden...   \n",
       "4  [[first, child, joshua, f, speed, springfield,...   \n",
       "\n",
       "                                        w2v_features  author_LabelEncoded  \n",
       "0  [-0.08300484, -0.034919422, 0.14951418, 0.0426...                    0  \n",
       "1  [-0.052613672, -0.097373344, 0.19649191, -0.01...                    0  \n",
       "2  [-0.07926907, -0.021158708, 0.13386746, 0.0301...                    0  \n",
       "3  [-0.0740697, 0.022560358, 0.14278434, 0.046736...                    0  \n",
       "4  [-0.07442752, 0.01899455, 0.15480827, 0.037126...                    0  "
      ]
     },
     "execution_count": 165,
     "metadata": {},
     "output_type": "execute_result"
    }
   ],
   "source": [
    "df.head()"
   ]
  },
  {
   "cell_type": "code",
   "execution_count": 166,
   "metadata": {},
   "outputs": [],
   "source": [
    "X_train, X_test, y_train, y_test = train_test_split(df.w2v_features, df['author_LabelEncoded'], random_state = 0)"
   ]
  },
  {
   "cell_type": "code",
   "execution_count": 167,
   "metadata": {},
   "outputs": [],
   "source": [
    "X_train_w2v = np.array(list(map(np.array, X_train)))\n",
    "X_test_w2v = np.array(list(map(np.array, X_test)))"
   ]
  },
  {
   "cell_type": "code",
   "execution_count": 168,
   "metadata": {},
   "outputs": [],
   "source": [
    "clf = SVC(kernel='linear').fit(X_train_w2v, y_train)"
   ]
  },
  {
   "cell_type": "code",
   "execution_count": 169,
   "metadata": {},
   "outputs": [],
   "source": [
    "y_score = clf.predict(X_test_w2v)"
   ]
  },
  {
   "cell_type": "code",
   "execution_count": 170,
   "metadata": {},
   "outputs": [
    {
     "name": "stdout",
     "output_type": "stream",
     "text": [
      "Accuracy: 30.43%\n"
     ]
    }
   ],
   "source": [
    "n_right = 0\n",
    "for i in range(len(y_score)):\n",
    "    if y_score.tolist()[i] == y_test.tolist()[i]:\n",
    "        n_right += 1\n",
    "\n",
    "print(\"Accuracy: %.2f%%\" % ((n_right/float(len(y_test)) * 100)))"
   ]
  },
  {
   "cell_type": "code",
   "execution_count": 171,
   "metadata": {},
   "outputs": [
    {
     "name": "stdout",
     "output_type": "stream",
     "text": [
      "             precision    recall  f1-score   support\n",
      "\n",
      "          0       1.00      0.75      0.86         4\n",
      "          1       0.11      0.50      0.18         2\n",
      "          2       0.00      0.00      0.00         4\n",
      "          3       0.33      1.00      0.50         2\n",
      "          4       0.00      0.00      0.00         3\n",
      "          5       0.00      0.00      0.00         2\n",
      "          6       0.00      0.00      0.00         3\n",
      "          7       0.00      0.00      0.00         2\n",
      "          8       0.20      1.00      0.33         1\n",
      "\n",
      "avg / total       0.22      0.30      0.22        23\n",
      "\n"
     ]
    },
    {
     "name": "stderr",
     "output_type": "stream",
     "text": [
      "C:\\ProgramData\\Anaconda3\\lib\\site-packages\\sklearn\\metrics\\classification.py:1135: UndefinedMetricWarning: Precision and F-score are ill-defined and being set to 0.0 in labels with no predicted samples.\n",
      "  'precision', 'predicted', average, warn_for)\n"
     ]
    }
   ],
   "source": [
    "print(classification_report(y_test, y_score))"
   ]
  },
  {
   "cell_type": "code",
   "execution_count": 172,
   "metadata": {},
   "outputs": [],
   "source": [
    "rfc = RandomForestClassifier(random_state=42)"
   ]
  },
  {
   "cell_type": "code",
   "execution_count": 173,
   "metadata": {},
   "outputs": [
    {
     "data": {
      "text/plain": [
       "RandomForestClassifier(bootstrap=True, class_weight=None, criterion='gini',\n",
       "            max_depth=None, max_features='auto', max_leaf_nodes=None,\n",
       "            min_impurity_decrease=0.0, min_impurity_split=None,\n",
       "            min_samples_leaf=1, min_samples_split=2,\n",
       "            min_weight_fraction_leaf=0.0, n_estimators=10, n_jobs=1,\n",
       "            oob_score=False, random_state=42, verbose=0, warm_start=False)"
      ]
     },
     "execution_count": 173,
     "metadata": {},
     "output_type": "execute_result"
    }
   ],
   "source": [
    "rfc.fit(X_train_w2v, y_train)"
   ]
  },
  {
   "cell_type": "code",
   "execution_count": 174,
   "metadata": {},
   "outputs": [],
   "source": [
    "y_score = clf.predict(X_test_w2v)"
   ]
  },
  {
   "cell_type": "code",
   "execution_count": 175,
   "metadata": {},
   "outputs": [
    {
     "name": "stdout",
     "output_type": "stream",
     "text": [
      "             precision    recall  f1-score   support\n",
      "\n",
      "          0       1.00      0.75      0.86         4\n",
      "          1       0.11      0.50      0.18         2\n",
      "          2       0.00      0.00      0.00         4\n",
      "          3       0.33      1.00      0.50         2\n",
      "          4       0.00      0.00      0.00         3\n",
      "          5       0.00      0.00      0.00         2\n",
      "          6       0.00      0.00      0.00         3\n",
      "          7       0.00      0.00      0.00         2\n",
      "          8       0.20      1.00      0.33         1\n",
      "\n",
      "avg / total       0.22      0.30      0.22        23\n",
      "\n"
     ]
    },
    {
     "name": "stderr",
     "output_type": "stream",
     "text": [
      "C:\\ProgramData\\Anaconda3\\lib\\site-packages\\sklearn\\metrics\\classification.py:1135: UndefinedMetricWarning: Precision and F-score are ill-defined and being set to 0.0 in labels with no predicted samples.\n",
      "  'precision', 'predicted', average, warn_for)\n"
     ]
    }
   ],
   "source": [
    "print(classification_report(y_test, y_score))"
   ]
  },
  {
   "cell_type": "code",
   "execution_count": 176,
   "metadata": {},
   "outputs": [
    {
     "data": {
      "text/html": [
       "<div>\n",
       "<style scoped>\n",
       "    .dataframe tbody tr th:only-of-type {\n",
       "        vertical-align: middle;\n",
       "    }\n",
       "\n",
       "    .dataframe tbody tr th {\n",
       "        vertical-align: top;\n",
       "    }\n",
       "\n",
       "    .dataframe thead th {\n",
       "        text-align: right;\n",
       "    }\n",
       "</style>\n",
       "<table border=\"1\" class=\"dataframe\">\n",
       "  <thead>\n",
       "    <tr style=\"text-align: right;\">\n",
       "      <th></th>\n",
       "      <th>author</th>\n",
       "      <th>file_name</th>\n",
       "      <th>text</th>\n",
       "      <th>document_sentences</th>\n",
       "      <th>tokenized_sentences</th>\n",
       "      <th>w2v_features</th>\n",
       "      <th>author_LabelEncoded</th>\n",
       "    </tr>\n",
       "  </thead>\n",
       "  <tbody>\n",
       "    <tr>\n",
       "      <th>0</th>\n",
       "      <td>Abraham Lincoln</td>\n",
       "      <td>Abraham Lincoln___State of the Union Addresses...</td>\n",
       "      <td>fellow - citizens senate house representative...</td>\n",
       "      <td>[ fellow - citizens senate house representativ...</td>\n",
       "      <td>[[fellow, citizens, senate, house, representat...</td>\n",
       "      <td>[-0.08300484, -0.034919422, 0.14951418, 0.0426...</td>\n",
       "      <td>0</td>\n",
       "    </tr>\n",
       "    <tr>\n",
       "      <th>1</th>\n",
       "      <td>Abraham Lincoln</td>\n",
       "      <td>Abraham Lincoln___The Emancipation Proclamatio...</td>\n",
       "      <td>president united states america : proclamatio...</td>\n",
       "      <td>[ president united states america : proclamati...</td>\n",
       "      <td>[[president, united, states, america, proclama...</td>\n",
       "      <td>[-0.052613672, -0.097373344, 0.19649191, -0.01...</td>\n",
       "      <td>0</td>\n",
       "    </tr>\n",
       "    <tr>\n",
       "      <th>2</th>\n",
       "      <td>Abraham Lincoln</td>\n",
       "      <td>Abraham Lincoln___The Life and Public Service ...</td>\n",
       "      <td>the discovery unknown address abraham lincoln...</td>\n",
       "      <td>[ the discovery unknown address abraham lincol...</td>\n",
       "      <td>[[the, discovery, unknown, address, abraham, l...</td>\n",
       "      <td>[-0.07926907, -0.021158708, 0.13386746, 0.0301...</td>\n",
       "      <td>0</td>\n",
       "    </tr>\n",
       "    <tr>\n",
       "      <th>3</th>\n",
       "      <td>Abraham Lincoln</td>\n",
       "      <td>Abraham Lincoln___The Writings of Abraham Linc...</td>\n",
       "      <td>immediately lincoln re - election presidency ...</td>\n",
       "      <td>[ immediately lincoln re - election presidency...</td>\n",
       "      <td>[[immediately, lincoln, re, election, presiden...</td>\n",
       "      <td>[-0.0740697, 0.022560358, 0.14278434, 0.046736...</td>\n",
       "      <td>0</td>\n",
       "    </tr>\n",
       "    <tr>\n",
       "      <th>4</th>\n",
       "      <td>Abraham Lincoln</td>\n",
       "      <td>Abraham Lincoln___The Writings of Abraham Linc...</td>\n",
       "      <td>first child joshua f speed springfield may 18...</td>\n",
       "      <td>[ first child joshua f speed springfield may 1...</td>\n",
       "      <td>[[first, child, joshua, f, speed, springfield,...</td>\n",
       "      <td>[-0.07442752, 0.01899455, 0.15480827, 0.037126...</td>\n",
       "      <td>0</td>\n",
       "    </tr>\n",
       "  </tbody>\n",
       "</table>\n",
       "</div>"
      ],
      "text/plain": [
       "            author                                          file_name  \\\n",
       "0  Abraham Lincoln  Abraham Lincoln___State of the Union Addresses...   \n",
       "1  Abraham Lincoln  Abraham Lincoln___The Emancipation Proclamatio...   \n",
       "2  Abraham Lincoln  Abraham Lincoln___The Life and Public Service ...   \n",
       "3  Abraham Lincoln  Abraham Lincoln___The Writings of Abraham Linc...   \n",
       "4  Abraham Lincoln  Abraham Lincoln___The Writings of Abraham Linc...   \n",
       "\n",
       "                                                text  \\\n",
       "0   fellow - citizens senate house representative...   \n",
       "1   president united states america : proclamatio...   \n",
       "2   the discovery unknown address abraham lincoln...   \n",
       "3   immediately lincoln re - election presidency ...   \n",
       "4   first child joshua f speed springfield may 18...   \n",
       "\n",
       "                                  document_sentences  \\\n",
       "0  [ fellow - citizens senate house representativ...   \n",
       "1  [ president united states america : proclamati...   \n",
       "2  [ the discovery unknown address abraham lincol...   \n",
       "3  [ immediately lincoln re - election presidency...   \n",
       "4  [ first child joshua f speed springfield may 1...   \n",
       "\n",
       "                                 tokenized_sentences  \\\n",
       "0  [[fellow, citizens, senate, house, representat...   \n",
       "1  [[president, united, states, america, proclama...   \n",
       "2  [[the, discovery, unknown, address, abraham, l...   \n",
       "3  [[immediately, lincoln, re, election, presiden...   \n",
       "4  [[first, child, joshua, f, speed, springfield,...   \n",
       "\n",
       "                                        w2v_features  author_LabelEncoded  \n",
       "0  [-0.08300484, -0.034919422, 0.14951418, 0.0426...                    0  \n",
       "1  [-0.052613672, -0.097373344, 0.19649191, -0.01...                    0  \n",
       "2  [-0.07926907, -0.021158708, 0.13386746, 0.0301...                    0  \n",
       "3  [-0.0740697, 0.022560358, 0.14278434, 0.046736...                    0  \n",
       "4  [-0.07442752, 0.01899455, 0.15480827, 0.037126...                    0  "
      ]
     },
     "execution_count": 176,
     "metadata": {},
     "output_type": "execute_result"
    }
   ],
   "source": [
    "df.head()"
   ]
  },
  {
   "cell_type": "markdown",
   "metadata": {},
   "source": [
    "### TF-IDF"
   ]
  },
  {
   "cell_type": "code",
   "execution_count": 177,
   "metadata": {},
   "outputs": [],
   "source": [
    "vectorizer = TfidfVectorizer(sublinear_tf=True, use_idf =True, lowercase=True, strip_accents='ascii', stop_words = 'english')"
   ]
  },
  {
   "cell_type": "code",
   "execution_count": 178,
   "metadata": {},
   "outputs": [],
   "source": [
    "XText_tfidf = vectorizer.fit_transform(df['text'])"
   ]
  },
  {
   "cell_type": "code",
   "execution_count": 179,
   "metadata": {},
   "outputs": [
    {
     "data": {
      "text/plain": [
       "(90, 66412)"
      ]
     },
     "execution_count": 179,
     "metadata": {},
     "output_type": "execute_result"
    }
   ],
   "source": [
    "XText_tfidf.shape"
   ]
  },
  {
   "cell_type": "code",
   "execution_count": 180,
   "metadata": {},
   "outputs": [],
   "source": [
    "X_train, X_test, y_train, y_test = train_test_split(XText_tfidf, df.author_LabelEncoded, random_state = 0)"
   ]
  },
  {
   "cell_type": "code",
   "execution_count": 181,
   "metadata": {},
   "outputs": [],
   "source": [
    "clf = MultinomialNB().fit(X_train, y_train)"
   ]
  },
  {
   "cell_type": "code",
   "execution_count": 182,
   "metadata": {},
   "outputs": [],
   "source": [
    "y_score = clf.predict(X_test)"
   ]
  },
  {
   "cell_type": "code",
   "execution_count": 183,
   "metadata": {},
   "outputs": [
    {
     "name": "stdout",
     "output_type": "stream",
     "text": [
      "Accuracy: 52.17%\n"
     ]
    }
   ],
   "source": [
    "n_right = 0\n",
    "for i in range(len(y_score)):\n",
    "    if y_score.tolist()[i] == y_test.tolist()[i]:\n",
    "        n_right += 1\n",
    "\n",
    "print(\"Accuracy: %.2f%%\" % ((n_right/float(len(y_test)) * 100)))"
   ]
  },
  {
   "cell_type": "code",
   "execution_count": 184,
   "metadata": {},
   "outputs": [
    {
     "name": "stdout",
     "output_type": "stream",
     "text": [
      "             precision    recall  f1-score   support\n",
      "\n",
      "          0       1.00      0.75      0.86         4\n",
      "          1       1.00      1.00      1.00         2\n",
      "          2       0.00      0.00      0.00         4\n",
      "          3       0.20      1.00      0.33         2\n",
      "          4       1.00      0.33      0.50         3\n",
      "          5       1.00      0.50      0.67         2\n",
      "          6       1.00      0.67      0.80         3\n",
      "          7       0.00      0.00      0.00         2\n",
      "          8       0.25      1.00      0.40         1\n",
      "\n",
      "avg / total       0.64      0.52      0.51        23\n",
      "\n"
     ]
    },
    {
     "name": "stderr",
     "output_type": "stream",
     "text": [
      "C:\\ProgramData\\Anaconda3\\lib\\site-packages\\sklearn\\metrics\\classification.py:1135: UndefinedMetricWarning: Precision and F-score are ill-defined and being set to 0.0 in labels with no predicted samples.\n",
      "  'precision', 'predicted', average, warn_for)\n"
     ]
    }
   ],
   "source": [
    "print(classification_report(y_test, y_score))"
   ]
  },
  {
   "cell_type": "code",
   "execution_count": 185,
   "metadata": {},
   "outputs": [],
   "source": [
    "clf = SVC(kernel='linear').fit(X_train, y_train)"
   ]
  },
  {
   "cell_type": "code",
   "execution_count": 186,
   "metadata": {},
   "outputs": [],
   "source": [
    "y_score = clf.predict(X_test)"
   ]
  },
  {
   "cell_type": "code",
   "execution_count": 187,
   "metadata": {},
   "outputs": [
    {
     "name": "stdout",
     "output_type": "stream",
     "text": [
      "Accuracy: 82.61%\n"
     ]
    }
   ],
   "source": [
    "n_right = 0\n",
    "for i in range(len(y_score)):\n",
    "    if y_score.tolist()[i] == y_test.tolist()[i]:\n",
    "        n_right += 1\n",
    "\n",
    "print(\"Accuracy: %.2f%%\" % ((n_right/float(len(y_test)) * 100)))"
   ]
  },
  {
   "cell_type": "code",
   "execution_count": 188,
   "metadata": {},
   "outputs": [
    {
     "name": "stdout",
     "output_type": "stream",
     "text": [
      "             precision    recall  f1-score   support\n",
      "\n",
      "          0       1.00      1.00      1.00         4\n",
      "          1       0.50      1.00      0.67         2\n",
      "          2       1.00      0.75      0.86         4\n",
      "          3       0.67      1.00      0.80         2\n",
      "          4       1.00      1.00      1.00         3\n",
      "          5       1.00      0.50      0.67         2\n",
      "          6       1.00      0.67      0.80         3\n",
      "          7       1.00      0.50      0.67         2\n",
      "          8       0.50      1.00      0.67         1\n",
      "\n",
      "avg / total       0.91      0.83      0.83        23\n",
      "\n"
     ]
    }
   ],
   "source": [
    "print(classification_report(y_test, y_score))"
   ]
  },
  {
   "cell_type": "code",
   "execution_count": 189,
   "metadata": {},
   "outputs": [
    {
     "data": {
      "text/html": [
       "<div>\n",
       "<style scoped>\n",
       "    .dataframe tbody tr th:only-of-type {\n",
       "        vertical-align: middle;\n",
       "    }\n",
       "\n",
       "    .dataframe tbody tr th {\n",
       "        vertical-align: top;\n",
       "    }\n",
       "\n",
       "    .dataframe thead th {\n",
       "        text-align: right;\n",
       "    }\n",
       "</style>\n",
       "<table border=\"1\" class=\"dataframe\">\n",
       "  <thead>\n",
       "    <tr style=\"text-align: right;\">\n",
       "      <th></th>\n",
       "      <th>author</th>\n",
       "      <th>file_name</th>\n",
       "      <th>text</th>\n",
       "      <th>document_sentences</th>\n",
       "      <th>tokenized_sentences</th>\n",
       "      <th>w2v_features</th>\n",
       "      <th>author_LabelEncoded</th>\n",
       "    </tr>\n",
       "  </thead>\n",
       "  <tbody>\n",
       "    <tr>\n",
       "      <th>0</th>\n",
       "      <td>Abraham Lincoln</td>\n",
       "      <td>Abraham Lincoln___State of the Union Addresses...</td>\n",
       "      <td>fellow - citizens senate house representative...</td>\n",
       "      <td>[ fellow - citizens senate house representativ...</td>\n",
       "      <td>[[fellow, citizens, senate, house, representat...</td>\n",
       "      <td>[-0.08300484, -0.034919422, 0.14951418, 0.0426...</td>\n",
       "      <td>0</td>\n",
       "    </tr>\n",
       "    <tr>\n",
       "      <th>1</th>\n",
       "      <td>Abraham Lincoln</td>\n",
       "      <td>Abraham Lincoln___The Emancipation Proclamatio...</td>\n",
       "      <td>president united states america : proclamatio...</td>\n",
       "      <td>[ president united states america : proclamati...</td>\n",
       "      <td>[[president, united, states, america, proclama...</td>\n",
       "      <td>[-0.052613672, -0.097373344, 0.19649191, -0.01...</td>\n",
       "      <td>0</td>\n",
       "    </tr>\n",
       "    <tr>\n",
       "      <th>2</th>\n",
       "      <td>Abraham Lincoln</td>\n",
       "      <td>Abraham Lincoln___The Life and Public Service ...</td>\n",
       "      <td>the discovery unknown address abraham lincoln...</td>\n",
       "      <td>[ the discovery unknown address abraham lincol...</td>\n",
       "      <td>[[the, discovery, unknown, address, abraham, l...</td>\n",
       "      <td>[-0.07926907, -0.021158708, 0.13386746, 0.0301...</td>\n",
       "      <td>0</td>\n",
       "    </tr>\n",
       "    <tr>\n",
       "      <th>3</th>\n",
       "      <td>Abraham Lincoln</td>\n",
       "      <td>Abraham Lincoln___The Writings of Abraham Linc...</td>\n",
       "      <td>immediately lincoln re - election presidency ...</td>\n",
       "      <td>[ immediately lincoln re - election presidency...</td>\n",
       "      <td>[[immediately, lincoln, re, election, presiden...</td>\n",
       "      <td>[-0.0740697, 0.022560358, 0.14278434, 0.046736...</td>\n",
       "      <td>0</td>\n",
       "    </tr>\n",
       "    <tr>\n",
       "      <th>4</th>\n",
       "      <td>Abraham Lincoln</td>\n",
       "      <td>Abraham Lincoln___The Writings of Abraham Linc...</td>\n",
       "      <td>first child joshua f speed springfield may 18...</td>\n",
       "      <td>[ first child joshua f speed springfield may 1...</td>\n",
       "      <td>[[first, child, joshua, f, speed, springfield,...</td>\n",
       "      <td>[-0.07442752, 0.01899455, 0.15480827, 0.037126...</td>\n",
       "      <td>0</td>\n",
       "    </tr>\n",
       "  </tbody>\n",
       "</table>\n",
       "</div>"
      ],
      "text/plain": [
       "            author                                          file_name  \\\n",
       "0  Abraham Lincoln  Abraham Lincoln___State of the Union Addresses...   \n",
       "1  Abraham Lincoln  Abraham Lincoln___The Emancipation Proclamatio...   \n",
       "2  Abraham Lincoln  Abraham Lincoln___The Life and Public Service ...   \n",
       "3  Abraham Lincoln  Abraham Lincoln___The Writings of Abraham Linc...   \n",
       "4  Abraham Lincoln  Abraham Lincoln___The Writings of Abraham Linc...   \n",
       "\n",
       "                                                text  \\\n",
       "0   fellow - citizens senate house representative...   \n",
       "1   president united states america : proclamatio...   \n",
       "2   the discovery unknown address abraham lincoln...   \n",
       "3   immediately lincoln re - election presidency ...   \n",
       "4   first child joshua f speed springfield may 18...   \n",
       "\n",
       "                                  document_sentences  \\\n",
       "0  [ fellow - citizens senate house representativ...   \n",
       "1  [ president united states america : proclamati...   \n",
       "2  [ the discovery unknown address abraham lincol...   \n",
       "3  [ immediately lincoln re - election presidency...   \n",
       "4  [ first child joshua f speed springfield may 1...   \n",
       "\n",
       "                                 tokenized_sentences  \\\n",
       "0  [[fellow, citizens, senate, house, representat...   \n",
       "1  [[president, united, states, america, proclama...   \n",
       "2  [[the, discovery, unknown, address, abraham, l...   \n",
       "3  [[immediately, lincoln, re, election, presiden...   \n",
       "4  [[first, child, joshua, f, speed, springfield,...   \n",
       "\n",
       "                                        w2v_features  author_LabelEncoded  \n",
       "0  [-0.08300484, -0.034919422, 0.14951418, 0.0426...                    0  \n",
       "1  [-0.052613672, -0.097373344, 0.19649191, -0.01...                    0  \n",
       "2  [-0.07926907, -0.021158708, 0.13386746, 0.0301...                    0  \n",
       "3  [-0.0740697, 0.022560358, 0.14278434, 0.046736...                    0  \n",
       "4  [-0.07442752, 0.01899455, 0.15480827, 0.037126...                    0  "
      ]
     },
     "execution_count": 189,
     "metadata": {},
     "output_type": "execute_result"
    }
   ],
   "source": [
    "df.head()"
   ]
  },
  {
   "cell_type": "markdown",
   "metadata": {},
   "source": [
    "### Bag Of Word"
   ]
  },
  {
   "cell_type": "code",
   "execution_count": 190,
   "metadata": {},
   "outputs": [],
   "source": [
    "count_vectorizer = CountVectorizer(stop_words='english')\n",
    "XText_CountVectorizer = count_vectorizer.fit_transform(df['text'])"
   ]
  },
  {
   "cell_type": "code",
   "execution_count": 191,
   "metadata": {},
   "outputs": [
    {
     "data": {
      "text/plain": [
       "66412"
      ]
     },
     "execution_count": 191,
     "metadata": {},
     "output_type": "execute_result"
    }
   ],
   "source": [
    "XText_CountVectorizer.shape[1]"
   ]
  },
  {
   "cell_type": "code",
   "execution_count": 192,
   "metadata": {},
   "outputs": [],
   "source": [
    "X_train, X_test, y_train, y_test = train_test_split(XText_CountVectorizer, df.author_LabelEncoded, random_state = 0)"
   ]
  },
  {
   "cell_type": "code",
   "execution_count": 193,
   "metadata": {},
   "outputs": [],
   "source": [
    "clf = MultinomialNB().fit(X_train, y_train)"
   ]
  },
  {
   "cell_type": "code",
   "execution_count": 194,
   "metadata": {},
   "outputs": [],
   "source": [
    "y_score = clf.predict(X_test)"
   ]
  },
  {
   "cell_type": "code",
   "execution_count": 195,
   "metadata": {},
   "outputs": [
    {
     "name": "stdout",
     "output_type": "stream",
     "text": [
      "Accuracy: 95.65%\n"
     ]
    }
   ],
   "source": [
    "n_right = 0\n",
    "for i in range(len(y_score)):\n",
    "    if y_score.tolist()[i] == y_test.tolist()[i]:\n",
    "        n_right += 1\n",
    "\n",
    "print(\"Accuracy: %.2f%%\" % ((n_right/float(len(y_test)) * 100)))"
   ]
  },
  {
   "cell_type": "code",
   "execution_count": 196,
   "metadata": {},
   "outputs": [
    {
     "name": "stdout",
     "output_type": "stream",
     "text": [
      "             precision    recall  f1-score   support\n",
      "\n",
      "          0       1.00      1.00      1.00         4\n",
      "          1       1.00      1.00      1.00         2\n",
      "          2       1.00      0.75      0.86         4\n",
      "          3       1.00      1.00      1.00         2\n",
      "          4       1.00      1.00      1.00         3\n",
      "          5       1.00      1.00      1.00         2\n",
      "          6       1.00      1.00      1.00         3\n",
      "          7       1.00      1.00      1.00         2\n",
      "          8       0.50      1.00      0.67         1\n",
      "\n",
      "avg / total       0.98      0.96      0.96        23\n",
      "\n"
     ]
    }
   ],
   "source": [
    "print(classification_report(y_test, y_score))"
   ]
  },
  {
   "cell_type": "code",
   "execution_count": 197,
   "metadata": {},
   "outputs": [],
   "source": [
    "clf = SVC(kernel='linear').fit(X_train, y_train)"
   ]
  },
  {
   "cell_type": "code",
   "execution_count": 198,
   "metadata": {},
   "outputs": [],
   "source": [
    "y_score = clf.predict(X_test)"
   ]
  },
  {
   "cell_type": "code",
   "execution_count": 199,
   "metadata": {},
   "outputs": [
    {
     "data": {
      "text/plain": [
       "(23,)"
      ]
     },
     "execution_count": 199,
     "metadata": {},
     "output_type": "execute_result"
    }
   ],
   "source": [
    "y_score.shape"
   ]
  },
  {
   "cell_type": "code",
   "execution_count": 200,
   "metadata": {},
   "outputs": [
    {
     "name": "stdout",
     "output_type": "stream",
     "text": [
      "Accuracy: 69.57%\n"
     ]
    }
   ],
   "source": [
    "n_right = 0\n",
    "for i in range(len(y_score)):\n",
    "    if y_score.tolist()[i] == y_test.tolist()[i]:\n",
    "        n_right += 1\n",
    "\n",
    "print(\"Accuracy: %.2f%%\" % ((n_right/float(len(y_test)) * 100)))"
   ]
  },
  {
   "cell_type": "code",
   "execution_count": 201,
   "metadata": {},
   "outputs": [
    {
     "name": "stdout",
     "output_type": "stream",
     "text": [
      "             precision    recall  f1-score   support\n",
      "\n",
      "          0       1.00      1.00      1.00         4\n",
      "          1       0.50      1.00      0.67         2\n",
      "          2       1.00      0.75      0.86         4\n",
      "          3       0.50      1.00      0.67         2\n",
      "          4       0.50      0.33      0.40         3\n",
      "          5       1.00      0.50      0.67         2\n",
      "          6       1.00      0.33      0.50         3\n",
      "          7       0.50      0.50      0.50         2\n",
      "          8       0.50      1.00      0.67         1\n",
      "\n",
      "avg / total       0.78      0.70      0.69        23\n",
      "\n"
     ]
    }
   ],
   "source": [
    "print(classification_report(y_test.tolist(), y_score.tolist()))"
   ]
  },
  {
   "cell_type": "markdown",
   "metadata": {},
   "source": [
    "### Word Embedding"
   ]
  },
  {
   "cell_type": "code",
   "execution_count": 202,
   "metadata": {},
   "outputs": [],
   "source": [
    "### Create sequence\n",
    "vocabulary_size = XText_CountVectorizer.shape[1]\n",
    "num_of_author = len(df['author_LabelEncoded'].unique())\n",
    "\n",
    "tokenizer = Tokenizer(num_words= vocabulary_size)\n",
    "tokenizer.fit_on_texts(df['text'])\n",
    "sequences = tokenizer.texts_to_sequences(df['text'])\n",
    "data = pad_sequences(sequences, maxlen=5000)"
   ]
  },
  {
   "cell_type": "code",
   "execution_count": 203,
   "metadata": {},
   "outputs": [],
   "source": [
    "X_train, X_test, y_train, y_test = train_test_split(data, np_utils.to_categorical(df['author_LabelEncoded']), random_state = 0)"
   ]
  },
  {
   "cell_type": "code",
   "execution_count": 204,
   "metadata": {},
   "outputs": [
    {
     "name": "stdout",
     "output_type": "stream",
     "text": [
      "Epoch 1/10\n",
      "67/67 [==============================] - 85s 1s/step - loss: 2.1966 - acc: 0.1493\n",
      "Epoch 2/10\n",
      "67/67 [==============================] - 84s 1s/step - loss: 2.1199 - acc: 0.8955\n",
      "Epoch 3/10\n",
      "67/67 [==============================] - 86s 1s/step - loss: 1.9523 - acc: 0.8060\n",
      "Epoch 4/10\n",
      "67/67 [==============================] - 105s 2s/step - loss: 1.5945 - acc: 0.8955\n",
      "Epoch 5/10\n",
      "67/67 [==============================] - 90s 1s/step - loss: 1.1697 - acc: 0.8657\n",
      "Epoch 6/10\n",
      "67/67 [==============================] - 92s 1s/step - loss: 0.8052 - acc: 0.9254\n",
      "Epoch 7/10\n",
      "67/67 [==============================] - 96s 1s/step - loss: 0.4828 - acc: 0.9851\n",
      "Epoch 8/10\n",
      "67/67 [==============================] - 93s 1s/step - loss: 0.2561 - acc: 1.0000\n",
      "Epoch 9/10\n",
      "67/67 [==============================] - 94s 1s/step - loss: 0.1936 - acc: 0.9701\n",
      "Epoch 10/10\n",
      "67/67 [==============================] - 103s 2s/step - loss: 0.1146 - acc: 1.0000\n"
     ]
    },
    {
     "data": {
      "text/plain": [
       "<keras.callbacks.History at 0x22cfa5c0>"
      ]
     },
     "execution_count": 204,
     "metadata": {},
     "output_type": "execute_result"
    }
   ],
   "source": [
    "model = Sequential()\n",
    "model.add(Embedding(vocabulary_size, 256, input_length = data.shape[1]))\n",
    "model.add(LSTM(128, dropout=0.2, recurrent_dropout=0.2))\n",
    "model.add(Dense(num_of_author, activation='softmax'))\n",
    "model.compile(loss='categorical_crossentropy', optimizer='adam', metrics=['accuracy'])\n",
    "\n",
    "model.fit(X_train, y_train, epochs=10, batch_size=5)"
   ]
  },
  {
   "cell_type": "code",
   "execution_count": 205,
   "metadata": {},
   "outputs": [
    {
     "name": "stdout",
     "output_type": "stream",
     "text": [
      "Accuracy: 17.39%\n"
     ]
    }
   ],
   "source": [
    "y_score = model.predict(X_test)\n",
    "y_score = [[1 if i == max(sc) else 0 for i in sc] for sc in y_score]\n",
    "n_right = 0\n",
    "for i in range(len(y_score)):\n",
    "    if all(y_score[i][j] == np.array(y_test)[i][j] for j in range(len(y_score[i]))):\n",
    "        n_right += 1\n",
    "\n",
    "print(\"Accuracy: %.2f%%\" % ((n_right/float(len(y_test)) * 100)))"
   ]
  },
  {
   "cell_type": "code",
   "execution_count": null,
   "metadata": {},
   "outputs": [],
   "source": []
  }
 ],
 "metadata": {
  "kernelspec": {
   "display_name": "Python 3",
   "language": "python",
   "name": "python3"
  },
  "language_info": {
   "codemirror_mode": {
    "name": "ipython",
    "version": 3
   },
   "file_extension": ".py",
   "mimetype": "text/x-python",
   "name": "python",
   "nbconvert_exporter": "python",
   "pygments_lexer": "ipython3",
   "version": "3.6.5"
  }
 },
 "nbformat": 4,
 "nbformat_minor": 2
}
