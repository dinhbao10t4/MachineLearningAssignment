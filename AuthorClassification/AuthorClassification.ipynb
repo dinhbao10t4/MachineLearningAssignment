{
 "cells": [
  {
   "cell_type": "code",
   "execution_count": 25,
   "metadata": {},
   "outputs": [
    {
     "name": "stderr",
     "output_type": "stream",
     "text": [
      "C:\\ProgramData\\Anaconda3\\lib\\site-packages\\gensim\\utils.py:1209: UserWarning: detected Windows; aliasing chunkize to chunkize_serial\n",
      "  warnings.warn(\"detected Windows; aliasing chunkize to chunkize_serial\")\n"
     ]
    }
   ],
   "source": [
    "from nltk.corpus import gutenberg, stopwords\n",
    "import nltk\n",
    "from nltk.corpus import stopwords\n",
    "# Keras\n",
    "from keras.preprocessing.text import Tokenizer\n",
    "from keras.preprocessing.sequence import pad_sequences\n",
    "from sklearn.preprocessing import LabelEncoder\n",
    "from keras.models import Sequential\n",
    "from keras.layers import Dense, Flatten, LSTM, Conv1D, MaxPooling1D, Dropout, Activation, SpatialDropout1D\n",
    "from keras.layers.embeddings import Embedding\n",
    "from keras.utils import np_utils\n",
    "\n",
    "# Others\n",
    "import string\n",
    "import numpy as np\n",
    "import pandas as pd\n",
    "\n",
    "from sklearn.manifold import TSNE\n",
    "from sklearn.feature_extraction.text import TfidfTransformer\n",
    "from sklearn.feature_extraction.text import TfidfVectorizer\n",
    "from sklearn.naive_bayes import MultinomialNB\n",
    "from sklearn.svm import SVC\n",
    "from sklearn.metrics import classification_report\n",
    "from sklearn.model_selection import train_test_split\n",
    "\n",
    "import re\n",
    "import os\n",
    "\n",
    "# model imports\n",
    "from gensim.models.ldamulticore import LdaMulticore\n",
    "from gensim.models.word2vec import Word2Vec\n",
    "from sklearn.ensemble import RandomForestClassifier, AdaBoostClassifier\n",
    "from sklearn.linear_model import LogisticRegression\n",
    "# hyperparameter training imports\n",
    "from sklearn.model_selection import GridSearchCV\n",
    "\n",
    "# set seed for reproducibility\n",
    "np.random.seed(0)"
   ]
  },
  {
   "cell_type": "code",
   "execution_count": 7,
   "metadata": {},
   "outputs": [],
   "source": [
    "all_files = os.listdir(\"book/\")"
   ]
  },
  {
   "cell_type": "code",
   "execution_count": 8,
   "metadata": {},
   "outputs": [],
   "source": [
    "arr = []\n",
    "one_book = []\n",
    "content = ''\n",
    "path = 'book/'\n",
    "for b in all_files[0:80]:\n",
    "    one_book = []\n",
    "    path = 'book/'\n",
    "    one_book.append(b.split('___')[0])\n",
    "    one_book.append(b)\n",
    "    \n",
    "    path += b\n",
    "    with open(path, 'r') as myfile:\n",
    "        content = myfile.read().replace('\\n', ' ')\n",
    "    one_book.append(content)\n",
    "    arr.append(one_book)"
   ]
  },
  {
   "cell_type": "code",
   "execution_count": 9,
   "metadata": {},
   "outputs": [],
   "source": [
    "columns = ['author', 'file_name', 'text']\n",
    "df = pd.DataFrame(arr, columns=columns)"
   ]
  },
  {
   "cell_type": "code",
   "execution_count": 10,
   "metadata": {},
   "outputs": [
    {
     "data": {
      "text/plain": [
       "(80, 3)"
      ]
     },
     "execution_count": 10,
     "metadata": {},
     "output_type": "execute_result"
    }
   ],
   "source": [
    "df.shape"
   ]
  },
  {
   "cell_type": "code",
   "execution_count": 11,
   "metadata": {},
   "outputs": [
    {
     "data": {
      "text/html": [
       "<div>\n",
       "<style scoped>\n",
       "    .dataframe tbody tr th:only-of-type {\n",
       "        vertical-align: middle;\n",
       "    }\n",
       "\n",
       "    .dataframe tbody tr th {\n",
       "        vertical-align: top;\n",
       "    }\n",
       "\n",
       "    .dataframe thead th {\n",
       "        text-align: right;\n",
       "    }\n",
       "</style>\n",
       "<table border=\"1\" class=\"dataframe\">\n",
       "  <thead>\n",
       "    <tr style=\"text-align: right;\">\n",
       "      <th></th>\n",
       "      <th>author</th>\n",
       "      <th>file_name</th>\n",
       "      <th>text</th>\n",
       "    </tr>\n",
       "  </thead>\n",
       "  <tbody>\n",
       "    <tr>\n",
       "      <th>0</th>\n",
       "      <td>Abraham Lincoln</td>\n",
       "      <td>Abraham Lincoln___Lincoln Letters.txt</td>\n",
       "      <td>My dear father:--  Your letter of the 7th was ...</td>\n",
       "    </tr>\n",
       "    <tr>\n",
       "      <th>1</th>\n",
       "      <td>Abraham Lincoln</td>\n",
       "      <td>Abraham Lincoln___Lincoln's First Inaugural Ad...</td>\n",
       "      <td>Fellow citizens of the United States:  in comp...</td>\n",
       "    </tr>\n",
       "    <tr>\n",
       "      <th>2</th>\n",
       "      <td>Abraham Lincoln</td>\n",
       "      <td>Abraham Lincoln___Lincoln's Gettysburg Address...</td>\n",
       "      <td>Four score and seven years ago, our fathers br...</td>\n",
       "    </tr>\n",
       "    <tr>\n",
       "      <th>3</th>\n",
       "      <td>Abraham Lincoln</td>\n",
       "      <td>Abraham Lincoln___Lincoln's Inaugurals, Addres...</td>\n",
       "      <td>INTRODUCTION  The facts of Lincoln's early lif...</td>\n",
       "    </tr>\n",
       "    <tr>\n",
       "      <th>4</th>\n",
       "      <td>Abraham Lincoln</td>\n",
       "      <td>Abraham Lincoln___Lincoln's Second Inaugural A...</td>\n",
       "      <td>Fellow countrymen:  At this second appearing t...</td>\n",
       "    </tr>\n",
       "  </tbody>\n",
       "</table>\n",
       "</div>"
      ],
      "text/plain": [
       "            author                                          file_name  \\\n",
       "0  Abraham Lincoln              Abraham Lincoln___Lincoln Letters.txt   \n",
       "1  Abraham Lincoln  Abraham Lincoln___Lincoln's First Inaugural Ad...   \n",
       "2  Abraham Lincoln  Abraham Lincoln___Lincoln's Gettysburg Address...   \n",
       "3  Abraham Lincoln  Abraham Lincoln___Lincoln's Inaugurals, Addres...   \n",
       "4  Abraham Lincoln  Abraham Lincoln___Lincoln's Second Inaugural A...   \n",
       "\n",
       "                                                text  \n",
       "0  My dear father:--  Your letter of the 7th was ...  \n",
       "1  Fellow citizens of the United States:  in comp...  \n",
       "2  Four score and seven years ago, our fathers br...  \n",
       "3  INTRODUCTION  The facts of Lincoln's early lif...  \n",
       "4  Fellow countrymen:  At this second appearing t...  "
      ]
     },
     "execution_count": 11,
     "metadata": {},
     "output_type": "execute_result"
    }
   ],
   "source": [
    "df.head()"
   ]
  },
  {
   "cell_type": "code",
   "execution_count": 12,
   "metadata": {},
   "outputs": [],
   "source": [
    "def get_data_of_file(row):\n",
    "    file_name = row.file_name\n",
    "    text = row.text\n",
    "    \n",
    "    text = re.sub(r\"[^A-Za-z0-9^,!.\\/'+-=]\", \" \", text)\n",
    "    text = re.sub(r\"what's\", \"what is \", text)\n",
    "    text = re.sub(r\"\\'s\", \" \", text)\n",
    "    text = re.sub(r\"\\'ve\", \" have \", text)\n",
    "    text = re.sub(r\"n't\", \" not \", text)\n",
    "    text = re.sub(r\"i'm\", \"i am \", text)\n",
    "    text = re.sub(r\"\\'re\", \" are \", text)\n",
    "    text = re.sub(r\"\\'d\", \" would \", text)\n",
    "    text = re.sub(r\"\\'ll\", \" will \", text)\n",
    "    text = re.sub(r\",\", \" \", text)\n",
    "    text = re.sub(r\"\\.\", \" \", text)\n",
    "    text = re.sub(r\"!\", \" ! \", text)\n",
    "    text = re.sub(r\"\\/\", \" \", text)\n",
    "    text = re.sub(r\"\\^\", \" ^ \", text)\n",
    "    text = re.sub(r\"\\+\", \" + \", text)\n",
    "    text = re.sub(r\"\\-\", \" - \", text)\n",
    "    text = re.sub(r\"\\=\", \" = \", text)\n",
    "    text = re.sub(r\"'\", \" \", text)\n",
    "    text = re.sub(r\"(\\d+)(k)\", r\"\\g<1>000\", text)\n",
    "    text = re.sub(r\":\", \" : \", text)\n",
    "    text = re.sub(r\" e g \", \" eg \", text)\n",
    "    text = re.sub(r\" b g \", \" bg \", text)\n",
    "    text = re.sub(r\" u s \", \" american \", text)\n",
    "    text = re.sub(r\"\\0s\", \"0\", text)\n",
    "    text = re.sub(r\" 9 11 \", \"911\", text)\n",
    "    text = re.sub(r\"e - mail\", \"email\", text)\n",
    "    text = re.sub(r\"j k\", \"jk\", text)\n",
    "    text = re.sub(r\"\\s{2,}\", \" \", text)\n",
    "    \n",
    "    row['text'] = text\n",
    "    return row\n",
    "df = df.apply(get_data_of_file, axis=1)"
   ]
  },
  {
   "cell_type": "code",
   "execution_count": 13,
   "metadata": {},
   "outputs": [
    {
     "data": {
      "text/html": [
       "<div>\n",
       "<style scoped>\n",
       "    .dataframe tbody tr th:only-of-type {\n",
       "        vertical-align: middle;\n",
       "    }\n",
       "\n",
       "    .dataframe tbody tr th {\n",
       "        vertical-align: top;\n",
       "    }\n",
       "\n",
       "    .dataframe thead th {\n",
       "        text-align: right;\n",
       "    }\n",
       "</style>\n",
       "<table border=\"1\" class=\"dataframe\">\n",
       "  <thead>\n",
       "    <tr style=\"text-align: right;\">\n",
       "      <th></th>\n",
       "      <th>author</th>\n",
       "      <th>file_name</th>\n",
       "      <th>text</th>\n",
       "    </tr>\n",
       "  </thead>\n",
       "  <tbody>\n",
       "    <tr>\n",
       "      <th>0</th>\n",
       "      <td>Abraham Lincoln</td>\n",
       "      <td>Abraham Lincoln___Lincoln Letters.txt</td>\n",
       "      <td>My dear father : - - Your letter of the 7th wa...</td>\n",
       "    </tr>\n",
       "    <tr>\n",
       "      <th>1</th>\n",
       "      <td>Abraham Lincoln</td>\n",
       "      <td>Abraham Lincoln___Lincoln's First Inaugural Ad...</td>\n",
       "      <td>Fellow citizens of the United States : in comp...</td>\n",
       "    </tr>\n",
       "    <tr>\n",
       "      <th>2</th>\n",
       "      <td>Abraham Lincoln</td>\n",
       "      <td>Abraham Lincoln___Lincoln's Gettysburg Address...</td>\n",
       "      <td>Four score and seven years ago our fathers bro...</td>\n",
       "    </tr>\n",
       "    <tr>\n",
       "      <th>3</th>\n",
       "      <td>Abraham Lincoln</td>\n",
       "      <td>Abraham Lincoln___Lincoln's Inaugurals, Addres...</td>\n",
       "      <td>INTRODUCTION The facts of Lincoln early life a...</td>\n",
       "    </tr>\n",
       "    <tr>\n",
       "      <th>4</th>\n",
       "      <td>Abraham Lincoln</td>\n",
       "      <td>Abraham Lincoln___Lincoln's Second Inaugural A...</td>\n",
       "      <td>Fellow countrymen : At this second appearing t...</td>\n",
       "    </tr>\n",
       "  </tbody>\n",
       "</table>\n",
       "</div>"
      ],
      "text/plain": [
       "            author                                          file_name  \\\n",
       "0  Abraham Lincoln              Abraham Lincoln___Lincoln Letters.txt   \n",
       "1  Abraham Lincoln  Abraham Lincoln___Lincoln's First Inaugural Ad...   \n",
       "2  Abraham Lincoln  Abraham Lincoln___Lincoln's Gettysburg Address...   \n",
       "3  Abraham Lincoln  Abraham Lincoln___Lincoln's Inaugurals, Addres...   \n",
       "4  Abraham Lincoln  Abraham Lincoln___Lincoln's Second Inaugural A...   \n",
       "\n",
       "                                                text  \n",
       "0  My dear father : - - Your letter of the 7th wa...  \n",
       "1  Fellow citizens of the United States : in comp...  \n",
       "2  Four score and seven years ago our fathers bro...  \n",
       "3  INTRODUCTION The facts of Lincoln early life a...  \n",
       "4  Fellow countrymen : At this second appearing t...  "
      ]
     },
     "execution_count": 13,
     "metadata": {},
     "output_type": "execute_result"
    }
   ],
   "source": [
    "df.head()"
   ]
  },
  {
   "cell_type": "code",
   "execution_count": 14,
   "metadata": {},
   "outputs": [
    {
     "data": {
      "text/plain": [
       "(80, 3)"
      ]
     },
     "execution_count": 14,
     "metadata": {},
     "output_type": "execute_result"
    }
   ],
   "source": [
    "df.shape"
   ]
  },
  {
   "cell_type": "markdown",
   "metadata": {},
   "source": [
    "### Word2Vec"
   ]
  },
  {
   "cell_type": "code",
   "execution_count": 15,
   "metadata": {},
   "outputs": [],
   "source": [
    "def get_good_tokens(sentence):\n",
    "    replaced_punctation = list(map(lambda token: re.sub('[^0-9A-Za-z!?]+', '', token), sentence))\n",
    "    removed_punctation = list(filter(lambda token: token, replaced_punctation))\n",
    "    return removed_punctation"
   ]
  },
  {
   "cell_type": "code",
   "execution_count": 16,
   "metadata": {},
   "outputs": [],
   "source": [
    "def w2v_preprocessing(df):\n",
    "    \"\"\" All the preprocessing steps for word2vec are done in this function.\n",
    "    All mutations are done on the dataframe itself. So this function returns\n",
    "    nothing.\n",
    "    \"\"\"\n",
    "    df['text'] = df.text.str.lower()\n",
    "    df['document_sentences'] = df.text.str.split('.')  # split texts into individual sentences\n",
    "    df['tokenized_sentences'] = list(map(lambda sentences:\n",
    "                                         list(map(nltk.word_tokenize, sentences)),\n",
    "                                         df.document_sentences))  # tokenize sentences\n",
    "    df['tokenized_sentences'] = list(map(lambda sentences:\n",
    "                                         list(map(get_good_tokens, sentences)),\n",
    "                                         df.tokenized_sentences))  # remove unwanted characters\n",
    "    df['tokenized_sentences'] = list(map(lambda sentences:\n",
    "                                         list(filter(lambda lst: lst, sentences)),\n",
    "                                         df.tokenized_sentences))  # remove empty lists\n",
    "\n",
    "w2v_preprocessing(df)"
   ]
  },
  {
   "cell_type": "code",
   "execution_count": 20,
   "metadata": {},
   "outputs": [
    {
     "data": {
      "text/html": [
       "<div>\n",
       "<style scoped>\n",
       "    .dataframe tbody tr th:only-of-type {\n",
       "        vertical-align: middle;\n",
       "    }\n",
       "\n",
       "    .dataframe tbody tr th {\n",
       "        vertical-align: top;\n",
       "    }\n",
       "\n",
       "    .dataframe thead th {\n",
       "        text-align: right;\n",
       "    }\n",
       "</style>\n",
       "<table border=\"1\" class=\"dataframe\">\n",
       "  <thead>\n",
       "    <tr style=\"text-align: right;\">\n",
       "      <th></th>\n",
       "      <th>author</th>\n",
       "      <th>file_name</th>\n",
       "      <th>text</th>\n",
       "      <th>document_sentences</th>\n",
       "      <th>tokenized_sentences</th>\n",
       "    </tr>\n",
       "  </thead>\n",
       "  <tbody>\n",
       "    <tr>\n",
       "      <th>0</th>\n",
       "      <td>Abraham Lincoln</td>\n",
       "      <td>Abraham Lincoln___Lincoln Letters.txt</td>\n",
       "      <td>my dear father : - - your letter of the 7th wa...</td>\n",
       "      <td>[my dear father : - - your letter of the 7th w...</td>\n",
       "      <td>[[my, dear, father, your, letter, of, the, 7th...</td>\n",
       "    </tr>\n",
       "    <tr>\n",
       "      <th>1</th>\n",
       "      <td>Abraham Lincoln</td>\n",
       "      <td>Abraham Lincoln___Lincoln's First Inaugural Ad...</td>\n",
       "      <td>fellow citizens of the united states : in comp...</td>\n",
       "      <td>[fellow citizens of the united states : in com...</td>\n",
       "      <td>[[fellow, citizens, of, the, united, states, i...</td>\n",
       "    </tr>\n",
       "    <tr>\n",
       "      <th>2</th>\n",
       "      <td>Abraham Lincoln</td>\n",
       "      <td>Abraham Lincoln___Lincoln's Gettysburg Address...</td>\n",
       "      <td>four score and seven years ago our fathers bro...</td>\n",
       "      <td>[four score and seven years ago our fathers br...</td>\n",
       "      <td>[[four, score, and, seven, years, ago, our, fa...</td>\n",
       "    </tr>\n",
       "    <tr>\n",
       "      <th>3</th>\n",
       "      <td>Abraham Lincoln</td>\n",
       "      <td>Abraham Lincoln___Lincoln's Inaugurals, Addres...</td>\n",
       "      <td>introduction the facts of lincoln early life a...</td>\n",
       "      <td>[introduction the facts of lincoln early life ...</td>\n",
       "      <td>[[introduction, the, facts, of, lincoln, early...</td>\n",
       "    </tr>\n",
       "    <tr>\n",
       "      <th>4</th>\n",
       "      <td>Abraham Lincoln</td>\n",
       "      <td>Abraham Lincoln___Lincoln's Second Inaugural A...</td>\n",
       "      <td>fellow countrymen : at this second appearing t...</td>\n",
       "      <td>[fellow countrymen : at this second appearing ...</td>\n",
       "      <td>[[fellow, countrymen, at, this, second, appear...</td>\n",
       "    </tr>\n",
       "  </tbody>\n",
       "</table>\n",
       "</div>"
      ],
      "text/plain": [
       "            author                                          file_name  \\\n",
       "0  Abraham Lincoln              Abraham Lincoln___Lincoln Letters.txt   \n",
       "1  Abraham Lincoln  Abraham Lincoln___Lincoln's First Inaugural Ad...   \n",
       "2  Abraham Lincoln  Abraham Lincoln___Lincoln's Gettysburg Address...   \n",
       "3  Abraham Lincoln  Abraham Lincoln___Lincoln's Inaugurals, Addres...   \n",
       "4  Abraham Lincoln  Abraham Lincoln___Lincoln's Second Inaugural A...   \n",
       "\n",
       "                                                text  \\\n",
       "0  my dear father : - - your letter of the 7th wa...   \n",
       "1  fellow citizens of the united states : in comp...   \n",
       "2  four score and seven years ago our fathers bro...   \n",
       "3  introduction the facts of lincoln early life a...   \n",
       "4  fellow countrymen : at this second appearing t...   \n",
       "\n",
       "                                  document_sentences  \\\n",
       "0  [my dear father : - - your letter of the 7th w...   \n",
       "1  [fellow citizens of the united states : in com...   \n",
       "2  [four score and seven years ago our fathers br...   \n",
       "3  [introduction the facts of lincoln early life ...   \n",
       "4  [fellow countrymen : at this second appearing ...   \n",
       "\n",
       "                                 tokenized_sentences  \n",
       "0  [[my, dear, father, your, letter, of, the, 7th...  \n",
       "1  [[fellow, citizens, of, the, united, states, i...  \n",
       "2  [[four, score, and, seven, years, ago, our, fa...  \n",
       "3  [[introduction, the, facts, of, lincoln, early...  \n",
       "4  [[fellow, countrymen, at, this, second, appear...  "
      ]
     },
     "execution_count": 20,
     "metadata": {},
     "output_type": "execute_result"
    }
   ],
   "source": [
    "df.head()"
   ]
  },
  {
   "cell_type": "code",
   "execution_count": 23,
   "metadata": {},
   "outputs": [
    {
     "name": "stdout",
     "output_type": "stream",
     "text": [
      "Number of sentences: 80.\n",
      "Number of texts: 80.\n"
     ]
    }
   ],
   "source": [
    "sentences = []\n",
    "for sentence_group in df.tokenized_sentences:\n",
    "    sentences.extend(sentence_group)\n",
    "\n",
    "print(\"Number of sentences: {}.\".format(len(sentences)))\n",
    "print(\"Number of texts: {}.\".format(len(df)))"
   ]
  },
  {
   "cell_type": "code",
   "execution_count": 26,
   "metadata": {},
   "outputs": [],
   "source": [
    "# Set values for various parameters\n",
    "num_features = 200    # Word vector dimensionality\n",
    "min_word_count = 3    # Minimum word count\n",
    "num_workers = 4       # Number of threads to run in parallel\n",
    "context = 6           # Context window size\n",
    "downsampling = 1e-3   # Downsample setting for frequent words\n",
    "\n",
    "# Initialize and train the model\n",
    "W2Vmodel = Word2Vec(sentences=sentences,\n",
    "                    sg=1,\n",
    "                    hs=0,\n",
    "                    workers=num_workers,\n",
    "                    size=num_features,\n",
    "                    min_count=min_word_count,\n",
    "                    window=context,\n",
    "                    sample=downsampling,\n",
    "                    negative=5,\n",
    "                    iter=6)"
   ]
  },
  {
   "cell_type": "code",
   "execution_count": 28,
   "metadata": {},
   "outputs": [
    {
     "name": "stderr",
     "output_type": "stream",
     "text": [
      "C:\\ProgramData\\Anaconda3\\lib\\site-packages\\ipykernel_launcher.py:16: DeprecationWarning: Call to deprecated `__getitem__` (Method will be removed in 4.0.0, use self.wv.__getitem__() instead).\n",
      "  app.launch_new_instance()\n"
     ]
    }
   ],
   "source": [
    "def get_w2v_features(w2v_model, sentence_group):\n",
    "    \"\"\" Transform a sentence_group (containing multiple lists\n",
    "    of words) into a feature vector. It averages out all the\n",
    "    word vectors of the sentence_group.\n",
    "    \"\"\"\n",
    "    words = np.concatenate(sentence_group)  # words in text\n",
    "    index2word_set = set(w2v_model.wv.vocab.keys())  # words known to model\n",
    "    \n",
    "    featureVec = np.zeros(w2v_model.vector_size, dtype=\"float32\")\n",
    "    \n",
    "    # Initialize a counter for number of words in a review\n",
    "    nwords = 0\n",
    "    # Loop over each word in the comment and, if it is in the model's vocabulary, add its feature vector to the total\n",
    "    for word in words:\n",
    "        if word in index2word_set: \n",
    "            featureVec = np.add(featureVec, w2v_model[word])\n",
    "            nwords += 1.\n",
    "\n",
    "    # Divide the result by the number of words to get the average\n",
    "    if nwords > 0:\n",
    "        featureVec = np.divide(featureVec, nwords)\n",
    "    return featureVec\n",
    "\n",
    "df['w2v_features'] = list(map(lambda sen_group:\n",
    "                                      get_w2v_features(W2Vmodel, sen_group),\n",
    "                                      df.tokenized_sentences))"
   ]
  },
  {
   "cell_type": "code",
   "execution_count": 29,
   "metadata": {},
   "outputs": [
    {
     "data": {
      "text/html": [
       "<div>\n",
       "<style scoped>\n",
       "    .dataframe tbody tr th:only-of-type {\n",
       "        vertical-align: middle;\n",
       "    }\n",
       "\n",
       "    .dataframe tbody tr th {\n",
       "        vertical-align: top;\n",
       "    }\n",
       "\n",
       "    .dataframe thead th {\n",
       "        text-align: right;\n",
       "    }\n",
       "</style>\n",
       "<table border=\"1\" class=\"dataframe\">\n",
       "  <thead>\n",
       "    <tr style=\"text-align: right;\">\n",
       "      <th></th>\n",
       "      <th>author</th>\n",
       "      <th>file_name</th>\n",
       "      <th>text</th>\n",
       "      <th>document_sentences</th>\n",
       "      <th>tokenized_sentences</th>\n",
       "      <th>w2v_features</th>\n",
       "    </tr>\n",
       "  </thead>\n",
       "  <tbody>\n",
       "    <tr>\n",
       "      <th>0</th>\n",
       "      <td>Abraham Lincoln</td>\n",
       "      <td>Abraham Lincoln___Lincoln Letters.txt</td>\n",
       "      <td>my dear father : - - your letter of the 7th wa...</td>\n",
       "      <td>[my dear father : - - your letter of the 7th w...</td>\n",
       "      <td>[[my, dear, father, your, letter, of, the, 7th...</td>\n",
       "      <td>[0.057827342, 0.115951255, -0.07730536, 0.1662...</td>\n",
       "    </tr>\n",
       "    <tr>\n",
       "      <th>1</th>\n",
       "      <td>Abraham Lincoln</td>\n",
       "      <td>Abraham Lincoln___Lincoln's First Inaugural Ad...</td>\n",
       "      <td>fellow citizens of the united states : in comp...</td>\n",
       "      <td>[fellow citizens of the united states : in com...</td>\n",
       "      <td>[[fellow, citizens, of, the, united, states, i...</td>\n",
       "      <td>[0.031063976, 0.11480296, -0.052323524, 0.1285...</td>\n",
       "    </tr>\n",
       "    <tr>\n",
       "      <th>2</th>\n",
       "      <td>Abraham Lincoln</td>\n",
       "      <td>Abraham Lincoln___Lincoln's Gettysburg Address...</td>\n",
       "      <td>four score and seven years ago our fathers bro...</td>\n",
       "      <td>[four score and seven years ago our fathers br...</td>\n",
       "      <td>[[four, score, and, seven, years, ago, our, fa...</td>\n",
       "      <td>[0.055926375, 0.0922096, -0.05004997, 0.146663...</td>\n",
       "    </tr>\n",
       "    <tr>\n",
       "      <th>3</th>\n",
       "      <td>Abraham Lincoln</td>\n",
       "      <td>Abraham Lincoln___Lincoln's Inaugurals, Addres...</td>\n",
       "      <td>introduction the facts of lincoln early life a...</td>\n",
       "      <td>[introduction the facts of lincoln early life ...</td>\n",
       "      <td>[[introduction, the, facts, of, lincoln, early...</td>\n",
       "      <td>[0.048888393, 0.12212666, -0.059196822, 0.1352...</td>\n",
       "    </tr>\n",
       "    <tr>\n",
       "      <th>4</th>\n",
       "      <td>Abraham Lincoln</td>\n",
       "      <td>Abraham Lincoln___Lincoln's Second Inaugural A...</td>\n",
       "      <td>fellow countrymen : at this second appearing t...</td>\n",
       "      <td>[fellow countrymen : at this second appearing ...</td>\n",
       "      <td>[[fellow, countrymen, at, this, second, appear...</td>\n",
       "      <td>[0.04082894, 0.12842312, -0.044956774, 0.12697...</td>\n",
       "    </tr>\n",
       "  </tbody>\n",
       "</table>\n",
       "</div>"
      ],
      "text/plain": [
       "            author                                          file_name  \\\n",
       "0  Abraham Lincoln              Abraham Lincoln___Lincoln Letters.txt   \n",
       "1  Abraham Lincoln  Abraham Lincoln___Lincoln's First Inaugural Ad...   \n",
       "2  Abraham Lincoln  Abraham Lincoln___Lincoln's Gettysburg Address...   \n",
       "3  Abraham Lincoln  Abraham Lincoln___Lincoln's Inaugurals, Addres...   \n",
       "4  Abraham Lincoln  Abraham Lincoln___Lincoln's Second Inaugural A...   \n",
       "\n",
       "                                                text  \\\n",
       "0  my dear father : - - your letter of the 7th wa...   \n",
       "1  fellow citizens of the united states : in comp...   \n",
       "2  four score and seven years ago our fathers bro...   \n",
       "3  introduction the facts of lincoln early life a...   \n",
       "4  fellow countrymen : at this second appearing t...   \n",
       "\n",
       "                                  document_sentences  \\\n",
       "0  [my dear father : - - your letter of the 7th w...   \n",
       "1  [fellow citizens of the united states : in com...   \n",
       "2  [four score and seven years ago our fathers br...   \n",
       "3  [introduction the facts of lincoln early life ...   \n",
       "4  [fellow countrymen : at this second appearing ...   \n",
       "\n",
       "                                 tokenized_sentences  \\\n",
       "0  [[my, dear, father, your, letter, of, the, 7th...   \n",
       "1  [[fellow, citizens, of, the, united, states, i...   \n",
       "2  [[four, score, and, seven, years, ago, our, fa...   \n",
       "3  [[introduction, the, facts, of, lincoln, early...   \n",
       "4  [[fellow, countrymen, at, this, second, appear...   \n",
       "\n",
       "                                        w2v_features  \n",
       "0  [0.057827342, 0.115951255, -0.07730536, 0.1662...  \n",
       "1  [0.031063976, 0.11480296, -0.052323524, 0.1285...  \n",
       "2  [0.055926375, 0.0922096, -0.05004997, 0.146663...  \n",
       "3  [0.048888393, 0.12212666, -0.059196822, 0.1352...  \n",
       "4  [0.04082894, 0.12842312, -0.044956774, 0.12697...  "
      ]
     },
     "execution_count": 29,
     "metadata": {},
     "output_type": "execute_result"
    }
   ],
   "source": [
    "df.head()"
   ]
  },
  {
   "cell_type": "code",
   "execution_count": 30,
   "metadata": {},
   "outputs": [],
   "source": [
    "le = LabelEncoder()\n",
    "df['author_LabelEncoded'] = le.fit_transform(df.author)"
   ]
  },
  {
   "cell_type": "code",
   "execution_count": 31,
   "metadata": {},
   "outputs": [
    {
     "data": {
      "text/html": [
       "<div>\n",
       "<style scoped>\n",
       "    .dataframe tbody tr th:only-of-type {\n",
       "        vertical-align: middle;\n",
       "    }\n",
       "\n",
       "    .dataframe tbody tr th {\n",
       "        vertical-align: top;\n",
       "    }\n",
       "\n",
       "    .dataframe thead th {\n",
       "        text-align: right;\n",
       "    }\n",
       "</style>\n",
       "<table border=\"1\" class=\"dataframe\">\n",
       "  <thead>\n",
       "    <tr style=\"text-align: right;\">\n",
       "      <th></th>\n",
       "      <th>author</th>\n",
       "      <th>file_name</th>\n",
       "      <th>text</th>\n",
       "      <th>document_sentences</th>\n",
       "      <th>tokenized_sentences</th>\n",
       "      <th>w2v_features</th>\n",
       "      <th>author_LabelEncoded</th>\n",
       "    </tr>\n",
       "  </thead>\n",
       "  <tbody>\n",
       "    <tr>\n",
       "      <th>0</th>\n",
       "      <td>Abraham Lincoln</td>\n",
       "      <td>Abraham Lincoln___Lincoln Letters.txt</td>\n",
       "      <td>my dear father : - - your letter of the 7th wa...</td>\n",
       "      <td>[my dear father : - - your letter of the 7th w...</td>\n",
       "      <td>[[my, dear, father, your, letter, of, the, 7th...</td>\n",
       "      <td>[0.057827342, 0.115951255, -0.07730536, 0.1662...</td>\n",
       "      <td>0</td>\n",
       "    </tr>\n",
       "    <tr>\n",
       "      <th>1</th>\n",
       "      <td>Abraham Lincoln</td>\n",
       "      <td>Abraham Lincoln___Lincoln's First Inaugural Ad...</td>\n",
       "      <td>fellow citizens of the united states : in comp...</td>\n",
       "      <td>[fellow citizens of the united states : in com...</td>\n",
       "      <td>[[fellow, citizens, of, the, united, states, i...</td>\n",
       "      <td>[0.031063976, 0.11480296, -0.052323524, 0.1285...</td>\n",
       "      <td>0</td>\n",
       "    </tr>\n",
       "    <tr>\n",
       "      <th>2</th>\n",
       "      <td>Abraham Lincoln</td>\n",
       "      <td>Abraham Lincoln___Lincoln's Gettysburg Address...</td>\n",
       "      <td>four score and seven years ago our fathers bro...</td>\n",
       "      <td>[four score and seven years ago our fathers br...</td>\n",
       "      <td>[[four, score, and, seven, years, ago, our, fa...</td>\n",
       "      <td>[0.055926375, 0.0922096, -0.05004997, 0.146663...</td>\n",
       "      <td>0</td>\n",
       "    </tr>\n",
       "    <tr>\n",
       "      <th>3</th>\n",
       "      <td>Abraham Lincoln</td>\n",
       "      <td>Abraham Lincoln___Lincoln's Inaugurals, Addres...</td>\n",
       "      <td>introduction the facts of lincoln early life a...</td>\n",
       "      <td>[introduction the facts of lincoln early life ...</td>\n",
       "      <td>[[introduction, the, facts, of, lincoln, early...</td>\n",
       "      <td>[0.048888393, 0.12212666, -0.059196822, 0.1352...</td>\n",
       "      <td>0</td>\n",
       "    </tr>\n",
       "    <tr>\n",
       "      <th>4</th>\n",
       "      <td>Abraham Lincoln</td>\n",
       "      <td>Abraham Lincoln___Lincoln's Second Inaugural A...</td>\n",
       "      <td>fellow countrymen : at this second appearing t...</td>\n",
       "      <td>[fellow countrymen : at this second appearing ...</td>\n",
       "      <td>[[fellow, countrymen, at, this, second, appear...</td>\n",
       "      <td>[0.04082894, 0.12842312, -0.044956774, 0.12697...</td>\n",
       "      <td>0</td>\n",
       "    </tr>\n",
       "    <tr>\n",
       "      <th>5</th>\n",
       "      <td>Abraham Lincoln</td>\n",
       "      <td>Abraham Lincoln___Speeches and Letters of Abra...</td>\n",
       "      <td>no man since washington has become to america...</td>\n",
       "      <td>[ no man since washington has become to americ...</td>\n",
       "      <td>[[no, man, since, washington, has, become, to,...</td>\n",
       "      <td>[0.045868024, 0.1207288, -0.05844379, 0.141869...</td>\n",
       "      <td>0</td>\n",
       "    </tr>\n",
       "    <tr>\n",
       "      <th>6</th>\n",
       "      <td>Abraham Lincoln</td>\n",
       "      <td>Abraham Lincoln___State of the Union Addresses...</td>\n",
       "      <td>fellow - citizens of the senate and house of r...</td>\n",
       "      <td>[fellow - citizens of the senate and house of ...</td>\n",
       "      <td>[[fellow, citizens, of, the, senate, and, hous...</td>\n",
       "      <td>[0.04522125, 0.1257728, -0.06482354, 0.1125935...</td>\n",
       "      <td>0</td>\n",
       "    </tr>\n",
       "    <tr>\n",
       "      <th>7</th>\n",
       "      <td>Abraham Lincoln</td>\n",
       "      <td>Abraham Lincoln___The Emancipation Proclamatio...</td>\n",
       "      <td>by the president of the united states of ameri...</td>\n",
       "      <td>[by the president of the united states of amer...</td>\n",
       "      <td>[[by, the, president, of, the, united, states,...</td>\n",
       "      <td>[0.062996976, 0.123609036, -0.05132087, 0.1188...</td>\n",
       "      <td>0</td>\n",
       "    </tr>\n",
       "    <tr>\n",
       "      <th>8</th>\n",
       "      <td>Abraham Lincoln</td>\n",
       "      <td>Abraham Lincoln___The Life and Public Service ...</td>\n",
       "      <td>the discovery of an unknown address by abraha...</td>\n",
       "      <td>[ the discovery of an unknown address by abrah...</td>\n",
       "      <td>[[the, discovery, of, an, unknown, address, by...</td>\n",
       "      <td>[0.07539342, 0.13717231, -0.057141304, 0.13539...</td>\n",
       "      <td>0</td>\n",
       "    </tr>\n",
       "    <tr>\n",
       "      <th>9</th>\n",
       "      <td>Abraham Lincoln</td>\n",
       "      <td>Abraham Lincoln___The Writings of Abraham Linc...</td>\n",
       "      <td>immediately after lincoln re - election to the...</td>\n",
       "      <td>[immediately after lincoln re - election to th...</td>\n",
       "      <td>[[immediately, after, lincoln, re, election, t...</td>\n",
       "      <td>[0.051190715, 0.12859058, -0.05722702, 0.13637...</td>\n",
       "      <td>0</td>\n",
       "    </tr>\n",
       "    <tr>\n",
       "      <th>10</th>\n",
       "      <td>Abraham Lincoln</td>\n",
       "      <td>Abraham Lincoln___The Writings of Abraham Linc...</td>\n",
       "      <td>first child to joshua f speed springfield may ...</td>\n",
       "      <td>[first child to joshua f speed springfield may...</td>\n",
       "      <td>[[first, child, to, joshua, f, speed, springfi...</td>\n",
       "      <td>[0.05242149, 0.1226091, -0.06186077, 0.1401155...</td>\n",
       "      <td>0</td>\n",
       "    </tr>\n",
       "    <tr>\n",
       "      <th>11</th>\n",
       "      <td>Abraham Lincoln</td>\n",
       "      <td>Abraham Lincoln___The Writings of Abraham Linc...</td>\n",
       "      <td>the lincoln - douglas debates i political spee...</td>\n",
       "      <td>[the lincoln - douglas debates i political spe...</td>\n",
       "      <td>[[the, lincoln, douglas, debates, i, political...</td>\n",
       "      <td>[0.055513512, 0.1273266, -0.06314749, 0.149872...</td>\n",
       "      <td>0</td>\n",
       "    </tr>\n",
       "    <tr>\n",
       "      <th>12</th>\n",
       "      <td>Abraham Lincoln</td>\n",
       "      <td>Abraham Lincoln___The Writings of Abraham Linc...</td>\n",
       "      <td>ladies and gentlemen : - - it will be very dif...</td>\n",
       "      <td>[ladies and gentlemen : - - it will be very di...</td>\n",
       "      <td>[[ladies, and, gentlemen, it, will, be, very, ...</td>\n",
       "      <td>[0.058387686, 0.12728788, -0.065109886, 0.1524...</td>\n",
       "      <td>0</td>\n",
       "    </tr>\n",
       "    <tr>\n",
       "      <th>13</th>\n",
       "      <td>Abraham Lincoln</td>\n",
       "      <td>Abraham Lincoln___The Writings of Abraham Linc...</td>\n",
       "      <td>the writings of abraham lincoln volume five 18...</td>\n",
       "      <td>[the writings of abraham lincoln volume five 1...</td>\n",
       "      <td>[[the, writings, of, abraham, lincoln, volume,...</td>\n",
       "      <td>[0.05611449, 0.12485747, -0.056318603, 0.13516...</td>\n",
       "      <td>0</td>\n",
       "    </tr>\n",
       "    <tr>\n",
       "      <th>14</th>\n",
       "      <td>Abraham Lincoln</td>\n",
       "      <td>Abraham Lincoln___The Writings of Abraham Linc...</td>\n",
       "      <td>1862 recommendation of naval officers message ...</td>\n",
       "      <td>[1862 recommendation of naval officers message...</td>\n",
       "      <td>[[1862, recommendation, of, naval, officers, m...</td>\n",
       "      <td>[0.07246718, 0.1340566, -0.047549766, 0.127432...</td>\n",
       "      <td>0</td>\n",
       "    </tr>\n",
       "  </tbody>\n",
       "</table>\n",
       "</div>"
      ],
      "text/plain": [
       "             author                                          file_name  \\\n",
       "0   Abraham Lincoln              Abraham Lincoln___Lincoln Letters.txt   \n",
       "1   Abraham Lincoln  Abraham Lincoln___Lincoln's First Inaugural Ad...   \n",
       "2   Abraham Lincoln  Abraham Lincoln___Lincoln's Gettysburg Address...   \n",
       "3   Abraham Lincoln  Abraham Lincoln___Lincoln's Inaugurals, Addres...   \n",
       "4   Abraham Lincoln  Abraham Lincoln___Lincoln's Second Inaugural A...   \n",
       "5   Abraham Lincoln  Abraham Lincoln___Speeches and Letters of Abra...   \n",
       "6   Abraham Lincoln  Abraham Lincoln___State of the Union Addresses...   \n",
       "7   Abraham Lincoln  Abraham Lincoln___The Emancipation Proclamatio...   \n",
       "8   Abraham Lincoln  Abraham Lincoln___The Life and Public Service ...   \n",
       "9   Abraham Lincoln  Abraham Lincoln___The Writings of Abraham Linc...   \n",
       "10  Abraham Lincoln  Abraham Lincoln___The Writings of Abraham Linc...   \n",
       "11  Abraham Lincoln  Abraham Lincoln___The Writings of Abraham Linc...   \n",
       "12  Abraham Lincoln  Abraham Lincoln___The Writings of Abraham Linc...   \n",
       "13  Abraham Lincoln  Abraham Lincoln___The Writings of Abraham Linc...   \n",
       "14  Abraham Lincoln  Abraham Lincoln___The Writings of Abraham Linc...   \n",
       "\n",
       "                                                 text  \\\n",
       "0   my dear father : - - your letter of the 7th wa...   \n",
       "1   fellow citizens of the united states : in comp...   \n",
       "2   four score and seven years ago our fathers bro...   \n",
       "3   introduction the facts of lincoln early life a...   \n",
       "4   fellow countrymen : at this second appearing t...   \n",
       "5    no man since washington has become to america...   \n",
       "6   fellow - citizens of the senate and house of r...   \n",
       "7   by the president of the united states of ameri...   \n",
       "8    the discovery of an unknown address by abraha...   \n",
       "9   immediately after lincoln re - election to the...   \n",
       "10  first child to joshua f speed springfield may ...   \n",
       "11  the lincoln - douglas debates i political spee...   \n",
       "12  ladies and gentlemen : - - it will be very dif...   \n",
       "13  the writings of abraham lincoln volume five 18...   \n",
       "14  1862 recommendation of naval officers message ...   \n",
       "\n",
       "                                   document_sentences  \\\n",
       "0   [my dear father : - - your letter of the 7th w...   \n",
       "1   [fellow citizens of the united states : in com...   \n",
       "2   [four score and seven years ago our fathers br...   \n",
       "3   [introduction the facts of lincoln early life ...   \n",
       "4   [fellow countrymen : at this second appearing ...   \n",
       "5   [ no man since washington has become to americ...   \n",
       "6   [fellow - citizens of the senate and house of ...   \n",
       "7   [by the president of the united states of amer...   \n",
       "8   [ the discovery of an unknown address by abrah...   \n",
       "9   [immediately after lincoln re - election to th...   \n",
       "10  [first child to joshua f speed springfield may...   \n",
       "11  [the lincoln - douglas debates i political spe...   \n",
       "12  [ladies and gentlemen : - - it will be very di...   \n",
       "13  [the writings of abraham lincoln volume five 1...   \n",
       "14  [1862 recommendation of naval officers message...   \n",
       "\n",
       "                                  tokenized_sentences  \\\n",
       "0   [[my, dear, father, your, letter, of, the, 7th...   \n",
       "1   [[fellow, citizens, of, the, united, states, i...   \n",
       "2   [[four, score, and, seven, years, ago, our, fa...   \n",
       "3   [[introduction, the, facts, of, lincoln, early...   \n",
       "4   [[fellow, countrymen, at, this, second, appear...   \n",
       "5   [[no, man, since, washington, has, become, to,...   \n",
       "6   [[fellow, citizens, of, the, senate, and, hous...   \n",
       "7   [[by, the, president, of, the, united, states,...   \n",
       "8   [[the, discovery, of, an, unknown, address, by...   \n",
       "9   [[immediately, after, lincoln, re, election, t...   \n",
       "10  [[first, child, to, joshua, f, speed, springfi...   \n",
       "11  [[the, lincoln, douglas, debates, i, political...   \n",
       "12  [[ladies, and, gentlemen, it, will, be, very, ...   \n",
       "13  [[the, writings, of, abraham, lincoln, volume,...   \n",
       "14  [[1862, recommendation, of, naval, officers, m...   \n",
       "\n",
       "                                         w2v_features  author_LabelEncoded  \n",
       "0   [0.057827342, 0.115951255, -0.07730536, 0.1662...                    0  \n",
       "1   [0.031063976, 0.11480296, -0.052323524, 0.1285...                    0  \n",
       "2   [0.055926375, 0.0922096, -0.05004997, 0.146663...                    0  \n",
       "3   [0.048888393, 0.12212666, -0.059196822, 0.1352...                    0  \n",
       "4   [0.04082894, 0.12842312, -0.044956774, 0.12697...                    0  \n",
       "5   [0.045868024, 0.1207288, -0.05844379, 0.141869...                    0  \n",
       "6   [0.04522125, 0.1257728, -0.06482354, 0.1125935...                    0  \n",
       "7   [0.062996976, 0.123609036, -0.05132087, 0.1188...                    0  \n",
       "8   [0.07539342, 0.13717231, -0.057141304, 0.13539...                    0  \n",
       "9   [0.051190715, 0.12859058, -0.05722702, 0.13637...                    0  \n",
       "10  [0.05242149, 0.1226091, -0.06186077, 0.1401155...                    0  \n",
       "11  [0.055513512, 0.1273266, -0.06314749, 0.149872...                    0  \n",
       "12  [0.058387686, 0.12728788, -0.065109886, 0.1524...                    0  \n",
       "13  [0.05611449, 0.12485747, -0.056318603, 0.13516...                    0  \n",
       "14  [0.07246718, 0.1340566, -0.047549766, 0.127432...                    0  "
      ]
     },
     "execution_count": 31,
     "metadata": {},
     "output_type": "execute_result"
    }
   ],
   "source": [
    "df.head(15)"
   ]
  },
  {
   "cell_type": "code",
   "execution_count": 32,
   "metadata": {},
   "outputs": [],
   "source": [
    "X_train, X_test, y_train, y_test = train_test_split(df.w2v_features, df.author_LabelEncoded, random_state = 0)"
   ]
  },
  {
   "cell_type": "code",
   "execution_count": 34,
   "metadata": {},
   "outputs": [],
   "source": [
    "X_train_w2v = np.array(list(map(np.array, X_train)))\n",
    "X_test_w2v = np.array(list(map(np.array, X_test)))"
   ]
  },
  {
   "cell_type": "code",
   "execution_count": 37,
   "metadata": {},
   "outputs": [],
   "source": [
    "clf = SVC(kernel='linear').fit(X_train_w2v, y_train)"
   ]
  },
  {
   "cell_type": "code",
   "execution_count": 38,
   "metadata": {},
   "outputs": [],
   "source": [
    "y_score = clf.predict(X_test_w2v)"
   ]
  },
  {
   "cell_type": "code",
   "execution_count": 39,
   "metadata": {},
   "outputs": [
    {
     "name": "stdout",
     "output_type": "stream",
     "text": [
      "Accuracy: 50.00%\n"
     ]
    }
   ],
   "source": [
    "n_right = 0\n",
    "for i in range(len(y_score)):\n",
    "    if y_score.tolist()[i] == y_test.tolist()[i]:\n",
    "        n_right += 1\n",
    "\n",
    "print(\"Accuracy: %.2f%%\" % ((n_right/float(len(y_test)) * 100)))"
   ]
  },
  {
   "cell_type": "code",
   "execution_count": 40,
   "metadata": {},
   "outputs": [
    {
     "name": "stdout",
     "output_type": "stream",
     "text": [
      "             precision    recall  f1-score   support\n",
      "\n",
      "          0       0.50      1.00      0.67         3\n",
      "          3       0.00      0.00      0.00         1\n",
      "          4       0.00      0.00      0.00         2\n",
      "          5       0.00      0.00      0.00         2\n",
      "          6       0.50      0.80      0.62         5\n",
      "          7       0.50      1.00      0.67         3\n",
      "          8       0.00      0.00      0.00         4\n",
      "\n",
      "avg / total       0.28      0.50      0.35        20\n",
      "\n"
     ]
    },
    {
     "name": "stderr",
     "output_type": "stream",
     "text": [
      "C:\\ProgramData\\Anaconda3\\lib\\site-packages\\sklearn\\metrics\\classification.py:1135: UndefinedMetricWarning: Precision and F-score are ill-defined and being set to 0.0 in labels with no predicted samples.\n",
      "  'precision', 'predicted', average, warn_for)\n"
     ]
    }
   ],
   "source": [
    "print(classification_report(y_test, y_score))"
   ]
  },
  {
   "cell_type": "code",
   "execution_count": 41,
   "metadata": {},
   "outputs": [],
   "source": [
    "from sklearn.ensemble import RandomForestClassifier\n",
    "rfc = RandomForestClassifier(random_state=42)"
   ]
  },
  {
   "cell_type": "code",
   "execution_count": 42,
   "metadata": {},
   "outputs": [
    {
     "data": {
      "text/plain": [
       "RandomForestClassifier(bootstrap=True, class_weight=None, criterion='gini',\n",
       "            max_depth=None, max_features='auto', max_leaf_nodes=None,\n",
       "            min_impurity_decrease=0.0, min_impurity_split=None,\n",
       "            min_samples_leaf=1, min_samples_split=2,\n",
       "            min_weight_fraction_leaf=0.0, n_estimators=10, n_jobs=1,\n",
       "            oob_score=False, random_state=42, verbose=0, warm_start=False)"
      ]
     },
     "execution_count": 42,
     "metadata": {},
     "output_type": "execute_result"
    }
   ],
   "source": [
    "rfc.fit(X_train_w2v, y_train)"
   ]
  },
  {
   "cell_type": "code",
   "execution_count": 43,
   "metadata": {},
   "outputs": [],
   "source": [
    "y_score = clf.predict(X_test_w2v)"
   ]
  },
  {
   "cell_type": "code",
   "execution_count": 44,
   "metadata": {},
   "outputs": [
    {
     "name": "stdout",
     "output_type": "stream",
     "text": [
      "             precision    recall  f1-score   support\n",
      "\n",
      "          0       0.50      1.00      0.67         3\n",
      "          3       0.00      0.00      0.00         1\n",
      "          4       0.00      0.00      0.00         2\n",
      "          5       0.00      0.00      0.00         2\n",
      "          6       0.50      0.80      0.62         5\n",
      "          7       0.50      1.00      0.67         3\n",
      "          8       0.00      0.00      0.00         4\n",
      "\n",
      "avg / total       0.28      0.50      0.35        20\n",
      "\n"
     ]
    },
    {
     "name": "stderr",
     "output_type": "stream",
     "text": [
      "C:\\ProgramData\\Anaconda3\\lib\\site-packages\\sklearn\\metrics\\classification.py:1135: UndefinedMetricWarning: Precision and F-score are ill-defined and being set to 0.0 in labels with no predicted samples.\n",
      "  'precision', 'predicted', average, warn_for)\n"
     ]
    }
   ],
   "source": [
    "print(classification_report(y_test, y_score))"
   ]
  },
  {
   "cell_type": "code",
   "execution_count": 12,
   "metadata": {},
   "outputs": [
    {
     "data": {
      "text/html": [
       "<div>\n",
       "<style scoped>\n",
       "    .dataframe tbody tr th:only-of-type {\n",
       "        vertical-align: middle;\n",
       "    }\n",
       "\n",
       "    .dataframe tbody tr th {\n",
       "        vertical-align: top;\n",
       "    }\n",
       "\n",
       "    .dataframe thead th {\n",
       "        text-align: right;\n",
       "    }\n",
       "</style>\n",
       "<table border=\"1\" class=\"dataframe\">\n",
       "  <thead>\n",
       "    <tr style=\"text-align: right;\">\n",
       "      <th></th>\n",
       "      <th>author</th>\n",
       "      <th>file_name</th>\n",
       "      <th>text</th>\n",
       "      <th>author_LabelEncoded</th>\n",
       "    </tr>\n",
       "  </thead>\n",
       "  <tbody>\n",
       "    <tr>\n",
       "      <th>0</th>\n",
       "      <td>Abraham Lincoln</td>\n",
       "      <td>Abraham Lincoln___Lincoln Letters.txt</td>\n",
       "      <td>LINCOLN LETTERS By Abraham Lincoln Published ...</td>\n",
       "      <td>0</td>\n",
       "    </tr>\n",
       "    <tr>\n",
       "      <th>1</th>\n",
       "      <td>Abraham Lincoln</td>\n",
       "      <td>Abraham Lincoln___Lincoln's First Inaugural Ad...</td>\n",
       "      <td>Lincoln First Inaugural Address March 4 1861 ...</td>\n",
       "      <td>0</td>\n",
       "    </tr>\n",
       "    <tr>\n",
       "      <th>2</th>\n",
       "      <td>Abraham Lincoln</td>\n",
       "      <td>Abraham Lincoln___Lincoln's Gettysburg Address...</td>\n",
       "      <td>Lincoln Gettysburg Address given November 19 ...</td>\n",
       "      <td>0</td>\n",
       "    </tr>\n",
       "    <tr>\n",
       "      <th>3</th>\n",
       "      <td>Abraham Lincoln</td>\n",
       "      <td>Abraham Lincoln___Lincoln's Inaugurals, Addres...</td>\n",
       "      <td>Longman English Classics LINCOLN S INAUGURALS...</td>\n",
       "      <td>0</td>\n",
       "    </tr>\n",
       "    <tr>\n",
       "      <th>4</th>\n",
       "      <td>Abraham Lincoln</td>\n",
       "      <td>Abraham Lincoln___Lincoln's Second Inaugural A...</td>\n",
       "      <td>Lincoln Second Inaugural Address March 4 1865...</td>\n",
       "      <td>0</td>\n",
       "    </tr>\n",
       "    <tr>\n",
       "      <th>5</th>\n",
       "      <td>Abraham Lincoln</td>\n",
       "      <td>Abraham Lincoln___Speeches and Letters of Abra...</td>\n",
       "      <td>SPEECHES LETTERS OF ABRAHAM LINCOLN 1832 - 18...</td>\n",
       "      <td>0</td>\n",
       "    </tr>\n",
       "    <tr>\n",
       "      <th>6</th>\n",
       "      <td>Abraham Lincoln</td>\n",
       "      <td>Abraham Lincoln___State of the Union Addresses...</td>\n",
       "      <td>State of the Union Address Abraham Lincoln De...</td>\n",
       "      <td>0</td>\n",
       "    </tr>\n",
       "    <tr>\n",
       "      <th>7</th>\n",
       "      <td>Abraham Lincoln</td>\n",
       "      <td>Abraham Lincoln___The Emancipation Proclamatio...</td>\n",
       "      <td>THE EMANCIPATION PROCLAMATION : By the Presid...</td>\n",
       "      <td>0</td>\n",
       "    </tr>\n",
       "    <tr>\n",
       "      <th>8</th>\n",
       "      <td>Abraham Lincoln</td>\n",
       "      <td>Abraham Lincoln___The Life and Public Service ...</td>\n",
       "      <td>NOTE After lying buried for almost three quar...</td>\n",
       "      <td>0</td>\n",
       "    </tr>\n",
       "    <tr>\n",
       "      <th>9</th>\n",
       "      <td>Abraham Lincoln</td>\n",
       "      <td>Abraham Lincoln___The Writings of Abraham Linc...</td>\n",
       "      <td>THE PAPERS AND WRITINGS OF ABRAHAM LINCOLN VO...</td>\n",
       "      <td>0</td>\n",
       "    </tr>\n",
       "    <tr>\n",
       "      <th>10</th>\n",
       "      <td>Abraham Lincoln</td>\n",
       "      <td>Abraham Lincoln___The Writings of Abraham Linc...</td>\n",
       "      <td>THE PAPERS AND WRITINGS OF ABRAHAM LINCOLN VO...</td>\n",
       "      <td>0</td>\n",
       "    </tr>\n",
       "    <tr>\n",
       "      <th>11</th>\n",
       "      <td>Abraham Lincoln</td>\n",
       "      <td>Abraham Lincoln___The Writings of Abraham Linc...</td>\n",
       "      <td>THE PAPERS AND WRITINGS OF ABRAHAM LINCOLN VO...</td>\n",
       "      <td>0</td>\n",
       "    </tr>\n",
       "    <tr>\n",
       "      <th>12</th>\n",
       "      <td>Abraham Lincoln</td>\n",
       "      <td>Abraham Lincoln___The Writings of Abraham Linc...</td>\n",
       "      <td>THE PAPERS AND WRITINGS OF ABRAHAM LINCOLN VO...</td>\n",
       "      <td>0</td>\n",
       "    </tr>\n",
       "    <tr>\n",
       "      <th>13</th>\n",
       "      <td>Abraham Lincoln</td>\n",
       "      <td>Abraham Lincoln___The Writings of Abraham Linc...</td>\n",
       "      <td>THE PAPERS AND WRITINGS OF ABRAHAM LINCOLN VO...</td>\n",
       "      <td>0</td>\n",
       "    </tr>\n",
       "    <tr>\n",
       "      <th>14</th>\n",
       "      <td>Abraham Lincoln</td>\n",
       "      <td>Abraham Lincoln___The Writings of Abraham Linc...</td>\n",
       "      <td>THE PAPERS AND WRITINGS OF ABRAHAM LINCOLN VO...</td>\n",
       "      <td>0</td>\n",
       "    </tr>\n",
       "  </tbody>\n",
       "</table>\n",
       "</div>"
      ],
      "text/plain": [
       "             author                                          file_name  \\\n",
       "0   Abraham Lincoln              Abraham Lincoln___Lincoln Letters.txt   \n",
       "1   Abraham Lincoln  Abraham Lincoln___Lincoln's First Inaugural Ad...   \n",
       "2   Abraham Lincoln  Abraham Lincoln___Lincoln's Gettysburg Address...   \n",
       "3   Abraham Lincoln  Abraham Lincoln___Lincoln's Inaugurals, Addres...   \n",
       "4   Abraham Lincoln  Abraham Lincoln___Lincoln's Second Inaugural A...   \n",
       "5   Abraham Lincoln  Abraham Lincoln___Speeches and Letters of Abra...   \n",
       "6   Abraham Lincoln  Abraham Lincoln___State of the Union Addresses...   \n",
       "7   Abraham Lincoln  Abraham Lincoln___The Emancipation Proclamatio...   \n",
       "8   Abraham Lincoln  Abraham Lincoln___The Life and Public Service ...   \n",
       "9   Abraham Lincoln  Abraham Lincoln___The Writings of Abraham Linc...   \n",
       "10  Abraham Lincoln  Abraham Lincoln___The Writings of Abraham Linc...   \n",
       "11  Abraham Lincoln  Abraham Lincoln___The Writings of Abraham Linc...   \n",
       "12  Abraham Lincoln  Abraham Lincoln___The Writings of Abraham Linc...   \n",
       "13  Abraham Lincoln  Abraham Lincoln___The Writings of Abraham Linc...   \n",
       "14  Abraham Lincoln  Abraham Lincoln___The Writings of Abraham Linc...   \n",
       "\n",
       "                                                 text  author_LabelEncoded  \n",
       "0    LINCOLN LETTERS By Abraham Lincoln Published ...                    0  \n",
       "1    Lincoln First Inaugural Address March 4 1861 ...                    0  \n",
       "2    Lincoln Gettysburg Address given November 19 ...                    0  \n",
       "3    Longman English Classics LINCOLN S INAUGURALS...                    0  \n",
       "4    Lincoln Second Inaugural Address March 4 1865...                    0  \n",
       "5    SPEECHES LETTERS OF ABRAHAM LINCOLN 1832 - 18...                    0  \n",
       "6    State of the Union Address Abraham Lincoln De...                    0  \n",
       "7    THE EMANCIPATION PROCLAMATION : By the Presid...                    0  \n",
       "8    NOTE After lying buried for almost three quar...                    0  \n",
       "9    THE PAPERS AND WRITINGS OF ABRAHAM LINCOLN VO...                    0  \n",
       "10   THE PAPERS AND WRITINGS OF ABRAHAM LINCOLN VO...                    0  \n",
       "11   THE PAPERS AND WRITINGS OF ABRAHAM LINCOLN VO...                    0  \n",
       "12   THE PAPERS AND WRITINGS OF ABRAHAM LINCOLN VO...                    0  \n",
       "13   THE PAPERS AND WRITINGS OF ABRAHAM LINCOLN VO...                    0  \n",
       "14   THE PAPERS AND WRITINGS OF ABRAHAM LINCOLN VO...                    0  "
      ]
     },
     "execution_count": 12,
     "metadata": {},
     "output_type": "execute_result"
    }
   ],
   "source": [
    "df.head(15)"
   ]
  },
  {
   "cell_type": "markdown",
   "metadata": {},
   "source": [
    "### TF-IDF"
   ]
  },
  {
   "cell_type": "code",
   "execution_count": 45,
   "metadata": {},
   "outputs": [],
   "source": [
    "vectorizer = TfidfVectorizer(sublinear_tf=True, use_idf =True, lowercase=True, strip_accents='ascii', stop_words = 'english')"
   ]
  },
  {
   "cell_type": "code",
   "execution_count": 46,
   "metadata": {},
   "outputs": [],
   "source": [
    "XText_tfidf = vectorizer.fit_transform(df['text'])"
   ]
  },
  {
   "cell_type": "code",
   "execution_count": 47,
   "metadata": {},
   "outputs": [
    {
     "data": {
      "text/plain": [
       "(80, 70434)"
      ]
     },
     "execution_count": 47,
     "metadata": {},
     "output_type": "execute_result"
    }
   ],
   "source": [
    "XText_tfidf.shape"
   ]
  },
  {
   "cell_type": "code",
   "execution_count": 48,
   "metadata": {},
   "outputs": [],
   "source": [
    "X_train, X_test, y_train, y_test = train_test_split(XText_tfidf, df.author_LabelEncoded, random_state = 0)"
   ]
  },
  {
   "cell_type": "code",
   "execution_count": 49,
   "metadata": {},
   "outputs": [],
   "source": [
    "clf = MultinomialNB().fit(X_train, y_train)"
   ]
  },
  {
   "cell_type": "code",
   "execution_count": 50,
   "metadata": {},
   "outputs": [],
   "source": [
    "y_score = clf.predict(X_test)"
   ]
  },
  {
   "cell_type": "code",
   "execution_count": 51,
   "metadata": {},
   "outputs": [
    {
     "name": "stdout",
     "output_type": "stream",
     "text": [
      "Accuracy: 50.00%\n"
     ]
    }
   ],
   "source": [
    "n_right = 0\n",
    "for i in range(len(y_score)):\n",
    "    if y_score.tolist()[i] == y_test.tolist()[i]:\n",
    "        n_right += 1\n",
    "\n",
    "print(\"Accuracy: %.2f%%\" % ((n_right/float(len(y_test)) * 100)))"
   ]
  },
  {
   "cell_type": "code",
   "execution_count": 52,
   "metadata": {},
   "outputs": [
    {
     "name": "stdout",
     "output_type": "stream",
     "text": [
      "             precision    recall  f1-score   support\n",
      "\n",
      "          0       0.60      1.00      0.75         3\n",
      "          3       0.00      0.00      0.00         1\n",
      "          4       0.00      0.00      0.00         2\n",
      "          5       0.00      0.00      0.00         2\n",
      "          6       0.40      0.80      0.53         5\n",
      "          7       0.60      1.00      0.75         3\n",
      "          8       0.00      0.00      0.00         4\n",
      "\n",
      "avg / total       0.28      0.50      0.36        20\n",
      "\n"
     ]
    },
    {
     "name": "stderr",
     "output_type": "stream",
     "text": [
      "C:\\ProgramData\\Anaconda3\\lib\\site-packages\\sklearn\\metrics\\classification.py:1135: UndefinedMetricWarning: Precision and F-score are ill-defined and being set to 0.0 in labels with no predicted samples.\n",
      "  'precision', 'predicted', average, warn_for)\n"
     ]
    }
   ],
   "source": [
    "print(classification_report(y_test, y_score))"
   ]
  },
  {
   "cell_type": "code",
   "execution_count": 53,
   "metadata": {},
   "outputs": [],
   "source": [
    "clf = SVC(kernel='linear').fit(X_train, y_train)"
   ]
  },
  {
   "cell_type": "code",
   "execution_count": 54,
   "metadata": {},
   "outputs": [],
   "source": [
    "y_score = clf.predict(X_test)"
   ]
  },
  {
   "cell_type": "code",
   "execution_count": 55,
   "metadata": {},
   "outputs": [
    {
     "name": "stdout",
     "output_type": "stream",
     "text": [
      "Accuracy: 95.00%\n"
     ]
    }
   ],
   "source": [
    "n_right = 0\n",
    "for i in range(len(y_score)):\n",
    "    if y_score.tolist()[i] == y_test.tolist()[i]:\n",
    "        n_right += 1\n",
    "\n",
    "print(\"Accuracy: %.2f%%\" % ((n_right/float(len(y_test)) * 100)))"
   ]
  },
  {
   "cell_type": "code",
   "execution_count": 56,
   "metadata": {},
   "outputs": [
    {
     "name": "stdout",
     "output_type": "stream",
     "text": [
      "             precision    recall  f1-score   support\n",
      "\n",
      "          0       1.00      1.00      1.00         3\n",
      "          3       0.00      0.00      0.00         1\n",
      "          4       1.00      1.00      1.00         2\n",
      "          5       1.00      1.00      1.00         2\n",
      "          6       1.00      1.00      1.00         5\n",
      "          7       0.75      1.00      0.86         3\n",
      "          8       1.00      1.00      1.00         4\n",
      "\n",
      "avg / total       0.91      0.95      0.93        20\n",
      "\n"
     ]
    },
    {
     "name": "stderr",
     "output_type": "stream",
     "text": [
      "C:\\ProgramData\\Anaconda3\\lib\\site-packages\\sklearn\\metrics\\classification.py:1135: UndefinedMetricWarning: Precision and F-score are ill-defined and being set to 0.0 in labels with no predicted samples.\n",
      "  'precision', 'predicted', average, warn_for)\n"
     ]
    }
   ],
   "source": [
    "print(classification_report(y_test, y_score))"
   ]
  },
  {
   "cell_type": "code",
   "execution_count": 25,
   "metadata": {},
   "outputs": [
    {
     "data": {
      "text/html": [
       "<div>\n",
       "<style scoped>\n",
       "    .dataframe tbody tr th:only-of-type {\n",
       "        vertical-align: middle;\n",
       "    }\n",
       "\n",
       "    .dataframe tbody tr th {\n",
       "        vertical-align: top;\n",
       "    }\n",
       "\n",
       "    .dataframe thead th {\n",
       "        text-align: right;\n",
       "    }\n",
       "</style>\n",
       "<table border=\"1\" class=\"dataframe\">\n",
       "  <thead>\n",
       "    <tr style=\"text-align: right;\">\n",
       "      <th></th>\n",
       "      <th>author</th>\n",
       "      <th>file_name</th>\n",
       "      <th>text</th>\n",
       "      <th>author_LabelEncoded</th>\n",
       "    </tr>\n",
       "  </thead>\n",
       "  <tbody>\n",
       "    <tr>\n",
       "      <th>0</th>\n",
       "      <td>Abraham Lincoln</td>\n",
       "      <td>Abraham Lincoln___Lincoln Letters.txt</td>\n",
       "      <td>LINCOLN LETTERS By Abraham Lincoln Published ...</td>\n",
       "      <td>0</td>\n",
       "    </tr>\n",
       "    <tr>\n",
       "      <th>1</th>\n",
       "      <td>Abraham Lincoln</td>\n",
       "      <td>Abraham Lincoln___Lincoln's First Inaugural Ad...</td>\n",
       "      <td>Lincoln First Inaugural Address March 4 1861 ...</td>\n",
       "      <td>0</td>\n",
       "    </tr>\n",
       "    <tr>\n",
       "      <th>2</th>\n",
       "      <td>Abraham Lincoln</td>\n",
       "      <td>Abraham Lincoln___Lincoln's Gettysburg Address...</td>\n",
       "      <td>Lincoln Gettysburg Address given November 19 ...</td>\n",
       "      <td>0</td>\n",
       "    </tr>\n",
       "    <tr>\n",
       "      <th>3</th>\n",
       "      <td>Abraham Lincoln</td>\n",
       "      <td>Abraham Lincoln___Lincoln's Inaugurals, Addres...</td>\n",
       "      <td>Longman English Classics LINCOLN S INAUGURALS...</td>\n",
       "      <td>0</td>\n",
       "    </tr>\n",
       "    <tr>\n",
       "      <th>4</th>\n",
       "      <td>Abraham Lincoln</td>\n",
       "      <td>Abraham Lincoln___Lincoln's Second Inaugural A...</td>\n",
       "      <td>Lincoln Second Inaugural Address March 4 1865...</td>\n",
       "      <td>0</td>\n",
       "    </tr>\n",
       "  </tbody>\n",
       "</table>\n",
       "</div>"
      ],
      "text/plain": [
       "            author                                          file_name  \\\n",
       "0  Abraham Lincoln              Abraham Lincoln___Lincoln Letters.txt   \n",
       "1  Abraham Lincoln  Abraham Lincoln___Lincoln's First Inaugural Ad...   \n",
       "2  Abraham Lincoln  Abraham Lincoln___Lincoln's Gettysburg Address...   \n",
       "3  Abraham Lincoln  Abraham Lincoln___Lincoln's Inaugurals, Addres...   \n",
       "4  Abraham Lincoln  Abraham Lincoln___Lincoln's Second Inaugural A...   \n",
       "\n",
       "                                                text  author_LabelEncoded  \n",
       "0   LINCOLN LETTERS By Abraham Lincoln Published ...                    0  \n",
       "1   Lincoln First Inaugural Address March 4 1861 ...                    0  \n",
       "2   Lincoln Gettysburg Address given November 19 ...                    0  \n",
       "3   Longman English Classics LINCOLN S INAUGURALS...                    0  \n",
       "4   Lincoln Second Inaugural Address March 4 1865...                    0  "
      ]
     },
     "execution_count": 25,
     "metadata": {},
     "output_type": "execute_result"
    }
   ],
   "source": [
    "df.head()"
   ]
  },
  {
   "cell_type": "markdown",
   "metadata": {},
   "source": [
    "### Bag Of Word"
   ]
  },
  {
   "cell_type": "code",
   "execution_count": 57,
   "metadata": {},
   "outputs": [],
   "source": [
    "from sklearn.feature_extraction.text import CountVectorizer"
   ]
  },
  {
   "cell_type": "code",
   "execution_count": 58,
   "metadata": {},
   "outputs": [],
   "source": [
    "count_vectorizer = CountVectorizer(stop_words='english')\n",
    "XText_CountVectorizer = count_vectorizer.fit_transform(df['text'])"
   ]
  },
  {
   "cell_type": "code",
   "execution_count": 59,
   "metadata": {},
   "outputs": [
    {
     "data": {
      "text/plain": [
       "70434"
      ]
     },
     "execution_count": 59,
     "metadata": {},
     "output_type": "execute_result"
    }
   ],
   "source": [
    "XText_CountVectorizer.shape[1]"
   ]
  },
  {
   "cell_type": "code",
   "execution_count": 60,
   "metadata": {},
   "outputs": [],
   "source": [
    "X_train, X_test, y_train, y_test = train_test_split(XText_CountVectorizer, df.author_LabelEncoded, random_state = 0)"
   ]
  },
  {
   "cell_type": "code",
   "execution_count": 61,
   "metadata": {},
   "outputs": [],
   "source": [
    "clf = MultinomialNB().fit(X_train, y_train)"
   ]
  },
  {
   "cell_type": "code",
   "execution_count": 62,
   "metadata": {},
   "outputs": [],
   "source": [
    "y_score = clf.predict(X_test)"
   ]
  },
  {
   "cell_type": "code",
   "execution_count": 63,
   "metadata": {},
   "outputs": [
    {
     "name": "stdout",
     "output_type": "stream",
     "text": [
      "Accuracy: 95.00%\n"
     ]
    }
   ],
   "source": [
    "n_right = 0\n",
    "for i in range(len(y_score)):\n",
    "    if y_score.tolist()[i] == y_test.tolist()[i]:\n",
    "        n_right += 1\n",
    "\n",
    "print(\"Accuracy: %.2f%%\" % ((n_right/float(len(y_test)) * 100)))"
   ]
  },
  {
   "cell_type": "code",
   "execution_count": 64,
   "metadata": {},
   "outputs": [
    {
     "name": "stdout",
     "output_type": "stream",
     "text": [
      "             precision    recall  f1-score   support\n",
      "\n",
      "          0       1.00      1.00      1.00         3\n",
      "          3       0.00      0.00      0.00         1\n",
      "          4       1.00      1.00      1.00         2\n",
      "          5       1.00      1.00      1.00         2\n",
      "          6       0.83      1.00      0.91         5\n",
      "          7       1.00      1.00      1.00         3\n",
      "          8       1.00      1.00      1.00         4\n",
      "\n",
      "avg / total       0.91      0.95      0.93        20\n",
      "\n"
     ]
    },
    {
     "name": "stderr",
     "output_type": "stream",
     "text": [
      "C:\\ProgramData\\Anaconda3\\lib\\site-packages\\sklearn\\metrics\\classification.py:1135: UndefinedMetricWarning: Precision and F-score are ill-defined and being set to 0.0 in labels with no predicted samples.\n",
      "  'precision', 'predicted', average, warn_for)\n"
     ]
    }
   ],
   "source": [
    "print(classification_report(y_test, y_score))"
   ]
  },
  {
   "cell_type": "code",
   "execution_count": 65,
   "metadata": {},
   "outputs": [],
   "source": [
    "clf = SVC(kernel='linear').fit(X_train, y_train)"
   ]
  },
  {
   "cell_type": "code",
   "execution_count": 66,
   "metadata": {},
   "outputs": [],
   "source": [
    "y_score = clf.predict(X_test)"
   ]
  },
  {
   "cell_type": "code",
   "execution_count": 67,
   "metadata": {},
   "outputs": [
    {
     "data": {
      "text/plain": [
       "(20,)"
      ]
     },
     "execution_count": 67,
     "metadata": {},
     "output_type": "execute_result"
    }
   ],
   "source": [
    "y_score.shape"
   ]
  },
  {
   "cell_type": "code",
   "execution_count": 68,
   "metadata": {},
   "outputs": [
    {
     "name": "stdout",
     "output_type": "stream",
     "text": [
      "Accuracy: 85.00%\n"
     ]
    }
   ],
   "source": [
    "n_right = 0\n",
    "for i in range(len(y_score)):\n",
    "    if y_score.tolist()[i] == y_test.tolist()[i]:\n",
    "        n_right += 1\n",
    "\n",
    "print(\"Accuracy: %.2f%%\" % ((n_right/float(len(y_test)) * 100)))"
   ]
  },
  {
   "cell_type": "code",
   "execution_count": 69,
   "metadata": {},
   "outputs": [
    {
     "name": "stdout",
     "output_type": "stream",
     "text": [
      "             precision    recall  f1-score   support\n",
      "\n",
      "          0       1.00      1.00      1.00         3\n",
      "          1       0.00      0.00      0.00         0\n",
      "          3       0.00      0.00      0.00         1\n",
      "          4       1.00      1.00      1.00         2\n",
      "          5       1.00      1.00      1.00         2\n",
      "          6       0.71      1.00      0.83         5\n",
      "          7       1.00      1.00      1.00         3\n",
      "          8       1.00      0.50      0.67         4\n",
      "\n",
      "avg / total       0.88      0.85      0.84        20\n",
      "\n"
     ]
    },
    {
     "name": "stderr",
     "output_type": "stream",
     "text": [
      "C:\\ProgramData\\Anaconda3\\lib\\site-packages\\sklearn\\metrics\\classification.py:1135: UndefinedMetricWarning: Precision and F-score are ill-defined and being set to 0.0 in labels with no predicted samples.\n",
      "  'precision', 'predicted', average, warn_for)\n",
      "C:\\ProgramData\\Anaconda3\\lib\\site-packages\\sklearn\\metrics\\classification.py:1137: UndefinedMetricWarning: Recall and F-score are ill-defined and being set to 0.0 in labels with no true samples.\n",
      "  'recall', 'true', average, warn_for)\n"
     ]
    }
   ],
   "source": [
    "print(classification_report(y_test.tolist(), y_score.tolist()))"
   ]
  },
  {
   "cell_type": "markdown",
   "metadata": {},
   "source": [
    "### Word Embedding"
   ]
  },
  {
   "cell_type": "code",
   "execution_count": 70,
   "metadata": {},
   "outputs": [],
   "source": [
    "### Create sequence\n",
    "vocabulary_size = XText_CountVectorizer.shape[1]\n",
    "num_of_author = len(df['author_LabelEncoded'].unique())\n",
    "\n",
    "tokenizer = Tokenizer(num_words= vocabulary_size)\n",
    "tokenizer.fit_on_texts(df['text'])\n",
    "sequences = tokenizer.texts_to_sequences(df['text'])\n",
    "data = pad_sequences(sequences, maxlen=5000)"
   ]
  },
  {
   "cell_type": "code",
   "execution_count": 71,
   "metadata": {},
   "outputs": [],
   "source": [
    "X_train, X_test, y_train, y_test = train_test_split(data, np_utils.to_categorical(df['author_LabelEncoded']), random_state = 0)"
   ]
  },
  {
   "cell_type": "code",
   "execution_count": 72,
   "metadata": {},
   "outputs": [
    {
     "name": "stdout",
     "output_type": "stream",
     "text": [
      "Epoch 1/10\n",
      "60/60 [==============================] - 76s 1s/step - loss: 2.1927 - acc: 0.1500\n",
      "Epoch 2/10\n",
      "60/60 [==============================] - 72s 1s/step - loss: 2.0614 - acc: 0.2833\n",
      "Epoch 3/10\n",
      "60/60 [==============================] - 73s 1s/step - loss: 1.8788 - acc: 0.4000\n",
      "Epoch 4/10\n",
      "60/60 [==============================] - 72s 1s/step - loss: 1.6349 - acc: 0.5000\n",
      "Epoch 5/10\n",
      "60/60 [==============================] - 73s 1s/step - loss: 1.3389 - acc: 0.6667\n",
      "Epoch 6/10\n",
      "60/60 [==============================] - 74s 1s/step - loss: 1.0398 - acc: 0.9167\n",
      "Epoch 7/10\n",
      "60/60 [==============================] - 73s 1s/step - loss: 0.7358 - acc: 0.9833\n",
      "Epoch 8/10\n",
      "60/60 [==============================] - 74s 1s/step - loss: 0.5514 - acc: 1.0000\n",
      "Epoch 9/10\n",
      "60/60 [==============================] - 73s 1s/step - loss: 0.4004 - acc: 0.9667\n",
      "Epoch 10/10\n",
      "60/60 [==============================] - 73s 1s/step - loss: 0.3134 - acc: 0.9667\n"
     ]
    },
    {
     "data": {
      "text/plain": [
       "<keras.callbacks.History at 0x38f21e10>"
      ]
     },
     "execution_count": 72,
     "metadata": {},
     "output_type": "execute_result"
    }
   ],
   "source": [
    "model = Sequential()\n",
    "model.add(Embedding(vocabulary_size, 256, input_length = data.shape[1]))\n",
    "model.add(LSTM(128, dropout=0.2, recurrent_dropout=0.2))\n",
    "model.add(Dense(num_of_author, activation='softmax'))\n",
    "model.compile(loss='categorical_crossentropy', optimizer='adam', metrics=['accuracy'])\n",
    "\n",
    "model.fit(X_train, y_train, epochs=10, batch_size=5)"
   ]
  },
  {
   "cell_type": "code",
   "execution_count": 73,
   "metadata": {},
   "outputs": [
    {
     "name": "stdout",
     "output_type": "stream",
     "text": [
      "Accuracy: 25.00%\n"
     ]
    }
   ],
   "source": [
    "y_score = model.predict(X_test)\n",
    "y_score = [[1 if i == max(sc) else 0 for i in sc] for sc in y_score]\n",
    "n_right = 0\n",
    "for i in range(len(y_score)):\n",
    "    if all(y_score[i][j] == np.array(y_test)[i][j] for j in range(len(y_score[i]))):\n",
    "        n_right += 1\n",
    "\n",
    "print(\"Accuracy: %.2f%%\" % ((n_right/float(len(y_test)) * 100)))"
   ]
  },
  {
   "cell_type": "code",
   "execution_count": null,
   "metadata": {},
   "outputs": [],
   "source": []
  }
 ],
 "metadata": {
  "kernelspec": {
   "display_name": "Python 3",
   "language": "python",
   "name": "python3"
  },
  "language_info": {
   "codemirror_mode": {
    "name": "ipython",
    "version": 3
   },
   "file_extension": ".py",
   "mimetype": "text/x-python",
   "name": "python",
   "nbconvert_exporter": "python",
   "pygments_lexer": "ipython3",
   "version": "3.6.5"
  }
 },
 "nbformat": 4,
 "nbformat_minor": 2
}
