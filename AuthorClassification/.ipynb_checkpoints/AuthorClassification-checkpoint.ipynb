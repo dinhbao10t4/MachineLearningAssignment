{
 "cells": [
  {
   "cell_type": "code",
   "execution_count": 127,
   "metadata": {},
   "outputs": [],
   "source": [
    "from nltk.corpus import gutenberg, stopwords\n",
    "import nltk\n",
    "# Keras\n",
    "from keras.preprocessing.text import Tokenizer\n",
    "from keras.preprocessing.sequence import pad_sequences\n",
    "from keras.models import Sequential\n",
    "from keras.layers import Dense, Flatten, LSTM, Conv1D, MaxPooling1D, Dropout, Activation\n",
    "from keras.layers.embeddings import Embedding\n",
    "# Others\n",
    "import string\n",
    "import numpy as np\n",
    "import pandas as pd\n",
    "\n",
    "from sklearn.manifold import TSNE\n",
    "from sklearn.feature_extraction.text import TfidfTransformer\n",
    "from sklearn.feature_extraction.text import TfidfVectorizer\n",
    "from sklearn.naive_bayes import MultinomialNB\n",
    "from sklearn.svm import SVC\n",
    "from sklearn.metrics import classification_report\n",
    "import re"
   ]
  },
  {
   "cell_type": "code",
   "execution_count": 128,
   "metadata": {},
   "outputs": [
    {
     "data": {
      "text/plain": [
       "['austen-emma.txt',\n",
       " 'austen-persuasion.txt',\n",
       " 'austen-sense.txt',\n",
       " 'bible-kjv.txt',\n",
       " 'blake-poems.txt',\n",
       " 'bryant-stories.txt',\n",
       " 'burgess-busterbrown.txt',\n",
       " 'carroll-alice.txt',\n",
       " 'chesterton-ball.txt',\n",
       " 'chesterton-brown.txt',\n",
       " 'chesterton-thursday.txt',\n",
       " 'edgeworth-parents.txt',\n",
       " 'melville-moby_dick.txt',\n",
       " 'milton-paradise.txt',\n",
       " 'shakespeare-caesar.txt',\n",
       " 'shakespeare-hamlet.txt',\n",
       " 'shakespeare-macbeth.txt',\n",
       " 'whitman-leaves.txt']"
      ]
     },
     "execution_count": 128,
     "metadata": {},
     "output_type": "execute_result"
    }
   ],
   "source": [
    "gutenberg.fileids()"
   ]
  },
  {
   "cell_type": "code",
   "execution_count": 129,
   "metadata": {},
   "outputs": [],
   "source": [
    "# for fileid in gutenberg.fileids():\n",
    "#     num_chars = len(gutenberg.raw(fileid)) # Tính số lượng ký tự\n",
    "#     num_words = len(gutenberg.words(fileid)) # Tính số lượng từ đơn\n",
    "#     num_sents = len(gutenberg.sents(fileid)) # Tính số lượng câu.\n",
    "#     num_vocab = len(set([w.lower() for w in gutenberg.words(fileid)])) # Tính số lượng từ vựng trong văn bản\n",
    "#     print(int(num_chars / num_words), int(num_words / num_sents), int(num_words / num_vocab), fileid)\n"
   ]
  },
  {
   "cell_type": "code",
   "execution_count": 130,
   "metadata": {},
   "outputs": [],
   "source": [
    "list_of_lists = [\n",
    "    ['austen', 'austen-emma.txt'],\n",
    "    ['bible', 'bible-kjv.txt'],\n",
    "    ['blake', 'blake-poems.txt'],\n",
    "    ['bryant', 'bryant-stories.txt'],\n",
    "    ['burgess', 'burgess-busterbrown.txt'],\n",
    "    ['carroll', 'carroll-alice.txt'],\n",
    "    ['chesterton', 'chesterton-ball.txt'],\n",
    "    ['edgeworth', 'edgeworth-parents.txt'],\n",
    "    ['melville', 'melville-moby_dick.txt'],\n",
    "    ['shakespeare', 'shakespeare-hamlet.txt'],\n",
    "    ['austen', 'austen-persuasion.txt'],\n",
    "    ['chesterton', 'chesterton-brown.txt'],\n",
    "    ['shakespeare', 'shakespeare-macbeth.txt']\n",
    "]\n",
    "\n",
    "# columns\n",
    "columns = ['author', 'file_name']\n",
    "\n",
    "df = pd.DataFrame(list_of_lists, columns=columns)\n",
    "df['text'] = ''"
   ]
  },
  {
   "cell_type": "code",
   "execution_count": 131,
   "metadata": {},
   "outputs": [
    {
     "data": {
      "text/html": [
       "<div>\n",
       "<style scoped>\n",
       "    .dataframe tbody tr th:only-of-type {\n",
       "        vertical-align: middle;\n",
       "    }\n",
       "\n",
       "    .dataframe tbody tr th {\n",
       "        vertical-align: top;\n",
       "    }\n",
       "\n",
       "    .dataframe thead th {\n",
       "        text-align: right;\n",
       "    }\n",
       "</style>\n",
       "<table border=\"1\" class=\"dataframe\">\n",
       "  <thead>\n",
       "    <tr style=\"text-align: right;\">\n",
       "      <th></th>\n",
       "      <th>author</th>\n",
       "      <th>file_name</th>\n",
       "      <th>text</th>\n",
       "    </tr>\n",
       "  </thead>\n",
       "  <tbody>\n",
       "    <tr>\n",
       "      <th>0</th>\n",
       "      <td>austen</td>\n",
       "      <td>austen-emma.txt</td>\n",
       "      <td></td>\n",
       "    </tr>\n",
       "    <tr>\n",
       "      <th>1</th>\n",
       "      <td>bible</td>\n",
       "      <td>bible-kjv.txt</td>\n",
       "      <td></td>\n",
       "    </tr>\n",
       "    <tr>\n",
       "      <th>2</th>\n",
       "      <td>blake</td>\n",
       "      <td>blake-poems.txt</td>\n",
       "      <td></td>\n",
       "    </tr>\n",
       "    <tr>\n",
       "      <th>3</th>\n",
       "      <td>bryant</td>\n",
       "      <td>bryant-stories.txt</td>\n",
       "      <td></td>\n",
       "    </tr>\n",
       "    <tr>\n",
       "      <th>4</th>\n",
       "      <td>burgess</td>\n",
       "      <td>burgess-busterbrown.txt</td>\n",
       "      <td></td>\n",
       "    </tr>\n",
       "  </tbody>\n",
       "</table>\n",
       "</div>"
      ],
      "text/plain": [
       "    author                file_name text\n",
       "0   austen          austen-emma.txt     \n",
       "1    bible            bible-kjv.txt     \n",
       "2    blake          blake-poems.txt     \n",
       "3   bryant       bryant-stories.txt     \n",
       "4  burgess  burgess-busterbrown.txt     "
      ]
     },
     "execution_count": 131,
     "metadata": {},
     "output_type": "execute_result"
    }
   ],
   "source": [
    "df.head()"
   ]
  },
  {
   "cell_type": "code",
   "execution_count": 132,
   "metadata": {},
   "outputs": [],
   "source": [
    "def get_data_of_file(row):\n",
    "    file_name = row.file_name\n",
    "    text = gutenberg.raw(file_name)\n",
    "    i = text.index('\\n')\n",
    "    text = (text[i:]).lower()\n",
    "    text = re.sub(r\"[^A-Za-z0-9^,!.\\/'+-=]\", \" \", text)\n",
    "    text = re.sub(r\"what's\", \"what is \", text)\n",
    "    text = re.sub(r\"\\'s\", \" \", text)\n",
    "    text = re.sub(r\"\\'ve\", \" have \", text)\n",
    "    text = re.sub(r\"n't\", \" not \", text)\n",
    "    text = re.sub(r\"i'm\", \"i am \", text)\n",
    "    text = re.sub(r\"\\'re\", \" are \", text)\n",
    "    text = re.sub(r\"\\'d\", \" would \", text)\n",
    "    text = re.sub(r\"\\'ll\", \" will \", text)\n",
    "    text = re.sub(r\",\", \" \", text)\n",
    "    text = re.sub(r\"\\.\", \" \", text)\n",
    "    text = re.sub(r\"!\", \" ! \", text)\n",
    "    text = re.sub(r\"\\/\", \" \", text)\n",
    "    text = re.sub(r\"\\^\", \" ^ \", text)\n",
    "    text = re.sub(r\"\\+\", \" + \", text)\n",
    "    text = re.sub(r\"\\-\", \" - \", text)\n",
    "    text = re.sub(r\"\\=\", \" = \", text)\n",
    "    text = re.sub(r\"'\", \" \", text)\n",
    "    text = re.sub(r\"(\\d+)(k)\", r\"\\g<1>000\", text)\n",
    "    text = re.sub(r\":\", \" : \", text)\n",
    "    text = re.sub(r\" e g \", \" eg \", text)\n",
    "    text = re.sub(r\" b g \", \" bg \", text)\n",
    "    text = re.sub(r\" u s \", \" american \", text)\n",
    "    text = re.sub(r\"\\0s\", \"0\", text)\n",
    "    text = re.sub(r\" 9 11 \", \"911\", text)\n",
    "    text = re.sub(r\"e - mail\", \"email\", text)\n",
    "    text = re.sub(r\"j k\", \"jk\", text)\n",
    "    text = re.sub(r\"\\s{2,}\", \" \", text)\n",
    "    \n",
    "    row['text'] = text\n",
    "    return row\n",
    "df = df.apply(get_data_of_file, axis=1)"
   ]
  },
  {
   "cell_type": "code",
   "execution_count": 133,
   "metadata": {},
   "outputs": [
    {
     "data": {
      "text/html": [
       "<div>\n",
       "<style scoped>\n",
       "    .dataframe tbody tr th:only-of-type {\n",
       "        vertical-align: middle;\n",
       "    }\n",
       "\n",
       "    .dataframe tbody tr th {\n",
       "        vertical-align: top;\n",
       "    }\n",
       "\n",
       "    .dataframe thead th {\n",
       "        text-align: right;\n",
       "    }\n",
       "</style>\n",
       "<table border=\"1\" class=\"dataframe\">\n",
       "  <thead>\n",
       "    <tr style=\"text-align: right;\">\n",
       "      <th></th>\n",
       "      <th>author</th>\n",
       "      <th>file_name</th>\n",
       "      <th>text</th>\n",
       "    </tr>\n",
       "  </thead>\n",
       "  <tbody>\n",
       "    <tr>\n",
       "      <th>0</th>\n",
       "      <td>austen</td>\n",
       "      <td>austen-emma.txt</td>\n",
       "      <td>volume i chapter i emma woodhouse handsome cl...</td>\n",
       "    </tr>\n",
       "    <tr>\n",
       "      <th>1</th>\n",
       "      <td>bible</td>\n",
       "      <td>bible-kjv.txt</td>\n",
       "      <td>the old testament of the king james bible the...</td>\n",
       "    </tr>\n",
       "    <tr>\n",
       "      <th>2</th>\n",
       "      <td>blake</td>\n",
       "      <td>blake-poems.txt</td>\n",
       "      <td>songs of innocence and of experience and the ...</td>\n",
       "    </tr>\n",
       "    <tr>\n",
       "      <th>3</th>\n",
       "      <td>bryant</td>\n",
       "      <td>bryant-stories.txt</td>\n",
       "      <td>two little riddles in rhyme there a garden th...</td>\n",
       "    </tr>\n",
       "    <tr>\n",
       "      <th>4</th>\n",
       "      <td>burgess</td>\n",
       "      <td>burgess-busterbrown.txt</td>\n",
       "      <td>i buster bear goes fishing buster bear yawned...</td>\n",
       "    </tr>\n",
       "  </tbody>\n",
       "</table>\n",
       "</div>"
      ],
      "text/plain": [
       "    author                file_name  \\\n",
       "0   austen          austen-emma.txt   \n",
       "1    bible            bible-kjv.txt   \n",
       "2    blake          blake-poems.txt   \n",
       "3   bryant       bryant-stories.txt   \n",
       "4  burgess  burgess-busterbrown.txt   \n",
       "\n",
       "                                                text  \n",
       "0   volume i chapter i emma woodhouse handsome cl...  \n",
       "1   the old testament of the king james bible the...  \n",
       "2   songs of innocence and of experience and the ...  \n",
       "3   two little riddles in rhyme there a garden th...  \n",
       "4   i buster bear goes fishing buster bear yawned...  "
      ]
     },
     "execution_count": 133,
     "metadata": {},
     "output_type": "execute_result"
    }
   ],
   "source": [
    "df.head()"
   ]
  },
  {
   "cell_type": "code",
   "execution_count": 134,
   "metadata": {},
   "outputs": [],
   "source": [
    "le = LabelEncoder()\n",
    "df['author_LabelEncoded'] = le.fit_transform(df.author)"
   ]
  },
  {
   "cell_type": "code",
   "execution_count": 137,
   "metadata": {},
   "outputs": [
    {
     "data": {
      "text/html": [
       "<div>\n",
       "<style scoped>\n",
       "    .dataframe tbody tr th:only-of-type {\n",
       "        vertical-align: middle;\n",
       "    }\n",
       "\n",
       "    .dataframe tbody tr th {\n",
       "        vertical-align: top;\n",
       "    }\n",
       "\n",
       "    .dataframe thead th {\n",
       "        text-align: right;\n",
       "    }\n",
       "</style>\n",
       "<table border=\"1\" class=\"dataframe\">\n",
       "  <thead>\n",
       "    <tr style=\"text-align: right;\">\n",
       "      <th></th>\n",
       "      <th>author</th>\n",
       "      <th>file_name</th>\n",
       "      <th>text</th>\n",
       "      <th>author_LabelEncoded</th>\n",
       "    </tr>\n",
       "  </thead>\n",
       "  <tbody>\n",
       "    <tr>\n",
       "      <th>0</th>\n",
       "      <td>austen</td>\n",
       "      <td>austen-emma.txt</td>\n",
       "      <td>volume i chapter i emma woodhouse handsome cl...</td>\n",
       "      <td>0</td>\n",
       "    </tr>\n",
       "    <tr>\n",
       "      <th>1</th>\n",
       "      <td>bible</td>\n",
       "      <td>bible-kjv.txt</td>\n",
       "      <td>the old testament of the king james bible the...</td>\n",
       "      <td>1</td>\n",
       "    </tr>\n",
       "    <tr>\n",
       "      <th>2</th>\n",
       "      <td>blake</td>\n",
       "      <td>blake-poems.txt</td>\n",
       "      <td>songs of innocence and of experience and the ...</td>\n",
       "      <td>2</td>\n",
       "    </tr>\n",
       "    <tr>\n",
       "      <th>3</th>\n",
       "      <td>bryant</td>\n",
       "      <td>bryant-stories.txt</td>\n",
       "      <td>two little riddles in rhyme there a garden th...</td>\n",
       "      <td>3</td>\n",
       "    </tr>\n",
       "    <tr>\n",
       "      <th>4</th>\n",
       "      <td>burgess</td>\n",
       "      <td>burgess-busterbrown.txt</td>\n",
       "      <td>i buster bear goes fishing buster bear yawned...</td>\n",
       "      <td>4</td>\n",
       "    </tr>\n",
       "    <tr>\n",
       "      <th>5</th>\n",
       "      <td>carroll</td>\n",
       "      <td>carroll-alice.txt</td>\n",
       "      <td>chapter i down the rabbit - hole alice was be...</td>\n",
       "      <td>5</td>\n",
       "    </tr>\n",
       "    <tr>\n",
       "      <th>6</th>\n",
       "      <td>chesterton</td>\n",
       "      <td>chesterton-ball.txt</td>\n",
       "      <td>i a discussion somewhat in the air the flying...</td>\n",
       "      <td>6</td>\n",
       "    </tr>\n",
       "    <tr>\n",
       "      <th>7</th>\n",
       "      <td>edgeworth</td>\n",
       "      <td>edgeworth-parents.txt</td>\n",
       "      <td>the orphans near the ruins of the castle of r...</td>\n",
       "      <td>7</td>\n",
       "    </tr>\n",
       "    <tr>\n",
       "      <th>8</th>\n",
       "      <td>melville</td>\n",
       "      <td>melville-moby_dick.txt</td>\n",
       "      <td>etymology supplied by a late consumptive ushe...</td>\n",
       "      <td>8</td>\n",
       "    </tr>\n",
       "    <tr>\n",
       "      <th>9</th>\n",
       "      <td>shakespeare</td>\n",
       "      <td>shakespeare-hamlet.txt</td>\n",
       "      <td>actus primus scoena prima enter barnardo and ...</td>\n",
       "      <td>9</td>\n",
       "    </tr>\n",
       "    <tr>\n",
       "      <th>10</th>\n",
       "      <td>austen</td>\n",
       "      <td>austen-persuasion.txt</td>\n",
       "      <td>chapter 1 sir walter elliot of kellynch hall ...</td>\n",
       "      <td>0</td>\n",
       "    </tr>\n",
       "    <tr>\n",
       "      <th>11</th>\n",
       "      <td>chesterton</td>\n",
       "      <td>chesterton-brown.txt</td>\n",
       "      <td>i the absence of mr glass the consulting - ro...</td>\n",
       "      <td>6</td>\n",
       "    </tr>\n",
       "    <tr>\n",
       "      <th>12</th>\n",
       "      <td>shakespeare</td>\n",
       "      <td>shakespeare-macbeth.txt</td>\n",
       "      <td>actus primus scoena prima thunder and lightni...</td>\n",
       "      <td>9</td>\n",
       "    </tr>\n",
       "  </tbody>\n",
       "</table>\n",
       "</div>"
      ],
      "text/plain": [
       "         author                file_name  \\\n",
       "0        austen          austen-emma.txt   \n",
       "1         bible            bible-kjv.txt   \n",
       "2         blake          blake-poems.txt   \n",
       "3        bryant       bryant-stories.txt   \n",
       "4       burgess  burgess-busterbrown.txt   \n",
       "5       carroll        carroll-alice.txt   \n",
       "6    chesterton      chesterton-ball.txt   \n",
       "7     edgeworth    edgeworth-parents.txt   \n",
       "8      melville   melville-moby_dick.txt   \n",
       "9   shakespeare   shakespeare-hamlet.txt   \n",
       "10       austen    austen-persuasion.txt   \n",
       "11   chesterton     chesterton-brown.txt   \n",
       "12  shakespeare  shakespeare-macbeth.txt   \n",
       "\n",
       "                                                 text  author_LabelEncoded  \n",
       "0    volume i chapter i emma woodhouse handsome cl...                    0  \n",
       "1    the old testament of the king james bible the...                    1  \n",
       "2    songs of innocence and of experience and the ...                    2  \n",
       "3    two little riddles in rhyme there a garden th...                    3  \n",
       "4    i buster bear goes fishing buster bear yawned...                    4  \n",
       "5    chapter i down the rabbit - hole alice was be...                    5  \n",
       "6    i a discussion somewhat in the air the flying...                    6  \n",
       "7    the orphans near the ruins of the castle of r...                    7  \n",
       "8    etymology supplied by a late consumptive ushe...                    8  \n",
       "9    actus primus scoena prima enter barnardo and ...                    9  \n",
       "10   chapter 1 sir walter elliot of kellynch hall ...                    0  \n",
       "11   i the absence of mr glass the consulting - ro...                    6  \n",
       "12   actus primus scoena prima thunder and lightni...                    9  "
      ]
     },
     "execution_count": 137,
     "metadata": {},
     "output_type": "execute_result"
    }
   ],
   "source": [
    "df.head(15)"
   ]
  },
  {
   "cell_type": "code",
   "execution_count": 138,
   "metadata": {},
   "outputs": [],
   "source": [
    "vectorizer = TfidfVectorizer(sublinear_tf=True, use_idf =True, lowercase=True, strip_accents='ascii', stop_words = 'english')"
   ]
  },
  {
   "cell_type": "code",
   "execution_count": 139,
   "metadata": {},
   "outputs": [],
   "source": [
    "XText_tfidf = vectorizer.fit_transform(df['text'])"
   ]
  },
  {
   "cell_type": "code",
   "execution_count": 140,
   "metadata": {},
   "outputs": [
    {
     "data": {
      "text/plain": [
       "(13, 35113)"
      ]
     },
     "execution_count": 140,
     "metadata": {},
     "output_type": "execute_result"
    }
   ],
   "source": [
    "XText_tfidf.shape"
   ]
  },
  {
   "cell_type": "code",
   "execution_count": 143,
   "metadata": {},
   "outputs": [],
   "source": [
    "X_train = XText_tfidf[0:10]\n",
    "y_train = df.author_LabelEncoded[0:10]\n",
    "X_test = XText_tfidf[10:13]\n",
    "y_test = df.author_LabelEncoded[10:13]"
   ]
  },
  {
   "cell_type": "code",
   "execution_count": 144,
   "metadata": {},
   "outputs": [],
   "source": [
    "clf = MultinomialNB().fit(X_train, y_train)"
   ]
  },
  {
   "cell_type": "code",
   "execution_count": 145,
   "metadata": {},
   "outputs": [],
   "source": [
    "y_score = clf.predict(X_test)"
   ]
  },
  {
   "cell_type": "code",
   "execution_count": 147,
   "metadata": {},
   "outputs": [
    {
     "name": "stdout",
     "output_type": "stream",
     "text": [
      "Accuracy: 100.00%\n"
     ]
    }
   ],
   "source": [
    "n_right = 0\n",
    "for i in range(len(y_score)):\n",
    "    if y_score.tolist()[i] == y_test.tolist()[i]:\n",
    "        n_right += 1\n",
    "\n",
    "print(\"Accuracy: %.2f%%\" % ((n_right/float(len(y_test)) * 100)))"
   ]
  },
  {
   "cell_type": "code",
   "execution_count": 148,
   "metadata": {},
   "outputs": [
    {
     "name": "stdout",
     "output_type": "stream",
     "text": [
      "             precision    recall  f1-score   support\n",
      "\n",
      "          0       1.00      1.00      1.00         1\n",
      "          6       1.00      1.00      1.00         1\n",
      "          9       1.00      1.00      1.00         1\n",
      "\n",
      "avg / total       1.00      1.00      1.00         3\n",
      "\n"
     ]
    }
   ],
   "source": [
    "print(classification_report(y_test, y_score))"
   ]
  },
  {
   "cell_type": "code",
   "execution_count": 89,
   "metadata": {},
   "outputs": [],
   "source": [
    "clf = SVC(kernel='linear').fit(X_train, y_train)"
   ]
  },
  {
   "cell_type": "code",
   "execution_count": 90,
   "metadata": {},
   "outputs": [],
   "source": [
    "y_score = clf.predict(X_test)"
   ]
  },
  {
   "cell_type": "code",
   "execution_count": 91,
   "metadata": {},
   "outputs": [
    {
     "name": "stdout",
     "output_type": "stream",
     "text": [
      "Accuracy: 100.00%\n"
     ]
    }
   ],
   "source": [
    "n_right = 0\n",
    "for i in range(len(y_score)):\n",
    "    if y_score.tolist()[i] == y_test.tolist()[i]:\n",
    "        n_right += 1\n",
    "\n",
    "print(\"Accuracy: %.2f%%\" % ((n_right/float(len(y_test)) * 100)))"
   ]
  },
  {
   "cell_type": "code",
   "execution_count": 93,
   "metadata": {},
   "outputs": [
    {
     "name": "stdout",
     "output_type": "stream",
     "text": [
      "             precision    recall  f1-score   support\n",
      "\n",
      "          0       1.00      1.00      1.00         1\n",
      "          6       1.00      1.00      1.00         1\n",
      "          9       1.00      1.00      1.00         1\n",
      "\n",
      "avg / total       1.00      1.00      1.00         3\n",
      "\n"
     ]
    }
   ],
   "source": [
    "print(classification_report(y_test, y_score))"
   ]
  },
  {
   "cell_type": "code",
   "execution_count": 156,
   "metadata": {},
   "outputs": [],
   "source": [
    "### Create sequence\n",
    "vocabulary_size = 50000\n",
    "tokenizer = Tokenizer(num_words= vocabulary_size)\n",
    "tokenizer.fit_on_texts(df['text'])\n",
    "sequences = tokenizer.texts_to_sequences(df['text'])\n",
    "data = pad_sequences(sequences, maxlen=1000)"
   ]
  },
  {
   "cell_type": "code",
   "execution_count": 157,
   "metadata": {},
   "outputs": [],
   "source": [
    "s_dummies = pd.get_dummies(df.author)\n",
    "X_train = data[0:10]\n",
    "y_train = s_dummies[0:10]\n",
    "X_test = data[10:13]\n",
    "y_test = s_dummies[10:13]"
   ]
  },
  {
   "cell_type": "code",
   "execution_count": 158,
   "metadata": {},
   "outputs": [
    {
     "name": "stdout",
     "output_type": "stream",
     "text": [
      "Epoch 1/10\n",
      "10/10 [==============================] - 3s 281ms/step - loss: 2.3013 - acc: 0.1000\n",
      "Epoch 2/10\n",
      "10/10 [==============================] - 1s 100ms/step - loss: 2.2934 - acc: 0.3000\n",
      "Epoch 3/10\n",
      "10/10 [==============================] - 1s 98ms/step - loss: 2.2816 - acc: 0.7000\n",
      "Epoch 4/10\n",
      "10/10 [==============================] - 1s 100ms/step - loss: 2.2752 - acc: 0.9000\n",
      "Epoch 5/10\n",
      "10/10 [==============================] - 1s 98ms/step - loss: 2.2621 - acc: 0.9000\n",
      "Epoch 6/10\n",
      "10/10 [==============================] - 1s 98ms/step - loss: 2.2564 - acc: 1.0000\n",
      "Epoch 7/10\n",
      "10/10 [==============================] - 1s 108ms/step - loss: 2.2420 - acc: 1.0000\n",
      "Epoch 8/10\n",
      "10/10 [==============================] - 1s 99ms/step - loss: 2.2325 - acc: 1.0000\n",
      "Epoch 9/10\n",
      "10/10 [==============================] - 1s 111ms/step - loss: 2.2228 - acc: 1.0000\n",
      "Epoch 10/10\n",
      "10/10 [==============================] - 1s 100ms/step - loss: 2.2064 - acc: 1.0000\n"
     ]
    },
    {
     "data": {
      "text/plain": [
       "<keras.callbacks.History at 0x11afbf60>"
      ]
     },
     "execution_count": 158,
     "metadata": {},
     "output_type": "execute_result"
    }
   ],
   "source": [
    "model = Sequential()\n",
    "model.add(Embedding(50000, 100, input_length=1000))\n",
    "model.add(LSTM(100, dropout=0.2, recurrent_dropout=0.2))\n",
    "model.add(Dense(10, activation='softmax'))\n",
    "model.compile(loss='categorical_crossentropy', optimizer='adam', metrics=['accuracy'])\n",
    "\n",
    "model.fit(X_train, y_train, epochs=10, batch_size=64)"
   ]
  },
  {
   "cell_type": "code",
   "execution_count": 159,
   "metadata": {},
   "outputs": [
    {
     "name": "stdout",
     "output_type": "stream",
     "text": [
      "Accuracy: 33.33%\n"
     ]
    }
   ],
   "source": [
    "y_score = model.predict(X_test)\n",
    "y_score = [[1 if i == max(sc) else 0 for i in sc] for sc in y_score]\n",
    "n_right = 0\n",
    "for i in range(len(y_score)):\n",
    "    if all(y_score[i][j] == np.array(y_test)[i][j] for j in range(len(y_score[i]))):\n",
    "        n_right += 1\n",
    "\n",
    "print(\"Accuracy: %.2f%%\" % ((n_right/float(len(y_test)) * 100)))"
   ]
  },
  {
   "cell_type": "code",
   "execution_count": null,
   "metadata": {},
   "outputs": [],
   "source": []
  }
 ],
 "metadata": {
  "kernelspec": {
   "display_name": "Python 3",
   "language": "python",
   "name": "python3"
  },
  "language_info": {
   "codemirror_mode": {
    "name": "ipython",
    "version": 3
   },
   "file_extension": ".py",
   "mimetype": "text/x-python",
   "name": "python",
   "nbconvert_exporter": "python",
   "pygments_lexer": "ipython3",
   "version": "3.6.5"
  }
 },
 "nbformat": 4,
 "nbformat_minor": 2
}
